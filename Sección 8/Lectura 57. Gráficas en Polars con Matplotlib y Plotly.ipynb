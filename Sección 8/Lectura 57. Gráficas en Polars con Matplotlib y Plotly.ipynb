{
 "cells": [
  {
   "cell_type": "markdown",
   "id": "0b0f665e-7997-4ef1-8a2d-0df665fd841b",
   "metadata": {},
   "source": [
    "# Lectura 57: Gráficas en Polars con Matplotlib y Plotly"
   ]
  },
  {
   "cell_type": "code",
   "execution_count": null,
   "id": "ec6a0ffc-a279-41aa-8edb-e6b10e26efd2",
   "metadata": {
    "tags": []
   },
   "outputs": [],
   "source": [
    "import polars as pl\n",
    "from polars import col\n",
    "\n",
    "vuelos_lf = pl.scan_parquet('./data/vuelos/vuelos.parquet')\n",
    "\n",
    "aerolinea_vs_tiempo_aire = vuelos_lf.group_by('AIRLINE').agg(\n",
    "    AVG_AIR_TIME=col('AIR_TIME').mean()\n",
    ").collect()\n",
    "\n",
    "departure_delay_AA = (vuelos_lf.collect()\n",
    "    .pivot(\n",
    "        index='AIRLINE',\n",
    "        columns='MONTH',\n",
    "        values='DEPARTURE_DELAY',\n",
    "        aggregate_function='mean'\n",
    "    )\n",
    "    .filter(col('AIRLINE') == 'AA')\n",
    "    .transpose(column_names=['AVG_DEPARTURE_DELAY'])[1:]\n",
    "    .with_row_index(offset=1)\n",
    "    .select(\n",
    "        col('index'),\n",
    "        col('AVG_DEPARTURE_DELAY').cast(pl.Float64)\n",
    "    )\n",
    ")"
   ]
  },
  {
   "cell_type": "markdown",
   "id": "7eac0918-b6da-4004-8eb2-65a18444e2ec",
   "metadata": {},
   "source": [
    "# Matplotlib\n",
    "\n",
    "Veamos a continuación como podemos crear un gráfico de barras. Podemos pasar columnas de un `DataFrame` directamente a Matplotlib como una serie para cada columna. Matplotlib no tiene soporte explícito para objetos Polars, pero Matplotlib puede aceptar una serie de Polars porque puede convertir cada serie en un array de numpy."
   ]
  },
  {
   "cell_type": "code",
   "execution_count": null,
   "id": "733a8d43-7d41-449e-a681-000232cb97aa",
   "metadata": {
    "tags": []
   },
   "outputs": [],
   "source": [
    "import matplotlib.pyplot as plt\n",
    "\n",
    "plt.bar(\n",
    "    x=aerolinea_vs_tiempo_aire['AIRLINE'],\n",
    "    height=aerolinea_vs_tiempo_aire['AVG_AIR_TIME']\n",
    ")\n",
    "\n",
    "plt.xlabel('Aerolínea')\n",
    "plt.ylabel('Promedio tiempo en el aire')\n",
    "plt.title('Promedio de tiempo en el aire por aerolínea')"
   ]
  },
  {
   "cell_type": "markdown",
   "id": "ff25c04e-a9a0-497f-80c0-bab50fed43ff",
   "metadata": {
    "tags": []
   },
   "source": [
    "Veamos otro ejemplo donde graficaremos el promedio de los retrasos en las salidas de los vuelos por mes en la aerolínea American Airlines."
   ]
  },
  {
   "cell_type": "code",
   "execution_count": null,
   "id": "8bd00a89-2d6c-4302-b8d8-96b5c63cf552",
   "metadata": {
    "tags": []
   },
   "outputs": [],
   "source": [
    "plt.plot(\n",
    "    departure_delay_AA['index'],\n",
    "    departure_delay_AA['AVG_DEPARTURE_DELAY'],\n",
    "    'D-r'\n",
    ")\n",
    "\n",
    "plt.xlabel('MES')\n",
    "plt.ylabel('Promedio de retrasos en salidas')\n",
    "plt.title('Promedio de retrasos en salidas American Airline')"
   ]
  },
  {
   "cell_type": "markdown",
   "id": "ffb5a062-8007-47b8-b1eb-5c87e3b166d5",
   "metadata": {},
   "source": [
    "## Plotly\n",
    "\n",
    "Plotly puede aceptar un DataFrame de Polars aprovechando el protocolo de intercambio de dataframes, el cual ofrece conversión sin copia siempre que sea posible."
   ]
  },
  {
   "cell_type": "code",
   "execution_count": null,
   "id": "9fb63e07-2dae-46b8-a1e4-e1ebc9bde825",
   "metadata": {},
   "outputs": [],
   "source": [
    "import plotly.express as px"
   ]
  },
  {
   "cell_type": "code",
   "execution_count": null,
   "id": "298b5d5a-c9df-4551-9605-50d8feb9d7be",
   "metadata": {
    "tags": []
   },
   "outputs": [],
   "source": [
    "px.bar(\n",
    "    aerolinea_vs_tiempo_aire,\n",
    "    x='AIRLINE',\n",
    "    y='AVG_AIR_TIME'\n",
    ")"
   ]
  },
  {
   "cell_type": "markdown",
   "id": "27ab31ba-d2a8-4339-bcb4-308152878391",
   "metadata": {},
   "source": [
    "Realicemos otro ejemplo más y esta vez vamos a personalizar un poco más el gráfico agregándole un título y definiendo marcadores para los puntos."
   ]
  },
  {
   "cell_type": "code",
   "execution_count": null,
   "id": "e17f0e60-b49e-491c-b826-95d84aeeb9de",
   "metadata": {
    "tags": []
   },
   "outputs": [],
   "source": [
    "px.line(\n",
    "    aerolinea_vs_tiempo_aire,\n",
    "    x='AIRLINE',\n",
    "    y='AVG_AIR_TIME',\n",
    "    markers=True,\n",
    "    title='Promedio de retrasos en salidas American Airline'\n",
    ")"
   ]
  }
 ],
 "metadata": {
  "kernelspec": {
   "display_name": "Python 3 (ipykernel)",
   "language": "python",
   "name": "python3"
  },
  "language_info": {
   "codemirror_mode": {
    "name": "ipython",
    "version": 3
   },
   "file_extension": ".py",
   "mimetype": "text/x-python",
   "name": "python",
   "nbconvert_exporter": "python",
   "pygments_lexer": "ipython3",
   "version": "3.9.6"
  }
 },
 "nbformat": 4,
 "nbformat_minor": 5
}
