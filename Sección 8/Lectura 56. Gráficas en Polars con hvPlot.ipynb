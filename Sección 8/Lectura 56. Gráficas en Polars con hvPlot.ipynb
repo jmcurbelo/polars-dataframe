{
 "cells": [
  {
   "cell_type": "markdown",
   "id": "fcc3cf3d-a7a0-41a5-8850-e5fd33c91c8f",
   "metadata": {},
   "source": [
    "# Lectura 56: Gráficas en Polars con hvPlot"
   ]
  },
  {
   "cell_type": "markdown",
   "id": "7324fbca-ab74-457f-8822-adcb828facc4",
   "metadata": {},
   "source": [
    "## Gráficas\n",
    "\n",
    "Los datos de un `DataFrame` de Polars se pueden visualizar utilizando las librerías de visualización comunes como hvPlot, Matplotlib, Seaborn o Plotly por poner algunos ejemplos.\n",
    "\n",
    "Polars tiene un método `plot` que nos permite crear gráficos interactivos utilizando la librería `hvPlot`. Lo primero que deberemos realizar para poder crear las gráficas que a continuación mostraremos y muchas otras que esta librería nos permite realizar, es instalar esta librería con `pip install hvplot`."
   ]
  },
  {
   "cell_type": "code",
   "execution_count": null,
   "id": "100a04fc-3eff-4070-a376-ed6ecc48c69f",
   "metadata": {},
   "outputs": [],
   "source": [
    "# Descomentar y ejecutar la siguiente línea si no se tiene instalada la librería hvPlot\n",
    "# !pip install hvplot "
   ]
  },
  {
   "cell_type": "code",
   "execution_count": null,
   "id": "31482cb9-17cc-4421-9a90-79ad875dc544",
   "metadata": {
    "tags": []
   },
   "outputs": [],
   "source": [
    "import polars as pl\n",
    "from polars import col\n",
    "\n",
    "vuelos_lf = pl.scan_parquet('./data/vuelos/vuelos.parquet')\n",
    "\n",
    "aerolinea_vs_tiempo_aire = vuelos_lf.group_by('AIRLINE').agg(\n",
    "    AVG_AIR_TIME=col('AIR_TIME').mean()\n",
    ").collect()\n",
    "\n",
    "vuelos_AA_DL = vuelos_lf.filter(\n",
    "    (col('AIRLINE') == 'AA') | (col('AIRLINE') == 'DL')\n",
    ").collect()\n",
    "\n",
    "hexagonal_data = vuelos_lf.select(\n",
    "    col('AIR_TIME'),\n",
    "    col('ARRIVAL_DELAY')\n",
    ").collect()\n",
    "\n",
    "departure_delay_day = vuelos_lf.select(\n",
    "    col('DAY'),\n",
    "    col('AIRLINE'),\n",
    "    col('DEPARTURE_DELAY')\n",
    ").collect()"
   ]
  },
  {
   "cell_type": "markdown",
   "id": "d6f0a349-75d6-474e-9385-883b3778b71f",
   "metadata": {},
   "source": [
    "## Gráfico de barras"
   ]
  },
  {
   "cell_type": "code",
   "execution_count": null,
   "id": "ce4f60b6-6593-4824-8e1d-643e5c98891b",
   "metadata": {
    "tags": []
   },
   "outputs": [],
   "source": [
    "aerolinea_vs_tiempo_aire.plot.bar(\n",
    "    x='AIRLINE',\n",
    "    y='AVG_AIR_TIME',\n",
    "    xlabel='Aerolínea',\n",
    "    ylabel='Promedio tiempo en el aire',\n",
    "    title='Promedio de tiempo en el aire por aerolínea'\n",
    ")"
   ]
  },
  {
   "cell_type": "markdown",
   "id": "7626c4b4-2ff8-4b62-b5af-3fc917160243",
   "metadata": {},
   "source": [
    "## Varios gráficos\n",
    "\n",
    "Con el parámetro `subplots` podemos separar en gráficas diferentes las dos aerolíneas como se muestra a continuación."
   ]
  },
  {
   "cell_type": "code",
   "execution_count": null,
   "id": "adc9bcac-e4cb-40b1-858f-c07dda6dcf69",
   "metadata": {
    "tags": []
   },
   "outputs": [],
   "source": [
    "vuelos_AA_DL.plot.hist(\n",
    "    'DEPARTURE_DELAY',\n",
    "    by='AIRLINE',\n",
    "    bins=20,\n",
    "    bin_range=(-20,100),\n",
    "    width=300,\n",
    "    subplots=True\n",
    ")"
   ]
  },
  {
   "cell_type": "markdown",
   "id": "f54c52db-dccc-425e-b229-71332ab3ccd5",
   "metadata": {},
   "source": [
    "## Gráfico de dispersión\n",
    "\n",
    "Para agrupar los datos por una o más columnas adicionales, podemos especificar una variable adicional a través del parámetro `by`. Como ejemplo, graficaremos el retraso de salida (`DEPARTURE_DELAY`) en función de la distancia(`DISTANCE`), agrupando los datos por la aerolínea(`AIRLINE`)."
   ]
  },
  {
   "cell_type": "code",
   "execution_count": null,
   "id": "29e62a2d-07dd-40f9-a44f-5b73dd308e67",
   "metadata": {
    "tags": []
   },
   "outputs": [],
   "source": [
    "vuelos_AA_DL.plot.scatter(\n",
    "    x='DISTANCE',\n",
    "    y='DEPARTURE_DELAY',\n",
    "    by='AIRLINE',\n",
    "    alpha=0.2,\n",
    "    persist=True\n",
    ")"
   ]
  },
  {
   "cell_type": "markdown",
   "id": "7591e3ad-7c79-41df-95c9-c4779b7999e6",
   "metadata": {},
   "source": [
    "## Gráfico de bins hexagonales\n",
    "\n",
    "Podemos crear gráficos de bins hexagonales con el método `hexbin`. Las gráficas `hexbin` pueden ser una alternativa útil a los diagramas de dispersión si nuestros datos son demasiado densos para graficarlos cada punto individualmente. Dado que estos datos no se distribuyen regularmente, usaremos la opción `logz=True` para asignar el eje z (color) a una barra de colores de escala logarítmica."
   ]
  },
  {
   "cell_type": "code",
   "execution_count": null,
   "id": "a2485fd0-abd6-4c31-9f45-65292f24746d",
   "metadata": {
    "tags": []
   },
   "outputs": [],
   "source": [
    "hexagonal_data.plot.hexbin(\n",
    "    x='AIR_TIME',\n",
    "    y='ARRIVAL_DELAY',\n",
    "    width=600,\n",
    "    height=500,\n",
    "    logz=True\n",
    ")"
   ]
  },
  {
   "cell_type": "markdown",
   "id": "61da6f19-88ac-4225-8062-875156fc05dc",
   "metadata": {},
   "source": [
    "## Gráfico de mapa de calor\n",
    "\n",
    "Un gráfico de mapa de calor nos permite ver la relación entre tres variables, por lo que especificamos las variables `x` e `y` y una variable `C` adicional. Además, podemos definir una función de reducción(`reduce_function` que calcula los valores para cada bin a partir de las muestras que se encuentran en él.\n",
    "\n",
    "En el siguiente ejemplo graficaremos el retraso en la salida(`DEPARTURE_DELAY`) para cada día del mes(`DAY`) y aerolínea(`AIRLINE`)."
   ]
  },
  {
   "cell_type": "code",
   "execution_count": null,
   "id": "93757dbf-3c2a-4a50-8585-b40044c91d2d",
   "metadata": {
    "tags": []
   },
   "outputs": [],
   "source": [
    "import numpy as np\n",
    "\n",
    "departure_delay_day.plot.heatmap(\n",
    "    x='DAY',\n",
    "    y='AIRLINE',\n",
    "    C='DEPARTURE_DELAY',\n",
    "    reduce_function=np.mean,\n",
    "    colorbar=True\n",
    ")"
   ]
  },
  {
   "cell_type": "markdown",
   "id": "4a3995e1-3bcf-4938-b3af-9f57f88a0f3b",
   "metadata": {},
   "source": [
    "Hasta aquí la lista de gráficos que veremos. Es importante destacar que esta lista es solo un subconjunto de todos los tipos de gráficos que podemos realizar a partir de un `DataFrame` de Polars. Si desean ver la lista completa de gráficos disponibles pueden visitar la página de hvPlot.\n",
    "\n",
    "[Página de hvPlot](https://hvplot.holoviz.org/index.html)"
   ]
  }
 ],
 "metadata": {
  "kernelspec": {
   "display_name": "Python 3 (ipykernel)",
   "language": "python",
   "name": "python3"
  },
  "language_info": {
   "codemirror_mode": {
    "name": "ipython",
    "version": 3
   },
   "file_extension": ".py",
   "mimetype": "text/x-python",
   "name": "python",
   "nbconvert_exporter": "python",
   "pygments_lexer": "ipython3",
   "version": "3.9.6"
  }
 },
 "nbformat": 4,
 "nbformat_minor": 5
}
