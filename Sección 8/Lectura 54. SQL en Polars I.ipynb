{
 "cells": [
  {
   "cell_type": "markdown",
   "id": "bebac300-fd56-47d2-9a6d-de4921c59826",
   "metadata": {},
   "source": [
    "# Lectura 54: SQL en Polars I"
   ]
  },
  {
   "cell_type": "markdown",
   "id": "67f563bf-8d17-468a-83f0-7324a4f8b4ea",
   "metadata": {},
   "source": [
    "## ¿Cómo utilizar SQL en Polars?\n",
    "\n",
    "Polars utiliza el objeto `SQLContext` para gestionar consultas SQL"
   ]
  },
  {
   "cell_type": "code",
   "execution_count": null,
   "id": "0cb1a903-6c37-4f4c-8740-f1bc23b5f882",
   "metadata": {
    "tags": []
   },
   "outputs": [],
   "source": [
    "import polars as pl\n",
    "\n",
    "ctx = pl.SQLContext()\n",
    "\n",
    "ctx.tables()"
   ]
  },
  {
   "cell_type": "markdown",
   "id": "da89cccb-974b-40ca-9412-47b66d24e2fc",
   "metadata": {},
   "source": [
    "## ¿Cómo registrar un DataFrame?\n",
    "\n",
    "Hay varias formas de registrar DataFrames durante la inicialización del `SQLContext`.\n",
    "\n",
    "- Registrar todos los objetos `LazyFrame` y `DataFrame` en el namespace global.\n",
    "- Registrar explícitamente a través de un mapeo en un diccionario, o como argumentos del tipo llave-valor."
   ]
  },
  {
   "cell_type": "code",
   "execution_count": null,
   "id": "3aef7ad8-fa14-4168-b8d9-09801a3b4cc6",
   "metadata": {
    "tags": []
   },
   "outputs": [],
   "source": [
    "df = pl.DataFrame(\n",
    "    {\n",
    "        'id': [1, 2, 3],\n",
    "        'color': ['rojo', 'verde', 'azul']\n",
    "    }\n",
    ")\n",
    "\n",
    "lf = pl.LazyFrame(\n",
    "    {\n",
    "        'letra': ['a', 'b', 'c'],\n",
    "        'conteo': [6, 9, 3]\n",
    "    }\n",
    ")"
   ]
  },
  {
   "cell_type": "markdown",
   "id": "9bca08bd-62a3-458a-8375-f30f1a64c989",
   "metadata": {},
   "source": [
    "## Registrar todos los dataframes en el namespace global\n",
    "\n",
    "Esta opción registrará tanto a los `DataFrame` como a los `LazyFrame`."
   ]
  },
  {
   "cell_type": "code",
   "execution_count": null,
   "id": "7e8d7dfb-b0b8-4a5d-8c90-578376f954de",
   "metadata": {
    "tags": []
   },
   "outputs": [],
   "source": [
    "ctx = pl.SQLContext(register_globals=True)\n",
    "\n",
    "ctx.tables()"
   ]
  },
  {
   "cell_type": "markdown",
   "id": "cbf72622-a0b7-49c0-87a4-58665f58581d",
   "metadata": {},
   "source": [
    "## Registrar dataframes explícitamente"
   ]
  },
  {
   "cell_type": "markdown",
   "id": "e47dc645-8640-4ab2-b2d8-b46d54e48dd9",
   "metadata": {},
   "source": [
    "### A través de un diccionario"
   ]
  },
  {
   "cell_type": "code",
   "execution_count": null,
   "id": "bf718133-abb2-40ff-b0c4-cee5483ad901",
   "metadata": {
    "tags": []
   },
   "outputs": [],
   "source": [
    "ctx = pl.SQLContext(frames={'df_color': df, 'df_letas': lf})\n",
    "\n",
    "ctx.tables()"
   ]
  },
  {
   "cell_type": "markdown",
   "id": "76d623d0-d068-4a6b-b2c4-186b428eaab7",
   "metadata": {},
   "source": [
    "### Como argumentos llave-valor"
   ]
  },
  {
   "cell_type": "code",
   "execution_count": null,
   "id": "30b88c89-ecb7-4520-8218-ff47547c04f0",
   "metadata": {
    "tags": []
   },
   "outputs": [],
   "source": [
    "ctx = pl.SQLContext(df=df, lf=lf)\n",
    "\n",
    "ctx.tables()"
   ]
  },
  {
   "cell_type": "markdown",
   "id": "613e9c6e-62d9-425e-89ee-6269c12a0385",
   "metadata": {},
   "source": [
    "Una vez que se inicializa el `SQLContext`, podemos registrar DataFrames adicionales o eliminarlos del registro existente. Para ello emplearemos las siguientes funciones:\n",
    "\n",
    "- `register`\n",
    "- `register_many`\n",
    "- `unregister`\n",
    "- `register_globals`"
   ]
  },
  {
   "cell_type": "code",
   "execution_count": null,
   "id": "e85c0bba-6bdd-4aac-a951-1e0194f5da42",
   "metadata": {
    "tags": []
   },
   "outputs": [],
   "source": [
    "df1 = pl.DataFrame({'a': [1]})\n",
    "df2 = pl.DataFrame({'b': [2]})\n",
    "df3 = pl.DataFrame({'c': [3]})"
   ]
  },
  {
   "cell_type": "code",
   "execution_count": null,
   "id": "fe66403d-4b2a-42fd-b6ff-9c82e61fadb0",
   "metadata": {
    "tags": []
   },
   "outputs": [],
   "source": [
    "ctx.register('df1', df1)\n",
    "\n",
    "ctx.tables()"
   ]
  },
  {
   "cell_type": "code",
   "execution_count": null,
   "id": "ff95f078-2038-46cb-b402-e0a83f9476fa",
   "metadata": {
    "tags": []
   },
   "outputs": [],
   "source": [
    "ctx.register_many({'df2': df2, 'df3': df3})\n",
    "\n",
    "ctx.tables()"
   ]
  },
  {
   "cell_type": "code",
   "execution_count": null,
   "id": "361c7e26-ed31-4d91-a939-d5a5a178c35e",
   "metadata": {
    "tags": []
   },
   "outputs": [],
   "source": [
    "ctx.unregister(['df1', 'df2', 'df3'])\n",
    "\n",
    "ctx.tables()"
   ]
  },
  {
   "cell_type": "code",
   "execution_count": null,
   "id": "09cba7a1-fc4c-485e-ad20-85fb78fb98ba",
   "metadata": {
    "tags": []
   },
   "outputs": [],
   "source": [
    "ctx.register_globals()\n",
    "\n",
    "ctx.tables()"
   ]
  },
  {
   "cell_type": "markdown",
   "id": "bf923cfa-e55e-476d-a2d5-858c30fcc9fd",
   "metadata": {},
   "source": [
    "## Ejecución de consultas\n",
    "\n",
    "Las consultas SQL siempre se ejecutan en modo lazy para aprovechar todas las optimizaciones que nos ofrece Polars, por lo que tenemos dos opciones para obtener el resultado:\n",
    "\n",
    "- Establecer el parámetro `eager_execution=True` en el `SQLContext` lo que garantizará que Polars recopile automáticamente los resultados del LazyFrame cada vez que llamemos a la función `execute`.\n",
    "- Establecer el parámetro `eager=True` al ejecutar una consulta con `execute` o llamar explícitamente a la funciòn `collect`.\n",
    "\n",
    "Las consultas SQL se ejecutan llamando a `execute` en un `SQLContext`."
   ]
  },
  {
   "cell_type": "code",
   "execution_count": null,
   "id": "d2c33d57-8b6f-48c9-836d-2e5b3288667e",
   "metadata": {
    "tags": []
   },
   "outputs": [],
   "source": [
    "ctx = pl.SQLContext(register_globals=True, eager_execution=True)\n",
    "\n",
    "ctx.execute(\"SELECT * FROM df\")"
   ]
  },
  {
   "cell_type": "code",
   "execution_count": null,
   "id": "75d65910-59f3-4b15-bbd0-b60dd8165ce2",
   "metadata": {
    "tags": []
   },
   "outputs": [],
   "source": [
    "ctx.execute(\"SELECT * FROM lf WHERE conteo >= 6\")"
   ]
  },
  {
   "cell_type": "code",
   "execution_count": null,
   "id": "0198b05f-3296-4ced-b270-7a6f37f83f18",
   "metadata": {
    "tags": []
   },
   "outputs": [],
   "source": [
    "ctx = pl.SQLContext(register_globals=True)"
   ]
  },
  {
   "cell_type": "code",
   "execution_count": null,
   "id": "cd5415d9-739a-4787-89f7-e6356c13c34c",
   "metadata": {
    "tags": []
   },
   "outputs": [],
   "source": [
    "ctx.execute(\"SELECT * FROM df\")"
   ]
  },
  {
   "cell_type": "code",
   "execution_count": null,
   "id": "87b4cb3e-574d-4892-b7de-29b0a402aec0",
   "metadata": {
    "tags": []
   },
   "outputs": [],
   "source": [
    "ctx.execute(\"SELECT * FROM df\", eager=True)"
   ]
  },
  {
   "cell_type": "code",
   "execution_count": null,
   "id": "d0663192-6291-44e5-a9b6-8b916d1c5739",
   "metadata": {
    "tags": []
   },
   "outputs": [],
   "source": [
    "ctx.execute(\"SELECT * FROM lf WHERE conteo >= 6\").collect()"
   ]
  }
 ],
 "metadata": {
  "kernelspec": {
   "display_name": "Python 3 (ipykernel)",
   "language": "python",
   "name": "python3"
  },
  "language_info": {
   "codemirror_mode": {
    "name": "ipython",
    "version": 3
   },
   "file_extension": ".py",
   "mimetype": "text/x-python",
   "name": "python",
   "nbconvert_exporter": "python",
   "pygments_lexer": "ipython3",
   "version": "3.9.6"
  }
 },
 "nbformat": 4,
 "nbformat_minor": 5
}
