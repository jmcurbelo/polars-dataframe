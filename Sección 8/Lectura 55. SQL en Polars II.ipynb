{
 "cells": [
  {
   "cell_type": "markdown",
   "id": "08501dd2-53d3-49a4-90d9-f4a3675d13e3",
   "metadata": {},
   "source": [
    "# Lectura 55: SQL en Polars II"
   ]
  },
  {
   "cell_type": "markdown",
   "id": "4b8a7bff-d805-4cd8-a614-c069c7797312",
   "metadata": {},
   "source": [
    "## Crear un `SQLContext` con la función `with`\n",
    "\n",
    "Podemos controlar la duración del registro de una tabla utilizando `SQLContext` en conjunto con la función `with`. A menudo, esto puede resultar más útil cuando se desea este tipo de control."
   ]
  },
  {
   "cell_type": "code",
   "execution_count": 1,
   "id": "64a8fdeb-2469-4716-873b-a347a1790a19",
   "metadata": {
    "tags": []
   },
   "outputs": [],
   "source": [
    "import polars as pl\n",
    "\n",
    "df = pl.DataFrame(\n",
    "    {\n",
    "        'id': [1, 2, 3],\n",
    "        'color': ['rojo', 'verde', 'azul']\n",
    "    }\n",
    ")\n",
    "\n",
    "lf = pl.LazyFrame(\n",
    "    {\n",
    "        'letra': ['a', 'b', 'c'],\n",
    "        'conteo': [6, 9, 3]\n",
    "    }\n",
    ")\n",
    "\n",
    "df1 = pl.DataFrame({'a': [1]})\n",
    "\n",
    "df2 = pl.DataFrame({'b': [2]})\n",
    "\n",
    "df3 = pl.DataFrame({'c': [3]})"
   ]
  },
  {
   "cell_type": "markdown",
   "id": "bdec50ee-680e-4a07-81da-fcdd5861c61b",
   "metadata": {},
   "source": [
    "En el siguiente ejemplo registraremos dos DataFrames en el momento de la construcción y otros tres dentro del scope de la función `with`."
   ]
  },
  {
   "cell_type": "code",
   "execution_count": 2,
   "id": "07c5a491-a486-4614-bf33-cb83c72512e4",
   "metadata": {
    "tags": []
   },
   "outputs": [
    {
     "name": "stdout",
     "output_type": "stream",
     "text": [
      "['df', 'df1', 'df2', 'df3', 'lf']\n"
     ]
    }
   ],
   "source": [
    "with pl.SQLContext(df=df, lf=lf) as ctx:\n",
    "    \n",
    "    ctx.register_many(df1=df1, df2=df2, df3=df3)\n",
    "    \n",
    "    print(ctx.tables())"
   ]
  },
  {
   "cell_type": "markdown",
   "id": "d2a82feb-3804-4183-bc4f-604bcb0b78cf",
   "metadata": {},
   "source": [
    "Observemos como dentro del contexto de la función `with` existían 5 tablas. Veamos que sucede si mostramos las tablas que que hay registradas ahora."
   ]
  },
  {
   "cell_type": "code",
   "execution_count": 3,
   "id": "a6b4a958-7945-49a8-a366-6d57e0356383",
   "metadata": {
    "tags": []
   },
   "outputs": [
    {
     "data": {
      "text/plain": [
       "['df', 'lf']"
      ]
     },
     "execution_count": 3,
     "metadata": {},
     "output_type": "execute_result"
    }
   ],
   "source": [
    "ctx.tables()"
   ]
  },
  {
   "cell_type": "markdown",
   "id": "2d762a05-af90-491b-94f8-064f2f276fad",
   "metadata": {},
   "source": [
    "Las tablas registradas dentro del scope se cancelan automáticamente al salir del scope de la función `with`. Sin embargo, las tablas registradas en la construcción persistirán en los scopes posteriores."
   ]
  },
  {
   "cell_type": "markdown",
   "id": "691b7969-69f0-44f4-8076-f8173adb8935",
   "metadata": {},
   "source": [
    "## Ejecutar consultas SQL a partir de diferentes fuentes"
   ]
  },
  {
   "cell_type": "code",
   "execution_count": 4,
   "id": "e674096c-ce4a-4192-beb4-36c4a4a7f81c",
   "metadata": {
    "tags": []
   },
   "outputs": [
    {
     "name": "stdout",
     "output_type": "stream",
     "text": [
      "shape: (14, 2)\n",
      "┌──────────────────────┬────────┐\n",
      "│ name                 ┆ conteo │\n",
      "│ ---                  ┆ ---    │\n",
      "│ str                  ┆ u32    │\n",
      "╞══════════════════════╪════════╡\n",
      "│ null                 ┆ 12367  │\n",
      "│ premier-liga         ┆ 3084   │\n",
      "│ serie-a              ┆ 2820   │\n",
      "│ laliga               ┆ 2814   │\n",
      "│ premier-league       ┆ 2809   │\n",
      "│ …                    ┆ …      │\n",
      "│ eredivisie           ┆ 2203   │\n",
      "│ jupiler-pro-league   ┆ 1891   │\n",
      "│ super-league-1       ┆ 1713   │\n",
      "│ scottish-premiership ┆ 1554   │\n",
      "│ superligaen          ┆ 1358   │\n",
      "└──────────────────────┴────────┘\n"
     ]
    }
   ],
   "source": [
    "with pl.SQLContext(\n",
    "    juegos=pl.scan_csv('./data/games.csv'),\n",
    "    ligas=pl.scan_csv('./data/leagues.csv'),\n",
    "    eager_execution=True\n",
    ") as ctx:\n",
    "    query = \"\"\"\n",
    "    SELECT\n",
    "        name,\n",
    "        count(*) AS conteo\n",
    "    FROM juegos\n",
    "    LEFT JOIN ligas ON competition_code = league_id\n",
    "    GROUP BY name\n",
    "    ORDER BY conteo DESC\n",
    "    \"\"\"\n",
    "    \n",
    "    print(ctx.execute(query))"
   ]
  },
  {
   "cell_type": "markdown",
   "id": "0a234d30-2cb9-412b-b195-9f312759ba27",
   "metadata": {},
   "source": [
    "## Funciones de tabla\n",
    "\n",
    "Polars también admite la lectura directa de CSV, Parquet, JSON e IPC directamente en una consulta SQL utilizando las funciones de tabla `read_xxx`. Veamos un ejemplo con la función `read_csv`."
   ]
  },
  {
   "cell_type": "code",
   "execution_count": 5,
   "id": "6e4d696a-26ee-409a-a881-f922e38c6eee",
   "metadata": {
    "tags": []
   },
   "outputs": [
    {
     "name": "stdout",
     "output_type": "stream",
     "text": [
      "shape: (42_272, 15)\n",
      "┌─────────┬────────────┬────────┬────────────┬───┬────────────┬────────────┬───────────┬───────────┐\n",
      "│ game_id ┆ competitio ┆ season ┆ round      ┆ … ┆ stadium    ┆ attendance ┆ referee   ┆ url       │\n",
      "│ ---     ┆ n_code     ┆ ---    ┆ ---        ┆   ┆ ---        ┆ ---        ┆ ---       ┆ ---       │\n",
      "│ i64     ┆ ---        ┆ i64    ┆ str        ┆   ┆ str        ┆ i64        ┆ str       ┆ str       │\n",
      "│         ┆ str        ┆        ┆            ┆   ┆            ┆            ┆           ┆           │\n",
      "╞═════════╪════════════╪════════╪════════════╪═══╪════════════╪════════════╪═══════════╪═══════════╡\n",
      "│ 2457642 ┆ NLSC       ┆ 2014   ┆ Final      ┆ … ┆ Johan      ┆ 42000      ┆ Danny     ┆ https://w │\n",
      "│         ┆            ┆        ┆            ┆   ┆ Cruijff    ┆            ┆ Makkelie  ┆ ww.transf │\n",
      "│         ┆            ┆        ┆            ┆   ┆ ArenA      ┆            ┆           ┆ ermarkt.c │\n",
      "│         ┆            ┆        ┆            ┆   ┆            ┆            ┆           ┆ o.u…      │\n",
      "│ 2639088 ┆ BESC       ┆ 2013   ┆ Final      ┆ … ┆ Constant   ┆ 13733      ┆ Jonathan  ┆ https://w │\n",
      "│         ┆            ┆        ┆            ┆   ┆ Vanden     ┆            ┆ Lardot    ┆ ww.transf │\n",
      "│         ┆            ┆        ┆            ┆   ┆ Stock      ┆            ┆           ┆ ermarkt.c │\n",
      "│         ┆            ┆        ┆            ┆   ┆ Stadion    ┆            ┆           ┆ o.u…      │\n",
      "│ 2481145 ┆ SUC        ┆ 2014   ┆ final 1st  ┆ … ┆ Santiago   ┆ 75897      ┆ Estrada   ┆ https://w │\n",
      "│         ┆            ┆        ┆ leg        ┆   ┆ Bernabéu   ┆            ┆ Fernández ┆ ww.transf │\n",
      "│         ┆            ┆        ┆            ┆   ┆            ┆            ┆           ┆ ermarkt.c │\n",
      "│         ┆            ┆        ┆            ┆   ┆            ┆            ┆           ┆ o.u…      │\n",
      "│ 2484338 ┆ POSU       ┆ 2014   ┆ Final      ┆ … ┆ Estádio    ┆ 30000      ┆ Duarte    ┆ https://w │\n",
      "│         ┆            ┆        ┆            ┆   ┆ Municipal  ┆            ┆ Gomes     ┆ ww.transf │\n",
      "│         ┆            ┆        ┆            ┆   ┆ de Aveiro  ┆            ┆           ┆ ermarkt.c │\n",
      "│         ┆            ┆        ┆            ┆   ┆            ┆            ┆           ┆ o.u…      │\n",
      "│ 2502472 ┆ FRCH       ┆ 2014   ┆ Final      ┆ … ┆ Workers    ┆ 39752      ┆ Clément   ┆ https://w │\n",
      "│         ┆            ┆        ┆            ┆   ┆ Stadium    ┆            ┆ Turpin    ┆ ww.transf │\n",
      "│         ┆            ┆        ┆            ┆   ┆            ┆            ┆           ┆ ermarkt.c │\n",
      "│         ┆            ┆        ┆            ┆   ┆            ┆            ┆           ┆ o.u…      │\n",
      "│ …       ┆ …          ┆ …      ┆ …          ┆ … ┆ …          ┆ …          ┆ …         ┆ …         │\n",
      "│ 3580217 ┆ DK1        ┆ 2021   ┆ 9.         ┆ … ┆ Parken     ┆ 34378      ┆ Jakob     ┆ https://w │\n",
      "│         ┆            ┆        ┆ Matchday   ┆   ┆            ┆            ┆ Kehlet    ┆ ww.transf │\n",
      "│         ┆            ┆        ┆            ┆   ┆            ┆            ┆           ┆ ermarkt.c │\n",
      "│         ┆            ┆        ┆            ┆   ┆            ┆            ┆           ┆ o.u…      │\n",
      "│ 3580204 ┆ DK1        ┆ 2021   ┆ 6.         ┆ … ┆ Cepheus    ┆ 4906       ┆ Mikkel    ┆ https://w │\n",
      "│         ┆            ┆        ┆ Matchday   ┆   ┆ Park       ┆            ┆ Redder    ┆ ww.transf │\n",
      "│         ┆            ┆        ┆            ┆   ┆ Randers    ┆            ┆           ┆ ermarkt.c │\n",
      "│         ┆            ┆        ┆            ┆   ┆            ┆            ┆           ┆ o.u…      │\n",
      "│ 3580262 ┆ DK1        ┆ 2021   ┆ 13.        ┆ … ┆ JYSK Park  ┆ 3662       ┆ Sandi     ┆ https://w │\n",
      "│         ┆            ┆        ┆ Matchday   ┆   ┆            ┆            ┆ Putros    ┆ ww.transf │\n",
      "│         ┆            ┆        ┆            ┆   ┆            ┆            ┆           ┆ ermarkt.c │\n",
      "│         ┆            ┆        ┆            ┆   ┆            ┆            ┆           ┆ o.u…      │\n",
      "│ 3580188 ┆ DK1        ┆ 2021   ┆ 4.         ┆ … ┆ Parken     ┆ 31297      ┆ Mads-Kris ┆ https://w │\n",
      "│         ┆            ┆        ┆ Matchday   ┆   ┆            ┆            ┆ toffer    ┆ ww.transf │\n",
      "│         ┆            ┆        ┆            ┆   ┆            ┆            ┆ Kristoffe ┆ ermarkt.c │\n",
      "│         ┆            ┆        ┆            ┆   ┆            ┆            ┆ rsen      ┆ o.u…      │\n",
      "│ 3580176 ┆ DK1        ┆ 2020   ┆ 2.         ┆ … ┆ Right to   ┆ 2213       ┆ Aydin     ┆ https://w │\n",
      "│         ┆            ┆        ┆ Matchday   ┆   ┆ Dream Park ┆            ┆ Uslu      ┆ ww.transf │\n",
      "│         ┆            ┆        ┆            ┆   ┆            ┆            ┆           ┆ ermarkt.c │\n",
      "│         ┆            ┆        ┆            ┆   ┆            ┆            ┆           ┆ o.u…      │\n",
      "└─────────┴────────────┴────────┴────────────┴───┴────────────┴────────────┴───────────┴───────────┘\n"
     ]
    }
   ],
   "source": [
    "with pl.SQLContext(eager_execution=True) as ctx:\n",
    "    \n",
    "    query = \"\"\"\n",
    "    SELECT *\n",
    "    FROM read_csv('./data/games.csv')\n",
    "    \"\"\"\n",
    "    \n",
    "    print(ctx.execute(query))"
   ]
  },
  {
   "cell_type": "markdown",
   "id": "0beec2eb-b8ad-48a2-ba15-40ff03235b91",
   "metadata": {},
   "source": [
    "## Compatibilidad\n",
    "\n",
    "Polars no admite todas las sentencias SQL, pero sí un subconjunto de los tipos de declaraciones más comunes.\n",
    "\n",
    "Siempre que sea posible, Polars pretende seguir las definiciones de sintaxis y el comportamiento de las funciones de PostgreSQL.\n",
    "\n",
    "A continuación listamos algunas de las características que no están soportadas por el momento:\n",
    "- INSERT\n",
    "- UPDATE\n",
    "- DELETE"
   ]
  }
 ],
 "metadata": {
  "kernelspec": {
   "display_name": "Python 3 (ipykernel)",
   "language": "python",
   "name": "python3"
  },
  "language_info": {
   "codemirror_mode": {
    "name": "ipython",
    "version": 3
   },
   "file_extension": ".py",
   "mimetype": "text/x-python",
   "name": "python",
   "nbconvert_exporter": "python",
   "pygments_lexer": "ipython3",
   "version": "3.9.6"
  }
 },
 "nbformat": 4,
 "nbformat_minor": 5
}
