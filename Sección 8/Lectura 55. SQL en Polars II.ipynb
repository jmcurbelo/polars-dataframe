{
 "cells": [
  {
   "cell_type": "markdown",
   "id": "08501dd2-53d3-49a4-90d9-f4a3675d13e3",
   "metadata": {},
   "source": [
    "# Lectura 55: SQL en Polars II"
   ]
  },
  {
   "cell_type": "markdown",
   "id": "4b8a7bff-d805-4cd8-a614-c069c7797312",
   "metadata": {},
   "source": [
    "## Crear un `SQLContext` con la función `with`\n",
    "\n",
    "Podemos controlar la duración del registro de una tabla utilizando `SQLContext` en conjunto con la función `with`. A menudo, esto puede resultar más útil cuando se desea este tipo de control."
   ]
  },
  {
   "cell_type": "code",
   "execution_count": null,
   "id": "64a8fdeb-2469-4716-873b-a347a1790a19",
   "metadata": {
    "tags": []
   },
   "outputs": [],
   "source": [
    "import polars as pl\n",
    "\n",
    "df = pl.DataFrame(\n",
    "    {\n",
    "        'id': [1, 2, 3],\n",
    "        'color': ['rojo', 'verde', 'azul']\n",
    "    }\n",
    ")\n",
    "\n",
    "lf = pl.LazyFrame(\n",
    "    {\n",
    "        'letra': ['a', 'b', 'c'],\n",
    "        'conteo': [6, 9, 3]\n",
    "    }\n",
    ")\n",
    "\n",
    "df1 = pl.DataFrame({'a': [1]})\n",
    "\n",
    "df2 = pl.DataFrame({'b': [2]})\n",
    "\n",
    "df3 = pl.DataFrame({'c': [3]})"
   ]
  },
  {
   "cell_type": "markdown",
   "id": "bdec50ee-680e-4a07-81da-fcdd5861c61b",
   "metadata": {},
   "source": [
    "En el siguiente ejemplo registraremos dos DataFrames en el momento de la construcción y otros tres dentro del scope de la función `with`."
   ]
  },
  {
   "cell_type": "code",
   "execution_count": null,
   "id": "07c5a491-a486-4614-bf33-cb83c72512e4",
   "metadata": {
    "tags": []
   },
   "outputs": [],
   "source": [
    "with pl.SQLContext(df=df, lf=lf) as ctx:\n",
    "    \n",
    "    ctx.register_many(df1=df1, df2=df2, df3=df3)\n",
    "    \n",
    "    print(ctx.tables())"
   ]
  },
  {
   "cell_type": "markdown",
   "id": "d2a82feb-3804-4183-bc4f-604bcb0b78cf",
   "metadata": {},
   "source": [
    "Observemos como dentro del contexto de la función `with` existían 5 tablas. Veamos que sucede si mostramos las tablas que que hay registradas ahora."
   ]
  },
  {
   "cell_type": "code",
   "execution_count": null,
   "id": "a6b4a958-7945-49a8-a366-6d57e0356383",
   "metadata": {
    "tags": []
   },
   "outputs": [],
   "source": [
    "ctx.tables()"
   ]
  },
  {
   "cell_type": "markdown",
   "id": "2d762a05-af90-491b-94f8-064f2f276fad",
   "metadata": {},
   "source": [
    "Las tablas registradas dentro del scope se cancelan automáticamente al salir del scope de la función `with`. Sin embargo, las tablas registradas en la construcción persistirán en los scopes posteriores."
   ]
  },
  {
   "cell_type": "markdown",
   "id": "691b7969-69f0-44f4-8076-f8173adb8935",
   "metadata": {},
   "source": [
    "## Ejecutar consultas SQL a partir de diferentes fuentes"
   ]
  },
  {
   "cell_type": "code",
   "execution_count": null,
   "id": "e674096c-ce4a-4192-beb4-36c4a4a7f81c",
   "metadata": {
    "tags": []
   },
   "outputs": [],
   "source": [
    "with pl.SQLContext(\n",
    "    juegos=pl.scan_csv('./data/games.csv'),\n",
    "    ligas=pl.scan_csv('./data/leagues.csv'),\n",
    "    eager_execution=True\n",
    ") as ctx:\n",
    "    query = \"\"\"\n",
    "    SELECT\n",
    "        name,\n",
    "        count(*) AS conteo\n",
    "    FROM juegos\n",
    "    LEFT JOIN ligas ON competition_code = league_id\n",
    "    GROUP BY name\n",
    "    ORDER BY conteo DESC\n",
    "    \"\"\"\n",
    "    \n",
    "    print(ctx.execute(query))"
   ]
  },
  {
   "cell_type": "markdown",
   "id": "0a234d30-2cb9-412b-b195-9f312759ba27",
   "metadata": {},
   "source": [
    "## Funciones de tabla\n",
    "\n",
    "Polars también admite la lectura directa de CSV, Parquet, JSON e IPC directamente en una consulta SQL utilizando las funciones de tabla `read_xxx`. Veamos un ejemplo con la función `read_csv`."
   ]
  },
  {
   "cell_type": "code",
   "execution_count": null,
   "id": "6e4d696a-26ee-409a-a881-f922e38c6eee",
   "metadata": {
    "tags": []
   },
   "outputs": [],
   "source": [
    "with pl.SQLContext(eager_execution=True) as ctx:\n",
    "    \n",
    "    query = \"\"\"\n",
    "    SELECT *\n",
    "    FROM read_csv('./data/games.csv')\n",
    "    \"\"\"\n",
    "    \n",
    "    print(ctx.execute(query))"
   ]
  },
  {
   "cell_type": "markdown",
   "id": "0beec2eb-b8ad-48a2-ba15-40ff03235b91",
   "metadata": {},
   "source": [
    "## Compatibilidad\n",
    "\n",
    "Polars no admite todas las sentencias SQL, pero sí un subconjunto de los tipos de declaraciones más comunes.\n",
    "\n",
    "Siempre que sea posible, Polars pretende seguir las definiciones de sintaxis y el comportamiento de las funciones de PostgreSQL.\n",
    "\n",
    "A continuación listamos algunas de las características que no están soportadas por el momento:\n",
    "- INSERT\n",
    "- UPDATE\n",
    "- DELETE"
   ]
  }
 ],
 "metadata": {
  "kernelspec": {
   "display_name": "Python 3 (ipykernel)",
   "language": "python",
   "name": "python3"
  },
  "language_info": {
   "codemirror_mode": {
    "name": "ipython",
    "version": 3
   },
   "file_extension": ".py",
   "mimetype": "text/x-python",
   "name": "python",
   "nbconvert_exporter": "python",
   "pygments_lexer": "ipython3",
   "version": "3.9.6"
  }
 },
 "nbformat": 4,
 "nbformat_minor": 5
}
