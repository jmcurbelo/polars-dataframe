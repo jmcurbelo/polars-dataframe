{
 "cells": [
  {
   "cell_type": "markdown",
   "id": "5cbacdb6-5ef4-4613-a7ce-84948df9ee43",
   "metadata": {},
   "source": [
    "# Fecha y Hora"
   ]
  },
  {
   "cell_type": "markdown",
   "id": "3f195301-f061-40ef-9ef0-847d45417d7a",
   "metadata": {},
   "source": [
    "### Extraer la fecha, fecha y hora y la hora"
   ]
  },
  {
   "cell_type": "code",
   "execution_count": null,
   "id": "db4eeeb0-67f5-4736-92f9-d497dc4fcced",
   "metadata": {
    "tags": []
   },
   "outputs": [],
   "source": [
    "import polars as pl\n",
    "\n",
    "from datetime import datetime\n",
    "\n",
    "s1 = pl.Series('fecha', [datetime(2023, 2, 10), datetime(2023, 11, 23, 12, 35, 56)])"
   ]
  },
  {
   "cell_type": "code",
   "execution_count": null,
   "id": "50b99198-aab7-4599-8e95-5be5bafcc66a",
   "metadata": {
    "tags": []
   },
   "outputs": [],
   "source": [
    "s1.dt.date()"
   ]
  },
  {
   "cell_type": "code",
   "execution_count": null,
   "id": "a7691cc7-c808-4449-a810-0c70d15f25d7",
   "metadata": {
    "tags": []
   },
   "outputs": [],
   "source": [
    "s1.dt.datetime()"
   ]
  },
  {
   "cell_type": "code",
   "execution_count": null,
   "id": "453d4078-58bc-4473-b7a2-9a931d1c4756",
   "metadata": {
    "tags": []
   },
   "outputs": [],
   "source": [
    "s1.dt.time()"
   ]
  },
  {
   "cell_type": "markdown",
   "id": "f4269125-4871-4ff7-bae5-9d3ca1d9dc2c",
   "metadata": {},
   "source": [
    "### Extraer año, mes, día y hora"
   ]
  },
  {
   "cell_type": "code",
   "execution_count": null,
   "id": "85b16f7e-a3b5-4d8c-8731-e9239c121003",
   "metadata": {
    "tags": []
   },
   "outputs": [],
   "source": [
    "s1.dt.year()"
   ]
  },
  {
   "cell_type": "code",
   "execution_count": null,
   "id": "ee792e58-4721-4337-b481-bf2683b60cc0",
   "metadata": {
    "tags": []
   },
   "outputs": [],
   "source": [
    "s1.dt.month()"
   ]
  },
  {
   "cell_type": "code",
   "execution_count": null,
   "id": "fbb29cc8-c65a-4d26-9e78-e5e83a559aca",
   "metadata": {
    "tags": []
   },
   "outputs": [],
   "source": [
    "s1.dt.day()"
   ]
  },
  {
   "cell_type": "code",
   "execution_count": null,
   "id": "c1206f79-8984-40aa-a187-a957a44aeeaa",
   "metadata": {
    "tags": []
   },
   "outputs": [],
   "source": [
    "s1.dt.hour()"
   ]
  },
  {
   "cell_type": "markdown",
   "id": "fcc483f0-0c05-4e7a-be2f-008a92fe9943",
   "metadata": {
    "tags": []
   },
   "source": [
    "### Hallar el primer y el último día del mes"
   ]
  },
  {
   "cell_type": "code",
   "execution_count": null,
   "id": "34e365e1-b4d2-4e09-838c-51b3b9b1189d",
   "metadata": {
    "tags": []
   },
   "outputs": [],
   "source": [
    "s1.dt.month_start()"
   ]
  },
  {
   "cell_type": "code",
   "execution_count": null,
   "id": "f0aed297-4964-4762-b7ae-18d5bb5da6ca",
   "metadata": {
    "tags": []
   },
   "outputs": [],
   "source": [
    "s1.dt.month_end()"
   ]
  },
  {
   "cell_type": "markdown",
   "id": "a8fb85dd-8800-4cb3-82a4-89b9fb49b455",
   "metadata": {},
   "source": [
    "### Hallar la mayor y la menor fecha de la serie"
   ]
  },
  {
   "cell_type": "code",
   "execution_count": null,
   "id": "d3c99afe-288b-4f57-9205-207070331f7d",
   "metadata": {
    "tags": []
   },
   "outputs": [],
   "source": [
    "s1.dt.max()"
   ]
  },
  {
   "cell_type": "code",
   "execution_count": null,
   "id": "28eee0fc-1c58-4908-b1f3-e18c97fddad6",
   "metadata": {
    "tags": []
   },
   "outputs": [],
   "source": [
    "s1.dt.min()"
   ]
  },
  {
   "cell_type": "markdown",
   "id": "e124360c-61ae-4825-9efa-a3aa99a79c50",
   "metadata": {},
   "source": [
    "### Hallar el número de semanas transcurridas y el día de la semana"
   ]
  },
  {
   "cell_type": "code",
   "execution_count": null,
   "id": "62922afb-5521-4d85-a3d5-26acf1bca322",
   "metadata": {
    "tags": []
   },
   "outputs": [],
   "source": [
    "s1.dt.week()"
   ]
  },
  {
   "cell_type": "code",
   "execution_count": null,
   "id": "4d0f00f2-bde9-4a67-b1ab-a5115282ca8c",
   "metadata": {
    "tags": []
   },
   "outputs": [],
   "source": [
    "s1.dt.weekday()"
   ]
  },
  {
   "cell_type": "markdown",
   "id": "eff5c059-00c3-40a6-b87f-12bee42454e7",
   "metadata": {},
   "source": [
    "Para este caso Polars trabaja con lunes=1 y domingo=7"
   ]
  }
 ],
 "metadata": {
  "kernelspec": {
   "display_name": "Python 3 (ipykernel)",
   "language": "python",
   "name": "python3"
  },
  "language_info": {
   "codemirror_mode": {
    "name": "ipython",
    "version": 3
   },
   "file_extension": ".py",
   "mimetype": "text/x-python",
   "name": "python",
   "nbconvert_exporter": "python",
   "pygments_lexer": "ipython3",
   "version": "3.9.6"
  }
 },
 "nbformat": 4,
 "nbformat_minor": 5
}
