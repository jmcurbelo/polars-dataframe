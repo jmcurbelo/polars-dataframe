{
 "cells": [
  {
   "cell_type": "markdown",
   "id": "298cc689-c191-425d-b2a1-43c728071743",
   "metadata": {},
   "source": [
    "# Lectura 04: Importar polars"
   ]
  },
  {
   "cell_type": "markdown",
   "id": "68355d75-85cc-4335-91d2-673b347e18ed",
   "metadata": {},
   "source": [
    "## Importar Polars"
   ]
  },
  {
   "cell_type": "markdown",
   "id": "b5aa4957-7de8-4ed5-8981-84d73ab02c46",
   "metadata": {},
   "source": [
    "Usualmente la librería de Polars se importa de la siguiente manera:"
   ]
  },
  {
   "cell_type": "code",
   "execution_count": 1,
   "id": "b3176883-f321-4a41-be01-930cf5978b3e",
   "metadata": {
    "tags": []
   },
   "outputs": [],
   "source": [
    "import polars as pl"
   ]
  },
  {
   "cell_type": "markdown",
   "id": "b68a73f0-fc7a-4f6c-850e-c4f149b70517",
   "metadata": {},
   "source": [
    "# Ejecutar la primera sentencia de Polars"
   ]
  },
  {
   "cell_type": "code",
   "execution_count": 2,
   "id": "f4862080-4b99-4a6b-bfe3-d6a55c8b19dc",
   "metadata": {
    "tags": []
   },
   "outputs": [],
   "source": [
    "df = pl.DataFrame(\n",
    "     {\n",
    "         \"numeros\": [1, 2, 3],\n",
    "         \"colores\": [\"rojo\", \"azul\", \"verde\"],\n",
    "         \"pais\": [\"Cuba\", \"Mexico\", \"Francia\"]\n",
    "     }\n",
    " )"
   ]
  },
  {
   "cell_type": "markdown",
   "id": "0cedcc65-7ae2-44bb-a6b8-85111192de6b",
   "metadata": {},
   "source": [
    "# Mostrar el DataFrame"
   ]
  },
  {
   "cell_type": "code",
   "execution_count": 3,
   "id": "5340ab28-10fa-4788-8d88-b3c3c879f962",
   "metadata": {
    "tags": []
   },
   "outputs": [
    {
     "data": {
      "text/html": [
       "<div><style>\n",
       ".dataframe > thead > tr,\n",
       ".dataframe > tbody > tr {\n",
       "  text-align: right;\n",
       "  white-space: pre-wrap;\n",
       "}\n",
       "</style>\n",
       "<small>shape: (3, 3)</small><table border=\"1\" class=\"dataframe\"><thead><tr><th>numeros</th><th>colores</th><th>pais</th></tr><tr><td>i64</td><td>str</td><td>str</td></tr></thead><tbody><tr><td>1</td><td>&quot;rojo&quot;</td><td>&quot;Cuba&quot;</td></tr><tr><td>2</td><td>&quot;azul&quot;</td><td>&quot;Mexico&quot;</td></tr><tr><td>3</td><td>&quot;verde&quot;</td><td>&quot;Francia&quot;</td></tr></tbody></table></div>"
      ],
      "text/plain": [
       "shape: (3, 3)\n",
       "┌─────────┬─────────┬─────────┐\n",
       "│ numeros ┆ colores ┆ pais    │\n",
       "│ ---     ┆ ---     ┆ ---     │\n",
       "│ i64     ┆ str     ┆ str     │\n",
       "╞═════════╪═════════╪═════════╡\n",
       "│ 1       ┆ rojo    ┆ Cuba    │\n",
       "│ 2       ┆ azul    ┆ Mexico  │\n",
       "│ 3       ┆ verde   ┆ Francia │\n",
       "└─────────┴─────────┴─────────┘"
      ]
     },
     "execution_count": 3,
     "metadata": {},
     "output_type": "execute_result"
    }
   ],
   "source": [
    "df"
   ]
  }
 ],
 "metadata": {
  "kernelspec": {
   "display_name": "Python 3 (ipykernel)",
   "language": "python",
   "name": "python3"
  },
  "language_info": {
   "codemirror_mode": {
    "name": "ipython",
    "version": 3
   },
   "file_extension": ".py",
   "mimetype": "text/x-python",
   "name": "python",
   "nbconvert_exporter": "python",
   "pygments_lexer": "ipython3",
   "version": "3.9.6"
  }
 },
 "nbformat": 4,
 "nbformat_minor": 5
}
