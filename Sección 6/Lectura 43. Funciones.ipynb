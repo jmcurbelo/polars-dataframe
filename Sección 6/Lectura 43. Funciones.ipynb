{
 "cells": [
  {
   "cell_type": "markdown",
   "id": "4de813ca-46b9-4903-a430-27ecce68b162",
   "metadata": {},
   "source": [
    "# Lectura 43: Funciones"
   ]
  },
  {
   "cell_type": "markdown",
   "id": "7133aed3-7eb1-46f6-b513-4ce87328a66a",
   "metadata": {},
   "source": [
    "## Condicionales\n",
    "\n",
    "Polars admite condiciones similares a if-else en expresiones con la sintaxis `when`, `then`, y `otherwise`. La condición se coloca dentro de la cláusula `when` y cuando se evalúa como verdadero, se aplica lo que esté dentro del `then`; de lo contrario, se aplica lo que esté dentro del `otherwise`."
   ]
  },
  {
   "cell_type": "code",
   "execution_count": 1,
   "id": "e4342272-d4cd-4260-b972-e63a901f31af",
   "metadata": {
    "tags": []
   },
   "outputs": [],
   "source": [
    "import polars as pl\n",
    "from polars import col\n",
    "\n",
    "vuelos_lf = (\n",
    "    pl.scan_parquet('./data/vuelos/vuelos.parquet')\n",
    ")"
   ]
  },
  {
   "cell_type": "code",
   "execution_count": 2,
   "id": "c8b6c446-b705-4e8a-9577-d3e0ddc8ba61",
   "metadata": {
    "tags": []
   },
   "outputs": [
    {
     "data": {
      "text/html": [
       "<div><style>\n",
       ".dataframe > thead > tr,\n",
       ".dataframe > tbody > tr {\n",
       "  text-align: right;\n",
       "  white-space: pre-wrap;\n",
       "}\n",
       "</style>\n",
       "<small>shape: (5_819_079, 2)</small><table border=\"1\" class=\"dataframe\"><thead><tr><th>MONTH</th><th>semestre</th></tr><tr><td>i32</td><td>str</td></tr></thead><tbody><tr><td>1</td><td>&quot;Primer Semestre&quot;</td></tr><tr><td>1</td><td>&quot;Primer Semestre&quot;</td></tr><tr><td>1</td><td>&quot;Primer Semestre&quot;</td></tr><tr><td>1</td><td>&quot;Primer Semestre&quot;</td></tr><tr><td>1</td><td>&quot;Primer Semestre&quot;</td></tr><tr><td>&hellip;</td><td>&hellip;</td></tr><tr><td>12</td><td>&quot;Segundo Semestre&quot;</td></tr><tr><td>12</td><td>&quot;Segundo Semestre&quot;</td></tr><tr><td>12</td><td>&quot;Segundo Semestre&quot;</td></tr><tr><td>12</td><td>&quot;Segundo Semestre&quot;</td></tr><tr><td>12</td><td>&quot;Segundo Semestre&quot;</td></tr></tbody></table></div>"
      ],
      "text/plain": [
       "shape: (5_819_079, 2)\n",
       "┌───────┬──────────────────┐\n",
       "│ MONTH ┆ semestre         │\n",
       "│ ---   ┆ ---              │\n",
       "│ i32   ┆ str              │\n",
       "╞═══════╪══════════════════╡\n",
       "│ 1     ┆ Primer Semestre  │\n",
       "│ 1     ┆ Primer Semestre  │\n",
       "│ 1     ┆ Primer Semestre  │\n",
       "│ 1     ┆ Primer Semestre  │\n",
       "│ 1     ┆ Primer Semestre  │\n",
       "│ …     ┆ …                │\n",
       "│ 12    ┆ Segundo Semestre │\n",
       "│ 12    ┆ Segundo Semestre │\n",
       "│ 12    ┆ Segundo Semestre │\n",
       "│ 12    ┆ Segundo Semestre │\n",
       "│ 12    ┆ Segundo Semestre │\n",
       "└───────┴──────────────────┘"
      ]
     },
     "execution_count": 2,
     "metadata": {},
     "output_type": "execute_result"
    }
   ],
   "source": [
    "from polars import when, lit\n",
    "\n",
    "vuelos_lf.select(\n",
    "    col('MONTH'),\n",
    "    when(col('MONTH') <= 6)\n",
    "    .then(lit('Primer Semestre'))\n",
    "    .otherwise(lit('Segundo Semestre'))\n",
    "    .alias('semestre')\n",
    ").collect()"
   ]
  },
  {
   "cell_type": "markdown",
   "id": "f4d84a16-5fc6-4e52-b091-3082bde58227",
   "metadata": {},
   "source": [
    "## `coalesce`\n",
    "\n",
    "Esta función toma una o varias columnas como argumento y mantiene el primer valor no nulo de izquierda a derecha."
   ]
  },
  {
   "cell_type": "code",
   "execution_count": 3,
   "id": "b46dd11d-0b6d-46f7-a443-db9251d61af7",
   "metadata": {
    "tags": []
   },
   "outputs": [
    {
     "data": {
      "text/html": [
       "<div><style>\n",
       ".dataframe > thead > tr,\n",
       ".dataframe > tbody > tr {\n",
       "  text-align: right;\n",
       "  white-space: pre-wrap;\n",
       "}\n",
       "</style>\n",
       "<small>shape: (5, 2)</small><table border=\"1\" class=\"dataframe\"><thead><tr><th>CANCELLATION_REASON</th><th>len</th></tr><tr><td>str</td><td>u32</td></tr></thead><tbody><tr><td>&quot;B&quot;</td><td>48851</td></tr><tr><td>&quot;A&quot;</td><td>25262</td></tr><tr><td>null</td><td>5729195</td></tr><tr><td>&quot;C&quot;</td><td>15749</td></tr><tr><td>&quot;D&quot;</td><td>22</td></tr></tbody></table></div>"
      ],
      "text/plain": [
       "shape: (5, 2)\n",
       "┌─────────────────────┬─────────┐\n",
       "│ CANCELLATION_REASON ┆ len     │\n",
       "│ ---                 ┆ ---     │\n",
       "│ str                 ┆ u32     │\n",
       "╞═════════════════════╪═════════╡\n",
       "│ B                   ┆ 48851   │\n",
       "│ A                   ┆ 25262   │\n",
       "│ null                ┆ 5729195 │\n",
       "│ C                   ┆ 15749   │\n",
       "│ D                   ┆ 22      │\n",
       "└─────────────────────┴─────────┘"
      ]
     },
     "execution_count": 3,
     "metadata": {},
     "output_type": "execute_result"
    }
   ],
   "source": [
    "vuelos_lf.group_by('CANCELLATION_REASON').len().collect()"
   ]
  },
  {
   "cell_type": "code",
   "execution_count": 4,
   "id": "a34464fa-4109-44b9-8f82-72b197073f90",
   "metadata": {
    "tags": []
   },
   "outputs": [
    {
     "data": {
      "text/html": [
       "<div><style>\n",
       ".dataframe > thead > tr,\n",
       ".dataframe > tbody > tr {\n",
       "  text-align: right;\n",
       "  white-space: pre-wrap;\n",
       "}\n",
       "</style>\n",
       "<small>shape: (5, 2)</small><table border=\"1\" class=\"dataframe\"><thead><tr><th>CANCELLATION_REASON_DES</th><th>len</th></tr><tr><td>str</td><td>u32</td></tr></thead><tbody><tr><td>&quot;NA&quot;</td><td>5729195</td></tr><tr><td>&quot;D&quot;</td><td>22</td></tr><tr><td>&quot;A&quot;</td><td>25262</td></tr><tr><td>&quot;B&quot;</td><td>48851</td></tr><tr><td>&quot;C&quot;</td><td>15749</td></tr></tbody></table></div>"
      ],
      "text/plain": [
       "shape: (5, 2)\n",
       "┌─────────────────────────┬─────────┐\n",
       "│ CANCELLATION_REASON_DES ┆ len     │\n",
       "│ ---                     ┆ ---     │\n",
       "│ str                     ┆ u32     │\n",
       "╞═════════════════════════╪═════════╡\n",
       "│ NA                      ┆ 5729195 │\n",
       "│ D                       ┆ 22      │\n",
       "│ A                       ┆ 25262   │\n",
       "│ B                       ┆ 48851   │\n",
       "│ C                       ┆ 15749   │\n",
       "└─────────────────────────┴─────────┘"
      ]
     },
     "execution_count": 4,
     "metadata": {},
     "output_type": "execute_result"
    }
   ],
   "source": [
    "from polars import coalesce\n",
    "\n",
    "vuelos_lf.select(\n",
    "    col('*'),\n",
    "    coalesce('CANCELLATION_REASON', lit('NA')).name.suffix('_DES')\n",
    ").group_by('CANCELLATION_REASON_DES').len().collect()"
   ]
  },
  {
   "cell_type": "markdown",
   "id": "c80545ed-92e7-4470-9219-38985ee9c835",
   "metadata": {},
   "source": [
    "## `concat_list` y `concat_str`\n",
    "\n",
    "Estas funciones permiten concatenar un conjunto de columnas en una lista o en un string."
   ]
  },
  {
   "cell_type": "code",
   "execution_count": 5,
   "id": "2f1fd469-5cf0-4f4a-b1ec-5adb04179574",
   "metadata": {
    "tags": []
   },
   "outputs": [
    {
     "data": {
      "text/html": [
       "<div><style>\n",
       ".dataframe > thead > tr,\n",
       ".dataframe > tbody > tr {\n",
       "  text-align: right;\n",
       "  white-space: pre-wrap;\n",
       "}\n",
       "</style>\n",
       "<small>shape: (5_819_079, 1)</small><table border=\"1\" class=\"dataframe\"><thead><tr><th>YEAR</th></tr><tr><td>list[i32]</td></tr></thead><tbody><tr><td>[2015, 1, 1]</td></tr><tr><td>[2015, 1, 1]</td></tr><tr><td>[2015, 1, 1]</td></tr><tr><td>[2015, 1, 1]</td></tr><tr><td>[2015, 1, 1]</td></tr><tr><td>&hellip;</td></tr><tr><td>[2015, 12, 31]</td></tr><tr><td>[2015, 12, 31]</td></tr><tr><td>[2015, 12, 31]</td></tr><tr><td>[2015, 12, 31]</td></tr><tr><td>[2015, 12, 31]</td></tr></tbody></table></div>"
      ],
      "text/plain": [
       "shape: (5_819_079, 1)\n",
       "┌────────────────┐\n",
       "│ YEAR           │\n",
       "│ ---            │\n",
       "│ list[i32]      │\n",
       "╞════════════════╡\n",
       "│ [2015, 1, 1]   │\n",
       "│ [2015, 1, 1]   │\n",
       "│ [2015, 1, 1]   │\n",
       "│ [2015, 1, 1]   │\n",
       "│ [2015, 1, 1]   │\n",
       "│ …              │\n",
       "│ [2015, 12, 31] │\n",
       "│ [2015, 12, 31] │\n",
       "│ [2015, 12, 31] │\n",
       "│ [2015, 12, 31] │\n",
       "│ [2015, 12, 31] │\n",
       "└────────────────┘"
      ]
     },
     "execution_count": 5,
     "metadata": {},
     "output_type": "execute_result"
    }
   ],
   "source": [
    "from polars import concat_list, concat_str\n",
    "\n",
    "vuelos_lf.select(\n",
    "    concat_list('YEAR', 'MONTH', 'DAY')\n",
    ").collect()"
   ]
  },
  {
   "cell_type": "code",
   "execution_count": 6,
   "id": "c5796c39-ab59-43cb-9e99-2adc76cc60e6",
   "metadata": {
    "tags": []
   },
   "outputs": [
    {
     "data": {
      "text/html": [
       "<div><style>\n",
       ".dataframe > thead > tr,\n",
       ".dataframe > tbody > tr {\n",
       "  text-align: right;\n",
       "  white-space: pre-wrap;\n",
       "}\n",
       "</style>\n",
       "<small>shape: (5_819_079, 1)</small><table border=\"1\" class=\"dataframe\"><thead><tr><th>YEAR</th></tr><tr><td>str</td></tr></thead><tbody><tr><td>&quot;2015-1-1&quot;</td></tr><tr><td>&quot;2015-1-1&quot;</td></tr><tr><td>&quot;2015-1-1&quot;</td></tr><tr><td>&quot;2015-1-1&quot;</td></tr><tr><td>&quot;2015-1-1&quot;</td></tr><tr><td>&hellip;</td></tr><tr><td>&quot;2015-12-31&quot;</td></tr><tr><td>&quot;2015-12-31&quot;</td></tr><tr><td>&quot;2015-12-31&quot;</td></tr><tr><td>&quot;2015-12-31&quot;</td></tr><tr><td>&quot;2015-12-31&quot;</td></tr></tbody></table></div>"
      ],
      "text/plain": [
       "shape: (5_819_079, 1)\n",
       "┌────────────┐\n",
       "│ YEAR       │\n",
       "│ ---        │\n",
       "│ str        │\n",
       "╞════════════╡\n",
       "│ 2015-1-1   │\n",
       "│ 2015-1-1   │\n",
       "│ 2015-1-1   │\n",
       "│ 2015-1-1   │\n",
       "│ 2015-1-1   │\n",
       "│ …          │\n",
       "│ 2015-12-31 │\n",
       "│ 2015-12-31 │\n",
       "│ 2015-12-31 │\n",
       "│ 2015-12-31 │\n",
       "│ 2015-12-31 │\n",
       "└────────────┘"
      ]
     },
     "execution_count": 6,
     "metadata": {},
     "output_type": "execute_result"
    }
   ],
   "source": [
    "vuelos_lf.select(\n",
    "    concat_str('YEAR', 'MONTH', 'DAY', separator='-')\n",
    ").collect()"
   ]
  }
 ],
 "metadata": {
  "kernelspec": {
   "display_name": "Python 3 (ipykernel)",
   "language": "python",
   "name": "python3"
  },
  "language_info": {
   "codemirror_mode": {
    "name": "ipython",
    "version": 3
   },
   "file_extension": ".py",
   "mimetype": "text/x-python",
   "name": "python",
   "nbconvert_exporter": "python",
   "pygments_lexer": "ipython3",
   "version": "3.9.6"
  }
 },
 "nbformat": 4,
 "nbformat_minor": 5
}
