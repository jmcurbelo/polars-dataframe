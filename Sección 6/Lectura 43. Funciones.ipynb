{
 "cells": [
  {
   "cell_type": "markdown",
   "id": "4de813ca-46b9-4903-a430-27ecce68b162",
   "metadata": {},
   "source": [
    "# Lectura 43: Funciones"
   ]
  },
  {
   "cell_type": "markdown",
   "id": "7133aed3-7eb1-46f6-b513-4ce87328a66a",
   "metadata": {},
   "source": [
    "## Condicionales\n",
    "\n",
    "Polars admite condiciones similares a if-else en expresiones con la sintaxis `when`, `then`, y `otherwise`. La condición se coloca dentro de la cláusula `when` y cuando se evalúa como verdadero, se aplica lo que esté dentro del `then`; de lo contrario, se aplica lo que esté dentro del `otherwise`."
   ]
  },
  {
   "cell_type": "code",
   "execution_count": null,
   "id": "e4342272-d4cd-4260-b972-e63a901f31af",
   "metadata": {},
   "outputs": [],
   "source": [
    "import polars as pl\n",
    "from polars import col\n",
    "\n",
    "vuelos_lf = (\n",
    "    pl.scan_parquet('./data/vuelos/vuelos.parquet')\n",
    ")"
   ]
  },
  {
   "cell_type": "code",
   "execution_count": null,
   "id": "c8b6c446-b705-4e8a-9577-d3e0ddc8ba61",
   "metadata": {},
   "outputs": [],
   "source": [
    "from polars import when, lit\n",
    "\n",
    "vuelos_lf.select(\n",
    "    col('MONTH'),\n",
    "    when(col('MONTH') <= 6)\n",
    "    .then(lit('Primer Semestre'))\n",
    "    .otherwise(lit('Segundo Semestre'))\n",
    "    .alias('semestre')\n",
    ").collect()"
   ]
  },
  {
   "cell_type": "markdown",
   "id": "f4d84a16-5fc6-4e52-b091-3082bde58227",
   "metadata": {},
   "source": [
    "## `coalesce`\n",
    "\n",
    "Esta función toma una o varias columnas como argumento y mantiene el primer valor no nulo de izquierda a derecha."
   ]
  },
  {
   "cell_type": "code",
   "execution_count": null,
   "id": "b46dd11d-0b6d-46f7-a443-db9251d61af7",
   "metadata": {},
   "outputs": [],
   "source": [
    "vuelos_lf.group_by('CANCELLATION_REASON').len().collect()"
   ]
  },
  {
   "cell_type": "code",
   "execution_count": null,
   "id": "a34464fa-4109-44b9-8f82-72b197073f90",
   "metadata": {},
   "outputs": [],
   "source": [
    "from polars import coalesce\n",
    "\n",
    "vuelos_lf.select(\n",
    "    col('*'),\n",
    "    coalesce('CANCELLATION_REASON', lit('NA')).name.suffix('_DES')\n",
    ").group_by('CANCELLATION_REASON_DES').len().collect()"
   ]
  },
  {
   "cell_type": "markdown",
   "id": "c80545ed-92e7-4470-9219-38985ee9c835",
   "metadata": {},
   "source": [
    "## `concat_list` y `concat_str`\n",
    "\n",
    "Estas funciones permiten concatenar un conjunto de columnas en una lista o en un string."
   ]
  },
  {
   "cell_type": "code",
   "execution_count": null,
   "id": "2f1fd469-5cf0-4f4a-b1ec-5adb04179574",
   "metadata": {},
   "outputs": [],
   "source": [
    "from polars import concat_list, concat_str\n",
    "\n",
    "vuelos_lf.select(\n",
    "    concat_list('YEAR', 'MONTH', 'DAY')\n",
    ").collect()"
   ]
  },
  {
   "cell_type": "code",
   "execution_count": null,
   "id": "c5796c39-ab59-43cb-9e99-2adc76cc60e6",
   "metadata": {},
   "outputs": [],
   "source": [
    "vuelos_lf.select(\n",
    "    concat_str('YEAR', 'MONTH', 'DAY', separator='-')\n",
    ").collect()"
   ]
  }
 ],
 "metadata": {
  "kernelspec": {
   "display_name": "Python 3 (ipykernel)",
   "language": "python",
   "name": "python3"
  },
  "language_info": {
   "codemirror_mode": {
    "name": "ipython",
    "version": 3
   },
   "file_extension": ".py",
   "mimetype": "text/x-python",
   "name": "python",
   "nbconvert_exporter": "python",
   "pygments_lexer": "ipython3",
   "version": "3.8.13"
  }
 },
 "nbformat": 4,
 "nbformat_minor": 5
}
