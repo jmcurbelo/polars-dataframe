{
 "cells": [
  {
   "cell_type": "markdown",
   "id": "c3e48da3-7576-4135-9adf-ccb3f18fc84d",
   "metadata": {},
   "source": [
    "# Lectura 45: Listas y arreglos"
   ]
  },
  {
   "cell_type": "markdown",
   "id": "4108800c-d771-4020-9b94-3b93c55079cf",
   "metadata": {},
   "source": [
    "Polars permite trabajar con columnas de tipo Lista: es decir, columnas donde cada fila es una lista de elementos homogéneos, de diferentes longitudes. Polars también tiene un tipo de datos Array, que es análogo a los objetos ndarray de NumPy, donde la longitud es idéntica en todas las filas.\n",
    "\n",
    "Debemos tener en cuenta que esto es diferente a una lista de Python, donde los elementos pueden ser de cualquier tipo."
   ]
  },
  {
   "cell_type": "markdown",
   "id": "3ce27b9d-9224-44a8-916f-72213b6180ac",
   "metadata": {},
   "source": [
    "## Listas"
   ]
  },
  {
   "cell_type": "markdown",
   "id": "f5edebd6-c451-4bf2-aba5-5c19674b792a",
   "metadata": {},
   "source": [
    "Para esta parte de la lección estaremos trabajando con un dataset que contiene el promedio diario de temperatura obtenido en las mayores ciudades del mundo. El cual puede ser obtenido desde Kaggle [en este enlace](https://www.kaggle.com/datasets/sudalairajkumar/daily-temperature-of-major-cities)."
   ]
  },
  {
   "cell_type": "code",
   "execution_count": 1,
   "id": "a7678be8-c978-4c6c-8099-14b901db7ac0",
   "metadata": {
    "tags": []
   },
   "outputs": [
    {
     "data": {
      "text/html": [
       "<div><style>\n",
       ".dataframe > thead > tr,\n",
       ".dataframe > tbody > tr {\n",
       "  text-align: right;\n",
       "  white-space: pre-wrap;\n",
       "}\n",
       "</style>\n",
       "<small>shape: (2_906_327, 8)</small><table border=\"1\" class=\"dataframe\"><thead><tr><th>Region</th><th>Country</th><th>State</th><th>City</th><th>Month</th><th>Day</th><th>Year</th><th>AvgTemperature</th></tr><tr><td>str</td><td>str</td><td>str</td><td>str</td><td>i64</td><td>i64</td><td>i64</td><td>f64</td></tr></thead><tbody><tr><td>&quot;Africa&quot;</td><td>&quot;Algeria&quot;</td><td>null</td><td>&quot;Algiers&quot;</td><td>1</td><td>1</td><td>1995</td><td>64.2</td></tr><tr><td>&quot;Africa&quot;</td><td>&quot;Algeria&quot;</td><td>null</td><td>&quot;Algiers&quot;</td><td>1</td><td>2</td><td>1995</td><td>49.4</td></tr><tr><td>&quot;Africa&quot;</td><td>&quot;Algeria&quot;</td><td>null</td><td>&quot;Algiers&quot;</td><td>1</td><td>3</td><td>1995</td><td>48.8</td></tr><tr><td>&quot;Africa&quot;</td><td>&quot;Algeria&quot;</td><td>null</td><td>&quot;Algiers&quot;</td><td>1</td><td>4</td><td>1995</td><td>46.4</td></tr><tr><td>&quot;Africa&quot;</td><td>&quot;Algeria&quot;</td><td>null</td><td>&quot;Algiers&quot;</td><td>1</td><td>5</td><td>1995</td><td>47.9</td></tr><tr><td>&hellip;</td><td>&hellip;</td><td>&hellip;</td><td>&hellip;</td><td>&hellip;</td><td>&hellip;</td><td>&hellip;</td><td>&hellip;</td></tr><tr><td>&quot;North America&quot;</td><td>&quot;US&quot;</td><td>&quot;Additional Territories&quot;</td><td>&quot;San Juan Puerto Rico&quot;</td><td>7</td><td>27</td><td>2013</td><td>82.4</td></tr><tr><td>&quot;North America&quot;</td><td>&quot;US&quot;</td><td>&quot;Additional Territories&quot;</td><td>&quot;San Juan Puerto Rico&quot;</td><td>7</td><td>28</td><td>2013</td><td>81.6</td></tr><tr><td>&quot;North America&quot;</td><td>&quot;US&quot;</td><td>&quot;Additional Territories&quot;</td><td>&quot;San Juan Puerto Rico&quot;</td><td>7</td><td>29</td><td>2013</td><td>84.2</td></tr><tr><td>&quot;North America&quot;</td><td>&quot;US&quot;</td><td>&quot;Additional Territories&quot;</td><td>&quot;San Juan Puerto Rico&quot;</td><td>7</td><td>30</td><td>2013</td><td>83.8</td></tr><tr><td>&quot;North America&quot;</td><td>&quot;US&quot;</td><td>&quot;Additional Territories&quot;</td><td>&quot;San Juan Puerto Rico&quot;</td><td>7</td><td>31</td><td>2013</td><td>83.6</td></tr></tbody></table></div>"
      ],
      "text/plain": [
       "shape: (2_906_327, 8)\n",
       "┌───────────────┬─────────┬─────────────┬─────────────────┬───────┬─────┬──────┬────────────────┐\n",
       "│ Region        ┆ Country ┆ State       ┆ City            ┆ Month ┆ Day ┆ Year ┆ AvgTemperature │\n",
       "│ ---           ┆ ---     ┆ ---         ┆ ---             ┆ ---   ┆ --- ┆ ---  ┆ ---            │\n",
       "│ str           ┆ str     ┆ str         ┆ str             ┆ i64   ┆ i64 ┆ i64  ┆ f64            │\n",
       "╞═══════════════╪═════════╪═════════════╪═════════════════╪═══════╪═════╪══════╪════════════════╡\n",
       "│ Africa        ┆ Algeria ┆ null        ┆ Algiers         ┆ 1     ┆ 1   ┆ 1995 ┆ 64.2           │\n",
       "│ Africa        ┆ Algeria ┆ null        ┆ Algiers         ┆ 1     ┆ 2   ┆ 1995 ┆ 49.4           │\n",
       "│ Africa        ┆ Algeria ┆ null        ┆ Algiers         ┆ 1     ┆ 3   ┆ 1995 ┆ 48.8           │\n",
       "│ Africa        ┆ Algeria ┆ null        ┆ Algiers         ┆ 1     ┆ 4   ┆ 1995 ┆ 46.4           │\n",
       "│ Africa        ┆ Algeria ┆ null        ┆ Algiers         ┆ 1     ┆ 5   ┆ 1995 ┆ 47.9           │\n",
       "│ …             ┆ …       ┆ …           ┆ …               ┆ …     ┆ …   ┆ …    ┆ …              │\n",
       "│ North America ┆ US      ┆ Additional  ┆ San Juan Puerto ┆ 7     ┆ 27  ┆ 2013 ┆ 82.4           │\n",
       "│               ┆         ┆ Territories ┆ Rico            ┆       ┆     ┆      ┆                │\n",
       "│ North America ┆ US      ┆ Additional  ┆ San Juan Puerto ┆ 7     ┆ 28  ┆ 2013 ┆ 81.6           │\n",
       "│               ┆         ┆ Territories ┆ Rico            ┆       ┆     ┆      ┆                │\n",
       "│ North America ┆ US      ┆ Additional  ┆ San Juan Puerto ┆ 7     ┆ 29  ┆ 2013 ┆ 84.2           │\n",
       "│               ┆         ┆ Territories ┆ Rico            ┆       ┆     ┆      ┆                │\n",
       "│ North America ┆ US      ┆ Additional  ┆ San Juan Puerto ┆ 7     ┆ 30  ┆ 2013 ┆ 83.8           │\n",
       "│               ┆         ┆ Territories ┆ Rico            ┆       ┆     ┆      ┆                │\n",
       "│ North America ┆ US      ┆ Additional  ┆ San Juan Puerto ┆ 7     ┆ 31  ┆ 2013 ┆ 83.6           │\n",
       "│               ┆         ┆ Territories ┆ Rico            ┆       ┆     ┆      ┆                │\n",
       "└───────────────┴─────────┴─────────────┴─────────────────┴───────┴─────┴──────┴────────────────┘"
      ]
     },
     "execution_count": 1,
     "metadata": {},
     "output_type": "execute_result"
    }
   ],
   "source": [
    "import polars as pl\n",
    "\n",
    "city_temperatures = (\n",
    "    pl.scan_csv('./data/city_temperature.csv')\n",
    ")\n",
    "\n",
    "city_temperatures.collect()"
   ]
  },
  {
   "cell_type": "markdown",
   "id": "ed49b87f-7986-4929-bc32-b30522776da4",
   "metadata": {},
   "source": [
    "Lo que vamos a realizar a continuación es generar una lista que contenga todos los promedios de temperaturas registrados en cada una de las ciudades en una lista para que así podamos ver como funciona la manipulación de listas en Polars."
   ]
  },
  {
   "cell_type": "code",
   "execution_count": 2,
   "id": "19cb7400-f853-4983-851d-8be1b74f64cd",
   "metadata": {
    "tags": []
   },
   "outputs": [
    {
     "data": {
      "text/html": [
       "<div><style>\n",
       ".dataframe > thead > tr,\n",
       ".dataframe > tbody > tr {\n",
       "  text-align: right;\n",
       "  white-space: pre-wrap;\n",
       "}\n",
       "</style>\n",
       "<small>shape: (321, 2)</small><table border=\"1\" class=\"dataframe\"><thead><tr><th>City</th><th>AvgTemperature</th></tr><tr><td>str</td><td>list[f64]</td></tr></thead><tbody><tr><td>&quot;Dusanbe&quot;</td><td>[40.1, 47.3, … 63.9]</td></tr><tr><td>&quot;Budapest&quot;</td><td>[34.9, 34.9, … 38.5]</td></tr><tr><td>&quot;Abu Dhabi&quot;</td><td>[64.0, 67.1, … 83.5]</td></tr><tr><td>&quot;Mobile&quot;</td><td>[59.3, 45.4, … 64.2]</td></tr><tr><td>&quot;Wilmington&quot;</td><td>[40.8, 36.8, … 64.8]</td></tr><tr><td>&hellip;</td><td>&hellip;</td></tr><tr><td>&quot;Asheville&quot;</td><td>[47.4, 36.9, … 52.4]</td></tr><tr><td>&quot;Chicago&quot;</td><td>[23.7, 13.8, … 46.6]</td></tr><tr><td>&quot;Nashville&quot;</td><td>[46.7, 28.7, … 54.8]</td></tr><tr><td>&quot;Minsk&quot;</td><td>[34.4, 30.0, … 62.6]</td></tr><tr><td>&quot;Cheyenne&quot;</td><td>[8.8, 19.0, … 48.5]</td></tr></tbody></table></div>"
      ],
      "text/plain": [
       "shape: (321, 2)\n",
       "┌────────────┬──────────────────────┐\n",
       "│ City       ┆ AvgTemperature       │\n",
       "│ ---        ┆ ---                  │\n",
       "│ str        ┆ list[f64]            │\n",
       "╞════════════╪══════════════════════╡\n",
       "│ Dusanbe    ┆ [40.1, 47.3, … 63.9] │\n",
       "│ Budapest   ┆ [34.9, 34.9, … 38.5] │\n",
       "│ Abu Dhabi  ┆ [64.0, 67.1, … 83.5] │\n",
       "│ Mobile     ┆ [59.3, 45.4, … 64.2] │\n",
       "│ Wilmington ┆ [40.8, 36.8, … 64.8] │\n",
       "│ …          ┆ …                    │\n",
       "│ Asheville  ┆ [47.4, 36.9, … 52.4] │\n",
       "│ Chicago    ┆ [23.7, 13.8, … 46.6] │\n",
       "│ Nashville  ┆ [46.7, 28.7, … 54.8] │\n",
       "│ Minsk      ┆ [34.4, 30.0, … 62.6] │\n",
       "│ Cheyenne   ┆ [8.8, 19.0, … 48.5]  │\n",
       "└────────────┴──────────────────────┘"
      ]
     },
     "execution_count": 2,
     "metadata": {},
     "output_type": "execute_result"
    }
   ],
   "source": [
    "avg_temp_city = (\n",
    "    city_temperatures.group_by('City').agg(\n",
    "    pl.col('AvgTemperature').implode().flatten()\n",
    "    )\n",
    ").collect()\n",
    "\n",
    "avg_temp_city"
   ]
  },
  {
   "cell_type": "markdown",
   "id": "88782aef-04e3-41dd-b6ee-b9eed50a5acd",
   "metadata": {},
   "source": [
    "## Operaciones en columnas de tipo `List`\n",
    "\n",
    "Polars proporciona varias operaciones estándar en las columnas de tipo `List`. Si queremos las tres primeras temperaturas, podemos hacer un `head(3)`. Las últimas tres se pueden obtener mediante un `tail(3)` o, alternativamente, podemos usar `slice` donde se admite indexación negativa. También podemos identificar el número de observaciones mediante la función `len`."
   ]
  },
  {
   "cell_type": "code",
   "execution_count": 3,
   "id": "9100fa6b-9240-49fb-981e-19ce591be201",
   "metadata": {
    "tags": []
   },
   "outputs": [
    {
     "data": {
      "text/html": [
       "<div><style>\n",
       ".dataframe > thead > tr,\n",
       ".dataframe > tbody > tr {\n",
       "  text-align: right;\n",
       "  white-space: pre-wrap;\n",
       "}\n",
       "</style>\n",
       "<small>shape: (321, 6)</small><table border=\"1\" class=\"dataframe\"><thead><tr><th>City</th><th>AvgTemperature</th><th>top_3</th><th>last_3</th><th>slice</th><th>total</th></tr><tr><td>str</td><td>list[f64]</td><td>list[f64]</td><td>list[f64]</td><td>list[f64]</td><td>u32</td></tr></thead><tbody><tr><td>&quot;Dusanbe&quot;</td><td>[40.1, 47.3, … 63.9]</td><td>[40.1, 47.3, 39.1]</td><td>[71.7, 72.7, 63.9]</td><td>[71.7, 72.7, 63.9]</td><td>9266</td></tr><tr><td>&quot;Budapest&quot;</td><td>[34.9, 34.9, … 38.5]</td><td>[34.9, 34.9, 29.0]</td><td>[67.4, 50.8, 38.5]</td><td>[67.4, 50.8, 38.5]</td><td>9266</td></tr><tr><td>&quot;Abu Dhabi&quot;</td><td>[64.0, 67.1, … 83.5]</td><td>[64.0, 67.1, 66.6]</td><td>[90.8, 87.6, 83.5]</td><td>[90.8, 87.6, 83.5]</td><td>9266</td></tr><tr><td>&quot;Mobile&quot;</td><td>[59.3, 45.4, … 64.2]</td><td>[59.3, 45.4, 42.8]</td><td>[67.5, 67.0, 64.2]</td><td>[67.5, 67.0, 64.2]</td><td>9265</td></tr><tr><td>&quot;Wilmington&quot;</td><td>[40.8, 36.8, … 64.8]</td><td>[40.8, 36.8, 25.9]</td><td>[69.3, 73.7, 64.8]</td><td>[69.3, 73.7, 64.8]</td><td>5751</td></tr><tr><td>&hellip;</td><td>&hellip;</td><td>&hellip;</td><td>&hellip;</td><td>&hellip;</td><td>&hellip;</td></tr><tr><td>&quot;Asheville&quot;</td><td>[47.4, 36.9, … 52.4]</td><td>[47.4, 36.9, 29.5]</td><td>[52.6, 49.2, 52.4]</td><td>[52.6, 49.2, 52.4]</td><td>9265</td></tr><tr><td>&quot;Chicago&quot;</td><td>[23.7, 13.8, … 46.6]</td><td>[23.7, 13.8, 14.1]</td><td>[43.3, 50.3, 46.6]</td><td>[43.3, 50.3, 46.6]</td><td>9265</td></tr><tr><td>&quot;Nashville&quot;</td><td>[46.7, 28.7, … 54.8]</td><td>[46.7, 28.7, 27.9]</td><td>[55.2, 54.7, 54.8]</td><td>[55.2, 54.7, 54.8]</td><td>9265</td></tr><tr><td>&quot;Minsk&quot;</td><td>[34.4, 30.0, … 62.6]</td><td>[34.4, 30.0, 26.8]</td><td>[54.6, 54.4, 62.6]</td><td>[54.6, 54.4, 62.6]</td><td>9264</td></tr><tr><td>&quot;Cheyenne&quot;</td><td>[8.8, 19.0, … 48.5]</td><td>[8.8, 19.0, 11.3]</td><td>[37.8, 41.9, 48.5]</td><td>[37.8, 41.9, 48.5]</td><td>9265</td></tr></tbody></table></div>"
      ],
      "text/plain": [
       "shape: (321, 6)\n",
       "┌────────────┬────────────────┬──────────────┬──────────────────────┬──────────────────────┬───────┐\n",
       "│ City       ┆ AvgTemperature ┆ top_3        ┆ last_3               ┆ slice                ┆ total │\n",
       "│ ---        ┆ ---            ┆ ---          ┆ ---                  ┆ ---                  ┆ ---   │\n",
       "│ str        ┆ list[f64]      ┆ list[f64]    ┆ list[f64]            ┆ list[f64]            ┆ u32   │\n",
       "╞════════════╪════════════════╪══════════════╪══════════════════════╪══════════════════════╪═══════╡\n",
       "│ Dusanbe    ┆ [40.1, 47.3, … ┆ [40.1, 47.3, ┆ [71.7, 72.7, 63.9]   ┆ [71.7, 72.7, 63.9]   ┆ 9266  │\n",
       "│            ┆ 63.9]          ┆ 39.1]        ┆                      ┆                      ┆       │\n",
       "│ Budapest   ┆ [34.9, 34.9, … ┆ [34.9, 34.9, ┆ [67.4, 50.8, 38.5]   ┆ [67.4, 50.8, 38.5]   ┆ 9266  │\n",
       "│            ┆ 38.5]          ┆ 29.0]        ┆                      ┆                      ┆       │\n",
       "│ Abu Dhabi  ┆ [64.0, 67.1, … ┆ [64.0, 67.1, ┆ [90.8, 87.6, 83.5]   ┆ [90.8, 87.6, 83.5]   ┆ 9266  │\n",
       "│            ┆ 83.5]          ┆ 66.6]        ┆                      ┆                      ┆       │\n",
       "│ Mobile     ┆ [59.3, 45.4, … ┆ [59.3, 45.4, ┆ [67.5, 67.0, 64.2]   ┆ [67.5, 67.0, 64.2]   ┆ 9265  │\n",
       "│            ┆ 64.2]          ┆ 42.8]        ┆                      ┆                      ┆       │\n",
       "│ Wilmington ┆ [40.8, 36.8, … ┆ [40.8, 36.8, ┆ [69.3, 73.7, 64.8]   ┆ [69.3, 73.7, 64.8]   ┆ 5751  │\n",
       "│            ┆ 64.8]          ┆ 25.9]        ┆                      ┆                      ┆       │\n",
       "│ …          ┆ …              ┆ …            ┆ …                    ┆ …                    ┆ …     │\n",
       "│ Asheville  ┆ [47.4, 36.9, … ┆ [47.4, 36.9, ┆ [52.6, 49.2, 52.4]   ┆ [52.6, 49.2, 52.4]   ┆ 9265  │\n",
       "│            ┆ 52.4]          ┆ 29.5]        ┆                      ┆                      ┆       │\n",
       "│ Chicago    ┆ [23.7, 13.8, … ┆ [23.7, 13.8, ┆ [43.3, 50.3, 46.6]   ┆ [43.3, 50.3, 46.6]   ┆ 9265  │\n",
       "│            ┆ 46.6]          ┆ 14.1]        ┆                      ┆                      ┆       │\n",
       "│ Nashville  ┆ [46.7, 28.7, … ┆ [46.7, 28.7, ┆ [55.2, 54.7, 54.8]   ┆ [55.2, 54.7, 54.8]   ┆ 9265  │\n",
       "│            ┆ 54.8]          ┆ 27.9]        ┆                      ┆                      ┆       │\n",
       "│ Minsk      ┆ [34.4, 30.0, … ┆ [34.4, 30.0, ┆ [54.6, 54.4, 62.6]   ┆ [54.6, 54.4, 62.6]   ┆ 9264  │\n",
       "│            ┆ 62.6]          ┆ 26.8]        ┆                      ┆                      ┆       │\n",
       "│ Cheyenne   ┆ [8.8, 19.0, …  ┆ [8.8, 19.0,  ┆ [37.8, 41.9, 48.5]   ┆ [37.8, 41.9, 48.5]   ┆ 9265  │\n",
       "│            ┆ 48.5]          ┆ 11.3]        ┆                      ┆                      ┆       │\n",
       "└────────────┴────────────────┴──────────────┴──────────────────────┴──────────────────────┴───────┘"
      ]
     },
     "execution_count": 3,
     "metadata": {},
     "output_type": "execute_result"
    }
   ],
   "source": [
    "from polars import col\n",
    "\n",
    "avg_temp_city.select(\n",
    "    col('City'),\n",
    "    col('AvgTemperature'),\n",
    "    col('AvgTemperature').list.head(3).alias('top_3'),\n",
    "    col('AvgTemperature').list.tail(3).alias('last_3'),\n",
    "    col('AvgTemperature').list.slice(-3).alias('slice'),\n",
    "    col('AvgTemperature').list.len().alias('total')\n",
    ")"
   ]
  },
  {
   "cell_type": "markdown",
   "id": "39d4c188-e612-40cd-9dd9-b0985e57c8e8",
   "metadata": {},
   "source": [
    "Una vez que tenemos las temperaturas en una lista es muy fácil obtener por ejemplo el promedio mínimo y máximo de temperatura por ciudad, así como la temperatura media. Además, podríamos ver las ciudades con el mayor promedio de temperatura."
   ]
  },
  {
   "cell_type": "code",
   "execution_count": 4,
   "id": "389abc8c-38b8-4a5e-99e9-41ec1a5d8a28",
   "metadata": {
    "tags": []
   },
   "outputs": [
    {
     "data": {
      "text/html": [
       "<div><style>\n",
       ".dataframe > thead > tr,\n",
       ".dataframe > tbody > tr {\n",
       "  text-align: right;\n",
       "  white-space: pre-wrap;\n",
       "}\n",
       "</style>\n",
       "<small>shape: (321, 4)</small><table border=\"1\" class=\"dataframe\"><thead><tr><th>City</th><th>temp_min</th><th>temp_max</th><th>temp_avg</th></tr><tr><td>str</td><td>f64</td><td>f64</td><td>f64</td></tr></thead><tbody><tr><td>&quot;Dubai&quot;</td><td>-99.0</td><td>107.5</td><td>82.972631</td></tr><tr><td>&quot;Chennai (Madras)&quot;</td><td>-99.0</td><td>97.9</td><td>82.847021</td></tr><tr><td>&quot;Doha&quot;</td><td>-99.0</td><td>108.5</td><td>82.235625</td></tr><tr><td>&quot;Abu Dhabi&quot;</td><td>-99.0</td><td>107.3</td><td>82.192499</td></tr><tr><td>&quot;Niamey&quot;</td><td>-99.0</td><td>102.8</td><td>81.951619</td></tr><tr><td>&hellip;</td><td>&hellip;</td><td>&hellip;</td><td>&hellip;</td></tr><tr><td>&quot;Frankfurt&quot;</td><td>-99.0</td><td>85.2</td><td>-13.668786</td></tr><tr><td>&quot;Lilongwe&quot;</td><td>-99.0</td><td>90.7</td><td>-20.585544</td></tr><tr><td>&quot;Georgetown&quot;</td><td>-99.0</td><td>90.6</td><td>-22.10152</td></tr><tr><td>&quot;Bonn&quot;</td><td>-99.0</td><td>86.9</td><td>-46.86805</td></tr><tr><td>&quot;Bujumbura&quot;</td><td>-99.0</td><td>89.1</td><td>-65.397138</td></tr></tbody></table></div>"
      ],
      "text/plain": [
       "shape: (321, 4)\n",
       "┌──────────────────┬──────────┬──────────┬────────────┐\n",
       "│ City             ┆ temp_min ┆ temp_max ┆ temp_avg   │\n",
       "│ ---              ┆ ---      ┆ ---      ┆ ---        │\n",
       "│ str              ┆ f64      ┆ f64      ┆ f64        │\n",
       "╞══════════════════╪══════════╪══════════╪════════════╡\n",
       "│ Dubai            ┆ -99.0    ┆ 107.5    ┆ 82.972631  │\n",
       "│ Chennai (Madras) ┆ -99.0    ┆ 97.9     ┆ 82.847021  │\n",
       "│ Doha             ┆ -99.0    ┆ 108.5    ┆ 82.235625  │\n",
       "│ Abu Dhabi        ┆ -99.0    ┆ 107.3    ┆ 82.192499  │\n",
       "│ Niamey           ┆ -99.0    ┆ 102.8    ┆ 81.951619  │\n",
       "│ …                ┆ …        ┆ …        ┆ …          │\n",
       "│ Frankfurt        ┆ -99.0    ┆ 85.2     ┆ -13.668786 │\n",
       "│ Lilongwe         ┆ -99.0    ┆ 90.7     ┆ -20.585544 │\n",
       "│ Georgetown       ┆ -99.0    ┆ 90.6     ┆ -22.10152  │\n",
       "│ Bonn             ┆ -99.0    ┆ 86.9     ┆ -46.86805  │\n",
       "│ Bujumbura        ┆ -99.0    ┆ 89.1     ┆ -65.397138 │\n",
       "└──────────────────┴──────────┴──────────┴────────────┘"
      ]
     },
     "execution_count": 4,
     "metadata": {},
     "output_type": "execute_result"
    }
   ],
   "source": [
    "avg_temp_city.select(\n",
    "    col('City'),\n",
    "    col('AvgTemperature').list.min().alias('temp_min'),\n",
    "    col('AvgTemperature').list.max().alias('temp_max'),\n",
    "    col('AvgTemperature').list.mean().alias('temp_avg')\n",
    ").sort('temp_avg', descending=True)"
   ]
  },
  {
   "cell_type": "markdown",
   "id": "79e3e87f-9d43-4dc9-88c1-59d079ff1614",
   "metadata": {},
   "source": [
    "## Array\n",
    "\n",
    "Los Array son un nuevo tipo de datos que se introdujo recientemente en Polars, (esto teniendo en cuenta la fecha en que se crea esta lección) y aún son bastante incipientes en cuanto a las características que ofrece. La principal diferencia entre una Lista y un Array es que este último se limita a tener el mismo número de elementos por fila, mientras que una Lista puede tener un número variable de elementos. Ambos aún requieren que el tipo de datos de cada elemento sea el mismo.\n",
    "\n",
    "Vamos a agregar una nueva columna al DataFrame `avg_temp_city` que sea de tipo Array. Para ello necesitamos tener la misma cantidad de temperaturas por cada ciudad para crear una nueva columna de tipo Array. A partir de la función `gather` que está disponible en una columna de tipo lista vamos a tomar un subconjunto de solo tres temperaturas por cada ciudad y luego realizaremos un `cast` para obtener así la columna de tipo Array."
   ]
  },
  {
   "cell_type": "code",
   "execution_count": 5,
   "id": "1e557817-01c2-4e89-b259-861dde35e209",
   "metadata": {
    "tags": []
   },
   "outputs": [
    {
     "data": {
      "text/html": [
       "<div><style>\n",
       ".dataframe > thead > tr,\n",
       ".dataframe > tbody > tr {\n",
       "  text-align: right;\n",
       "  white-space: pre-wrap;\n",
       "}\n",
       "</style>\n",
       "<small>shape: (321, 3)</small><table border=\"1\" class=\"dataframe\"><thead><tr><th>City</th><th>AvgTemperature</th><th>temp_array</th></tr><tr><td>str</td><td>list[f64]</td><td>array[f64, 3]</td></tr></thead><tbody><tr><td>&quot;Dusanbe&quot;</td><td>[40.1, 47.3, … 63.9]</td><td>[40.1, 47.3, 39.1]</td></tr><tr><td>&quot;Budapest&quot;</td><td>[34.9, 34.9, … 38.5]</td><td>[34.9, 34.9, 29.0]</td></tr><tr><td>&quot;Abu Dhabi&quot;</td><td>[64.0, 67.1, … 83.5]</td><td>[64.0, 67.1, 66.6]</td></tr><tr><td>&quot;Mobile&quot;</td><td>[59.3, 45.4, … 64.2]</td><td>[59.3, 45.4, 42.8]</td></tr><tr><td>&quot;Wilmington&quot;</td><td>[40.8, 36.8, … 64.8]</td><td>[40.8, 36.8, 25.9]</td></tr><tr><td>&hellip;</td><td>&hellip;</td><td>&hellip;</td></tr><tr><td>&quot;Asheville&quot;</td><td>[47.4, 36.9, … 52.4]</td><td>[47.4, 36.9, 29.5]</td></tr><tr><td>&quot;Chicago&quot;</td><td>[23.7, 13.8, … 46.6]</td><td>[23.7, 13.8, 14.1]</td></tr><tr><td>&quot;Nashville&quot;</td><td>[46.7, 28.7, … 54.8]</td><td>[46.7, 28.7, 27.9]</td></tr><tr><td>&quot;Minsk&quot;</td><td>[34.4, 30.0, … 62.6]</td><td>[34.4, 30.0, 26.8]</td></tr><tr><td>&quot;Cheyenne&quot;</td><td>[8.8, 19.0, … 48.5]</td><td>[8.8, 19.0, 11.3]</td></tr></tbody></table></div>"
      ],
      "text/plain": [
       "shape: (321, 3)\n",
       "┌────────────┬──────────────────────┬────────────────────┐\n",
       "│ City       ┆ AvgTemperature       ┆ temp_array         │\n",
       "│ ---        ┆ ---                  ┆ ---                │\n",
       "│ str        ┆ list[f64]            ┆ array[f64, 3]      │\n",
       "╞════════════╪══════════════════════╪════════════════════╡\n",
       "│ Dusanbe    ┆ [40.1, 47.3, … 63.9] ┆ [40.1, 47.3, 39.1] │\n",
       "│ Budapest   ┆ [34.9, 34.9, … 38.5] ┆ [34.9, 34.9, 29.0] │\n",
       "│ Abu Dhabi  ┆ [64.0, 67.1, … 83.5] ┆ [64.0, 67.1, 66.6] │\n",
       "│ Mobile     ┆ [59.3, 45.4, … 64.2] ┆ [59.3, 45.4, 42.8] │\n",
       "│ Wilmington ┆ [40.8, 36.8, … 64.8] ┆ [40.8, 36.8, 25.9] │\n",
       "│ …          ┆ …                    ┆ …                  │\n",
       "│ Asheville  ┆ [47.4, 36.9, … 52.4] ┆ [47.4, 36.9, 29.5] │\n",
       "│ Chicago    ┆ [23.7, 13.8, … 46.6] ┆ [23.7, 13.8, 14.1] │\n",
       "│ Nashville  ┆ [46.7, 28.7, … 54.8] ┆ [46.7, 28.7, 27.9] │\n",
       "│ Minsk      ┆ [34.4, 30.0, … 62.6] ┆ [34.4, 30.0, 26.8] │\n",
       "│ Cheyenne   ┆ [8.8, 19.0, … 48.5]  ┆ [8.8, 19.0, 11.3]  │\n",
       "└────────────┴──────────────────────┴────────────────────┘"
      ]
     },
     "execution_count": 5,
     "metadata": {},
     "output_type": "execute_result"
    }
   ],
   "source": [
    "avg_temp_city_array = avg_temp_city.with_columns(\n",
    "    temp_array=col('AvgTemperature').list.gather([0,1,2]).cast(pl.Array(inner=pl.Float64, width=3))\n",
    ")\n",
    "\n",
    "avg_temp_city_array"
   ]
  },
  {
   "cell_type": "markdown",
   "id": "9e314fc1-38f5-4710-bdcf-dc3a4b11edd4",
   "metadata": {},
   "source": [
    "Podemos acceder a los métodos de las columna de tipo Array a través de `.arr`. Veamos algunos ejemplos."
   ]
  },
  {
   "cell_type": "code",
   "execution_count": 6,
   "id": "53258592-8a1d-4953-a55a-7f89a102d2c4",
   "metadata": {
    "tags": []
   },
   "outputs": [
    {
     "data": {
      "text/html": [
       "<div><style>\n",
       ".dataframe > thead > tr,\n",
       ".dataframe > tbody > tr {\n",
       "  text-align: right;\n",
       "  white-space: pre-wrap;\n",
       "}\n",
       "</style>\n",
       "<small>shape: (321, 5)</small><table border=\"1\" class=\"dataframe\"><thead><tr><th>temp_array</th><th>min_sample</th><th>max_sample</th><th>count_temp_33</th><th>temp_sorted</th></tr><tr><td>array[f64, 3]</td><td>f64</td><td>f64</td><td>u32</td><td>array[f64, 3]</td></tr></thead><tbody><tr><td>[40.1, 47.3, 39.1]</td><td>39.1</td><td>47.3</td><td>0</td><td>[39.1, 40.1, 47.3]</td></tr><tr><td>[34.9, 34.9, 29.0]</td><td>29.0</td><td>34.9</td><td>0</td><td>[29.0, 34.9, 34.9]</td></tr><tr><td>[64.0, 67.1, 66.6]</td><td>64.0</td><td>67.1</td><td>0</td><td>[64.0, 66.6, 67.1]</td></tr><tr><td>[59.3, 45.4, 42.8]</td><td>42.8</td><td>59.3</td><td>0</td><td>[42.8, 45.4, 59.3]</td></tr><tr><td>[40.8, 36.8, 25.9]</td><td>25.9</td><td>40.8</td><td>0</td><td>[25.9, 36.8, 40.8]</td></tr><tr><td>&hellip;</td><td>&hellip;</td><td>&hellip;</td><td>&hellip;</td><td>&hellip;</td></tr><tr><td>[47.4, 36.9, 29.5]</td><td>29.5</td><td>47.4</td><td>0</td><td>[29.5, 36.9, 47.4]</td></tr><tr><td>[23.7, 13.8, 14.1]</td><td>13.8</td><td>23.7</td><td>0</td><td>[13.8, 14.1, 23.7]</td></tr><tr><td>[46.7, 28.7, 27.9]</td><td>27.9</td><td>46.7</td><td>0</td><td>[27.9, 28.7, 46.7]</td></tr><tr><td>[34.4, 30.0, 26.8]</td><td>26.8</td><td>34.4</td><td>0</td><td>[26.8, 30.0, 34.4]</td></tr><tr><td>[8.8, 19.0, 11.3]</td><td>8.8</td><td>19.0</td><td>0</td><td>[8.8, 11.3, 19.0]</td></tr></tbody></table></div>"
      ],
      "text/plain": [
       "shape: (321, 5)\n",
       "┌────────────────────┬────────────┬────────────┬───────────────┬────────────────────┐\n",
       "│ temp_array         ┆ min_sample ┆ max_sample ┆ count_temp_33 ┆ temp_sorted        │\n",
       "│ ---                ┆ ---        ┆ ---        ┆ ---           ┆ ---                │\n",
       "│ array[f64, 3]      ┆ f64        ┆ f64        ┆ u32           ┆ array[f64, 3]      │\n",
       "╞════════════════════╪════════════╪════════════╪═══════════════╪════════════════════╡\n",
       "│ [40.1, 47.3, 39.1] ┆ 39.1       ┆ 47.3       ┆ 0             ┆ [39.1, 40.1, 47.3] │\n",
       "│ [34.9, 34.9, 29.0] ┆ 29.0       ┆ 34.9       ┆ 0             ┆ [29.0, 34.9, 34.9] │\n",
       "│ [64.0, 67.1, 66.6] ┆ 64.0       ┆ 67.1       ┆ 0             ┆ [64.0, 66.6, 67.1] │\n",
       "│ [59.3, 45.4, 42.8] ┆ 42.8       ┆ 59.3       ┆ 0             ┆ [42.8, 45.4, 59.3] │\n",
       "│ [40.8, 36.8, 25.9] ┆ 25.9       ┆ 40.8       ┆ 0             ┆ [25.9, 36.8, 40.8] │\n",
       "│ …                  ┆ …          ┆ …          ┆ …             ┆ …                  │\n",
       "│ [47.4, 36.9, 29.5] ┆ 29.5       ┆ 47.4       ┆ 0             ┆ [29.5, 36.9, 47.4] │\n",
       "│ [23.7, 13.8, 14.1] ┆ 13.8       ┆ 23.7       ┆ 0             ┆ [13.8, 14.1, 23.7] │\n",
       "│ [46.7, 28.7, 27.9] ┆ 27.9       ┆ 46.7       ┆ 0             ┆ [27.9, 28.7, 46.7] │\n",
       "│ [34.4, 30.0, 26.8] ┆ 26.8       ┆ 34.4       ┆ 0             ┆ [26.8, 30.0, 34.4] │\n",
       "│ [8.8, 19.0, 11.3]  ┆ 8.8        ┆ 19.0       ┆ 0             ┆ [8.8, 11.3, 19.0]  │\n",
       "└────────────────────┴────────────┴────────────┴───────────────┴────────────────────┘"
      ]
     },
     "execution_count": 6,
     "metadata": {},
     "output_type": "execute_result"
    }
   ],
   "source": [
    "avg_temp_city_array.select(\n",
    "    col('temp_array'),\n",
    "    col('temp_array').arr.min().alias('min_sample'),\n",
    "    col('temp_array').arr.max().alias('max_sample'),\n",
    "    col('temp_array').arr.count_matches(33.0).alias('count_temp_33'),\n",
    "    col('temp_array').arr.sort().alias('temp_sorted')\n",
    ")"
   ]
  }
 ],
 "metadata": {
  "kernelspec": {
   "display_name": "Python 3 (ipykernel)",
   "language": "python",
   "name": "python3"
  },
  "language_info": {
   "codemirror_mode": {
    "name": "ipython",
    "version": 3
   },
   "file_extension": ".py",
   "mimetype": "text/x-python",
   "name": "python",
   "nbconvert_exporter": "python",
   "pygments_lexer": "ipython3",
   "version": "3.9.6"
  }
 },
 "nbformat": 4,
 "nbformat_minor": 5
}
