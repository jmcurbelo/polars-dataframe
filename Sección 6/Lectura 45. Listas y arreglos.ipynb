{
 "cells": [
  {
   "cell_type": "markdown",
   "id": "c3e48da3-7576-4135-9adf-ccb3f18fc84d",
   "metadata": {},
   "source": [
    "# Lectura 45: Listas y arreglos"
   ]
  },
  {
   "cell_type": "markdown",
   "id": "4108800c-d771-4020-9b94-3b93c55079cf",
   "metadata": {},
   "source": [
    "Polars permite trabajar con columnas de tipo Lista: es decir, columnas donde cada fila es una lista de elementos homogéneos, de diferentes longitudes. Polars también tiene un tipo de datos Array, que es análogo a los objetos ndarray de NumPy, donde la longitud es idéntica en todas las filas.\n",
    "\n",
    "Debemos tener en cuenta que esto es diferente a una lista de Python, donde los elementos pueden ser de cualquier tipo."
   ]
  },
  {
   "cell_type": "markdown",
   "id": "3ce27b9d-9224-44a8-916f-72213b6180ac",
   "metadata": {},
   "source": [
    "## Listas"
   ]
  },
  {
   "cell_type": "markdown",
   "id": "f5edebd6-c451-4bf2-aba5-5c19674b792a",
   "metadata": {},
   "source": [
    "Para esta parte de la lección estaremos trabajando con un dataset que contiene el promedio diario de temperatura obtenido en las mayores ciudades del mundo. El cual puede ser obtenido desde Kaggle [en este enlace](https://www.kaggle.com/datasets/sudalairajkumar/daily-temperature-of-major-cities)."
   ]
  },
  {
   "cell_type": "code",
   "execution_count": 1,
   "id": "a7678be8-c978-4c6c-8099-14b901db7ac0",
   "metadata": {
    "tags": []
   },
   "outputs": [
    {
     "data": {
      "text/html": [
       "<div><style>\n",
       ".dataframe > thead > tr,\n",
       ".dataframe > tbody > tr {\n",
       "  text-align: right;\n",
       "  white-space: pre-wrap;\n",
       "}\n",
       "</style>\n",
       "<small>shape: (2_906_327, 8)</small><table border=\"1\" class=\"dataframe\"><thead><tr><th>Region</th><th>Country</th><th>State</th><th>City</th><th>Month</th><th>Day</th><th>Year</th><th>AvgTemperature</th></tr><tr><td>str</td><td>str</td><td>str</td><td>str</td><td>i64</td><td>i64</td><td>i64</td><td>f64</td></tr></thead><tbody><tr><td>&quot;Africa&quot;</td><td>&quot;Algeria&quot;</td><td>null</td><td>&quot;Algiers&quot;</td><td>1</td><td>1</td><td>1995</td><td>64.2</td></tr><tr><td>&quot;Africa&quot;</td><td>&quot;Algeria&quot;</td><td>null</td><td>&quot;Algiers&quot;</td><td>1</td><td>2</td><td>1995</td><td>49.4</td></tr><tr><td>&quot;Africa&quot;</td><td>&quot;Algeria&quot;</td><td>null</td><td>&quot;Algiers&quot;</td><td>1</td><td>3</td><td>1995</td><td>48.8</td></tr><tr><td>&quot;Africa&quot;</td><td>&quot;Algeria&quot;</td><td>null</td><td>&quot;Algiers&quot;</td><td>1</td><td>4</td><td>1995</td><td>46.4</td></tr><tr><td>&quot;Africa&quot;</td><td>&quot;Algeria&quot;</td><td>null</td><td>&quot;Algiers&quot;</td><td>1</td><td>5</td><td>1995</td><td>47.9</td></tr><tr><td>&hellip;</td><td>&hellip;</td><td>&hellip;</td><td>&hellip;</td><td>&hellip;</td><td>&hellip;</td><td>&hellip;</td><td>&hellip;</td></tr><tr><td>&quot;North America&quot;</td><td>&quot;US&quot;</td><td>&quot;Additional Ter…</td><td>&quot;San Juan Puert…</td><td>7</td><td>27</td><td>2013</td><td>82.4</td></tr><tr><td>&quot;North America&quot;</td><td>&quot;US&quot;</td><td>&quot;Additional Ter…</td><td>&quot;San Juan Puert…</td><td>7</td><td>28</td><td>2013</td><td>81.6</td></tr><tr><td>&quot;North America&quot;</td><td>&quot;US&quot;</td><td>&quot;Additional Ter…</td><td>&quot;San Juan Puert…</td><td>7</td><td>29</td><td>2013</td><td>84.2</td></tr><tr><td>&quot;North America&quot;</td><td>&quot;US&quot;</td><td>&quot;Additional Ter…</td><td>&quot;San Juan Puert…</td><td>7</td><td>30</td><td>2013</td><td>83.8</td></tr><tr><td>&quot;North America&quot;</td><td>&quot;US&quot;</td><td>&quot;Additional Ter…</td><td>&quot;San Juan Puert…</td><td>7</td><td>31</td><td>2013</td><td>83.6</td></tr></tbody></table></div>"
      ],
      "text/plain": [
       "shape: (2_906_327, 8)\n",
       "┌───────────────┬─────────┬─────────────┬─────────────────┬───────┬─────┬──────┬────────────────┐\n",
       "│ Region        ┆ Country ┆ State       ┆ City            ┆ Month ┆ Day ┆ Year ┆ AvgTemperature │\n",
       "│ ---           ┆ ---     ┆ ---         ┆ ---             ┆ ---   ┆ --- ┆ ---  ┆ ---            │\n",
       "│ str           ┆ str     ┆ str         ┆ str             ┆ i64   ┆ i64 ┆ i64  ┆ f64            │\n",
       "╞═══════════════╪═════════╪═════════════╪═════════════════╪═══════╪═════╪══════╪════════════════╡\n",
       "│ Africa        ┆ Algeria ┆ null        ┆ Algiers         ┆ 1     ┆ 1   ┆ 1995 ┆ 64.2           │\n",
       "│ Africa        ┆ Algeria ┆ null        ┆ Algiers         ┆ 1     ┆ 2   ┆ 1995 ┆ 49.4           │\n",
       "│ Africa        ┆ Algeria ┆ null        ┆ Algiers         ┆ 1     ┆ 3   ┆ 1995 ┆ 48.8           │\n",
       "│ Africa        ┆ Algeria ┆ null        ┆ Algiers         ┆ 1     ┆ 4   ┆ 1995 ┆ 46.4           │\n",
       "│ Africa        ┆ Algeria ┆ null        ┆ Algiers         ┆ 1     ┆ 5   ┆ 1995 ┆ 47.9           │\n",
       "│ …             ┆ …       ┆ …           ┆ …               ┆ …     ┆ …   ┆ …    ┆ …              │\n",
       "│ North America ┆ US      ┆ Additional  ┆ San Juan Puerto ┆ 7     ┆ 27  ┆ 2013 ┆ 82.4           │\n",
       "│               ┆         ┆ Territories ┆ Rico            ┆       ┆     ┆      ┆                │\n",
       "│ North America ┆ US      ┆ Additional  ┆ San Juan Puerto ┆ 7     ┆ 28  ┆ 2013 ┆ 81.6           │\n",
       "│               ┆         ┆ Territories ┆ Rico            ┆       ┆     ┆      ┆                │\n",
       "│ North America ┆ US      ┆ Additional  ┆ San Juan Puerto ┆ 7     ┆ 29  ┆ 2013 ┆ 84.2           │\n",
       "│               ┆         ┆ Territories ┆ Rico            ┆       ┆     ┆      ┆                │\n",
       "│ North America ┆ US      ┆ Additional  ┆ San Juan Puerto ┆ 7     ┆ 30  ┆ 2013 ┆ 83.8           │\n",
       "│               ┆         ┆ Territories ┆ Rico            ┆       ┆     ┆      ┆                │\n",
       "│ North America ┆ US      ┆ Additional  ┆ San Juan Puerto ┆ 7     ┆ 31  ┆ 2013 ┆ 83.6           │\n",
       "│               ┆         ┆ Territories ┆ Rico            ┆       ┆     ┆      ┆                │\n",
       "└───────────────┴─────────┴─────────────┴─────────────────┴───────┴─────┴──────┴────────────────┘"
      ]
     },
     "execution_count": 1,
     "metadata": {},
     "output_type": "execute_result"
    }
   ],
   "source": [
    "import polars as pl\n",
    "\n",
    "city_temperatures = (\n",
    "    pl.scan_csv('./data/city_temperature.csv')\n",
    ")\n",
    "\n",
    "city_temperatures.collect()"
   ]
  },
  {
   "cell_type": "markdown",
   "id": "ed49b87f-7986-4929-bc32-b30522776da4",
   "metadata": {},
   "source": [
    "Lo que vamos a realizar a continuación es generar una lista que contenga todos los promedios de temperaturas registrados en cada una de las ciudades en una lista para que así podamos ver como funciona la manipulación de listas en Polars."
   ]
  },
  {
   "cell_type": "code",
   "execution_count": 4,
   "id": "19cb7400-f853-4983-851d-8be1b74f64cd",
   "metadata": {
    "tags": []
   },
   "outputs": [
    {
     "data": {
      "text/html": [
       "<div><style>\n",
       ".dataframe > thead > tr,\n",
       ".dataframe > tbody > tr {\n",
       "  text-align: right;\n",
       "  white-space: pre-wrap;\n",
       "}\n",
       "</style>\n",
       "<small>shape: (321, 2)</small><table border=\"1\" class=\"dataframe\"><thead><tr><th>City</th><th>AvgTemperature</th></tr><tr><td>str</td><td>list[f64]</td></tr></thead><tbody><tr><td>&quot;Capetown&quot;</td><td>[66.8, 67.8, … 54.0]</td></tr><tr><td>&quot;Dakar&quot;</td><td>[70.8, 71.7, … 70.7]</td></tr><tr><td>&quot;Windhoek&quot;</td><td>[74.7, 80.8, … 58.0]</td></tr><tr><td>&quot;Cincinnati&quot;</td><td>[41.1, 22.2, … 50.0]</td></tr><tr><td>&quot;Islamabad&quot;</td><td>[46.2, 49.2, … 77.5]</td></tr><tr><td>&hellip;</td><td>&hellip;</td></tr><tr><td>&quot;Helsinki&quot;</td><td>[34.9, 28.9, … 29.3]</td></tr><tr><td>&quot;Portland&quot;</td><td>[32.2, 31.5, … 57.5]</td></tr><tr><td>&quot;Toronto&quot;</td><td>[33.0, 25.2, … 68.7]</td></tr><tr><td>&quot;Fargo&quot;</td><td>[5.2, 10.1, … 49.2]</td></tr><tr><td>&quot;Juneau&quot;</td><td>[21.0, 16.3, … 62.9]</td></tr></tbody></table></div>"
      ],
      "text/plain": [
       "shape: (321, 2)\n",
       "┌────────────┬──────────────────────┐\n",
       "│ City       ┆ AvgTemperature       │\n",
       "│ ---        ┆ ---                  │\n",
       "│ str        ┆ list[f64]            │\n",
       "╞════════════╪══════════════════════╡\n",
       "│ Capetown   ┆ [66.8, 67.8, … 54.0] │\n",
       "│ Dakar      ┆ [70.8, 71.7, … 70.7] │\n",
       "│ Windhoek   ┆ [74.7, 80.8, … 58.0] │\n",
       "│ Cincinnati ┆ [41.1, 22.2, … 50.0] │\n",
       "│ Islamabad  ┆ [46.2, 49.2, … 77.5] │\n",
       "│ …          ┆ …                    │\n",
       "│ Helsinki   ┆ [34.9, 28.9, … 29.3] │\n",
       "│ Portland   ┆ [32.2, 31.5, … 57.5] │\n",
       "│ Toronto    ┆ [33.0, 25.2, … 68.7] │\n",
       "│ Fargo      ┆ [5.2, 10.1, … 49.2]  │\n",
       "│ Juneau     ┆ [21.0, 16.3, … 62.9] │\n",
       "└────────────┴──────────────────────┘"
      ]
     },
     "execution_count": 4,
     "metadata": {},
     "output_type": "execute_result"
    }
   ],
   "source": [
    "avg_temp_city = (\n",
    "    city_temperatures.group_by('City').agg(\n",
    "    pl.col('AvgTemperature').implode().flatten()\n",
    "    )\n",
    ").collect()\n",
    "\n",
    "avg_temp_city"
   ]
  },
  {
   "cell_type": "markdown",
   "id": "88782aef-04e3-41dd-b6ee-b9eed50a5acd",
   "metadata": {},
   "source": [
    "## Operaciones en columnas de tipo `List`\n",
    "\n",
    "Polars proporciona varias operaciones estándar en las columnas de tipo `List`. Si queremos las tres primeras temperaturas, podemos hacer un `head(3)`. Las últimas tres se pueden obtener mediante un `tail(3)` o, alternativamente, podemos usar `slice` donde se admite indexación negativa. También podemos identificar el número de observaciones mediante la función `len`."
   ]
  },
  {
   "cell_type": "code",
   "execution_count": 5,
   "id": "9100fa6b-9240-49fb-981e-19ce591be201",
   "metadata": {
    "tags": []
   },
   "outputs": [
    {
     "data": {
      "text/html": [
       "<div><style>\n",
       ".dataframe > thead > tr,\n",
       ".dataframe > tbody > tr {\n",
       "  text-align: right;\n",
       "  white-space: pre-wrap;\n",
       "}\n",
       "</style>\n",
       "<small>shape: (321, 6)</small><table border=\"1\" class=\"dataframe\"><thead><tr><th>City</th><th>AvgTemperature</th><th>top_3</th><th>last_3</th><th>slice</th><th>total</th></tr><tr><td>str</td><td>list[f64]</td><td>list[f64]</td><td>list[f64]</td><td>list[f64]</td><td>u32</td></tr></thead><tbody><tr><td>&quot;Capetown&quot;</td><td>[66.8, 67.8, … 54.0]</td><td>[66.8, 67.8, 66.9]</td><td>[64.0, 61.3, 54.0]</td><td>[64.0, 61.3, 54.0]</td><td>9266</td></tr><tr><td>&quot;Dakar&quot;</td><td>[70.8, 71.7, … 70.7]</td><td>[70.8, 71.7, 71.7]</td><td>[72.9, 72.8, 70.7]</td><td>[72.9, 72.8, 70.7]</td><td>9266</td></tr><tr><td>&quot;Windhoek&quot;</td><td>[74.7, 80.8, … 58.0]</td><td>[74.7, 80.8, 78.1]</td><td>[62.1, 63.1, 58.0]</td><td>[62.1, 63.1, 58.0]</td><td>9266</td></tr><tr><td>&quot;Cincinnati&quot;</td><td>[41.1, 22.2, … 50.0]</td><td>[41.1, 22.2, 22.8]</td><td>[44.3, 47.8, 50.0]</td><td>[44.3, 47.8, 50.0]</td><td>9265</td></tr><tr><td>&quot;Islamabad&quot;</td><td>[46.2, 49.2, … 77.5]</td><td>[46.2, 49.2, 48.8]</td><td>[83.5, 76.2, 77.5]</td><td>[83.5, 76.2, 77.5]</td><td>9265</td></tr><tr><td>&hellip;</td><td>&hellip;</td><td>&hellip;</td><td>&hellip;</td><td>&hellip;</td><td>&hellip;</td></tr><tr><td>&quot;Helsinki&quot;</td><td>[34.9, 28.9, … 29.3]</td><td>[34.9, 28.9, 16.5]</td><td>[39.1, 40.0, 29.3]</td><td>[39.1, 40.0, 29.3]</td><td>9266</td></tr><tr><td>&quot;Portland&quot;</td><td>[32.2, 31.5, … 57.5]</td><td>[32.2, 31.5, 23.9]</td><td>[68.3, 56.8, 57.5]</td><td>[68.3, 56.8, 57.5]</td><td>18530</td></tr><tr><td>&quot;Toronto&quot;</td><td>[33.0, 25.2, … 68.7]</td><td>[33.0, 25.2, 21.5]</td><td>[64.8, 66.0, 68.7]</td><td>[64.8, 66.0, 68.7]</td><td>7101</td></tr><tr><td>&quot;Fargo&quot;</td><td>[5.2, 10.1, … 49.2]</td><td>[5.2, 10.1, -3.8]</td><td>[37.9, 39.2, 49.2]</td><td>[37.9, 39.2, 49.2]</td><td>9265</td></tr><tr><td>&quot;Juneau&quot;</td><td>[21.0, 16.3, … 62.9]</td><td>[21.0, 16.3, 14.8]</td><td>[56.8, 56.3, 62.9]</td><td>[56.8, 56.3, 62.9]</td><td>9265</td></tr></tbody></table></div>"
      ],
      "text/plain": [
       "shape: (321, 6)\n",
       "┌────────────┬────────────────┬──────────────┬──────────────────────┬──────────────────────┬───────┐\n",
       "│ City       ┆ AvgTemperature ┆ top_3        ┆ last_3               ┆ slice                ┆ total │\n",
       "│ ---        ┆ ---            ┆ ---          ┆ ---                  ┆ ---                  ┆ ---   │\n",
       "│ str        ┆ list[f64]      ┆ list[f64]    ┆ list[f64]            ┆ list[f64]            ┆ u32   │\n",
       "╞════════════╪════════════════╪══════════════╪══════════════════════╪══════════════════════╪═══════╡\n",
       "│ Capetown   ┆ [66.8, 67.8, … ┆ [66.8, 67.8, ┆ [64.0, 61.3, 54.0]   ┆ [64.0, 61.3, 54.0]   ┆ 9266  │\n",
       "│            ┆ 54.0]          ┆ 66.9]        ┆                      ┆                      ┆       │\n",
       "│ Dakar      ┆ [70.8, 71.7, … ┆ [70.8, 71.7, ┆ [72.9, 72.8, 70.7]   ┆ [72.9, 72.8, 70.7]   ┆ 9266  │\n",
       "│            ┆ 70.7]          ┆ 71.7]        ┆                      ┆                      ┆       │\n",
       "│ Windhoek   ┆ [74.7, 80.8, … ┆ [74.7, 80.8, ┆ [62.1, 63.1, 58.0]   ┆ [62.1, 63.1, 58.0]   ┆ 9266  │\n",
       "│            ┆ 58.0]          ┆ 78.1]        ┆                      ┆                      ┆       │\n",
       "│ Cincinnati ┆ [41.1, 22.2, … ┆ [41.1, 22.2, ┆ [44.3, 47.8, 50.0]   ┆ [44.3, 47.8, 50.0]   ┆ 9265  │\n",
       "│            ┆ 50.0]          ┆ 22.8]        ┆                      ┆                      ┆       │\n",
       "│ Islamabad  ┆ [46.2, 49.2, … ┆ [46.2, 49.2, ┆ [83.5, 76.2, 77.5]   ┆ [83.5, 76.2, 77.5]   ┆ 9265  │\n",
       "│            ┆ 77.5]          ┆ 48.8]        ┆                      ┆                      ┆       │\n",
       "│ …          ┆ …              ┆ …            ┆ …                    ┆ …                    ┆ …     │\n",
       "│ Helsinki   ┆ [34.9, 28.9, … ┆ [34.9, 28.9, ┆ [39.1, 40.0, 29.3]   ┆ [39.1, 40.0, 29.3]   ┆ 9266  │\n",
       "│            ┆ 29.3]          ┆ 16.5]        ┆                      ┆                      ┆       │\n",
       "│ Portland   ┆ [32.2, 31.5, … ┆ [32.2, 31.5, ┆ [68.3, 56.8, 57.5]   ┆ [68.3, 56.8, 57.5]   ┆ 18530 │\n",
       "│            ┆ 57.5]          ┆ 23.9]        ┆                      ┆                      ┆       │\n",
       "│ Toronto    ┆ [33.0, 25.2, … ┆ [33.0, 25.2, ┆ [64.8, 66.0, 68.7]   ┆ [64.8, 66.0, 68.7]   ┆ 7101  │\n",
       "│            ┆ 68.7]          ┆ 21.5]        ┆                      ┆                      ┆       │\n",
       "│ Fargo      ┆ [5.2, 10.1, …  ┆ [5.2, 10.1,  ┆ [37.9, 39.2, 49.2]   ┆ [37.9, 39.2, 49.2]   ┆ 9265  │\n",
       "│            ┆ 49.2]          ┆ -3.8]        ┆                      ┆                      ┆       │\n",
       "│ Juneau     ┆ [21.0, 16.3, … ┆ [21.0, 16.3, ┆ [56.8, 56.3, 62.9]   ┆ [56.8, 56.3, 62.9]   ┆ 9265  │\n",
       "│            ┆ 62.9]          ┆ 14.8]        ┆                      ┆                      ┆       │\n",
       "└────────────┴────────────────┴──────────────┴──────────────────────┴──────────────────────┴───────┘"
      ]
     },
     "execution_count": 5,
     "metadata": {},
     "output_type": "execute_result"
    }
   ],
   "source": [
    "from polars import col\n",
    "\n",
    "avg_temp_city.select(\n",
    "    col('City'),\n",
    "    col('AvgTemperature'),\n",
    "    col('AvgTemperature').list.head(3).alias('top_3'),\n",
    "    col('AvgTemperature').list.tail(3).alias('last_3'),\n",
    "    col('AvgTemperature').list.slice(-3).alias('slice'),\n",
    "    col('AvgTemperature').list.len().alias('total')\n",
    ")"
   ]
  },
  {
   "cell_type": "markdown",
   "id": "39d4c188-e612-40cd-9dd9-b0985e57c8e8",
   "metadata": {},
   "source": [
    "Una vez que tenemos las temperaturas en una lista es muy fácil obtener por ejemplo el promedio mínimo y máximo de temperatura por ciudad, así como la temperatura media. Además, podríamos ver las ciudades con el mayor promedio de temperatura."
   ]
  },
  {
   "cell_type": "code",
   "execution_count": 6,
   "id": "389abc8c-38b8-4a5e-99e9-41ec1a5d8a28",
   "metadata": {
    "tags": []
   },
   "outputs": [
    {
     "data": {
      "text/html": [
       "<div><style>\n",
       ".dataframe > thead > tr,\n",
       ".dataframe > tbody > tr {\n",
       "  text-align: right;\n",
       "  white-space: pre-wrap;\n",
       "}\n",
       "</style>\n",
       "<small>shape: (321, 4)</small><table border=\"1\" class=\"dataframe\"><thead><tr><th>City</th><th>temp_min</th><th>temp_max</th><th>temp_avg</th></tr><tr><td>str</td><td>f64</td><td>f64</td><td>f64</td></tr></thead><tbody><tr><td>&quot;Dubai&quot;</td><td>-99.0</td><td>107.5</td><td>82.972631</td></tr><tr><td>&quot;Chennai (Madra…</td><td>-99.0</td><td>97.9</td><td>82.847021</td></tr><tr><td>&quot;Doha&quot;</td><td>-99.0</td><td>108.5</td><td>82.235625</td></tr><tr><td>&quot;Abu Dhabi&quot;</td><td>-99.0</td><td>107.3</td><td>82.192499</td></tr><tr><td>&quot;Niamey&quot;</td><td>-99.0</td><td>102.8</td><td>81.951619</td></tr><tr><td>&hellip;</td><td>&hellip;</td><td>&hellip;</td><td>&hellip;</td></tr><tr><td>&quot;Frankfurt&quot;</td><td>-99.0</td><td>85.2</td><td>-13.668786</td></tr><tr><td>&quot;Lilongwe&quot;</td><td>-99.0</td><td>90.7</td><td>-20.585544</td></tr><tr><td>&quot;Georgetown&quot;</td><td>-99.0</td><td>90.6</td><td>-22.10152</td></tr><tr><td>&quot;Bonn&quot;</td><td>-99.0</td><td>86.9</td><td>-46.86805</td></tr><tr><td>&quot;Bujumbura&quot;</td><td>-99.0</td><td>89.1</td><td>-65.397138</td></tr></tbody></table></div>"
      ],
      "text/plain": [
       "shape: (321, 4)\n",
       "┌──────────────────┬──────────┬──────────┬────────────┐\n",
       "│ City             ┆ temp_min ┆ temp_max ┆ temp_avg   │\n",
       "│ ---              ┆ ---      ┆ ---      ┆ ---        │\n",
       "│ str              ┆ f64      ┆ f64      ┆ f64        │\n",
       "╞══════════════════╪══════════╪══════════╪════════════╡\n",
       "│ Dubai            ┆ -99.0    ┆ 107.5    ┆ 82.972631  │\n",
       "│ Chennai (Madras) ┆ -99.0    ┆ 97.9     ┆ 82.847021  │\n",
       "│ Doha             ┆ -99.0    ┆ 108.5    ┆ 82.235625  │\n",
       "│ Abu Dhabi        ┆ -99.0    ┆ 107.3    ┆ 82.192499  │\n",
       "│ Niamey           ┆ -99.0    ┆ 102.8    ┆ 81.951619  │\n",
       "│ …                ┆ …        ┆ …        ┆ …          │\n",
       "│ Frankfurt        ┆ -99.0    ┆ 85.2     ┆ -13.668786 │\n",
       "│ Lilongwe         ┆ -99.0    ┆ 90.7     ┆ -20.585544 │\n",
       "│ Georgetown       ┆ -99.0    ┆ 90.6     ┆ -22.10152  │\n",
       "│ Bonn             ┆ -99.0    ┆ 86.9     ┆ -46.86805  │\n",
       "│ Bujumbura        ┆ -99.0    ┆ 89.1     ┆ -65.397138 │\n",
       "└──────────────────┴──────────┴──────────┴────────────┘"
      ]
     },
     "execution_count": 6,
     "metadata": {},
     "output_type": "execute_result"
    }
   ],
   "source": [
    "avg_temp_city.select(\n",
    "    col('City'),\n",
    "    col('AvgTemperature').list.min().alias('temp_min'),\n",
    "    col('AvgTemperature').list.max().alias('temp_max'),\n",
    "    col('AvgTemperature').list.mean().alias('temp_avg')\n",
    ").sort('temp_avg', descending=True)"
   ]
  },
  {
   "cell_type": "markdown",
   "id": "79e3e87f-9d43-4dc9-88c1-59d079ff1614",
   "metadata": {},
   "source": [
    "## Array\n",
    "\n",
    "Los Array son un nuevo tipo de datos que se introdujo recientemente en Polars, (esto teniendo en cuenta la fecha en que se crea esta lección) y aún son bastante incipientes en cuanto a las características que ofrece. La principal diferencia entre una Lista y un Array es que este último se limita a tener el mismo número de elementos por fila, mientras que una Lista puede tener un número variable de elementos. Ambos aún requieren que el tipo de datos de cada elemento sea el mismo.\n",
    "\n",
    "Vamos a agregar una nueva columna al DataFrame `avg_temp_city` que sea de tipo Array. Para ello necesitamos tener la misma cantidad de temperaturas por cada ciudad para crear una nueva columna de tipo Array. A partir de la función `gather` que está disponible en una columna de tipo lista vamos a tomar un subconjunto de solo tres temperaturas por cada ciudad y luego realizaremos un `cast` para obtener así la columna de tipo Array."
   ]
  },
  {
   "cell_type": "code",
   "execution_count": 7,
   "id": "1e557817-01c2-4e89-b259-861dde35e209",
   "metadata": {
    "tags": []
   },
   "outputs": [
    {
     "data": {
      "text/html": [
       "<div><style>\n",
       ".dataframe > thead > tr,\n",
       ".dataframe > tbody > tr {\n",
       "  text-align: right;\n",
       "  white-space: pre-wrap;\n",
       "}\n",
       "</style>\n",
       "<small>shape: (321, 3)</small><table border=\"1\" class=\"dataframe\"><thead><tr><th>City</th><th>AvgTemperature</th><th>temp_array</th></tr><tr><td>str</td><td>list[f64]</td><td>array[f64, 3]</td></tr></thead><tbody><tr><td>&quot;Capetown&quot;</td><td>[66.8, 67.8, … 54.0]</td><td>[66.8, 67.8, 66.9]</td></tr><tr><td>&quot;Dakar&quot;</td><td>[70.8, 71.7, … 70.7]</td><td>[70.8, 71.7, 71.7]</td></tr><tr><td>&quot;Windhoek&quot;</td><td>[74.7, 80.8, … 58.0]</td><td>[74.7, 80.8, 78.1]</td></tr><tr><td>&quot;Cincinnati&quot;</td><td>[41.1, 22.2, … 50.0]</td><td>[41.1, 22.2, 22.8]</td></tr><tr><td>&quot;Islamabad&quot;</td><td>[46.2, 49.2, … 77.5]</td><td>[46.2, 49.2, 48.8]</td></tr><tr><td>&hellip;</td><td>&hellip;</td><td>&hellip;</td></tr><tr><td>&quot;Helsinki&quot;</td><td>[34.9, 28.9, … 29.3]</td><td>[34.9, 28.9, 16.5]</td></tr><tr><td>&quot;Portland&quot;</td><td>[32.2, 31.5, … 57.5]</td><td>[32.2, 31.5, 23.9]</td></tr><tr><td>&quot;Toronto&quot;</td><td>[33.0, 25.2, … 68.7]</td><td>[33.0, 25.2, 21.5]</td></tr><tr><td>&quot;Fargo&quot;</td><td>[5.2, 10.1, … 49.2]</td><td>[5.2, 10.1, -3.8]</td></tr><tr><td>&quot;Juneau&quot;</td><td>[21.0, 16.3, … 62.9]</td><td>[21.0, 16.3, 14.8]</td></tr></tbody></table></div>"
      ],
      "text/plain": [
       "shape: (321, 3)\n",
       "┌────────────┬──────────────────────┬────────────────────┐\n",
       "│ City       ┆ AvgTemperature       ┆ temp_array         │\n",
       "│ ---        ┆ ---                  ┆ ---                │\n",
       "│ str        ┆ list[f64]            ┆ array[f64, 3]      │\n",
       "╞════════════╪══════════════════════╪════════════════════╡\n",
       "│ Capetown   ┆ [66.8, 67.8, … 54.0] ┆ [66.8, 67.8, 66.9] │\n",
       "│ Dakar      ┆ [70.8, 71.7, … 70.7] ┆ [70.8, 71.7, 71.7] │\n",
       "│ Windhoek   ┆ [74.7, 80.8, … 58.0] ┆ [74.7, 80.8, 78.1] │\n",
       "│ Cincinnati ┆ [41.1, 22.2, … 50.0] ┆ [41.1, 22.2, 22.8] │\n",
       "│ Islamabad  ┆ [46.2, 49.2, … 77.5] ┆ [46.2, 49.2, 48.8] │\n",
       "│ …          ┆ …                    ┆ …                  │\n",
       "│ Helsinki   ┆ [34.9, 28.9, … 29.3] ┆ [34.9, 28.9, 16.5] │\n",
       "│ Portland   ┆ [32.2, 31.5, … 57.5] ┆ [32.2, 31.5, 23.9] │\n",
       "│ Toronto    ┆ [33.0, 25.2, … 68.7] ┆ [33.0, 25.2, 21.5] │\n",
       "│ Fargo      ┆ [5.2, 10.1, … 49.2]  ┆ [5.2, 10.1, -3.8]  │\n",
       "│ Juneau     ┆ [21.0, 16.3, … 62.9] ┆ [21.0, 16.3, 14.8] │\n",
       "└────────────┴──────────────────────┴────────────────────┘"
      ]
     },
     "execution_count": 7,
     "metadata": {},
     "output_type": "execute_result"
    }
   ],
   "source": [
    "avg_temp_city_array = avg_temp_city.with_columns(\n",
    "    temp_array=col('AvgTemperature').list.gather([0,1,2]).cast(pl.Array(inner=pl.Float64, width=3))\n",
    ")\n",
    "\n",
    "avg_temp_city_array"
   ]
  },
  {
   "cell_type": "markdown",
   "id": "9e314fc1-38f5-4710-bdcf-dc3a4b11edd4",
   "metadata": {},
   "source": [
    "Podemos acceder a los métodos de las columna de tipo Array a través de `.arr`. Veamos algunos ejemplos."
   ]
  },
  {
   "cell_type": "code",
   "execution_count": 11,
   "id": "53258592-8a1d-4953-a55a-7f89a102d2c4",
   "metadata": {
    "tags": []
   },
   "outputs": [
    {
     "data": {
      "text/html": [
       "<div><style>\n",
       ".dataframe > thead > tr,\n",
       ".dataframe > tbody > tr {\n",
       "  text-align: right;\n",
       "  white-space: pre-wrap;\n",
       "}\n",
       "</style>\n",
       "<small>shape: (321, 5)</small><table border=\"1\" class=\"dataframe\"><thead><tr><th>temp_array</th><th>min_sample</th><th>max_sample</th><th>count_temp_33</th><th>temp_sorted</th></tr><tr><td>array[f64, 3]</td><td>f64</td><td>f64</td><td>u32</td><td>array[f64, 3]</td></tr></thead><tbody><tr><td>[66.8, 67.8, 66.9]</td><td>66.8</td><td>67.8</td><td>0</td><td>[66.8, 66.9, 67.8]</td></tr><tr><td>[70.8, 71.7, 71.7]</td><td>70.8</td><td>71.7</td><td>0</td><td>[70.8, 71.7, 71.7]</td></tr><tr><td>[74.7, 80.8, 78.1]</td><td>74.7</td><td>80.8</td><td>0</td><td>[74.7, 78.1, 80.8]</td></tr><tr><td>[41.1, 22.2, 22.8]</td><td>22.2</td><td>41.1</td><td>0</td><td>[22.2, 22.8, 41.1]</td></tr><tr><td>[46.2, 49.2, 48.8]</td><td>46.2</td><td>49.2</td><td>0</td><td>[46.2, 48.8, 49.2]</td></tr><tr><td>&hellip;</td><td>&hellip;</td><td>&hellip;</td><td>&hellip;</td><td>&hellip;</td></tr><tr><td>[34.9, 28.9, 16.5]</td><td>16.5</td><td>34.9</td><td>0</td><td>[16.5, 28.9, 34.9]</td></tr><tr><td>[32.2, 31.5, 23.9]</td><td>23.9</td><td>32.2</td><td>0</td><td>[23.9, 31.5, 32.2]</td></tr><tr><td>[33.0, 25.2, 21.5]</td><td>21.5</td><td>33.0</td><td>1</td><td>[21.5, 25.2, 33.0]</td></tr><tr><td>[5.2, 10.1, -3.8]</td><td>-3.8</td><td>10.1</td><td>0</td><td>[-3.8, 5.2, 10.1]</td></tr><tr><td>[21.0, 16.3, 14.8]</td><td>14.8</td><td>21.0</td><td>0</td><td>[14.8, 16.3, 21.0]</td></tr></tbody></table></div>"
      ],
      "text/plain": [
       "shape: (321, 5)\n",
       "┌────────────────────┬────────────┬────────────┬───────────────┬────────────────────┐\n",
       "│ temp_array         ┆ min_sample ┆ max_sample ┆ count_temp_33 ┆ temp_sorted        │\n",
       "│ ---                ┆ ---        ┆ ---        ┆ ---           ┆ ---                │\n",
       "│ array[f64, 3]      ┆ f64        ┆ f64        ┆ u32           ┆ array[f64, 3]      │\n",
       "╞════════════════════╪════════════╪════════════╪═══════════════╪════════════════════╡\n",
       "│ [66.8, 67.8, 66.9] ┆ 66.8       ┆ 67.8       ┆ 0             ┆ [66.8, 66.9, 67.8] │\n",
       "│ [70.8, 71.7, 71.7] ┆ 70.8       ┆ 71.7       ┆ 0             ┆ [70.8, 71.7, 71.7] │\n",
       "│ [74.7, 80.8, 78.1] ┆ 74.7       ┆ 80.8       ┆ 0             ┆ [74.7, 78.1, 80.8] │\n",
       "│ [41.1, 22.2, 22.8] ┆ 22.2       ┆ 41.1       ┆ 0             ┆ [22.2, 22.8, 41.1] │\n",
       "│ [46.2, 49.2, 48.8] ┆ 46.2       ┆ 49.2       ┆ 0             ┆ [46.2, 48.8, 49.2] │\n",
       "│ …                  ┆ …          ┆ …          ┆ …             ┆ …                  │\n",
       "│ [34.9, 28.9, 16.5] ┆ 16.5       ┆ 34.9       ┆ 0             ┆ [16.5, 28.9, 34.9] │\n",
       "│ [32.2, 31.5, 23.9] ┆ 23.9       ┆ 32.2       ┆ 0             ┆ [23.9, 31.5, 32.2] │\n",
       "│ [33.0, 25.2, 21.5] ┆ 21.5       ┆ 33.0       ┆ 1             ┆ [21.5, 25.2, 33.0] │\n",
       "│ [5.2, 10.1, -3.8]  ┆ -3.8       ┆ 10.1       ┆ 0             ┆ [-3.8, 5.2, 10.1]  │\n",
       "│ [21.0, 16.3, 14.8] ┆ 14.8       ┆ 21.0       ┆ 0             ┆ [14.8, 16.3, 21.0] │\n",
       "└────────────────────┴────────────┴────────────┴───────────────┴────────────────────┘"
      ]
     },
     "execution_count": 11,
     "metadata": {},
     "output_type": "execute_result"
    }
   ],
   "source": [
    "avg_temp_city_array.select(\n",
    "    col('temp_array'),\n",
    "    col('temp_array').arr.min().alias('min_sample'),\n",
    "    col('temp_array').arr.max().alias('max_sample'),\n",
    "    col('temp_array').arr.count_matches(33.0).alias('count_temp_33'),\n",
    "    col('temp_array').arr.sort().alias('temp_sorted')\n",
    ")"
   ]
  },
  {
   "cell_type": "code",
   "execution_count": null,
   "id": "d97b1d5b-62bc-4256-a2c8-25df7bf24ea5",
   "metadata": {},
   "outputs": [],
   "source": []
  }
 ],
 "metadata": {
  "kernelspec": {
   "display_name": "Python 3 (ipykernel)",
   "language": "python",
   "name": "python3"
  },
  "language_info": {
   "codemirror_mode": {
    "name": "ipython",
    "version": 3
   },
   "file_extension": ".py",
   "mimetype": "text/x-python",
   "name": "python",
   "nbconvert_exporter": "python",
   "pygments_lexer": "ipython3",
   "version": "3.9.6"
  }
 },
 "nbformat": 4,
 "nbformat_minor": 5
}
