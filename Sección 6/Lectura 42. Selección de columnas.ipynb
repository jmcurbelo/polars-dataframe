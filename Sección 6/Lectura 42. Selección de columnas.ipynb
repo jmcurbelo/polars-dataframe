{
 "cells": [
  {
   "cell_type": "markdown",
   "id": "32c1933d-ffd3-45a1-863a-0b7bf17b1353",
   "metadata": {},
   "source": [
    "# Lectura 42: Selección de columnas"
   ]
  },
  {
   "cell_type": "code",
   "execution_count": 1,
   "id": "0fa36100-753c-432b-9ba5-f87b8393cbf5",
   "metadata": {
    "tags": []
   },
   "outputs": [
    {
     "name": "stdout",
     "output_type": "stream",
     "text": [
      "shape: (3, 7)\n",
      "┌─────┬───────────┬─────────────┬────────────┬────────┬──────────────────┬─────────────────────┐\n",
      "│ id  ┆ id_ciudad ┆ ciudad      ┆ fecha      ┆ monto  ┆ tiene_aeropuerto ┆ log                 │\n",
      "│ --- ┆ ---       ┆ ---         ┆ ---        ┆ ---    ┆ ---              ┆ ---                 │\n",
      "│ u32 ┆ i64       ┆ str         ┆ date       ┆ f64    ┆ bool             ┆ datetime[μs]        │\n",
      "╞═════╪═══════════╪═════════════╪════════════╪════════╪══════════════════╪═════════════════════╡\n",
      "│ 0   ┆ 10        ┆ Guadalajara ┆ 2024-04-01 ┆ 56.9   ┆ false            ┆ 2024-04-01 00:00:00 │\n",
      "│ 1   ┆ 7         ┆ Monterrey   ┆ 2024-04-02 ┆ 100.5  ┆ true             ┆ 2024-04-01 00:00:01 │\n",
      "│ 2   ┆ 5         ┆ CDMX        ┆ 2024-04-03 ┆ 1345.3 ┆ false            ┆ 2024-04-01 00:00:02 │\n",
      "└─────┴───────────┴─────────────┴────────────┴────────┴──────────────────┴─────────────────────┘\n"
     ]
    }
   ],
   "source": [
    "from datetime import date, datetime\n",
    "import polars as pl\n",
    "\n",
    "df = pl.DataFrame(\n",
    "    {\n",
    "        \"id_ciudad\": [10,7,5],\n",
    "        \"ciudad\": [\"Guadalajara\", \"Monterrey\", \"CDMX\"],\n",
    "        \"fecha\": pl.date_range(date(2024, 4, 1), date(2024, 4, 3), \"1d\", eager=True),\n",
    "        \"monto\": [56.90, 100.50, 1345.30],\n",
    "        \"tiene_aeropuerto\": [False, True, False],\n",
    "        \"log\": pl.datetime_range(\n",
    "            datetime(2024, 4, 1), datetime(2024, 4, 1, 0, 0, 2), \"1s\", eager=True\n",
    "        ),\n",
    "    }\n",
    ").with_row_index(\"id\")\n",
    "\n",
    "print(df)"
   ]
  },
  {
   "cell_type": "markdown",
   "id": "d476a134-809c-423f-8357-2e5150fba514",
   "metadata": {},
   "source": [
    "Hasta ahora hemos seleccionado columnas de un DataFrame o un LazyFrame con la función `col`."
   ]
  },
  {
   "cell_type": "code",
   "execution_count": 2,
   "id": "394e721b-96f6-4ef7-97f4-02a3c90d2d2e",
   "metadata": {
    "tags": []
   },
   "outputs": [
    {
     "data": {
      "text/html": [
       "<div><style>\n",
       ".dataframe > thead > tr,\n",
       ".dataframe > tbody > tr {\n",
       "  text-align: right;\n",
       "  white-space: pre-wrap;\n",
       "}\n",
       "</style>\n",
       "<small>shape: (3, 2)</small><table border=\"1\" class=\"dataframe\"><thead><tr><th>id</th><th>fecha</th></tr><tr><td>u32</td><td>date</td></tr></thead><tbody><tr><td>0</td><td>2024-04-01</td></tr><tr><td>1</td><td>2024-04-02</td></tr><tr><td>2</td><td>2024-04-03</td></tr></tbody></table></div>"
      ],
      "text/plain": [
       "shape: (3, 2)\n",
       "┌─────┬────────────┐\n",
       "│ id  ┆ fecha      │\n",
       "│ --- ┆ ---        │\n",
       "│ u32 ┆ date       │\n",
       "╞═════╪════════════╡\n",
       "│ 0   ┆ 2024-04-01 │\n",
       "│ 1   ┆ 2024-04-02 │\n",
       "│ 2   ┆ 2024-04-03 │\n",
       "└─────┴────────────┘"
      ]
     },
     "execution_count": 2,
     "metadata": {},
     "output_type": "execute_result"
    }
   ],
   "source": [
    "from polars import col\n",
    "\n",
    "df.select(col('id'), col('fecha'))"
   ]
  },
  {
   "cell_type": "markdown",
   "id": "d3262acf-b9e7-4628-bd0e-a4315baa7544",
   "metadata": {},
   "source": [
    "## Seleccionar todas las columnas o todas menos algunas\n",
    "\n",
    "Podemos seleccionar todas las columnas en un DataFrame proporcionando el argumento `*`:"
   ]
  },
  {
   "cell_type": "code",
   "execution_count": 3,
   "id": "9428704f-c158-4ed2-bc5d-9550b4a06466",
   "metadata": {
    "tags": []
   },
   "outputs": [
    {
     "data": {
      "text/html": [
       "<div><style>\n",
       ".dataframe > thead > tr,\n",
       ".dataframe > tbody > tr {\n",
       "  text-align: right;\n",
       "  white-space: pre-wrap;\n",
       "}\n",
       "</style>\n",
       "<small>shape: (3, 7)</small><table border=\"1\" class=\"dataframe\"><thead><tr><th>id</th><th>id_ciudad</th><th>ciudad</th><th>fecha</th><th>monto</th><th>tiene_aeropuerto</th><th>log</th></tr><tr><td>u32</td><td>i64</td><td>str</td><td>date</td><td>f64</td><td>bool</td><td>datetime[μs]</td></tr></thead><tbody><tr><td>0</td><td>10</td><td>&quot;Guadalajara&quot;</td><td>2024-04-01</td><td>56.9</td><td>false</td><td>2024-04-01 00:00:00</td></tr><tr><td>1</td><td>7</td><td>&quot;Monterrey&quot;</td><td>2024-04-02</td><td>100.5</td><td>true</td><td>2024-04-01 00:00:01</td></tr><tr><td>2</td><td>5</td><td>&quot;CDMX&quot;</td><td>2024-04-03</td><td>1345.3</td><td>false</td><td>2024-04-01 00:00:02</td></tr></tbody></table></div>"
      ],
      "text/plain": [
       "shape: (3, 7)\n",
       "┌─────┬───────────┬─────────────┬────────────┬────────┬──────────────────┬─────────────────────┐\n",
       "│ id  ┆ id_ciudad ┆ ciudad      ┆ fecha      ┆ monto  ┆ tiene_aeropuerto ┆ log                 │\n",
       "│ --- ┆ ---       ┆ ---         ┆ ---        ┆ ---    ┆ ---              ┆ ---                 │\n",
       "│ u32 ┆ i64       ┆ str         ┆ date       ┆ f64    ┆ bool             ┆ datetime[μs]        │\n",
       "╞═════╪═══════════╪═════════════╪════════════╪════════╪══════════════════╪═════════════════════╡\n",
       "│ 0   ┆ 10        ┆ Guadalajara ┆ 2024-04-01 ┆ 56.9   ┆ false            ┆ 2024-04-01 00:00:00 │\n",
       "│ 1   ┆ 7         ┆ Monterrey   ┆ 2024-04-02 ┆ 100.5  ┆ true             ┆ 2024-04-01 00:00:01 │\n",
       "│ 2   ┆ 5         ┆ CDMX        ┆ 2024-04-03 ┆ 1345.3 ┆ false            ┆ 2024-04-01 00:00:02 │\n",
       "└─────┴───────────┴─────────────┴────────────┴────────┴──────────────────┴─────────────────────┘"
      ]
     },
     "execution_count": 3,
     "metadata": {},
     "output_type": "execute_result"
    }
   ],
   "source": [
    "df.select(col('*'))"
   ]
  },
  {
   "cell_type": "markdown",
   "id": "6d272948-4586-4433-9467-62822803ded8",
   "metadata": {},
   "source": [
    "O equivalentemente podemos realizar lo siguiente:"
   ]
  },
  {
   "cell_type": "code",
   "execution_count": 4,
   "id": "5248fb99-e4ff-4cac-9f41-93a850501065",
   "metadata": {
    "tags": []
   },
   "outputs": [
    {
     "data": {
      "text/html": [
       "<div><style>\n",
       ".dataframe > thead > tr,\n",
       ".dataframe > tbody > tr {\n",
       "  text-align: right;\n",
       "  white-space: pre-wrap;\n",
       "}\n",
       "</style>\n",
       "<small>shape: (3, 7)</small><table border=\"1\" class=\"dataframe\"><thead><tr><th>id</th><th>id_ciudad</th><th>ciudad</th><th>fecha</th><th>monto</th><th>tiene_aeropuerto</th><th>log</th></tr><tr><td>u32</td><td>i64</td><td>str</td><td>date</td><td>f64</td><td>bool</td><td>datetime[μs]</td></tr></thead><tbody><tr><td>0</td><td>10</td><td>&quot;Guadalajara&quot;</td><td>2024-04-01</td><td>56.9</td><td>false</td><td>2024-04-01 00:00:00</td></tr><tr><td>1</td><td>7</td><td>&quot;Monterrey&quot;</td><td>2024-04-02</td><td>100.5</td><td>true</td><td>2024-04-01 00:00:01</td></tr><tr><td>2</td><td>5</td><td>&quot;CDMX&quot;</td><td>2024-04-03</td><td>1345.3</td><td>false</td><td>2024-04-01 00:00:02</td></tr></tbody></table></div>"
      ],
      "text/plain": [
       "shape: (3, 7)\n",
       "┌─────┬───────────┬─────────────┬────────────┬────────┬──────────────────┬─────────────────────┐\n",
       "│ id  ┆ id_ciudad ┆ ciudad      ┆ fecha      ┆ monto  ┆ tiene_aeropuerto ┆ log                 │\n",
       "│ --- ┆ ---       ┆ ---         ┆ ---        ┆ ---    ┆ ---              ┆ ---                 │\n",
       "│ u32 ┆ i64       ┆ str         ┆ date       ┆ f64    ┆ bool             ┆ datetime[μs]        │\n",
       "╞═════╪═══════════╪═════════════╪════════════╪════════╪══════════════════╪═════════════════════╡\n",
       "│ 0   ┆ 10        ┆ Guadalajara ┆ 2024-04-01 ┆ 56.9   ┆ false            ┆ 2024-04-01 00:00:00 │\n",
       "│ 1   ┆ 7         ┆ Monterrey   ┆ 2024-04-02 ┆ 100.5  ┆ true             ┆ 2024-04-01 00:00:01 │\n",
       "│ 2   ┆ 5         ┆ CDMX        ┆ 2024-04-03 ┆ 1345.3 ┆ false            ┆ 2024-04-01 00:00:02 │\n",
       "└─────┴───────────┴─────────────┴────────────┴────────┴──────────────────┴─────────────────────┘"
      ]
     },
     "execution_count": 4,
     "metadata": {},
     "output_type": "execute_result"
    }
   ],
   "source": [
    "df.select(pl.all())"
   ]
  },
  {
   "cell_type": "markdown",
   "id": "44a02c86-9e58-4ae9-9193-7aef851ddb38",
   "metadata": {},
   "source": [
    "A menudo, no solo queremos incluir todas las columnas, sino incluirlas todas y excluir algunas. Esto también se puede hacer realizar como se muestra a continuación."
   ]
  },
  {
   "cell_type": "code",
   "execution_count": 5,
   "id": "b2a72cec-b5c5-4570-9864-7d2dbda8c684",
   "metadata": {
    "tags": []
   },
   "outputs": [
    {
     "data": {
      "text/html": [
       "<div><style>\n",
       ".dataframe > thead > tr,\n",
       ".dataframe > tbody > tr {\n",
       "  text-align: right;\n",
       "  white-space: pre-wrap;\n",
       "}\n",
       "</style>\n",
       "<small>shape: (3, 5)</small><table border=\"1\" class=\"dataframe\"><thead><tr><th>id_ciudad</th><th>ciudad</th><th>fecha</th><th>monto</th><th>tiene_aeropuerto</th></tr><tr><td>i64</td><td>str</td><td>date</td><td>f64</td><td>bool</td></tr></thead><tbody><tr><td>10</td><td>&quot;Guadalajara&quot;</td><td>2024-04-01</td><td>56.9</td><td>false</td></tr><tr><td>7</td><td>&quot;Monterrey&quot;</td><td>2024-04-02</td><td>100.5</td><td>true</td></tr><tr><td>5</td><td>&quot;CDMX&quot;</td><td>2024-04-03</td><td>1345.3</td><td>false</td></tr></tbody></table></div>"
      ],
      "text/plain": [
       "shape: (3, 5)\n",
       "┌───────────┬─────────────┬────────────┬────────┬──────────────────┐\n",
       "│ id_ciudad ┆ ciudad      ┆ fecha      ┆ monto  ┆ tiene_aeropuerto │\n",
       "│ ---       ┆ ---         ┆ ---        ┆ ---    ┆ ---              │\n",
       "│ i64       ┆ str         ┆ date       ┆ f64    ┆ bool             │\n",
       "╞═══════════╪═════════════╪════════════╪════════╪══════════════════╡\n",
       "│ 10        ┆ Guadalajara ┆ 2024-04-01 ┆ 56.9   ┆ false            │\n",
       "│ 7         ┆ Monterrey   ┆ 2024-04-02 ┆ 100.5  ┆ true             │\n",
       "│ 5         ┆ CDMX        ┆ 2024-04-03 ┆ 1345.3 ┆ false            │\n",
       "└───────────┴─────────────┴────────────┴────────┴──────────────────┘"
      ]
     },
     "execution_count": 5,
     "metadata": {},
     "output_type": "execute_result"
    }
   ],
   "source": [
    "df.select(col('*').exclude('id', 'log'))"
   ]
  },
  {
   "cell_type": "markdown",
   "id": "703397b5-8fc7-4aa3-919b-f4b6f36560d0",
   "metadata": {},
   "source": [
    "## Selección de columnas por múltiples strings\n",
    "\n",
    "Especificar varios strings permite que las expresiones se expandan a todas las columnas coincidentes, veamos un ejemplo."
   ]
  },
  {
   "cell_type": "code",
   "execution_count": 6,
   "id": "617753dc-c600-4d32-b4fb-9cd421db7185",
   "metadata": {
    "tags": []
   },
   "outputs": [
    {
     "data": {
      "text/html": [
       "<div><style>\n",
       ".dataframe > thead > tr,\n",
       ".dataframe > tbody > tr {\n",
       "  text-align: right;\n",
       "  white-space: pre-wrap;\n",
       "}\n",
       "</style>\n",
       "<small>shape: (3, 2)</small><table border=\"1\" class=\"dataframe\"><thead><tr><th>fecha</th><th>log</th></tr><tr><td>str</td><td>str</td></tr></thead><tbody><tr><td>&quot;2024-04-01&quot;</td><td>&quot;2024-04-01&quot;</td></tr><tr><td>&quot;2024-04-02&quot;</td><td>&quot;2024-04-01&quot;</td></tr><tr><td>&quot;2024-04-03&quot;</td><td>&quot;2024-04-01&quot;</td></tr></tbody></table></div>"
      ],
      "text/plain": [
       "shape: (3, 2)\n",
       "┌────────────┬────────────┐\n",
       "│ fecha      ┆ log        │\n",
       "│ ---        ┆ ---        │\n",
       "│ str        ┆ str        │\n",
       "╞════════════╪════════════╡\n",
       "│ 2024-04-01 ┆ 2024-04-01 │\n",
       "│ 2024-04-02 ┆ 2024-04-01 │\n",
       "│ 2024-04-03 ┆ 2024-04-01 │\n",
       "└────────────┴────────────┘"
      ]
     },
     "execution_count": 6,
     "metadata": {},
     "output_type": "execute_result"
    }
   ],
   "source": [
    "df.select(col('fecha', 'log').dt.to_string('%Y-%m-%d'))"
   ]
  },
  {
   "cell_type": "markdown",
   "id": "6c4b86fb-3916-4923-89e5-f080ab11f335",
   "metadata": {},
   "source": [
    "## Selección de columnas por expresiones regulares\n",
    "\n",
    "La selección de varias columnas también es posible mediante expresiones regulares, asegurándose de ajustar la expresión regular con `^` y `$` para que la función `col` sepa que se espera una selección de expresiones regulares.\n",
    "\n",
    "En el siguiente ejemplo vamos a buscar todas las columnas que empiecen por `id`."
   ]
  },
  {
   "cell_type": "code",
   "execution_count": 7,
   "id": "380284f3-da55-4736-b46a-360caf9264ff",
   "metadata": {
    "tags": []
   },
   "outputs": [
    {
     "data": {
      "text/html": [
       "<div><style>\n",
       ".dataframe > thead > tr,\n",
       ".dataframe > tbody > tr {\n",
       "  text-align: right;\n",
       "  white-space: pre-wrap;\n",
       "}\n",
       "</style>\n",
       "<small>shape: (3, 2)</small><table border=\"1\" class=\"dataframe\"><thead><tr><th>id</th><th>id_ciudad</th></tr><tr><td>u32</td><td>i64</td></tr></thead><tbody><tr><td>0</td><td>10</td></tr><tr><td>1</td><td>7</td></tr><tr><td>2</td><td>5</td></tr></tbody></table></div>"
      ],
      "text/plain": [
       "shape: (3, 2)\n",
       "┌─────┬───────────┐\n",
       "│ id  ┆ id_ciudad │\n",
       "│ --- ┆ ---       │\n",
       "│ u32 ┆ i64       │\n",
       "╞═════╪═══════════╡\n",
       "│ 0   ┆ 10        │\n",
       "│ 1   ┆ 7         │\n",
       "│ 2   ┆ 5         │\n",
       "└─────┴───────────┘"
      ]
     },
     "execution_count": 7,
     "metadata": {},
     "output_type": "execute_result"
    }
   ],
   "source": [
    "df.select(pl.col(\"^id.*$\"))"
   ]
  },
  {
   "cell_type": "markdown",
   "id": "55d6de4c-f416-43a3-ad5a-3ebce4856fec",
   "metadata": {},
   "source": [
    "## Selección de columnas por tipo de datos\n",
    "\n",
    "La función `col` puede seleccionar varias columnas utilizando tipos de datos de Polars."
   ]
  },
  {
   "cell_type": "code",
   "execution_count": 8,
   "id": "96a5b933-229d-4f91-9dc0-16cca77134c7",
   "metadata": {
    "tags": []
   },
   "outputs": [
    {
     "data": {
      "text/html": [
       "<div><style>\n",
       ".dataframe > thead > tr,\n",
       ".dataframe > tbody > tr {\n",
       "  text-align: right;\n",
       "  white-space: pre-wrap;\n",
       "}\n",
       "</style>\n",
       "<small>shape: (3, 3)</small><table border=\"1\" class=\"dataframe\"><thead><tr><th>id_ciudad</th><th>ciudad</th><th>log</th></tr><tr><td>i64</td><td>str</td><td>datetime[μs]</td></tr></thead><tbody><tr><td>10</td><td>&quot;Guadalajara&quot;</td><td>2024-04-01 00:00:00</td></tr><tr><td>7</td><td>&quot;Monterrey&quot;</td><td>2024-04-01 00:00:01</td></tr><tr><td>5</td><td>&quot;CDMX&quot;</td><td>2024-04-01 00:00:02</td></tr></tbody></table></div>"
      ],
      "text/plain": [
       "shape: (3, 3)\n",
       "┌───────────┬─────────────┬─────────────────────┐\n",
       "│ id_ciudad ┆ ciudad      ┆ log                 │\n",
       "│ ---       ┆ ---         ┆ ---                 │\n",
       "│ i64       ┆ str         ┆ datetime[μs]        │\n",
       "╞═══════════╪═════════════╪═════════════════════╡\n",
       "│ 10        ┆ Guadalajara ┆ 2024-04-01 00:00:00 │\n",
       "│ 7         ┆ Monterrey   ┆ 2024-04-01 00:00:01 │\n",
       "│ 5         ┆ CDMX        ┆ 2024-04-01 00:00:02 │\n",
       "└───────────┴─────────────┴─────────────────────┘"
      ]
     },
     "execution_count": 8,
     "metadata": {},
     "output_type": "execute_result"
    }
   ],
   "source": [
    "df.select(col(pl.Int64, pl.Utf8, pl.Datetime))"
   ]
  },
  {
   "cell_type": "markdown",
   "id": "7d2a7211-dc8f-47d7-af89-798aeb3af52f",
   "metadata": {},
   "source": [
    "# Selección de columnas usando selectores\n",
    "\n",
    "Polars también permite el uso de selecciones intuitivas para columnas basadas en su nombre, tipo u otras propiedades.\n",
    "\n",
    "En el siguiente ejemplo vamos a seleccionar las columnas enteras."
   ]
  },
  {
   "cell_type": "code",
   "execution_count": 9,
   "id": "09a1b2b2-fbbc-4c59-9221-0069a38e63dc",
   "metadata": {
    "tags": []
   },
   "outputs": [
    {
     "data": {
      "text/html": [
       "<div><style>\n",
       ".dataframe > thead > tr,\n",
       ".dataframe > tbody > tr {\n",
       "  text-align: right;\n",
       "  white-space: pre-wrap;\n",
       "}\n",
       "</style>\n",
       "<small>shape: (3, 2)</small><table border=\"1\" class=\"dataframe\"><thead><tr><th>id</th><th>id_ciudad</th></tr><tr><td>u32</td><td>i64</td></tr></thead><tbody><tr><td>0</td><td>10</td></tr><tr><td>1</td><td>7</td></tr><tr><td>2</td><td>5</td></tr></tbody></table></div>"
      ],
      "text/plain": [
       "shape: (3, 2)\n",
       "┌─────┬───────────┐\n",
       "│ id  ┆ id_ciudad │\n",
       "│ --- ┆ ---       │\n",
       "│ u32 ┆ i64       │\n",
       "╞═════╪═══════════╡\n",
       "│ 0   ┆ 10        │\n",
       "│ 1   ┆ 7         │\n",
       "│ 2   ┆ 5         │\n",
       "└─────┴───────────┘"
      ]
     },
     "execution_count": 9,
     "metadata": {},
     "output_type": "execute_result"
    }
   ],
   "source": [
    "import polars.selectors as cs\n",
    "\n",
    "df.select(cs.integer())"
   ]
  },
  {
   "cell_type": "markdown",
   "id": "56d2569b-3670-4a98-aa6a-18603ae383b9",
   "metadata": {},
   "source": [
    "En este otro ejemplo vamos a seleccionar todas las columnas numéricas menos la primera columna."
   ]
  },
  {
   "cell_type": "code",
   "execution_count": 10,
   "id": "3c99dfce-e729-4245-aa82-ba5bbaa978eb",
   "metadata": {
    "tags": []
   },
   "outputs": [
    {
     "data": {
      "text/html": [
       "<div><style>\n",
       ".dataframe > thead > tr,\n",
       ".dataframe > tbody > tr {\n",
       "  text-align: right;\n",
       "  white-space: pre-wrap;\n",
       "}\n",
       "</style>\n",
       "<small>shape: (3, 2)</small><table border=\"1\" class=\"dataframe\"><thead><tr><th>id_ciudad</th><th>monto</th></tr><tr><td>i64</td><td>f64</td></tr></thead><tbody><tr><td>10</td><td>56.9</td></tr><tr><td>7</td><td>100.5</td></tr><tr><td>5</td><td>1345.3</td></tr></tbody></table></div>"
      ],
      "text/plain": [
       "shape: (3, 2)\n",
       "┌───────────┬────────┐\n",
       "│ id_ciudad ┆ monto  │\n",
       "│ ---       ┆ ---    │\n",
       "│ i64       ┆ f64    │\n",
       "╞═══════════╪════════╡\n",
       "│ 10        ┆ 56.9   │\n",
       "│ 7         ┆ 100.5  │\n",
       "│ 5         ┆ 1345.3 │\n",
       "└───────────┴────────┘"
      ]
     },
     "execution_count": 10,
     "metadata": {},
     "output_type": "execute_result"
    }
   ],
   "source": [
    "df.select(cs.numeric() - cs.first())"
   ]
  },
  {
   "cell_type": "markdown",
   "id": "c2ce804a-2d61-4337-b739-de211510a5d8",
   "metadata": {},
   "source": [
    "Podemos seleccionar una columna también por su nombre y agregar negación al selector. Veamos un ejemplo donde tomamos una columnas por su nombre y usamos la negación de un selector para devolver todas las columnas que no sean numéricas."
   ]
  },
  {
   "cell_type": "code",
   "execution_count": 11,
   "id": "105ee4a3-c6e7-465f-b978-2701b0f35279",
   "metadata": {
    "tags": []
   },
   "outputs": [
    {
     "data": {
      "text/html": [
       "<div><style>\n",
       ".dataframe > thead > tr,\n",
       ".dataframe > tbody > tr {\n",
       "  text-align: right;\n",
       "  white-space: pre-wrap;\n",
       "}\n",
       "</style>\n",
       "<small>shape: (3, 5)</small><table border=\"1\" class=\"dataframe\"><thead><tr><th>id</th><th>ciudad</th><th>fecha</th><th>tiene_aeropuerto</th><th>log</th></tr><tr><td>u32</td><td>str</td><td>date</td><td>bool</td><td>datetime[μs]</td></tr></thead><tbody><tr><td>0</td><td>&quot;Guadalajara&quot;</td><td>2024-04-01</td><td>false</td><td>2024-04-01 00:00:00</td></tr><tr><td>1</td><td>&quot;Monterrey&quot;</td><td>2024-04-02</td><td>true</td><td>2024-04-01 00:00:01</td></tr><tr><td>2</td><td>&quot;CDMX&quot;</td><td>2024-04-03</td><td>false</td><td>2024-04-01 00:00:02</td></tr></tbody></table></div>"
      ],
      "text/plain": [
       "shape: (3, 5)\n",
       "┌─────┬─────────────┬────────────┬──────────────────┬─────────────────────┐\n",
       "│ id  ┆ ciudad      ┆ fecha      ┆ tiene_aeropuerto ┆ log                 │\n",
       "│ --- ┆ ---         ┆ ---        ┆ ---              ┆ ---                 │\n",
       "│ u32 ┆ str         ┆ date       ┆ bool             ┆ datetime[μs]        │\n",
       "╞═════╪═════════════╪════════════╪══════════════════╪═════════════════════╡\n",
       "│ 0   ┆ Guadalajara ┆ 2024-04-01 ┆ false            ┆ 2024-04-01 00:00:00 │\n",
       "│ 1   ┆ Monterrey   ┆ 2024-04-02 ┆ true             ┆ 2024-04-01 00:00:01 │\n",
       "│ 2   ┆ CDMX        ┆ 2024-04-03 ┆ false            ┆ 2024-04-01 00:00:02 │\n",
       "└─────┴─────────────┴────────────┴──────────────────┴─────────────────────┘"
      ]
     },
     "execution_count": 11,
     "metadata": {},
     "output_type": "execute_result"
    }
   ],
   "source": [
    "df.select(cs.by_name('id') | ~cs.numeric())"
   ]
  },
  {
   "cell_type": "markdown",
   "id": "0907c212-3061-4531-94ea-6ab6ea570ad0",
   "metadata": {},
   "source": [
    "Los selectores también nos permiten realizar selección de columnas por búsqueda de substrings."
   ]
  },
  {
   "cell_type": "code",
   "execution_count": 12,
   "id": "a506b1f2-437b-467a-956e-3eed413ac1ac",
   "metadata": {
    "tags": []
   },
   "outputs": [
    {
     "data": {
      "text/html": [
       "<div><style>\n",
       ".dataframe > thead > tr,\n",
       ".dataframe > tbody > tr {\n",
       "  text-align: right;\n",
       "  white-space: pre-wrap;\n",
       "}\n",
       "</style>\n",
       "<small>shape: (3, 2)</small><table border=\"1\" class=\"dataframe\"><thead><tr><th>id</th><th>id_ciudad</th></tr><tr><td>u32</td><td>i64</td></tr></thead><tbody><tr><td>0</td><td>10</td></tr><tr><td>1</td><td>7</td></tr><tr><td>2</td><td>5</td></tr></tbody></table></div>"
      ],
      "text/plain": [
       "shape: (3, 2)\n",
       "┌─────┬───────────┐\n",
       "│ id  ┆ id_ciudad │\n",
       "│ --- ┆ ---       │\n",
       "│ u32 ┆ i64       │\n",
       "╞═════╪═══════════╡\n",
       "│ 0   ┆ 10        │\n",
       "│ 1   ┆ 7         │\n",
       "│ 2   ┆ 5         │\n",
       "└─────┴───────────┘"
      ]
     },
     "execution_count": 12,
     "metadata": {},
     "output_type": "execute_result"
    }
   ],
   "source": [
    "df.select(cs.contains('id'))"
   ]
  }
 ],
 "metadata": {
  "kernelspec": {
   "display_name": "Python 3 (ipykernel)",
   "language": "python",
   "name": "python3"
  },
  "language_info": {
   "codemirror_mode": {
    "name": "ipython",
    "version": 3
   },
   "file_extension": ".py",
   "mimetype": "text/x-python",
   "name": "python",
   "nbconvert_exporter": "python",
   "pygments_lexer": "ipython3",
   "version": "3.9.6"
  }
 },
 "nbformat": 4,
 "nbformat_minor": 5
}
