{
 "cells": [
  {
   "cell_type": "markdown",
   "id": "5484c098-8f21-4154-9f41-af42dfca58a3",
   "metadata": {},
   "source": [
    "# Lectura 44: Agregaciones y funciones de ventana"
   ]
  },
  {
   "cell_type": "markdown",
   "id": "b50846c1-b745-458c-bc10-80141b0c3d81",
   "metadata": {},
   "source": [
    "## Agregaciones\n",
    "\n",
    "### Condicionales\n",
    "\n",
    "Digamos que queremos saber cuáles fueron los tres aeropuertos de origen con más vuelos para la aerolínea American Airlines (AA)."
   ]
  },
  {
   "cell_type": "code",
   "execution_count": null,
   "id": "8eb42125-7eb0-44fc-89ee-9922ea45b78d",
   "metadata": {},
   "outputs": [],
   "source": [
    "import polars as pl\n",
    "\n",
    "vuelos_lf = (\n",
    "    pl.scan_parquet('./data/vuelos/vuelos.parquet')\n",
    ")"
   ]
  },
  {
   "cell_type": "code",
   "execution_count": null,
   "id": "78931111-b6cd-45e5-8142-c9d164620b2f",
   "metadata": {},
   "outputs": [],
   "source": [
    "from polars import col\n",
    "\n",
    "(\n",
    "    vuelos_lf\n",
    "    .group_by('ORIGIN_AIRPORT')\n",
    "    .agg(\n",
    "        (col('AIRLINE') == 'AA').sum().alias('AA')\n",
    "    )\n",
    "    .sort('AA', descending=True)\n",
    "    .limit(3)\n",
    "    .collect()\n",
    ")"
   ]
  },
  {
   "cell_type": "markdown",
   "id": "c5e79091-88ca-4c92-b1a3-d483f6fde9ac",
   "metadata": {},
   "source": [
    "## Funciones de ventana\n",
    "\n",
    "Las funciones de ventana en Polars nos permiten realizar agregaciones en grupos dentro de un `select`. \n",
    "\n",
    "A continuación, mostraremos cómo usar funciones de ventana para agrupar diferentes columnas y realizar una agregación en ellas. Hacerlo nos permite utilizar múltiples operaciones de `group by` en paralelo, utilizando una única consulta. Los resultados de la agregación se proyectan a las filas originales. Por lo tanto, una función de ventana casi siempre conducirá a un DataFrame del mismo tamaño que el original.\n",
    "\n",
    "Para poder acceder a las funciones de ventana podemos llamar al método `over('col1')` o si deseamos más de una columna lo podemos hacer llamando a `over(['col1', 'col2', ..., colN])` .\n",
    "\n",
    "Al usar  funciones de ventana podemos realizar agregaciones sobre diferentes grupos dentro de un solo `select`. Esto no costará nada porque los grupos calculados se almacenan en caché y se comparten entre diferentes expresiones de ventana.\n",
    "\n",
    "En el siguiente ejemplo vamos a calcular primeramente el promedio del tiempo en el aire por aerolínea y luego calcularemos el promedio del retraso en la salida por aeropuerto origen y aeropuerto destino."
   ]
  },
  {
   "cell_type": "code",
   "execution_count": null,
   "id": "47159b47-03ca-4aa7-87f4-d7d6dcd445f8",
   "metadata": {},
   "outputs": [],
   "source": [
    "vuelos_lf.select(\n",
    "    col('AIRLINE'),\n",
    "    col('AIR_TIME'),\n",
    "    col('AIR_TIME').mean().over('AIRLINE').alias('AVG_AIR_TIME'),\n",
    "    col('ORIGIN_AIRPORT'),\n",
    "    col('DESTINATION_AIRPORT'),\n",
    "    col('DEPARTURE_DELAY').mean().over(['ORIGIN_AIRPORT', 'DESTINATION_AIRPORT']).alias('AVG_DEPARTURE_DELAY')   \n",
    ").collect()"
   ]
  },
  {
   "cell_type": "markdown",
   "id": "bfd6238b-a6a2-40d1-9a13-8266469bf598",
   "metadata": {},
   "source": [
    "### Operaciones por grupo\n",
    "\n",
    "Las funciones de ventana pueden hacer más que solo agregaciones. También pueden verse como una operación dentro de un grupo. Si, por ejemplo, deseamos ordenar los valores dentro de un grupo podemos realizarlo.\n",
    "\n",
    "Para mostrar esto vamos a tomar del dataset de vuelos un subconjunto de columnas. Particionaremos por el día de la semana y ordenaremos por los retrasos en las llegadas dentro de esos grupos."
   ]
  },
  {
   "cell_type": "code",
   "execution_count": null,
   "id": "a16d5e04-0f46-49c0-9abe-c8f6967d0bff",
   "metadata": {},
   "outputs": [],
   "source": [
    "vuelos_reducido_lf = (\n",
    "    pl.scan_parquet('./data/vuelos/vuelos.parquet')\n",
    "    .select(\n",
    "        col('AIRLINE'),\n",
    "        col('DAY_OF_WEEK'),\n",
    "        col('ARRIVAL_DELAY')\n",
    "    )\n",
    ")"
   ]
  },
  {
   "cell_type": "code",
   "execution_count": null,
   "id": "c25b9da6-34bb-46f4-a8b2-9ff507d812ce",
   "metadata": {},
   "outputs": [],
   "source": [
    "vuelos_reducido_lf.collect()"
   ]
  },
  {
   "cell_type": "code",
   "execution_count": null,
   "id": "3666b7ae-9405-461d-8c38-218813473957",
   "metadata": {},
   "outputs": [],
   "source": [
    "vuelos_reducido_lf.with_columns(\n",
    "    col(['AIRLINE', 'ARRIVAL_DELAY']).sort_by('ARRIVAL_DELAY').over('DAY_OF_WEEK')\n",
    ").collect()"
   ]
  }
 ],
 "metadata": {
  "kernelspec": {
   "display_name": "Python 3 (ipykernel)",
   "language": "python",
   "name": "python3"
  },
  "language_info": {
   "codemirror_mode": {
    "name": "ipython",
    "version": 3
   },
   "file_extension": ".py",
   "mimetype": "text/x-python",
   "name": "python",
   "nbconvert_exporter": "python",
   "pygments_lexer": "ipython3",
   "version": "3.8.13"
  }
 },
 "nbformat": 4,
 "nbformat_minor": 5
}
