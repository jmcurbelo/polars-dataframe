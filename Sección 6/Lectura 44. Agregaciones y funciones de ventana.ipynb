{
 "cells": [
  {
   "cell_type": "markdown",
   "id": "5484c098-8f21-4154-9f41-af42dfca58a3",
   "metadata": {},
   "source": [
    "# Lectura 44: Agregaciones y funciones de ventana"
   ]
  },
  {
   "cell_type": "markdown",
   "id": "b50846c1-b745-458c-bc10-80141b0c3d81",
   "metadata": {},
   "source": [
    "## Agregaciones\n",
    "\n",
    "### Condicionales\n",
    "\n",
    "Digamos que queremos saber cuáles fueron los tres aeropuertos de origen con más vuelos para la aerolínea American Airlines (AA)."
   ]
  },
  {
   "cell_type": "code",
   "execution_count": 1,
   "id": "8eb42125-7eb0-44fc-89ee-9922ea45b78d",
   "metadata": {
    "tags": []
   },
   "outputs": [],
   "source": [
    "import polars as pl\n",
    "\n",
    "vuelos_lf = (\n",
    "    pl.scan_parquet('./data/vuelos/vuelos.parquet')\n",
    ")"
   ]
  },
  {
   "cell_type": "code",
   "execution_count": 2,
   "id": "78931111-b6cd-45e5-8142-c9d164620b2f",
   "metadata": {
    "tags": []
   },
   "outputs": [
    {
     "data": {
      "text/html": [
       "<div><style>\n",
       ".dataframe > thead > tr,\n",
       ".dataframe > tbody > tr {\n",
       "  text-align: right;\n",
       "  white-space: pre-wrap;\n",
       "}\n",
       "</style>\n",
       "<small>shape: (3, 2)</small><table border=\"1\" class=\"dataframe\"><thead><tr><th>ORIGIN_AIRPORT</th><th>AA</th></tr><tr><td>str</td><td>u32</td></tr></thead><tbody><tr><td>&quot;DFW&quot;</td><td>134270</td></tr><tr><td>&quot;ORD&quot;</td><td>50741</td></tr><tr><td>&quot;MIA&quot;</td><td>48300</td></tr></tbody></table></div>"
      ],
      "text/plain": [
       "shape: (3, 2)\n",
       "┌────────────────┬────────┐\n",
       "│ ORIGIN_AIRPORT ┆ AA     │\n",
       "│ ---            ┆ ---    │\n",
       "│ str            ┆ u32    │\n",
       "╞════════════════╪════════╡\n",
       "│ DFW            ┆ 134270 │\n",
       "│ ORD            ┆ 50741  │\n",
       "│ MIA            ┆ 48300  │\n",
       "└────────────────┴────────┘"
      ]
     },
     "execution_count": 2,
     "metadata": {},
     "output_type": "execute_result"
    }
   ],
   "source": [
    "from polars import col\n",
    "\n",
    "(\n",
    "    vuelos_lf\n",
    "    .group_by('ORIGIN_AIRPORT')\n",
    "    .agg(\n",
    "        (col('AIRLINE') == 'AA').sum().alias('AA')\n",
    "    )\n",
    "    .sort('AA', descending=True)\n",
    "    .limit(3)\n",
    "    .collect()\n",
    ")"
   ]
  },
  {
   "cell_type": "markdown",
   "id": "c5e79091-88ca-4c92-b1a3-d483f6fde9ac",
   "metadata": {},
   "source": [
    "## Funciones de ventana\n",
    "\n",
    "Las funciones de ventana en Polars nos permiten realizar agregaciones en grupos dentro de un `select`. \n",
    "\n",
    "A continuación, mostraremos cómo usar funciones de ventana para agrupar diferentes columnas y realizar una agregación en ellas. Hacerlo nos permite utilizar múltiples operaciones de `group by` en paralelo, utilizando una única consulta. Los resultados de la agregación se proyectan a las filas originales. Por lo tanto, una función de ventana casi siempre conducirá a un DataFrame del mismo tamaño que el original.\n",
    "\n",
    "Para poder acceder a las funciones de ventana podemos llamar al método `over('col1')` o si deseamos más de una columna lo podemos hacer llamando a `over(['col1', 'col2', ..., colN])` .\n",
    "\n",
    "Al usar  funciones de ventana podemos realizar agregaciones sobre diferentes grupos dentro de un solo `select`. Esto no costará nada porque los grupos calculados se almacenan en caché y se comparten entre diferentes expresiones de ventana.\n",
    "\n",
    "En el siguiente ejemplo vamos a calcular primeramente el promedio del tiempo en el aire por aerolínea y luego calcularemos el promedio del retraso en la salida por aeropuerto origen y aeropuerto destino."
   ]
  },
  {
   "cell_type": "code",
   "execution_count": 3,
   "id": "47159b47-03ca-4aa7-87f4-d7d6dcd445f8",
   "metadata": {
    "tags": []
   },
   "outputs": [
    {
     "data": {
      "text/html": [
       "<div><style>\n",
       ".dataframe > thead > tr,\n",
       ".dataframe > tbody > tr {\n",
       "  text-align: right;\n",
       "  white-space: pre-wrap;\n",
       "}\n",
       "</style>\n",
       "<small>shape: (5_819_079, 6)</small><table border=\"1\" class=\"dataframe\"><thead><tr><th>AIRLINE</th><th>AIR_TIME</th><th>AVG_AIR_TIME</th><th>ORIGIN_AIRPORT</th><th>DESTINATION_AIRPORT</th><th>AVG_DEPARTURE_DELAY</th></tr><tr><td>str</td><td>i32</td><td>f64</td><td>str</td><td>str</td><td>f64</td></tr></thead><tbody><tr><td>&quot;AS&quot;</td><td>169</td><td>157.844784</td><td>&quot;ANC&quot;</td><td>&quot;SEA&quot;</td><td>0.979852</td></tr><tr><td>&quot;AA&quot;</td><td>263</td><td>139.806208</td><td>&quot;LAX&quot;</td><td>&quot;PBI&quot;</td><td>4.883117</td></tr><tr><td>&quot;US&quot;</td><td>266</td><td>125.774234</td><td>&quot;SFO&quot;</td><td>&quot;CLT&quot;</td><td>1.909542</td></tr><tr><td>&quot;AA&quot;</td><td>258</td><td>139.806208</td><td>&quot;LAX&quot;</td><td>&quot;MIA&quot;</td><td>6.713811</td></tr><tr><td>&quot;AS&quot;</td><td>199</td><td>157.844784</td><td>&quot;SEA&quot;</td><td>&quot;ANC&quot;</td><td>6.243791</td></tr><tr><td>&hellip;</td><td>&hellip;</td><td>&hellip;</td><td>&hellip;</td><td>&hellip;</td><td>&hellip;</td></tr><tr><td>&quot;B6&quot;</td><td>272</td><td>143.858492</td><td>&quot;LAX&quot;</td><td>&quot;BOS&quot;</td><td>7.110834</td></tr><tr><td>&quot;B6&quot;</td><td>195</td><td>143.858492</td><td>&quot;JFK&quot;</td><td>&quot;PSE&quot;</td><td>16.759146</td></tr><tr><td>&quot;B6&quot;</td><td>197</td><td>143.858492</td><td>&quot;JFK&quot;</td><td>&quot;SJU&quot;</td><td>12.840682</td></tr><tr><td>&quot;B6&quot;</td><td>144</td><td>143.858492</td><td>&quot;MCO&quot;</td><td>&quot;SJU&quot;</td><td>11.035048</td></tr><tr><td>&quot;B6&quot;</td><td>189</td><td>143.858492</td><td>&quot;JFK&quot;</td><td>&quot;BQN&quot;</td><td>13.634921</td></tr></tbody></table></div>"
      ],
      "text/plain": [
       "shape: (5_819_079, 6)\n",
       "┌─────────┬──────────┬──────────────┬────────────────┬─────────────────────┬─────────────────────┐\n",
       "│ AIRLINE ┆ AIR_TIME ┆ AVG_AIR_TIME ┆ ORIGIN_AIRPORT ┆ DESTINATION_AIRPORT ┆ AVG_DEPARTURE_DELAY │\n",
       "│ ---     ┆ ---      ┆ ---          ┆ ---            ┆ ---                 ┆ ---                 │\n",
       "│ str     ┆ i32      ┆ f64          ┆ str            ┆ str                 ┆ f64                 │\n",
       "╞═════════╪══════════╪══════════════╪════════════════╪═════════════════════╪═════════════════════╡\n",
       "│ AS      ┆ 169      ┆ 157.844784   ┆ ANC            ┆ SEA                 ┆ 0.979852            │\n",
       "│ AA      ┆ 263      ┆ 139.806208   ┆ LAX            ┆ PBI                 ┆ 4.883117            │\n",
       "│ US      ┆ 266      ┆ 125.774234   ┆ SFO            ┆ CLT                 ┆ 1.909542            │\n",
       "│ AA      ┆ 258      ┆ 139.806208   ┆ LAX            ┆ MIA                 ┆ 6.713811            │\n",
       "│ AS      ┆ 199      ┆ 157.844784   ┆ SEA            ┆ ANC                 ┆ 6.243791            │\n",
       "│ …       ┆ …        ┆ …            ┆ …              ┆ …                   ┆ …                   │\n",
       "│ B6      ┆ 272      ┆ 143.858492   ┆ LAX            ┆ BOS                 ┆ 7.110834            │\n",
       "│ B6      ┆ 195      ┆ 143.858492   ┆ JFK            ┆ PSE                 ┆ 16.759146           │\n",
       "│ B6      ┆ 197      ┆ 143.858492   ┆ JFK            ┆ SJU                 ┆ 12.840682           │\n",
       "│ B6      ┆ 144      ┆ 143.858492   ┆ MCO            ┆ SJU                 ┆ 11.035048           │\n",
       "│ B6      ┆ 189      ┆ 143.858492   ┆ JFK            ┆ BQN                 ┆ 13.634921           │\n",
       "└─────────┴──────────┴──────────────┴────────────────┴─────────────────────┴─────────────────────┘"
      ]
     },
     "execution_count": 3,
     "metadata": {},
     "output_type": "execute_result"
    }
   ],
   "source": [
    "vuelos_lf.select(\n",
    "    col('AIRLINE'),\n",
    "    col('AIR_TIME'),\n",
    "    col('AIR_TIME').mean().over('AIRLINE').alias('AVG_AIR_TIME'),\n",
    "    col('ORIGIN_AIRPORT'),\n",
    "    col('DESTINATION_AIRPORT'),\n",
    "    col('DEPARTURE_DELAY').mean().over(['ORIGIN_AIRPORT', 'DESTINATION_AIRPORT']).alias('AVG_DEPARTURE_DELAY')   \n",
    ").collect()"
   ]
  },
  {
   "cell_type": "markdown",
   "id": "bfd6238b-a6a2-40d1-9a13-8266469bf598",
   "metadata": {},
   "source": [
    "### Operaciones por grupo\n",
    "\n",
    "Las funciones de ventana pueden hacer más que solo agregaciones. También pueden verse como una operación dentro de un grupo. Si, por ejemplo, deseamos ordenar los valores dentro de un grupo podemos realizarlo.\n",
    "\n",
    "Para mostrar esto vamos a tomar del dataset de vuelos un subconjunto de columnas. Particionaremos por el día de la semana y ordenaremos por los retrasos en las llegadas dentro de esos grupos."
   ]
  },
  {
   "cell_type": "code",
   "execution_count": 4,
   "id": "a16d5e04-0f46-49c0-9abe-c8f6967d0bff",
   "metadata": {
    "tags": []
   },
   "outputs": [],
   "source": [
    "vuelos_reducido_lf = (\n",
    "    pl.scan_parquet('./data/vuelos/vuelos.parquet')\n",
    "    .select(\n",
    "        col('AIRLINE'),\n",
    "        col('DAY_OF_WEEK'),\n",
    "        col('ARRIVAL_DELAY')\n",
    "    )\n",
    ")"
   ]
  },
  {
   "cell_type": "code",
   "execution_count": 5,
   "id": "c25b9da6-34bb-46f4-a8b2-9ff507d812ce",
   "metadata": {
    "tags": []
   },
   "outputs": [
    {
     "data": {
      "text/html": [
       "<div><style>\n",
       ".dataframe > thead > tr,\n",
       ".dataframe > tbody > tr {\n",
       "  text-align: right;\n",
       "  white-space: pre-wrap;\n",
       "}\n",
       "</style>\n",
       "<small>shape: (5_819_079, 3)</small><table border=\"1\" class=\"dataframe\"><thead><tr><th>AIRLINE</th><th>DAY_OF_WEEK</th><th>ARRIVAL_DELAY</th></tr><tr><td>str</td><td>i32</td><td>i32</td></tr></thead><tbody><tr><td>&quot;AS&quot;</td><td>4</td><td>-22</td></tr><tr><td>&quot;AA&quot;</td><td>4</td><td>-9</td></tr><tr><td>&quot;US&quot;</td><td>4</td><td>5</td></tr><tr><td>&quot;AA&quot;</td><td>4</td><td>-9</td></tr><tr><td>&quot;AS&quot;</td><td>4</td><td>-21</td></tr><tr><td>&hellip;</td><td>&hellip;</td><td>&hellip;</td></tr><tr><td>&quot;B6&quot;</td><td>4</td><td>-26</td></tr><tr><td>&quot;B6&quot;</td><td>4</td><td>-16</td></tr><tr><td>&quot;B6&quot;</td><td>4</td><td>-8</td></tr><tr><td>&quot;B6&quot;</td><td>4</td><td>-10</td></tr><tr><td>&quot;B6&quot;</td><td>4</td><td>2</td></tr></tbody></table></div>"
      ],
      "text/plain": [
       "shape: (5_819_079, 3)\n",
       "┌─────────┬─────────────┬───────────────┐\n",
       "│ AIRLINE ┆ DAY_OF_WEEK ┆ ARRIVAL_DELAY │\n",
       "│ ---     ┆ ---         ┆ ---           │\n",
       "│ str     ┆ i32         ┆ i32           │\n",
       "╞═════════╪═════════════╪═══════════════╡\n",
       "│ AS      ┆ 4           ┆ -22           │\n",
       "│ AA      ┆ 4           ┆ -9            │\n",
       "│ US      ┆ 4           ┆ 5             │\n",
       "│ AA      ┆ 4           ┆ -9            │\n",
       "│ AS      ┆ 4           ┆ -21           │\n",
       "│ …       ┆ …           ┆ …             │\n",
       "│ B6      ┆ 4           ┆ -26           │\n",
       "│ B6      ┆ 4           ┆ -16           │\n",
       "│ B6      ┆ 4           ┆ -8            │\n",
       "│ B6      ┆ 4           ┆ -10           │\n",
       "│ B6      ┆ 4           ┆ 2             │\n",
       "└─────────┴─────────────┴───────────────┘"
      ]
     },
     "execution_count": 5,
     "metadata": {},
     "output_type": "execute_result"
    }
   ],
   "source": [
    "vuelos_reducido_lf.collect()"
   ]
  },
  {
   "cell_type": "code",
   "execution_count": 6,
   "id": "3666b7ae-9405-461d-8c38-218813473957",
   "metadata": {
    "tags": []
   },
   "outputs": [
    {
     "data": {
      "text/html": [
       "<div><style>\n",
       ".dataframe > thead > tr,\n",
       ".dataframe > tbody > tr {\n",
       "  text-align: right;\n",
       "  white-space: pre-wrap;\n",
       "}\n",
       "</style>\n",
       "<small>shape: (5_819_079, 3)</small><table border=\"1\" class=\"dataframe\"><thead><tr><th>AIRLINE</th><th>DAY_OF_WEEK</th><th>ARRIVAL_DELAY</th></tr><tr><td>str</td><td>i32</td><td>i32</td></tr></thead><tbody><tr><td>&quot;AS&quot;</td><td>4</td><td>null</td></tr><tr><td>&quot;AA&quot;</td><td>4</td><td>null</td></tr><tr><td>&quot;OO&quot;</td><td>4</td><td>null</td></tr><tr><td>&quot;MQ&quot;</td><td>4</td><td>null</td></tr><tr><td>&quot;OO&quot;</td><td>4</td><td>null</td></tr><tr><td>&hellip;</td><td>&hellip;</td><td>&hellip;</td></tr><tr><td>&quot;AA&quot;</td><td>4</td><td>1371</td></tr><tr><td>&quot;AA&quot;</td><td>4</td><td>1381</td></tr><tr><td>&quot;AA&quot;</td><td>4</td><td>1456</td></tr><tr><td>&quot;AA&quot;</td><td>4</td><td>1480</td></tr><tr><td>&quot;AA&quot;</td><td>4</td><td>1636</td></tr></tbody></table></div>"
      ],
      "text/plain": [
       "shape: (5_819_079, 3)\n",
       "┌─────────┬─────────────┬───────────────┐\n",
       "│ AIRLINE ┆ DAY_OF_WEEK ┆ ARRIVAL_DELAY │\n",
       "│ ---     ┆ ---         ┆ ---           │\n",
       "│ str     ┆ i32         ┆ i32           │\n",
       "╞═════════╪═════════════╪═══════════════╡\n",
       "│ AS      ┆ 4           ┆ null          │\n",
       "│ AA      ┆ 4           ┆ null          │\n",
       "│ OO      ┆ 4           ┆ null          │\n",
       "│ MQ      ┆ 4           ┆ null          │\n",
       "│ OO      ┆ 4           ┆ null          │\n",
       "│ …       ┆ …           ┆ …             │\n",
       "│ AA      ┆ 4           ┆ 1371          │\n",
       "│ AA      ┆ 4           ┆ 1381          │\n",
       "│ AA      ┆ 4           ┆ 1456          │\n",
       "│ AA      ┆ 4           ┆ 1480          │\n",
       "│ AA      ┆ 4           ┆ 1636          │\n",
       "└─────────┴─────────────┴───────────────┘"
      ]
     },
     "execution_count": 6,
     "metadata": {},
     "output_type": "execute_result"
    }
   ],
   "source": [
    "vuelos_reducido_lf.with_columns(\n",
    "    col(['AIRLINE', 'ARRIVAL_DELAY']).sort_by('ARRIVAL_DELAY').over('DAY_OF_WEEK')\n",
    ").collect()"
   ]
  }
 ],
 "metadata": {
  "kernelspec": {
   "display_name": "Python 3 (ipykernel)",
   "language": "python",
   "name": "python3"
  },
  "language_info": {
   "codemirror_mode": {
    "name": "ipython",
    "version": 3
   },
   "file_extension": ".py",
   "mimetype": "text/x-python",
   "name": "python",
   "nbconvert_exporter": "python",
   "pygments_lexer": "ipython3",
   "version": "3.9.6"
  }
 },
 "nbformat": 4,
 "nbformat_minor": 5
}
