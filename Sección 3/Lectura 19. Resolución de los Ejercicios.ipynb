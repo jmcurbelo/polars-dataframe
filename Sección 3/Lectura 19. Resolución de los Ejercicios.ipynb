{
 "cells": [
  {
   "cell_type": "markdown",
   "id": "f06f806c-bd6e-4161-b44d-48533985b97a",
   "metadata": {},
   "source": [
    "# Resolución de los ejercicios"
   ]
  },
  {
   "cell_type": "markdown",
   "id": "af2de4db-2128-4191-aa60-029e4b44fa58",
   "metadata": {},
   "source": [
    "## Ejercicio 1\n",
    "\n",
    "### Inciso a"
   ]
  },
  {
   "cell_type": "code",
   "execution_count": null,
   "id": "85630eea-2966-4c4f-956b-804512973da0",
   "metadata": {
    "tags": []
   },
   "outputs": [],
   "source": [
    "import polars as pl\n",
    "\n",
    "df = pl.read_csv('./data/fuel.csv', infer_schema_length=100000)\n",
    "\n",
    "print(df)"
   ]
  },
  {
   "cell_type": "code",
   "execution_count": null,
   "id": "08a30a2e-f6ae-4342-87b6-da7719521030",
   "metadata": {
    "tags": []
   },
   "outputs": [],
   "source": [
    "display(df)"
   ]
  },
  {
   "cell_type": "markdown",
   "id": "b0ef2e41-caa5-4f0e-8d86-777755d06a65",
   "metadata": {},
   "source": [
    "## Inciso b"
   ]
  },
  {
   "cell_type": "code",
   "execution_count": null,
   "id": "43ed77de-bc2d-4071-ad54-b9d897988e08",
   "metadata": {
    "tags": []
   },
   "outputs": [],
   "source": [
    "df1 = pl.read_csv('./data/fuel.csv', infer_schema_length=100000, columns=['vehicle_id', 'year', 'make', 'model', 'class', 'transmission'])\n",
    "\n",
    "display(df1)"
   ]
  },
  {
   "cell_type": "markdown",
   "id": "4554e38d-f6b4-44e5-bbce-20b7ea5e51cd",
   "metadata": {},
   "source": [
    "### Inciso c"
   ]
  },
  {
   "cell_type": "code",
   "execution_count": null,
   "id": "aedd1288-2081-46ad-b029-8555b8f94a01",
   "metadata": {
    "tags": []
   },
   "outputs": [],
   "source": [
    "from polars import col\n",
    "\n",
    "subcompactos = df1.filter(col('class') == 'Subcompact Cars')\n",
    "\n",
    "display(subcompactos)"
   ]
  },
  {
   "cell_type": "markdown",
   "id": "7c17fbf5-cbb5-48b2-8b1f-0cce63b7b527",
   "metadata": {},
   "source": [
    "### Inciso d"
   ]
  },
  {
   "cell_type": "code",
   "execution_count": null,
   "id": "fc1123f1-e866-4b6c-afc6-dd9c40383231",
   "metadata": {
    "tags": []
   },
   "outputs": [],
   "source": [
    "subcompactos.write_csv('./data/salida/subcompactos.csv', separator='|')"
   ]
  },
  {
   "cell_type": "markdown",
   "id": "d55d1f65-edd1-4f73-b81a-b52bdbbc6fe4",
   "metadata": {},
   "source": [
    "## Ejercicio 2"
   ]
  },
  {
   "cell_type": "markdown",
   "id": "dbe94266-caf2-448e-a7ae-6868a27b768e",
   "metadata": {},
   "source": [
    "### Inciso a"
   ]
  },
  {
   "cell_type": "code",
   "execution_count": null,
   "id": "558b2fcd-1300-4773-97f3-14bafcfd8eee",
   "metadata": {
    "tags": []
   },
   "outputs": [],
   "source": [
    "vuelos = pl.read_parquet('./data/vuelos/vuelos.parquet')\n",
    "\n",
    "display(vuelos)"
   ]
  },
  {
   "cell_type": "markdown",
   "id": "7865f3c5-16bd-457d-b661-08ec5295f506",
   "metadata": {},
   "source": [
    "### Inciso b"
   ]
  },
  {
   "cell_type": "code",
   "execution_count": null,
   "id": "f66c385d-d7e0-4afb-af70-f7907b7b9f64",
   "metadata": {
    "tags": []
   },
   "outputs": [],
   "source": [
    "multi_parquet = pl.read_parquet('./data/vuelos/multi_parquet/*.parquet')\n",
    "\n",
    "display(multi_parquet)"
   ]
  },
  {
   "cell_type": "markdown",
   "id": "182493d8-e0ca-4a7a-a84c-ad13bdd836ea",
   "metadata": {},
   "source": [
    "### Inciso c"
   ]
  },
  {
   "cell_type": "code",
   "execution_count": null,
   "id": "bc9eca50-2628-4e28-bde6-4fa0fe12e9ab",
   "metadata": {
    "tags": []
   },
   "outputs": [],
   "source": [
    "parquet_pyarrow = pl.read_parquet('./data/vuelos/multi_parquet/', use_pyarrow=True, columns=['YEAR', 'MONTH', 'DAY', 'AIRLINE', 'ORIGIN_AIRPORT', 'DESTINATION_AIRPORT'])\n",
    "\n",
    "display(parquet_pyarrow)"
   ]
  },
  {
   "cell_type": "markdown",
   "id": "c1fef5dd-f769-4490-b5f2-14ee56bc0166",
   "metadata": {},
   "source": [
    "### Inciso d"
   ]
  },
  {
   "cell_type": "code",
   "execution_count": null,
   "id": "e7143c35-f8a8-4925-847a-fe230c85fbd0",
   "metadata": {
    "tags": []
   },
   "outputs": [],
   "source": [
    "multi_parquet.write_parquet(\n",
    "    './data/salida_parquet',\n",
    "    use_pyarrow=True,\n",
    "    pyarrow_options={\"partition_cols\": [\"MONTH\"]},\n",
    "    compression='lz4'\n",
    ")"
   ]
  },
  {
   "cell_type": "markdown",
   "id": "c4e52ed3-0df9-4684-956a-a7b8ca5cbb82",
   "metadata": {},
   "source": [
    "## Ejercicio 3"
   ]
  },
  {
   "cell_type": "markdown",
   "id": "aa4e408f-925d-436c-95cd-179a72970634",
   "metadata": {},
   "source": [
    "### Inciso a"
   ]
  },
  {
   "cell_type": "code",
   "execution_count": null,
   "id": "a94ebc06-91a5-478e-b701-a3a7985c7433",
   "metadata": {
    "tags": []
   },
   "outputs": [],
   "source": [
    "covid_data = pl.read_excel('./data/covid/Covid-Dashboard.xlsx', sheet_name='Data')\n",
    "\n",
    "display(covid_data)"
   ]
  },
  {
   "cell_type": "markdown",
   "id": "c02e65c4-d86a-43e0-9c6b-b09088885663",
   "metadata": {},
   "source": [
    "### Inciso b"
   ]
  },
  {
   "cell_type": "code",
   "execution_count": null,
   "id": "03397f37-6d7a-443a-bf54-b1b7249ffe2f",
   "metadata": {
    "tags": []
   },
   "outputs": [],
   "source": [
    "cases_and_recovered = pl.read_excel('./data/covid/Covid-Dashboard.xlsx', sheet_name='Cases and Recovered')\n",
    "\n",
    "display(cases_and_recovered)"
   ]
  },
  {
   "cell_type": "markdown",
   "id": "afba1667-4cd6-443b-ab25-ea1038b5d0c1",
   "metadata": {},
   "source": [
    "### Inciso c"
   ]
  },
  {
   "cell_type": "code",
   "execution_count": null,
   "id": "5cba632b-c397-44ec-9fc3-557022065235",
   "metadata": {
    "tags": []
   },
   "outputs": [],
   "source": [
    "millon = cases_and_recovered.filter(col('Total Cases') > 1000000)\n",
    "\n",
    "display(millon)"
   ]
  },
  {
   "cell_type": "markdown",
   "id": "870f33cb-89cc-484d-ba6c-08e3235a5627",
   "metadata": {},
   "source": [
    "### Inciso d"
   ]
  },
  {
   "cell_type": "code",
   "execution_count": null,
   "id": "3299ff6c-4880-491e-9240-f81904fd1f68",
   "metadata": {
    "tags": []
   },
   "outputs": [],
   "source": [
    "millon.write_excel('./data/millon_cases.xlsx', worksheet='millon')"
   ]
  }
 ],
 "metadata": {
  "kernelspec": {
   "display_name": "Python 3 (ipykernel)",
   "language": "python",
   "name": "python3"
  },
  "language_info": {
   "codemirror_mode": {
    "name": "ipython",
    "version": 3
   },
   "file_extension": ".py",
   "mimetype": "text/x-python",
   "name": "python",
   "nbconvert_exporter": "python",
   "pygments_lexer": "ipython3",
   "version": "3.9.6"
  }
 },
 "nbformat": 4,
 "nbformat_minor": 5
}
