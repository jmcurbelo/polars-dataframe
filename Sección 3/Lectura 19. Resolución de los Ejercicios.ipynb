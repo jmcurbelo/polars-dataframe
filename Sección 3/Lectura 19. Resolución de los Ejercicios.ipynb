{
 "cells": [
  {
   "cell_type": "markdown",
   "id": "f06f806c-bd6e-4161-b44d-48533985b97a",
   "metadata": {},
   "source": [
    "# Resolución de los ejercicios"
   ]
  },
  {
   "cell_type": "markdown",
   "id": "af2de4db-2128-4191-aa60-029e4b44fa58",
   "metadata": {},
   "source": [
    "## Ejercicio 1\n",
    "\n",
    "### Inciso a"
   ]
  },
  {
   "cell_type": "code",
   "execution_count": 1,
   "id": "85630eea-2966-4c4f-956b-804512973da0",
   "metadata": {
    "tags": []
   },
   "outputs": [
    {
     "name": "stdout",
     "output_type": "stream",
     "text": [
      "shape: (38_113, 81)\n",
      "┌────────────┬──────┬────────────┬────────────┬───┬────────────┬───────────┬───────────┬───────────┐\n",
      "│ vehicle_id ┆ year ┆ make       ┆ model      ┆ … ┆ highway_ra ┆ range_ft2 ┆ city_rang ┆ highway_r │\n",
      "│ ---        ┆ ---  ┆ ---        ┆ ---        ┆   ┆ nge_ft1    ┆ ---       ┆ e_ft2     ┆ ange_ft2  │\n",
      "│ i64        ┆ i64  ┆ str        ┆ str        ┆   ┆ ---        ┆ str       ┆ ---       ┆ ---       │\n",
      "│            ┆      ┆            ┆            ┆   ┆ f64        ┆           ┆ f64       ┆ f64       │\n",
      "╞════════════╪══════╪════════════╪════════════╪═══╪════════════╪═══════════╪═══════════╪═══════════╡\n",
      "│ 26587      ┆ 1984 ┆ Alfa Romeo ┆ GT V6 2.5  ┆ … ┆ 0.0        ┆ NA        ┆ 0.0       ┆ 0.0       │\n",
      "│ 27705      ┆ 1984 ┆ Alfa Romeo ┆ GT V6 2.5  ┆ … ┆ 0.0        ┆ NA        ┆ 0.0       ┆ 0.0       │\n",
      "│ 26561      ┆ 1984 ┆ Alfa Romeo ┆ Spider     ┆ … ┆ 0.0        ┆ NA        ┆ 0.0       ┆ 0.0       │\n",
      "│            ┆      ┆            ┆ Veloce     ┆   ┆            ┆           ┆           ┆           │\n",
      "│            ┆      ┆            ┆ 2000       ┆   ┆            ┆           ┆           ┆           │\n",
      "│ 27681      ┆ 1984 ┆ Alfa Romeo ┆ Spider     ┆ … ┆ 0.0        ┆ NA        ┆ 0.0       ┆ 0.0       │\n",
      "│            ┆      ┆            ┆ Veloce     ┆   ┆            ┆           ┆           ┆           │\n",
      "│            ┆      ┆            ┆ 2000       ┆   ┆            ┆           ┆           ┆           │\n",
      "│ 27550      ┆ 1984 ┆ AM General ┆ DJ Po      ┆ … ┆ 0.0        ┆ NA        ┆ 0.0       ┆ 0.0       │\n",
      "│            ┆      ┆            ┆ Vehicle    ┆   ┆            ┆           ┆           ┆           │\n",
      "│            ┆      ┆            ┆ 2WD        ┆   ┆            ┆           ┆           ┆           │\n",
      "│ …          ┆ …    ┆ …          ┆ …          ┆ … ┆ …          ┆ …         ┆ …         ┆ …         │\n",
      "│ 37564      ┆ 2017 ┆ Volvo      ┆ XC60 FWD   ┆ … ┆ 0.0        ┆ NA        ┆ 0.0       ┆ 0.0       │\n",
      "│ 37547      ┆ 2017 ┆ Volvo      ┆ XC90 AWD   ┆ … ┆ 0.0        ┆ NA        ┆ 0.0       ┆ 0.0       │\n",
      "│ 37548      ┆ 2017 ┆ Volvo      ┆ XC90 AWD   ┆ … ┆ 0.0        ┆ NA        ┆ 0.0       ┆ 0.0       │\n",
      "│ 37703      ┆ 2017 ┆ Volvo      ┆ XC90 AWD   ┆ … ┆ 0.0        ┆ NA        ┆ 13.84     ┆ 13.3      │\n",
      "│            ┆      ┆            ┆ PHEV       ┆   ┆            ┆           ┆           ┆           │\n",
      "│ 37687      ┆ 2017 ┆ Volvo      ┆ XC90 FWD   ┆ … ┆ 0.0        ┆ NA        ┆ 0.0       ┆ 0.0       │\n",
      "└────────────┴──────┴────────────┴────────────┴───┴────────────┴───────────┴───────────┴───────────┘\n"
     ]
    }
   ],
   "source": [
    "import polars as pl\n",
    "\n",
    "df = pl.read_csv('./data/fuel/fuel.csv', infer_schema_length=100000)\n",
    "\n",
    "print(df)"
   ]
  },
  {
   "cell_type": "code",
   "execution_count": 2,
   "id": "08a30a2e-f6ae-4342-87b6-da7719521030",
   "metadata": {
    "tags": []
   },
   "outputs": [
    {
     "data": {
      "text/html": [
       "<div><style>\n",
       ".dataframe > thead > tr,\n",
       ".dataframe > tbody > tr {\n",
       "  text-align: right;\n",
       "  white-space: pre-wrap;\n",
       "}\n",
       "</style>\n",
       "<small>shape: (38_113, 81)</small><table border=\"1\" class=\"dataframe\"><thead><tr><th>vehicle_id</th><th>year</th><th>make</th><th>model</th><th>class</th><th>drive</th><th>transmission</th><th>transmission_type</th><th>engine_index</th><th>engine_descriptor</th><th>engine_cylinders</th><th>engine_displacement</th><th>turbocharger</th><th>supercharger</th><th>fuel_type</th><th>fuel_type_1</th><th>fuel_type_2</th><th>city_mpg_ft1</th><th>unrounded_city_mpg_ft1</th><th>city_mpg_ft2</th><th>unrounded_city_mpg_ft2</th><th>city_gasoline_consumption_cd</th><th>city_electricity_consumption</th><th>city_utility_factor</th><th>highway_mpg_ft1</th><th>unrounded_highway_mpg_ft1</th><th>highway_mpg_ft2</th><th>unrounded_highway_mpg_ft2</th><th>highway_gasoline_consumption_cd</th><th>highway_electricity_consumption</th><th>highway_utility_factor</th><th>unadjusted_city_mpg_ft1</th><th>unadjusted_highway_mpg_ft1</th><th>unadjusted_city_mpg_ft2</th><th>unadjusted_highway_mpg_ft2</th><th>combined_mpg_ft1</th><th>unrounded_combined_mpg_ft1</th><th>&hellip;</th><th>gas_guzzler_tax</th><th>save_or_spend_5_year</th><th>annual_consumption_in_barrels_ft1</th><th>annual_consumption_in_barrels_ft2</th><th>tailpipe_co2_ft1</th><th>tailpipe_co2_in_grams_mile_ft1</th><th>tailpipe_co2_ft2</th><th>tailpipe_co2_in_grams_mile_ft2</th><th>fuel_economy_score</th><th>ghg_score</th><th>ghg_score_alt_fuel</th><th>my_mpg_data</th><th>x2d_passenger_volume</th><th>x2d_luggage_volume</th><th>x4d_passenger_volume</th><th>x4d_luggage_volume</th><th>hatchback_passenger_volume</th><th>hatchback_luggage_volume</th><th>start_stop_technology</th><th>alternative_fuel_technology</th><th>electric_motor</th><th>manufacturer_code</th><th>gasoline_electricity_blended_cd</th><th>vehicle_charger</th><th>alternate_charger</th><th>hours_to_charge_120v</th><th>hours_to_charge_240v</th><th>hours_to_charge_ac_240v</th><th>composite_city_mpg</th><th>composite_highway_mpg</th><th>composite_combined_mpg</th><th>range_ft1</th><th>city_range_ft1</th><th>highway_range_ft1</th><th>range_ft2</th><th>city_range_ft2</th><th>highway_range_ft2</th></tr><tr><td>i64</td><td>i64</td><td>str</td><td>str</td><td>str</td><td>str</td><td>str</td><td>str</td><td>i64</td><td>str</td><td>str</td><td>str</td><td>str</td><td>str</td><td>str</td><td>str</td><td>str</td><td>i64</td><td>f64</td><td>i64</td><td>f64</td><td>f64</td><td>f64</td><td>f64</td><td>i64</td><td>f64</td><td>i64</td><td>f64</td><td>f64</td><td>f64</td><td>f64</td><td>f64</td><td>f64</td><td>f64</td><td>f64</td><td>i64</td><td>f64</td><td>&hellip;</td><td>str</td><td>i64</td><td>f64</td><td>f64</td><td>i64</td><td>f64</td><td>i64</td><td>f64</td><td>i64</td><td>i64</td><td>i64</td><td>str</td><td>i64</td><td>i64</td><td>i64</td><td>i64</td><td>i64</td><td>i64</td><td>str</td><td>str</td><td>str</td><td>str</td><td>bool</td><td>str</td><td>str</td><td>i64</td><td>f64</td><td>f64</td><td>i64</td><td>i64</td><td>i64</td><td>i64</td><td>f64</td><td>f64</td><td>str</td><td>f64</td><td>f64</td></tr></thead><tbody><tr><td>26587</td><td>1984</td><td>&quot;Alfa Romeo&quot;</td><td>&quot;GT V6 2.5&quot;</td><td>&quot;Minicompact Cars&quot;</td><td>&quot;NA&quot;</td><td>&quot;Manual 5-Speed&quot;</td><td>&quot;NA&quot;</td><td>9001</td><td>&quot;(FFS)&quot;</td><td>&quot;6&quot;</td><td>&quot;2.5&quot;</td><td>&quot;NA&quot;</td><td>&quot;NA&quot;</td><td>&quot;Regular&quot;</td><td>&quot;Regular Gasoline&quot;</td><td>&quot;NA&quot;</td><td>17</td><td>0.0</td><td>0</td><td>0.0</td><td>0.0</td><td>0.0</td><td>0.0</td><td>24</td><td>0.0</td><td>0</td><td>0.0</td><td>0.0</td><td>0.0</td><td>0.0</td><td>21.0</td><td>34.0</td><td>0.0</td><td>0.0</td><td>20</td><td>0.0</td><td>&hellip;</td><td>&quot;NA&quot;</td><td>-2000</td><td>16.4805</td><td>0.0</td><td>-1</td><td>444.35</td><td>-1</td><td>0.0</td><td>-1</td><td>-1</td><td>-1</td><td>&quot;N&quot;</td><td>74</td><td>7</td><td>0</td><td>0</td><td>0</td><td>0</td><td>&quot;NA&quot;</td><td>&quot;NA&quot;</td><td>&quot;NA&quot;</td><td>&quot;NA&quot;</td><td>false</td><td>&quot;NA&quot;</td><td>&quot;NA&quot;</td><td>0</td><td>0.0</td><td>0.0</td><td>0</td><td>0</td><td>0</td><td>0</td><td>0.0</td><td>0.0</td><td>&quot;NA&quot;</td><td>0.0</td><td>0.0</td></tr><tr><td>27705</td><td>1984</td><td>&quot;Alfa Romeo&quot;</td><td>&quot;GT V6 2.5&quot;</td><td>&quot;Minicompact Cars&quot;</td><td>&quot;NA&quot;</td><td>&quot;Manual 5-Speed&quot;</td><td>&quot;NA&quot;</td><td>9005</td><td>&quot;(FFS) CA model&quot;</td><td>&quot;6&quot;</td><td>&quot;2.5&quot;</td><td>&quot;NA&quot;</td><td>&quot;NA&quot;</td><td>&quot;Regular&quot;</td><td>&quot;Regular Gasoline&quot;</td><td>&quot;NA&quot;</td><td>17</td><td>0.0</td><td>0</td><td>0.0</td><td>0.0</td><td>0.0</td><td>0.0</td><td>24</td><td>0.0</td><td>0</td><td>0.0</td><td>0.0</td><td>0.0</td><td>0.0</td><td>21.0</td><td>34.0</td><td>0.0</td><td>0.0</td><td>20</td><td>0.0</td><td>&hellip;</td><td>&quot;NA&quot;</td><td>-2000</td><td>16.4805</td><td>0.0</td><td>-1</td><td>444.35</td><td>-1</td><td>0.0</td><td>-1</td><td>-1</td><td>-1</td><td>&quot;N&quot;</td><td>74</td><td>7</td><td>0</td><td>0</td><td>0</td><td>0</td><td>&quot;NA&quot;</td><td>&quot;NA&quot;</td><td>&quot;NA&quot;</td><td>&quot;NA&quot;</td><td>false</td><td>&quot;NA&quot;</td><td>&quot;NA&quot;</td><td>0</td><td>0.0</td><td>0.0</td><td>0</td><td>0</td><td>0</td><td>0</td><td>0.0</td><td>0.0</td><td>&quot;NA&quot;</td><td>0.0</td><td>0.0</td></tr><tr><td>26561</td><td>1984</td><td>&quot;Alfa Romeo&quot;</td><td>&quot;Spider Veloce 2000&quot;</td><td>&quot;Two Seaters&quot;</td><td>&quot;NA&quot;</td><td>&quot;Manual 5-Speed&quot;</td><td>&quot;NA&quot;</td><td>9002</td><td>&quot;(FFS)&quot;</td><td>&quot;4&quot;</td><td>&quot;2&quot;</td><td>&quot;NA&quot;</td><td>&quot;NA&quot;</td><td>&quot;Regular&quot;</td><td>&quot;Regular Gasoline&quot;</td><td>&quot;NA&quot;</td><td>18</td><td>0.0</td><td>0</td><td>0.0</td><td>0.0</td><td>0.0</td><td>0.0</td><td>25</td><td>0.0</td><td>0</td><td>0.0</td><td>0.0</td><td>0.0</td><td>0.0</td><td>23.0</td><td>35.0</td><td>0.0</td><td>0.0</td><td>21</td><td>0.0</td><td>&hellip;</td><td>&quot;NA&quot;</td><td>-1500</td><td>15.695714</td><td>0.0</td><td>-1</td><td>423.190476</td><td>-1</td><td>0.0</td><td>-1</td><td>-1</td><td>-1</td><td>&quot;N&quot;</td><td>0</td><td>0</td><td>0</td><td>0</td><td>0</td><td>0</td><td>&quot;NA&quot;</td><td>&quot;NA&quot;</td><td>&quot;NA&quot;</td><td>&quot;NA&quot;</td><td>false</td><td>&quot;NA&quot;</td><td>&quot;NA&quot;</td><td>0</td><td>0.0</td><td>0.0</td><td>0</td><td>0</td><td>0</td><td>0</td><td>0.0</td><td>0.0</td><td>&quot;NA&quot;</td><td>0.0</td><td>0.0</td></tr><tr><td>27681</td><td>1984</td><td>&quot;Alfa Romeo&quot;</td><td>&quot;Spider Veloce 2000&quot;</td><td>&quot;Two Seaters&quot;</td><td>&quot;NA&quot;</td><td>&quot;Manual 5-Speed&quot;</td><td>&quot;NA&quot;</td><td>9006</td><td>&quot;(FFS) CA model&quot;</td><td>&quot;4&quot;</td><td>&quot;2&quot;</td><td>&quot;NA&quot;</td><td>&quot;NA&quot;</td><td>&quot;Regular&quot;</td><td>&quot;Regular Gasoline&quot;</td><td>&quot;NA&quot;</td><td>18</td><td>0.0</td><td>0</td><td>0.0</td><td>0.0</td><td>0.0</td><td>0.0</td><td>25</td><td>0.0</td><td>0</td><td>0.0</td><td>0.0</td><td>0.0</td><td>0.0</td><td>23.0</td><td>35.0</td><td>0.0</td><td>0.0</td><td>21</td><td>0.0</td><td>&hellip;</td><td>&quot;NA&quot;</td><td>-1500</td><td>15.695714</td><td>0.0</td><td>-1</td><td>423.190476</td><td>-1</td><td>0.0</td><td>-1</td><td>-1</td><td>-1</td><td>&quot;N&quot;</td><td>0</td><td>0</td><td>0</td><td>0</td><td>0</td><td>0</td><td>&quot;NA&quot;</td><td>&quot;NA&quot;</td><td>&quot;NA&quot;</td><td>&quot;NA&quot;</td><td>false</td><td>&quot;NA&quot;</td><td>&quot;NA&quot;</td><td>0</td><td>0.0</td><td>0.0</td><td>0</td><td>0</td><td>0</td><td>0</td><td>0.0</td><td>0.0</td><td>&quot;NA&quot;</td><td>0.0</td><td>0.0</td></tr><tr><td>27550</td><td>1984</td><td>&quot;AM General&quot;</td><td>&quot;DJ Po Vehicle 2WD&quot;</td><td>&quot;Special Purpose Vehicle 2WD&quot;</td><td>&quot;2-Wheel Drive&quot;</td><td>&quot;Automatic 3-Speed&quot;</td><td>&quot;NA&quot;</td><td>1830</td><td>&quot;(FFS)&quot;</td><td>&quot;4&quot;</td><td>&quot;2.5&quot;</td><td>&quot;NA&quot;</td><td>&quot;NA&quot;</td><td>&quot;Regular&quot;</td><td>&quot;Regular Gasoline&quot;</td><td>&quot;NA&quot;</td><td>18</td><td>0.0</td><td>0</td><td>0.0</td><td>0.0</td><td>0.0</td><td>0.0</td><td>17</td><td>0.0</td><td>0</td><td>0.0</td><td>0.0</td><td>0.0</td><td>0.0</td><td>22.0</td><td>24.0</td><td>0.0</td><td>0.0</td><td>17</td><td>0.0</td><td>&hellip;</td><td>&quot;NA&quot;</td><td>-3500</td><td>19.388824</td><td>0.0</td><td>-1</td><td>522.764706</td><td>-1</td><td>0.0</td><td>-1</td><td>-1</td><td>-1</td><td>&quot;N&quot;</td><td>0</td><td>0</td><td>0</td><td>0</td><td>0</td><td>0</td><td>&quot;NA&quot;</td><td>&quot;NA&quot;</td><td>&quot;NA&quot;</td><td>&quot;NA&quot;</td><td>false</td><td>&quot;NA&quot;</td><td>&quot;NA&quot;</td><td>0</td><td>0.0</td><td>0.0</td><td>0</td><td>0</td><td>0</td><td>0</td><td>0.0</td><td>0.0</td><td>&quot;NA&quot;</td><td>0.0</td><td>0.0</td></tr><tr><td>&hellip;</td><td>&hellip;</td><td>&hellip;</td><td>&hellip;</td><td>&hellip;</td><td>&hellip;</td><td>&hellip;</td><td>&hellip;</td><td>&hellip;</td><td>&hellip;</td><td>&hellip;</td><td>&hellip;</td><td>&hellip;</td><td>&hellip;</td><td>&hellip;</td><td>&hellip;</td><td>&hellip;</td><td>&hellip;</td><td>&hellip;</td><td>&hellip;</td><td>&hellip;</td><td>&hellip;</td><td>&hellip;</td><td>&hellip;</td><td>&hellip;</td><td>&hellip;</td><td>&hellip;</td><td>&hellip;</td><td>&hellip;</td><td>&hellip;</td><td>&hellip;</td><td>&hellip;</td><td>&hellip;</td><td>&hellip;</td><td>&hellip;</td><td>&hellip;</td><td>&hellip;</td><td>&hellip;</td><td>&hellip;</td><td>&hellip;</td><td>&hellip;</td><td>&hellip;</td><td>&hellip;</td><td>&hellip;</td><td>&hellip;</td><td>&hellip;</td><td>&hellip;</td><td>&hellip;</td><td>&hellip;</td><td>&hellip;</td><td>&hellip;</td><td>&hellip;</td><td>&hellip;</td><td>&hellip;</td><td>&hellip;</td><td>&hellip;</td><td>&hellip;</td><td>&hellip;</td><td>&hellip;</td><td>&hellip;</td><td>&hellip;</td><td>&hellip;</td><td>&hellip;</td><td>&hellip;</td><td>&hellip;</td><td>&hellip;</td><td>&hellip;</td><td>&hellip;</td><td>&hellip;</td><td>&hellip;</td><td>&hellip;</td><td>&hellip;</td><td>&hellip;</td><td>&hellip;</td><td>&hellip;</td></tr><tr><td>37564</td><td>2017</td><td>&quot;Volvo&quot;</td><td>&quot;XC60 FWD&quot;</td><td>&quot;Small Sport Utility Vehicle 2W…</td><td>&quot;Front-Wheel Drive&quot;</td><td>&quot;Automatic (S8)&quot;</td><td>&quot;NA&quot;</td><td>90</td><td>&quot;SIDI&quot;</td><td>&quot;4&quot;</td><td>&quot;2&quot;</td><td>&quot;TRUE&quot;</td><td>&quot;NA&quot;</td><td>&quot;Regular&quot;</td><td>&quot;Regular Gasoline&quot;</td><td>&quot;NA&quot;</td><td>23</td><td>22.6786</td><td>0</td><td>0.0</td><td>0.0</td><td>0.0</td><td>0.0</td><td>30</td><td>30.3494</td><td>0</td><td>0.0</td><td>0.0</td><td>0.0</td><td>0.0</td><td>29.0</td><td>43.5</td><td>0.0</td><td>0.0</td><td>26</td><td>25.589</td><td>&hellip;</td><td>&quot;NA&quot;</td><td>0</td><td>12.677308</td><td>0.0</td><td>348</td><td>348.0</td><td>-1</td><td>0.0</td><td>6</td><td>6</td><td>-1</td><td>&quot;N&quot;</td><td>0</td><td>0</td><td>99</td><td>34</td><td>0</td><td>0</td><td>&quot;NA&quot;</td><td>&quot;NA&quot;</td><td>&quot;NA&quot;</td><td>&quot;NA&quot;</td><td>false</td><td>&quot;NA&quot;</td><td>&quot;NA&quot;</td><td>0</td><td>0.0</td><td>0.0</td><td>0</td><td>0</td><td>0</td><td>0</td><td>0.0</td><td>0.0</td><td>&quot;NA&quot;</td><td>0.0</td><td>0.0</td></tr><tr><td>37547</td><td>2017</td><td>&quot;Volvo&quot;</td><td>&quot;XC90 AWD&quot;</td><td>&quot;Standard Sport Utility Vehicle…</td><td>&quot;All-Wheel Drive&quot;</td><td>&quot;Automatic (S8)&quot;</td><td>&quot;NA&quot;</td><td>52</td><td>&quot;SIDI&quot;</td><td>&quot;4&quot;</td><td>&quot;2&quot;</td><td>&quot;TRUE&quot;</td><td>&quot;NA&quot;</td><td>&quot;Premium&quot;</td><td>&quot;Premium Gasoline&quot;</td><td>&quot;NA&quot;</td><td>20</td><td>20.4122</td><td>0</td><td>0.0</td><td>0.0</td><td>0.0</td><td>0.0</td><td>25</td><td>24.5622</td><td>0</td><td>0.0</td><td>0.0</td><td>0.0</td><td>0.0</td><td>25.8739</td><td>36.3864</td><td>0.0</td><td>0.0</td><td>22</td><td>22.0919</td><td>&hellip;</td><td>&quot;NA&quot;</td><td>-2750</td><td>14.982273</td><td>0.0</td><td>399</td><td>399.0</td><td>-1</td><td>0.0</td><td>5</td><td>5</td><td>-1</td><td>&quot;N&quot;</td><td>0</td><td>0</td><td>0</td><td>0</td><td>0</td><td>0</td><td>&quot;NA&quot;</td><td>&quot;NA&quot;</td><td>&quot;NA&quot;</td><td>&quot;NA&quot;</td><td>false</td><td>&quot;NA&quot;</td><td>&quot;NA&quot;</td><td>0</td><td>0.0</td><td>0.0</td><td>0</td><td>0</td><td>0</td><td>0</td><td>0.0</td><td>0.0</td><td>&quot;NA&quot;</td><td>0.0</td><td>0.0</td></tr><tr><td>37548</td><td>2017</td><td>&quot;Volvo&quot;</td><td>&quot;XC90 AWD&quot;</td><td>&quot;Standard Sport Utility Vehicle…</td><td>&quot;All-Wheel Drive&quot;</td><td>&quot;Automatic (S8)&quot;</td><td>&quot;NA&quot;</td><td>53</td><td>&quot;SIDI&quot;</td><td>&quot;4&quot;</td><td>&quot;2&quot;</td><td>&quot;TRUE&quot;</td><td>&quot;NA&quot;</td><td>&quot;Premium&quot;</td><td>&quot;Premium Gasoline&quot;</td><td>&quot;NA&quot;</td><td>22</td><td>21.7</td><td>0</td><td>0.0</td><td>0.0</td><td>0.0</td><td>0.0</td><td>25</td><td>24.7</td><td>0</td><td>0.0</td><td>0.0</td><td>0.0</td><td>0.0</td><td>27.5</td><td>39.0</td><td>0.0</td><td>0.0</td><td>23</td><td>22.9546</td><td>&hellip;</td><td>&quot;NA&quot;</td><td>-2500</td><td>14.33087</td><td>0.0</td><td>384</td><td>384.0</td><td>-1</td><td>0.0</td><td>5</td><td>5</td><td>-1</td><td>&quot;N&quot;</td><td>0</td><td>0</td><td>0</td><td>0</td><td>0</td><td>0</td><td>&quot;NA&quot;</td><td>&quot;NA&quot;</td><td>&quot;NA&quot;</td><td>&quot;NA&quot;</td><td>false</td><td>&quot;NA&quot;</td><td>&quot;NA&quot;</td><td>0</td><td>0.0</td><td>0.0</td><td>0</td><td>0</td><td>0</td><td>0</td><td>0.0</td><td>0.0</td><td>&quot;NA&quot;</td><td>0.0</td><td>0.0</td></tr><tr><td>37703</td><td>2017</td><td>&quot;Volvo&quot;</td><td>&quot;XC90 AWD PHEV&quot;</td><td>&quot;Standard Sport Utility Vehicle…</td><td>&quot;All-Wheel Drive&quot;</td><td>&quot;Automatic (S8)&quot;</td><td>&quot;NA&quot;</td><td>54</td><td>&quot;SIDI; PHEV&quot;</td><td>&quot;4&quot;</td><td>&quot;2&quot;</td><td>&quot;TRUE&quot;</td><td>&quot;NA&quot;</td><td>&quot;Premium and Electricity&quot;</td><td>&quot;Premium Gasoline&quot;</td><td>&quot;NA&quot;</td><td>24</td><td>23.7174</td><td>54</td><td>58.5962</td><td>0.0541</td><td>60.0</td><td>0.351</td><td>27</td><td>26.953</td><td>56</td><td>57.33</td><td>0.0442</td><td>60.0</td><td>0.34</td><td>30.4711</td><td>38.1739</td><td>82.2</td><td>82.0</td><td>25</td><td>25.0718</td><td>&hellip;</td><td>&quot;NA&quot;</td><td>-750</td><td>8.65255</td><td>6.103889</td><td>238</td><td>238.0</td><td>-1</td><td>0.0</td><td>7</td><td>8</td><td>-1</td><td>&quot;N&quot;</td><td>0</td><td>0</td><td>0</td><td>0</td><td>0</td><td>0</td><td>&quot;NA&quot;</td><td>&quot;Plug-in Hybrid&quot;</td><td>&quot;NA&quot;</td><td>&quot;NA&quot;</td><td>true</td><td>&quot;NA&quot;</td><td>&quot;NA&quot;</td><td>0</td><td>3.0</td><td>0.0</td><td>29</td><td>32</td><td>30</td><td>0</td><td>0.0</td><td>0.0</td><td>&quot;NA&quot;</td><td>13.84</td><td>13.3</td></tr><tr><td>37687</td><td>2017</td><td>&quot;Volvo&quot;</td><td>&quot;XC90 FWD&quot;</td><td>&quot;Standard Sport Utility Vehicle…</td><td>&quot;Front-Wheel Drive&quot;</td><td>&quot;Automatic (S8)&quot;</td><td>&quot;NA&quot;</td><td>50</td><td>&quot;SIDI&quot;</td><td>&quot;4&quot;</td><td>&quot;2&quot;</td><td>&quot;TRUE&quot;</td><td>&quot;NA&quot;</td><td>&quot;Premium&quot;</td><td>&quot;Premium Gasoline&quot;</td><td>&quot;NA&quot;</td><td>22</td><td>22.1</td><td>0</td><td>0.0</td><td>0.0</td><td>0.0</td><td>0.0</td><td>26</td><td>25.8</td><td>0</td><td>0.0</td><td>0.0</td><td>0.0</td><td>0.0</td><td>28.1</td><td>41.7</td><td>0.0</td><td>0.0</td><td>24</td><td>23.6246</td><td>&hellip;</td><td>&quot;NA&quot;</td><td>-2000</td><td>13.73375</td><td>0.0</td><td>373</td><td>373.0</td><td>-1</td><td>0.0</td><td>5</td><td>5</td><td>-1</td><td>&quot;N&quot;</td><td>0</td><td>0</td><td>0</td><td>0</td><td>0</td><td>0</td><td>&quot;NA&quot;</td><td>&quot;NA&quot;</td><td>&quot;NA&quot;</td><td>&quot;NA&quot;</td><td>false</td><td>&quot;NA&quot;</td><td>&quot;NA&quot;</td><td>0</td><td>0.0</td><td>0.0</td><td>0</td><td>0</td><td>0</td><td>0</td><td>0.0</td><td>0.0</td><td>&quot;NA&quot;</td><td>0.0</td><td>0.0</td></tr></tbody></table></div>"
      ],
      "text/plain": [
       "shape: (38_113, 81)\n",
       "┌────────────┬──────┬────────────┬────────────┬───┬────────────┬───────────┬───────────┬───────────┐\n",
       "│ vehicle_id ┆ year ┆ make       ┆ model      ┆ … ┆ highway_ra ┆ range_ft2 ┆ city_rang ┆ highway_r │\n",
       "│ ---        ┆ ---  ┆ ---        ┆ ---        ┆   ┆ nge_ft1    ┆ ---       ┆ e_ft2     ┆ ange_ft2  │\n",
       "│ i64        ┆ i64  ┆ str        ┆ str        ┆   ┆ ---        ┆ str       ┆ ---       ┆ ---       │\n",
       "│            ┆      ┆            ┆            ┆   ┆ f64        ┆           ┆ f64       ┆ f64       │\n",
       "╞════════════╪══════╪════════════╪════════════╪═══╪════════════╪═══════════╪═══════════╪═══════════╡\n",
       "│ 26587      ┆ 1984 ┆ Alfa Romeo ┆ GT V6 2.5  ┆ … ┆ 0.0        ┆ NA        ┆ 0.0       ┆ 0.0       │\n",
       "│ 27705      ┆ 1984 ┆ Alfa Romeo ┆ GT V6 2.5  ┆ … ┆ 0.0        ┆ NA        ┆ 0.0       ┆ 0.0       │\n",
       "│ 26561      ┆ 1984 ┆ Alfa Romeo ┆ Spider     ┆ … ┆ 0.0        ┆ NA        ┆ 0.0       ┆ 0.0       │\n",
       "│            ┆      ┆            ┆ Veloce     ┆   ┆            ┆           ┆           ┆           │\n",
       "│            ┆      ┆            ┆ 2000       ┆   ┆            ┆           ┆           ┆           │\n",
       "│ 27681      ┆ 1984 ┆ Alfa Romeo ┆ Spider     ┆ … ┆ 0.0        ┆ NA        ┆ 0.0       ┆ 0.0       │\n",
       "│            ┆      ┆            ┆ Veloce     ┆   ┆            ┆           ┆           ┆           │\n",
       "│            ┆      ┆            ┆ 2000       ┆   ┆            ┆           ┆           ┆           │\n",
       "│ 27550      ┆ 1984 ┆ AM General ┆ DJ Po      ┆ … ┆ 0.0        ┆ NA        ┆ 0.0       ┆ 0.0       │\n",
       "│            ┆      ┆            ┆ Vehicle    ┆   ┆            ┆           ┆           ┆           │\n",
       "│            ┆      ┆            ┆ 2WD        ┆   ┆            ┆           ┆           ┆           │\n",
       "│ …          ┆ …    ┆ …          ┆ …          ┆ … ┆ …          ┆ …         ┆ …         ┆ …         │\n",
       "│ 37564      ┆ 2017 ┆ Volvo      ┆ XC60 FWD   ┆ … ┆ 0.0        ┆ NA        ┆ 0.0       ┆ 0.0       │\n",
       "│ 37547      ┆ 2017 ┆ Volvo      ┆ XC90 AWD   ┆ … ┆ 0.0        ┆ NA        ┆ 0.0       ┆ 0.0       │\n",
       "│ 37548      ┆ 2017 ┆ Volvo      ┆ XC90 AWD   ┆ … ┆ 0.0        ┆ NA        ┆ 0.0       ┆ 0.0       │\n",
       "│ 37703      ┆ 2017 ┆ Volvo      ┆ XC90 AWD   ┆ … ┆ 0.0        ┆ NA        ┆ 13.84     ┆ 13.3      │\n",
       "│            ┆      ┆            ┆ PHEV       ┆   ┆            ┆           ┆           ┆           │\n",
       "│ 37687      ┆ 2017 ┆ Volvo      ┆ XC90 FWD   ┆ … ┆ 0.0        ┆ NA        ┆ 0.0       ┆ 0.0       │\n",
       "└────────────┴──────┴────────────┴────────────┴───┴────────────┴───────────┴───────────┴───────────┘"
      ]
     },
     "metadata": {},
     "output_type": "display_data"
    }
   ],
   "source": [
    "display(df)"
   ]
  },
  {
   "cell_type": "markdown",
   "id": "b0ef2e41-caa5-4f0e-8d86-777755d06a65",
   "metadata": {},
   "source": [
    "## Inciso b"
   ]
  },
  {
   "cell_type": "code",
   "execution_count": 3,
   "id": "43ed77de-bc2d-4071-ad54-b9d897988e08",
   "metadata": {
    "tags": []
   },
   "outputs": [
    {
     "data": {
      "text/html": [
       "<div><style>\n",
       ".dataframe > thead > tr,\n",
       ".dataframe > tbody > tr {\n",
       "  text-align: right;\n",
       "  white-space: pre-wrap;\n",
       "}\n",
       "</style>\n",
       "<small>shape: (38_113, 6)</small><table border=\"1\" class=\"dataframe\"><thead><tr><th>vehicle_id</th><th>year</th><th>make</th><th>model</th><th>class</th><th>transmission</th></tr><tr><td>i64</td><td>i64</td><td>str</td><td>str</td><td>str</td><td>str</td></tr></thead><tbody><tr><td>26587</td><td>1984</td><td>&quot;Alfa Romeo&quot;</td><td>&quot;GT V6 2.5&quot;</td><td>&quot;Minicompact Cars&quot;</td><td>&quot;Manual 5-Speed&quot;</td></tr><tr><td>27705</td><td>1984</td><td>&quot;Alfa Romeo&quot;</td><td>&quot;GT V6 2.5&quot;</td><td>&quot;Minicompact Cars&quot;</td><td>&quot;Manual 5-Speed&quot;</td></tr><tr><td>26561</td><td>1984</td><td>&quot;Alfa Romeo&quot;</td><td>&quot;Spider Veloce 2000&quot;</td><td>&quot;Two Seaters&quot;</td><td>&quot;Manual 5-Speed&quot;</td></tr><tr><td>27681</td><td>1984</td><td>&quot;Alfa Romeo&quot;</td><td>&quot;Spider Veloce 2000&quot;</td><td>&quot;Two Seaters&quot;</td><td>&quot;Manual 5-Speed&quot;</td></tr><tr><td>27550</td><td>1984</td><td>&quot;AM General&quot;</td><td>&quot;DJ Po Vehicle 2WD&quot;</td><td>&quot;Special Purpose Vehicle 2WD&quot;</td><td>&quot;Automatic 3-Speed&quot;</td></tr><tr><td>&hellip;</td><td>&hellip;</td><td>&hellip;</td><td>&hellip;</td><td>&hellip;</td><td>&hellip;</td></tr><tr><td>37564</td><td>2017</td><td>&quot;Volvo&quot;</td><td>&quot;XC60 FWD&quot;</td><td>&quot;Small Sport Utility Vehicle 2W…</td><td>&quot;Automatic (S8)&quot;</td></tr><tr><td>37547</td><td>2017</td><td>&quot;Volvo&quot;</td><td>&quot;XC90 AWD&quot;</td><td>&quot;Standard Sport Utility Vehicle…</td><td>&quot;Automatic (S8)&quot;</td></tr><tr><td>37548</td><td>2017</td><td>&quot;Volvo&quot;</td><td>&quot;XC90 AWD&quot;</td><td>&quot;Standard Sport Utility Vehicle…</td><td>&quot;Automatic (S8)&quot;</td></tr><tr><td>37703</td><td>2017</td><td>&quot;Volvo&quot;</td><td>&quot;XC90 AWD PHEV&quot;</td><td>&quot;Standard Sport Utility Vehicle…</td><td>&quot;Automatic (S8)&quot;</td></tr><tr><td>37687</td><td>2017</td><td>&quot;Volvo&quot;</td><td>&quot;XC90 FWD&quot;</td><td>&quot;Standard Sport Utility Vehicle…</td><td>&quot;Automatic (S8)&quot;</td></tr></tbody></table></div>"
      ],
      "text/plain": [
       "shape: (38_113, 6)\n",
       "┌────────────┬──────┬────────────┬────────────────────┬────────────────────────┬───────────────────┐\n",
       "│ vehicle_id ┆ year ┆ make       ┆ model              ┆ class                  ┆ transmission      │\n",
       "│ ---        ┆ ---  ┆ ---        ┆ ---                ┆ ---                    ┆ ---               │\n",
       "│ i64        ┆ i64  ┆ str        ┆ str                ┆ str                    ┆ str               │\n",
       "╞════════════╪══════╪════════════╪════════════════════╪════════════════════════╪═══════════════════╡\n",
       "│ 26587      ┆ 1984 ┆ Alfa Romeo ┆ GT V6 2.5          ┆ Minicompact Cars       ┆ Manual 5-Speed    │\n",
       "│ 27705      ┆ 1984 ┆ Alfa Romeo ┆ GT V6 2.5          ┆ Minicompact Cars       ┆ Manual 5-Speed    │\n",
       "│ 26561      ┆ 1984 ┆ Alfa Romeo ┆ Spider Veloce 2000 ┆ Two Seaters            ┆ Manual 5-Speed    │\n",
       "│ 27681      ┆ 1984 ┆ Alfa Romeo ┆ Spider Veloce 2000 ┆ Two Seaters            ┆ Manual 5-Speed    │\n",
       "│ 27550      ┆ 1984 ┆ AM General ┆ DJ Po Vehicle 2WD  ┆ Special Purpose        ┆ Automatic 3-Speed │\n",
       "│            ┆      ┆            ┆                    ┆ Vehicle 2WD            ┆                   │\n",
       "│ …          ┆ …    ┆ …          ┆ …                  ┆ …                      ┆ …                 │\n",
       "│ 37564      ┆ 2017 ┆ Volvo      ┆ XC60 FWD           ┆ Small Sport Utility    ┆ Automatic (S8)    │\n",
       "│            ┆      ┆            ┆                    ┆ Vehicle 2W…            ┆                   │\n",
       "│ 37547      ┆ 2017 ┆ Volvo      ┆ XC90 AWD           ┆ Standard Sport Utility ┆ Automatic (S8)    │\n",
       "│            ┆      ┆            ┆                    ┆ Vehicle…               ┆                   │\n",
       "│ 37548      ┆ 2017 ┆ Volvo      ┆ XC90 AWD           ┆ Standard Sport Utility ┆ Automatic (S8)    │\n",
       "│            ┆      ┆            ┆                    ┆ Vehicle…               ┆                   │\n",
       "│ 37703      ┆ 2017 ┆ Volvo      ┆ XC90 AWD PHEV      ┆ Standard Sport Utility ┆ Automatic (S8)    │\n",
       "│            ┆      ┆            ┆                    ┆ Vehicle…               ┆                   │\n",
       "│ 37687      ┆ 2017 ┆ Volvo      ┆ XC90 FWD           ┆ Standard Sport Utility ┆ Automatic (S8)    │\n",
       "│            ┆      ┆            ┆                    ┆ Vehicle…               ┆                   │\n",
       "└────────────┴──────┴────────────┴────────────────────┴────────────────────────┴───────────────────┘"
      ]
     },
     "metadata": {},
     "output_type": "display_data"
    }
   ],
   "source": [
    "df1 = pl.read_csv('./data/fuel/fuel.csv', infer_schema_length=100000, columns=['vehicle_id', 'year', 'make', 'model', 'class', 'transmission'])\n",
    "\n",
    "display(df1)"
   ]
  },
  {
   "cell_type": "markdown",
   "id": "4554e38d-f6b4-44e5-bbce-20b7ea5e51cd",
   "metadata": {},
   "source": [
    "### Inciso c"
   ]
  },
  {
   "cell_type": "code",
   "execution_count": 4,
   "id": "aedd1288-2081-46ad-b029-8555b8f94a01",
   "metadata": {
    "tags": []
   },
   "outputs": [
    {
     "data": {
      "text/html": [
       "<div><style>\n",
       ".dataframe > thead > tr,\n",
       ".dataframe > tbody > tr {\n",
       "  text-align: right;\n",
       "  white-space: pre-wrap;\n",
       "}\n",
       "</style>\n",
       "<small>shape: (4_872, 6)</small><table border=\"1\" class=\"dataframe\"><thead><tr><th>vehicle_id</th><th>year</th><th>make</th><th>model</th><th>class</th><th>transmission</th></tr><tr><td>i64</td><td>i64</td><td>str</td><td>str</td><td>str</td><td>str</td></tr></thead><tbody><tr><td>26599</td><td>1984</td><td>&quot;Aston Martin&quot;</td><td>&quot;Lagonda&quot;</td><td>&quot;Subcompact Cars&quot;</td><td>&quot;Automatic 3-Speed&quot;</td></tr><tr><td>27716</td><td>1984</td><td>&quot;Aston Martin&quot;</td><td>&quot;Lagonda&quot;</td><td>&quot;Subcompact Cars&quot;</td><td>&quot;Automatic 3-Speed&quot;</td></tr><tr><td>26600</td><td>1984</td><td>&quot;Aston Martin&quot;</td><td>&quot;Saloon/Vantage/Volante&quot;</td><td>&quot;Subcompact Cars&quot;</td><td>&quot;Automatic 3-Speed&quot;</td></tr><tr><td>27717</td><td>1984</td><td>&quot;Aston Martin&quot;</td><td>&quot;Saloon/Vantage/Volante&quot;</td><td>&quot;Subcompact Cars&quot;</td><td>&quot;Automatic 3-Speed&quot;</td></tr><tr><td>26601</td><td>1984</td><td>&quot;Aston Martin&quot;</td><td>&quot;Saloon/Vantage/Volante&quot;</td><td>&quot;Subcompact Cars&quot;</td><td>&quot;Manual 5-Speed&quot;</td></tr><tr><td>&hellip;</td><td>&hellip;</td><td>&hellip;</td><td>&hellip;</td><td>&hellip;</td><td>&hellip;</td></tr><tr><td>38193</td><td>2017</td><td>&quot;Roush Performance&quot;</td><td>&quot;Stage 3 Mustang&quot;</td><td>&quot;Subcompact Cars&quot;</td><td>&quot;Manual 6-Speed&quot;</td></tr><tr><td>37885</td><td>2017</td><td>&quot;Toyota&quot;</td><td>&quot;Yaris iA&quot;</td><td>&quot;Subcompact Cars&quot;</td><td>&quot;Automatic (S6)&quot;</td></tr><tr><td>37884</td><td>2017</td><td>&quot;Toyota&quot;</td><td>&quot;Yaris iA&quot;</td><td>&quot;Subcompact Cars&quot;</td><td>&quot;Manual 6-Speed&quot;</td></tr><tr><td>38234</td><td>2017</td><td>&quot;Volkswagen&quot;</td><td>&quot;Beetle Convertible&quot;</td><td>&quot;Subcompact Cars&quot;</td><td>&quot;Automatic (S6)&quot;</td></tr><tr><td>38235</td><td>2017</td><td>&quot;Volkswagen&quot;</td><td>&quot;Beetle Dune Convertible&quot;</td><td>&quot;Subcompact Cars&quot;</td><td>&quot;Automatic (S6)&quot;</td></tr></tbody></table></div>"
      ],
      "text/plain": [
       "shape: (4_872, 6)\n",
       "┌────────────┬──────┬───────────────────┬────────────────────┬─────────────────┬───────────────────┐\n",
       "│ vehicle_id ┆ year ┆ make              ┆ model              ┆ class           ┆ transmission      │\n",
       "│ ---        ┆ ---  ┆ ---               ┆ ---                ┆ ---             ┆ ---               │\n",
       "│ i64        ┆ i64  ┆ str               ┆ str                ┆ str             ┆ str               │\n",
       "╞════════════╪══════╪═══════════════════╪════════════════════╪═════════════════╪═══════════════════╡\n",
       "│ 26599      ┆ 1984 ┆ Aston Martin      ┆ Lagonda            ┆ Subcompact Cars ┆ Automatic 3-Speed │\n",
       "│ 27716      ┆ 1984 ┆ Aston Martin      ┆ Lagonda            ┆ Subcompact Cars ┆ Automatic 3-Speed │\n",
       "│ 26600      ┆ 1984 ┆ Aston Martin      ┆ Saloon/Vantage/Vol ┆ Subcompact Cars ┆ Automatic 3-Speed │\n",
       "│            ┆      ┆                   ┆ ante               ┆                 ┆                   │\n",
       "│ 27717      ┆ 1984 ┆ Aston Martin      ┆ Saloon/Vantage/Vol ┆ Subcompact Cars ┆ Automatic 3-Speed │\n",
       "│            ┆      ┆                   ┆ ante               ┆                 ┆                   │\n",
       "│ 26601      ┆ 1984 ┆ Aston Martin      ┆ Saloon/Vantage/Vol ┆ Subcompact Cars ┆ Manual 5-Speed    │\n",
       "│            ┆      ┆                   ┆ ante               ┆                 ┆                   │\n",
       "│ …          ┆ …    ┆ …                 ┆ …                  ┆ …               ┆ …                 │\n",
       "│ 38193      ┆ 2017 ┆ Roush Performance ┆ Stage 3 Mustang    ┆ Subcompact Cars ┆ Manual 6-Speed    │\n",
       "│ 37885      ┆ 2017 ┆ Toyota            ┆ Yaris iA           ┆ Subcompact Cars ┆ Automatic (S6)    │\n",
       "│ 37884      ┆ 2017 ┆ Toyota            ┆ Yaris iA           ┆ Subcompact Cars ┆ Manual 6-Speed    │\n",
       "│ 38234      ┆ 2017 ┆ Volkswagen        ┆ Beetle Convertible ┆ Subcompact Cars ┆ Automatic (S6)    │\n",
       "│ 38235      ┆ 2017 ┆ Volkswagen        ┆ Beetle Dune        ┆ Subcompact Cars ┆ Automatic (S6)    │\n",
       "│            ┆      ┆                   ┆ Convertible        ┆                 ┆                   │\n",
       "└────────────┴──────┴───────────────────┴────────────────────┴─────────────────┴───────────────────┘"
      ]
     },
     "metadata": {},
     "output_type": "display_data"
    }
   ],
   "source": [
    "from polars import col\n",
    "\n",
    "subcompactos = df1.filter(col('class') == 'Subcompact Cars')\n",
    "\n",
    "display(subcompactos)"
   ]
  },
  {
   "cell_type": "markdown",
   "id": "7c17fbf5-cbb5-48b2-8b1f-0cce63b7b527",
   "metadata": {},
   "source": [
    "### Inciso d"
   ]
  },
  {
   "cell_type": "code",
   "execution_count": 5,
   "id": "fc1123f1-e866-4b6c-afc6-dd9c40383231",
   "metadata": {
    "tags": []
   },
   "outputs": [],
   "source": [
    "subcompactos.write_csv('./data/salida/subcompactos.csv', separator='|')"
   ]
  },
  {
   "cell_type": "markdown",
   "id": "d55d1f65-edd1-4f73-b81a-b52bdbbc6fe4",
   "metadata": {},
   "source": [
    "## Ejercicio 2"
   ]
  },
  {
   "cell_type": "markdown",
   "id": "dbe94266-caf2-448e-a7ae-6868a27b768e",
   "metadata": {},
   "source": [
    "### Inciso a"
   ]
  },
  {
   "cell_type": "code",
   "execution_count": 6,
   "id": "558b2fcd-1300-4773-97f3-14bafcfd8eee",
   "metadata": {
    "tags": []
   },
   "outputs": [
    {
     "data": {
      "text/html": [
       "<div><style>\n",
       ".dataframe > thead > tr,\n",
       ".dataframe > tbody > tr {\n",
       "  text-align: right;\n",
       "  white-space: pre-wrap;\n",
       "}\n",
       "</style>\n",
       "<small>shape: (5_819_079, 31)</small><table border=\"1\" class=\"dataframe\"><thead><tr><th>YEAR</th><th>MONTH</th><th>DAY</th><th>DAY_OF_WEEK</th><th>AIRLINE</th><th>FLIGHT_NUMBER</th><th>TAIL_NUMBER</th><th>ORIGIN_AIRPORT</th><th>DESTINATION_AIRPORT</th><th>SCHEDULED_DEPARTURE</th><th>DEPARTURE_TIME</th><th>DEPARTURE_DELAY</th><th>TAXI_OUT</th><th>WHEELS_OFF</th><th>SCHEDULED_TIME</th><th>ELAPSED_TIME</th><th>AIR_TIME</th><th>DISTANCE</th><th>WHEELS_ON</th><th>TAXI_IN</th><th>SCHEDULED_ARRIVAL</th><th>ARRIVAL_TIME</th><th>ARRIVAL_DELAY</th><th>DIVERTED</th><th>CANCELLED</th><th>CANCELLATION_REASON</th><th>AIR_SYSTEM_DELAY</th><th>SECURITY_DELAY</th><th>AIRLINE_DELAY</th><th>LATE_AIRCRAFT_DELAY</th><th>WEATHER_DELAY</th></tr><tr><td>i32</td><td>i32</td><td>i32</td><td>i32</td><td>str</td><td>i32</td><td>str</td><td>str</td><td>str</td><td>i32</td><td>i32</td><td>i32</td><td>i32</td><td>i32</td><td>i32</td><td>i32</td><td>i32</td><td>i32</td><td>i32</td><td>i32</td><td>i32</td><td>i32</td><td>i32</td><td>i32</td><td>i32</td><td>str</td><td>i32</td><td>i32</td><td>i32</td><td>i32</td><td>i32</td></tr></thead><tbody><tr><td>2015</td><td>1</td><td>1</td><td>4</td><td>&quot;AS&quot;</td><td>98</td><td>&quot;N407AS&quot;</td><td>&quot;ANC&quot;</td><td>&quot;SEA&quot;</td><td>5</td><td>2354</td><td>-11</td><td>21</td><td>15</td><td>205</td><td>194</td><td>169</td><td>1448</td><td>404</td><td>4</td><td>430</td><td>408</td><td>-22</td><td>0</td><td>0</td><td>null</td><td>null</td><td>null</td><td>null</td><td>null</td><td>null</td></tr><tr><td>2015</td><td>1</td><td>1</td><td>4</td><td>&quot;AA&quot;</td><td>2336</td><td>&quot;N3KUAA&quot;</td><td>&quot;LAX&quot;</td><td>&quot;PBI&quot;</td><td>10</td><td>2</td><td>-8</td><td>12</td><td>14</td><td>280</td><td>279</td><td>263</td><td>2330</td><td>737</td><td>4</td><td>750</td><td>741</td><td>-9</td><td>0</td><td>0</td><td>null</td><td>null</td><td>null</td><td>null</td><td>null</td><td>null</td></tr><tr><td>2015</td><td>1</td><td>1</td><td>4</td><td>&quot;US&quot;</td><td>840</td><td>&quot;N171US&quot;</td><td>&quot;SFO&quot;</td><td>&quot;CLT&quot;</td><td>20</td><td>18</td><td>-2</td><td>16</td><td>34</td><td>286</td><td>293</td><td>266</td><td>2296</td><td>800</td><td>11</td><td>806</td><td>811</td><td>5</td><td>0</td><td>0</td><td>null</td><td>null</td><td>null</td><td>null</td><td>null</td><td>null</td></tr><tr><td>2015</td><td>1</td><td>1</td><td>4</td><td>&quot;AA&quot;</td><td>258</td><td>&quot;N3HYAA&quot;</td><td>&quot;LAX&quot;</td><td>&quot;MIA&quot;</td><td>20</td><td>15</td><td>-5</td><td>15</td><td>30</td><td>285</td><td>281</td><td>258</td><td>2342</td><td>748</td><td>8</td><td>805</td><td>756</td><td>-9</td><td>0</td><td>0</td><td>null</td><td>null</td><td>null</td><td>null</td><td>null</td><td>null</td></tr><tr><td>2015</td><td>1</td><td>1</td><td>4</td><td>&quot;AS&quot;</td><td>135</td><td>&quot;N527AS&quot;</td><td>&quot;SEA&quot;</td><td>&quot;ANC&quot;</td><td>25</td><td>24</td><td>-1</td><td>11</td><td>35</td><td>235</td><td>215</td><td>199</td><td>1448</td><td>254</td><td>5</td><td>320</td><td>259</td><td>-21</td><td>0</td><td>0</td><td>null</td><td>null</td><td>null</td><td>null</td><td>null</td><td>null</td></tr><tr><td>&hellip;</td><td>&hellip;</td><td>&hellip;</td><td>&hellip;</td><td>&hellip;</td><td>&hellip;</td><td>&hellip;</td><td>&hellip;</td><td>&hellip;</td><td>&hellip;</td><td>&hellip;</td><td>&hellip;</td><td>&hellip;</td><td>&hellip;</td><td>&hellip;</td><td>&hellip;</td><td>&hellip;</td><td>&hellip;</td><td>&hellip;</td><td>&hellip;</td><td>&hellip;</td><td>&hellip;</td><td>&hellip;</td><td>&hellip;</td><td>&hellip;</td><td>&hellip;</td><td>&hellip;</td><td>&hellip;</td><td>&hellip;</td><td>&hellip;</td><td>&hellip;</td></tr><tr><td>2015</td><td>12</td><td>31</td><td>4</td><td>&quot;B6&quot;</td><td>688</td><td>&quot;N657JB&quot;</td><td>&quot;LAX&quot;</td><td>&quot;BOS&quot;</td><td>2359</td><td>2355</td><td>-4</td><td>22</td><td>17</td><td>320</td><td>298</td><td>272</td><td>2611</td><td>749</td><td>4</td><td>819</td><td>753</td><td>-26</td><td>0</td><td>0</td><td>null</td><td>null</td><td>null</td><td>null</td><td>null</td><td>null</td></tr><tr><td>2015</td><td>12</td><td>31</td><td>4</td><td>&quot;B6&quot;</td><td>745</td><td>&quot;N828JB&quot;</td><td>&quot;JFK&quot;</td><td>&quot;PSE&quot;</td><td>2359</td><td>2355</td><td>-4</td><td>17</td><td>12</td><td>227</td><td>215</td><td>195</td><td>1617</td><td>427</td><td>3</td><td>446</td><td>430</td><td>-16</td><td>0</td><td>0</td><td>null</td><td>null</td><td>null</td><td>null</td><td>null</td><td>null</td></tr><tr><td>2015</td><td>12</td><td>31</td><td>4</td><td>&quot;B6&quot;</td><td>1503</td><td>&quot;N913JB&quot;</td><td>&quot;JFK&quot;</td><td>&quot;SJU&quot;</td><td>2359</td><td>2350</td><td>-9</td><td>17</td><td>7</td><td>221</td><td>222</td><td>197</td><td>1598</td><td>424</td><td>8</td><td>440</td><td>432</td><td>-8</td><td>0</td><td>0</td><td>null</td><td>null</td><td>null</td><td>null</td><td>null</td><td>null</td></tr><tr><td>2015</td><td>12</td><td>31</td><td>4</td><td>&quot;B6&quot;</td><td>333</td><td>&quot;N527JB&quot;</td><td>&quot;MCO&quot;</td><td>&quot;SJU&quot;</td><td>2359</td><td>2353</td><td>-6</td><td>10</td><td>3</td><td>161</td><td>157</td><td>144</td><td>1189</td><td>327</td><td>3</td><td>340</td><td>330</td><td>-10</td><td>0</td><td>0</td><td>null</td><td>null</td><td>null</td><td>null</td><td>null</td><td>null</td></tr><tr><td>2015</td><td>12</td><td>31</td><td>4</td><td>&quot;B6&quot;</td><td>839</td><td>&quot;N534JB&quot;</td><td>&quot;JFK&quot;</td><td>&quot;BQN&quot;</td><td>2359</td><td>14</td><td>15</td><td>14</td><td>28</td><td>221</td><td>208</td><td>189</td><td>1576</td><td>437</td><td>5</td><td>440</td><td>442</td><td>2</td><td>0</td><td>0</td><td>null</td><td>null</td><td>null</td><td>null</td><td>null</td><td>null</td></tr></tbody></table></div>"
      ],
      "text/plain": [
       "shape: (5_819_079, 31)\n",
       "┌──────┬───────┬─────┬─────────────┬───┬──────────────┬──────────────┬──────────────┬──────────────┐\n",
       "│ YEAR ┆ MONTH ┆ DAY ┆ DAY_OF_WEEK ┆ … ┆ SECURITY_DEL ┆ AIRLINE_DELA ┆ LATE_AIRCRAF ┆ WEATHER_DELA │\n",
       "│ ---  ┆ ---   ┆ --- ┆ ---         ┆   ┆ AY           ┆ Y            ┆ T_DELAY      ┆ Y            │\n",
       "│ i32  ┆ i32   ┆ i32 ┆ i32         ┆   ┆ ---          ┆ ---          ┆ ---          ┆ ---          │\n",
       "│      ┆       ┆     ┆             ┆   ┆ i32          ┆ i32          ┆ i32          ┆ i32          │\n",
       "╞══════╪═══════╪═════╪═════════════╪═══╪══════════════╪══════════════╪══════════════╪══════════════╡\n",
       "│ 2015 ┆ 1     ┆ 1   ┆ 4           ┆ … ┆ null         ┆ null         ┆ null         ┆ null         │\n",
       "│ 2015 ┆ 1     ┆ 1   ┆ 4           ┆ … ┆ null         ┆ null         ┆ null         ┆ null         │\n",
       "│ 2015 ┆ 1     ┆ 1   ┆ 4           ┆ … ┆ null         ┆ null         ┆ null         ┆ null         │\n",
       "│ 2015 ┆ 1     ┆ 1   ┆ 4           ┆ … ┆ null         ┆ null         ┆ null         ┆ null         │\n",
       "│ 2015 ┆ 1     ┆ 1   ┆ 4           ┆ … ┆ null         ┆ null         ┆ null         ┆ null         │\n",
       "│ …    ┆ …     ┆ …   ┆ …           ┆ … ┆ …            ┆ …            ┆ …            ┆ …            │\n",
       "│ 2015 ┆ 12    ┆ 31  ┆ 4           ┆ … ┆ null         ┆ null         ┆ null         ┆ null         │\n",
       "│ 2015 ┆ 12    ┆ 31  ┆ 4           ┆ … ┆ null         ┆ null         ┆ null         ┆ null         │\n",
       "│ 2015 ┆ 12    ┆ 31  ┆ 4           ┆ … ┆ null         ┆ null         ┆ null         ┆ null         │\n",
       "│ 2015 ┆ 12    ┆ 31  ┆ 4           ┆ … ┆ null         ┆ null         ┆ null         ┆ null         │\n",
       "│ 2015 ┆ 12    ┆ 31  ┆ 4           ┆ … ┆ null         ┆ null         ┆ null         ┆ null         │\n",
       "└──────┴───────┴─────┴─────────────┴───┴──────────────┴──────────────┴──────────────┴──────────────┘"
      ]
     },
     "metadata": {},
     "output_type": "display_data"
    }
   ],
   "source": [
    "vuelos = pl.read_parquet('./data/vuelos/vuelos.parquet')\n",
    "\n",
    "display(vuelos)"
   ]
  },
  {
   "cell_type": "markdown",
   "id": "7865f3c5-16bd-457d-b661-08ec5295f506",
   "metadata": {},
   "source": [
    "### Inciso b"
   ]
  },
  {
   "cell_type": "code",
   "execution_count": 7,
   "id": "f66c385d-d7e0-4afb-af70-f7907b7b9f64",
   "metadata": {
    "tags": []
   },
   "outputs": [
    {
     "data": {
      "text/html": [
       "<div><style>\n",
       ".dataframe > thead > tr,\n",
       ".dataframe > tbody > tr {\n",
       "  text-align: right;\n",
       "  white-space: pre-wrap;\n",
       "}\n",
       "</style>\n",
       "<small>shape: (5_819_079, 31)</small><table border=\"1\" class=\"dataframe\"><thead><tr><th>YEAR</th><th>MONTH</th><th>DAY</th><th>DAY_OF_WEEK</th><th>AIRLINE</th><th>FLIGHT_NUMBER</th><th>TAIL_NUMBER</th><th>ORIGIN_AIRPORT</th><th>DESTINATION_AIRPORT</th><th>SCHEDULED_DEPARTURE</th><th>DEPARTURE_TIME</th><th>DEPARTURE_DELAY</th><th>TAXI_OUT</th><th>WHEELS_OFF</th><th>SCHEDULED_TIME</th><th>ELAPSED_TIME</th><th>AIR_TIME</th><th>DISTANCE</th><th>WHEELS_ON</th><th>TAXI_IN</th><th>SCHEDULED_ARRIVAL</th><th>ARRIVAL_TIME</th><th>ARRIVAL_DELAY</th><th>DIVERTED</th><th>CANCELLED</th><th>CANCELLATION_REASON</th><th>AIR_SYSTEM_DELAY</th><th>SECURITY_DELAY</th><th>AIRLINE_DELAY</th><th>LATE_AIRCRAFT_DELAY</th><th>WEATHER_DELAY</th></tr><tr><td>i32</td><td>i32</td><td>i32</td><td>i32</td><td>str</td><td>i32</td><td>str</td><td>str</td><td>str</td><td>i32</td><td>i32</td><td>i32</td><td>i32</td><td>i32</td><td>i32</td><td>i32</td><td>i32</td><td>i32</td><td>i32</td><td>i32</td><td>i32</td><td>i32</td><td>i32</td><td>i32</td><td>i32</td><td>str</td><td>i32</td><td>i32</td><td>i32</td><td>i32</td><td>i32</td></tr></thead><tbody><tr><td>2015</td><td>1</td><td>11</td><td>7</td><td>&quot;AS&quot;</td><td>60</td><td>&quot;N556AS&quot;</td><td>&quot;KTN&quot;</td><td>&quot;SEA&quot;</td><td>908</td><td>905</td><td>-3</td><td>7</td><td>912</td><td>112</td><td>104</td><td>91</td><td>680</td><td>1143</td><td>6</td><td>1200</td><td>1149</td><td>-11</td><td>0</td><td>0</td><td>null</td><td>null</td><td>null</td><td>null</td><td>null</td><td>null</td></tr><tr><td>2015</td><td>6</td><td>21</td><td>7</td><td>&quot;DL&quot;</td><td>2177</td><td>&quot;N979AT&quot;</td><td>&quot;GSO&quot;</td><td>&quot;ATL&quot;</td><td>1010</td><td>1007</td><td>-3</td><td>17</td><td>1024</td><td>80</td><td>74</td><td>51</td><td>306</td><td>1115</td><td>6</td><td>1130</td><td>1121</td><td>-9</td><td>0</td><td>0</td><td>null</td><td>null</td><td>null</td><td>null</td><td>null</td><td>null</td></tr><tr><td>2015</td><td>3</td><td>7</td><td>6</td><td>&quot;WN&quot;</td><td>3191</td><td>&quot;N8321D&quot;</td><td>&quot;PHX&quot;</td><td>&quot;STL&quot;</td><td>1030</td><td>1029</td><td>-1</td><td>13</td><td>1042</td><td>180</td><td>163</td><td>141</td><td>1262</td><td>1403</td><td>9</td><td>1430</td><td>1412</td><td>-18</td><td>0</td><td>0</td><td>null</td><td>null</td><td>null</td><td>null</td><td>null</td><td>null</td></tr><tr><td>2015</td><td>2</td><td>16</td><td>1</td><td>&quot;AS&quot;</td><td>370</td><td>&quot;N594AS&quot;</td><td>&quot;SEA&quot;</td><td>&quot;SMF&quot;</td><td>900</td><td>911</td><td>11</td><td>17</td><td>928</td><td>105</td><td>98</td><td>76</td><td>605</td><td>1044</td><td>5</td><td>1045</td><td>1049</td><td>4</td><td>0</td><td>0</td><td>null</td><td>null</td><td>null</td><td>null</td><td>null</td><td>null</td></tr><tr><td>2015</td><td>9</td><td>17</td><td>4</td><td>&quot;WN&quot;</td><td>2941</td><td>&quot;N243WN&quot;</td><td>&quot;LAX&quot;</td><td>&quot;SJC&quot;</td><td>745</td><td>742</td><td>-3</td><td>9</td><td>751</td><td>65</td><td>63</td><td>49</td><td>308</td><td>840</td><td>5</td><td>850</td><td>845</td><td>-5</td><td>0</td><td>0</td><td>null</td><td>null</td><td>null</td><td>null</td><td>null</td><td>null</td></tr><tr><td>&hellip;</td><td>&hellip;</td><td>&hellip;</td><td>&hellip;</td><td>&hellip;</td><td>&hellip;</td><td>&hellip;</td><td>&hellip;</td><td>&hellip;</td><td>&hellip;</td><td>&hellip;</td><td>&hellip;</td><td>&hellip;</td><td>&hellip;</td><td>&hellip;</td><td>&hellip;</td><td>&hellip;</td><td>&hellip;</td><td>&hellip;</td><td>&hellip;</td><td>&hellip;</td><td>&hellip;</td><td>&hellip;</td><td>&hellip;</td><td>&hellip;</td><td>&hellip;</td><td>&hellip;</td><td>&hellip;</td><td>&hellip;</td><td>&hellip;</td><td>&hellip;</td></tr><tr><td>2015</td><td>11</td><td>20</td><td>5</td><td>&quot;AA&quot;</td><td>2070</td><td>&quot;N914UY&quot;</td><td>&quot;CLT&quot;</td><td>&quot;CLE&quot;</td><td>2220</td><td>2219</td><td>-1</td><td>16</td><td>2235</td><td>91</td><td>86</td><td>63</td><td>430</td><td>2338</td><td>7</td><td>2351</td><td>2345</td><td>-6</td><td>0</td><td>0</td><td>null</td><td>null</td><td>null</td><td>null</td><td>null</td><td>null</td></tr><tr><td>2015</td><td>11</td><td>14</td><td>6</td><td>&quot;OO&quot;</td><td>6279</td><td>&quot;N983CA&quot;</td><td>&quot;DEN&quot;</td><td>&quot;BIL&quot;</td><td>1515</td><td>1520</td><td>5</td><td>20</td><td>1540</td><td>97</td><td>91</td><td>66</td><td>455</td><td>1646</td><td>5</td><td>1652</td><td>1651</td><td>-1</td><td>0</td><td>0</td><td>null</td><td>null</td><td>null</td><td>null</td><td>null</td><td>null</td></tr><tr><td>2015</td><td>12</td><td>19</td><td>6</td><td>&quot;OO&quot;</td><td>3457</td><td>&quot;N218AG&quot;</td><td>&quot;BUR&quot;</td><td>&quot;PDX&quot;</td><td>920</td><td>920</td><td>0</td><td>20</td><td>940</td><td>143</td><td>135</td><td>112</td><td>817</td><td>1132</td><td>3</td><td>1143</td><td>1135</td><td>-8</td><td>0</td><td>0</td><td>null</td><td>null</td><td>null</td><td>null</td><td>null</td><td>null</td></tr><tr><td>2015</td><td>11</td><td>25</td><td>3</td><td>&quot;AA&quot;</td><td>2266</td><td>&quot;N3JUAA&quot;</td><td>&quot;LGA&quot;</td><td>&quot;MIA&quot;</td><td>640</td><td>634</td><td>-6</td><td>20</td><td>654</td><td>189</td><td>173</td><td>145</td><td>1096</td><td>919</td><td>8</td><td>949</td><td>927</td><td>-22</td><td>0</td><td>0</td><td>null</td><td>null</td><td>null</td><td>null</td><td>null</td><td>null</td></tr><tr><td>2015</td><td>11</td><td>24</td><td>2</td><td>&quot;UA&quot;</td><td>278</td><td>&quot;N854UA&quot;</td><td>&quot;ORD&quot;</td><td>&quot;MDT&quot;</td><td>1800</td><td>1804</td><td>4</td><td>16</td><td>1820</td><td>109</td><td>100</td><td>79</td><td>594</td><td>2039</td><td>5</td><td>2049</td><td>2044</td><td>-5</td><td>0</td><td>0</td><td>null</td><td>null</td><td>null</td><td>null</td><td>null</td><td>null</td></tr></tbody></table></div>"
      ],
      "text/plain": [
       "shape: (5_819_079, 31)\n",
       "┌──────┬───────┬─────┬─────────────┬───┬──────────────┬──────────────┬──────────────┬──────────────┐\n",
       "│ YEAR ┆ MONTH ┆ DAY ┆ DAY_OF_WEEK ┆ … ┆ SECURITY_DEL ┆ AIRLINE_DELA ┆ LATE_AIRCRAF ┆ WEATHER_DELA │\n",
       "│ ---  ┆ ---   ┆ --- ┆ ---         ┆   ┆ AY           ┆ Y            ┆ T_DELAY      ┆ Y            │\n",
       "│ i32  ┆ i32   ┆ i32 ┆ i32         ┆   ┆ ---          ┆ ---          ┆ ---          ┆ ---          │\n",
       "│      ┆       ┆     ┆             ┆   ┆ i32          ┆ i32          ┆ i32          ┆ i32          │\n",
       "╞══════╪═══════╪═════╪═════════════╪═══╪══════════════╪══════════════╪══════════════╪══════════════╡\n",
       "│ 2015 ┆ 1     ┆ 11  ┆ 7           ┆ … ┆ null         ┆ null         ┆ null         ┆ null         │\n",
       "│ 2015 ┆ 6     ┆ 21  ┆ 7           ┆ … ┆ null         ┆ null         ┆ null         ┆ null         │\n",
       "│ 2015 ┆ 3     ┆ 7   ┆ 6           ┆ … ┆ null         ┆ null         ┆ null         ┆ null         │\n",
       "│ 2015 ┆ 2     ┆ 16  ┆ 1           ┆ … ┆ null         ┆ null         ┆ null         ┆ null         │\n",
       "│ 2015 ┆ 9     ┆ 17  ┆ 4           ┆ … ┆ null         ┆ null         ┆ null         ┆ null         │\n",
       "│ …    ┆ …     ┆ …   ┆ …           ┆ … ┆ …            ┆ …            ┆ …            ┆ …            │\n",
       "│ 2015 ┆ 11    ┆ 20  ┆ 5           ┆ … ┆ null         ┆ null         ┆ null         ┆ null         │\n",
       "│ 2015 ┆ 11    ┆ 14  ┆ 6           ┆ … ┆ null         ┆ null         ┆ null         ┆ null         │\n",
       "│ 2015 ┆ 12    ┆ 19  ┆ 6           ┆ … ┆ null         ┆ null         ┆ null         ┆ null         │\n",
       "│ 2015 ┆ 11    ┆ 25  ┆ 3           ┆ … ┆ null         ┆ null         ┆ null         ┆ null         │\n",
       "│ 2015 ┆ 11    ┆ 24  ┆ 2           ┆ … ┆ null         ┆ null         ┆ null         ┆ null         │\n",
       "└──────┴───────┴─────┴─────────────┴───┴──────────────┴──────────────┴──────────────┴──────────────┘"
      ]
     },
     "metadata": {},
     "output_type": "display_data"
    }
   ],
   "source": [
    "multi_parquet = pl.read_parquet('./data/vuelos/multi_parquet/*.parquet')\n",
    "\n",
    "display(multi_parquet)"
   ]
  },
  {
   "cell_type": "markdown",
   "id": "182493d8-e0ca-4a7a-a84c-ad13bdd836ea",
   "metadata": {},
   "source": [
    "### Inciso c"
   ]
  },
  {
   "cell_type": "code",
   "execution_count": 8,
   "id": "bc9eca50-2628-4e28-bde6-4fa0fe12e9ab",
   "metadata": {
    "tags": []
   },
   "outputs": [
    {
     "data": {
      "text/html": [
       "<div><style>\n",
       ".dataframe > thead > tr,\n",
       ".dataframe > tbody > tr {\n",
       "  text-align: right;\n",
       "  white-space: pre-wrap;\n",
       "}\n",
       "</style>\n",
       "<small>shape: (5_819_079, 6)</small><table border=\"1\" class=\"dataframe\"><thead><tr><th>YEAR</th><th>MONTH</th><th>DAY</th><th>AIRLINE</th><th>ORIGIN_AIRPORT</th><th>DESTINATION_AIRPORT</th></tr><tr><td>i32</td><td>i32</td><td>i32</td><td>str</td><td>str</td><td>str</td></tr></thead><tbody><tr><td>2015</td><td>1</td><td>11</td><td>&quot;AS&quot;</td><td>&quot;KTN&quot;</td><td>&quot;SEA&quot;</td></tr><tr><td>2015</td><td>6</td><td>21</td><td>&quot;DL&quot;</td><td>&quot;GSO&quot;</td><td>&quot;ATL&quot;</td></tr><tr><td>2015</td><td>3</td><td>7</td><td>&quot;WN&quot;</td><td>&quot;PHX&quot;</td><td>&quot;STL&quot;</td></tr><tr><td>2015</td><td>2</td><td>16</td><td>&quot;AS&quot;</td><td>&quot;SEA&quot;</td><td>&quot;SMF&quot;</td></tr><tr><td>2015</td><td>9</td><td>17</td><td>&quot;WN&quot;</td><td>&quot;LAX&quot;</td><td>&quot;SJC&quot;</td></tr><tr><td>&hellip;</td><td>&hellip;</td><td>&hellip;</td><td>&hellip;</td><td>&hellip;</td><td>&hellip;</td></tr><tr><td>2015</td><td>11</td><td>20</td><td>&quot;AA&quot;</td><td>&quot;CLT&quot;</td><td>&quot;CLE&quot;</td></tr><tr><td>2015</td><td>11</td><td>14</td><td>&quot;OO&quot;</td><td>&quot;DEN&quot;</td><td>&quot;BIL&quot;</td></tr><tr><td>2015</td><td>12</td><td>19</td><td>&quot;OO&quot;</td><td>&quot;BUR&quot;</td><td>&quot;PDX&quot;</td></tr><tr><td>2015</td><td>11</td><td>25</td><td>&quot;AA&quot;</td><td>&quot;LGA&quot;</td><td>&quot;MIA&quot;</td></tr><tr><td>2015</td><td>11</td><td>24</td><td>&quot;UA&quot;</td><td>&quot;ORD&quot;</td><td>&quot;MDT&quot;</td></tr></tbody></table></div>"
      ],
      "text/plain": [
       "shape: (5_819_079, 6)\n",
       "┌──────┬───────┬─────┬─────────┬────────────────┬─────────────────────┐\n",
       "│ YEAR ┆ MONTH ┆ DAY ┆ AIRLINE ┆ ORIGIN_AIRPORT ┆ DESTINATION_AIRPORT │\n",
       "│ ---  ┆ ---   ┆ --- ┆ ---     ┆ ---            ┆ ---                 │\n",
       "│ i32  ┆ i32   ┆ i32 ┆ str     ┆ str            ┆ str                 │\n",
       "╞══════╪═══════╪═════╪═════════╪════════════════╪═════════════════════╡\n",
       "│ 2015 ┆ 1     ┆ 11  ┆ AS      ┆ KTN            ┆ SEA                 │\n",
       "│ 2015 ┆ 6     ┆ 21  ┆ DL      ┆ GSO            ┆ ATL                 │\n",
       "│ 2015 ┆ 3     ┆ 7   ┆ WN      ┆ PHX            ┆ STL                 │\n",
       "│ 2015 ┆ 2     ┆ 16  ┆ AS      ┆ SEA            ┆ SMF                 │\n",
       "│ 2015 ┆ 9     ┆ 17  ┆ WN      ┆ LAX            ┆ SJC                 │\n",
       "│ …    ┆ …     ┆ …   ┆ …       ┆ …              ┆ …                   │\n",
       "│ 2015 ┆ 11    ┆ 20  ┆ AA      ┆ CLT            ┆ CLE                 │\n",
       "│ 2015 ┆ 11    ┆ 14  ┆ OO      ┆ DEN            ┆ BIL                 │\n",
       "│ 2015 ┆ 12    ┆ 19  ┆ OO      ┆ BUR            ┆ PDX                 │\n",
       "│ 2015 ┆ 11    ┆ 25  ┆ AA      ┆ LGA            ┆ MIA                 │\n",
       "│ 2015 ┆ 11    ┆ 24  ┆ UA      ┆ ORD            ┆ MDT                 │\n",
       "└──────┴───────┴─────┴─────────┴────────────────┴─────────────────────┘"
      ]
     },
     "metadata": {},
     "output_type": "display_data"
    }
   ],
   "source": [
    "parquet_pyarrow = pl.read_parquet('./data/vuelos/multi_parquet/', use_pyarrow=True, columns=['YEAR', 'MONTH', 'DAY', 'AIRLINE', 'ORIGIN_AIRPORT', 'DESTINATION_AIRPORT'])\n",
    "\n",
    "display(parquet_pyarrow)"
   ]
  },
  {
   "cell_type": "markdown",
   "id": "c1fef5dd-f769-4490-b5f2-14ee56bc0166",
   "metadata": {},
   "source": [
    "### Inciso d"
   ]
  },
  {
   "cell_type": "code",
   "execution_count": 9,
   "id": "e7143c35-f8a8-4925-847a-fe230c85fbd0",
   "metadata": {
    "tags": []
   },
   "outputs": [],
   "source": [
    "multi_parquet.write_parquet(\n",
    "    './data/salida_parquet',\n",
    "    use_pyarrow=True,\n",
    "    pyarrow_options={\"partition_cols\": [\"MONTH\"]},\n",
    "    compression='lz4'\n",
    ")"
   ]
  },
  {
   "cell_type": "markdown",
   "id": "c4e52ed3-0df9-4684-956a-a7b8ca5cbb82",
   "metadata": {},
   "source": [
    "## Ejercicio 3"
   ]
  },
  {
   "cell_type": "markdown",
   "id": "aa4e408f-925d-436c-95cd-179a72970634",
   "metadata": {},
   "source": [
    "### Inciso a"
   ]
  },
  {
   "cell_type": "code",
   "execution_count": 10,
   "id": "a94ebc06-91a5-478e-b701-a3a7985c7433",
   "metadata": {
    "tags": []
   },
   "outputs": [
    {
     "data": {
      "text/html": [
       "<div><style>\n",
       ".dataframe > thead > tr,\n",
       ".dataframe > tbody > tr {\n",
       "  text-align: right;\n",
       "  white-space: pre-wrap;\n",
       "}\n",
       "</style>\n",
       "<small>shape: (36, 12)</small><table border=\"1\" class=\"dataframe\"><thead><tr><th>State/UTs</th><th>Zone</th><th>Total Cases</th><th>Active</th><th>Discharged</th><th>Deaths</th><th>Active Ratio</th><th>Discharge Ratio</th><th>Discharge Avg</th><th>Death Ratio</th><th>Death Avg</th><th>Population</th></tr><tr><td>str</td><td>str</td><td>i64</td><td>i64</td><td>i64</td><td>i64</td><td>f64</td><td>f64</td><td>str</td><td>f64</td><td>str</td><td>i64</td></tr></thead><tbody><tr><td>&quot;Andaman and Nicobar&quot;</td><td>&quot;South&quot;</td><td>7670</td><td>7</td><td>7534</td><td>129</td><td>0.09</td><td>98.23</td><td>&quot;Below Average&quot;</td><td>1.68</td><td>&quot;Above Average&quot;</td><td>399001</td></tr><tr><td>&quot;Andhra Pradesh&quot;</td><td>&quot;South&quot;</td><td>2069770</td><td>3128</td><td>2052230</td><td>14412</td><td>0.15</td><td>99.15</td><td>&quot;Above Average&quot;</td><td>0.7</td><td>&quot;Below Average&quot;</td><td>91702478</td></tr><tr><td>&quot;Arunachal Pradesh&quot;</td><td>&quot;East&quot;</td><td>55216</td><td>42</td><td>54894</td><td>280</td><td>0.08</td><td>99.42</td><td>&quot;Above Average&quot;</td><td>0.51</td><td>&quot;Below Average&quot;</td><td>1711947</td></tr><tr><td>&quot;Assam&quot;</td><td>&quot;East&quot;</td><td>613784</td><td>3272</td><td>604465</td><td>6047</td><td>0.53</td><td>98.48</td><td>&quot;Above Average&quot;</td><td>0.99</td><td>&quot;Below Average&quot;</td><td>35998752</td></tr><tr><td>&quot;Bihar&quot;</td><td>&quot;East&quot;</td><td>726153</td><td>29</td><td>716462</td><td>9662</td><td>0.0</td><td>98.67</td><td>&quot;Above Average&quot;</td><td>1.33</td><td>&quot;Above Average&quot;</td><td>128500364</td></tr><tr><td>&hellip;</td><td>&hellip;</td><td>&hellip;</td><td>&hellip;</td><td>&hellip;</td><td>&hellip;</td><td>&hellip;</td><td>&hellip;</td><td>&hellip;</td><td>&hellip;</td><td>&hellip;</td><td>&hellip;</td></tr><tr><td>&quot;Telengana&quot;</td><td>&quot;South&quot;</td><td>673469</td><td>3741</td><td>665755</td><td>3973</td><td>0.56</td><td>98.85</td><td>&quot;Above Average&quot;</td><td>0.59</td><td>&quot;Below Average&quot;</td><td>38157311</td></tr><tr><td>&quot;Tripura&quot;</td><td>&quot;East&quot;</td><td>84665</td><td>116</td><td>83732</td><td>817</td><td>0.14</td><td>98.9</td><td>&quot;Above Average&quot;</td><td>0.96</td><td>&quot;Below Average&quot;</td><td>4184959</td></tr><tr><td>&quot;Uttar Pradesh&quot;</td><td>&quot;North&quot;</td><td>1710261</td><td>90</td><td>1687262</td><td>22909</td><td>0.01</td><td>98.66</td><td>&quot;Above Average&quot;</td><td>1.34</td><td>&quot;Above Average&quot;</td><td>231502578</td></tr><tr><td>&quot;Uttarakhand&quot;</td><td>&quot;North&quot;</td><td>344014</td><td>158</td><td>336453</td><td>7403</td><td>0.05</td><td>97.8</td><td>&quot;Below Average&quot;</td><td>2.15</td><td>&quot;Above Average&quot;</td><td>11700099</td></tr><tr><td>&quot;West Bengal&quot;</td><td>&quot;East&quot;</td><td>1603318</td><td>8031</td><td>1575980</td><td>19307</td><td>0.5</td><td>98.29</td><td>&quot;Below Average&quot;</td><td>1.2</td><td>&quot;Below Average&quot;</td><td>100896618</td></tr></tbody></table></div>"
      ],
      "text/plain": [
       "shape: (36, 12)\n",
       "┌─────────────────┬───────┬─────────┬────────┬───┬────────────────┬───────┬───────────┬────────────┐\n",
       "│ State/UTs       ┆ Zone  ┆ Total   ┆ Active ┆ … ┆ Discharge Avg  ┆ Death ┆ Death Avg ┆ Population │\n",
       "│ ---             ┆ ---   ┆ Cases   ┆ ---    ┆   ┆ ---            ┆ Ratio ┆ ---       ┆ ---        │\n",
       "│ str             ┆ str   ┆ ---     ┆ i64    ┆   ┆ str            ┆ ---   ┆ str       ┆ i64        │\n",
       "│                 ┆       ┆ i64     ┆        ┆   ┆                ┆ f64   ┆           ┆            │\n",
       "╞═════════════════╪═══════╪═════════╪════════╪═══╪════════════════╪═══════╪═══════════╪════════════╡\n",
       "│ Andaman and     ┆ South ┆ 7670    ┆ 7      ┆ … ┆ Below Average  ┆ 1.68  ┆ Above     ┆ 399001     │\n",
       "│ Nicobar         ┆       ┆         ┆        ┆   ┆                ┆       ┆ Average   ┆            │\n",
       "│ Andhra Pradesh  ┆ South ┆ 2069770 ┆ 3128   ┆ … ┆ Above Average  ┆ 0.7   ┆ Below     ┆ 91702478   │\n",
       "│                 ┆       ┆         ┆        ┆   ┆                ┆       ┆ Average   ┆            │\n",
       "│ Arunachal       ┆ East  ┆ 55216   ┆ 42     ┆ … ┆ Above Average  ┆ 0.51  ┆ Below     ┆ 1711947    │\n",
       "│ Pradesh         ┆       ┆         ┆        ┆   ┆                ┆       ┆ Average   ┆            │\n",
       "│ Assam           ┆ East  ┆ 613784  ┆ 3272   ┆ … ┆ Above Average  ┆ 0.99  ┆ Below     ┆ 35998752   │\n",
       "│                 ┆       ┆         ┆        ┆   ┆                ┆       ┆ Average   ┆            │\n",
       "│ Bihar           ┆ East  ┆ 726153  ┆ 29     ┆ … ┆ Above Average  ┆ 1.33  ┆ Above     ┆ 128500364  │\n",
       "│                 ┆       ┆         ┆        ┆   ┆                ┆       ┆ Average   ┆            │\n",
       "│ …               ┆ …     ┆ …       ┆ …      ┆ … ┆ …              ┆ …     ┆ …         ┆ …          │\n",
       "│ Telengana       ┆ South ┆ 673469  ┆ 3741   ┆ … ┆ Above Average  ┆ 0.59  ┆ Below     ┆ 38157311   │\n",
       "│                 ┆       ┆         ┆        ┆   ┆                ┆       ┆ Average   ┆            │\n",
       "│ Tripura         ┆ East  ┆ 84665   ┆ 116    ┆ … ┆ Above Average  ┆ 0.96  ┆ Below     ┆ 4184959    │\n",
       "│                 ┆       ┆         ┆        ┆   ┆                ┆       ┆ Average   ┆            │\n",
       "│ Uttar Pradesh   ┆ North ┆ 1710261 ┆ 90     ┆ … ┆ Above Average  ┆ 1.34  ┆ Above     ┆ 231502578  │\n",
       "│                 ┆       ┆         ┆        ┆   ┆                ┆       ┆ Average   ┆            │\n",
       "│ Uttarakhand     ┆ North ┆ 344014  ┆ 158    ┆ … ┆ Below Average  ┆ 2.15  ┆ Above     ┆ 11700099   │\n",
       "│                 ┆       ┆         ┆        ┆   ┆                ┆       ┆ Average   ┆            │\n",
       "│ West Bengal     ┆ East  ┆ 1603318 ┆ 8031   ┆ … ┆ Below Average  ┆ 1.2   ┆ Below     ┆ 100896618  │\n",
       "│                 ┆       ┆         ┆        ┆   ┆                ┆       ┆ Average   ┆            │\n",
       "└─────────────────┴───────┴─────────┴────────┴───┴────────────────┴───────┴───────────┴────────────┘"
      ]
     },
     "metadata": {},
     "output_type": "display_data"
    }
   ],
   "source": [
    "covid_data = pl.read_excel('./data/covid/Covid-Dashboard.xlsx', sheet_name='Data')\n",
    "\n",
    "display(covid_data)"
   ]
  },
  {
   "cell_type": "markdown",
   "id": "c02e65c4-d86a-43e0-9c6b-b09088885663",
   "metadata": {},
   "source": [
    "### Inciso b"
   ]
  },
  {
   "cell_type": "code",
   "execution_count": 11,
   "id": "03397f37-6d7a-443a-bf54-b1b7249ffe2f",
   "metadata": {
    "tags": []
   },
   "outputs": [
    {
     "data": {
      "text/html": [
       "<div><style>\n",
       ".dataframe > thead > tr,\n",
       ".dataframe > tbody > tr {\n",
       "  text-align: right;\n",
       "  white-space: pre-wrap;\n",
       "}\n",
       "</style>\n",
       "<small>shape: (37, 3)</small><table border=\"1\" class=\"dataframe\"><thead><tr><th>Row Labels</th><th>Total Cases</th><th>Discharged</th></tr><tr><td>str</td><td>i64</td><td>i64</td></tr></thead><tbody><tr><td>&quot;Andaman and Nicobar&quot;</td><td>7670</td><td>7534</td></tr><tr><td>&quot;Andhra Pradesh&quot;</td><td>2069770</td><td>2052230</td></tr><tr><td>&quot;Arunachal Pradesh&quot;</td><td>55216</td><td>54894</td></tr><tr><td>&quot;Assam&quot;</td><td>613784</td><td>604465</td></tr><tr><td>&quot;Bihar&quot;</td><td>726153</td><td>716462</td></tr><tr><td>&hellip;</td><td>&hellip;</td><td>&hellip;</td></tr><tr><td>&quot;Tripura&quot;</td><td>84665</td><td>83732</td></tr><tr><td>&quot;Uttar Pradesh&quot;</td><td>1710261</td><td>1687262</td></tr><tr><td>&quot;Uttarakhand&quot;</td><td>344014</td><td>336453</td></tr><tr><td>&quot;West Bengal&quot;</td><td>1603318</td><td>1575980</td></tr><tr><td>&quot;Grand Total&quot;</td><td>34437307</td><td>33837859</td></tr></tbody></table></div>"
      ],
      "text/plain": [
       "shape: (37, 3)\n",
       "┌─────────────────────┬─────────────┬────────────┐\n",
       "│ Row Labels          ┆ Total Cases ┆ Discharged │\n",
       "│ ---                 ┆ ---         ┆ ---        │\n",
       "│ str                 ┆ i64         ┆ i64        │\n",
       "╞═════════════════════╪═════════════╪════════════╡\n",
       "│ Andaman and Nicobar ┆ 7670        ┆ 7534       │\n",
       "│ Andhra Pradesh      ┆ 2069770     ┆ 2052230    │\n",
       "│ Arunachal Pradesh   ┆ 55216       ┆ 54894      │\n",
       "│ Assam               ┆ 613784      ┆ 604465     │\n",
       "│ Bihar               ┆ 726153      ┆ 716462     │\n",
       "│ …                   ┆ …           ┆ …          │\n",
       "│ Tripura             ┆ 84665       ┆ 83732      │\n",
       "│ Uttar Pradesh       ┆ 1710261     ┆ 1687262    │\n",
       "│ Uttarakhand         ┆ 344014      ┆ 336453     │\n",
       "│ West Bengal         ┆ 1603318     ┆ 1575980    │\n",
       "│ Grand Total         ┆ 34437307    ┆ 33837859   │\n",
       "└─────────────────────┴─────────────┴────────────┘"
      ]
     },
     "metadata": {},
     "output_type": "display_data"
    }
   ],
   "source": [
    "cases_and_recovered = pl.read_excel('./data/covid/Covid-Dashboard.xlsx', sheet_name='Cases and Recovered')\n",
    "\n",
    "display(cases_and_recovered)"
   ]
  },
  {
   "cell_type": "markdown",
   "id": "afba1667-4cd6-443b-ab25-ea1038b5d0c1",
   "metadata": {},
   "source": [
    "### Inciso c"
   ]
  },
  {
   "cell_type": "code",
   "execution_count": 12,
   "id": "5cba632b-c397-44ec-9fc3-557022065235",
   "metadata": {
    "tags": []
   },
   "outputs": [
    {
     "data": {
      "text/html": [
       "<div><style>\n",
       ".dataframe > thead > tr,\n",
       ".dataframe > tbody > tr {\n",
       "  text-align: right;\n",
       "  white-space: pre-wrap;\n",
       "}\n",
       "</style>\n",
       "<small>shape: (11, 3)</small><table border=\"1\" class=\"dataframe\"><thead><tr><th>Row Labels</th><th>Total Cases</th><th>Discharged</th></tr><tr><td>str</td><td>i64</td><td>i64</td></tr></thead><tbody><tr><td>&quot;Andhra Pradesh&quot;</td><td>2069770</td><td>2052230</td></tr><tr><td>&quot;Chhattisgarh&quot;</td><td>1006326</td><td>992508</td></tr><tr><td>&quot;Delhi&quot;</td><td>1440388</td><td>1414934</td></tr><tr><td>&quot;Karnataka&quot;</td><td>2991614</td><td>2945415</td></tr><tr><td>&quot;Kerala&quot;</td><td>5055224</td><td>4950281</td></tr><tr><td>&hellip;</td><td>&hellip;</td><td>&hellip;</td></tr><tr><td>&quot;Odisha&quot;</td><td>1045209</td><td>1034300</td></tr><tr><td>&quot;Tamil Nadu&quot;</td><td>2714025</td><td>2668001</td></tr><tr><td>&quot;Uttar Pradesh&quot;</td><td>1710261</td><td>1687262</td></tr><tr><td>&quot;West Bengal&quot;</td><td>1603318</td><td>1575980</td></tr><tr><td>&quot;Grand Total&quot;</td><td>34437307</td><td>33837859</td></tr></tbody></table></div>"
      ],
      "text/plain": [
       "shape: (11, 3)\n",
       "┌────────────────┬─────────────┬────────────┐\n",
       "│ Row Labels     ┆ Total Cases ┆ Discharged │\n",
       "│ ---            ┆ ---         ┆ ---        │\n",
       "│ str            ┆ i64         ┆ i64        │\n",
       "╞════════════════╪═════════════╪════════════╡\n",
       "│ Andhra Pradesh ┆ 2069770     ┆ 2052230    │\n",
       "│ Chhattisgarh   ┆ 1006326     ┆ 992508     │\n",
       "│ Delhi          ┆ 1440388     ┆ 1414934    │\n",
       "│ Karnataka      ┆ 2991614     ┆ 2945415    │\n",
       "│ Kerala         ┆ 5055224     ┆ 4950281    │\n",
       "│ …              ┆ …           ┆ …          │\n",
       "│ Odisha         ┆ 1045209     ┆ 1034300    │\n",
       "│ Tamil Nadu     ┆ 2714025     ┆ 2668001    │\n",
       "│ Uttar Pradesh  ┆ 1710261     ┆ 1687262    │\n",
       "│ West Bengal    ┆ 1603318     ┆ 1575980    │\n",
       "│ Grand Total    ┆ 34437307    ┆ 33837859   │\n",
       "└────────────────┴─────────────┴────────────┘"
      ]
     },
     "metadata": {},
     "output_type": "display_data"
    }
   ],
   "source": [
    "millon = cases_and_recovered.filter(col('Total Cases') > 1000000)\n",
    "\n",
    "display(millon)"
   ]
  },
  {
   "cell_type": "markdown",
   "id": "870f33cb-89cc-484d-ba6c-08e3235a5627",
   "metadata": {},
   "source": [
    "### Inciso d"
   ]
  },
  {
   "cell_type": "code",
   "execution_count": 13,
   "id": "3299ff6c-4880-491e-9240-f81904fd1f68",
   "metadata": {
    "tags": []
   },
   "outputs": [
    {
     "data": {
      "text/plain": [
       "<xlsxwriter.workbook.Workbook at 0x105b8a220>"
      ]
     },
     "execution_count": 13,
     "metadata": {},
     "output_type": "execute_result"
    }
   ],
   "source": [
    "millon.write_excel('./data/millon_cases.xlsx', worksheet='millon')"
   ]
  }
 ],
 "metadata": {
  "kernelspec": {
   "display_name": "Python 3 (ipykernel)",
   "language": "python",
   "name": "python3"
  },
  "language_info": {
   "codemirror_mode": {
    "name": "ipython",
    "version": 3
   },
   "file_extension": ".py",
   "mimetype": "text/x-python",
   "name": "python",
   "nbconvert_exporter": "python",
   "pygments_lexer": "ipython3",
   "version": "3.9.6"
  }
 },
 "nbformat": 4,
 "nbformat_minor": 5
}
