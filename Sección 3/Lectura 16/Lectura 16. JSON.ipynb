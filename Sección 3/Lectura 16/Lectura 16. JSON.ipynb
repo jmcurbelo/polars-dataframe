{
 "cells": [
  {
   "cell_type": "markdown",
   "id": "f07d3907-cb8b-484f-99b2-6b6fcf14a41f",
   "metadata": {},
   "source": [
    "# JSON"
   ]
  },
  {
   "cell_type": "markdown",
   "id": "16cb7ce4-e050-4fb8-adc2-4ea0ee8124bb",
   "metadata": {},
   "source": [
    "### `read_json`"
   ]
  },
  {
   "cell_type": "markdown",
   "id": "af1d8ac2-28d3-4369-b15b-fb3caed34802",
   "metadata": {},
   "source": [
    "Con la función `read_json` vamos a poder crear un DataFrame a partir de la lectura de un archivo JSON."
   ]
  },
  {
   "cell_type": "markdown",
   "id": "6002509f-18d5-42a4-9c01-6e0f693ea5f0",
   "metadata": {},
   "source": [
    "A continuación mostramos una captura de cómo debe estar estructurado un archivo JSON para que pueda ser leído por esta función.\n",
    "\n",
    "<img src=\"./img/json.png\">"
   ]
  },
  {
   "cell_type": "code",
   "execution_count": null,
   "id": "93d325f9-dcb6-4965-b392-df3c2fb838be",
   "metadata": {
    "tags": []
   },
   "outputs": [],
   "source": [
    "import polars as pl"
   ]
  },
  {
   "cell_type": "code",
   "execution_count": null,
   "id": "00b3c495-0136-482f-8c7f-1b270d5eb1b6",
   "metadata": {
    "tags": []
   },
   "outputs": [],
   "source": [
    "df = pl.read_json('./data/data.json')\n",
    "\n",
    "print(df)"
   ]
  },
  {
   "cell_type": "markdown",
   "id": "fa5d26e3-87ec-4311-837b-9d3c06c1ea0b",
   "metadata": {},
   "source": [
    "### `read_ndjson`\n",
    "\n",
    "Con la función `read_ndjson` vamos a poder crear un DataFrame a partir de la lectura de un archivo JSON delimitado por una nueva línea.\n",
    "\n",
    "A continuación mostramos una captura de cómo debe estar estructurado un archivo JSON para que pueda ser leído por esta función.\n",
    "\n",
    "<img src=\"./img/ndjson.png\">"
   ]
  },
  {
   "cell_type": "code",
   "execution_count": null,
   "id": "095fafbe-3f1d-4251-b098-6838c2f4791b",
   "metadata": {
    "tags": []
   },
   "outputs": [],
   "source": [
    "df1 = pl.read_ndjson('./data/ndjson.json')\n",
    "\n",
    "print(df1)"
   ]
  },
  {
   "cell_type": "markdown",
   "id": "55645520-1f0d-4bdb-88df-7538f6e4160a",
   "metadata": {},
   "source": [
    "### `scan_ndjson`\n",
    "\n",
    "Esta función permite leer de forma lazy un archivo JSON delimitado por nuevas líneas.\n",
    "\n",
    "Esto permite que el optimizador de consultas baje los predicados y las proyecciones al nivel de escaneo, lo que reduce potencialmente la sobrecarga de memoria."
   ]
  },
  {
   "cell_type": "code",
   "execution_count": null,
   "id": "9dc781f3-e82c-400c-a9df-251aaa97da35",
   "metadata": {
    "tags": []
   },
   "outputs": [],
   "source": [
    "df2 = pl.scan_ndjson('./data/ndjson.json')\n",
    "\n",
    "print(df2.collect())"
   ]
  },
  {
   "cell_type": "markdown",
   "id": "caac3558-e3f8-43e6-9313-c7d535971e01",
   "metadata": {},
   "source": [
    "### `write_json`\n",
    "\n",
    "Con esta función seremos capaz de escribir un archivo JSON. Para ello debemos crear la carpeta `salida` y dentro escribiremos el archivo JSON."
   ]
  },
  {
   "cell_type": "code",
   "execution_count": null,
   "id": "b4d24389-1d87-44e6-abcc-724047f6a8e0",
   "metadata": {
    "tags": []
   },
   "outputs": [],
   "source": [
    "df.write_json('./data/salida/data.json', pretty=True)"
   ]
  },
  {
   "cell_type": "markdown",
   "id": "54d6c77d-19db-431c-8b46-999dae72c560",
   "metadata": {},
   "source": [
    "### `write_ndjson`\n",
    "\n",
    "Con esta función seremos capaz de escribir un archivo JSON delimitado por una nueva línea."
   ]
  },
  {
   "cell_type": "code",
   "execution_count": null,
   "id": "3261812b-6466-47ef-9da9-28281a792597",
   "metadata": {
    "tags": []
   },
   "outputs": [],
   "source": [
    "df.write_ndjson('./data/salida/ndjson.json')"
   ]
  }
 ],
 "metadata": {
  "kernelspec": {
   "display_name": "Python 3 (ipykernel)",
   "language": "python",
   "name": "python3"
  },
  "language_info": {
   "codemirror_mode": {
    "name": "ipython",
    "version": 3
   },
   "file_extension": ".py",
   "mimetype": "text/x-python",
   "name": "python",
   "nbconvert_exporter": "python",
   "pygments_lexer": "ipython3",
   "version": "3.9.6"
  }
 },
 "nbformat": 4,
 "nbformat_minor": 5
}
