{
 "cells": [
  {
   "cell_type": "markdown",
   "id": "e0abdb30-13bd-4849-828f-b2e63d431a43",
   "metadata": {},
   "source": [
    "# Lectura 16: DataFrame - Atributos"
   ]
  },
  {
   "cell_type": "code",
   "execution_count": null,
   "id": "17ee1b0c-305e-4398-b52f-d9f3c25e34b2",
   "metadata": {
    "tags": []
   },
   "outputs": [],
   "source": [
    "import polars as pl\n",
    "\n",
    "df = pl.DataFrame(\n",
    "    {\n",
    "        'c1': ['Pedro', 'Juan', 'Maria'],\n",
    "        'c2': ['senior', 'junior', 'junior'],\n",
    "        'c3': [10000, 4000, 4500],\n",
    "        'c4': ['RH', 'desarrollo', 'RH']\n",
    "    }\n",
    ")"
   ]
  },
  {
   "cell_type": "markdown",
   "id": "4abad7a4-7b56-44ac-8b89-fd92df07b156",
   "metadata": {},
   "source": [
    "### Obtener o cambiar el nombre de las columnas "
   ]
  },
  {
   "cell_type": "code",
   "execution_count": null,
   "id": "c02a2b3d-873a-4dcc-858a-45e03f1f31fd",
   "metadata": {
    "tags": []
   },
   "outputs": [],
   "source": [
    "df.columns"
   ]
  },
  {
   "cell_type": "code",
   "execution_count": null,
   "id": "57c04dbc-31ac-4a80-b80c-cfe3b7d87455",
   "metadata": {
    "tags": []
   },
   "outputs": [],
   "source": [
    "df.columns = ['nombre', 'puesto', 'salario', 'departamento']\n",
    "\n",
    "df.columns"
   ]
  },
  {
   "cell_type": "markdown",
   "id": "4bbff253-89b8-4f2c-a828-c867405cb6cb",
   "metadata": {},
   "source": [
    "### Obtener el tipo de dato de las columnas"
   ]
  },
  {
   "cell_type": "code",
   "execution_count": null,
   "id": "6ac06b74-e20e-413a-a427-d24ce95245c1",
   "metadata": {
    "tags": []
   },
   "outputs": [],
   "source": [
    "df.dtypes"
   ]
  },
  {
   "cell_type": "markdown",
   "id": "510a735a-62fe-4269-ad26-a515657e2708",
   "metadata": {},
   "source": [
    "### Obtener el esquema"
   ]
  },
  {
   "cell_type": "markdown",
   "id": "b03298dc-1be2-41f5-8257-a188c8fb4d90",
   "metadata": {},
   "source": [
    "`schema` retorna un mapeo con el nombre y el tipo de dato de la columna"
   ]
  },
  {
   "cell_type": "code",
   "execution_count": null,
   "id": "f54625bc-a1d9-453d-9ad0-73b9af8fab5d",
   "metadata": {
    "tags": []
   },
   "outputs": [],
   "source": [
    "df.schema"
   ]
  },
  {
   "cell_type": "markdown",
   "id": "bc19ab21-bd62-4ee1-8d53-cd1214e839d5",
   "metadata": {},
   "source": [
    "### Obtener la forma del DataFrame"
   ]
  },
  {
   "cell_type": "code",
   "execution_count": null,
   "id": "a60682c2-5fdc-4a5a-8cc4-d11e2fbdef59",
   "metadata": {
    "tags": []
   },
   "outputs": [],
   "source": [
    "df.shape"
   ]
  },
  {
   "cell_type": "code",
   "execution_count": null,
   "id": "275b11b6-772a-4b34-9c30-c48d259260ac",
   "metadata": {
    "tags": []
   },
   "outputs": [],
   "source": [
    "df.height"
   ]
  },
  {
   "cell_type": "code",
   "execution_count": null,
   "id": "b508601e-3478-4c8a-a6a7-588fb9bcc846",
   "metadata": {
    "tags": []
   },
   "outputs": [],
   "source": [
    "df.width"
   ]
  }
 ],
 "metadata": {
  "kernelspec": {
   "display_name": "Python 3 (ipykernel)",
   "language": "python",
   "name": "python3"
  },
  "language_info": {
   "codemirror_mode": {
    "name": "ipython",
    "version": 3
   },
   "file_extension": ".py",
   "mimetype": "text/x-python",
   "name": "python",
   "nbconvert_exporter": "python",
   "pygments_lexer": "ipython3",
   "version": "3.9.6"
  }
 },
 "nbformat": 4,
 "nbformat_minor": 5
}
