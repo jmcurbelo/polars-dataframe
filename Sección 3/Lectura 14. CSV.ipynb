{
 "cells": [
  {
   "cell_type": "markdown",
   "id": "69e07164-b8e0-4635-8b20-b8507d636716",
   "metadata": {},
   "source": [
    "# Lectura 14: CSV"
   ]
  },
  {
   "cell_type": "markdown",
   "id": "3890045c-d40f-4c3c-b403-257dc2a83932",
   "metadata": {},
   "source": [
    "### Leer un archivo CSV: `read_csv`"
   ]
  },
  {
   "cell_type": "markdown",
   "id": "2d39c38f-c05c-4581-942d-d358dd6a1e7f",
   "metadata": {},
   "source": [
    "La función `read_csv` tiene un parámetro llamado `has_header` que por defecto está establecido como `True`. Con esto indicamos que la primera fila del archivo contiene los nombres de columnas. En caso de que no sea así podemos establecer este parámetro igual a `False` y los nombres de columnas serán generados de forma automática por Polars."
   ]
  },
  {
   "cell_type": "code",
   "execution_count": null,
   "id": "559db2d2-fcb6-473e-967b-c05c1fec5430",
   "metadata": {
    "tags": []
   },
   "outputs": [],
   "source": [
    "import polars as pl\n",
    "\n",
    "df = pl.read_csv('./dataCSV.csv', has_header=False)"
   ]
  },
  {
   "cell_type": "code",
   "execution_count": null,
   "id": "c0cccb46-6c8b-443a-b127-5b0555438af0",
   "metadata": {
    "tags": []
   },
   "outputs": [],
   "source": [
    "df"
   ]
  },
  {
   "cell_type": "code",
   "execution_count": null,
   "id": "c7f87951-f4eb-468c-b0bb-7253bc18148b",
   "metadata": {
    "tags": []
   },
   "outputs": [],
   "source": [
    "df = pl.read_csv('./dataCSV.csv')\n",
    "\n",
    "print(df)"
   ]
  },
  {
   "cell_type": "markdown",
   "id": "3e70a895-d620-40b4-9e9c-8367f671f915",
   "metadata": {},
   "source": [
    "El parámetro `separator` lo podemos utilizar para indicar el separador del archivo que estamos leyendo, por defecto es la coma. Por ejemplo, tratemos de leer un archivo cuyo separador es un pip."
   ]
  },
  {
   "cell_type": "code",
   "execution_count": null,
   "id": "16e099e7-b19d-4570-958d-e3cca09162ac",
   "metadata": {
    "tags": []
   },
   "outputs": [],
   "source": [
    "df1 = pl.read_csv('./dataTab.txt')\n",
    "\n",
    "print(df1)"
   ]
  },
  {
   "cell_type": "code",
   "execution_count": null,
   "id": "42c8ef59-6728-448e-b0a7-e4047587a563",
   "metadata": {
    "tags": []
   },
   "outputs": [],
   "source": [
    "df1 = pl.read_csv('./dataTab.txt', separator='|')\n",
    "\n",
    "print(df1)"
   ]
  },
  {
   "cell_type": "markdown",
   "id": "11d85841-95d4-43a0-8a81-a7991cd08342",
   "metadata": {},
   "source": [
    "Veamos ahora como podemos seleccionar las columnas que deseamos leer solamente del archivo con el parámetro `columns`. Por ejemplo, vamos a leer el archivo dataCSV.csv y solo deseamos las columnas:\n",
    "- video_id\n",
    "- trending_date\n",
    "- title"
   ]
  },
  {
   "cell_type": "code",
   "execution_count": null,
   "id": "679d25f9-bfdd-4b40-a426-cdf22eb3a208",
   "metadata": {
    "tags": []
   },
   "outputs": [],
   "source": [
    "df2 = pl.read_csv('./dataCSV.csv', columns=['video_id', 'trending_date', 'title'])\n",
    "\n",
    "print(df2)"
   ]
  },
  {
   "cell_type": "markdown",
   "id": "d4a659af-4915-4ccc-b8c8-75a3e2e834cd",
   "metadata": {},
   "source": [
    "La función `read_csv` tiene muchos más parámetros que nos permiten flexibilizar la lectura de los archivos csv. Para mayor información consultar la documentación al respecto.\n",
    "\n",
    "[Ver documentación](https://pola-rs.github.io/polars/py-polars/html/reference/api/polars.read_csv.html#polars.read_csv)"
   ]
  },
  {
   "cell_type": "markdown",
   "id": "6cf6cd0b-109f-4f11-acde-53ab2b235811",
   "metadata": {},
   "source": [
    "### Leer un archivo CSV de forma perezosa(Lazily): `scan_csv`"
   ]
  },
  {
   "cell_type": "markdown",
   "id": "2c70649c-8d2c-42ed-b3ea-8c14c6b6b54f",
   "metadata": {},
   "source": [
    "La función `scan_csv` lee de forma perezosa(lazily) un archivo CSV. Esto permite que el optimizador de consultas baje los predicados y las proyecciones al nivel de escaneo, lo que reduce potencialmente la sobrecarga de memoria."
   ]
  },
  {
   "cell_type": "code",
   "execution_count": null,
   "id": "f537d93f-df0c-4c1f-a160-a85750a359bd",
   "metadata": {
    "tags": []
   },
   "outputs": [],
   "source": [
    "from polars import col\n",
    "\n",
    "df3 = (\n",
    "    pl.scan_csv('./dataCSV.csv') # lectura lazily no hace nada\n",
    "    .select(col('video_id'), col('likes'), col('dislikes'))\n",
    "    .filter(col('likes') > 50000) # el filtro se realiza durante el escaneo, por lo que se leen menos datos en la memoria\n",
    ")\n",
    "\n",
    "df3.collect()"
   ]
  },
  {
   "cell_type": "markdown",
   "id": "0cf728d1-bdf8-4bfd-aa7c-c7ace8e6dd37",
   "metadata": {},
   "source": [
    "La función `scan_csv` también posee una gran variedad de parámetros que se pueden consultar en su docuemntación.\n",
    "\n",
    "[Ver documentación](https://pola-rs.github.io/polars/py-polars/html/reference/api/polars.scan_csv.html#polars.scan_csv)"
   ]
  },
  {
   "cell_type": "markdown",
   "id": "01911338-f169-4550-ba8a-7eb92b804442",
   "metadata": {},
   "source": [
    "### Escribir un CSV: `write_csv`"
   ]
  },
  {
   "cell_type": "markdown",
   "id": "495e5343-6709-4f17-b19d-77de4f222e76",
   "metadata": {},
   "source": [
    "La función `write_csv` nos permite escribir nuestro DataFrame como un archivo CSV. Por ejemplo, escribamos el df2 creado con anterioridad e indiquémosle que el separador será un pip."
   ]
  },
  {
   "cell_type": "code",
   "execution_count": null,
   "id": "57a8c57f-9f40-4a79-ad97-9bf5e84c74da",
   "metadata": {
    "tags": []
   },
   "outputs": [],
   "source": [
    "df2.write_csv('./df2.csv', separator='|')"
   ]
  },
  {
   "cell_type": "code",
   "execution_count": null,
   "id": "de9b10a4-895b-44e1-be73-8d64f963458f",
   "metadata": {
    "tags": []
   },
   "outputs": [],
   "source": [
    "pl.read_csv('./df2.csv', separator='|')"
   ]
  },
  {
   "cell_type": "markdown",
   "id": "f1b015d4-7078-4fb0-a542-fc207657f269",
   "metadata": {},
   "source": [
    "El resto de parámetros que admite la función `read_csv` se pueden encontrar en su documentación.\n",
    "\n",
    "[Ver documentación](https://pola-rs.github.io/polars/py-polars/html/reference/api/polars.DataFrame.write_csv.html#polars.DataFrame.write_csv)"
   ]
  }
 ],
 "metadata": {
  "kernelspec": {
   "display_name": "Python 3 (ipykernel)",
   "language": "python",
   "name": "python3"
  },
  "language_info": {
   "codemirror_mode": {
    "name": "ipython",
    "version": 3
   },
   "file_extension": ".py",
   "mimetype": "text/x-python",
   "name": "python",
   "nbconvert_exporter": "python",
   "pygments_lexer": "ipython3",
   "version": "3.9.6"
  }
 },
 "nbformat": 4,
 "nbformat_minor": 5
}
