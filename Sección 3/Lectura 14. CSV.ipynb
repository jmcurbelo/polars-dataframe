{
 "cells": [
  {
   "cell_type": "markdown",
   "id": "69e07164-b8e0-4635-8b20-b8507d636716",
   "metadata": {},
   "source": [
    "# Lectura 14: CSV"
   ]
  },
  {
   "cell_type": "markdown",
   "id": "3890045c-d40f-4c3c-b403-257dc2a83932",
   "metadata": {},
   "source": [
    "### Leer un archivo CSV: `read_csv`"
   ]
  },
  {
   "cell_type": "markdown",
   "id": "2d39c38f-c05c-4581-942d-d358dd6a1e7f",
   "metadata": {},
   "source": [
    "La función `read_csv` tiene un parámetro llamado `has_header` que por defecto está establecido como `True`. Con esto indicamos que la primera fila del archivo contiene los nombres de columnas. En caso de que no sea así podemos establecer este parámetro igual a `False` y los nombres de columnas serán generados de forma automática por Polars."
   ]
  },
  {
   "cell_type": "code",
   "execution_count": 1,
   "id": "559db2d2-fcb6-473e-967b-c05c1fec5430",
   "metadata": {
    "tags": []
   },
   "outputs": [],
   "source": [
    "import polars as pl\n",
    "\n",
    "df = pl.read_csv('./dataCSV.csv', has_header=False)"
   ]
  },
  {
   "cell_type": "code",
   "execution_count": 2,
   "id": "c0cccb46-6c8b-443a-b127-5b0555438af0",
   "metadata": {
    "tags": []
   },
   "outputs": [
    {
     "data": {
      "text/html": [
       "<div><style>\n",
       ".dataframe > thead > tr,\n",
       ".dataframe > tbody > tr {\n",
       "  text-align: right;\n",
       "  white-space: pre-wrap;\n",
       "}\n",
       "</style>\n",
       "<small>shape: (40_950, 16)</small><table border=\"1\" class=\"dataframe\"><thead><tr><th>column_1</th><th>column_2</th><th>column_3</th><th>column_4</th><th>column_5</th><th>column_6</th><th>column_7</th><th>column_8</th><th>column_9</th><th>column_10</th><th>column_11</th><th>column_12</th><th>column_13</th><th>column_14</th><th>column_15</th><th>column_16</th></tr><tr><td>str</td><td>str</td><td>str</td><td>str</td><td>str</td><td>str</td><td>str</td><td>str</td><td>str</td><td>str</td><td>str</td><td>str</td><td>str</td><td>str</td><td>str</td><td>str</td></tr></thead><tbody><tr><td>&quot;video_id&quot;</td><td>&quot;trending_date&quot;</td><td>&quot;title&quot;</td><td>&quot;channel_title&quot;</td><td>&quot;category_id&quot;</td><td>&quot;publish_time&quot;</td><td>&quot;tags&quot;</td><td>&quot;views&quot;</td><td>&quot;likes&quot;</td><td>&quot;dislikes&quot;</td><td>&quot;comment_count&quot;</td><td>&quot;thumbnail_link&quot;</td><td>&quot;comments_disabled&quot;</td><td>&quot;ratings_disabled&quot;</td><td>&quot;video_error_or_removed&quot;</td><td>&quot;description&quot;</td></tr><tr><td>&quot;2kyS6SvSYSE&quot;</td><td>&quot;17.14.11&quot;</td><td>&quot;WE WANT TO TALK ABOUT OUR MARR…</td><td>&quot;CaseyNeistat&quot;</td><td>&quot;22&quot;</td><td>&quot;2017-11-13T17:13:01.000Z&quot;</td><td>&quot;SHANtell martin&quot;</td><td>&quot;748374&quot;</td><td>&quot;57527&quot;</td><td>&quot;2966&quot;</td><td>&quot;15954&quot;</td><td>&quot;https://i.ytimg.com/vi/2kyS6Sv…</td><td>&quot;False&quot;</td><td>&quot;False&quot;</td><td>&quot;False&quot;</td><td>&quot;SHANTELL&#x27;S CHANNEL - https://w…</td></tr><tr><td>&quot;1ZAPwfrtAFY&quot;</td><td>&quot;17.14.11&quot;</td><td>&quot;The Trump Presidency: Last Wee…</td><td>&quot;LastWeekTonight&quot;</td><td>&quot;24&quot;</td><td>&quot;2017-11-13T07:30:00.000Z&quot;</td><td>&quot;last week tonight trump presid…</td><td>&quot;2418783&quot;</td><td>&quot;97185&quot;</td><td>&quot;6146&quot;</td><td>&quot;12703&quot;</td><td>&quot;https://i.ytimg.com/vi/1ZAPwfr…</td><td>&quot;False&quot;</td><td>&quot;False&quot;</td><td>&quot;False&quot;</td><td>&quot;One year after the presidentia…</td></tr><tr><td>&quot;5qpjK5DgCt4&quot;</td><td>&quot;17.14.11&quot;</td><td>&quot;Racist Superman | Rudy Mancuso…</td><td>&quot;Rudy Mancuso&quot;</td><td>&quot;23&quot;</td><td>&quot;2017-11-12T19:05:24.000Z&quot;</td><td>&quot;racist superman|rudy|mancuso|k…</td><td>&quot;3191434&quot;</td><td>&quot;146033&quot;</td><td>&quot;5339&quot;</td><td>&quot;8181&quot;</td><td>&quot;https://i.ytimg.com/vi/5qpjK5D…</td><td>&quot;False&quot;</td><td>&quot;False&quot;</td><td>&quot;False&quot;</td><td>&quot;WATCH MY PREVIOUS VIDEO ▶ \\n\\n…</td></tr><tr><td>&quot;puqaWrEC7tY&quot;</td><td>&quot;17.14.11&quot;</td><td>&quot;Nickelback Lyrics: Real or Fak…</td><td>&quot;Good Mythical Morning&quot;</td><td>&quot;24&quot;</td><td>&quot;2017-11-13T11:00:04.000Z&quot;</td><td>&quot;rhett and link|gmm|good mythic…</td><td>&quot;343168&quot;</td><td>&quot;10172&quot;</td><td>&quot;666&quot;</td><td>&quot;2146&quot;</td><td>&quot;https://i.ytimg.com/vi/puqaWrE…</td><td>&quot;False&quot;</td><td>&quot;False&quot;</td><td>&quot;False&quot;</td><td>&quot;Today we find out if Link is a…</td></tr><tr><td>&hellip;</td><td>&hellip;</td><td>&hellip;</td><td>&hellip;</td><td>&hellip;</td><td>&hellip;</td><td>&hellip;</td><td>&hellip;</td><td>&hellip;</td><td>&hellip;</td><td>&hellip;</td><td>&hellip;</td><td>&hellip;</td><td>&hellip;</td><td>&hellip;</td><td>&hellip;</td></tr><tr><td>&quot;BZt0qjTWNhw&quot;</td><td>&quot;18.14.06&quot;</td><td>&quot;The Cat Who Caught the Laser&quot;</td><td>&quot;AaronsAnimals&quot;</td><td>&quot;15&quot;</td><td>&quot;2018-05-18T13:00:04.000Z&quot;</td><td>&quot;aarons animals|aarons|animals|…</td><td>&quot;1685609&quot;</td><td>&quot;38160&quot;</td><td>&quot;1385&quot;</td><td>&quot;2657&quot;</td><td>&quot;https://i.ytimg.com/vi/BZt0qjT…</td><td>&quot;False&quot;</td><td>&quot;False&quot;</td><td>&quot;False&quot;</td><td>&quot;The Cat Who Caught the Laser -…</td></tr><tr><td>&quot;1h7KV2sjUWY&quot;</td><td>&quot;18.14.06&quot;</td><td>&quot;True Facts : Ant Mutualism&quot;</td><td>&quot;zefrank1&quot;</td><td>&quot;22&quot;</td><td>&quot;2018-05-18T01:00:06.000Z&quot;</td><td>&quot;[none]&quot;</td><td>&quot;1064798&quot;</td><td>&quot;60008&quot;</td><td>&quot;382&quot;</td><td>&quot;3936&quot;</td><td>&quot;https://i.ytimg.com/vi/1h7KV2s…</td><td>&quot;False&quot;</td><td>&quot;False&quot;</td><td>&quot;False&quot;</td><td>&quot;&quot;</td></tr><tr><td>&quot;D6Oy4LfoqsU&quot;</td><td>&quot;18.14.06&quot;</td><td>&quot;I GAVE SAFIYA NYGAARD A PERFEC…</td><td>&quot;Brad Mondo&quot;</td><td>&quot;24&quot;</td><td>&quot;2018-05-18T17:34:22.000Z&quot;</td><td>&quot;I gave safiya nygaard a perfec…</td><td>&quot;1066451&quot;</td><td>&quot;48068&quot;</td><td>&quot;1032&quot;</td><td>&quot;3992&quot;</td><td>&quot;https://i.ytimg.com/vi/D6Oy4Lf…</td><td>&quot;False&quot;</td><td>&quot;False&quot;</td><td>&quot;False&quot;</td><td>&quot;I had so much fun transforming…</td></tr><tr><td>&quot;oV0zkMe1K8s&quot;</td><td>&quot;18.14.06&quot;</td><td>&quot;How Black Panther Should Have …</td><td>&quot;How It Should Have Ended&quot;</td><td>&quot;1&quot;</td><td>&quot;2018-05-17T17:00:04.000Z&quot;</td><td>&quot;Black Panther|HISHE|Marvel|Inf…</td><td>&quot;5660813&quot;</td><td>&quot;192957&quot;</td><td>&quot;2846&quot;</td><td>&quot;13088&quot;</td><td>&quot;https://i.ytimg.com/vi/oV0zkMe…</td><td>&quot;False&quot;</td><td>&quot;False&quot;</td><td>&quot;False&quot;</td><td>&quot;How Black Panther Should Have …</td></tr><tr><td>&quot;ooyjaVdt-jA&quot;</td><td>&quot;18.14.06&quot;</td><td>&quot;Official Call of Duty®: Black …</td><td>&quot;Call of Duty&quot;</td><td>&quot;20&quot;</td><td>&quot;2018-05-17T17:09:38.000Z&quot;</td><td>&quot;call of duty|cod|activision|Bl…</td><td>&quot;10306119&quot;</td><td>&quot;357079&quot;</td><td>&quot;212976&quot;</td><td>&quot;144795&quot;</td><td>&quot;https://i.ytimg.com/vi/ooyjaVd…</td><td>&quot;False&quot;</td><td>&quot;False&quot;</td><td>&quot;False&quot;</td><td>&quot;Call of Duty: Black Ops 4 Mult…</td></tr></tbody></table></div>"
      ],
      "text/plain": [
       "shape: (40_950, 16)\n",
       "┌───────────┬───────────┬───────────┬───────────┬───┬───────────┬───────────┬───────────┬──────────┐\n",
       "│ column_1  ┆ column_2  ┆ column_3  ┆ column_4  ┆ … ┆ column_13 ┆ column_14 ┆ column_15 ┆ column_1 │\n",
       "│ ---       ┆ ---       ┆ ---       ┆ ---       ┆   ┆ ---       ┆ ---       ┆ ---       ┆ 6        │\n",
       "│ str       ┆ str       ┆ str       ┆ str       ┆   ┆ str       ┆ str       ┆ str       ┆ ---      │\n",
       "│           ┆           ┆           ┆           ┆   ┆           ┆           ┆           ┆ str      │\n",
       "╞═══════════╪═══════════╪═══════════╪═══════════╪═══╪═══════════╪═══════════╪═══════════╪══════════╡\n",
       "│ video_id  ┆ trending_ ┆ title     ┆ channel_t ┆ … ┆ comments_ ┆ ratings_d ┆ video_err ┆ descript │\n",
       "│           ┆ date      ┆           ┆ itle      ┆   ┆ disabled  ┆ isabled   ┆ or_or_rem ┆ ion      │\n",
       "│           ┆           ┆           ┆           ┆   ┆           ┆           ┆ oved      ┆          │\n",
       "│ 2kyS6SvSY ┆ 17.14.11  ┆ WE WANT   ┆ CaseyNeis ┆ … ┆ False     ┆ False     ┆ False     ┆ SHANTELL │\n",
       "│ SE        ┆           ┆ TO TALK   ┆ tat       ┆   ┆           ┆           ┆           ┆ 'S       │\n",
       "│           ┆           ┆ ABOUT OUR ┆           ┆   ┆           ┆           ┆           ┆ CHANNEL  │\n",
       "│           ┆           ┆ MARR…     ┆           ┆   ┆           ┆           ┆           ┆ - https: │\n",
       "│           ┆           ┆           ┆           ┆   ┆           ┆           ┆           ┆ //w…     │\n",
       "│ 1ZAPwfrtA ┆ 17.14.11  ┆ The Trump ┆ LastWeekT ┆ … ┆ False     ┆ False     ┆ False     ┆ One year │\n",
       "│ FY        ┆           ┆ Presidenc ┆ onight    ┆   ┆           ┆           ┆           ┆ after    │\n",
       "│           ┆           ┆ y: Last   ┆           ┆   ┆           ┆           ┆           ┆ the pres │\n",
       "│           ┆           ┆ Wee…      ┆           ┆   ┆           ┆           ┆           ┆ identia… │\n",
       "│ 5qpjK5DgC ┆ 17.14.11  ┆ Racist    ┆ Rudy      ┆ … ┆ False     ┆ False     ┆ False     ┆ WATCH MY │\n",
       "│ t4        ┆           ┆ Superman  ┆ Mancuso   ┆   ┆           ┆           ┆           ┆ PREVIOUS │\n",
       "│           ┆           ┆ | Rudy    ┆           ┆   ┆           ┆           ┆           ┆ VIDEO ▶  │\n",
       "│           ┆           ┆ Mancuso…  ┆           ┆   ┆           ┆           ┆           ┆ \\n\\n…    │\n",
       "│ puqaWrEC7 ┆ 17.14.11  ┆ Nickelbac ┆ Good      ┆ … ┆ False     ┆ False     ┆ False     ┆ Today we │\n",
       "│ tY        ┆           ┆ k Lyrics: ┆ Mythical  ┆   ┆           ┆           ┆           ┆ find out │\n",
       "│           ┆           ┆ Real or   ┆ Morning   ┆   ┆           ┆           ┆           ┆ if Link  │\n",
       "│           ┆           ┆ Fak…      ┆           ┆   ┆           ┆           ┆           ┆ is a…    │\n",
       "│ …         ┆ …         ┆ …         ┆ …         ┆ … ┆ …         ┆ …         ┆ …         ┆ …        │\n",
       "│ BZt0qjTWN ┆ 18.14.06  ┆ The Cat   ┆ AaronsAni ┆ … ┆ False     ┆ False     ┆ False     ┆ The Cat  │\n",
       "│ hw        ┆           ┆ Who       ┆ mals      ┆   ┆           ┆           ┆           ┆ Who      │\n",
       "│           ┆           ┆ Caught    ┆           ┆   ┆           ┆           ┆           ┆ Caught   │\n",
       "│           ┆           ┆ the Laser ┆           ┆   ┆           ┆           ┆           ┆ the      │\n",
       "│           ┆           ┆           ┆           ┆   ┆           ┆           ┆           ┆ Laser -… │\n",
       "│ 1h7KV2sjU ┆ 18.14.06  ┆ True      ┆ zefrank1  ┆ … ┆ False     ┆ False     ┆ False     ┆          │\n",
       "│ WY        ┆           ┆ Facts :   ┆           ┆   ┆           ┆           ┆           ┆          │\n",
       "│           ┆           ┆ Ant       ┆           ┆   ┆           ┆           ┆           ┆          │\n",
       "│           ┆           ┆ Mutualism ┆           ┆   ┆           ┆           ┆           ┆          │\n",
       "│ D6Oy4Lfoq ┆ 18.14.06  ┆ I GAVE    ┆ Brad      ┆ … ┆ False     ┆ False     ┆ False     ┆ I had so │\n",
       "│ sU        ┆           ┆ SAFIYA    ┆ Mondo     ┆   ┆           ┆           ┆           ┆ much fun │\n",
       "│           ┆           ┆ NYGAARD A ┆           ┆   ┆           ┆           ┆           ┆ transfor │\n",
       "│           ┆           ┆ PERFEC…   ┆           ┆   ┆           ┆           ┆           ┆ ming…    │\n",
       "│ oV0zkMe1K ┆ 18.14.06  ┆ How Black ┆ How It    ┆ … ┆ False     ┆ False     ┆ False     ┆ How      │\n",
       "│ 8s        ┆           ┆ Panther   ┆ Should    ┆   ┆           ┆           ┆           ┆ Black    │\n",
       "│           ┆           ┆ Should    ┆ Have      ┆   ┆           ┆           ┆           ┆ Panther  │\n",
       "│           ┆           ┆ Have …    ┆ Ended     ┆   ┆           ┆           ┆           ┆ Should   │\n",
       "│           ┆           ┆           ┆           ┆   ┆           ┆           ┆           ┆ Have …   │\n",
       "│ ooyjaVdt- ┆ 18.14.06  ┆ Official  ┆ Call of   ┆ … ┆ False     ┆ False     ┆ False     ┆ Call of  │\n",
       "│ jA        ┆           ┆ Call of   ┆ Duty      ┆   ┆           ┆           ┆           ┆ Duty:    │\n",
       "│           ┆           ┆ Duty®:    ┆           ┆   ┆           ┆           ┆           ┆ Black    │\n",
       "│           ┆           ┆ Black …   ┆           ┆   ┆           ┆           ┆           ┆ Ops 4    │\n",
       "│           ┆           ┆           ┆           ┆   ┆           ┆           ┆           ┆ Mult…    │\n",
       "└───────────┴───────────┴───────────┴───────────┴───┴───────────┴───────────┴───────────┴──────────┘"
      ]
     },
     "execution_count": 2,
     "metadata": {},
     "output_type": "execute_result"
    }
   ],
   "source": [
    "df"
   ]
  },
  {
   "cell_type": "code",
   "execution_count": 3,
   "id": "c7f87951-f4eb-468c-b0bb-7253bc18148b",
   "metadata": {
    "tags": []
   },
   "outputs": [
    {
     "name": "stdout",
     "output_type": "stream",
     "text": [
      "shape: (40_949, 16)\n",
      "┌───────────┬───────────┬───────────┬───────────┬───┬───────────┬───────────┬───────────┬──────────┐\n",
      "│ video_id  ┆ trending_ ┆ title     ┆ channel_t ┆ … ┆ comments_ ┆ ratings_d ┆ video_err ┆ descript │\n",
      "│ ---       ┆ date      ┆ ---       ┆ itle      ┆   ┆ disabled  ┆ isabled   ┆ or_or_rem ┆ ion      │\n",
      "│ str       ┆ ---       ┆ str       ┆ ---       ┆   ┆ ---       ┆ ---       ┆ oved      ┆ ---      │\n",
      "│           ┆ str       ┆           ┆ str       ┆   ┆ bool      ┆ bool      ┆ ---       ┆ str      │\n",
      "│           ┆           ┆           ┆           ┆   ┆           ┆           ┆ bool      ┆          │\n",
      "╞═══════════╪═══════════╪═══════════╪═══════════╪═══╪═══════════╪═══════════╪═══════════╪══════════╡\n",
      "│ 2kyS6SvSY ┆ 17.14.11  ┆ WE WANT   ┆ CaseyNeis ┆ … ┆ false     ┆ false     ┆ false     ┆ SHANTELL │\n",
      "│ SE        ┆           ┆ TO TALK   ┆ tat       ┆   ┆           ┆           ┆           ┆ 'S       │\n",
      "│           ┆           ┆ ABOUT OUR ┆           ┆   ┆           ┆           ┆           ┆ CHANNEL  │\n",
      "│           ┆           ┆ MARR…     ┆           ┆   ┆           ┆           ┆           ┆ - https: │\n",
      "│           ┆           ┆           ┆           ┆   ┆           ┆           ┆           ┆ //w…     │\n",
      "│ 1ZAPwfrtA ┆ 17.14.11  ┆ The Trump ┆ LastWeekT ┆ … ┆ false     ┆ false     ┆ false     ┆ One year │\n",
      "│ FY        ┆           ┆ Presidenc ┆ onight    ┆   ┆           ┆           ┆           ┆ after    │\n",
      "│           ┆           ┆ y: Last   ┆           ┆   ┆           ┆           ┆           ┆ the pres │\n",
      "│           ┆           ┆ Wee…      ┆           ┆   ┆           ┆           ┆           ┆ identia… │\n",
      "│ 5qpjK5DgC ┆ 17.14.11  ┆ Racist    ┆ Rudy      ┆ … ┆ false     ┆ false     ┆ false     ┆ WATCH MY │\n",
      "│ t4        ┆           ┆ Superman  ┆ Mancuso   ┆   ┆           ┆           ┆           ┆ PREVIOUS │\n",
      "│           ┆           ┆ | Rudy    ┆           ┆   ┆           ┆           ┆           ┆ VIDEO ▶  │\n",
      "│           ┆           ┆ Mancuso…  ┆           ┆   ┆           ┆           ┆           ┆ \\n\\n…    │\n",
      "│ puqaWrEC7 ┆ 17.14.11  ┆ Nickelbac ┆ Good      ┆ … ┆ false     ┆ false     ┆ false     ┆ Today we │\n",
      "│ tY        ┆           ┆ k Lyrics: ┆ Mythical  ┆   ┆           ┆           ┆           ┆ find out │\n",
      "│           ┆           ┆ Real or   ┆ Morning   ┆   ┆           ┆           ┆           ┆ if Link  │\n",
      "│           ┆           ┆ Fak…      ┆           ┆   ┆           ┆           ┆           ┆ is a…    │\n",
      "│ d380meD0W ┆ 17.14.11  ┆ I Dare    ┆ nigahiga  ┆ … ┆ false     ┆ false     ┆ false     ┆ I know   │\n",
      "│ 0M        ┆           ┆ You:      ┆           ┆   ┆           ┆           ┆           ┆ it's     │\n",
      "│           ┆           ┆ GOING     ┆           ┆   ┆           ┆           ┆           ┆ been a   │\n",
      "│           ┆           ┆ BALD!?    ┆           ┆   ┆           ┆           ┆           ┆ while    │\n",
      "│           ┆           ┆           ┆           ┆   ┆           ┆           ┆           ┆ since…   │\n",
      "│ …         ┆ …         ┆ …         ┆ …         ┆ … ┆ …         ┆ …         ┆ …         ┆ …        │\n",
      "│ BZt0qjTWN ┆ 18.14.06  ┆ The Cat   ┆ AaronsAni ┆ … ┆ false     ┆ false     ┆ false     ┆ The Cat  │\n",
      "│ hw        ┆           ┆ Who       ┆ mals      ┆   ┆           ┆           ┆           ┆ Who      │\n",
      "│           ┆           ┆ Caught    ┆           ┆   ┆           ┆           ┆           ┆ Caught   │\n",
      "│           ┆           ┆ the Laser ┆           ┆   ┆           ┆           ┆           ┆ the      │\n",
      "│           ┆           ┆           ┆           ┆   ┆           ┆           ┆           ┆ Laser -… │\n",
      "│ 1h7KV2sjU ┆ 18.14.06  ┆ True      ┆ zefrank1  ┆ … ┆ false     ┆ false     ┆ false     ┆          │\n",
      "│ WY        ┆           ┆ Facts :   ┆           ┆   ┆           ┆           ┆           ┆          │\n",
      "│           ┆           ┆ Ant       ┆           ┆   ┆           ┆           ┆           ┆          │\n",
      "│           ┆           ┆ Mutualism ┆           ┆   ┆           ┆           ┆           ┆          │\n",
      "│ D6Oy4Lfoq ┆ 18.14.06  ┆ I GAVE    ┆ Brad      ┆ … ┆ false     ┆ false     ┆ false     ┆ I had so │\n",
      "│ sU        ┆           ┆ SAFIYA    ┆ Mondo     ┆   ┆           ┆           ┆           ┆ much fun │\n",
      "│           ┆           ┆ NYGAARD A ┆           ┆   ┆           ┆           ┆           ┆ transfor │\n",
      "│           ┆           ┆ PERFEC…   ┆           ┆   ┆           ┆           ┆           ┆ ming…    │\n",
      "│ oV0zkMe1K ┆ 18.14.06  ┆ How Black ┆ How It    ┆ … ┆ false     ┆ false     ┆ false     ┆ How      │\n",
      "│ 8s        ┆           ┆ Panther   ┆ Should    ┆   ┆           ┆           ┆           ┆ Black    │\n",
      "│           ┆           ┆ Should    ┆ Have      ┆   ┆           ┆           ┆           ┆ Panther  │\n",
      "│           ┆           ┆ Have …    ┆ Ended     ┆   ┆           ┆           ┆           ┆ Should   │\n",
      "│           ┆           ┆           ┆           ┆   ┆           ┆           ┆           ┆ Have …   │\n",
      "│ ooyjaVdt- ┆ 18.14.06  ┆ Official  ┆ Call of   ┆ … ┆ false     ┆ false     ┆ false     ┆ Call of  │\n",
      "│ jA        ┆           ┆ Call of   ┆ Duty      ┆   ┆           ┆           ┆           ┆ Duty:    │\n",
      "│           ┆           ┆ Duty®:    ┆           ┆   ┆           ┆           ┆           ┆ Black    │\n",
      "│           ┆           ┆ Black …   ┆           ┆   ┆           ┆           ┆           ┆ Ops 4    │\n",
      "│           ┆           ┆           ┆           ┆   ┆           ┆           ┆           ┆ Mult…    │\n",
      "└───────────┴───────────┴───────────┴───────────┴───┴───────────┴───────────┴───────────┴──────────┘\n"
     ]
    }
   ],
   "source": [
    "df = pl.read_csv('./dataCSV.csv')\n",
    "\n",
    "print(df)"
   ]
  },
  {
   "cell_type": "markdown",
   "id": "3e70a895-d620-40b4-9e9c-8367f671f915",
   "metadata": {},
   "source": [
    "El parámetro `separator` lo podemos utilizar para indicar el separador del archivo que estamos leyendo, por defecto es la coma. Por ejemplo, tratemos de leer un archivo cuyo separador es un pip."
   ]
  },
  {
   "cell_type": "code",
   "execution_count": 4,
   "id": "16e099e7-b19d-4570-958d-e3cca09162ac",
   "metadata": {
    "tags": []
   },
   "outputs": [
    {
     "name": "stdout",
     "output_type": "stream",
     "text": [
      "shape: (3, 1)\n",
      "┌────────────────────────┐\n",
      "│ pais|edad|fecha|color  │\n",
      "│ ---                    │\n",
      "│ str                    │\n",
      "╞════════════════════════╡\n",
      "│ MX|23|2021-02-21|rojo  │\n",
      "│ CA|56|2021-06-10|azul  │\n",
      "│ US|32|2020-06-02|verde │\n",
      "└────────────────────────┘\n"
     ]
    }
   ],
   "source": [
    "df1 = pl.read_csv('./dataTab.txt')\n",
    "\n",
    "print(df1)"
   ]
  },
  {
   "cell_type": "code",
   "execution_count": 5,
   "id": "42c8ef59-6728-448e-b0a7-e4047587a563",
   "metadata": {
    "tags": []
   },
   "outputs": [
    {
     "name": "stdout",
     "output_type": "stream",
     "text": [
      "shape: (3, 4)\n",
      "┌──────┬──────┬────────────┬───────┐\n",
      "│ pais ┆ edad ┆ fecha      ┆ color │\n",
      "│ ---  ┆ ---  ┆ ---        ┆ ---   │\n",
      "│ str  ┆ i64  ┆ str        ┆ str   │\n",
      "╞══════╪══════╪════════════╪═══════╡\n",
      "│ MX   ┆ 23   ┆ 2021-02-21 ┆ rojo  │\n",
      "│ CA   ┆ 56   ┆ 2021-06-10 ┆ azul  │\n",
      "│ US   ┆ 32   ┆ 2020-06-02 ┆ verde │\n",
      "└──────┴──────┴────────────┴───────┘\n"
     ]
    }
   ],
   "source": [
    "df1 = pl.read_csv('./dataTab.txt', separator='|')\n",
    "\n",
    "print(df1)"
   ]
  },
  {
   "cell_type": "markdown",
   "id": "11d85841-95d4-43a0-8a81-a7991cd08342",
   "metadata": {},
   "source": [
    "Veamos ahora como podemos seleccionar las columnas que deseamos leer solamente del archivo con el parámetro `columns`. Por ejemplo, vamos a leer el archivo dataCSV.csv y solo deseamos las columnas:\n",
    "- video_id\n",
    "- trending_date\n",
    "- title"
   ]
  },
  {
   "cell_type": "code",
   "execution_count": 6,
   "id": "679d25f9-bfdd-4b40-a426-cdf22eb3a208",
   "metadata": {
    "tags": []
   },
   "outputs": [
    {
     "name": "stdout",
     "output_type": "stream",
     "text": [
      "shape: (40_949, 3)\n",
      "┌─────────────┬───────────────┬─────────────────────────────────┐\n",
      "│ video_id    ┆ trending_date ┆ title                           │\n",
      "│ ---         ┆ ---           ┆ ---                             │\n",
      "│ str         ┆ str           ┆ str                             │\n",
      "╞═════════════╪═══════════════╪═════════════════════════════════╡\n",
      "│ 2kyS6SvSYSE ┆ 17.14.11      ┆ WE WANT TO TALK ABOUT OUR MARR… │\n",
      "│ 1ZAPwfrtAFY ┆ 17.14.11      ┆ The Trump Presidency: Last Wee… │\n",
      "│ 5qpjK5DgCt4 ┆ 17.14.11      ┆ Racist Superman | Rudy Mancuso… │\n",
      "│ puqaWrEC7tY ┆ 17.14.11      ┆ Nickelback Lyrics: Real or Fak… │\n",
      "│ d380meD0W0M ┆ 17.14.11      ┆ I Dare You: GOING BALD!?        │\n",
      "│ …           ┆ …             ┆ …                               │\n",
      "│ BZt0qjTWNhw ┆ 18.14.06      ┆ The Cat Who Caught the Laser    │\n",
      "│ 1h7KV2sjUWY ┆ 18.14.06      ┆ True Facts : Ant Mutualism      │\n",
      "│ D6Oy4LfoqsU ┆ 18.14.06      ┆ I GAVE SAFIYA NYGAARD A PERFEC… │\n",
      "│ oV0zkMe1K8s ┆ 18.14.06      ┆ How Black Panther Should Have … │\n",
      "│ ooyjaVdt-jA ┆ 18.14.06      ┆ Official Call of Duty®: Black … │\n",
      "└─────────────┴───────────────┴─────────────────────────────────┘\n"
     ]
    }
   ],
   "source": [
    "df2 = pl.read_csv('./dataCSV.csv', columns=['video_id', 'trending_date', 'title'])\n",
    "\n",
    "print(df2)"
   ]
  },
  {
   "cell_type": "markdown",
   "id": "d4a659af-4915-4ccc-b8c8-75a3e2e834cd",
   "metadata": {},
   "source": [
    "La función `read_csv` tiene muchos más parámetros que nos permiten flexibilizar la lectura de los archivos csv. Para mayor información consultar la documentación al respecto.\n",
    "\n",
    "[Ver documentación](https://pola-rs.github.io/polars/py-polars/html/reference/api/polars.read_csv.html#polars.read_csv)"
   ]
  },
  {
   "cell_type": "markdown",
   "id": "6cf6cd0b-109f-4f11-acde-53ab2b235811",
   "metadata": {},
   "source": [
    "### Leer un archivo CSV de forma perezosa(Lazily): `scan_csv`"
   ]
  },
  {
   "cell_type": "markdown",
   "id": "2c70649c-8d2c-42ed-b3ea-8c14c6b6b54f",
   "metadata": {},
   "source": [
    "La función `scan_csv` lee de forma perezosa(lazily) un archivo CSV. Esto permite que el optimizador de consultas baje los predicados y las proyecciones al nivel de escaneo, lo que reduce potencialmente la sobrecarga de memoria."
   ]
  },
  {
   "cell_type": "code",
   "execution_count": 7,
   "id": "f537d93f-df0c-4c1f-a160-a85750a359bd",
   "metadata": {
    "tags": []
   },
   "outputs": [
    {
     "data": {
      "text/html": [
       "<div><style>\n",
       ".dataframe > thead > tr,\n",
       ".dataframe > tbody > tr {\n",
       "  text-align: right;\n",
       "  white-space: pre-wrap;\n",
       "}\n",
       "</style>\n",
       "<small>shape: (11_065, 3)</small><table border=\"1\" class=\"dataframe\"><thead><tr><th>video_id</th><th>likes</th><th>dislikes</th></tr><tr><td>str</td><td>i64</td><td>i64</td></tr></thead><tbody><tr><td>&quot;2kyS6SvSYSE&quot;</td><td>57527</td><td>2966</td></tr><tr><td>&quot;1ZAPwfrtAFY&quot;</td><td>97185</td><td>6146</td></tr><tr><td>&quot;5qpjK5DgCt4&quot;</td><td>146033</td><td>5339</td></tr><tr><td>&quot;d380meD0W0M&quot;</td><td>132235</td><td>1989</td></tr><tr><td>&quot;5E4ZBSInqUU&quot;</td><td>114188</td><td>1333</td></tr><tr><td>&hellip;</td><td>&hellip;</td><td>&hellip;</td></tr><tr><td>&quot;ju_inUnrLc4&quot;</td><td>676467</td><td>15993</td></tr><tr><td>&quot;1PhPYr_9zRY&quot;</td><td>645888</td><td>4052</td></tr><tr><td>&quot;1h7KV2sjUWY&quot;</td><td>60008</td><td>382</td></tr><tr><td>&quot;oV0zkMe1K8s&quot;</td><td>192957</td><td>2846</td></tr><tr><td>&quot;ooyjaVdt-jA&quot;</td><td>357079</td><td>212976</td></tr></tbody></table></div>"
      ],
      "text/plain": [
       "shape: (11_065, 3)\n",
       "┌─────────────┬────────┬──────────┐\n",
       "│ video_id    ┆ likes  ┆ dislikes │\n",
       "│ ---         ┆ ---    ┆ ---      │\n",
       "│ str         ┆ i64    ┆ i64      │\n",
       "╞═════════════╪════════╪══════════╡\n",
       "│ 2kyS6SvSYSE ┆ 57527  ┆ 2966     │\n",
       "│ 1ZAPwfrtAFY ┆ 97185  ┆ 6146     │\n",
       "│ 5qpjK5DgCt4 ┆ 146033 ┆ 5339     │\n",
       "│ d380meD0W0M ┆ 132235 ┆ 1989     │\n",
       "│ 5E4ZBSInqUU ┆ 114188 ┆ 1333     │\n",
       "│ …           ┆ …      ┆ …        │\n",
       "│ ju_inUnrLc4 ┆ 676467 ┆ 15993    │\n",
       "│ 1PhPYr_9zRY ┆ 645888 ┆ 4052     │\n",
       "│ 1h7KV2sjUWY ┆ 60008  ┆ 382      │\n",
       "│ oV0zkMe1K8s ┆ 192957 ┆ 2846     │\n",
       "│ ooyjaVdt-jA ┆ 357079 ┆ 212976   │\n",
       "└─────────────┴────────┴──────────┘"
      ]
     },
     "execution_count": 7,
     "metadata": {},
     "output_type": "execute_result"
    }
   ],
   "source": [
    "from polars import col\n",
    "\n",
    "df3 = (\n",
    "    pl.scan_csv('./dataCSV.csv') # lectura lazily no hace nada\n",
    "    .select(col('video_id'), col('likes'), col('dislikes'))\n",
    "    .filter(col('likes') > 50000) # el filtro se realiza durante el escaneo, por lo que se leen menos datos en la memoria\n",
    ")\n",
    "\n",
    "df3.collect()"
   ]
  },
  {
   "cell_type": "markdown",
   "id": "0cf728d1-bdf8-4bfd-aa7c-c7ace8e6dd37",
   "metadata": {},
   "source": [
    "La función `scan_csv` también posee una gran variedad de parámetros que se pueden consultar en su docuemntación.\n",
    "\n",
    "[Ver documentación](https://pola-rs.github.io/polars/py-polars/html/reference/api/polars.scan_csv.html#polars.scan_csv)"
   ]
  },
  {
   "cell_type": "markdown",
   "id": "01911338-f169-4550-ba8a-7eb92b804442",
   "metadata": {},
   "source": [
    "### Escribir un CSV: `write_csv`"
   ]
  },
  {
   "cell_type": "markdown",
   "id": "495e5343-6709-4f17-b19d-77de4f222e76",
   "metadata": {},
   "source": [
    "La función `write_csv` nos permite escribir nuestro DataFrame como un archivo CSV. Por ejemplo, escribamos el df2 creado con anterioridad e indiquémosle que el separador será un pip."
   ]
  },
  {
   "cell_type": "code",
   "execution_count": 8,
   "id": "57a8c57f-9f40-4a79-ad97-9bf5e84c74da",
   "metadata": {
    "tags": []
   },
   "outputs": [],
   "source": [
    "df2.write_csv('./df2.csv', separator='|')"
   ]
  },
  {
   "cell_type": "code",
   "execution_count": 9,
   "id": "de9b10a4-895b-44e1-be73-8d64f963458f",
   "metadata": {
    "tags": []
   },
   "outputs": [
    {
     "data": {
      "text/html": [
       "<div><style>\n",
       ".dataframe > thead > tr,\n",
       ".dataframe > tbody > tr {\n",
       "  text-align: right;\n",
       "  white-space: pre-wrap;\n",
       "}\n",
       "</style>\n",
       "<small>shape: (40_949, 3)</small><table border=\"1\" class=\"dataframe\"><thead><tr><th>video_id</th><th>trending_date</th><th>title</th></tr><tr><td>str</td><td>str</td><td>str</td></tr></thead><tbody><tr><td>&quot;2kyS6SvSYSE&quot;</td><td>&quot;17.14.11&quot;</td><td>&quot;WE WANT TO TALK ABOUT OUR MARR…</td></tr><tr><td>&quot;1ZAPwfrtAFY&quot;</td><td>&quot;17.14.11&quot;</td><td>&quot;The Trump Presidency: Last Wee…</td></tr><tr><td>&quot;5qpjK5DgCt4&quot;</td><td>&quot;17.14.11&quot;</td><td>&quot;Racist Superman | Rudy Mancuso…</td></tr><tr><td>&quot;puqaWrEC7tY&quot;</td><td>&quot;17.14.11&quot;</td><td>&quot;Nickelback Lyrics: Real or Fak…</td></tr><tr><td>&quot;d380meD0W0M&quot;</td><td>&quot;17.14.11&quot;</td><td>&quot;I Dare You: GOING BALD!?&quot;</td></tr><tr><td>&hellip;</td><td>&hellip;</td><td>&hellip;</td></tr><tr><td>&quot;BZt0qjTWNhw&quot;</td><td>&quot;18.14.06&quot;</td><td>&quot;The Cat Who Caught the Laser&quot;</td></tr><tr><td>&quot;1h7KV2sjUWY&quot;</td><td>&quot;18.14.06&quot;</td><td>&quot;True Facts : Ant Mutualism&quot;</td></tr><tr><td>&quot;D6Oy4LfoqsU&quot;</td><td>&quot;18.14.06&quot;</td><td>&quot;I GAVE SAFIYA NYGAARD A PERFEC…</td></tr><tr><td>&quot;oV0zkMe1K8s&quot;</td><td>&quot;18.14.06&quot;</td><td>&quot;How Black Panther Should Have …</td></tr><tr><td>&quot;ooyjaVdt-jA&quot;</td><td>&quot;18.14.06&quot;</td><td>&quot;Official Call of Duty®: Black …</td></tr></tbody></table></div>"
      ],
      "text/plain": [
       "shape: (40_949, 3)\n",
       "┌─────────────┬───────────────┬─────────────────────────────────┐\n",
       "│ video_id    ┆ trending_date ┆ title                           │\n",
       "│ ---         ┆ ---           ┆ ---                             │\n",
       "│ str         ┆ str           ┆ str                             │\n",
       "╞═════════════╪═══════════════╪═════════════════════════════════╡\n",
       "│ 2kyS6SvSYSE ┆ 17.14.11      ┆ WE WANT TO TALK ABOUT OUR MARR… │\n",
       "│ 1ZAPwfrtAFY ┆ 17.14.11      ┆ The Trump Presidency: Last Wee… │\n",
       "│ 5qpjK5DgCt4 ┆ 17.14.11      ┆ Racist Superman | Rudy Mancuso… │\n",
       "│ puqaWrEC7tY ┆ 17.14.11      ┆ Nickelback Lyrics: Real or Fak… │\n",
       "│ d380meD0W0M ┆ 17.14.11      ┆ I Dare You: GOING BALD!?        │\n",
       "│ …           ┆ …             ┆ …                               │\n",
       "│ BZt0qjTWNhw ┆ 18.14.06      ┆ The Cat Who Caught the Laser    │\n",
       "│ 1h7KV2sjUWY ┆ 18.14.06      ┆ True Facts : Ant Mutualism      │\n",
       "│ D6Oy4LfoqsU ┆ 18.14.06      ┆ I GAVE SAFIYA NYGAARD A PERFEC… │\n",
       "│ oV0zkMe1K8s ┆ 18.14.06      ┆ How Black Panther Should Have … │\n",
       "│ ooyjaVdt-jA ┆ 18.14.06      ┆ Official Call of Duty®: Black … │\n",
       "└─────────────┴───────────────┴─────────────────────────────────┘"
      ]
     },
     "execution_count": 9,
     "metadata": {},
     "output_type": "execute_result"
    }
   ],
   "source": [
    "pl.read_csv('./df2.csv', separator='|')"
   ]
  },
  {
   "cell_type": "markdown",
   "id": "f1b015d4-7078-4fb0-a542-fc207657f269",
   "metadata": {},
   "source": [
    "El resto de parámetros que admite la función `read_csv` se pueden encontrar en su documentación.\n",
    "\n",
    "[Ver documentación](https://pola-rs.github.io/polars/py-polars/html/reference/api/polars.DataFrame.write_csv.html#polars.DataFrame.write_csv)"
   ]
  }
 ],
 "metadata": {
  "kernelspec": {
   "display_name": "Python 3 (ipykernel)",
   "language": "python",
   "name": "python3"
  },
  "language_info": {
   "codemirror_mode": {
    "name": "ipython",
    "version": 3
   },
   "file_extension": ".py",
   "mimetype": "text/x-python",
   "name": "python",
   "nbconvert_exporter": "python",
   "pygments_lexer": "ipython3",
   "version": "3.9.6"
  }
 },
 "nbformat": 4,
 "nbformat_minor": 5
}
