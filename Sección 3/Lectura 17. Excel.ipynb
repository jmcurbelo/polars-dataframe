{
 "cells": [
  {
   "cell_type": "markdown",
   "id": "b88d38dd-0362-45b0-9763-b92091971115",
   "metadata": {},
   "source": [
    "# Excel"
   ]
  },
  {
   "cell_type": "markdown",
   "id": "d26c84fa-bc4c-49ba-ae29-6b307181b0c5",
   "metadata": {},
   "source": [
    "## `read_excel`\n",
    "\n",
    "Esta función permite leer un archivo excel en un DataFrame de Polars."
   ]
  },
  {
   "cell_type": "code",
   "execution_count": null,
   "id": "e0d3fb0f-8b33-4062-bcac-9cc9f553e64a",
   "metadata": {
    "tags": []
   },
   "outputs": [],
   "source": [
    "import polars as pl\n",
    "\n",
    "df = pl.read_excel('./data/data.xlsx')\n",
    "\n",
    "print(df)"
   ]
  },
  {
   "cell_type": "markdown",
   "id": "1221a2e5-b120-4c7c-a03d-8a2f20de3196",
   "metadata": {},
   "source": [
    "Por defecto la función `read_excel` lee la primera hoja del archivo excel, si deseamos seleccionar alguna otra hoja tenemos dos opciones:\n",
    "\n",
    "- Usar el parámetro `sheet_id`\n",
    "- Usar el parámetro `sheet_name`\n",
    "\n",
    "Veamos como usar estos dos parámetros. Solo debe tener en cuenta que estos parámetros no pueden ser usados conjuntamente. Debemos seleccionar uno de ellos para seleccionar la hoja deseada."
   ]
  },
  {
   "cell_type": "code",
   "execution_count": null,
   "id": "32a4e3b9-7a33-4aa8-8421-fb5f5334569c",
   "metadata": {
    "tags": []
   },
   "outputs": [],
   "source": [
    "sheet_2 = pl.read_excel('./data/data.xlsx', sheet_id=2)\n",
    "\n",
    "sheet_3 = pl.read_excel('./data/data.xlsx', sheet_name='tarjetas')\n",
    "\n",
    "print(sheet_2)\n",
    "\n",
    "print(sheet_3)"
   ]
  },
  {
   "cell_type": "markdown",
   "id": "ab14d72c-6d00-4b27-a88d-330fb48b8bcd",
   "metadata": {},
   "source": [
    "## `read_ods`\n",
    "\n",
    "Esta función permite leer un archivo Open Office en un DataFrame de Polars. Para utilizar esta función es posible que deban instalar las siguientes librerías:\n",
    "- `ezodf`\n",
    "- `lxml`\n",
    "\n",
    "Si fuera ese el caso en una celda de código ejecutamos el siguiente comando `!pip install ezodf lxml`."
   ]
  },
  {
   "cell_type": "code",
   "execution_count": null,
   "id": "8dd77f96-727f-4bb7-b0ed-04719b29c223",
   "metadata": {
    "tags": []
   },
   "outputs": [],
   "source": [
    "df1 = pl.read_ods('./data/open_office.ods')\n",
    "\n",
    "print(df1)"
   ]
  },
  {
   "cell_type": "markdown",
   "id": "b15ff042-f7e0-4a79-9f0a-19a179a343e4",
   "metadata": {},
   "source": [
    "De manera similar a la función `read_excel` podemos utilizar los parámetros `sheet_id` y `sheet_name` para seleccionar la hoja que deseamos leer."
   ]
  },
  {
   "cell_type": "code",
   "execution_count": null,
   "id": "c1120a4b-b6d3-4c8b-a172-c2d159054a9e",
   "metadata": {
    "tags": []
   },
   "outputs": [],
   "source": [
    "df3 = pl.read_ods('./data/open_office.ods', sheet_id=2)\n",
    "\n",
    "df4 = pl.read_ods('./data/open_office.ods', sheet_name='tarjetas')\n",
    "\n",
    "print(df3)\n",
    "\n",
    "print(df4)"
   ]
  },
  {
   "cell_type": "markdown",
   "id": "f53c85fe-4407-43a9-bc75-b0cc9c7b4ab2",
   "metadata": {},
   "source": [
    "## `write_excel`\n",
    "\n",
    "Esta función escribe un DataFrame a una tabla de Excel. Vamos a crear primeramente la carpeta `salida` y dentro escribiremos el archivo de salida. Con el parámetro `worksheet` podemos especificar el nombre de la hoja de cálculo."
   ]
  },
  {
   "cell_type": "code",
   "execution_count": null,
   "id": "22f4c466-720e-41bb-9d8e-30e1716f7850",
   "metadata": {
    "tags": []
   },
   "outputs": [],
   "source": [
    "df.write_excel('./data/salida/data.xlsx', worksheet='compras')"
   ]
  }
 ],
 "metadata": {
  "kernelspec": {
   "display_name": "Python 3 (ipykernel)",
   "language": "python",
   "name": "python3"
  },
  "language_info": {
   "codemirror_mode": {
    "name": "ipython",
    "version": 3
   },
   "file_extension": ".py",
   "mimetype": "text/x-python",
   "name": "python",
   "nbconvert_exporter": "python",
   "pygments_lexer": "ipython3",
   "version": "3.9.6"
  }
 },
 "nbformat": 4,
 "nbformat_minor": 5
}
