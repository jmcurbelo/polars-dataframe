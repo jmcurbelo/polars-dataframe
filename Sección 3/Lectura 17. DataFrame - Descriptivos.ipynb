{
 "cells": [
  {
   "cell_type": "markdown",
   "id": "efc6f324-1115-4d77-a00a-b5d299b82cc9",
   "metadata": {},
   "source": [
    "# Lectura 17: DataFrame - Descriptivos"
   ]
  },
  {
   "cell_type": "code",
   "execution_count": null,
   "id": "e6bd6d19-08c2-4022-b268-5057d85bf92c",
   "metadata": {},
   "outputs": [],
   "source": []
  }
 ],
 "metadata": {
  "kernelspec": {
   "display_name": "Python 3 (ipykernel)",
   "language": "python",
   "name": "python3"
  },
  "language_info": {
   "codemirror_mode": {
    "name": "ipython",
    "version": 3
   },
   "file_extension": ".py",
   "mimetype": "text/x-python",
   "name": "python",
   "nbconvert_exporter": "python",
   "pygments_lexer": "ipython3",
   "version": "3.9.6"
  }
 },
 "nbformat": 4,
 "nbformat_minor": 5
}
