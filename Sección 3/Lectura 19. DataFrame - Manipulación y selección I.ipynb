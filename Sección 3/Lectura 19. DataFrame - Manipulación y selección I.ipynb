{
 "cells": [
  {
   "cell_type": "markdown",
   "id": "20cb070c-89bf-4c3c-86c1-a59d077b2614",
   "metadata": {},
   "source": [
    "# Lectura 19: DataFrame - Manipulación y selección I"
   ]
  },
  {
   "cell_type": "code",
   "execution_count": null,
   "id": "1b4f2fa5-f3e8-4894-9ff7-3e098b347191",
   "metadata": {},
   "outputs": [],
   "source": []
  }
 ],
 "metadata": {
  "kernelspec": {
   "display_name": "Python 3 (ipykernel)",
   "language": "python",
   "name": "python3"
  },
  "language_info": {
   "codemirror_mode": {
    "name": "ipython",
    "version": 3
   },
   "file_extension": ".py",
   "mimetype": "text/x-python",
   "name": "python",
   "nbconvert_exporter": "python",
   "pygments_lexer": "ipython3",
   "version": "3.9.6"
  }
 },
 "nbformat": 4,
 "nbformat_minor": 5
}
