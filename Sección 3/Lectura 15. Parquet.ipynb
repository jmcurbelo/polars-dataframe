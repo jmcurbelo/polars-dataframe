{
 "cells": [
  {
   "cell_type": "markdown",
   "id": "d565ffe4-463b-4db8-8b9c-1b5c7fa47104",
   "metadata": {},
   "source": [
    "# Lectura 15: Parquet"
   ]
  },
  {
   "cell_type": "markdown",
   "id": "115577d5-04c3-4faf-b3ba-a09bc652b503",
   "metadata": {},
   "source": [
    "## `read_parquet`\n",
    "\n",
    "La primera función que vamos a estudiar es `read_parquet`, la cual nos va a permitir crear un DataFrame a partir de la lectura de un archivo parquet."
   ]
  },
  {
   "cell_type": "code",
   "execution_count": null,
   "id": "e95cee5c-d435-4c68-923b-98f89858e9c9",
   "metadata": {
    "tags": []
   },
   "outputs": [],
   "source": [
    "import polars as pl"
   ]
  },
  {
   "cell_type": "markdown",
   "id": "385435bc-0f6b-4c5a-9767-2bfb6e200d55",
   "metadata": {},
   "source": [
    "### Leer un solo archivo parquet"
   ]
  },
  {
   "cell_type": "code",
   "execution_count": null,
   "id": "b3bcd79a-e524-40c5-9b6b-2f2707930ced",
   "metadata": {
    "tags": []
   },
   "outputs": [],
   "source": [
    "df = pl.read_parquet('./data/parquet/datos.parquet')"
   ]
  },
  {
   "cell_type": "code",
   "execution_count": null,
   "id": "c2160bba-234d-47b4-93ae-99f158c00b49",
   "metadata": {
    "tags": []
   },
   "outputs": [],
   "source": [
    "print(df)"
   ]
  },
  {
   "cell_type": "markdown",
   "id": "4a75c964-ab5c-49e7-8d10-31de20988463",
   "metadata": {},
   "source": [
    "#### Otra alternativa que leería todos los archivos parquet dentro de una carpeta"
   ]
  },
  {
   "cell_type": "code",
   "execution_count": null,
   "id": "c15bab81-cb79-453c-b424-2d5139905011",
   "metadata": {
    "tags": []
   },
   "outputs": [],
   "source": [
    "df1 = pl.read_parquet('./data/multi_parquet/*.parquet')"
   ]
  },
  {
   "cell_type": "code",
   "execution_count": null,
   "id": "3f402440-69fb-4fe0-b86f-8f1609bb7bab",
   "metadata": {
    "tags": []
   },
   "outputs": [],
   "source": [
    "print(df1)"
   ]
  },
  {
   "cell_type": "markdown",
   "id": "7ed2f8f1-d07b-454a-b89d-6db9e08da9f6",
   "metadata": {
    "tags": []
   },
   "source": [
    "La forma recomendada de leer un archivo parquet cuando existan varios archivos parquet en una sola carpeta es utilizar el parámetro `use_pyarrow=True`. El propio Polars en su documentación expresa que esta opción es más estable que la que la opción de parquet reader que trae Rust que es la opción por defecto."
   ]
  },
  {
   "cell_type": "code",
   "execution_count": null,
   "id": "e8e43809-8768-4104-ba68-8c4cc459145b",
   "metadata": {
    "tags": []
   },
   "outputs": [],
   "source": [
    "df2 = pl.read_parquet('./data/multi_parquet/', use_pyarrow=True)"
   ]
  },
  {
   "cell_type": "code",
   "execution_count": null,
   "id": "d8ab4a6a-be27-4deb-84c5-dcd687f3b508",
   "metadata": {
    "tags": []
   },
   "outputs": [],
   "source": [
    "print(df2)"
   ]
  },
  {
   "cell_type": "markdown",
   "id": "adb0e56c-b97e-42a6-a138-e77220152e44",
   "metadata": {},
   "source": [
    "### Leer un archivo parquet que esté particionado.\n",
    "Aquí volvemos a usar el parámetro `use_pyarrow=True`."
   ]
  },
  {
   "cell_type": "code",
   "execution_count": null,
   "id": "0c263dcc-3656-4c16-8849-635afb75012e",
   "metadata": {
    "tags": []
   },
   "outputs": [],
   "source": [
    "df3 = pl.read_parquet('./data/vuelos/', use_pyarrow=True)"
   ]
  },
  {
   "cell_type": "code",
   "execution_count": null,
   "id": "fdcb1c56-5731-4047-8d1b-4cdb9259359a",
   "metadata": {
    "tags": []
   },
   "outputs": [],
   "source": [
    "print(df3)"
   ]
  },
  {
   "cell_type": "markdown",
   "id": "4d35e841-ec10-4ff0-bdba-4c0e27930547",
   "metadata": {},
   "source": [
    "### Seleccionar solo un conjunto de columnas del archivo parquet\n",
    "Si deseamos seleccionar un conjunto de columnas del archivo parquet que vamos a leer debemos usar el parámetro `columns`."
   ]
  },
  {
   "cell_type": "code",
   "execution_count": null,
   "id": "9f25981c-8805-4377-91f6-1882be915159",
   "metadata": {
    "tags": []
   },
   "outputs": [],
   "source": [
    "df4 = pl.read_parquet('./data/vuelos/', use_pyarrow=True, columns=['YEAR', 'MONTH', 'DAY'])\n",
    "\n",
    "print(df4)"
   ]
  },
  {
   "cell_type": "markdown",
   "id": "c4bcb8b2-3dbd-487a-a611-429c7a966811",
   "metadata": {},
   "source": [
    "## `scan_parquet`\n",
    "\n",
    "Lee de forma laizy desde un archivo(o archivos) parquet. Estos archivos pueden estar alojados localmente o en la nube. Esta función permite que el optimizador de consultas baje los predicados y las proyecciones al nivel del escaneo, lo que generalmente aumenta el rendimiento y reduce la sobrecarga de memoria."
   ]
  },
  {
   "cell_type": "code",
   "execution_count": null,
   "id": "1bbb4dc1-ba15-4028-83c0-de90b94d947a",
   "metadata": {
    "tags": []
   },
   "outputs": [],
   "source": [
    "df5 = pl.scan_parquet('./data/multi_parquet/*.parquet')\n",
    "\n",
    "print(df5.collect())"
   ]
  },
  {
   "cell_type": "markdown",
   "id": "e52745a6-1410-4849-a129-51cffc2f4fe9",
   "metadata": {},
   "source": [
    "## `read_parquet_schema`\n",
    "\n",
    "Con esta función obtendremos un diccionario con el schema del archivo parquet sin necesidad de leerlo."
   ]
  },
  {
   "cell_type": "code",
   "execution_count": null,
   "id": "90009a79-8872-45a4-9cc9-69eb9dd332aa",
   "metadata": {
    "tags": []
   },
   "outputs": [],
   "source": [
    "schema = pl.read_parquet_schema('./data/parquet/datos.parquet')\n",
    "\n",
    "schema"
   ]
  },
  {
   "cell_type": "markdown",
   "id": "60b9944b-8c12-444b-b131-ee09451d78f7",
   "metadata": {},
   "source": [
    "## `write_parquet`\n",
    "\n",
    "Con esta función escribiremos un archivo parquet. Para este ejemplo usaremos el parámetro `use_pyarrow=True` lo cual utilizará la implementación de parquet C++ en vez de la implementación de parquet Rust."
   ]
  },
  {
   "cell_type": "code",
   "execution_count": null,
   "id": "b29f5b1f-8e4b-41e1-bdb1-469d6ac92d3b",
   "metadata": {
    "tags": []
   },
   "outputs": [],
   "source": [
    "df.write_parquet('./data/salida.parquet', use_pyarrow=True)"
   ]
  },
  {
   "cell_type": "markdown",
   "id": "80d297b4-0330-4bf0-be83-66f3a1321cf7",
   "metadata": {},
   "source": [
    "A continuación vamos a escribir un parquet particionado, para ello vamos a utilizar el `df3` que previamente hemos creado y lo escribiremos particionado por la columna `MONTH`. Por último, cambiaremos el formato de compresión a snappy con el parámetro `compression='snappy'`.\n",
    "\n",
    "Respecto a la compresión en su documentación Polars nos dice lo siguiente:\n",
    "- Seleccionar `zstd` (opción por defecto) par un un buen desempeño de compresión.\n",
    "- Seleccionar `lz4` para una rápida compresión/descompresión.\n",
    "- Seleccionar `snappy` para garantizar una mayor compatibilidad con lectores de parquet más antigüos"
   ]
  },
  {
   "cell_type": "code",
   "execution_count": null,
   "id": "ad38b621-fb87-4827-978e-2a6836d3e7a0",
   "metadata": {
    "tags": []
   },
   "outputs": [],
   "source": [
    "df3.write_parquet(\n",
    "    './data/salida_particionada',\n",
    "    use_pyarrow=True,\n",
    "    pyarrow_options={\"partition_cols\": ['MONTH']},\n",
    "    compression='snappy'\n",
    ")"
   ]
  },
  {
   "cell_type": "markdown",
   "id": "c77dcccf-fea6-45a1-9a38-5f0fd7c10b05",
   "metadata": {},
   "source": [
    "## `sink_parquet`\n",
    "\n",
    "Esta función nos permitirá evaluar la query que define al lazyframe y escribirla en un archivo parquet. Esto permite que los resultados que sean más grandes que la memoria RAM puedan ser escribidos en disco."
   ]
  },
  {
   "cell_type": "code",
   "execution_count": null,
   "id": "ff43b447-3dd1-4441-80e9-da2e44370bb5",
   "metadata": {
    "tags": []
   },
   "outputs": [],
   "source": [
    "df5.sink_parquet('./data/salida_lazy.parquet')"
   ]
  }
 ],
 "metadata": {
  "kernelspec": {
   "display_name": "Python 3 (ipykernel)",
   "language": "python",
   "name": "python3"
  },
  "language_info": {
   "codemirror_mode": {
    "name": "ipython",
    "version": 3
   },
   "file_extension": ".py",
   "mimetype": "text/x-python",
   "name": "python",
   "nbconvert_exporter": "python",
   "pygments_lexer": "ipython3",
   "version": "3.9.6"
  }
 },
 "nbformat": 4,
 "nbformat_minor": 5
}
