{
 "cells": [
  {
   "cell_type": "markdown",
   "id": "d565ffe4-463b-4db8-8b9c-1b5c7fa47104",
   "metadata": {},
   "source": [
    "# Lectura 15: Parquet"
   ]
  },
  {
   "cell_type": "markdown",
   "id": "115577d5-04c3-4faf-b3ba-a09bc652b503",
   "metadata": {},
   "source": [
    "## `read_parquet`\n",
    "\n",
    "La primera función que vamos a estudiar es `read_parquet`, la cual nos va a permitir crear un DataFrame a partir de la lectura de un archivo parquet."
   ]
  },
  {
   "cell_type": "code",
   "execution_count": 1,
   "id": "e95cee5c-d435-4c68-923b-98f89858e9c9",
   "metadata": {
    "tags": []
   },
   "outputs": [],
   "source": [
    "import polars as pl"
   ]
  },
  {
   "cell_type": "markdown",
   "id": "385435bc-0f6b-4c5a-9767-2bfb6e200d55",
   "metadata": {},
   "source": [
    "### Leer un solo archivo parquet"
   ]
  },
  {
   "cell_type": "code",
   "execution_count": 2,
   "id": "b3bcd79a-e524-40c5-9b6b-2f2707930ced",
   "metadata": {
    "tags": []
   },
   "outputs": [],
   "source": [
    "df = pl.read_parquet('./data/parquet/datos.parquet')"
   ]
  },
  {
   "cell_type": "code",
   "execution_count": 3,
   "id": "c2160bba-234d-47b4-93ae-99f158c00b49",
   "metadata": {
    "tags": []
   },
   "outputs": [
    {
     "name": "stdout",
     "output_type": "stream",
     "text": [
      "shape: (48_137, 16)\n",
      "┌───────────┬───────────┬───────────┬───────────┬───┬───────────┬───────────┬───────────┬──────────┐\n",
      "│ video_id  ┆ trending_ ┆ title     ┆ channel_t ┆ … ┆ comments_ ┆ ratings_d ┆ video_err ┆ descript │\n",
      "│ ---       ┆ date      ┆ ---       ┆ itle      ┆   ┆ disabled  ┆ isabled   ┆ or_or_rem ┆ ion      │\n",
      "│ str       ┆ ---       ┆ str       ┆ ---       ┆   ┆ ---       ┆ ---       ┆ oved      ┆ ---      │\n",
      "│           ┆ str       ┆           ┆ str       ┆   ┆ str       ┆ str       ┆ ---       ┆ str      │\n",
      "│           ┆           ┆           ┆           ┆   ┆           ┆           ┆ str       ┆          │\n",
      "╞═══════════╪═══════════╪═══════════╪═══════════╪═══╪═══════════╪═══════════╪═══════════╪══════════╡\n",
      "│ 2kyS6SvSY ┆ 17.14.11  ┆ WE WANT   ┆ CaseyNeis ┆ … ┆ False     ┆ False     ┆ False     ┆ SHANTELL │\n",
      "│ SE        ┆           ┆ TO TALK   ┆ tat       ┆   ┆           ┆           ┆           ┆ 'S       │\n",
      "│           ┆           ┆ ABOUT OUR ┆           ┆   ┆           ┆           ┆           ┆ CHANNEL  │\n",
      "│           ┆           ┆ MARR…     ┆           ┆   ┆           ┆           ┆           ┆ - https: │\n",
      "│           ┆           ┆           ┆           ┆   ┆           ┆           ┆           ┆ //w…     │\n",
      "│ 1ZAPwfrtA ┆ 17.14.11  ┆ The Trump ┆ LastWeekT ┆ … ┆ False     ┆ False     ┆ False     ┆ One year │\n",
      "│ FY        ┆           ┆ Presidenc ┆ onight    ┆   ┆           ┆           ┆           ┆ after    │\n",
      "│           ┆           ┆ y: Last   ┆           ┆   ┆           ┆           ┆           ┆ the pres │\n",
      "│           ┆           ┆ Wee…      ┆           ┆   ┆           ┆           ┆           ┆ identia… │\n",
      "│ 5qpjK5DgC ┆ 17.14.11  ┆ Racist    ┆ Rudy      ┆ … ┆ False     ┆ False     ┆ False     ┆ WATCH MY │\n",
      "│ t4        ┆           ┆ Superman  ┆ Mancuso   ┆   ┆           ┆           ┆           ┆ PREVIOUS │\n",
      "│           ┆           ┆ | Rudy    ┆           ┆   ┆           ┆           ┆           ┆ VIDEO ▶  │\n",
      "│           ┆           ┆ Mancuso…  ┆           ┆   ┆           ┆           ┆           ┆ \\n\\n…    │\n",
      "│ puqaWrEC7 ┆ 17.14.11  ┆ Nickelbac ┆ Good      ┆ … ┆ False     ┆ False     ┆ False     ┆ Today we │\n",
      "│ tY        ┆           ┆ k Lyrics: ┆ Mythical  ┆   ┆           ┆           ┆           ┆ find out │\n",
      "│           ┆           ┆ Real or   ┆ Morning   ┆   ┆           ┆           ┆           ┆ if Link  │\n",
      "│           ┆           ┆ Fak…      ┆           ┆   ┆           ┆           ┆           ┆ is a…    │\n",
      "│ d380meD0W ┆ 17.14.11  ┆ I Dare    ┆ nigahiga  ┆ … ┆ False     ┆ False     ┆ False     ┆ I know   │\n",
      "│ 0M        ┆           ┆ You:      ┆           ┆   ┆           ┆           ┆           ┆ it's     │\n",
      "│           ┆           ┆ GOING     ┆           ┆   ┆           ┆           ┆           ┆ been a   │\n",
      "│           ┆           ┆ BALD!?    ┆           ┆   ┆           ┆           ┆           ┆ while    │\n",
      "│           ┆           ┆           ┆           ┆   ┆           ┆           ┆           ┆ since…   │\n",
      "│ …         ┆ …         ┆ …         ┆ …         ┆ … ┆ …         ┆ …         ┆ …         ┆ …        │\n",
      "│ BZt0qjTWN ┆ 18.14.06  ┆ The Cat   ┆ AaronsAni ┆ … ┆ False     ┆ False     ┆ False     ┆ The Cat  │\n",
      "│ hw        ┆           ┆ Who       ┆ mals      ┆   ┆           ┆           ┆           ┆ Who      │\n",
      "│           ┆           ┆ Caught    ┆           ┆   ┆           ┆           ┆           ┆ Caught   │\n",
      "│           ┆           ┆ the Laser ┆           ┆   ┆           ┆           ┆           ┆ the      │\n",
      "│           ┆           ┆           ┆           ┆   ┆           ┆           ┆           ┆ Laser -… │\n",
      "│ 1h7KV2sjU ┆ 18.14.06  ┆ True      ┆ zefrank1  ┆ … ┆ False     ┆ False     ┆ False     ┆ null     │\n",
      "│ WY        ┆           ┆ Facts :   ┆           ┆   ┆           ┆           ┆           ┆          │\n",
      "│           ┆           ┆ Ant       ┆           ┆   ┆           ┆           ┆           ┆          │\n",
      "│           ┆           ┆ Mutualism ┆           ┆   ┆           ┆           ┆           ┆          │\n",
      "│ D6Oy4Lfoq ┆ 18.14.06  ┆ I GAVE    ┆ Brad      ┆ … ┆ False     ┆ False     ┆ False     ┆ I had so │\n",
      "│ sU        ┆           ┆ SAFIYA    ┆ Mondo     ┆   ┆           ┆           ┆           ┆ much fun │\n",
      "│           ┆           ┆ NYGAARD A ┆           ┆   ┆           ┆           ┆           ┆ transfor │\n",
      "│           ┆           ┆ PERFEC…   ┆           ┆   ┆           ┆           ┆           ┆ ming…    │\n",
      "│ oV0zkMe1K ┆ 18.14.06  ┆ How Black ┆ How It    ┆ … ┆ False     ┆ False     ┆ False     ┆ How      │\n",
      "│ 8s        ┆           ┆ Panther   ┆ Should    ┆   ┆           ┆           ┆           ┆ Black    │\n",
      "│           ┆           ┆ Should    ┆ Have      ┆   ┆           ┆           ┆           ┆ Panther  │\n",
      "│           ┆           ┆ Have …    ┆ Ended     ┆   ┆           ┆           ┆           ┆ Should   │\n",
      "│           ┆           ┆           ┆           ┆   ┆           ┆           ┆           ┆ Have …   │\n",
      "│ ooyjaVdt- ┆ 18.14.06  ┆ Official  ┆ Call of   ┆ … ┆ False     ┆ False     ┆ False     ┆ Call of  │\n",
      "│ jA        ┆           ┆ Call of   ┆ Duty      ┆   ┆           ┆           ┆           ┆ Duty:    │\n",
      "│           ┆           ┆ Duty®:    ┆           ┆   ┆           ┆           ┆           ┆ Black    │\n",
      "│           ┆           ┆ Black …   ┆           ┆   ┆           ┆           ┆           ┆ Ops 4    │\n",
      "│           ┆           ┆           ┆           ┆   ┆           ┆           ┆           ┆ Mult…    │\n",
      "└───────────┴───────────┴───────────┴───────────┴───┴───────────┴───────────┴───────────┴──────────┘\n"
     ]
    }
   ],
   "source": [
    "print(df)"
   ]
  },
  {
   "cell_type": "markdown",
   "id": "4a75c964-ab5c-49e7-8d10-31de20988463",
   "metadata": {},
   "source": [
    "#### Otra alternativa que leería todos los archivos parquet dentro de una carpeta"
   ]
  },
  {
   "cell_type": "code",
   "execution_count": 4,
   "id": "c15bab81-cb79-453c-b424-2d5139905011",
   "metadata": {
    "tags": []
   },
   "outputs": [],
   "source": [
    "df1 = pl.read_parquet('./data/multi_parquet/*.parquet')"
   ]
  },
  {
   "cell_type": "code",
   "execution_count": 5,
   "id": "3f402440-69fb-4fe0-b86f-8f1609bb7bab",
   "metadata": {
    "tags": []
   },
   "outputs": [
    {
     "name": "stdout",
     "output_type": "stream",
     "text": [
      "shape: (898_505, 30)\n",
      "┌──────┬───────┬─────┬─────────────┬───┬──────────────┬──────────────┬──────────────┬──────────────┐\n",
      "│ YEAR ┆ MONTH ┆ DAY ┆ DAY_OF_WEEK ┆ … ┆ SECURITY_DEL ┆ AIRLINE_DELA ┆ LATE_AIRCRAF ┆ WEATHER_DELA │\n",
      "│ ---  ┆ ---   ┆ --- ┆ ---         ┆   ┆ AY           ┆ Y            ┆ T_DELAY      ┆ Y            │\n",
      "│ i32  ┆ i32   ┆ i32 ┆ i32         ┆   ┆ ---          ┆ ---          ┆ ---          ┆ ---          │\n",
      "│      ┆       ┆     ┆             ┆   ┆ i32          ┆ i32          ┆ i32          ┆ i32          │\n",
      "╞══════╪═══════╪═════╪═════════════╪═══╪══════════════╪══════════════╪══════════════╪══════════════╡\n",
      "│ 2015 ┆ 1     ┆ 1   ┆ 4           ┆ … ┆ null         ┆ null         ┆ null         ┆ null         │\n",
      "│ 2015 ┆ 10    ┆ 25  ┆ 7           ┆ … ┆ null         ┆ null         ┆ null         ┆ null         │\n",
      "│ 2015 ┆ 1     ┆ 1   ┆ 4           ┆ … ┆ null         ┆ null         ┆ null         ┆ null         │\n",
      "│ 2015 ┆ 10    ┆ 25  ┆ 7           ┆ … ┆ null         ┆ null         ┆ null         ┆ null         │\n",
      "│ 2015 ┆ 1     ┆ 1   ┆ 4           ┆ … ┆ null         ┆ null         ┆ null         ┆ null         │\n",
      "│ …    ┆ …     ┆ …   ┆ …           ┆ … ┆ …            ┆ …            ┆ …            ┆ …            │\n",
      "│ 2015 ┆ 5     ┆ 31  ┆ 7           ┆ … ┆ null         ┆ null         ┆ null         ┆ null         │\n",
      "│ 2015 ┆ 5     ┆ 31  ┆ 7           ┆ … ┆ null         ┆ null         ┆ null         ┆ null         │\n",
      "│ 2015 ┆ 5     ┆ 31  ┆ 7           ┆ … ┆ null         ┆ null         ┆ null         ┆ null         │\n",
      "│ 2015 ┆ 5     ┆ 31  ┆ 7           ┆ … ┆ null         ┆ null         ┆ null         ┆ null         │\n",
      "│ 2015 ┆ 5     ┆ 31  ┆ 7           ┆ … ┆ null         ┆ null         ┆ null         ┆ null         │\n",
      "└──────┴───────┴─────┴─────────────┴───┴──────────────┴──────────────┴──────────────┴──────────────┘\n"
     ]
    }
   ],
   "source": [
    "print(df1)"
   ]
  },
  {
   "cell_type": "markdown",
   "id": "7ed2f8f1-d07b-454a-b89d-6db9e08da9f6",
   "metadata": {
    "tags": []
   },
   "source": [
    "La forma recomendada de leer un archivo parquet cuando existan varios archivos parquet en una sola carpeta es utilizar el parámetro `use_pyarrow=True`. El propio Polars en su documentación expresa que esta opción es más estable que la que la opción de parquet reader que trae Rust que es la opción por defecto."
   ]
  },
  {
   "cell_type": "code",
   "execution_count": 6,
   "id": "e8e43809-8768-4104-ba68-8c4cc459145b",
   "metadata": {
    "tags": []
   },
   "outputs": [],
   "source": [
    "df2 = pl.read_parquet('./data/multi_parquet/', use_pyarrow=True)"
   ]
  },
  {
   "cell_type": "code",
   "execution_count": 7,
   "id": "d8ab4a6a-be27-4deb-84c5-dcd687f3b508",
   "metadata": {
    "tags": []
   },
   "outputs": [
    {
     "name": "stdout",
     "output_type": "stream",
     "text": [
      "shape: (898_505, 30)\n",
      "┌──────┬───────┬─────┬─────────────┬───┬──────────────┬──────────────┬──────────────┬──────────────┐\n",
      "│ YEAR ┆ MONTH ┆ DAY ┆ DAY_OF_WEEK ┆ … ┆ SECURITY_DEL ┆ AIRLINE_DELA ┆ LATE_AIRCRAF ┆ WEATHER_DELA │\n",
      "│ ---  ┆ ---   ┆ --- ┆ ---         ┆   ┆ AY           ┆ Y            ┆ T_DELAY      ┆ Y            │\n",
      "│ i32  ┆ i32   ┆ i32 ┆ i32         ┆   ┆ ---          ┆ ---          ┆ ---          ┆ ---          │\n",
      "│      ┆       ┆     ┆             ┆   ┆ i32          ┆ i32          ┆ i32          ┆ i32          │\n",
      "╞══════╪═══════╪═════╪═════════════╪═══╪══════════════╪══════════════╪══════════════╪══════════════╡\n",
      "│ 2015 ┆ 1     ┆ 1   ┆ 4           ┆ … ┆ null         ┆ null         ┆ null         ┆ null         │\n",
      "│ 2015 ┆ 10    ┆ 25  ┆ 7           ┆ … ┆ null         ┆ null         ┆ null         ┆ null         │\n",
      "│ 2015 ┆ 1     ┆ 1   ┆ 4           ┆ … ┆ null         ┆ null         ┆ null         ┆ null         │\n",
      "│ 2015 ┆ 10    ┆ 25  ┆ 7           ┆ … ┆ null         ┆ null         ┆ null         ┆ null         │\n",
      "│ 2015 ┆ 1     ┆ 1   ┆ 4           ┆ … ┆ null         ┆ null         ┆ null         ┆ null         │\n",
      "│ …    ┆ …     ┆ …   ┆ …           ┆ … ┆ …            ┆ …            ┆ …            ┆ …            │\n",
      "│ 2015 ┆ 5     ┆ 31  ┆ 7           ┆ … ┆ null         ┆ null         ┆ null         ┆ null         │\n",
      "│ 2015 ┆ 5     ┆ 31  ┆ 7           ┆ … ┆ null         ┆ null         ┆ null         ┆ null         │\n",
      "│ 2015 ┆ 5     ┆ 31  ┆ 7           ┆ … ┆ null         ┆ null         ┆ null         ┆ null         │\n",
      "│ 2015 ┆ 5     ┆ 31  ┆ 7           ┆ … ┆ null         ┆ null         ┆ null         ┆ null         │\n",
      "│ 2015 ┆ 5     ┆ 31  ┆ 7           ┆ … ┆ null         ┆ null         ┆ null         ┆ null         │\n",
      "└──────┴───────┴─────┴─────────────┴───┴──────────────┴──────────────┴──────────────┴──────────────┘\n"
     ]
    }
   ],
   "source": [
    "print(df2)"
   ]
  },
  {
   "cell_type": "markdown",
   "id": "adb0e56c-b97e-42a6-a138-e77220152e44",
   "metadata": {},
   "source": [
    "### Leer un archivo parquet que esté particionado.\n",
    "Aquí volvemos a usar el parámetro `use_pyarrow=True`."
   ]
  },
  {
   "cell_type": "code",
   "execution_count": 8,
   "id": "0c263dcc-3656-4c16-8849-635afb75012e",
   "metadata": {
    "tags": []
   },
   "outputs": [],
   "source": [
    "df3 = pl.read_parquet('./data/vuelos/', use_pyarrow=True)"
   ]
  },
  {
   "cell_type": "code",
   "execution_count": 9,
   "id": "fdcb1c56-5731-4047-8d1b-4cdb9259359a",
   "metadata": {
    "tags": []
   },
   "outputs": [
    {
     "name": "stdout",
     "output_type": "stream",
     "text": [
      "shape: (5_819_079, 31)\n",
      "┌──────┬───────┬─────┬─────────────┬───┬───────────────┬─────────────────┬───────────────┬─────────┐\n",
      "│ YEAR ┆ MONTH ┆ DAY ┆ DAY_OF_WEEK ┆ … ┆ AIRLINE_DELAY ┆ LATE_AIRCRAFT_D ┆ WEATHER_DELAY ┆ AIRLINE │\n",
      "│ ---  ┆ ---   ┆ --- ┆ ---         ┆   ┆ ---           ┆ ELAY            ┆ ---           ┆ ---     │\n",
      "│ i32  ┆ i32   ┆ i32 ┆ i32         ┆   ┆ i32           ┆ ---             ┆ i32           ┆ cat     │\n",
      "│      ┆       ┆     ┆             ┆   ┆               ┆ i32             ┆               ┆         │\n",
      "╞══════╪═══════╪═════╪═════════════╪═══╪═══════════════╪═════════════════╪═══════════════╪═════════╡\n",
      "│ 2015 ┆ 1     ┆ 1   ┆ 4           ┆ … ┆ null          ┆ null            ┆ null          ┆ AA      │\n",
      "│ 2015 ┆ 10    ┆ 25  ┆ 7           ┆ … ┆ null          ┆ null            ┆ null          ┆ AA      │\n",
      "│ 2015 ┆ 1     ┆ 1   ┆ 4           ┆ … ┆ null          ┆ null            ┆ null          ┆ AA      │\n",
      "│ 2015 ┆ 10    ┆ 25  ┆ 7           ┆ … ┆ null          ┆ null            ┆ null          ┆ AA      │\n",
      "│ 2015 ┆ 1     ┆ 1   ┆ 4           ┆ … ┆ null          ┆ null            ┆ null          ┆ AA      │\n",
      "│ …    ┆ …     ┆ …   ┆ …           ┆ … ┆ …             ┆ …               ┆ …             ┆ …       │\n",
      "│ 2015 ┆ 10    ┆ 25  ┆ 7           ┆ … ┆ null          ┆ null            ┆ null          ┆ WN      │\n",
      "│ 2015 ┆ 10    ┆ 25  ┆ 7           ┆ … ┆ null          ┆ null            ┆ null          ┆ WN      │\n",
      "│ 2015 ┆ 10    ┆ 25  ┆ 7           ┆ … ┆ null          ┆ null            ┆ null          ┆ WN      │\n",
      "│ 2015 ┆ 10    ┆ 25  ┆ 7           ┆ … ┆ null          ┆ null            ┆ null          ┆ WN      │\n",
      "│ 2015 ┆ 10    ┆ 25  ┆ 7           ┆ … ┆ null          ┆ null            ┆ null          ┆ WN      │\n",
      "└──────┴───────┴─────┴─────────────┴───┴───────────────┴─────────────────┴───────────────┴─────────┘\n"
     ]
    }
   ],
   "source": [
    "print(df3)"
   ]
  },
  {
   "cell_type": "markdown",
   "id": "4d35e841-ec10-4ff0-bdba-4c0e27930547",
   "metadata": {},
   "source": [
    "### Seleccionar solo un conjunto de columnas del archivo parquet\n",
    "Si deseamos seleccionar un conjunto de columnas del archivo parquet que vamos a leer debemos usar el parámetro `columns`."
   ]
  },
  {
   "cell_type": "code",
   "execution_count": 10,
   "id": "9f25981c-8805-4377-91f6-1882be915159",
   "metadata": {
    "tags": []
   },
   "outputs": [
    {
     "name": "stdout",
     "output_type": "stream",
     "text": [
      "shape: (5_819_079, 3)\n",
      "┌──────┬───────┬─────┐\n",
      "│ YEAR ┆ MONTH ┆ DAY │\n",
      "│ ---  ┆ ---   ┆ --- │\n",
      "│ i32  ┆ i32   ┆ i32 │\n",
      "╞══════╪═══════╪═════╡\n",
      "│ 2015 ┆ 1     ┆ 1   │\n",
      "│ 2015 ┆ 10    ┆ 25  │\n",
      "│ 2015 ┆ 1     ┆ 1   │\n",
      "│ 2015 ┆ 10    ┆ 25  │\n",
      "│ 2015 ┆ 1     ┆ 1   │\n",
      "│ …    ┆ …     ┆ …   │\n",
      "│ 2015 ┆ 10    ┆ 25  │\n",
      "│ 2015 ┆ 10    ┆ 25  │\n",
      "│ 2015 ┆ 10    ┆ 25  │\n",
      "│ 2015 ┆ 10    ┆ 25  │\n",
      "│ 2015 ┆ 10    ┆ 25  │\n",
      "└──────┴───────┴─────┘\n"
     ]
    }
   ],
   "source": [
    "df4 = pl.read_parquet('./data/vuelos/', use_pyarrow=True, columns=['YEAR', 'MONTH', 'DAY'])\n",
    "\n",
    "print(df4)"
   ]
  },
  {
   "cell_type": "markdown",
   "id": "c4bcb8b2-3dbd-487a-a611-429c7a966811",
   "metadata": {},
   "source": [
    "## `scan_parquet`\n",
    "\n",
    "Lee de forma laizy desde un archivo(o archivos) parquet. Estos archivos pueden estar alojados localmente o en la nube. Esta función permite que el optimizador de consultas baje los predicados y las proyecciones al nivel del escaneo, lo que generalmente aumenta el rendimiento y reduce la sobrecarga de memoria."
   ]
  },
  {
   "cell_type": "code",
   "execution_count": 11,
   "id": "1bbb4dc1-ba15-4028-83c0-de90b94d947a",
   "metadata": {
    "tags": []
   },
   "outputs": [
    {
     "name": "stdout",
     "output_type": "stream",
     "text": [
      "shape: (898_505, 30)\n",
      "┌──────┬───────┬─────┬─────────────┬───┬──────────────┬──────────────┬──────────────┬──────────────┐\n",
      "│ YEAR ┆ MONTH ┆ DAY ┆ DAY_OF_WEEK ┆ … ┆ SECURITY_DEL ┆ AIRLINE_DELA ┆ LATE_AIRCRAF ┆ WEATHER_DELA │\n",
      "│ ---  ┆ ---   ┆ --- ┆ ---         ┆   ┆ AY           ┆ Y            ┆ T_DELAY      ┆ Y            │\n",
      "│ i32  ┆ i32   ┆ i32 ┆ i32         ┆   ┆ ---          ┆ ---          ┆ ---          ┆ ---          │\n",
      "│      ┆       ┆     ┆             ┆   ┆ i32          ┆ i32          ┆ i32          ┆ i32          │\n",
      "╞══════╪═══════╪═════╪═════════════╪═══╪══════════════╪══════════════╪══════════════╪══════════════╡\n",
      "│ 2015 ┆ 1     ┆ 1   ┆ 4           ┆ … ┆ null         ┆ null         ┆ null         ┆ null         │\n",
      "│ 2015 ┆ 10    ┆ 25  ┆ 7           ┆ … ┆ null         ┆ null         ┆ null         ┆ null         │\n",
      "│ 2015 ┆ 1     ┆ 1   ┆ 4           ┆ … ┆ null         ┆ null         ┆ null         ┆ null         │\n",
      "│ 2015 ┆ 10    ┆ 25  ┆ 7           ┆ … ┆ null         ┆ null         ┆ null         ┆ null         │\n",
      "│ 2015 ┆ 1     ┆ 1   ┆ 4           ┆ … ┆ null         ┆ null         ┆ null         ┆ null         │\n",
      "│ …    ┆ …     ┆ …   ┆ …           ┆ … ┆ …            ┆ …            ┆ …            ┆ …            │\n",
      "│ 2015 ┆ 5     ┆ 31  ┆ 7           ┆ … ┆ null         ┆ null         ┆ null         ┆ null         │\n",
      "│ 2015 ┆ 5     ┆ 31  ┆ 7           ┆ … ┆ null         ┆ null         ┆ null         ┆ null         │\n",
      "│ 2015 ┆ 5     ┆ 31  ┆ 7           ┆ … ┆ null         ┆ null         ┆ null         ┆ null         │\n",
      "│ 2015 ┆ 5     ┆ 31  ┆ 7           ┆ … ┆ null         ┆ null         ┆ null         ┆ null         │\n",
      "│ 2015 ┆ 5     ┆ 31  ┆ 7           ┆ … ┆ null         ┆ null         ┆ null         ┆ null         │\n",
      "└──────┴───────┴─────┴─────────────┴───┴──────────────┴──────────────┴──────────────┴──────────────┘\n"
     ]
    }
   ],
   "source": [
    "df5 = pl.scan_parquet('./data/multi_parquet/*.parquet')\n",
    "\n",
    "print(df5.collect())"
   ]
  },
  {
   "cell_type": "markdown",
   "id": "e52745a6-1410-4849-a129-51cffc2f4fe9",
   "metadata": {},
   "source": [
    "## `read_parquet_schema`\n",
    "\n",
    "Con esta función obtendremos un diccionario con el schema del archivo parquet sin necesidad de leerlo."
   ]
  },
  {
   "cell_type": "code",
   "execution_count": 12,
   "id": "90009a79-8872-45a4-9cc9-69eb9dd332aa",
   "metadata": {
    "tags": []
   },
   "outputs": [
    {
     "data": {
      "text/plain": [
       "{'video_id': String,\n",
       " 'trending_date': String,\n",
       " 'title': String,\n",
       " 'channel_title': String,\n",
       " 'category_id': String,\n",
       " 'publish_time': Datetime(time_unit='ns', time_zone=None),\n",
       " 'tags': String,\n",
       " 'views': Int32,\n",
       " 'likes': Int32,\n",
       " 'dislikes': Int32,\n",
       " 'comment_count': Int32,\n",
       " 'thumbnail_link': String,\n",
       " 'comments_disabled': String,\n",
       " 'ratings_disabled': String,\n",
       " 'video_error_or_removed': String,\n",
       " 'description': String}"
      ]
     },
     "execution_count": 12,
     "metadata": {},
     "output_type": "execute_result"
    }
   ],
   "source": [
    "schema = pl.read_parquet_schema('./data/parquet/datos.parquet')\n",
    "\n",
    "schema"
   ]
  },
  {
   "cell_type": "markdown",
   "id": "60b9944b-8c12-444b-b131-ee09451d78f7",
   "metadata": {},
   "source": [
    "## `write_parquet`\n",
    "\n",
    "Con esta función escribiremos un archivo parquet. Para este ejemplo usaremos el parámetro `use_pyarrow=True` lo cual utilizará la implementación de parquet C++ en vez de la implementación de parquet Rust."
   ]
  },
  {
   "cell_type": "code",
   "execution_count": 13,
   "id": "b29f5b1f-8e4b-41e1-bdb1-469d6ac92d3b",
   "metadata": {
    "tags": []
   },
   "outputs": [],
   "source": [
    "df.write_parquet('./data/salida.parquet', use_pyarrow=True)"
   ]
  },
  {
   "cell_type": "markdown",
   "id": "80d297b4-0330-4bf0-be83-66f3a1321cf7",
   "metadata": {},
   "source": [
    "A continuación vamos a escribir un parquet particionado, para ello vamos a utilizar el `df3` que previamente hemos creado y lo escribiremos particionado por la columna `MONTH`. Por último, cambiaremos el formato de compresión a snappy con el parámetro `compression='snappy'`.\n",
    "\n",
    "Respecto a la compresión en su documentación Polars nos dice lo siguiente:\n",
    "- Seleccionar `zstd` (opción por defecto) par un un buen desempeño de compresión.\n",
    "- Seleccionar `lz4` para una rápida compresión/descompresión.\n",
    "- Seleccionar `snappy` para garantizar una mayor compatibilidad con lectores de parquet más antigüos"
   ]
  },
  {
   "cell_type": "code",
   "execution_count": 14,
   "id": "ad38b621-fb87-4827-978e-2a6836d3e7a0",
   "metadata": {
    "tags": []
   },
   "outputs": [],
   "source": [
    "df3.write_parquet(\n",
    "    './data/salida_particionada',\n",
    "    use_pyarrow=True,\n",
    "    pyarrow_options={\"partition_cols\": ['MONTH']},\n",
    "    compression='snappy'\n",
    ")"
   ]
  },
  {
   "cell_type": "markdown",
   "id": "c77dcccf-fea6-45a1-9a38-5f0fd7c10b05",
   "metadata": {},
   "source": [
    "## `sink_parquet`\n",
    "\n",
    "Esta función nos permitirá evaluar la query que define al lazyframe y escribirla en un archivo parquet. Esto permite que los resultados que sean más grandes que la memoria RAM puedan ser escribidos en disco."
   ]
  },
  {
   "cell_type": "code",
   "execution_count": 15,
   "id": "ff43b447-3dd1-4441-80e9-da2e44370bb5",
   "metadata": {
    "tags": []
   },
   "outputs": [],
   "source": [
    "df5.sink_parquet('./data/salida_lazy.parquet')"
   ]
  }
 ],
 "metadata": {
  "kernelspec": {
   "display_name": "Python 3 (ipykernel)",
   "language": "python",
   "name": "python3"
  },
  "language_info": {
   "codemirror_mode": {
    "name": "ipython",
    "version": 3
   },
   "file_extension": ".py",
   "mimetype": "text/x-python",
   "name": "python",
   "nbconvert_exporter": "python",
   "pygments_lexer": "ipython3",
   "version": "3.9.6"
  }
 },
 "nbformat": 4,
 "nbformat_minor": 5
}
