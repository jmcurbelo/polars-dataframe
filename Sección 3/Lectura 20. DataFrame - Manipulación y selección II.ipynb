{
 "cells": [
  {
   "cell_type": "markdown",
   "id": "04b9855f-cef5-4acf-a3cf-118a1a910c1e",
   "metadata": {},
   "source": [
    "# Lectura 20: DataFrame - Manipulación y selección II"
   ]
  },
  {
   "cell_type": "code",
   "execution_count": null,
   "id": "7e493e78-bebe-485d-8040-efa820cfaada",
   "metadata": {},
   "outputs": [],
   "source": []
  }
 ],
 "metadata": {
  "kernelspec": {
   "display_name": "Python 3 (ipykernel)",
   "language": "python",
   "name": "python3"
  },
  "language_info": {
   "codemirror_mode": {
    "name": "ipython",
    "version": 3
   },
   "file_extension": ".py",
   "mimetype": "text/x-python",
   "name": "python",
   "nbconvert_exporter": "python",
   "pygments_lexer": "ipython3",
   "version": "3.9.6"
  }
 },
 "nbformat": 4,
 "nbformat_minor": 5
}
