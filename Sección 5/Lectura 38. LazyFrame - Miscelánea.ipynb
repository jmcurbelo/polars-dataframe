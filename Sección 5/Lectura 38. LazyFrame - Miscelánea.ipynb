{
 "cells": [
  {
   "cell_type": "markdown",
   "id": "d56a64d2-ee59-4d28-a03f-f3e777258610",
   "metadata": {},
   "source": [
    "# Lectura 38: LazyFrame - Miscelánea"
   ]
  },
  {
   "cell_type": "code",
   "execution_count": null,
   "id": "68f7488d-8337-4ef6-82a8-01b05f5c11c7",
   "metadata": {},
   "outputs": [],
   "source": []
  }
 ],
 "metadata": {
  "kernelspec": {
   "display_name": "Python 3 (ipykernel)",
   "language": "python",
   "name": "python3"
  },
  "language_info": {
   "codemirror_mode": {
    "name": "ipython",
    "version": 3
   },
   "file_extension": ".py",
   "mimetype": "text/x-python",
   "name": "python",
   "nbconvert_exporter": "python",
   "pygments_lexer": "ipython3",
   "version": "3.8.13"
  }
 },
 "nbformat": 4,
 "nbformat_minor": 5
}
