{
 "cells": [
  {
   "cell_type": "markdown",
   "id": "d56a64d2-ee59-4d28-a03f-f3e777258610",
   "metadata": {},
   "source": [
    "# Lectura 38: LazyFrame - Miscelánea"
   ]
  },
  {
   "cell_type": "markdown",
   "id": "2f03766f-4e68-42de-99f8-87423d9a85d4",
   "metadata": {},
   "source": [
    "## `map_batches`\n",
    "\n",
    "Esta función permite aplicar una función personalizada a un LazyFrame. Es importante que la función personalizada devuelva un DataFrame de Polars."
   ]
  },
  {
   "cell_type": "code",
   "execution_count": null,
   "id": "286345e3-f285-49e3-8e02-fc01aadb7dee",
   "metadata": {},
   "outputs": [],
   "source": [
    "import polars as pl\n",
    "from polars import col\n",
    "\n",
    "vuelos_lz = (\n",
    "    pl.scan_parquet('./data/vuelos/vuelos.parquet')\n",
    ")"
   ]
  },
  {
   "cell_type": "code",
   "execution_count": null,
   "id": "a88dea83-92b3-4b01-b7de-9bc2c88fa804",
   "metadata": {},
   "outputs": [],
   "source": [
    "(\n",
    "    vuelos_lz.select(\n",
    "        col('AIR_TIME'),\n",
    "        col('DEPARTURE_DELAY')\n",
    "    )\n",
    "    .map_batches(lambda c: (c / 60).cast(pl.Int32))\n",
    "    .collect()  \n",
    ")   "
   ]
  },
  {
   "cell_type": "markdown",
   "id": "8694a10c-d082-4607-98eb-b53fa9949ae8",
   "metadata": {},
   "source": [
    "## `pipe`\n",
    "\n",
    "Esta función ofrece una forma estructurada de aplicar una secuencia de funciones definidas por el usuario (UDF)."
   ]
  },
  {
   "cell_type": "code",
   "execution_count": null,
   "id": "3b6b98f9-5d3b-427e-bf74-f416a9e52b55",
   "metadata": {},
   "outputs": [],
   "source": [
    "def fill_null_int_str(data, col_name):\n",
    "    \n",
    "    if str(data.select(col_name).dtypes[0]) == 'String':\n",
    "        \n",
    "        return data.fill_null('LOST')\n",
    "    \n",
    "    else:\n",
    "        \n",
    "        return data.fill_null(-999)"
   ]
  },
  {
   "cell_type": "code",
   "execution_count": null,
   "id": "93c1aeaf-a753-4339-a99d-d8d0acc40388",
   "metadata": {},
   "outputs": [],
   "source": [
    "vuelos_lz.pipe(fill_null_int_str, 'CANCELLATION_REASON', ).collect()"
   ]
  },
  {
   "cell_type": "code",
   "execution_count": null,
   "id": "81f186c8-4189-43a9-a102-c173aa696501",
   "metadata": {},
   "outputs": [],
   "source": [
    "vuelos_lz.pipe(fill_null_int_str, 'WEATHER_DELAY').collect()"
   ]
  },
  {
   "cell_type": "markdown",
   "id": "9d63a677-009f-4cf6-8cfd-55c6e9beebe3",
   "metadata": {},
   "source": [
    "## `profile`\n",
    "\n",
    "Esta función perfila un LazyFrame, es decir, ejecutará la consulta y devolverá una tupla que contiene el DataFrame materializado y un DataFrame que contiene información de perfil de cada nodo que se ejecuta. Las unidades de los tiempos son microsegundos.\n",
    "\n",
    "Con el parámetro `show_plot=True` mostraremos un diagrama de Gantt del resultado del perfilado."
   ]
  },
  {
   "cell_type": "code",
   "execution_count": null,
   "id": "0861feb1-3e6d-45dc-b344-969a09423701",
   "metadata": {},
   "outputs": [],
   "source": [
    "query_pf = vuelos_lz.group_by('AIRLINE').agg(\n",
    "    SUM_AIR_TIME=col('AIR_TIME').sum()\n",
    ").sort('SUM_AIR_TIME', descending=True)\n",
    "\n",
    "query_pf.profile(show_plot=True)"
   ]
  },
  {
   "cell_type": "markdown",
   "id": "f5be38e9-693a-40a6-9224-d17e76674187",
   "metadata": {},
   "source": [
    "## `serialize y deserialize`\n",
    "\n",
    "Estas funciones nos permitirán serializar y deserializar el plan lógico de un LazyFrame."
   ]
  },
  {
   "cell_type": "code",
   "execution_count": null,
   "id": "d85426a9-d8d6-46c8-88dc-c3a79db05297",
   "metadata": {},
   "outputs": [],
   "source": [
    "query_pf.serialize('./output.txt')"
   ]
  },
  {
   "cell_type": "code",
   "execution_count": null,
   "id": "1f140933-de7f-45da-9048-99b05fd82b78",
   "metadata": {},
   "outputs": [],
   "source": [
    "import io\n",
    "\n",
    "# Abrimos el archivo en modo binario\n",
    "with open(\"output.txt\", \"rb\") as file_object:\n",
    "    \n",
    "    # Leemos el contenido del archivo entero como bytes\n",
    "    data = file_object.read()\n",
    "\n",
    "# Creamos un objeto de tipo BytesIO a partir de los datos binarios\n",
    "query = io.BytesIO(data)\n",
    "\n",
    "pl.LazyFrame.deserialize(query).collect()"
   ]
  }
 ],
 "metadata": {
  "kernelspec": {
   "display_name": "Python 3 (ipykernel)",
   "language": "python",
   "name": "python3"
  },
  "language_info": {
   "codemirror_mode": {
    "name": "ipython",
    "version": 3
   },
   "file_extension": ".py",
   "mimetype": "text/x-python",
   "name": "python",
   "nbconvert_exporter": "python",
   "pygments_lexer": "ipython3",
   "version": "3.8.13"
  }
 },
 "nbformat": 4,
 "nbformat_minor": 5
}
