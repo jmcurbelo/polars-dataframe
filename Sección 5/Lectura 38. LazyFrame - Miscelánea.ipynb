{
 "cells": [
  {
   "cell_type": "markdown",
   "id": "d56a64d2-ee59-4d28-a03f-f3e777258610",
   "metadata": {},
   "source": [
    "# Lectura 38: LazyFrame - Miscelánea"
   ]
  },
  {
   "cell_type": "markdown",
   "id": "2f03766f-4e68-42de-99f8-87423d9a85d4",
   "metadata": {},
   "source": [
    "## `map_batches`\n",
    "\n",
    "Esta función permite aplicar una función personalizada a un LazyFrame. Es importante que la función personalizada devuelva un DataFrame de Polars."
   ]
  },
  {
   "cell_type": "code",
   "execution_count": 1,
   "id": "286345e3-f285-49e3-8e02-fc01aadb7dee",
   "metadata": {
    "tags": []
   },
   "outputs": [],
   "source": [
    "import polars as pl\n",
    "from polars import col\n",
    "\n",
    "vuelos_lz = (\n",
    "    pl.scan_parquet('./data/vuelos/vuelos.parquet')\n",
    ")"
   ]
  },
  {
   "cell_type": "code",
   "execution_count": 2,
   "id": "a88dea83-92b3-4b01-b7de-9bc2c88fa804",
   "metadata": {},
   "outputs": [
    {
     "data": {
      "text/html": [
       "<div><style>\n",
       ".dataframe > thead > tr,\n",
       ".dataframe > tbody > tr {\n",
       "  text-align: right;\n",
       "  white-space: pre-wrap;\n",
       "}\n",
       "</style>\n",
       "<small>shape: (5_819_079, 2)</small><table border=\"1\" class=\"dataframe\"><thead><tr><th>AIR_TIME</th><th>DEPARTURE_DELAY</th></tr><tr><td>i32</td><td>i32</td></tr></thead><tbody><tr><td>2</td><td>0</td></tr><tr><td>4</td><td>0</td></tr><tr><td>4</td><td>0</td></tr><tr><td>4</td><td>0</td></tr><tr><td>3</td><td>0</td></tr><tr><td>&hellip;</td><td>&hellip;</td></tr><tr><td>4</td><td>0</td></tr><tr><td>3</td><td>0</td></tr><tr><td>3</td><td>0</td></tr><tr><td>2</td><td>0</td></tr><tr><td>3</td><td>0</td></tr></tbody></table></div>"
      ],
      "text/plain": [
       "shape: (5_819_079, 2)\n",
       "┌──────────┬─────────────────┐\n",
       "│ AIR_TIME ┆ DEPARTURE_DELAY │\n",
       "│ ---      ┆ ---             │\n",
       "│ i32      ┆ i32             │\n",
       "╞══════════╪═════════════════╡\n",
       "│ 2        ┆ 0               │\n",
       "│ 4        ┆ 0               │\n",
       "│ 4        ┆ 0               │\n",
       "│ 4        ┆ 0               │\n",
       "│ 3        ┆ 0               │\n",
       "│ …        ┆ …               │\n",
       "│ 4        ┆ 0               │\n",
       "│ 3        ┆ 0               │\n",
       "│ 3        ┆ 0               │\n",
       "│ 2        ┆ 0               │\n",
       "│ 3        ┆ 0               │\n",
       "└──────────┴─────────────────┘"
      ]
     },
     "execution_count": 2,
     "metadata": {},
     "output_type": "execute_result"
    }
   ],
   "source": [
    "(\n",
    "    vuelos_lz.select(\n",
    "        col('AIR_TIME'),\n",
    "        col('DEPARTURE_DELAY')\n",
    "    )\n",
    "    .map_batches(lambda c: (c / 60).cast(pl.Int32))\n",
    "    .collect()  \n",
    ")   "
   ]
  },
  {
   "cell_type": "markdown",
   "id": "8694a10c-d082-4607-98eb-b53fa9949ae8",
   "metadata": {},
   "source": [
    "## `pipe`\n",
    "\n",
    "Esta función ofrece una forma estructurada de aplicar una secuencia de funciones definidas por el usuario (UDF)."
   ]
  },
  {
   "cell_type": "code",
   "execution_count": 3,
   "id": "3b6b98f9-5d3b-427e-bf74-f416a9e52b55",
   "metadata": {},
   "outputs": [],
   "source": [
    "def fill_null_int_str(data, col_name):\n",
    "    \n",
    "    if str(data.select(col_name).dtypes[0]) == 'String':\n",
    "        \n",
    "        return data.fill_null('LOST')\n",
    "    \n",
    "    else:\n",
    "        \n",
    "        return data.fill_null(-999)"
   ]
  },
  {
   "cell_type": "code",
   "execution_count": 4,
   "id": "93c1aeaf-a753-4339-a99d-d8d0acc40388",
   "metadata": {},
   "outputs": [
    {
     "data": {
      "text/html": [
       "<div><style>\n",
       ".dataframe > thead > tr,\n",
       ".dataframe > tbody > tr {\n",
       "  text-align: right;\n",
       "  white-space: pre-wrap;\n",
       "}\n",
       "</style>\n",
       "<small>shape: (5_819_079, 31)</small><table border=\"1\" class=\"dataframe\"><thead><tr><th>YEAR</th><th>MONTH</th><th>DAY</th><th>DAY_OF_WEEK</th><th>AIRLINE</th><th>FLIGHT_NUMBER</th><th>TAIL_NUMBER</th><th>ORIGIN_AIRPORT</th><th>DESTINATION_AIRPORT</th><th>SCHEDULED_DEPARTURE</th><th>DEPARTURE_TIME</th><th>DEPARTURE_DELAY</th><th>TAXI_OUT</th><th>WHEELS_OFF</th><th>SCHEDULED_TIME</th><th>ELAPSED_TIME</th><th>AIR_TIME</th><th>DISTANCE</th><th>WHEELS_ON</th><th>TAXI_IN</th><th>SCHEDULED_ARRIVAL</th><th>ARRIVAL_TIME</th><th>ARRIVAL_DELAY</th><th>DIVERTED</th><th>CANCELLED</th><th>CANCELLATION_REASON</th><th>AIR_SYSTEM_DELAY</th><th>SECURITY_DELAY</th><th>AIRLINE_DELAY</th><th>LATE_AIRCRAFT_DELAY</th><th>WEATHER_DELAY</th></tr><tr><td>i32</td><td>i32</td><td>i32</td><td>i32</td><td>str</td><td>i32</td><td>str</td><td>str</td><td>str</td><td>i32</td><td>i32</td><td>i32</td><td>i32</td><td>i32</td><td>i32</td><td>i32</td><td>i32</td><td>i32</td><td>i32</td><td>i32</td><td>i32</td><td>i32</td><td>i32</td><td>i32</td><td>i32</td><td>str</td><td>i32</td><td>i32</td><td>i32</td><td>i32</td><td>i32</td></tr></thead><tbody><tr><td>2015</td><td>1</td><td>1</td><td>4</td><td>&quot;AS&quot;</td><td>98</td><td>&quot;N407AS&quot;</td><td>&quot;ANC&quot;</td><td>&quot;SEA&quot;</td><td>5</td><td>2354</td><td>-11</td><td>21</td><td>15</td><td>205</td><td>194</td><td>169</td><td>1448</td><td>404</td><td>4</td><td>430</td><td>408</td><td>-22</td><td>0</td><td>0</td><td>&quot;LOST&quot;</td><td>null</td><td>null</td><td>null</td><td>null</td><td>null</td></tr><tr><td>2015</td><td>1</td><td>1</td><td>4</td><td>&quot;AA&quot;</td><td>2336</td><td>&quot;N3KUAA&quot;</td><td>&quot;LAX&quot;</td><td>&quot;PBI&quot;</td><td>10</td><td>2</td><td>-8</td><td>12</td><td>14</td><td>280</td><td>279</td><td>263</td><td>2330</td><td>737</td><td>4</td><td>750</td><td>741</td><td>-9</td><td>0</td><td>0</td><td>&quot;LOST&quot;</td><td>null</td><td>null</td><td>null</td><td>null</td><td>null</td></tr><tr><td>2015</td><td>1</td><td>1</td><td>4</td><td>&quot;US&quot;</td><td>840</td><td>&quot;N171US&quot;</td><td>&quot;SFO&quot;</td><td>&quot;CLT&quot;</td><td>20</td><td>18</td><td>-2</td><td>16</td><td>34</td><td>286</td><td>293</td><td>266</td><td>2296</td><td>800</td><td>11</td><td>806</td><td>811</td><td>5</td><td>0</td><td>0</td><td>&quot;LOST&quot;</td><td>null</td><td>null</td><td>null</td><td>null</td><td>null</td></tr><tr><td>2015</td><td>1</td><td>1</td><td>4</td><td>&quot;AA&quot;</td><td>258</td><td>&quot;N3HYAA&quot;</td><td>&quot;LAX&quot;</td><td>&quot;MIA&quot;</td><td>20</td><td>15</td><td>-5</td><td>15</td><td>30</td><td>285</td><td>281</td><td>258</td><td>2342</td><td>748</td><td>8</td><td>805</td><td>756</td><td>-9</td><td>0</td><td>0</td><td>&quot;LOST&quot;</td><td>null</td><td>null</td><td>null</td><td>null</td><td>null</td></tr><tr><td>2015</td><td>1</td><td>1</td><td>4</td><td>&quot;AS&quot;</td><td>135</td><td>&quot;N527AS&quot;</td><td>&quot;SEA&quot;</td><td>&quot;ANC&quot;</td><td>25</td><td>24</td><td>-1</td><td>11</td><td>35</td><td>235</td><td>215</td><td>199</td><td>1448</td><td>254</td><td>5</td><td>320</td><td>259</td><td>-21</td><td>0</td><td>0</td><td>&quot;LOST&quot;</td><td>null</td><td>null</td><td>null</td><td>null</td><td>null</td></tr><tr><td>&hellip;</td><td>&hellip;</td><td>&hellip;</td><td>&hellip;</td><td>&hellip;</td><td>&hellip;</td><td>&hellip;</td><td>&hellip;</td><td>&hellip;</td><td>&hellip;</td><td>&hellip;</td><td>&hellip;</td><td>&hellip;</td><td>&hellip;</td><td>&hellip;</td><td>&hellip;</td><td>&hellip;</td><td>&hellip;</td><td>&hellip;</td><td>&hellip;</td><td>&hellip;</td><td>&hellip;</td><td>&hellip;</td><td>&hellip;</td><td>&hellip;</td><td>&hellip;</td><td>&hellip;</td><td>&hellip;</td><td>&hellip;</td><td>&hellip;</td><td>&hellip;</td></tr><tr><td>2015</td><td>12</td><td>31</td><td>4</td><td>&quot;B6&quot;</td><td>688</td><td>&quot;N657JB&quot;</td><td>&quot;LAX&quot;</td><td>&quot;BOS&quot;</td><td>2359</td><td>2355</td><td>-4</td><td>22</td><td>17</td><td>320</td><td>298</td><td>272</td><td>2611</td><td>749</td><td>4</td><td>819</td><td>753</td><td>-26</td><td>0</td><td>0</td><td>&quot;LOST&quot;</td><td>null</td><td>null</td><td>null</td><td>null</td><td>null</td></tr><tr><td>2015</td><td>12</td><td>31</td><td>4</td><td>&quot;B6&quot;</td><td>745</td><td>&quot;N828JB&quot;</td><td>&quot;JFK&quot;</td><td>&quot;PSE&quot;</td><td>2359</td><td>2355</td><td>-4</td><td>17</td><td>12</td><td>227</td><td>215</td><td>195</td><td>1617</td><td>427</td><td>3</td><td>446</td><td>430</td><td>-16</td><td>0</td><td>0</td><td>&quot;LOST&quot;</td><td>null</td><td>null</td><td>null</td><td>null</td><td>null</td></tr><tr><td>2015</td><td>12</td><td>31</td><td>4</td><td>&quot;B6&quot;</td><td>1503</td><td>&quot;N913JB&quot;</td><td>&quot;JFK&quot;</td><td>&quot;SJU&quot;</td><td>2359</td><td>2350</td><td>-9</td><td>17</td><td>7</td><td>221</td><td>222</td><td>197</td><td>1598</td><td>424</td><td>8</td><td>440</td><td>432</td><td>-8</td><td>0</td><td>0</td><td>&quot;LOST&quot;</td><td>null</td><td>null</td><td>null</td><td>null</td><td>null</td></tr><tr><td>2015</td><td>12</td><td>31</td><td>4</td><td>&quot;B6&quot;</td><td>333</td><td>&quot;N527JB&quot;</td><td>&quot;MCO&quot;</td><td>&quot;SJU&quot;</td><td>2359</td><td>2353</td><td>-6</td><td>10</td><td>3</td><td>161</td><td>157</td><td>144</td><td>1189</td><td>327</td><td>3</td><td>340</td><td>330</td><td>-10</td><td>0</td><td>0</td><td>&quot;LOST&quot;</td><td>null</td><td>null</td><td>null</td><td>null</td><td>null</td></tr><tr><td>2015</td><td>12</td><td>31</td><td>4</td><td>&quot;B6&quot;</td><td>839</td><td>&quot;N534JB&quot;</td><td>&quot;JFK&quot;</td><td>&quot;BQN&quot;</td><td>2359</td><td>14</td><td>15</td><td>14</td><td>28</td><td>221</td><td>208</td><td>189</td><td>1576</td><td>437</td><td>5</td><td>440</td><td>442</td><td>2</td><td>0</td><td>0</td><td>&quot;LOST&quot;</td><td>null</td><td>null</td><td>null</td><td>null</td><td>null</td></tr></tbody></table></div>"
      ],
      "text/plain": [
       "shape: (5_819_079, 31)\n",
       "┌──────┬───────┬─────┬─────────────┬───┬──────────────┬──────────────┬──────────────┬──────────────┐\n",
       "│ YEAR ┆ MONTH ┆ DAY ┆ DAY_OF_WEEK ┆ … ┆ SECURITY_DEL ┆ AIRLINE_DELA ┆ LATE_AIRCRAF ┆ WEATHER_DELA │\n",
       "│ ---  ┆ ---   ┆ --- ┆ ---         ┆   ┆ AY           ┆ Y            ┆ T_DELAY      ┆ Y            │\n",
       "│ i32  ┆ i32   ┆ i32 ┆ i32         ┆   ┆ ---          ┆ ---          ┆ ---          ┆ ---          │\n",
       "│      ┆       ┆     ┆             ┆   ┆ i32          ┆ i32          ┆ i32          ┆ i32          │\n",
       "╞══════╪═══════╪═════╪═════════════╪═══╪══════════════╪══════════════╪══════════════╪══════════════╡\n",
       "│ 2015 ┆ 1     ┆ 1   ┆ 4           ┆ … ┆ null         ┆ null         ┆ null         ┆ null         │\n",
       "│ 2015 ┆ 1     ┆ 1   ┆ 4           ┆ … ┆ null         ┆ null         ┆ null         ┆ null         │\n",
       "│ 2015 ┆ 1     ┆ 1   ┆ 4           ┆ … ┆ null         ┆ null         ┆ null         ┆ null         │\n",
       "│ 2015 ┆ 1     ┆ 1   ┆ 4           ┆ … ┆ null         ┆ null         ┆ null         ┆ null         │\n",
       "│ 2015 ┆ 1     ┆ 1   ┆ 4           ┆ … ┆ null         ┆ null         ┆ null         ┆ null         │\n",
       "│ …    ┆ …     ┆ …   ┆ …           ┆ … ┆ …            ┆ …            ┆ …            ┆ …            │\n",
       "│ 2015 ┆ 12    ┆ 31  ┆ 4           ┆ … ┆ null         ┆ null         ┆ null         ┆ null         │\n",
       "│ 2015 ┆ 12    ┆ 31  ┆ 4           ┆ … ┆ null         ┆ null         ┆ null         ┆ null         │\n",
       "│ 2015 ┆ 12    ┆ 31  ┆ 4           ┆ … ┆ null         ┆ null         ┆ null         ┆ null         │\n",
       "│ 2015 ┆ 12    ┆ 31  ┆ 4           ┆ … ┆ null         ┆ null         ┆ null         ┆ null         │\n",
       "│ 2015 ┆ 12    ┆ 31  ┆ 4           ┆ … ┆ null         ┆ null         ┆ null         ┆ null         │\n",
       "└──────┴───────┴─────┴─────────────┴───┴──────────────┴──────────────┴──────────────┴──────────────┘"
      ]
     },
     "execution_count": 4,
     "metadata": {},
     "output_type": "execute_result"
    }
   ],
   "source": [
    "vuelos_lz.pipe(fill_null_int_str, 'CANCELLATION_REASON', ).collect()"
   ]
  },
  {
   "cell_type": "code",
   "execution_count": 5,
   "id": "81f186c8-4189-43a9-a102-c173aa696501",
   "metadata": {},
   "outputs": [
    {
     "data": {
      "text/html": [
       "<div><style>\n",
       ".dataframe > thead > tr,\n",
       ".dataframe > tbody > tr {\n",
       "  text-align: right;\n",
       "  white-space: pre-wrap;\n",
       "}\n",
       "</style>\n",
       "<small>shape: (5_819_079, 31)</small><table border=\"1\" class=\"dataframe\"><thead><tr><th>YEAR</th><th>MONTH</th><th>DAY</th><th>DAY_OF_WEEK</th><th>AIRLINE</th><th>FLIGHT_NUMBER</th><th>TAIL_NUMBER</th><th>ORIGIN_AIRPORT</th><th>DESTINATION_AIRPORT</th><th>SCHEDULED_DEPARTURE</th><th>DEPARTURE_TIME</th><th>DEPARTURE_DELAY</th><th>TAXI_OUT</th><th>WHEELS_OFF</th><th>SCHEDULED_TIME</th><th>ELAPSED_TIME</th><th>AIR_TIME</th><th>DISTANCE</th><th>WHEELS_ON</th><th>TAXI_IN</th><th>SCHEDULED_ARRIVAL</th><th>ARRIVAL_TIME</th><th>ARRIVAL_DELAY</th><th>DIVERTED</th><th>CANCELLED</th><th>CANCELLATION_REASON</th><th>AIR_SYSTEM_DELAY</th><th>SECURITY_DELAY</th><th>AIRLINE_DELAY</th><th>LATE_AIRCRAFT_DELAY</th><th>WEATHER_DELAY</th></tr><tr><td>i32</td><td>i32</td><td>i32</td><td>i32</td><td>str</td><td>i32</td><td>str</td><td>str</td><td>str</td><td>i32</td><td>i32</td><td>i32</td><td>i32</td><td>i32</td><td>i32</td><td>i32</td><td>i32</td><td>i32</td><td>i32</td><td>i32</td><td>i32</td><td>i32</td><td>i32</td><td>i32</td><td>i32</td><td>str</td><td>i32</td><td>i32</td><td>i32</td><td>i32</td><td>i32</td></tr></thead><tbody><tr><td>2015</td><td>1</td><td>1</td><td>4</td><td>&quot;AS&quot;</td><td>98</td><td>&quot;N407AS&quot;</td><td>&quot;ANC&quot;</td><td>&quot;SEA&quot;</td><td>5</td><td>2354</td><td>-11</td><td>21</td><td>15</td><td>205</td><td>194</td><td>169</td><td>1448</td><td>404</td><td>4</td><td>430</td><td>408</td><td>-22</td><td>0</td><td>0</td><td>null</td><td>-999</td><td>-999</td><td>-999</td><td>-999</td><td>-999</td></tr><tr><td>2015</td><td>1</td><td>1</td><td>4</td><td>&quot;AA&quot;</td><td>2336</td><td>&quot;N3KUAA&quot;</td><td>&quot;LAX&quot;</td><td>&quot;PBI&quot;</td><td>10</td><td>2</td><td>-8</td><td>12</td><td>14</td><td>280</td><td>279</td><td>263</td><td>2330</td><td>737</td><td>4</td><td>750</td><td>741</td><td>-9</td><td>0</td><td>0</td><td>null</td><td>-999</td><td>-999</td><td>-999</td><td>-999</td><td>-999</td></tr><tr><td>2015</td><td>1</td><td>1</td><td>4</td><td>&quot;US&quot;</td><td>840</td><td>&quot;N171US&quot;</td><td>&quot;SFO&quot;</td><td>&quot;CLT&quot;</td><td>20</td><td>18</td><td>-2</td><td>16</td><td>34</td><td>286</td><td>293</td><td>266</td><td>2296</td><td>800</td><td>11</td><td>806</td><td>811</td><td>5</td><td>0</td><td>0</td><td>null</td><td>-999</td><td>-999</td><td>-999</td><td>-999</td><td>-999</td></tr><tr><td>2015</td><td>1</td><td>1</td><td>4</td><td>&quot;AA&quot;</td><td>258</td><td>&quot;N3HYAA&quot;</td><td>&quot;LAX&quot;</td><td>&quot;MIA&quot;</td><td>20</td><td>15</td><td>-5</td><td>15</td><td>30</td><td>285</td><td>281</td><td>258</td><td>2342</td><td>748</td><td>8</td><td>805</td><td>756</td><td>-9</td><td>0</td><td>0</td><td>null</td><td>-999</td><td>-999</td><td>-999</td><td>-999</td><td>-999</td></tr><tr><td>2015</td><td>1</td><td>1</td><td>4</td><td>&quot;AS&quot;</td><td>135</td><td>&quot;N527AS&quot;</td><td>&quot;SEA&quot;</td><td>&quot;ANC&quot;</td><td>25</td><td>24</td><td>-1</td><td>11</td><td>35</td><td>235</td><td>215</td><td>199</td><td>1448</td><td>254</td><td>5</td><td>320</td><td>259</td><td>-21</td><td>0</td><td>0</td><td>null</td><td>-999</td><td>-999</td><td>-999</td><td>-999</td><td>-999</td></tr><tr><td>&hellip;</td><td>&hellip;</td><td>&hellip;</td><td>&hellip;</td><td>&hellip;</td><td>&hellip;</td><td>&hellip;</td><td>&hellip;</td><td>&hellip;</td><td>&hellip;</td><td>&hellip;</td><td>&hellip;</td><td>&hellip;</td><td>&hellip;</td><td>&hellip;</td><td>&hellip;</td><td>&hellip;</td><td>&hellip;</td><td>&hellip;</td><td>&hellip;</td><td>&hellip;</td><td>&hellip;</td><td>&hellip;</td><td>&hellip;</td><td>&hellip;</td><td>&hellip;</td><td>&hellip;</td><td>&hellip;</td><td>&hellip;</td><td>&hellip;</td><td>&hellip;</td></tr><tr><td>2015</td><td>12</td><td>31</td><td>4</td><td>&quot;B6&quot;</td><td>688</td><td>&quot;N657JB&quot;</td><td>&quot;LAX&quot;</td><td>&quot;BOS&quot;</td><td>2359</td><td>2355</td><td>-4</td><td>22</td><td>17</td><td>320</td><td>298</td><td>272</td><td>2611</td><td>749</td><td>4</td><td>819</td><td>753</td><td>-26</td><td>0</td><td>0</td><td>null</td><td>-999</td><td>-999</td><td>-999</td><td>-999</td><td>-999</td></tr><tr><td>2015</td><td>12</td><td>31</td><td>4</td><td>&quot;B6&quot;</td><td>745</td><td>&quot;N828JB&quot;</td><td>&quot;JFK&quot;</td><td>&quot;PSE&quot;</td><td>2359</td><td>2355</td><td>-4</td><td>17</td><td>12</td><td>227</td><td>215</td><td>195</td><td>1617</td><td>427</td><td>3</td><td>446</td><td>430</td><td>-16</td><td>0</td><td>0</td><td>null</td><td>-999</td><td>-999</td><td>-999</td><td>-999</td><td>-999</td></tr><tr><td>2015</td><td>12</td><td>31</td><td>4</td><td>&quot;B6&quot;</td><td>1503</td><td>&quot;N913JB&quot;</td><td>&quot;JFK&quot;</td><td>&quot;SJU&quot;</td><td>2359</td><td>2350</td><td>-9</td><td>17</td><td>7</td><td>221</td><td>222</td><td>197</td><td>1598</td><td>424</td><td>8</td><td>440</td><td>432</td><td>-8</td><td>0</td><td>0</td><td>null</td><td>-999</td><td>-999</td><td>-999</td><td>-999</td><td>-999</td></tr><tr><td>2015</td><td>12</td><td>31</td><td>4</td><td>&quot;B6&quot;</td><td>333</td><td>&quot;N527JB&quot;</td><td>&quot;MCO&quot;</td><td>&quot;SJU&quot;</td><td>2359</td><td>2353</td><td>-6</td><td>10</td><td>3</td><td>161</td><td>157</td><td>144</td><td>1189</td><td>327</td><td>3</td><td>340</td><td>330</td><td>-10</td><td>0</td><td>0</td><td>null</td><td>-999</td><td>-999</td><td>-999</td><td>-999</td><td>-999</td></tr><tr><td>2015</td><td>12</td><td>31</td><td>4</td><td>&quot;B6&quot;</td><td>839</td><td>&quot;N534JB&quot;</td><td>&quot;JFK&quot;</td><td>&quot;BQN&quot;</td><td>2359</td><td>14</td><td>15</td><td>14</td><td>28</td><td>221</td><td>208</td><td>189</td><td>1576</td><td>437</td><td>5</td><td>440</td><td>442</td><td>2</td><td>0</td><td>0</td><td>null</td><td>-999</td><td>-999</td><td>-999</td><td>-999</td><td>-999</td></tr></tbody></table></div>"
      ],
      "text/plain": [
       "shape: (5_819_079, 31)\n",
       "┌──────┬───────┬─────┬─────────────┬───┬──────────────┬──────────────┬──────────────┬──────────────┐\n",
       "│ YEAR ┆ MONTH ┆ DAY ┆ DAY_OF_WEEK ┆ … ┆ SECURITY_DEL ┆ AIRLINE_DELA ┆ LATE_AIRCRAF ┆ WEATHER_DELA │\n",
       "│ ---  ┆ ---   ┆ --- ┆ ---         ┆   ┆ AY           ┆ Y            ┆ T_DELAY      ┆ Y            │\n",
       "│ i32  ┆ i32   ┆ i32 ┆ i32         ┆   ┆ ---          ┆ ---          ┆ ---          ┆ ---          │\n",
       "│      ┆       ┆     ┆             ┆   ┆ i32          ┆ i32          ┆ i32          ┆ i32          │\n",
       "╞══════╪═══════╪═════╪═════════════╪═══╪══════════════╪══════════════╪══════════════╪══════════════╡\n",
       "│ 2015 ┆ 1     ┆ 1   ┆ 4           ┆ … ┆ -999         ┆ -999         ┆ -999         ┆ -999         │\n",
       "│ 2015 ┆ 1     ┆ 1   ┆ 4           ┆ … ┆ -999         ┆ -999         ┆ -999         ┆ -999         │\n",
       "│ 2015 ┆ 1     ┆ 1   ┆ 4           ┆ … ┆ -999         ┆ -999         ┆ -999         ┆ -999         │\n",
       "│ 2015 ┆ 1     ┆ 1   ┆ 4           ┆ … ┆ -999         ┆ -999         ┆ -999         ┆ -999         │\n",
       "│ 2015 ┆ 1     ┆ 1   ┆ 4           ┆ … ┆ -999         ┆ -999         ┆ -999         ┆ -999         │\n",
       "│ …    ┆ …     ┆ …   ┆ …           ┆ … ┆ …            ┆ …            ┆ …            ┆ …            │\n",
       "│ 2015 ┆ 12    ┆ 31  ┆ 4           ┆ … ┆ -999         ┆ -999         ┆ -999         ┆ -999         │\n",
       "│ 2015 ┆ 12    ┆ 31  ┆ 4           ┆ … ┆ -999         ┆ -999         ┆ -999         ┆ -999         │\n",
       "│ 2015 ┆ 12    ┆ 31  ┆ 4           ┆ … ┆ -999         ┆ -999         ┆ -999         ┆ -999         │\n",
       "│ 2015 ┆ 12    ┆ 31  ┆ 4           ┆ … ┆ -999         ┆ -999         ┆ -999         ┆ -999         │\n",
       "│ 2015 ┆ 12    ┆ 31  ┆ 4           ┆ … ┆ -999         ┆ -999         ┆ -999         ┆ -999         │\n",
       "└──────┴───────┴─────┴─────────────┴───┴──────────────┴──────────────┴──────────────┴──────────────┘"
      ]
     },
     "execution_count": 5,
     "metadata": {},
     "output_type": "execute_result"
    }
   ],
   "source": [
    "vuelos_lz.pipe(fill_null_int_str, 'WEATHER_DELAY').collect()"
   ]
  },
  {
   "cell_type": "markdown",
   "id": "9d63a677-009f-4cf6-8cfd-55c6e9beebe3",
   "metadata": {},
   "source": [
    "## `profile`\n",
    "\n",
    "Esta función perfila un LazyFrame, es decir, ejecutará la consulta y devolverá una tupla que contiene el DataFrame materializado y un DataFrame que contiene información de perfil de cada nodo que se ejecuta. Las unidades de los tiempos son microsegundos.\n",
    "\n",
    "Con el parámetro `show_plot=True` mostraremos un diagrama de Gantt del resultado del perfilado."
   ]
  },
  {
   "cell_type": "code",
   "execution_count": 6,
   "id": "0861feb1-3e6d-45dc-b344-969a09423701",
   "metadata": {
    "tags": []
   },
   "outputs": [
    {
     "data": {
      "image/png": "[encoded data removed]",
      "text/plain": [
       "<Figure size 1800x800 with 1 Axes>"
      ]
     },
     "metadata": {},
     "output_type": "display_data"
    },
    {
     "data": {
      "text/plain": [
       "(shape: (14, 2)\n",
       " ┌─────────┬──────────────┐\n",
       " │ AIRLINE ┆ SUM_AIR_TIME │\n",
       " │ ---     ┆ ---          │\n",
       " │ str     ┆ i32          │\n",
       " ╞═════════╪══════════════╡\n",
       " │ WN      ┆ 128092352    │\n",
       " │ DL      ┆ 100660665    │\n",
       " │ AA      ┆ 99672739     │\n",
       " │ UA      ┆ 83697399     │\n",
       " │ OO      ┆ 43638869     │\n",
       " │ …       ┆ …            │\n",
       " │ MQ      ┆ 18673318     │\n",
       " │ NK      ┆ 15245550     │\n",
       " │ F9      ┆ 11733373     │\n",
       " │ VX      ┆ 11185771     │\n",
       " │ HA      ┆ 6454460      │\n",
       " └─────────┴──────────────┘,\n",
       " shape: (4, 3)\n",
       " ┌─────────────────────────────────┬────────┬────────┐\n",
       " │ node                            ┆ start  ┆ end    │\n",
       " │ ---                             ┆ ---    ┆ ---    │\n",
       " │ str                             ┆ u64    ┆ u64    │\n",
       " ╞═════════════════════════════════╪════════╪════════╡\n",
       " │ optimization                    ┆ 0      ┆ 379    │\n",
       " │ parquet(./data/vuelos/vuelos.p… ┆ 379    ┆ 86025  │\n",
       " │ group_by_partitioned(AIRLINE)   ┆ 86858  ┆ 137889 │\n",
       " │ sort(SUM_AIR_TIME)              ┆ 137894 ┆ 137938 │\n",
       " └─────────────────────────────────┴────────┴────────┘)"
      ]
     },
     "execution_count": 6,
     "metadata": {},
     "output_type": "execute_result"
    }
   ],
   "source": [
    "query_pf = vuelos_lz.group_by('AIRLINE').agg(\n",
    "    SUM_AIR_TIME=col('AIR_TIME').sum()\n",
    ").sort('SUM_AIR_TIME', descending=True)\n",
    "\n",
    "query_pf.profile(show_plot=True)"
   ]
  },
  {
   "cell_type": "markdown",
   "id": "f5be38e9-693a-40a6-9224-d17e76674187",
   "metadata": {},
   "source": [
    "## `serialize y deserialize`\n",
    "\n",
    "Estas funciones nos permitirán serializar y deserializar el plan lógico de un LazyFrame."
   ]
  },
  {
   "cell_type": "code",
   "execution_count": 7,
   "id": "d85426a9-d8d6-46c8-88dc-c3a79db05297",
   "metadata": {},
   "outputs": [],
   "source": [
    "query_pf.serialize('./output.txt')"
   ]
  },
  {
   "cell_type": "code",
   "execution_count": 8,
   "id": "1f140933-de7f-45da-9048-99b05fd82b78",
   "metadata": {},
   "outputs": [
    {
     "data": {
      "text/html": [
       "<div><style>\n",
       ".dataframe > thead > tr,\n",
       ".dataframe > tbody > tr {\n",
       "  text-align: right;\n",
       "  white-space: pre-wrap;\n",
       "}\n",
       "</style>\n",
       "<small>shape: (14, 2)</small><table border=\"1\" class=\"dataframe\"><thead><tr><th>AIRLINE</th><th>SUM_AIR_TIME</th></tr><tr><td>str</td><td>i32</td></tr></thead><tbody><tr><td>&quot;WN&quot;</td><td>128092352</td></tr><tr><td>&quot;DL&quot;</td><td>100660665</td></tr><tr><td>&quot;AA&quot;</td><td>99672739</td></tr><tr><td>&quot;UA&quot;</td><td>83697399</td></tr><tr><td>&quot;OO&quot;</td><td>43638869</td></tr><tr><td>&hellip;</td><td>&hellip;</td></tr><tr><td>&quot;MQ&quot;</td><td>18673318</td></tr><tr><td>&quot;NK&quot;</td><td>15245550</td></tr><tr><td>&quot;F9&quot;</td><td>11733373</td></tr><tr><td>&quot;VX&quot;</td><td>11185771</td></tr><tr><td>&quot;HA&quot;</td><td>6454460</td></tr></tbody></table></div>"
      ],
      "text/plain": [
       "shape: (14, 2)\n",
       "┌─────────┬──────────────┐\n",
       "│ AIRLINE ┆ SUM_AIR_TIME │\n",
       "│ ---     ┆ ---          │\n",
       "│ str     ┆ i32          │\n",
       "╞═════════╪══════════════╡\n",
       "│ WN      ┆ 128092352    │\n",
       "│ DL      ┆ 100660665    │\n",
       "│ AA      ┆ 99672739     │\n",
       "│ UA      ┆ 83697399     │\n",
       "│ OO      ┆ 43638869     │\n",
       "│ …       ┆ …            │\n",
       "│ MQ      ┆ 18673318     │\n",
       "│ NK      ┆ 15245550     │\n",
       "│ F9      ┆ 11733373     │\n",
       "│ VX      ┆ 11185771     │\n",
       "│ HA      ┆ 6454460      │\n",
       "└─────────┴──────────────┘"
      ]
     },
     "execution_count": 8,
     "metadata": {},
     "output_type": "execute_result"
    }
   ],
   "source": [
    "import io\n",
    "\n",
    "# Abrimos el archivo en modo binario\n",
    "with open(\"output.txt\", \"rb\") as file_object:\n",
    "    \n",
    "    # Leemos el contenido del archivo entero como bytes\n",
    "    data = file_object.read()\n",
    "\n",
    "# Creamos un objeto de tipo BytesIO a partir de los datos binarios\n",
    "query = io.BytesIO(data)\n",
    "\n",
    "pl.LazyFrame.deserialize(query).collect()"
   ]
  }
 ],
 "metadata": {
  "kernelspec": {
   "display_name": "Python 3 (ipykernel)",
   "language": "python",
   "name": "python3"
  },
  "language_info": {
   "codemirror_mode": {
    "name": "ipython",
    "version": 3
   },
   "file_extension": ".py",
   "mimetype": "text/x-python",
   "name": "python",
   "nbconvert_exporter": "python",
   "pygments_lexer": "ipython3",
   "version": "3.9.6"
  }
 },
 "nbformat": 4,
 "nbformat_minor": 5
}
