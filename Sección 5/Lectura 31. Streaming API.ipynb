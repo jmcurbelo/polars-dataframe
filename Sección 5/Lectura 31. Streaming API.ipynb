{
 "cells": [
  {
   "cell_type": "markdown",
   "id": "2e3236ba-54a5-4ee3-83a9-78775f7f018e",
   "metadata": {},
   "source": [
    "# Lectura 31: Streaming API"
   ]
  },
  {
   "cell_type": "code",
   "execution_count": 1,
   "id": "e00f14ca-ab18-4108-aa5e-3043386dcede",
   "metadata": {
    "tags": []
   },
   "outputs": [
    {
     "data": {
      "text/html": [
       "<div><style>\n",
       ".dataframe > thead > tr,\n",
       ".dataframe > tbody > tr {\n",
       "  text-align: right;\n",
       "  white-space: pre-wrap;\n",
       "}\n",
       "</style>\n",
       "<small>shape: (13, 2)</small><table border=\"1\" class=\"dataframe\"><thead><tr><th>AIRLINE</th><th>media_tiempo_aire</th></tr><tr><td>str</td><td>f64</td></tr></thead><tbody><tr><td>&quot;F9&quot;</td><td>130.735121</td></tr><tr><td>&quot;NK&quot;</td><td>132.105457</td></tr><tr><td>&quot;OO&quot;</td><td>76.150833</td></tr><tr><td>&quot;WN&quot;</td><td>102.733758</td></tr><tr><td>&quot;MQ&quot;</td><td>64.836925</td></tr><tr><td>&hellip;</td><td>&hellip;</td></tr><tr><td>&quot;EV&quot;</td><td>71.426605</td></tr><tr><td>&quot;DL&quot;</td><td>115.037619</td></tr><tr><td>&quot;B6&quot;</td><td>143.185472</td></tr><tr><td>&quot;UA&quot;</td><td>163.513436</td></tr><tr><td>&quot;AS&quot;</td><td>158.042161</td></tr></tbody></table></div>"
      ],
      "text/plain": [
       "shape: (13, 2)\n",
       "┌─────────┬───────────────────┐\n",
       "│ AIRLINE ┆ media_tiempo_aire │\n",
       "│ ---     ┆ ---               │\n",
       "│ str     ┆ f64               │\n",
       "╞═════════╪═══════════════════╡\n",
       "│ F9      ┆ 130.735121        │\n",
       "│ NK      ┆ 132.105457        │\n",
       "│ OO      ┆ 76.150833         │\n",
       "│ WN      ┆ 102.733758        │\n",
       "│ MQ      ┆ 64.836925         │\n",
       "│ …       ┆ …                 │\n",
       "│ EV      ┆ 71.426605         │\n",
       "│ DL      ┆ 115.037619        │\n",
       "│ B6      ┆ 143.185472        │\n",
       "│ UA      ┆ 163.513436        │\n",
       "│ AS      ┆ 158.042161        │\n",
       "└─────────┴───────────────────┘"
      ]
     },
     "execution_count": 1,
     "metadata": {},
     "output_type": "execute_result"
    }
   ],
   "source": [
    "import polars as pl\n",
    "from polars import col\n",
    "\n",
    "import polars as pl\n",
    "from polars import col\n",
    "\n",
    "query = (\n",
    "    pl.scan_parquet('./data/vuelos/vuelos.parquet')\n",
    "    .filter(col('MONTH') > 6)\n",
    "    .group_by('AIRLINE').agg(\n",
    "        media_tiempo_aire=col('AIR_TIME').mean()\n",
    "    )\n",
    ")\n",
    "\n",
    "vuelos_agregado = query.collect(streaming=True)\n",
    "\n",
    "vuelos_agregado"
   ]
  },
  {
   "cell_type": "code",
   "execution_count": 2,
   "id": "2641654d-f980-4f0a-89b5-03693cd9bf91",
   "metadata": {
    "tags": []
   },
   "outputs": [
    {
     "name": "stdout",
     "output_type": "stream",
     "text": [
      "--- STREAMING\n",
      "AGGREGATE\n",
      "\t[col(\"AIR_TIME\").mean().alias(\"media_tiempo_aire\")] BY [col(\"AIRLINE\")] FROM\n",
      "\n",
      "    Parquet SCAN ./data/vuelos/vuelos.parquet\n",
      "    PROJECT 3/31 COLUMNS\n",
      "    SELECTION: [(col(\"MONTH\")) > (6)]  --- END STREAMING\n",
      "\n",
      "  DF []; PROJECT */0 COLUMNS; SELECTION: \"None\"\n"
     ]
    },
    {
     "name": "stderr",
     "output_type": "stream",
     "text": [
      "/var/folders/44/cd4ysnrs1zvgk8nff92w71lw0000gn/T/ipykernel_4828/3038726313.py:1: UserWarning: Cannot combine 'streaming' with 'comm_subplan_elim'. CSE will be turned off.\n",
      "  print(query.explain(streaming=True))\n"
     ]
    }
   ],
   "source": [
    "print(query.explain(streaming=True))"
   ]
  },
  {
   "cell_type": "code",
   "execution_count": 3,
   "id": "3b36860f-d6cc-4b7b-9e8c-4e2256a082d4",
   "metadata": {
    "tags": []
   },
   "outputs": [
    {
     "name": "stdout",
     "output_type": "stream",
     "text": [
      " WITH_COLUMNS:\n",
      " [col(\"AIR_TIME\").mean().over([col(\"AIR_LINE\")])]\n",
      "  --- STREAMING\n",
      "\n",
      "  Parquet SCAN ./data/vuelos/vuelos.parquet\n",
      "  PROJECT */31 COLUMNS  --- END STREAMING\n",
      "\n",
      "    DF []; PROJECT */0 COLUMNS; SELECTION: \"None\"\n"
     ]
    },
    {
     "name": "stderr",
     "output_type": "stream",
     "text": [
      "/var/folders/44/cd4ysnrs1zvgk8nff92w71lw0000gn/T/ipykernel_4828/2954960651.py:8: UserWarning: Cannot combine 'streaming' with 'comm_subplan_elim'. CSE will be turned off.\n",
      "  print(query_2.explain(streaming=True))\n"
     ]
    }
   ],
   "source": [
    "query_2 = (\n",
    "    pl.scan_parquet('./data/vuelos/vuelos.parquet')\n",
    "    .with_columns(\n",
    "        col('AIR_TIME').mean().over('AIR_LINE')\n",
    "    )\n",
    ")\n",
    "\n",
    "print(query_2.explain(streaming=True))"
   ]
  }
 ],
 "metadata": {
  "kernelspec": {
   "display_name": "Python 3 (ipykernel)",
   "language": "python",
   "name": "python3"
  },
  "language_info": {
   "codemirror_mode": {
    "name": "ipython",
    "version": 3
   },
   "file_extension": ".py",
   "mimetype": "text/x-python",
   "name": "python",
   "nbconvert_exporter": "python",
   "pygments_lexer": "ipython3",
   "version": "3.9.6"
  }
 },
 "nbformat": 4,
 "nbformat_minor": 5
}
