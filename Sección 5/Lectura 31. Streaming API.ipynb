{
 "cells": [
  {
   "cell_type": "markdown",
   "id": "2e3236ba-54a5-4ee3-83a9-78775f7f018e",
   "metadata": {},
   "source": [
    "# Lectura 31: Streaming API"
   ]
  },
  {
   "cell_type": "code",
   "execution_count": null,
   "id": "e00f14ca-ab18-4108-aa5e-3043386dcede",
   "metadata": {
    "tags": []
   },
   "outputs": [],
   "source": [
    "import polars as pl\n",
    "from polars import col\n",
    "\n",
    "import polars as pl\n",
    "from polars import col\n",
    "\n",
    "query = (\n",
    "    pl.scan_parquet('./data/vuelos/vuelos.parquet')\n",
    "    .filter(col('MONTH') > 6)\n",
    "    .group_by('AIRLINE').agg(\n",
    "        media_tiempo_aire=col('AIR_TIME').mean()\n",
    "    )\n",
    ")\n",
    "\n",
    "vuelos_agregado = query.collect(streaming=True)\n",
    "\n",
    "vuelos_agregado"
   ]
  },
  {
   "cell_type": "code",
   "execution_count": null,
   "id": "2641654d-f980-4f0a-89b5-03693cd9bf91",
   "metadata": {
    "tags": []
   },
   "outputs": [],
   "source": [
    "print(query.explain(streaming=True))"
   ]
  },
  {
   "cell_type": "code",
   "execution_count": null,
   "id": "3b36860f-d6cc-4b7b-9e8c-4e2256a082d4",
   "metadata": {
    "tags": []
   },
   "outputs": [],
   "source": [
    "query_2 = (\n",
    "    pl.scan_parquet('./data/vuelos/vuelos.parquet')\n",
    "    .with_columns(\n",
    "        col('AIR_TIME').mean().over('AIR_LINE')\n",
    "    )\n",
    ")\n",
    "\n",
    "print(query_2.explain(streaming=True))"
   ]
  }
 ],
 "metadata": {
  "kernelspec": {
   "display_name": "Python 3 (ipykernel)",
   "language": "python",
   "name": "python3"
  },
  "language_info": {
   "codemirror_mode": {
    "name": "ipython",
    "version": 3
   },
   "file_extension": ".py",
   "mimetype": "text/x-python",
   "name": "python",
   "nbconvert_exporter": "python",
   "pygments_lexer": "ipython3",
   "version": "3.9.6"
  }
 },
 "nbformat": 4,
 "nbformat_minor": 5
}
