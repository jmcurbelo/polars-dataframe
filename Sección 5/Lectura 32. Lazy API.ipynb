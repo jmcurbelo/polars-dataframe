{
 "cells": [
  {
   "cell_type": "markdown",
   "id": "e906165a-4082-45f4-9914-9ff8acd8b9c9",
   "metadata": {},
   "source": [
    "# Lectura 32: Lazy API"
   ]
  },
  {
   "cell_type": "markdown",
   "id": "56e4dcee-0014-42f7-84d8-73a0c8c1461e",
   "metadata": {},
   "source": [
    "Vamos a crear una consulta lazy a partir del dataset de vuelos y aplicaremos algunas transformaciones. \n",
    "\n",
    "Al iniciar la consulta con `pl.scan_parquet`, estamos utilizando la API lazy."
   ]
  },
  {
   "cell_type": "markdown",
   "id": "bb7304c4-1966-4ab0-b3ec-3f3ed7954663",
   "metadata": {},
   "source": [
    "## Uso de la API lazy a partir de la lectura de un archivo"
   ]
  },
  {
   "cell_type": "code",
   "execution_count": null,
   "id": "ba5a8da4-2852-4c9e-9665-3c9f0705c928",
   "metadata": {
    "tags": []
   },
   "outputs": [],
   "source": [
    "import polars as pl\n",
    "from polars import col\n",
    "\n",
    "query = (\n",
    "    pl.scan_parquet('./data/vuelos/vuelos.parquet').with_columns(\n",
    "        col('AIR_TIME') / 60\n",
    "    )\n",
    "    .filter(col('MONTH') > 10)\n",
    ")\n",
    "\n",
    "type(query)"
   ]
  },
  {
   "cell_type": "markdown",
   "id": "48c37d76-2079-432d-83f5-9e484ee325b2",
   "metadata": {},
   "source": [
    "En esta consulta le decimos a Polars que queremos:\n",
    "\n",
    "- cargar datos desde el archivo `vuelos.parquet`\n",
    "- convertir la columna `AIR_TIME` a horas suponiendo que lo que contiene son minutos\n",
    "- aplicar un filtro a la columna `MONTH`\n",
    "\n",
    "La consulta lazy no se ejecutará en este momento a menos que le apliquemos un `.collect()` ."
   ]
  },
  {
   "cell_type": "code",
   "execution_count": null,
   "id": "fe1d4f28-6e0f-4f53-bca8-423041171653",
   "metadata": {
    "tags": []
   },
   "outputs": [],
   "source": [
    "query.collect()"
   ]
  },
  {
   "cell_type": "markdown",
   "id": "9e431aea-4f9f-4cb5-b1fb-0c8bab65c2a1",
   "metadata": {},
   "source": [
    "## Uso de la API lazy desde un DataFrame\n",
    "\n",
    "Una forma alternativa de acceder a la API lazy es llamar a `.lazy` en un DataFrame que ya se ha creado en la memoria.\n",
    "\n",
    "Al llamar a `.lazy` convertimos el DataFrame en un LazyFrame."
   ]
  },
  {
   "cell_type": "code",
   "execution_count": null,
   "id": "e36fc936-0dc8-49af-ba5d-b4470d454693",
   "metadata": {
    "tags": []
   },
   "outputs": [],
   "source": [
    "df = pl.DataFrame(\n",
    "    {\n",
    "        'id': [1, 2, 3],\n",
    "        'nombre': ['Rosa', 'Ana', 'Pedro']\n",
    "    }\n",
    ")\n",
    "\n",
    "df_lazy = df.lazy()"
   ]
  },
  {
   "cell_type": "code",
   "execution_count": null,
   "id": "9bafb446-5ff4-45c0-a1e9-6c90a536aabe",
   "metadata": {
    "tags": []
   },
   "outputs": [],
   "source": [
    "type(df_lazy)"
   ]
  },
  {
   "cell_type": "markdown",
   "id": "9799786f-827d-4df1-9737-7280b2b6badc",
   "metadata": {},
   "source": [
    "## Schema\n",
    "\n",
    "El esquema de un DataFrame o un LazyFrame establece los nombres de las columnas y sus tipos de datos. Si recordamos podemos ver el esquema de un DataFrame o un LazyFrame con el método `.schema`."
   ]
  },
  {
   "cell_type": "code",
   "execution_count": null,
   "id": "1dbac8bb-46d8-4ecf-88d3-f18bf730a8e4",
   "metadata": {
    "tags": []
   },
   "outputs": [],
   "source": [
    "df.schema"
   ]
  },
  {
   "cell_type": "code",
   "execution_count": null,
   "id": "4638884e-fef6-4f59-bbe2-5de54ce43c12",
   "metadata": {
    "tags": []
   },
   "outputs": [],
   "source": [
    "df_lazy.schema"
   ]
  },
  {
   "cell_type": "markdown",
   "id": "badda7d2-5c0d-4408-8a1f-723e800fa14d",
   "metadata": {},
   "source": [
    "## Comprobación de tipos de datos en la API lazy\n",
    "\n",
    "El esquema juega un papel importante en la API lazy. \n",
    "\n",
    "Una ventaja de la API lazy es que Polars comprobará el esquema antes de procesar cualquier dato. Esta verificación ocurre cuando ejecutamos nuestra consulta lazy.\n",
    "\n",
    "Vemos cómo funciona esto en el siguiente ejemplo donde llamamos a la expresión `.round` en la columna `id` del DataFrame que previamente hemos creado."
   ]
  },
  {
   "cell_type": "code",
   "execution_count": null,
   "id": "5b610d64-d158-4ecf-b163-acf36303c75c",
   "metadata": {
    "tags": []
   },
   "outputs": [],
   "source": [
    "df_lazy.with_columns(col('id').round(0)).collect()"
   ]
  },
  {
   "cell_type": "markdown",
   "id": "5f6dc43c-28fb-452d-8492-7e2fc05d6b5e",
   "metadata": {},
   "source": [
    "Los que ha sucedido es que la expresión `.round` solo es válida para columnas de tipo float. Llamar a `.round` en una columna de números enteros significa que la operación generará un  error de tipo `InvalidOperationError` cuando evaluemos la consulta con `collect`. Esta verificación de esquema ocurre antes de que se procesen los datos cuando llamamos a `collect`."
   ]
  },
  {
   "cell_type": "markdown",
   "id": "a72113e7-247c-4740-bc28-5e73367b8e71",
   "metadata": {},
   "source": [
    "## Manejo de operaciones no disponibles en la API lazy"
   ]
  },
  {
   "cell_type": "code",
   "execution_count": null,
   "id": "4e05a3e5-dbea-47b5-a7ba-fef0b57d47a9",
   "metadata": {
    "tags": []
   },
   "outputs": [],
   "source": [
    "lazy_eager_query = (\n",
    "    pl.scan_parquet('./data/vuelos/vuelos.parquet').with_columns(\n",
    "        air_time_hrs=(col('AIR_TIME') / 60)\n",
    "    )\n",
    "    .collect()\n",
    "    .pivot(\n",
    "        index='AIRLINE', columns='MONTH', values='AIR_TIME', aggregate_function='mean'\n",
    "    )\n",
    "    .lazy()\n",
    "    .filter(col('AIRLINE') == 'AA')\n",
    "    .collect()\n",
    ")\n",
    "\n",
    "display(lazy_eager_query)"
   ]
  }
 ],
 "metadata": {
  "kernelspec": {
   "display_name": "Python 3 (ipykernel)",
   "language": "python",
   "name": "python3"
  },
  "language_info": {
   "codemirror_mode": {
    "name": "ipython",
    "version": 3
   },
   "file_extension": ".py",
   "mimetype": "text/x-python",
   "name": "python",
   "nbconvert_exporter": "python",
   "pygments_lexer": "ipython3",
   "version": "3.9.6"
  }
 },
 "nbformat": 4,
 "nbformat_minor": 5
}
