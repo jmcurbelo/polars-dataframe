{
 "cells": [
  {
   "cell_type": "markdown",
   "id": "e906165a-4082-45f4-9914-9ff8acd8b9c9",
   "metadata": {},
   "source": [
    "# Lectura 32: Lazy API"
   ]
  },
  {
   "cell_type": "markdown",
   "id": "56e4dcee-0014-42f7-84d8-73a0c8c1461e",
   "metadata": {},
   "source": [
    "Vamos a crear una consulta lazy a partir del dataset de vuelos y aplicaremos algunas transformaciones. \n",
    "\n",
    "Al iniciar la consulta con `pl.scan_parquet`, estamos utilizando la API lazy."
   ]
  },
  {
   "cell_type": "markdown",
   "id": "bb7304c4-1966-4ab0-b3ec-3f3ed7954663",
   "metadata": {},
   "source": [
    "## Uso de la API lazy a partir de la lectura de un archivo"
   ]
  },
  {
   "cell_type": "code",
   "execution_count": 1,
   "id": "ba5a8da4-2852-4c9e-9665-3c9f0705c928",
   "metadata": {
    "tags": []
   },
   "outputs": [
    {
     "data": {
      "text/plain": [
       "polars.lazyframe.frame.LazyFrame"
      ]
     },
     "execution_count": 1,
     "metadata": {},
     "output_type": "execute_result"
    }
   ],
   "source": [
    "import polars as pl\n",
    "from polars import col\n",
    "\n",
    "query = (\n",
    "    pl.scan_parquet('./data/vuelos/vuelos.parquet').with_columns(\n",
    "        col('AIR_TIME') / 60\n",
    "    )\n",
    "    .filter(col('MONTH') > 10)\n",
    ")\n",
    "\n",
    "type(query)"
   ]
  },
  {
   "cell_type": "markdown",
   "id": "48c37d76-2079-432d-83f5-9e484ee325b2",
   "metadata": {},
   "source": [
    "En esta consulta le decimos a Polars que queremos:\n",
    "\n",
    "- cargar datos desde el archivo `vuelos.parquet`\n",
    "- convertir la columna `AIR_TIME` a horas suponiendo que lo que contiene son minutos\n",
    "- aplicar un filtro a la columna `MONTH`\n",
    "\n",
    "La consulta lazy no se ejecutará en este momento a menos que le apliquemos un `.collect()` ."
   ]
  },
  {
   "cell_type": "code",
   "execution_count": 2,
   "id": "fe1d4f28-6e0f-4f53-bca8-423041171653",
   "metadata": {
    "tags": []
   },
   "outputs": [
    {
     "data": {
      "text/html": [
       "<div><style>\n",
       ".dataframe > thead > tr,\n",
       ".dataframe > tbody > tr {\n",
       "  text-align: right;\n",
       "  white-space: pre-wrap;\n",
       "}\n",
       "</style>\n",
       "<small>shape: (947_202, 31)</small><table border=\"1\" class=\"dataframe\"><thead><tr><th>YEAR</th><th>MONTH</th><th>DAY</th><th>DAY_OF_WEEK</th><th>AIRLINE</th><th>FLIGHT_NUMBER</th><th>TAIL_NUMBER</th><th>ORIGIN_AIRPORT</th><th>DESTINATION_AIRPORT</th><th>SCHEDULED_DEPARTURE</th><th>DEPARTURE_TIME</th><th>DEPARTURE_DELAY</th><th>TAXI_OUT</th><th>WHEELS_OFF</th><th>SCHEDULED_TIME</th><th>ELAPSED_TIME</th><th>AIR_TIME</th><th>DISTANCE</th><th>WHEELS_ON</th><th>TAXI_IN</th><th>SCHEDULED_ARRIVAL</th><th>ARRIVAL_TIME</th><th>ARRIVAL_DELAY</th><th>DIVERTED</th><th>CANCELLED</th><th>CANCELLATION_REASON</th><th>AIR_SYSTEM_DELAY</th><th>SECURITY_DELAY</th><th>AIRLINE_DELAY</th><th>LATE_AIRCRAFT_DELAY</th><th>WEATHER_DELAY</th></tr><tr><td>i32</td><td>i32</td><td>i32</td><td>i32</td><td>str</td><td>i32</td><td>str</td><td>str</td><td>str</td><td>i32</td><td>i32</td><td>i32</td><td>i32</td><td>i32</td><td>i32</td><td>i32</td><td>f64</td><td>i32</td><td>i32</td><td>i32</td><td>i32</td><td>i32</td><td>i32</td><td>i32</td><td>i32</td><td>str</td><td>i32</td><td>i32</td><td>i32</td><td>i32</td><td>i32</td></tr></thead><tbody><tr><td>2015</td><td>11</td><td>1</td><td>7</td><td>&quot;NK&quot;</td><td>612</td><td>&quot;N602NK&quot;</td><td>&quot;LAS&quot;</td><td>&quot;MSP&quot;</td><td>5</td><td>7</td><td>2</td><td>17</td><td>24</td><td>177</td><td>177</td><td>2.566667</td><td>1299</td><td>358</td><td>6</td><td>402</td><td>404</td><td>2</td><td>0</td><td>0</td><td>null</td><td>null</td><td>null</td><td>null</td><td>null</td><td>null</td></tr><tr><td>2015</td><td>11</td><td>1</td><td>7</td><td>&quot;UA&quot;</td><td>680</td><td>&quot;N76516&quot;</td><td>&quot;SFO&quot;</td><td>&quot;ORD&quot;</td><td>14</td><td>19</td><td>5</td><td>15</td><td>34</td><td>258</td><td>231</td><td>3.516667</td><td>1846</td><td>505</td><td>5</td><td>532</td><td>510</td><td>-22</td><td>0</td><td>0</td><td>null</td><td>null</td><td>null</td><td>null</td><td>null</td><td>null</td></tr><tr><td>2015</td><td>11</td><td>1</td><td>7</td><td>&quot;AA&quot;</td><td>260</td><td>&quot;N3KTAA&quot;</td><td>&quot;LAX&quot;</td><td>&quot;MIA&quot;</td><td>15</td><td>6</td><td>-9</td><td>30</td><td>36</td><td>296</td><td>313</td><td>4.5</td><td>2342</td><td>706</td><td>13</td><td>711</td><td>719</td><td>8</td><td>0</td><td>0</td><td>null</td><td>null</td><td>null</td><td>null</td><td>null</td><td>null</td></tr><tr><td>2015</td><td>11</td><td>1</td><td>7</td><td>&quot;UA&quot;</td><td>910</td><td>&quot;N76503&quot;</td><td>&quot;LAX&quot;</td><td>&quot;ORD&quot;</td><td>31</td><td>27</td><td>-4</td><td>14</td><td>41</td><td>248</td><td>231</td><td>3.516667</td><td>1744</td><td>512</td><td>6</td><td>539</td><td>518</td><td>-21</td><td>0</td><td>0</td><td>null</td><td>null</td><td>null</td><td>null</td><td>null</td><td>null</td></tr><tr><td>2015</td><td>11</td><td>1</td><td>7</td><td>&quot;UA&quot;</td><td>1888</td><td>null</td><td>&quot;LAS&quot;</td><td>&quot;IAH&quot;</td><td>41</td><td>null</td><td>null</td><td>null</td><td>null</td><td>172</td><td>null</td><td>null</td><td>1222</td><td>null</td><td>null</td><td>433</td><td>null</td><td>null</td><td>0</td><td>1</td><td>&quot;A&quot;</td><td>null</td><td>null</td><td>null</td><td>null</td><td>null</td></tr><tr><td>&hellip;</td><td>&hellip;</td><td>&hellip;</td><td>&hellip;</td><td>&hellip;</td><td>&hellip;</td><td>&hellip;</td><td>&hellip;</td><td>&hellip;</td><td>&hellip;</td><td>&hellip;</td><td>&hellip;</td><td>&hellip;</td><td>&hellip;</td><td>&hellip;</td><td>&hellip;</td><td>&hellip;</td><td>&hellip;</td><td>&hellip;</td><td>&hellip;</td><td>&hellip;</td><td>&hellip;</td><td>&hellip;</td><td>&hellip;</td><td>&hellip;</td><td>&hellip;</td><td>&hellip;</td><td>&hellip;</td><td>&hellip;</td><td>&hellip;</td><td>&hellip;</td></tr><tr><td>2015</td><td>12</td><td>31</td><td>4</td><td>&quot;B6&quot;</td><td>688</td><td>&quot;N657JB&quot;</td><td>&quot;LAX&quot;</td><td>&quot;BOS&quot;</td><td>2359</td><td>2355</td><td>-4</td><td>22</td><td>17</td><td>320</td><td>298</td><td>4.533333</td><td>2611</td><td>749</td><td>4</td><td>819</td><td>753</td><td>-26</td><td>0</td><td>0</td><td>null</td><td>null</td><td>null</td><td>null</td><td>null</td><td>null</td></tr><tr><td>2015</td><td>12</td><td>31</td><td>4</td><td>&quot;B6&quot;</td><td>745</td><td>&quot;N828JB&quot;</td><td>&quot;JFK&quot;</td><td>&quot;PSE&quot;</td><td>2359</td><td>2355</td><td>-4</td><td>17</td><td>12</td><td>227</td><td>215</td><td>3.25</td><td>1617</td><td>427</td><td>3</td><td>446</td><td>430</td><td>-16</td><td>0</td><td>0</td><td>null</td><td>null</td><td>null</td><td>null</td><td>null</td><td>null</td></tr><tr><td>2015</td><td>12</td><td>31</td><td>4</td><td>&quot;B6&quot;</td><td>1503</td><td>&quot;N913JB&quot;</td><td>&quot;JFK&quot;</td><td>&quot;SJU&quot;</td><td>2359</td><td>2350</td><td>-9</td><td>17</td><td>7</td><td>221</td><td>222</td><td>3.283333</td><td>1598</td><td>424</td><td>8</td><td>440</td><td>432</td><td>-8</td><td>0</td><td>0</td><td>null</td><td>null</td><td>null</td><td>null</td><td>null</td><td>null</td></tr><tr><td>2015</td><td>12</td><td>31</td><td>4</td><td>&quot;B6&quot;</td><td>333</td><td>&quot;N527JB&quot;</td><td>&quot;MCO&quot;</td><td>&quot;SJU&quot;</td><td>2359</td><td>2353</td><td>-6</td><td>10</td><td>3</td><td>161</td><td>157</td><td>2.4</td><td>1189</td><td>327</td><td>3</td><td>340</td><td>330</td><td>-10</td><td>0</td><td>0</td><td>null</td><td>null</td><td>null</td><td>null</td><td>null</td><td>null</td></tr><tr><td>2015</td><td>12</td><td>31</td><td>4</td><td>&quot;B6&quot;</td><td>839</td><td>&quot;N534JB&quot;</td><td>&quot;JFK&quot;</td><td>&quot;BQN&quot;</td><td>2359</td><td>14</td><td>15</td><td>14</td><td>28</td><td>221</td><td>208</td><td>3.15</td><td>1576</td><td>437</td><td>5</td><td>440</td><td>442</td><td>2</td><td>0</td><td>0</td><td>null</td><td>null</td><td>null</td><td>null</td><td>null</td><td>null</td></tr></tbody></table></div>"
      ],
      "text/plain": [
       "shape: (947_202, 31)\n",
       "┌──────┬───────┬─────┬─────────────┬───┬──────────────┬──────────────┬──────────────┬──────────────┐\n",
       "│ YEAR ┆ MONTH ┆ DAY ┆ DAY_OF_WEEK ┆ … ┆ SECURITY_DEL ┆ AIRLINE_DELA ┆ LATE_AIRCRAF ┆ WEATHER_DELA │\n",
       "│ ---  ┆ ---   ┆ --- ┆ ---         ┆   ┆ AY           ┆ Y            ┆ T_DELAY      ┆ Y            │\n",
       "│ i32  ┆ i32   ┆ i32 ┆ i32         ┆   ┆ ---          ┆ ---          ┆ ---          ┆ ---          │\n",
       "│      ┆       ┆     ┆             ┆   ┆ i32          ┆ i32          ┆ i32          ┆ i32          │\n",
       "╞══════╪═══════╪═════╪═════════════╪═══╪══════════════╪══════════════╪══════════════╪══════════════╡\n",
       "│ 2015 ┆ 11    ┆ 1   ┆ 7           ┆ … ┆ null         ┆ null         ┆ null         ┆ null         │\n",
       "│ 2015 ┆ 11    ┆ 1   ┆ 7           ┆ … ┆ null         ┆ null         ┆ null         ┆ null         │\n",
       "│ 2015 ┆ 11    ┆ 1   ┆ 7           ┆ … ┆ null         ┆ null         ┆ null         ┆ null         │\n",
       "│ 2015 ┆ 11    ┆ 1   ┆ 7           ┆ … ┆ null         ┆ null         ┆ null         ┆ null         │\n",
       "│ 2015 ┆ 11    ┆ 1   ┆ 7           ┆ … ┆ null         ┆ null         ┆ null         ┆ null         │\n",
       "│ …    ┆ …     ┆ …   ┆ …           ┆ … ┆ …            ┆ …            ┆ …            ┆ …            │\n",
       "│ 2015 ┆ 12    ┆ 31  ┆ 4           ┆ … ┆ null         ┆ null         ┆ null         ┆ null         │\n",
       "│ 2015 ┆ 12    ┆ 31  ┆ 4           ┆ … ┆ null         ┆ null         ┆ null         ┆ null         │\n",
       "│ 2015 ┆ 12    ┆ 31  ┆ 4           ┆ … ┆ null         ┆ null         ┆ null         ┆ null         │\n",
       "│ 2015 ┆ 12    ┆ 31  ┆ 4           ┆ … ┆ null         ┆ null         ┆ null         ┆ null         │\n",
       "│ 2015 ┆ 12    ┆ 31  ┆ 4           ┆ … ┆ null         ┆ null         ┆ null         ┆ null         │\n",
       "└──────┴───────┴─────┴─────────────┴───┴──────────────┴──────────────┴──────────────┴──────────────┘"
      ]
     },
     "execution_count": 2,
     "metadata": {},
     "output_type": "execute_result"
    }
   ],
   "source": [
    "query.collect()"
   ]
  },
  {
   "cell_type": "markdown",
   "id": "9e431aea-4f9f-4cb5-b1fb-0c8bab65c2a1",
   "metadata": {},
   "source": [
    "## Uso de la API lazy desde un DataFrame\n",
    "\n",
    "Una forma alternativa de acceder a la API lazy es llamar a `.lazy` en un DataFrame que ya se ha creado en la memoria.\n",
    "\n",
    "Al llamar a `.lazy` convertimos el DataFrame en un LazyFrame."
   ]
  },
  {
   "cell_type": "code",
   "execution_count": 3,
   "id": "e36fc936-0dc8-49af-ba5d-b4470d454693",
   "metadata": {
    "tags": []
   },
   "outputs": [],
   "source": [
    "df = pl.DataFrame(\n",
    "    {\n",
    "        'id': [1, 2, 3],\n",
    "        'nombre': ['Rosa', 'Ana', 'Pedro']\n",
    "    }\n",
    ")\n",
    "\n",
    "df_lazy = df.lazy()"
   ]
  },
  {
   "cell_type": "code",
   "execution_count": 4,
   "id": "9bafb446-5ff4-45c0-a1e9-6c90a536aabe",
   "metadata": {
    "tags": []
   },
   "outputs": [
    {
     "data": {
      "text/plain": [
       "polars.lazyframe.frame.LazyFrame"
      ]
     },
     "execution_count": 4,
     "metadata": {},
     "output_type": "execute_result"
    }
   ],
   "source": [
    "type(df_lazy)"
   ]
  },
  {
   "cell_type": "markdown",
   "id": "9799786f-827d-4df1-9737-7280b2b6badc",
   "metadata": {},
   "source": [
    "## Schema\n",
    "\n",
    "El esquema de un DataFrame o un LazyFrame establece los nombres de las columnas y sus tipos de datos. Si recordamos podemos ver el esquema de un DataFrame o un LazyFrame con el método `.schema`."
   ]
  },
  {
   "cell_type": "code",
   "execution_count": 5,
   "id": "1dbac8bb-46d8-4ecf-88d3-f18bf730a8e4",
   "metadata": {
    "tags": []
   },
   "outputs": [
    {
     "data": {
      "text/plain": [
       "OrderedDict([('id', Int64), ('nombre', String)])"
      ]
     },
     "execution_count": 5,
     "metadata": {},
     "output_type": "execute_result"
    }
   ],
   "source": [
    "df.schema"
   ]
  },
  {
   "cell_type": "code",
   "execution_count": 6,
   "id": "4638884e-fef6-4f59-bbe2-5de54ce43c12",
   "metadata": {
    "tags": []
   },
   "outputs": [
    {
     "data": {
      "text/plain": [
       "OrderedDict([('id', Int64), ('nombre', String)])"
      ]
     },
     "execution_count": 6,
     "metadata": {},
     "output_type": "execute_result"
    }
   ],
   "source": [
    "df_lazy.schema"
   ]
  },
  {
   "cell_type": "markdown",
   "id": "badda7d2-5c0d-4408-8a1f-723e800fa14d",
   "metadata": {},
   "source": [
    "## Comprobación de tipos de datos en la API lazy\n",
    "\n",
    "El esquema juega un papel importante en la API lazy. \n",
    "\n",
    "Una ventaja de la API lazy es que Polars comprobará el esquema antes de procesar cualquier dato. Esta verificación ocurre cuando ejecutamos nuestra consulta lazy.\n",
    "\n",
    "Vemos cómo funciona esto en el siguiente ejemplo donde llamamos a la expresión `.round` en la columna `id` del DataFrame que previamente hemos creado."
   ]
  },
  {
   "cell_type": "code",
   "execution_count": 7,
   "id": "5b610d64-d158-4ecf-b163-acf36303c75c",
   "metadata": {
    "tags": []
   },
   "outputs": [
    {
     "ename": "InvalidOperationError",
     "evalue": "`round` operation not supported for dtype `i64`",
     "output_type": "error",
     "traceback": [
      "\u001b[0;31m---------------------------------------------------------------------------\u001b[0m",
      "\u001b[0;31mInvalidOperationError\u001b[0m                     Traceback (most recent call last)",
      "Cell \u001b[0;32mIn[7], line 1\u001b[0m\n\u001b[0;32m----> 1\u001b[0m \u001b[43mdf_lazy\u001b[49m\u001b[38;5;241;43m.\u001b[39;49m\u001b[43mwith_columns\u001b[49m\u001b[43m(\u001b[49m\u001b[43mcol\u001b[49m\u001b[43m(\u001b[49m\u001b[38;5;124;43m'\u001b[39;49m\u001b[38;5;124;43mid\u001b[39;49m\u001b[38;5;124;43m'\u001b[39;49m\u001b[43m)\u001b[49m\u001b[38;5;241;43m.\u001b[39;49m\u001b[43mround\u001b[49m\u001b[43m(\u001b[49m\u001b[38;5;241;43m0\u001b[39;49m\u001b[43m)\u001b[49m\u001b[43m)\u001b[49m\u001b[38;5;241;43m.\u001b[39;49m\u001b[43mcollect\u001b[49m\u001b[43m(\u001b[49m\u001b[43m)\u001b[49m\n",
      "File \u001b[0;32m~/Library/Python/3.9/lib/python/site-packages/polars/lazyframe/frame.py:1810\u001b[0m, in \u001b[0;36mLazyFrame.collect\u001b[0;34m(self, type_coercion, predicate_pushdown, projection_pushdown, simplify_expression, slice_pushdown, comm_subplan_elim, comm_subexpr_elim, no_optimization, streaming, background, _eager)\u001b[0m\n\u001b[1;32m   1807\u001b[0m \u001b[38;5;28;01mif\u001b[39;00m background:\n\u001b[1;32m   1808\u001b[0m     \u001b[38;5;28;01mreturn\u001b[39;00m InProcessQuery(ldf\u001b[38;5;241m.\u001b[39mcollect_concurrently())\n\u001b[0;32m-> 1810\u001b[0m \u001b[38;5;28;01mreturn\u001b[39;00m wrap_df(\u001b[43mldf\u001b[49m\u001b[38;5;241;43m.\u001b[39;49m\u001b[43mcollect\u001b[49m\u001b[43m(\u001b[49m\u001b[43m)\u001b[49m)\n",
      "\u001b[0;31mInvalidOperationError\u001b[0m: `round` operation not supported for dtype `i64`"
     ]
    }
   ],
   "source": [
    "df_lazy.with_columns(col('id').round(0)).collect()"
   ]
  },
  {
   "cell_type": "markdown",
   "id": "5f6dc43c-28fb-452d-8492-7e2fc05d6b5e",
   "metadata": {},
   "source": [
    "Los que ha sucedido es que la expresión `.round` solo es válida para columnas de tipo float. Llamar a `.round` en una columna de números enteros significa que la operación generará un  error de tipo `InvalidOperationError` cuando evaluemos la consulta con `collect`. Esta verificación de esquema ocurre antes de que se procesen los datos cuando llamamos a `collect`."
   ]
  },
  {
   "cell_type": "markdown",
   "id": "a72113e7-247c-4740-bc28-5e73367b8e71",
   "metadata": {},
   "source": [
    "## Manejo de operaciones no disponibles en la API lazy"
   ]
  },
  {
   "cell_type": "code",
   "execution_count": 8,
   "id": "4e05a3e5-dbea-47b5-a7ba-fef0b57d47a9",
   "metadata": {
    "tags": []
   },
   "outputs": [
    {
     "name": "stdout",
     "output_type": "stream",
     "text": [
      "shape: (1, 13)\n",
      "┌─────────┬────────────┬───────────┬───────────┬───┬───────────┬───────────┬───────────┬───────────┐\n",
      "│ AIRLINE ┆ 1          ┆ 2         ┆ 3         ┆ … ┆ 9         ┆ 10        ┆ 11        ┆ 12        │\n",
      "│ ---     ┆ ---        ┆ ---       ┆ ---       ┆   ┆ ---       ┆ ---       ┆ ---       ┆ ---       │\n",
      "│ str     ┆ f64        ┆ f64       ┆ f64       ┆   ┆ f64       ┆ f64       ┆ f64       ┆ f64       │\n",
      "╞═════════╪════════════╪═══════════╪═══════════╪═══╪═══════════╪═══════════╪═══════════╪═══════════╡\n",
      "│ AA      ┆ 144.820147 ┆ 145.54276 ┆ 146.06545 ┆ … ┆ 134.30460 ┆ 133.53565 ┆ 134.35981 ┆ 138.49798 │\n",
      "│         ┆            ┆ 5         ┆ 9         ┆   ┆ 4         ┆ 7         ┆ 5         ┆ 9         │\n",
      "└─────────┴────────────┴───────────┴───────────┴───┴───────────┴───────────┴───────────┴───────────┘\n"
     ]
    }
   ],
   "source": [
    "lazy_eager_query = (\n",
    "    pl.scan_parquet('./data/vuelos/vuelos.parquet').with_columns(\n",
    "        air_time_hrs=(col('AIR_TIME') / 60)\n",
    "    )\n",
    "    .collect()\n",
    "    .pivot(\n",
    "        index='AIRLINE', columns='MONTH', values='AIR_TIME', aggregate_function='mean'\n",
    "    )\n",
    "    .lazy()\n",
    "    .filter(col('AIRLINE') == 'AA')\n",
    "    .collect()\n",
    ")\n",
    "\n",
    "print(lazy_eager_query)"
   ]
  }
 ],
 "metadata": {
  "kernelspec": {
   "display_name": "Python 3 (ipykernel)",
   "language": "python",
   "name": "python3"
  },
  "language_info": {
   "codemirror_mode": {
    "name": "ipython",
    "version": 3
   },
   "file_extension": ".py",
   "mimetype": "text/x-python",
   "name": "python",
   "nbconvert_exporter": "python",
   "pygments_lexer": "ipython3",
   "version": "3.9.6"
  }
 },
 "nbformat": 4,
 "nbformat_minor": 5
}
