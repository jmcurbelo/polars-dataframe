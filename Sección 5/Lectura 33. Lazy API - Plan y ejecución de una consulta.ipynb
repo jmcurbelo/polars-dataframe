{
 "cells": [
  {
   "cell_type": "markdown",
   "id": "e3bf9476-2f40-4572-bed5-6900bc93e88a",
   "metadata": {},
   "source": [
    "# Lectura 33: Lazy API - Plan y ejecución de una consulta"
   ]
  },
  {
   "cell_type": "markdown",
   "id": "54f45147-de26-4288-b97e-7e57c1545294",
   "metadata": {},
   "source": [
    "## Plan de consulta\n",
    "\n",
    "Para cualquier consulta lazy, Polars tiene ambos:\n",
    "\n",
    "- **Un plan no optimizado:** este contiene el conjunto de pasos en código qu ele proporcionamos.\n",
    "- **Un plan optimizado:** que contiene cambios realizados por el optimizador de consultas\n",
    "\n",
    "Consideremos la siguiente consulta:"
   ]
  },
  {
   "cell_type": "code",
   "execution_count": 1,
   "id": "a6657b11-4382-445e-b727-1ee13bfa1a95",
   "metadata": {
    "tags": []
   },
   "outputs": [],
   "source": [
    "import polars as pl\n",
    "from polars import col\n",
    "\n",
    "query = (\n",
    "    pl.scan_parquet('./data/vuelos/vuelos.parquet')\n",
    "    .with_columns(tiempo_aire_hrs=(col('AIR_TIME') / 60))\n",
    "    .filter(col('MONTH') > 7)\n",
    ")"
   ]
  },
  {
   "cell_type": "markdown",
   "id": "fbcf86e3-baff-4fd1-bafe-0b0262da6eaf",
   "metadata": {},
   "source": [
    "Primero visualizaremos el plan no optimizado con la función `show_graph` estableciendo el parámetro `optimized=False`.\n",
    "\n",
    "**Nota Importante:**\n",
    "\n",
    "Para visualizar los gráficos será necesario instalar la librería `graphviz` la cual la podemos instalar ejecutando en una celda de código el comando `pip install graphviz`. Además, necesitará instalar el programa `graphviz` en su sistema operativo.\n",
    "\n",
    "**Para errores y dudas pueden visitar el siguiente enlace:**\n",
    "\n",
    "(Solución de errores graphviz)[https://stackoverflow.com/questions/35064304/runtimeerror-make-sure-the-graphviz-executables-are-on-your-systems-path-aft]"
   ]
  },
  {
   "cell_type": "code",
   "execution_count": 2,
   "id": "a9bac6b0-2745-4b9d-abc0-ef09daa356f0",
   "metadata": {
    "tags": []
   },
   "outputs": [],
   "source": [
    "# Descomentar y ejecutar solo si no está instalada la librería graphviz\n",
    "# !pip3 install graphviz"
   ]
  },
  {
   "cell_type": "code",
   "execution_count": 3,
   "id": "dd85d4b3-7d2f-4156-b932-713ed4db5e9f",
   "metadata": {
    "tags": []
   },
   "outputs": [
    {
     "data": {
      "image/svg+xml": [
       "<svg xmlns=\"http://www.w3.org/2000/svg\" xmlns:xlink=\"http://www.w3.org/1999/xlink\" width=\"265pt\" height=\"210pt\" viewBox=\"0.00 0.00 264.75 209.50\">\n",
       "<g id=\"graph0\" class=\"graph\" transform=\"scale(1 1) rotate(0) translate(4 205.5)\">\n",
       "<title>polars_query</title>\n",
       "<polygon fill=\"white\" stroke=\"none\" points=\"-4,4 -4,-205.5 260.75,-205.5 260.75,4 -4,4\"/>\n",
       "<!-- FILTER BY (col(&quot;MONTH&quot;)) &gt; (dyn int... [(0, 0)] -->\n",
       "<g id=\"node1\" class=\"node\">\n",
       "<title>FILTER BY (col(&quot;MONTH&quot;)) &gt; (dyn int... [(0, 0)]</title>\n",
       "<polygon fill=\"none\" stroke=\"black\" points=\"255.25,-201.5 1.5,-201.5 1.5,-165.5 255.25,-165.5 255.25,-201.5\"/>\n",
       "<text text-anchor=\"middle\" x=\"128.38\" y=\"-178.45\" font-family=\"Times,serif\" font-size=\"14.00\">FILTER BY (col(&quot;MONTH&quot;)) &gt; (dyn int...</text>\n",
       "</g>\n",
       "<!-- WITH COLUMNS [&quot;tiempo_aire_hrs&quot;] [(0, 1)] -->\n",
       "<g id=\"node2\" class=\"node\">\n",
       "<title>WITH COLUMNS [&quot;tiempo_aire_hrs&quot;] [(0, 1)]</title>\n",
       "<polygon fill=\"none\" stroke=\"black\" points=\"246.25,-129.5 10.5,-129.5 10.5,-93.5 246.25,-93.5 246.25,-129.5\"/>\n",
       "<text text-anchor=\"middle\" x=\"128.38\" y=\"-106.45\" font-family=\"Times,serif\" font-size=\"14.00\">WITH COLUMNS [&quot;tiempo_aire_hrs&quot;]</text>\n",
       "</g>\n",
       "<!-- FILTER BY (col(&quot;MONTH&quot;)) &gt; (dyn int... [(0, 0)]&#45;&#45;WITH COLUMNS [&quot;tiempo_aire_hrs&quot;] [(0, 1)] -->\n",
       "<g id=\"edge1\" class=\"edge\">\n",
       "<title>FILTER BY (col(&quot;MONTH&quot;)) &gt; (dyn int... [(0, 0)]--WITH COLUMNS [&quot;tiempo_aire_hrs&quot;] [(0, 1)]</title>\n",
       "<path fill=\"none\" stroke=\"black\" d=\"M128.38,-165.2C128.38,-154.35 128.38,-140.42 128.38,-129.6\"/>\n",
       "</g>\n",
       "<!-- Parquet SCAN ./data/vuelos/vuelos.parquet;\n",
       "π */?;\n",
       "σ &#45; [(0, 2)] -->\n",
       "<g id=\"node3\" class=\"node\">\n",
       "<title>Parquet SCAN ./data/vuelos/vuelos.parquet;\n",
       "π */?;\n",
       "σ - [(0, 2)]</title>\n",
       "<polygon fill=\"none\" stroke=\"black\" points=\"256.75,-57.5 0,-57.5 0,0 256.75,0 256.75,-57.5\"/>\n",
       "<text text-anchor=\"middle\" x=\"128.38\" y=\"-40.2\" font-family=\"Times,serif\" font-size=\"14.00\">Parquet SCAN ./data/vuelos/vuelos.parquet;</text>\n",
       "<text text-anchor=\"middle\" x=\"128.38\" y=\"-23.7\" font-family=\"Times,serif\" font-size=\"14.00\">π */?;</text>\n",
       "<text text-anchor=\"middle\" x=\"128.38\" y=\"-7.2\" font-family=\"Times,serif\" font-size=\"14.00\">σ -</text>\n",
       "</g>\n",
       "<!-- WITH COLUMNS [&quot;tiempo_aire_hrs&quot;] [(0, 1)]&#45;&#45;Parquet SCAN ./data/vuelos/vuelos.parquet;\n",
       "π */?;\n",
       "σ &#45; [(0, 2)] -->\n",
       "<g id=\"edge2\" class=\"edge\">\n",
       "<title>WITH COLUMNS [&quot;tiempo_aire_hrs&quot;] [(0, 1)]--Parquet SCAN ./data/vuelos/vuelos.parquet;\n",
       "π */?;\n",
       "σ - [(0, 2)]</title>\n",
       "<path fill=\"none\" stroke=\"black\" d=\"M128.38,-93.38C128.38,-83.1 128.38,-69.77 128.38,-57.97\"/>\n",
       "</g>\n",
       "</g>\n",
       "</svg>"
      ],
      "text/plain": [
       "<IPython.core.display.SVG object>"
      ]
     },
     "metadata": {},
     "output_type": "display_data"
    }
   ],
   "source": [
    "query.show_graph(optimized=False)"
   ]
  },
  {
   "cell_type": "markdown",
   "id": "ce4fcad9-1535-4378-88ca-01f715c862c2",
   "metadata": {},
   "source": [
    "La visualización del plan de consulta debe leerse de abajo hacia arriba. Expliquemos como leer esta salida:\n",
    "\n",
    "- Cada rectángulo corresponde a una etapa del plan de consulta\n",
    "- El `sigma` significa SELECCIÓN e indica cualquier condición de filtro\n",
    "- El `pi` significa PROYECCIÓN e indica la elección de un subconjunto de columnas"
   ]
  },
  {
   "cell_type": "markdown",
   "id": "3e4053f1-22ee-4255-b114-e19bfc5550e9",
   "metadata": {},
   "source": [
    "Ahora visualizaremos el pan de consulta optimizado."
   ]
  },
  {
   "cell_type": "code",
   "execution_count": 4,
   "id": "cf0e924c-4c2b-4507-86e4-4d4ed3387b17",
   "metadata": {
    "tags": []
   },
   "outputs": [
    {
     "data": {
      "image/svg+xml": [
       "<svg xmlns=\"http://www.w3.org/2000/svg\" xmlns:xlink=\"http://www.w3.org/1999/xlink\" width=\"265pt\" height=\"138pt\" viewBox=\"0.00 0.00 264.75 137.50\">\n",
       "<g id=\"graph0\" class=\"graph\" transform=\"scale(1 1) rotate(0) translate(4 133.5)\">\n",
       "<title>polars_query</title>\n",
       "<polygon fill=\"white\" stroke=\"none\" points=\"-4,4 -4,-133.5 260.75,-133.5 260.75,4 -4,4\"/>\n",
       "<!-- WITH COLUMNS [&quot;tiempo_aire_hrs&quot;] [(0, 0)] -->\n",
       "<g id=\"node1\" class=\"node\">\n",
       "<title>WITH COLUMNS [&quot;tiempo_aire_hrs&quot;] [(0, 0)]</title>\n",
       "<polygon fill=\"none\" stroke=\"black\" points=\"246.25,-129.5 10.5,-129.5 10.5,-93.5 246.25,-93.5 246.25,-129.5\"/>\n",
       "<text text-anchor=\"middle\" x=\"128.38\" y=\"-106.45\" font-family=\"Times,serif\" font-size=\"14.00\">WITH COLUMNS [&quot;tiempo_aire_hrs&quot;]</text>\n",
       "</g>\n",
       "<!-- Parquet SCAN ./data/vuelos/vuelos.parquet;\n",
       "π */31;\n",
       "σ (col(&quot;MONTH&quot;)) &gt; (7) [(0, 1)] -->\n",
       "<g id=\"node2\" class=\"node\">\n",
       "<title>Parquet SCAN ./data/vuelos/vuelos.parquet;\n",
       "π */31;\n",
       "σ (col(&quot;MONTH&quot;)) &gt; (7) [(0, 1)]</title>\n",
       "<polygon fill=\"none\" stroke=\"black\" points=\"256.75,-57.5 0,-57.5 0,0 256.75,0 256.75,-57.5\"/>\n",
       "<text text-anchor=\"middle\" x=\"128.38\" y=\"-40.2\" font-family=\"Times,serif\" font-size=\"14.00\">Parquet SCAN ./data/vuelos/vuelos.parquet;</text>\n",
       "<text text-anchor=\"middle\" x=\"128.38\" y=\"-23.7\" font-family=\"Times,serif\" font-size=\"14.00\">π */31;</text>\n",
       "<text text-anchor=\"middle\" x=\"128.38\" y=\"-7.2\" font-family=\"Times,serif\" font-size=\"14.00\">σ (col(&quot;MONTH&quot;)) &gt; (7)</text>\n",
       "</g>\n",
       "<!-- WITH COLUMNS [&quot;tiempo_aire_hrs&quot;] [(0, 0)]&#45;&#45;Parquet SCAN ./data/vuelos/vuelos.parquet;\n",
       "π */31;\n",
       "σ (col(&quot;MONTH&quot;)) &gt; (7) [(0, 1)] -->\n",
       "<g id=\"edge1\" class=\"edge\">\n",
       "<title>WITH COLUMNS [&quot;tiempo_aire_hrs&quot;] [(0, 0)]--Parquet SCAN ./data/vuelos/vuelos.parquet;\n",
       "π */31;\n",
       "σ (col(&quot;MONTH&quot;)) &gt; (7) [(0, 1)]</title>\n",
       "<path fill=\"none\" stroke=\"black\" d=\"M128.38,-93.38C128.38,-83.1 128.38,-69.77 128.38,-57.97\"/>\n",
       "</g>\n",
       "</g>\n",
       "</svg>"
      ],
      "text/plain": [
       "<IPython.core.display.SVG object>"
      ]
     },
     "metadata": {},
     "output_type": "display_data"
    }
   ],
   "source": [
    "query.show_graph()"
   ]
  },
  {
   "cell_type": "markdown",
   "id": "bd4e7119-a503-4bf9-a183-758c061e6868",
   "metadata": {},
   "source": [
    "### Imprimir el plan de consulta\n",
    "\n",
    "También podemos imprimir el plan no optimizado con `explain(optimized=False)`."
   ]
  },
  {
   "cell_type": "code",
   "execution_count": 6,
   "id": "2064923c-71fb-4cab-bc55-41d98380b4f9",
   "metadata": {
    "tags": []
   },
   "outputs": [
    {
     "name": "stdout",
     "output_type": "stream",
     "text": [
      "FILTER [(col(\"MONTH\")) > (dyn int: 7)] FROM\n",
      " WITH_COLUMNS:\n",
      " [[(col(\"AIR_TIME\")) / (dyn int: 60)].alias(\"tiempo_aire_hrs\")]\n",
      "\n",
      "    Parquet SCAN ./data/vuelos/vuelos.parquet\n",
      "    PROJECT */? COLUMNS\n"
     ]
    }
   ],
   "source": [
    "print(query.explain(optimized=False))"
   ]
  },
  {
   "cell_type": "markdown",
   "id": "5e9db4ad-3afe-4459-9577-336cf594c3a0",
   "metadata": {},
   "source": [
    "Imprimamos el plan de consulta optimizado."
   ]
  },
  {
   "cell_type": "code",
   "execution_count": 8,
   "id": "70e34340-d010-4ffb-b78e-ff1ffa205493",
   "metadata": {
    "tags": []
   },
   "outputs": [
    {
     "name": "stdout",
     "output_type": "stream",
     "text": [
      " WITH_COLUMNS:\n",
      " [[(col(\"AIR_TIME\")) / (60)].alias(\"tiempo_aire_hrs\")]\n",
      "\n",
      "    Parquet SCAN ./data/vuelos/vuelos.parquet\n",
      "    PROJECT */31 COLUMNS\n",
      "    SELECTION: [(col(\"MONTH\")) > (7)]\n"
     ]
    }
   ],
   "source": [
    "print(query.explain())"
   ]
  },
  {
   "cell_type": "markdown",
   "id": "092ecf3c-310e-4b2b-bfb5-fe975be35e8b",
   "metadata": {},
   "source": [
    "## Ejecución de una consulta"
   ]
  },
  {
   "cell_type": "code",
   "execution_count": 9,
   "id": "28f0a96f-cefc-40e6-b569-9c73c8cd734f",
   "metadata": {},
   "outputs": [],
   "source": [
    "query = (\n",
    "    pl.scan_parquet('./data/vuelos/vuelos.parquet')\n",
    "    .with_columns(tiempo_aire_hrs=(col('AIR_TIME') / 60))\n",
    "    .filter(col('MONTH') > 7)\n",
    ")"
   ]
  },
  {
   "cell_type": "markdown",
   "id": "daff6dcf-9e01-4e84-863a-f62ddf819855",
   "metadata": {},
   "source": [
    "Si tuviéramos que ejecutar el código anterior en el dataset de vuelos, la consulta no se evaluaría. En cambio, Polars toma cada línea de código, la agrega al gráfico de consulta interno y lo optimiza.\n",
    "\n",
    "Cuando ejecutamos el código, Polars ejecuta el gráfico de consulta optimizado de forma predeterminada.\n",
    "\n",
    "Podemos ejecutar nuestra consulta en el conjunto de datos completo llamando al método `.collect` en la consulta."
   ]
  },
  {
   "cell_type": "code",
   "execution_count": 10,
   "id": "ff5fe6b7-e841-4e65-ae6c-68b845fa3cb9",
   "metadata": {
    "tags": []
   },
   "outputs": [
    {
     "data": {
      "text/html": [
       "<div><style>\n",
       ".dataframe > thead > tr,\n",
       ".dataframe > tbody > tr {\n",
       "  text-align: right;\n",
       "  white-space: pre-wrap;\n",
       "}\n",
       "</style>\n",
       "<small>shape: (2_408_849, 32)</small><table border=\"1\" class=\"dataframe\"><thead><tr><th>YEAR</th><th>MONTH</th><th>DAY</th><th>DAY_OF_WEEK</th><th>AIRLINE</th><th>FLIGHT_NUMBER</th><th>TAIL_NUMBER</th><th>ORIGIN_AIRPORT</th><th>DESTINATION_AIRPORT</th><th>SCHEDULED_DEPARTURE</th><th>DEPARTURE_TIME</th><th>DEPARTURE_DELAY</th><th>TAXI_OUT</th><th>WHEELS_OFF</th><th>SCHEDULED_TIME</th><th>ELAPSED_TIME</th><th>AIR_TIME</th><th>DISTANCE</th><th>WHEELS_ON</th><th>TAXI_IN</th><th>SCHEDULED_ARRIVAL</th><th>ARRIVAL_TIME</th><th>ARRIVAL_DELAY</th><th>DIVERTED</th><th>CANCELLED</th><th>CANCELLATION_REASON</th><th>AIR_SYSTEM_DELAY</th><th>SECURITY_DELAY</th><th>AIRLINE_DELAY</th><th>LATE_AIRCRAFT_DELAY</th><th>WEATHER_DELAY</th><th>tiempo_aire_hrs</th></tr><tr><td>i32</td><td>i32</td><td>i32</td><td>i32</td><td>str</td><td>i32</td><td>str</td><td>str</td><td>str</td><td>i32</td><td>i32</td><td>i32</td><td>i32</td><td>i32</td><td>i32</td><td>i32</td><td>i32</td><td>i32</td><td>i32</td><td>i32</td><td>i32</td><td>i32</td><td>i32</td><td>i32</td><td>i32</td><td>str</td><td>i32</td><td>i32</td><td>i32</td><td>i32</td><td>i32</td><td>f64</td></tr></thead><tbody><tr><td>2015</td><td>8</td><td>1</td><td>6</td><td>&quot;NK&quot;</td><td>298</td><td>&quot;N614NK&quot;</td><td>&quot;LAS&quot;</td><td>&quot;IAH&quot;</td><td>3</td><td>55</td><td>52</td><td>12</td><td>107</td><td>177</td><td>173</td><td>153</td><td>1222</td><td>540</td><td>8</td><td>500</td><td>548</td><td>48</td><td>0</td><td>0</td><td>null</td><td>48</td><td>0</td><td>0</td><td>0</td><td>0</td><td>2.55</td></tr><tr><td>2015</td><td>8</td><td>1</td><td>6</td><td>&quot;AA&quot;</td><td>1965</td><td>&quot;N587UW&quot;</td><td>&quot;SFO&quot;</td><td>&quot;CLT&quot;</td><td>5</td><td>16</td><td>11</td><td>17</td><td>33</td><td>303</td><td>291</td><td>260</td><td>2296</td><td>753</td><td>14</td><td>808</td><td>807</td><td>-1</td><td>0</td><td>0</td><td>null</td><td>null</td><td>null</td><td>null</td><td>null</td><td>null</td><td>4.333333</td></tr><tr><td>2015</td><td>8</td><td>1</td><td>6</td><td>&quot;NK&quot;</td><td>612</td><td>&quot;N631NK&quot;</td><td>&quot;LAS&quot;</td><td>&quot;MSP&quot;</td><td>5</td><td>37</td><td>32</td><td>11</td><td>48</td><td>175</td><td>165</td><td>149</td><td>1299</td><td>517</td><td>5</td><td>500</td><td>522</td><td>22</td><td>0</td><td>0</td><td>null</td><td>22</td><td>0</td><td>0</td><td>0</td><td>0</td><td>2.483333</td></tr><tr><td>2015</td><td>8</td><td>1</td><td>6</td><td>&quot;AA&quot;</td><td>260</td><td>&quot;N3BPAA&quot;</td><td>&quot;LAX&quot;</td><td>&quot;MIA&quot;</td><td>10</td><td>8</td><td>-2</td><td>23</td><td>31</td><td>312</td><td>307</td><td>278</td><td>2342</td><td>809</td><td>6</td><td>822</td><td>815</td><td>-7</td><td>0</td><td>0</td><td>null</td><td>null</td><td>null</td><td>null</td><td>null</td><td>null</td><td>4.633333</td></tr><tr><td>2015</td><td>8</td><td>1</td><td>6</td><td>&quot;AA&quot;</td><td>448</td><td>&quot;N165US&quot;</td><td>&quot;SLC&quot;</td><td>&quot;CLT&quot;</td><td>15</td><td>54</td><td>39</td><td>16</td><td>110</td><td>234</td><td>219</td><td>198</td><td>1727</td><td>628</td><td>5</td><td>609</td><td>633</td><td>24</td><td>0</td><td>0</td><td>null</td><td>0</td><td>0</td><td>2</td><td>22</td><td>0</td><td>3.3</td></tr><tr><td>&hellip;</td><td>&hellip;</td><td>&hellip;</td><td>&hellip;</td><td>&hellip;</td><td>&hellip;</td><td>&hellip;</td><td>&hellip;</td><td>&hellip;</td><td>&hellip;</td><td>&hellip;</td><td>&hellip;</td><td>&hellip;</td><td>&hellip;</td><td>&hellip;</td><td>&hellip;</td><td>&hellip;</td><td>&hellip;</td><td>&hellip;</td><td>&hellip;</td><td>&hellip;</td><td>&hellip;</td><td>&hellip;</td><td>&hellip;</td><td>&hellip;</td><td>&hellip;</td><td>&hellip;</td><td>&hellip;</td><td>&hellip;</td><td>&hellip;</td><td>&hellip;</td><td>&hellip;</td></tr><tr><td>2015</td><td>12</td><td>31</td><td>4</td><td>&quot;B6&quot;</td><td>688</td><td>&quot;N657JB&quot;</td><td>&quot;LAX&quot;</td><td>&quot;BOS&quot;</td><td>2359</td><td>2355</td><td>-4</td><td>22</td><td>17</td><td>320</td><td>298</td><td>272</td><td>2611</td><td>749</td><td>4</td><td>819</td><td>753</td><td>-26</td><td>0</td><td>0</td><td>null</td><td>null</td><td>null</td><td>null</td><td>null</td><td>null</td><td>4.533333</td></tr><tr><td>2015</td><td>12</td><td>31</td><td>4</td><td>&quot;B6&quot;</td><td>745</td><td>&quot;N828JB&quot;</td><td>&quot;JFK&quot;</td><td>&quot;PSE&quot;</td><td>2359</td><td>2355</td><td>-4</td><td>17</td><td>12</td><td>227</td><td>215</td><td>195</td><td>1617</td><td>427</td><td>3</td><td>446</td><td>430</td><td>-16</td><td>0</td><td>0</td><td>null</td><td>null</td><td>null</td><td>null</td><td>null</td><td>null</td><td>3.25</td></tr><tr><td>2015</td><td>12</td><td>31</td><td>4</td><td>&quot;B6&quot;</td><td>1503</td><td>&quot;N913JB&quot;</td><td>&quot;JFK&quot;</td><td>&quot;SJU&quot;</td><td>2359</td><td>2350</td><td>-9</td><td>17</td><td>7</td><td>221</td><td>222</td><td>197</td><td>1598</td><td>424</td><td>8</td><td>440</td><td>432</td><td>-8</td><td>0</td><td>0</td><td>null</td><td>null</td><td>null</td><td>null</td><td>null</td><td>null</td><td>3.283333</td></tr><tr><td>2015</td><td>12</td><td>31</td><td>4</td><td>&quot;B6&quot;</td><td>333</td><td>&quot;N527JB&quot;</td><td>&quot;MCO&quot;</td><td>&quot;SJU&quot;</td><td>2359</td><td>2353</td><td>-6</td><td>10</td><td>3</td><td>161</td><td>157</td><td>144</td><td>1189</td><td>327</td><td>3</td><td>340</td><td>330</td><td>-10</td><td>0</td><td>0</td><td>null</td><td>null</td><td>null</td><td>null</td><td>null</td><td>null</td><td>2.4</td></tr><tr><td>2015</td><td>12</td><td>31</td><td>4</td><td>&quot;B6&quot;</td><td>839</td><td>&quot;N534JB&quot;</td><td>&quot;JFK&quot;</td><td>&quot;BQN&quot;</td><td>2359</td><td>14</td><td>15</td><td>14</td><td>28</td><td>221</td><td>208</td><td>189</td><td>1576</td><td>437</td><td>5</td><td>440</td><td>442</td><td>2</td><td>0</td><td>0</td><td>null</td><td>null</td><td>null</td><td>null</td><td>null</td><td>null</td><td>3.15</td></tr></tbody></table></div>"
      ],
      "text/plain": [
       "shape: (2_408_849, 32)\n",
       "┌──────┬───────┬─────┬─────────────┬───┬──────────────┬──────────────┬──────────────┬──────────────┐\n",
       "│ YEAR ┆ MONTH ┆ DAY ┆ DAY_OF_WEEK ┆ … ┆ AIRLINE_DELA ┆ LATE_AIRCRAF ┆ WEATHER_DELA ┆ tiempo_aire_ │\n",
       "│ ---  ┆ ---   ┆ --- ┆ ---         ┆   ┆ Y            ┆ T_DELAY      ┆ Y            ┆ hrs          │\n",
       "│ i32  ┆ i32   ┆ i32 ┆ i32         ┆   ┆ ---          ┆ ---          ┆ ---          ┆ ---          │\n",
       "│      ┆       ┆     ┆             ┆   ┆ i32          ┆ i32          ┆ i32          ┆ f64          │\n",
       "╞══════╪═══════╪═════╪═════════════╪═══╪══════════════╪══════════════╪══════════════╪══════════════╡\n",
       "│ 2015 ┆ 8     ┆ 1   ┆ 6           ┆ … ┆ 0            ┆ 0            ┆ 0            ┆ 2.55         │\n",
       "│ 2015 ┆ 8     ┆ 1   ┆ 6           ┆ … ┆ null         ┆ null         ┆ null         ┆ 4.333333     │\n",
       "│ 2015 ┆ 8     ┆ 1   ┆ 6           ┆ … ┆ 0            ┆ 0            ┆ 0            ┆ 2.483333     │\n",
       "│ 2015 ┆ 8     ┆ 1   ┆ 6           ┆ … ┆ null         ┆ null         ┆ null         ┆ 4.633333     │\n",
       "│ 2015 ┆ 8     ┆ 1   ┆ 6           ┆ … ┆ 2            ┆ 22           ┆ 0            ┆ 3.3          │\n",
       "│ …    ┆ …     ┆ …   ┆ …           ┆ … ┆ …            ┆ …            ┆ …            ┆ …            │\n",
       "│ 2015 ┆ 12    ┆ 31  ┆ 4           ┆ … ┆ null         ┆ null         ┆ null         ┆ 4.533333     │\n",
       "│ 2015 ┆ 12    ┆ 31  ┆ 4           ┆ … ┆ null         ┆ null         ┆ null         ┆ 3.25         │\n",
       "│ 2015 ┆ 12    ┆ 31  ┆ 4           ┆ … ┆ null         ┆ null         ┆ null         ┆ 3.283333     │\n",
       "│ 2015 ┆ 12    ┆ 31  ┆ 4           ┆ … ┆ null         ┆ null         ┆ null         ┆ 2.4          │\n",
       "│ 2015 ┆ 12    ┆ 31  ┆ 4           ┆ … ┆ null         ┆ null         ┆ null         ┆ 3.15         │\n",
       "└──────┴───────┴─────┴─────────────┴───┴──────────────┴──────────────┴──────────────┴──────────────┘"
      ]
     },
     "execution_count": 10,
     "metadata": {},
     "output_type": "execute_result"
    }
   ],
   "source": [
    "query = (\n",
    "    pl.scan_parquet('./data/vuelos/vuelos.parquet')\n",
    "    .with_columns(tiempo_aire_hrs=(col('AIR_TIME') / 60))\n",
    "    .filter(col('MONTH') > 7)\n",
    "    .collect()\n",
    ")\n",
    "\n",
    "query"
   ]
  },
  {
   "cell_type": "markdown",
   "id": "fe56b050-cbd6-486c-8540-41afabd687cf",
   "metadata": {},
   "source": [
    "Con el método por defecto collect, Polars procesa todos sus datos como un solo lote. Esto significa que todos los datos deben caber en la memoria disponible en el punto de mayor uso de la memoria en la consulta."
   ]
  },
  {
   "cell_type": "markdown",
   "id": "b9a718d7-88eb-4efe-9cf8-dd326a4dfad9",
   "metadata": {},
   "source": [
    "## Ejecución en datos más grandes que la memoria\n",
    "\n",
    "Si nuestros datos requieren más memoria de la que tenemos disponible, es posible que Polars pueda procesar los datos en lotes  (batches en inglés) utilizando el modo de streaming. Para usar el modo streaming simplemente pasamos el argumento `streaming=True` a `collect`."
   ]
  },
  {
   "cell_type": "code",
   "execution_count": 11,
   "id": "728c2062-cf2d-47f4-951e-9b77c6b97504",
   "metadata": {
    "tags": []
   },
   "outputs": [
    {
     "data": {
      "text/html": [
       "<div><style>\n",
       ".dataframe > thead > tr,\n",
       ".dataframe > tbody > tr {\n",
       "  text-align: right;\n",
       "  white-space: pre-wrap;\n",
       "}\n",
       "</style>\n",
       "<small>shape: (2_408_849, 32)</small><table border=\"1\" class=\"dataframe\"><thead><tr><th>YEAR</th><th>MONTH</th><th>DAY</th><th>DAY_OF_WEEK</th><th>AIRLINE</th><th>FLIGHT_NUMBER</th><th>TAIL_NUMBER</th><th>ORIGIN_AIRPORT</th><th>DESTINATION_AIRPORT</th><th>SCHEDULED_DEPARTURE</th><th>DEPARTURE_TIME</th><th>DEPARTURE_DELAY</th><th>TAXI_OUT</th><th>WHEELS_OFF</th><th>SCHEDULED_TIME</th><th>ELAPSED_TIME</th><th>AIR_TIME</th><th>DISTANCE</th><th>WHEELS_ON</th><th>TAXI_IN</th><th>SCHEDULED_ARRIVAL</th><th>ARRIVAL_TIME</th><th>ARRIVAL_DELAY</th><th>DIVERTED</th><th>CANCELLED</th><th>CANCELLATION_REASON</th><th>AIR_SYSTEM_DELAY</th><th>SECURITY_DELAY</th><th>AIRLINE_DELAY</th><th>LATE_AIRCRAFT_DELAY</th><th>WEATHER_DELAY</th><th>tiempo_aire_hrs</th></tr><tr><td>i32</td><td>i32</td><td>i32</td><td>i32</td><td>str</td><td>i32</td><td>str</td><td>str</td><td>str</td><td>i32</td><td>i32</td><td>i32</td><td>i32</td><td>i32</td><td>i32</td><td>i32</td><td>i32</td><td>i32</td><td>i32</td><td>i32</td><td>i32</td><td>i32</td><td>i32</td><td>i32</td><td>i32</td><td>str</td><td>i32</td><td>i32</td><td>i32</td><td>i32</td><td>i32</td><td>f64</td></tr></thead><tbody><tr><td>2015</td><td>8</td><td>1</td><td>6</td><td>&quot;NK&quot;</td><td>298</td><td>&quot;N614NK&quot;</td><td>&quot;LAS&quot;</td><td>&quot;IAH&quot;</td><td>3</td><td>55</td><td>52</td><td>12</td><td>107</td><td>177</td><td>173</td><td>153</td><td>1222</td><td>540</td><td>8</td><td>500</td><td>548</td><td>48</td><td>0</td><td>0</td><td>null</td><td>48</td><td>0</td><td>0</td><td>0</td><td>0</td><td>2.55</td></tr><tr><td>2015</td><td>8</td><td>1</td><td>6</td><td>&quot;AA&quot;</td><td>1965</td><td>&quot;N587UW&quot;</td><td>&quot;SFO&quot;</td><td>&quot;CLT&quot;</td><td>5</td><td>16</td><td>11</td><td>17</td><td>33</td><td>303</td><td>291</td><td>260</td><td>2296</td><td>753</td><td>14</td><td>808</td><td>807</td><td>-1</td><td>0</td><td>0</td><td>null</td><td>null</td><td>null</td><td>null</td><td>null</td><td>null</td><td>4.333333</td></tr><tr><td>2015</td><td>8</td><td>1</td><td>6</td><td>&quot;NK&quot;</td><td>612</td><td>&quot;N631NK&quot;</td><td>&quot;LAS&quot;</td><td>&quot;MSP&quot;</td><td>5</td><td>37</td><td>32</td><td>11</td><td>48</td><td>175</td><td>165</td><td>149</td><td>1299</td><td>517</td><td>5</td><td>500</td><td>522</td><td>22</td><td>0</td><td>0</td><td>null</td><td>22</td><td>0</td><td>0</td><td>0</td><td>0</td><td>2.483333</td></tr><tr><td>2015</td><td>8</td><td>1</td><td>6</td><td>&quot;AA&quot;</td><td>260</td><td>&quot;N3BPAA&quot;</td><td>&quot;LAX&quot;</td><td>&quot;MIA&quot;</td><td>10</td><td>8</td><td>-2</td><td>23</td><td>31</td><td>312</td><td>307</td><td>278</td><td>2342</td><td>809</td><td>6</td><td>822</td><td>815</td><td>-7</td><td>0</td><td>0</td><td>null</td><td>null</td><td>null</td><td>null</td><td>null</td><td>null</td><td>4.633333</td></tr><tr><td>2015</td><td>8</td><td>1</td><td>6</td><td>&quot;AA&quot;</td><td>448</td><td>&quot;N165US&quot;</td><td>&quot;SLC&quot;</td><td>&quot;CLT&quot;</td><td>15</td><td>54</td><td>39</td><td>16</td><td>110</td><td>234</td><td>219</td><td>198</td><td>1727</td><td>628</td><td>5</td><td>609</td><td>633</td><td>24</td><td>0</td><td>0</td><td>null</td><td>0</td><td>0</td><td>2</td><td>22</td><td>0</td><td>3.3</td></tr><tr><td>&hellip;</td><td>&hellip;</td><td>&hellip;</td><td>&hellip;</td><td>&hellip;</td><td>&hellip;</td><td>&hellip;</td><td>&hellip;</td><td>&hellip;</td><td>&hellip;</td><td>&hellip;</td><td>&hellip;</td><td>&hellip;</td><td>&hellip;</td><td>&hellip;</td><td>&hellip;</td><td>&hellip;</td><td>&hellip;</td><td>&hellip;</td><td>&hellip;</td><td>&hellip;</td><td>&hellip;</td><td>&hellip;</td><td>&hellip;</td><td>&hellip;</td><td>&hellip;</td><td>&hellip;</td><td>&hellip;</td><td>&hellip;</td><td>&hellip;</td><td>&hellip;</td><td>&hellip;</td></tr><tr><td>2015</td><td>12</td><td>31</td><td>4</td><td>&quot;B6&quot;</td><td>688</td><td>&quot;N657JB&quot;</td><td>&quot;LAX&quot;</td><td>&quot;BOS&quot;</td><td>2359</td><td>2355</td><td>-4</td><td>22</td><td>17</td><td>320</td><td>298</td><td>272</td><td>2611</td><td>749</td><td>4</td><td>819</td><td>753</td><td>-26</td><td>0</td><td>0</td><td>null</td><td>null</td><td>null</td><td>null</td><td>null</td><td>null</td><td>4.533333</td></tr><tr><td>2015</td><td>12</td><td>31</td><td>4</td><td>&quot;B6&quot;</td><td>745</td><td>&quot;N828JB&quot;</td><td>&quot;JFK&quot;</td><td>&quot;PSE&quot;</td><td>2359</td><td>2355</td><td>-4</td><td>17</td><td>12</td><td>227</td><td>215</td><td>195</td><td>1617</td><td>427</td><td>3</td><td>446</td><td>430</td><td>-16</td><td>0</td><td>0</td><td>null</td><td>null</td><td>null</td><td>null</td><td>null</td><td>null</td><td>3.25</td></tr><tr><td>2015</td><td>12</td><td>31</td><td>4</td><td>&quot;B6&quot;</td><td>1503</td><td>&quot;N913JB&quot;</td><td>&quot;JFK&quot;</td><td>&quot;SJU&quot;</td><td>2359</td><td>2350</td><td>-9</td><td>17</td><td>7</td><td>221</td><td>222</td><td>197</td><td>1598</td><td>424</td><td>8</td><td>440</td><td>432</td><td>-8</td><td>0</td><td>0</td><td>null</td><td>null</td><td>null</td><td>null</td><td>null</td><td>null</td><td>3.283333</td></tr><tr><td>2015</td><td>12</td><td>31</td><td>4</td><td>&quot;B6&quot;</td><td>333</td><td>&quot;N527JB&quot;</td><td>&quot;MCO&quot;</td><td>&quot;SJU&quot;</td><td>2359</td><td>2353</td><td>-6</td><td>10</td><td>3</td><td>161</td><td>157</td><td>144</td><td>1189</td><td>327</td><td>3</td><td>340</td><td>330</td><td>-10</td><td>0</td><td>0</td><td>null</td><td>null</td><td>null</td><td>null</td><td>null</td><td>null</td><td>2.4</td></tr><tr><td>2015</td><td>12</td><td>31</td><td>4</td><td>&quot;B6&quot;</td><td>839</td><td>&quot;N534JB&quot;</td><td>&quot;JFK&quot;</td><td>&quot;BQN&quot;</td><td>2359</td><td>14</td><td>15</td><td>14</td><td>28</td><td>221</td><td>208</td><td>189</td><td>1576</td><td>437</td><td>5</td><td>440</td><td>442</td><td>2</td><td>0</td><td>0</td><td>null</td><td>null</td><td>null</td><td>null</td><td>null</td><td>null</td><td>3.15</td></tr></tbody></table></div>"
      ],
      "text/plain": [
       "shape: (2_408_849, 32)\n",
       "┌──────┬───────┬─────┬─────────────┬───┬──────────────┬──────────────┬──────────────┬──────────────┐\n",
       "│ YEAR ┆ MONTH ┆ DAY ┆ DAY_OF_WEEK ┆ … ┆ AIRLINE_DELA ┆ LATE_AIRCRAF ┆ WEATHER_DELA ┆ tiempo_aire_ │\n",
       "│ ---  ┆ ---   ┆ --- ┆ ---         ┆   ┆ Y            ┆ T_DELAY      ┆ Y            ┆ hrs          │\n",
       "│ i32  ┆ i32   ┆ i32 ┆ i32         ┆   ┆ ---          ┆ ---          ┆ ---          ┆ ---          │\n",
       "│      ┆       ┆     ┆             ┆   ┆ i32          ┆ i32          ┆ i32          ┆ f64          │\n",
       "╞══════╪═══════╪═════╪═════════════╪═══╪══════════════╪══════════════╪══════════════╪══════════════╡\n",
       "│ 2015 ┆ 8     ┆ 1   ┆ 6           ┆ … ┆ 0            ┆ 0            ┆ 0            ┆ 2.55         │\n",
       "│ 2015 ┆ 8     ┆ 1   ┆ 6           ┆ … ┆ null         ┆ null         ┆ null         ┆ 4.333333     │\n",
       "│ 2015 ┆ 8     ┆ 1   ┆ 6           ┆ … ┆ 0            ┆ 0            ┆ 0            ┆ 2.483333     │\n",
       "│ 2015 ┆ 8     ┆ 1   ┆ 6           ┆ … ┆ null         ┆ null         ┆ null         ┆ 4.633333     │\n",
       "│ 2015 ┆ 8     ┆ 1   ┆ 6           ┆ … ┆ 2            ┆ 22           ┆ 0            ┆ 3.3          │\n",
       "│ …    ┆ …     ┆ …   ┆ …           ┆ … ┆ …            ┆ …            ┆ …            ┆ …            │\n",
       "│ 2015 ┆ 12    ┆ 31  ┆ 4           ┆ … ┆ null         ┆ null         ┆ null         ┆ 4.533333     │\n",
       "│ 2015 ┆ 12    ┆ 31  ┆ 4           ┆ … ┆ null         ┆ null         ┆ null         ┆ 3.25         │\n",
       "│ 2015 ┆ 12    ┆ 31  ┆ 4           ┆ … ┆ null         ┆ null         ┆ null         ┆ 3.283333     │\n",
       "│ 2015 ┆ 12    ┆ 31  ┆ 4           ┆ … ┆ null         ┆ null         ┆ null         ┆ 2.4          │\n",
       "│ 2015 ┆ 12    ┆ 31  ┆ 4           ┆ … ┆ null         ┆ null         ┆ null         ┆ 3.15         │\n",
       "└──────┴───────┴─────┴─────────────┴───┴──────────────┴──────────────┴──────────────┴──────────────┘"
      ]
     },
     "execution_count": 11,
     "metadata": {},
     "output_type": "execute_result"
    }
   ],
   "source": [
    "query = (\n",
    "    pl.scan_parquet('./data/vuelos/vuelos.parquet')\n",
    "    .with_columns(tiempo_aire_hrs=(col('AIR_TIME') / 60))\n",
    "    .filter(col('MONTH') > 7)\n",
    "    .collect(streaming=True)\n",
    ")\n",
    "\n",
    "query"
   ]
  },
  {
   "cell_type": "markdown",
   "id": "47d27b63-de4d-46a3-ab9f-3f2a191d65e2",
   "metadata": {},
   "source": [
    "## Ejecución en un conjunto de datos parcial\n",
    "\n",
    "Mientras escribimos, optimizamos o verificamos nuestra consulta en un conjunto de datos grande, consultar todos los datos disponibles puede provocar un proceso de desarrollo lento.\n",
    "\n",
    "En su lugar, podemos ejecutar la consulta con el método `.fetch`. El método `.fetch` toma un parámetro `n_rows` e intenta \"obtener\" (`fetch`) esa cantidad de filas en la fuente de datos. Sin embargo, no se puede garantizar el número de filas, ya que la API lazy no cuenta cuántas filas hay en cada etapa de la consulta.\n",
    "\n",
    "Veamos un ejemplo:"
   ]
  },
  {
   "cell_type": "code",
   "execution_count": 12,
   "id": "5b394d98-60e9-4c75-88bf-a751c1b02539",
   "metadata": {
    "tags": []
   },
   "outputs": [
    {
     "data": {
      "text/html": [
       "<div><style>\n",
       ".dataframe > thead > tr,\n",
       ".dataframe > tbody > tr {\n",
       "  text-align: right;\n",
       "  white-space: pre-wrap;\n",
       "}\n",
       "</style>\n",
       "<small>shape: (20, 31)</small><table border=\"1\" class=\"dataframe\"><thead><tr><th>YEAR</th><th>MONTH</th><th>DAY</th><th>DAY_OF_WEEK</th><th>AIRLINE</th><th>FLIGHT_NUMBER</th><th>TAIL_NUMBER</th><th>ORIGIN_AIRPORT</th><th>DESTINATION_AIRPORT</th><th>SCHEDULED_DEPARTURE</th><th>DEPARTURE_TIME</th><th>DEPARTURE_DELAY</th><th>TAXI_OUT</th><th>WHEELS_OFF</th><th>SCHEDULED_TIME</th><th>ELAPSED_TIME</th><th>AIR_TIME</th><th>DISTANCE</th><th>WHEELS_ON</th><th>TAXI_IN</th><th>SCHEDULED_ARRIVAL</th><th>ARRIVAL_TIME</th><th>ARRIVAL_DELAY</th><th>DIVERTED</th><th>CANCELLED</th><th>CANCELLATION_REASON</th><th>AIR_SYSTEM_DELAY</th><th>SECURITY_DELAY</th><th>AIRLINE_DELAY</th><th>LATE_AIRCRAFT_DELAY</th><th>WEATHER_DELAY</th></tr><tr><td>i32</td><td>i32</td><td>i32</td><td>i32</td><td>str</td><td>i32</td><td>str</td><td>str</td><td>str</td><td>i32</td><td>i32</td><td>i32</td><td>i32</td><td>i32</td><td>i32</td><td>i32</td><td>i32</td><td>i32</td><td>i32</td><td>i32</td><td>i32</td><td>i32</td><td>i32</td><td>i32</td><td>i32</td><td>str</td><td>i32</td><td>i32</td><td>i32</td><td>i32</td><td>i32</td></tr></thead><tbody><tr><td>2015</td><td>1</td><td>1</td><td>4</td><td>&quot;AS&quot;</td><td>98</td><td>&quot;N407AS&quot;</td><td>&quot;ANC&quot;</td><td>&quot;SEA&quot;</td><td>5</td><td>2354</td><td>-11</td><td>21</td><td>15</td><td>205</td><td>194</td><td>169</td><td>1448</td><td>404</td><td>4</td><td>430</td><td>408</td><td>-22</td><td>0</td><td>0</td><td>null</td><td>null</td><td>null</td><td>null</td><td>null</td><td>null</td></tr><tr><td>2015</td><td>1</td><td>1</td><td>4</td><td>&quot;AA&quot;</td><td>2336</td><td>&quot;N3KUAA&quot;</td><td>&quot;LAX&quot;</td><td>&quot;PBI&quot;</td><td>10</td><td>2</td><td>-8</td><td>12</td><td>14</td><td>280</td><td>279</td><td>263</td><td>2330</td><td>737</td><td>4</td><td>750</td><td>741</td><td>-9</td><td>0</td><td>0</td><td>null</td><td>null</td><td>null</td><td>null</td><td>null</td><td>null</td></tr><tr><td>2015</td><td>1</td><td>1</td><td>4</td><td>&quot;US&quot;</td><td>840</td><td>&quot;N171US&quot;</td><td>&quot;SFO&quot;</td><td>&quot;CLT&quot;</td><td>20</td><td>18</td><td>-2</td><td>16</td><td>34</td><td>286</td><td>293</td><td>266</td><td>2296</td><td>800</td><td>11</td><td>806</td><td>811</td><td>5</td><td>0</td><td>0</td><td>null</td><td>null</td><td>null</td><td>null</td><td>null</td><td>null</td></tr><tr><td>2015</td><td>1</td><td>1</td><td>4</td><td>&quot;AA&quot;</td><td>258</td><td>&quot;N3HYAA&quot;</td><td>&quot;LAX&quot;</td><td>&quot;MIA&quot;</td><td>20</td><td>15</td><td>-5</td><td>15</td><td>30</td><td>285</td><td>281</td><td>258</td><td>2342</td><td>748</td><td>8</td><td>805</td><td>756</td><td>-9</td><td>0</td><td>0</td><td>null</td><td>null</td><td>null</td><td>null</td><td>null</td><td>null</td></tr><tr><td>2015</td><td>1</td><td>1</td><td>4</td><td>&quot;AS&quot;</td><td>135</td><td>&quot;N527AS&quot;</td><td>&quot;SEA&quot;</td><td>&quot;ANC&quot;</td><td>25</td><td>24</td><td>-1</td><td>11</td><td>35</td><td>235</td><td>215</td><td>199</td><td>1448</td><td>254</td><td>5</td><td>320</td><td>259</td><td>-21</td><td>0</td><td>0</td><td>null</td><td>null</td><td>null</td><td>null</td><td>null</td><td>null</td></tr><tr><td>&hellip;</td><td>&hellip;</td><td>&hellip;</td><td>&hellip;</td><td>&hellip;</td><td>&hellip;</td><td>&hellip;</td><td>&hellip;</td><td>&hellip;</td><td>&hellip;</td><td>&hellip;</td><td>&hellip;</td><td>&hellip;</td><td>&hellip;</td><td>&hellip;</td><td>&hellip;</td><td>&hellip;</td><td>&hellip;</td><td>&hellip;</td><td>&hellip;</td><td>&hellip;</td><td>&hellip;</td><td>&hellip;</td><td>&hellip;</td><td>&hellip;</td><td>&hellip;</td><td>&hellip;</td><td>&hellip;</td><td>&hellip;</td><td>&hellip;</td><td>&hellip;</td></tr><tr><td>2015</td><td>1</td><td>1</td><td>4</td><td>&quot;AS&quot;</td><td>108</td><td>&quot;N309AS&quot;</td><td>&quot;ANC&quot;</td><td>&quot;SEA&quot;</td><td>45</td><td>41</td><td>-4</td><td>17</td><td>58</td><td>204</td><td>194</td><td>173</td><td>1448</td><td>451</td><td>4</td><td>509</td><td>455</td><td>-14</td><td>0</td><td>0</td><td>null</td><td>null</td><td>null</td><td>null</td><td>null</td><td>null</td></tr><tr><td>2015</td><td>1</td><td>1</td><td>4</td><td>&quot;DL&quot;</td><td>1560</td><td>&quot;N3743H&quot;</td><td>&quot;ANC&quot;</td><td>&quot;SEA&quot;</td><td>45</td><td>31</td><td>-14</td><td>25</td><td>56</td><td>210</td><td>200</td><td>171</td><td>1448</td><td>447</td><td>4</td><td>515</td><td>451</td><td>-24</td><td>0</td><td>0</td><td>null</td><td>null</td><td>null</td><td>null</td><td>null</td><td>null</td></tr><tr><td>2015</td><td>1</td><td>1</td><td>4</td><td>&quot;UA&quot;</td><td>1197</td><td>&quot;N78448&quot;</td><td>&quot;SFO&quot;</td><td>&quot;IAH&quot;</td><td>48</td><td>42</td><td>-6</td><td>11</td><td>53</td><td>218</td><td>217</td><td>199</td><td>1635</td><td>612</td><td>7</td><td>626</td><td>619</td><td>-7</td><td>0</td><td>0</td><td>null</td><td>null</td><td>null</td><td>null</td><td>null</td><td>null</td></tr><tr><td>2015</td><td>1</td><td>1</td><td>4</td><td>&quot;AS&quot;</td><td>122</td><td>&quot;N413AS&quot;</td><td>&quot;ANC&quot;</td><td>&quot;PDX&quot;</td><td>50</td><td>46</td><td>-4</td><td>11</td><td>57</td><td>215</td><td>201</td><td>187</td><td>1542</td><td>504</td><td>3</td><td>525</td><td>507</td><td>-18</td><td>0</td><td>0</td><td>null</td><td>null</td><td>null</td><td>null</td><td>null</td><td>null</td></tr><tr><td>2015</td><td>1</td><td>1</td><td>4</td><td>&quot;DL&quot;</td><td>1670</td><td>&quot;N806DN&quot;</td><td>&quot;PDX&quot;</td><td>&quot;MSP&quot;</td><td>50</td><td>45</td><td>-5</td><td>9</td><td>54</td><td>193</td><td>186</td><td>171</td><td>1426</td><td>545</td><td>6</td><td>603</td><td>551</td><td>-12</td><td>0</td><td>0</td><td>null</td><td>null</td><td>null</td><td>null</td><td>null</td><td>null</td></tr></tbody></table></div>"
      ],
      "text/plain": [
       "shape: (20, 31)\n",
       "┌──────┬───────┬─────┬─────────────┬───┬──────────────┬──────────────┬──────────────┬──────────────┐\n",
       "│ YEAR ┆ MONTH ┆ DAY ┆ DAY_OF_WEEK ┆ … ┆ SECURITY_DEL ┆ AIRLINE_DELA ┆ LATE_AIRCRAF ┆ WEATHER_DELA │\n",
       "│ ---  ┆ ---   ┆ --- ┆ ---         ┆   ┆ AY           ┆ Y            ┆ T_DELAY      ┆ Y            │\n",
       "│ i32  ┆ i32   ┆ i32 ┆ i32         ┆   ┆ ---          ┆ ---          ┆ ---          ┆ ---          │\n",
       "│      ┆       ┆     ┆             ┆   ┆ i32          ┆ i32          ┆ i32          ┆ i32          │\n",
       "╞══════╪═══════╪═════╪═════════════╪═══╪══════════════╪══════════════╪══════════════╪══════════════╡\n",
       "│ 2015 ┆ 1     ┆ 1   ┆ 4           ┆ … ┆ null         ┆ null         ┆ null         ┆ null         │\n",
       "│ 2015 ┆ 1     ┆ 1   ┆ 4           ┆ … ┆ null         ┆ null         ┆ null         ┆ null         │\n",
       "│ 2015 ┆ 1     ┆ 1   ┆ 4           ┆ … ┆ null         ┆ null         ┆ null         ┆ null         │\n",
       "│ 2015 ┆ 1     ┆ 1   ┆ 4           ┆ … ┆ null         ┆ null         ┆ null         ┆ null         │\n",
       "│ 2015 ┆ 1     ┆ 1   ┆ 4           ┆ … ┆ null         ┆ null         ┆ null         ┆ null         │\n",
       "│ …    ┆ …     ┆ …   ┆ …           ┆ … ┆ …            ┆ …            ┆ …            ┆ …            │\n",
       "│ 2015 ┆ 1     ┆ 1   ┆ 4           ┆ … ┆ null         ┆ null         ┆ null         ┆ null         │\n",
       "│ 2015 ┆ 1     ┆ 1   ┆ 4           ┆ … ┆ null         ┆ null         ┆ null         ┆ null         │\n",
       "│ 2015 ┆ 1     ┆ 1   ┆ 4           ┆ … ┆ null         ┆ null         ┆ null         ┆ null         │\n",
       "│ 2015 ┆ 1     ┆ 1   ┆ 4           ┆ … ┆ null         ┆ null         ┆ null         ┆ null         │\n",
       "│ 2015 ┆ 1     ┆ 1   ┆ 4           ┆ … ┆ null         ┆ null         ┆ null         ┆ null         │\n",
       "└──────┴───────┴─────┴─────────────┴───┴──────────────┴──────────────┴──────────────┴──────────────┘"
      ]
     },
     "execution_count": 12,
     "metadata": {},
     "output_type": "execute_result"
    }
   ],
   "source": [
    "query = (\n",
    "    pl.scan_parquet('./data/vuelos/vuelos.parquet')\n",
    "    .filter(col('AIR_TIME') > 100)\n",
    ")\n",
    "\n",
    "query.fetch(n_rows=20)"
   ]
  }
 ],
 "metadata": {
  "kernelspec": {
   "display_name": "Python 3 (ipykernel)",
   "language": "python",
   "name": "python3"
  },
  "language_info": {
   "codemirror_mode": {
    "name": "ipython",
    "version": 3
   },
   "file_extension": ".py",
   "mimetype": "text/x-python",
   "name": "python",
   "nbconvert_exporter": "python",
   "pygments_lexer": "ipython3",
   "version": "3.9.6"
  }
 },
 "nbformat": 4,
 "nbformat_minor": 5
}
