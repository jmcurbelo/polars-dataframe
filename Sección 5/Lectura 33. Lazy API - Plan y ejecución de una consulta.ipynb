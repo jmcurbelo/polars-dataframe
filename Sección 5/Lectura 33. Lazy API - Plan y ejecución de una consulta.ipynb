{
 "cells": [
  {
   "cell_type": "markdown",
   "id": "e3bf9476-2f40-4572-bed5-6900bc93e88a",
   "metadata": {},
   "source": [
    "# Lectura 33: Lazy API - Plan y ejecución de una consulta"
   ]
  },
  {
   "cell_type": "markdown",
   "id": "54f45147-de26-4288-b97e-7e57c1545294",
   "metadata": {},
   "source": [
    "## Plan de consulta\n",
    "\n",
    "Para cualquier consulta lazy, Polars tiene ambos:\n",
    "\n",
    "- **Un plan no optimizado:** este contiene el conjunto de pasos en código qu ele proporcionamos.\n",
    "- **Un plan optimizado:** que contiene cambios realizados por el optimizador de consultas\n",
    "\n",
    "Consideremos la siguiente consulta:"
   ]
  },
  {
   "cell_type": "code",
   "execution_count": 1,
   "id": "a6657b11-4382-445e-b727-1ee13bfa1a95",
   "metadata": {
    "tags": []
   },
   "outputs": [],
   "source": [
    "import polars as pl\n",
    "from polars import col\n",
    "\n",
    "query = (\n",
    "    pl.scan_parquet('./data/vuelos/vuelos.parquet')\n",
    "    .with_columns(tiempo_aire_hrs=(col('AIR_TIME') / 60))\n",
    "    .filter(col('MONTH') > 7)\n",
    ")"
   ]
  },
  {
   "cell_type": "markdown",
   "id": "fbcf86e3-baff-4fd1-bafe-0b0262da6eaf",
   "metadata": {},
   "source": [
    "Primero visualizaremos el plan no optimizado con la función `show_graph` estableciendo el parámetro `optimized=False`.\n",
    "\n",
    "**Nota Importante:**\n",
    "\n",
    "Para visualizar los gráficos será necesario instalar la librería `graphviz` la cual la podemos instalar ejecutando en una celda de código el comando `pip install graphviz`. Además, necesitará instalar el programa `graphviz` en su sistema operativo.\n",
    "\n",
    "**Para errores y dudas pueden visitar el siguiente enlace:**\n",
    "\n",
    "(Solución de errores graphviz)[https://stackoverflow.com/questions/35064304/runtimeerror-make-sure-the-graphviz-executables-are-on-your-systems-path-aft]"
   ]
  },
  {
   "cell_type": "code",
   "execution_count": 3,
   "id": "a9bac6b0-2745-4b9d-abc0-ef09daa356f0",
   "metadata": {
    "tags": []
   },
   "outputs": [],
   "source": [
    "# Descomentar y ejecutar solo si no está instalada la librería graphviz\n",
    "# !pip3 install graphviz"
   ]
  },
  {
   "cell_type": "code",
   "execution_count": 4,
   "id": "dd85d4b3-7d2f-4156-b932-713ed4db5e9f",
   "metadata": {
    "tags": []
   },
   "outputs": [
    {
     "data": {
      "image/svg+xml": [
       "<svg xmlns=\"http://www.w3.org/2000/svg\" xmlns:xlink=\"http://www.w3.org/1999/xlink\" width=\"265pt\" height=\"210pt\" viewBox=\"0.00 0.00 264.75 209.50\">\n",
       "<g id=\"graph0\" class=\"graph\" transform=\"scale(1 1) rotate(0) translate(4 205.5)\">\n",
       "<title>polars_query</title>\n",
       "<polygon fill=\"white\" stroke=\"none\" points=\"-4,4 -4,-205.5 260.75,-205.5 260.75,4 -4,4\"/>\n",
       "<!-- FILTER BY (col(&quot;MONTH&quot;)) &gt; (7) [(0, 0)] -->\n",
       "<g id=\"node1\" class=\"node\">\n",
       "<title>FILTER BY (col(&quot;MONTH&quot;)) &gt; (7) [(0, 0)]</title>\n",
       "<polygon fill=\"none\" stroke=\"black\" points=\"236.12,-201.5 20.62,-201.5 20.62,-165.5 236.12,-165.5 236.12,-201.5\"/>\n",
       "<text text-anchor=\"middle\" x=\"128.38\" y=\"-178.45\" font-family=\"Times,serif\" font-size=\"14.00\">FILTER BY (col(&quot;MONTH&quot;)) &gt; (7)</text>\n",
       "</g>\n",
       "<!-- WITH COLUMNS [&quot;tiempo_aire_hrs&quot;] [(0, 1)] -->\n",
       "<g id=\"node2\" class=\"node\">\n",
       "<title>WITH COLUMNS [&quot;tiempo_aire_hrs&quot;] [(0, 1)]</title>\n",
       "<polygon fill=\"none\" stroke=\"black\" points=\"246.25,-129.5 10.5,-129.5 10.5,-93.5 246.25,-93.5 246.25,-129.5\"/>\n",
       "<text text-anchor=\"middle\" x=\"128.38\" y=\"-106.45\" font-family=\"Times,serif\" font-size=\"14.00\">WITH COLUMNS [&quot;tiempo_aire_hrs&quot;]</text>\n",
       "</g>\n",
       "<!-- FILTER BY (col(&quot;MONTH&quot;)) &gt; (7) [(0, 0)]&#45;&#45;WITH COLUMNS [&quot;tiempo_aire_hrs&quot;] [(0, 1)] -->\n",
       "<g id=\"edge1\" class=\"edge\">\n",
       "<title>FILTER BY (col(&quot;MONTH&quot;)) &gt; (7) [(0, 0)]--WITH COLUMNS [&quot;tiempo_aire_hrs&quot;] [(0, 1)]</title>\n",
       "<path fill=\"none\" stroke=\"black\" d=\"M128.38,-165.2C128.38,-154.35 128.38,-140.42 128.38,-129.6\"/>\n",
       "</g>\n",
       "<!-- Parquet SCAN ./data/vuelos/vuelos.parquet;\n",
       "π */31;\n",
       "σ &#45; [(0, 2)] -->\n",
       "<g id=\"node3\" class=\"node\">\n",
       "<title>Parquet SCAN ./data/vuelos/vuelos.parquet;\n",
       "π */31;\n",
       "σ - [(0, 2)]</title>\n",
       "<polygon fill=\"none\" stroke=\"black\" points=\"256.75,-57.5 0,-57.5 0,0 256.75,0 256.75,-57.5\"/>\n",
       "<text text-anchor=\"middle\" x=\"128.38\" y=\"-40.2\" font-family=\"Times,serif\" font-size=\"14.00\">Parquet SCAN ./data/vuelos/vuelos.parquet;</text>\n",
       "<text text-anchor=\"middle\" x=\"128.38\" y=\"-23.7\" font-family=\"Times,serif\" font-size=\"14.00\">π */31;</text>\n",
       "<text text-anchor=\"middle\" x=\"128.38\" y=\"-7.2\" font-family=\"Times,serif\" font-size=\"14.00\">σ -</text>\n",
       "</g>\n",
       "<!-- WITH COLUMNS [&quot;tiempo_aire_hrs&quot;] [(0, 1)]&#45;&#45;Parquet SCAN ./data/vuelos/vuelos.parquet;\n",
       "π */31;\n",
       "σ &#45; [(0, 2)] -->\n",
       "<g id=\"edge2\" class=\"edge\">\n",
       "<title>WITH COLUMNS [&quot;tiempo_aire_hrs&quot;] [(0, 1)]--Parquet SCAN ./data/vuelos/vuelos.parquet;\n",
       "π */31;\n",
       "σ - [(0, 2)]</title>\n",
       "<path fill=\"none\" stroke=\"black\" d=\"M128.38,-93.38C128.38,-83.1 128.38,-69.77 128.38,-57.97\"/>\n",
       "</g>\n",
       "</g>\n",
       "</svg>"
      ],
      "text/plain": [
       "<IPython.core.display.SVG object>"
      ]
     },
     "metadata": {},
     "output_type": "display_data"
    }
   ],
   "source": [
    "query.show_graph(optimized=False)"
   ]
  },
  {
   "cell_type": "markdown",
   "id": "ce4fcad9-1535-4378-88ca-01f715c862c2",
   "metadata": {},
   "source": [
    "La visualización del plan de consulta debe leerse de abajo hacia arriba. Expliquemos como leer esta salida:\n",
    "\n",
    "- Cada rectángulo corresponde a una etapa del plan de consulta\n",
    "- El `sigma` significa SELECCIÓN e indica cualquier condición de filtro\n",
    "- El `pi` significa PROYECCIÓN e indica la elección de un subconjunto de columnas"
   ]
  },
  {
   "cell_type": "markdown",
   "id": "3e4053f1-22ee-4255-b114-e19bfc5550e9",
   "metadata": {},
   "source": [
    "Ahora visualizaremos el pan de consulta optimizado."
   ]
  },
  {
   "cell_type": "code",
   "execution_count": 6,
   "id": "cf0e924c-4c2b-4507-86e4-4d4ed3387b17",
   "metadata": {
    "tags": []
   },
   "outputs": [
    {
     "data": {
      "image/svg+xml": [
       "<svg xmlns=\"http://www.w3.org/2000/svg\" xmlns:xlink=\"http://www.w3.org/1999/xlink\" width=\"265pt\" height=\"138pt\" viewBox=\"0.00 0.00 264.75 137.50\">\n",
       "<g id=\"graph0\" class=\"graph\" transform=\"scale(1 1) rotate(0) translate(4 133.5)\">\n",
       "<title>polars_query</title>\n",
       "<polygon fill=\"white\" stroke=\"none\" points=\"-4,4 -4,-133.5 260.75,-133.5 260.75,4 -4,4\"/>\n",
       "<!-- WITH COLUMNS [&quot;tiempo_aire_hrs&quot;] [(0, 0)] -->\n",
       "<g id=\"node1\" class=\"node\">\n",
       "<title>WITH COLUMNS [&quot;tiempo_aire_hrs&quot;] [(0, 0)]</title>\n",
       "<polygon fill=\"none\" stroke=\"black\" points=\"246.25,-129.5 10.5,-129.5 10.5,-93.5 246.25,-93.5 246.25,-129.5\"/>\n",
       "<text text-anchor=\"middle\" x=\"128.38\" y=\"-106.45\" font-family=\"Times,serif\" font-size=\"14.00\">WITH COLUMNS [&quot;tiempo_aire_hrs&quot;]</text>\n",
       "</g>\n",
       "<!-- Parquet SCAN ./data/vuelos/vuelos.parquet;\n",
       "π */31;\n",
       "σ (col(&quot;MONTH&quot;)) &gt; (7) [(0, 1)] -->\n",
       "<g id=\"node2\" class=\"node\">\n",
       "<title>Parquet SCAN ./data/vuelos/vuelos.parquet;\n",
       "π */31;\n",
       "σ (col(&quot;MONTH&quot;)) &gt; (7) [(0, 1)]</title>\n",
       "<polygon fill=\"none\" stroke=\"black\" points=\"256.75,-57.5 0,-57.5 0,0 256.75,0 256.75,-57.5\"/>\n",
       "<text text-anchor=\"middle\" x=\"128.38\" y=\"-40.2\" font-family=\"Times,serif\" font-size=\"14.00\">Parquet SCAN ./data/vuelos/vuelos.parquet;</text>\n",
       "<text text-anchor=\"middle\" x=\"128.38\" y=\"-23.7\" font-family=\"Times,serif\" font-size=\"14.00\">π */31;</text>\n",
       "<text text-anchor=\"middle\" x=\"128.38\" y=\"-7.2\" font-family=\"Times,serif\" font-size=\"14.00\">σ (col(&quot;MONTH&quot;)) &gt; (7)</text>\n",
       "</g>\n",
       "<!-- WITH COLUMNS [&quot;tiempo_aire_hrs&quot;] [(0, 0)]&#45;&#45;Parquet SCAN ./data/vuelos/vuelos.parquet;\n",
       "π */31;\n",
       "σ (col(&quot;MONTH&quot;)) &gt; (7) [(0, 1)] -->\n",
       "<g id=\"edge1\" class=\"edge\">\n",
       "<title>WITH COLUMNS [&quot;tiempo_aire_hrs&quot;] [(0, 0)]--Parquet SCAN ./data/vuelos/vuelos.parquet;\n",
       "π */31;\n",
       "σ (col(&quot;MONTH&quot;)) &gt; (7) [(0, 1)]</title>\n",
       "<path fill=\"none\" stroke=\"black\" d=\"M128.38,-93.38C128.38,-83.1 128.38,-69.77 128.38,-57.97\"/>\n",
       "</g>\n",
       "</g>\n",
       "</svg>"
      ],
      "text/plain": [
       "<IPython.core.display.SVG object>"
      ]
     },
     "metadata": {},
     "output_type": "display_data"
    }
   ],
   "source": [
    "query.show_graph()"
   ]
  },
  {
   "cell_type": "markdown",
   "id": "bd4e7119-a503-4bf9-a183-758c061e6868",
   "metadata": {},
   "source": [
    "### Imprimir el plan de consulta\n",
    "\n",
    "También podemos imprimir el plan no optimizado con `explain(optimized=False)`."
   ]
  },
  {
   "cell_type": "code",
   "execution_count": 5,
   "id": "2064923c-71fb-4cab-bc55-41d98380b4f9",
   "metadata": {
    "tags": []
   },
   "outputs": [
    {
     "data": {
      "text/plain": [
       "'FILTER [(col(\"MONTH\")) > (7)] FROM\\n WITH_COLUMNS:\\n [[(col(\"AIR_TIME\")) / (60)].alias(\"tiempo_aire_hrs\")]\\n\\n    Parquet SCAN ./data/vuelos/vuelos.parquet\\n    PROJECT */31 COLUMNS'"
      ]
     },
     "execution_count": 5,
     "metadata": {},
     "output_type": "execute_result"
    }
   ],
   "source": [
    "query.explain(optimized=False)"
   ]
  },
  {
   "cell_type": "markdown",
   "id": "5e9db4ad-3afe-4459-9577-336cf594c3a0",
   "metadata": {},
   "source": [
    "Imprimamos el plan de consulta optimizado."
   ]
  },
  {
   "cell_type": "code",
   "execution_count": 7,
   "id": "70e34340-d010-4ffb-b78e-ff1ffa205493",
   "metadata": {
    "tags": []
   },
   "outputs": [
    {
     "data": {
      "text/plain": [
       "' WITH_COLUMNS:\\n [[(col(\"AIR_TIME\")) / (60)].alias(\"tiempo_aire_hrs\")]\\n\\n    Parquet SCAN ./data/vuelos/vuelos.parquet\\n    PROJECT */31 COLUMNS\\n    SELECTION: [(col(\"MONTH\")) > (7)]'"
      ]
     },
     "execution_count": 7,
     "metadata": {},
     "output_type": "execute_result"
    }
   ],
   "source": [
    "query.explain()"
   ]
  },
  {
   "cell_type": "code",
   "execution_count": null,
   "id": "f72d43de-7e4f-4fce-865e-cb7d31e0c8ee",
   "metadata": {},
   "outputs": [],
   "source": []
  }
 ],
 "metadata": {
  "kernelspec": {
   "display_name": "Python 3 (ipykernel)",
   "language": "python",
   "name": "python3"
  },
  "language_info": {
   "codemirror_mode": {
    "name": "ipython",
    "version": 3
   },
   "file_extension": ".py",
   "mimetype": "text/x-python",
   "name": "python",
   "nbconvert_exporter": "python",
   "pygments_lexer": "ipython3",
   "version": "3.9.6"
  }
 },
 "nbformat": 4,
 "nbformat_minor": 5
}
