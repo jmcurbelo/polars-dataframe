{
 "cells": [
  {
   "cell_type": "markdown",
   "id": "e3bf9476-2f40-4572-bed5-6900bc93e88a",
   "metadata": {},
   "source": [
    "# Lectura 33: Lazy API - Plan y ejecución de una consulta"
   ]
  },
  {
   "cell_type": "markdown",
   "id": "54f45147-de26-4288-b97e-7e57c1545294",
   "metadata": {},
   "source": [
    "## Plan de consulta\n",
    "\n",
    "Para cualquier consulta lazy, Polars tiene ambos:\n",
    "\n",
    "- **Un plan no optimizado:** este contiene el conjunto de pasos en código qu ele proporcionamos.\n",
    "- **Un plan optimizado:** que contiene cambios realizados por el optimizador de consultas\n",
    "\n",
    "Consideremos la siguiente consulta:"
   ]
  },
  {
   "cell_type": "code",
   "execution_count": null,
   "id": "a6657b11-4382-445e-b727-1ee13bfa1a95",
   "metadata": {
    "tags": []
   },
   "outputs": [],
   "source": [
    "import polars as pl\n",
    "from polars import col\n",
    "\n",
    "query = (\n",
    "    pl.scan_parquet('./data/vuelos/vuelos.parquet')\n",
    "    .with_columns(tiempo_aire_hrs=(col('AIR_TIME') / 60))\n",
    "    .filter(col('MONTH') > 7)\n",
    ")"
   ]
  },
  {
   "cell_type": "markdown",
   "id": "fbcf86e3-baff-4fd1-bafe-0b0262da6eaf",
   "metadata": {},
   "source": [
    "Primero visualizaremos el plan no optimizado con la función `show_graph` estableciendo el parámetro `optimized=False`.\n",
    "\n",
    "**Nota Importante:**\n",
    "\n",
    "Para visualizar los gráficos será necesario instalar la librería `graphviz` la cual la podemos instalar ejecutando en una celda de código el comando `pip install graphviz`. Además, necesitará instalar el programa `graphviz` en su sistema operativo.\n",
    "\n",
    "**Para errores y dudas pueden visitar el siguiente enlace:**\n",
    "\n",
    "(Solución de errores graphviz)[https://stackoverflow.com/questions/35064304/runtimeerror-make-sure-the-graphviz-executables-are-on-your-systems-path-aft]"
   ]
  },
  {
   "cell_type": "code",
   "execution_count": null,
   "id": "a9bac6b0-2745-4b9d-abc0-ef09daa356f0",
   "metadata": {
    "tags": []
   },
   "outputs": [],
   "source": [
    "# Descomentar y ejecutar solo si no está instalada la librería graphviz\n",
    "# !pip3 install graphviz"
   ]
  },
  {
   "cell_type": "code",
   "execution_count": null,
   "id": "dd85d4b3-7d2f-4156-b932-713ed4db5e9f",
   "metadata": {
    "tags": []
   },
   "outputs": [],
   "source": [
    "query.show_graph(optimized=False)"
   ]
  },
  {
   "cell_type": "markdown",
   "id": "ce4fcad9-1535-4378-88ca-01f715c862c2",
   "metadata": {},
   "source": [
    "La visualización del plan de consulta debe leerse de abajo hacia arriba. Expliquemos como leer esta salida:\n",
    "\n",
    "- Cada rectángulo corresponde a una etapa del plan de consulta\n",
    "- El `sigma` significa SELECCIÓN e indica cualquier condición de filtro\n",
    "- El `pi` significa PROYECCIÓN e indica la elección de un subconjunto de columnas"
   ]
  },
  {
   "cell_type": "markdown",
   "id": "3e4053f1-22ee-4255-b114-e19bfc5550e9",
   "metadata": {},
   "source": [
    "Ahora visualizaremos el pan de consulta optimizado."
   ]
  },
  {
   "cell_type": "code",
   "execution_count": null,
   "id": "cf0e924c-4c2b-4507-86e4-4d4ed3387b17",
   "metadata": {
    "tags": []
   },
   "outputs": [],
   "source": [
    "query.show_graph()"
   ]
  },
  {
   "cell_type": "markdown",
   "id": "bd4e7119-a503-4bf9-a183-758c061e6868",
   "metadata": {},
   "source": [
    "### Imprimir el plan de consulta\n",
    "\n",
    "También podemos imprimir el plan no optimizado con `explain(optimized=False)`."
   ]
  },
  {
   "cell_type": "code",
   "execution_count": null,
   "id": "2064923c-71fb-4cab-bc55-41d98380b4f9",
   "metadata": {
    "tags": []
   },
   "outputs": [],
   "source": [
    "query.explain(optimized=False)"
   ]
  },
  {
   "cell_type": "markdown",
   "id": "5e9db4ad-3afe-4459-9577-336cf594c3a0",
   "metadata": {},
   "source": [
    "Imprimamos el plan de consulta optimizado."
   ]
  },
  {
   "cell_type": "code",
   "execution_count": null,
   "id": "70e34340-d010-4ffb-b78e-ff1ffa205493",
   "metadata": {
    "tags": []
   },
   "outputs": [],
   "source": [
    "query.explain()"
   ]
  },
  {
   "cell_type": "markdown",
   "id": "092ecf3c-310e-4b2b-bfb5-fe975be35e8b",
   "metadata": {},
   "source": [
    "## Ejecución de una consulta"
   ]
  },
  {
   "cell_type": "code",
   "execution_count": null,
   "id": "28f0a96f-cefc-40e6-b569-9c73c8cd734f",
   "metadata": {},
   "outputs": [],
   "source": [
    "query = (\n",
    "    pl.scan_parquet('./data/vuelos/vuelos.parquet')\n",
    "    .with_columns(tiempo_aire_hrs=(col('AIR_TIME') / 60))\n",
    "    .filter(col('MONTH') > 7)\n",
    ")"
   ]
  },
  {
   "cell_type": "markdown",
   "id": "daff6dcf-9e01-4e84-863a-f62ddf819855",
   "metadata": {},
   "source": [
    "Si tuviéramos que ejecutar el código anterior en el dataset de vuelos, la consulta no se evaluaría. En cambio, Polars toma cada línea de código, la agrega al gráfico de consulta interno y lo optimiza.\n",
    "\n",
    "Cuando ejecutamos el código, Polars ejecuta el gráfico de consulta optimizado de forma predeterminada.\n",
    "\n",
    "Podemos ejecutar nuestra consulta en el conjunto de datos completo llamando al método `.collect` en la consulta."
   ]
  },
  {
   "cell_type": "code",
   "execution_count": null,
   "id": "ff5fe6b7-e841-4e65-ae6c-68b845fa3cb9",
   "metadata": {
    "tags": []
   },
   "outputs": [],
   "source": [
    "query = (\n",
    "    pl.scan_parquet('./data/vuelos/vuelos.parquet')\n",
    "    .with_columns(tiempo_aire_hrs=(col('AIR_TIME') / 60))\n",
    "    .filter(col('MONTH') > 7)\n",
    "    .collect()\n",
    ")\n",
    "\n",
    "query"
   ]
  },
  {
   "cell_type": "markdown",
   "id": "fe56b050-cbd6-486c-8540-41afabd687cf",
   "metadata": {},
   "source": [
    "Con el método por defecto collect, Polars procesa todos sus datos como un solo lote. Esto significa que todos los datos deben caber en la memoria disponible en el punto de mayor uso de la memoria en la consulta."
   ]
  },
  {
   "cell_type": "markdown",
   "id": "b9a718d7-88eb-4efe-9cf8-dd326a4dfad9",
   "metadata": {},
   "source": [
    "## Ejecución en datos más grandes que la memoria\n",
    "\n",
    "Si nuestros datos requieren más memoria de la que tenemos disponible, es posible que Polars pueda procesar los datos en lotes  (batches en inglés) utilizando el modo de streaming. Para usar el modo streaming simplemente pasamos el argumento `streaming=True` a `collect`."
   ]
  },
  {
   "cell_type": "code",
   "execution_count": null,
   "id": "728c2062-cf2d-47f4-951e-9b77c6b97504",
   "metadata": {
    "tags": []
   },
   "outputs": [],
   "source": [
    "query = (\n",
    "    pl.scan_parquet('./data/vuelos/vuelos.parquet')\n",
    "    .with_columns(tiempo_aire_hrs=(col('AIR_TIME') / 60))\n",
    "    .filter(col('MONTH') > 7)\n",
    "    .collect(streaming=True)\n",
    ")\n",
    "\n",
    "query"
   ]
  },
  {
   "cell_type": "markdown",
   "id": "47d27b63-de4d-46a3-ab9f-3f2a191d65e2",
   "metadata": {},
   "source": [
    "## Ejecución en un conjunto de datos parcial\n",
    "\n",
    "Mientras escribimos, optimizamos o verificamos nuestra consulta en un conjunto de datos grande, consultar todos los datos disponibles puede provocar un proceso de desarrollo lento.\n",
    "\n",
    "En su lugar, podemos ejecutar la consulta con el método `.fetch`. El método `.fetch` toma un parámetro `n_rows` e intenta \"obtener\" (`fetch`) esa cantidad de filas en la fuente de datos. Sin embargo, no se puede garantizar el número de filas, ya que la API lazy no cuenta cuántas filas hay en cada etapa de la consulta.\n",
    "\n",
    "Veamos un ejemplo:"
   ]
  },
  {
   "cell_type": "code",
   "execution_count": null,
   "id": "5b394d98-60e9-4c75-88bf-a751c1b02539",
   "metadata": {
    "tags": []
   },
   "outputs": [],
   "source": [
    "query = (\n",
    "    pl.scan_parquet('./data/vuelos/vuelos.parquet')\n",
    "    .filter(col('AIR_TIME') > 100)\n",
    ")\n",
    "\n",
    "query.fetch(n_rows=20)"
   ]
  }
 ],
 "metadata": {
  "kernelspec": {
   "display_name": "Python 3 (ipykernel)",
   "language": "python",
   "name": "python3"
  },
  "language_info": {
   "codemirror_mode": {
    "name": "ipython",
    "version": 3
   },
   "file_extension": ".py",
   "mimetype": "text/x-python",
   "name": "python",
   "nbconvert_exporter": "python",
   "pygments_lexer": "ipython3",
   "version": "3.9.6"
  }
 },
 "nbformat": 4,
 "nbformat_minor": 5
}
