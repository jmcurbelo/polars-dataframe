{
 "cells": [
  {
   "cell_type": "markdown",
   "id": "e8b8aef7-6e35-41e3-93b3-1713e494fe28",
   "metadata": {},
   "source": [
    "# Lectura 37: LazyFrame - Manipulación y selección"
   ]
  },
  {
   "cell_type": "markdown",
   "id": "269ffa61-edb6-4185-a677-26627befb36d",
   "metadata": {},
   "source": [
    "Debemos tener en cuenta que estas operaciones funcionan de la misma forma a como lo hacen con los DataFrame con algunas excepciones. Como ya vimos una gran variedad de estas funciones en la sección anterior del curso en esta ocasión solo mostraremos algunos ejemplos."
   ]
  },
  {
   "cell_type": "code",
   "execution_count": null,
   "id": "a68e95ec-18ac-480d-8626-3ad3feb09ed7",
   "metadata": {},
   "outputs": [],
   "source": [
    "import polars as pl\n",
    "\n",
    "vuelos_lf = (\n",
    "    pl.scan_parquet('./data/vuelos/vuelos.parquet')\n",
    ")"
   ]
  },
  {
   "cell_type": "markdown",
   "id": "a9bf302c-4ab7-45a0-b641-5dd7eb548789",
   "metadata": {},
   "source": [
    "## `botton_k`\n",
    "\n",
    "Retorna los k elementos más pequeños del DataFrame. Le podemos indicar la cantidad de elementos que deseamos mostrar y por cual columna ordenar para obtener el resultado."
   ]
  },
  {
   "cell_type": "code",
   "execution_count": null,
   "id": "de94647b-5a58-4b47-affc-0f41ad9900dc",
   "metadata": {},
   "outputs": [],
   "source": [
    "vuelos_lf.bottom_k(20, by='DEPARTURE_TIME', descending=True, nulls_last=True).collect()"
   ]
  },
  {
   "cell_type": "markdown",
   "id": "95c623d1-f1e5-484e-82ca-61956ac3872d",
   "metadata": {},
   "source": [
    "## `drop` \n",
    "\n",
    "Elimina la(s) columna(s) seleccionada(s)."
   ]
  },
  {
   "cell_type": "code",
   "execution_count": null,
   "id": "dd9ad30f-5eaf-4b0e-adcc-466b56f1580b",
   "metadata": {},
   "outputs": [],
   "source": [
    "vuelos_lf.drop('YEAR', 'MONTH', 'DAY').collect()"
   ]
  },
  {
   "cell_type": "markdown",
   "id": "390febee-6d9a-403b-9c1b-11175d9a7112",
   "metadata": {},
   "source": [
    "## Filtrar un DataFrame"
   ]
  },
  {
   "cell_type": "code",
   "execution_count": null,
   "id": "0a69add8-8a0f-47e2-83b2-f21f8bccfc07",
   "metadata": {},
   "outputs": [],
   "source": [
    "from polars import col\n",
    "\n",
    "(\n",
    "    vuelos_lf\n",
    "    .filter((col('MONTH') > 6) & (col('DEPARTURE_DELAY') < 0))\n",
    "    .select(\n",
    "        col('MONTH'),\n",
    "        col('DEPARTURE_DELAY')\n",
    "    ).collect()\n",
    ")"
   ]
  },
  {
   "cell_type": "markdown",
   "id": "eb55ad1b-184e-4cc6-8e50-a12a4ff7f8b9",
   "metadata": {},
   "source": [
    "## `with_context`\n",
    "\n",
    "Esta función agrega un contexto externo al gráfico de cálculo. Esto permite que las expresiones también accedan a columnas de DataFrames que no forman parte de este."
   ]
  },
  {
   "cell_type": "code",
   "execution_count": null,
   "id": "e75ea8e8-ceb4-4f2c-8e9f-9c3806853a81",
   "metadata": {},
   "outputs": [],
   "source": [
    "tarjetas_lz = pl.LazyFrame({'tarjeta': ['bronce', 'plata', 'oro']})\n",
    "\n",
    "descuentos_lz = pl.LazyFrame({'descuento': [10, 20, 30]})\n",
    "\n",
    "tarjetas_lz.with_context(descuentos_lz).select(\n",
    "    col('tarjeta'),\n",
    "    col('descuento')\n",
    ").collect()"
   ]
  },
  {
   "cell_type": "markdown",
   "id": "1f5712b6-6ea3-471a-adba-1138e32b7368",
   "metadata": {},
   "source": [
    "## `slice`\n",
    "\n",
    "Con esta función podemos obtener una porción o lo que en inglés se conoce como un slice de un DataFrame."
   ]
  },
  {
   "cell_type": "code",
   "execution_count": null,
   "id": "e009cc07-8832-46db-ab51-30e8137d519d",
   "metadata": {},
   "outputs": [],
   "source": [
    "vuelos_lf.slice(1,10).collect()"
   ]
  },
  {
   "cell_type": "markdown",
   "id": "074f8328-99c2-4461-bf8f-2fc40bd5472f",
   "metadata": {},
   "source": [
    "## `sort`\n",
    "\n",
    "Esta función ordena el LazyFrame por la(s) columna(s) proporcionadas."
   ]
  },
  {
   "cell_type": "code",
   "execution_count": null,
   "id": "7b25308f-5d35-4783-b08a-7ee369fcd8c8",
   "metadata": {},
   "outputs": [],
   "source": [
    "vuelos_lf.sort('DEPARTURE_DELAY', descending=True, nulls_last=True).collect()"
   ]
  },
  {
   "cell_type": "markdown",
   "id": "cc4b2151-a8f6-4201-9f7b-48bf5b450f1b",
   "metadata": {},
   "source": [
    "## `gather_every`\n",
    "\n",
    "Toma cada enésima fila del LazyFrame y regresa un nuevo LazyFrame. El primer parámetro estable cada cuantas filas queremos tomar la siguiente fila y el parámetro offset establece desde que posición queremos iniciar a tomar las filas."
   ]
  },
  {
   "cell_type": "code",
   "execution_count": null,
   "id": "ffdb0c2e-8ce5-4255-8a87-00e19e30b0ba",
   "metadata": {},
   "outputs": [],
   "source": [
    "vuelos_lf.gather_every(5, 100).collect()"
   ]
  },
  {
   "cell_type": "markdown",
   "id": "8a36b21e-fd57-480e-a037-b650703fb95d",
   "metadata": {},
   "source": [
    "## `shift`\n",
    "\n",
    "Esta función cambia los valores según el número dado de índices. En la práctica lo podemos ver como un desplazamiento de las filas del LazyFrame."
   ]
  },
  {
   "cell_type": "code",
   "execution_count": null,
   "id": "d0fe814f-68d7-409e-9333-b42c9381cbff",
   "metadata": {},
   "outputs": [],
   "source": [
    "vuelos_lf.shift(3).collect()"
   ]
  },
  {
   "cell_type": "code",
   "execution_count": null,
   "id": "504599f7-a88f-44a9-a12c-04dff4811d58",
   "metadata": {},
   "outputs": [],
   "source": [
    "vuelos_lf.shift(3, fill_value='prueba').collect()"
   ]
  },
  {
   "cell_type": "markdown",
   "id": "f28aa8b8-609a-443d-93bb-5b6b11dae0b6",
   "metadata": {},
   "source": [
    "## `inspect`\n",
    "\n",
    "Esta función inspecciona un nodo en el gráfico de cálculo. Con ella podemos imprimir el valor que evalúa este nodo en el gráfico de cálculo."
   ]
  },
  {
   "cell_type": "code",
   "execution_count": null,
   "id": "72cc8488-16e1-4c17-b215-81806edc7bca",
   "metadata": {},
   "outputs": [],
   "source": [
    "query_inspect = (\n",
    "    vuelos_lf.with_columns(AIR_TIME_HRS=(col('AIR_TIME') / 60))\n",
    "    .inspect()\n",
    "    .select(\n",
    "        col('AIRLINE'),\n",
    "        col('AIR_TIME_HRS')\n",
    "    )\n",
    ")"
   ]
  },
  {
   "cell_type": "code",
   "execution_count": null,
   "id": "e6fa97b3-332f-49ec-b42b-ae8681acba1c",
   "metadata": {},
   "outputs": [],
   "source": [
    "query_inspect.collect()"
   ]
  },
  {
   "cell_type": "code",
   "execution_count": null,
   "id": "845c8740-2a79-45ac-bb1e-b142093d00b3",
   "metadata": {},
   "outputs": [],
   "source": [
    "query_inspect.explain()"
   ]
  },
  {
   "cell_type": "markdown",
   "id": "ea30c2e0-379f-4f2f-b2ab-223658b025c9",
   "metadata": {},
   "source": [
    "Hasta aquí llegaremos en este recorrido de las funciones que nos permiten manipular y seleccionar elementos de un LazyFrame. En de que ustedes necesiten ver la lista competa de todas las funciones que están disponibles pueden dirigirse a la documentación de Polars.\n",
    "\n",
    "[LazyFrame - Manipulación y selección](https://docs.pola.rs/py-polars/html/reference/lazyframe/modify_select.html)"
   ]
  }
 ],
 "metadata": {
  "kernelspec": {
   "display_name": "Python 3 (ipykernel)",
   "language": "python",
   "name": "python3"
  },
  "language_info": {
   "codemirror_mode": {
    "name": "ipython",
    "version": 3
   },
   "file_extension": ".py",
   "mimetype": "text/x-python",
   "name": "python",
   "nbconvert_exporter": "python",
   "pygments_lexer": "ipython3",
   "version": "3.8.13"
  }
 },
 "nbformat": 4,
 "nbformat_minor": 5
}
