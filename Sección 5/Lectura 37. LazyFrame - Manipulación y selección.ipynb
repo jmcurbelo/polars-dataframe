{
 "cells": [
  {
   "cell_type": "markdown",
   "id": "e8b8aef7-6e35-41e3-93b3-1713e494fe28",
   "metadata": {},
   "source": [
    "# Lectura 37: LazyFrame - Manipulación y selección"
   ]
  },
  {
   "cell_type": "markdown",
   "id": "269ffa61-edb6-4185-a677-26627befb36d",
   "metadata": {},
   "source": [
    "Debemos tener en cuenta que estas operaciones funcionan de la misma forma a como lo hacen con los DataFrame con algunas excepciones. Como ya vimos una gran variedad de estas funciones en la sección anterior del curso en esta ocasión solo mostraremos algunos ejemplos."
   ]
  },
  {
   "cell_type": "code",
   "execution_count": 1,
   "id": "a68e95ec-18ac-480d-8626-3ad3feb09ed7",
   "metadata": {
    "tags": []
   },
   "outputs": [],
   "source": [
    "import polars as pl\n",
    "\n",
    "vuelos_lf = (\n",
    "    pl.scan_parquet('./data/vuelos/vuelos.parquet')\n",
    ")"
   ]
  },
  {
   "cell_type": "markdown",
   "id": "a9bf302c-4ab7-45a0-b641-5dd7eb548789",
   "metadata": {},
   "source": [
    "## `botton_k`\n",
    "\n",
    "Retorna los k elementos más pequeños del DataFrame. Le podemos indicar la cantidad de elementos que deseamos mostrar y por cual columna ordenar para obtener el resultado."
   ]
  },
  {
   "cell_type": "code",
   "execution_count": 2,
   "id": "de94647b-5a58-4b47-affc-0f41ad9900dc",
   "metadata": {
    "tags": []
   },
   "outputs": [
    {
     "data": {
      "text/html": [
       "<div><style>\n",
       ".dataframe > thead > tr,\n",
       ".dataframe > tbody > tr {\n",
       "  text-align: right;\n",
       "  white-space: pre-wrap;\n",
       "}\n",
       "</style>\n",
       "<small>shape: (20, 31)</small><table border=\"1\" class=\"dataframe\"><thead><tr><th>YEAR</th><th>MONTH</th><th>DAY</th><th>DAY_OF_WEEK</th><th>AIRLINE</th><th>FLIGHT_NUMBER</th><th>TAIL_NUMBER</th><th>ORIGIN_AIRPORT</th><th>DESTINATION_AIRPORT</th><th>SCHEDULED_DEPARTURE</th><th>DEPARTURE_TIME</th><th>DEPARTURE_DELAY</th><th>TAXI_OUT</th><th>WHEELS_OFF</th><th>SCHEDULED_TIME</th><th>ELAPSED_TIME</th><th>AIR_TIME</th><th>DISTANCE</th><th>WHEELS_ON</th><th>TAXI_IN</th><th>SCHEDULED_ARRIVAL</th><th>ARRIVAL_TIME</th><th>ARRIVAL_DELAY</th><th>DIVERTED</th><th>CANCELLED</th><th>CANCELLATION_REASON</th><th>AIR_SYSTEM_DELAY</th><th>SECURITY_DELAY</th><th>AIRLINE_DELAY</th><th>LATE_AIRCRAFT_DELAY</th><th>WEATHER_DELAY</th></tr><tr><td>i32</td><td>i32</td><td>i32</td><td>i32</td><td>str</td><td>i32</td><td>str</td><td>str</td><td>str</td><td>i32</td><td>i32</td><td>i32</td><td>i32</td><td>i32</td><td>i32</td><td>i32</td><td>i32</td><td>i32</td><td>i32</td><td>i32</td><td>i32</td><td>i32</td><td>i32</td><td>i32</td><td>i32</td><td>str</td><td>i32</td><td>i32</td><td>i32</td><td>i32</td><td>i32</td></tr></thead><tbody><tr><td>2015</td><td>9</td><td>8</td><td>2</td><td>&quot;WN&quot;</td><td>2830</td><td>&quot;N649SW&quot;</td><td>&quot;MSY&quot;</td><td>&quot;HOU&quot;</td><td>2135</td><td>2400</td><td>145</td><td>6</td><td>6</td><td>70</td><td>53</td><td>45</td><td>302</td><td>51</td><td>2</td><td>2245</td><td>53</td><td>128</td><td>0</td><td>0</td><td>null</td><td>0</td><td>0</td><td>0</td><td>128</td><td>0</td></tr><tr><td>2015</td><td>2</td><td>17</td><td>2</td><td>&quot;US&quot;</td><td>2070</td><td>&quot;N755US&quot;</td><td>&quot;CLT&quot;</td><td>&quot;CLE&quot;</td><td>2220</td><td>2400</td><td>100</td><td>12</td><td>12</td><td>92</td><td>81</td><td>62</td><td>430</td><td>114</td><td>7</td><td>2352</td><td>121</td><td>89</td><td>0</td><td>0</td><td>null</td><td>0</td><td>0</td><td>3</td><td>86</td><td>0</td></tr><tr><td>2015</td><td>10</td><td>21</td><td>3</td><td>&quot;B6&quot;</td><td>8</td><td>&quot;N649JB&quot;</td><td>&quot;12889&quot;</td><td>&quot;11697&quot;</td><td>2359</td><td>2400</td><td>1</td><td>11</td><td>11</td><td>278</td><td>267</td><td>252</td><td>2173</td><td>723</td><td>4</td><td>737</td><td>727</td><td>-10</td><td>0</td><td>0</td><td>null</td><td>null</td><td>null</td><td>null</td><td>null</td><td>null</td></tr><tr><td>2015</td><td>7</td><td>8</td><td>3</td><td>&quot;NK&quot;</td><td>640</td><td>&quot;N515NK&quot;</td><td>&quot;LAS&quot;</td><td>&quot;BOS&quot;</td><td>2310</td><td>2400</td><td>50</td><td>13</td><td>13</td><td>313</td><td>293</td><td>270</td><td>2381</td><td>743</td><td>10</td><td>723</td><td>753</td><td>30</td><td>0</td><td>0</td><td>null</td><td>1</td><td>0</td><td>0</td><td>29</td><td>0</td></tr><tr><td>2015</td><td>3</td><td>29</td><td>7</td><td>&quot;US&quot;</td><td>529</td><td>&quot;N912UY&quot;</td><td>&quot;PHX&quot;</td><td>&quot;ORD&quot;</td><td>2359</td><td>2400</td><td>1</td><td>19</td><td>19</td><td>202</td><td>190</td><td>164</td><td>1440</td><td>503</td><td>7</td><td>521</td><td>510</td><td>-11</td><td>0</td><td>0</td><td>null</td><td>null</td><td>null</td><td>null</td><td>null</td><td>null</td></tr><tr><td>&hellip;</td><td>&hellip;</td><td>&hellip;</td><td>&hellip;</td><td>&hellip;</td><td>&hellip;</td><td>&hellip;</td><td>&hellip;</td><td>&hellip;</td><td>&hellip;</td><td>&hellip;</td><td>&hellip;</td><td>&hellip;</td><td>&hellip;</td><td>&hellip;</td><td>&hellip;</td><td>&hellip;</td><td>&hellip;</td><td>&hellip;</td><td>&hellip;</td><td>&hellip;</td><td>&hellip;</td><td>&hellip;</td><td>&hellip;</td><td>&hellip;</td><td>&hellip;</td><td>&hellip;</td><td>&hellip;</td><td>&hellip;</td><td>&hellip;</td><td>&hellip;</td></tr><tr><td>2015</td><td>2</td><td>15</td><td>7</td><td>&quot;AA&quot;</td><td>2400</td><td>&quot;N5DJAA&quot;</td><td>&quot;LAX&quot;</td><td>&quot;DFW&quot;</td><td>5</td><td>2400</td><td>-5</td><td>19</td><td>19</td><td>168</td><td>171</td><td>148</td><td>1235</td><td>447</td><td>4</td><td>453</td><td>451</td><td>-2</td><td>0</td><td>0</td><td>null</td><td>null</td><td>null</td><td>null</td><td>null</td><td>null</td></tr><tr><td>2015</td><td>2</td><td>17</td><td>2</td><td>&quot;US&quot;</td><td>1717</td><td>&quot;N114UW&quot;</td><td>&quot;CLT&quot;</td><td>&quot;FLL&quot;</td><td>2210</td><td>2400</td><td>110</td><td>14</td><td>14</td><td>113</td><td>120</td><td>101</td><td>631</td><td>155</td><td>5</td><td>3</td><td>200</td><td>117</td><td>0</td><td>0</td><td>null</td><td>7</td><td>0</td><td>0</td><td>110</td><td>0</td></tr><tr><td>2015</td><td>5</td><td>17</td><td>7</td><td>&quot;WN&quot;</td><td>508</td><td>&quot;N7741C&quot;</td><td>&quot;MDW&quot;</td><td>&quot;ORF&quot;</td><td>2150</td><td>2400</td><td>130</td><td>5</td><td>5</td><td>115</td><td>99</td><td>89</td><td>704</td><td>234</td><td>5</td><td>45</td><td>239</td><td>114</td><td>0</td><td>0</td><td>null</td><td>0</td><td>0</td><td>0</td><td>114</td><td>0</td></tr><tr><td>2015</td><td>3</td><td>5</td><td>4</td><td>&quot;DL&quot;</td><td>1153</td><td>&quot;N921DN&quot;</td><td>&quot;BWI&quot;</td><td>&quot;ATL&quot;</td><td>1500</td><td>2400</td><td>540</td><td>10</td><td>10</td><td>120</td><td>108</td><td>95</td><td>577</td><td>145</td><td>3</td><td>1700</td><td>148</td><td>528</td><td>0</td><td>0</td><td>null</td><td>0</td><td>0</td><td>528</td><td>0</td><td>0</td></tr><tr><td>2015</td><td>6</td><td>26</td><td>5</td><td>&quot;US&quot;</td><td>1717</td><td>&quot;N105UW&quot;</td><td>&quot;CLT&quot;</td><td>&quot;FLL&quot;</td><td>2205</td><td>2400</td><td>115</td><td>13</td><td>13</td><td>111</td><td>103</td><td>87</td><td>632</td><td>140</td><td>3</td><td>2356</td><td>143</td><td>107</td><td>0</td><td>0</td><td>null</td><td>0</td><td>0</td><td>0</td><td>22</td><td>85</td></tr></tbody></table></div>"
      ],
      "text/plain": [
       "shape: (20, 31)\n",
       "┌──────┬───────┬─────┬─────────────┬───┬──────────────┬──────────────┬──────────────┬──────────────┐\n",
       "│ YEAR ┆ MONTH ┆ DAY ┆ DAY_OF_WEEK ┆ … ┆ SECURITY_DEL ┆ AIRLINE_DELA ┆ LATE_AIRCRAF ┆ WEATHER_DELA │\n",
       "│ ---  ┆ ---   ┆ --- ┆ ---         ┆   ┆ AY           ┆ Y            ┆ T_DELAY      ┆ Y            │\n",
       "│ i32  ┆ i32   ┆ i32 ┆ i32         ┆   ┆ ---          ┆ ---          ┆ ---          ┆ ---          │\n",
       "│      ┆       ┆     ┆             ┆   ┆ i32          ┆ i32          ┆ i32          ┆ i32          │\n",
       "╞══════╪═══════╪═════╪═════════════╪═══╪══════════════╪══════════════╪══════════════╪══════════════╡\n",
       "│ 2015 ┆ 9     ┆ 8   ┆ 2           ┆ … ┆ 0            ┆ 0            ┆ 128          ┆ 0            │\n",
       "│ 2015 ┆ 2     ┆ 17  ┆ 2           ┆ … ┆ 0            ┆ 3            ┆ 86           ┆ 0            │\n",
       "│ 2015 ┆ 10    ┆ 21  ┆ 3           ┆ … ┆ null         ┆ null         ┆ null         ┆ null         │\n",
       "│ 2015 ┆ 7     ┆ 8   ┆ 3           ┆ … ┆ 0            ┆ 0            ┆ 29           ┆ 0            │\n",
       "│ 2015 ┆ 3     ┆ 29  ┆ 7           ┆ … ┆ null         ┆ null         ┆ null         ┆ null         │\n",
       "│ …    ┆ …     ┆ …   ┆ …           ┆ … ┆ …            ┆ …            ┆ …            ┆ …            │\n",
       "│ 2015 ┆ 2     ┆ 15  ┆ 7           ┆ … ┆ null         ┆ null         ┆ null         ┆ null         │\n",
       "│ 2015 ┆ 2     ┆ 17  ┆ 2           ┆ … ┆ 0            ┆ 0            ┆ 110          ┆ 0            │\n",
       "│ 2015 ┆ 5     ┆ 17  ┆ 7           ┆ … ┆ 0            ┆ 0            ┆ 114          ┆ 0            │\n",
       "│ 2015 ┆ 3     ┆ 5   ┆ 4           ┆ … ┆ 0            ┆ 528          ┆ 0            ┆ 0            │\n",
       "│ 2015 ┆ 6     ┆ 26  ┆ 5           ┆ … ┆ 0            ┆ 0            ┆ 22           ┆ 85           │\n",
       "└──────┴───────┴─────┴─────────────┴───┴──────────────┴──────────────┴──────────────┴──────────────┘"
      ]
     },
     "execution_count": 2,
     "metadata": {},
     "output_type": "execute_result"
    }
   ],
   "source": [
    "vuelos_lf.bottom_k(20, by='DEPARTURE_TIME', descending=True, nulls_last=True).collect()"
   ]
  },
  {
   "cell_type": "markdown",
   "id": "95c623d1-f1e5-484e-82ca-61956ac3872d",
   "metadata": {},
   "source": [
    "## `drop` \n",
    "\n",
    "Elimina la(s) columna(s) seleccionada(s)."
   ]
  },
  {
   "cell_type": "code",
   "execution_count": 3,
   "id": "dd9ad30f-5eaf-4b0e-adcc-466b56f1580b",
   "metadata": {
    "tags": []
   },
   "outputs": [
    {
     "data": {
      "text/html": [
       "<div><style>\n",
       ".dataframe > thead > tr,\n",
       ".dataframe > tbody > tr {\n",
       "  text-align: right;\n",
       "  white-space: pre-wrap;\n",
       "}\n",
       "</style>\n",
       "<small>shape: (5_819_079, 28)</small><table border=\"1\" class=\"dataframe\"><thead><tr><th>DAY_OF_WEEK</th><th>AIRLINE</th><th>FLIGHT_NUMBER</th><th>TAIL_NUMBER</th><th>ORIGIN_AIRPORT</th><th>DESTINATION_AIRPORT</th><th>SCHEDULED_DEPARTURE</th><th>DEPARTURE_TIME</th><th>DEPARTURE_DELAY</th><th>TAXI_OUT</th><th>WHEELS_OFF</th><th>SCHEDULED_TIME</th><th>ELAPSED_TIME</th><th>AIR_TIME</th><th>DISTANCE</th><th>WHEELS_ON</th><th>TAXI_IN</th><th>SCHEDULED_ARRIVAL</th><th>ARRIVAL_TIME</th><th>ARRIVAL_DELAY</th><th>DIVERTED</th><th>CANCELLED</th><th>CANCELLATION_REASON</th><th>AIR_SYSTEM_DELAY</th><th>SECURITY_DELAY</th><th>AIRLINE_DELAY</th><th>LATE_AIRCRAFT_DELAY</th><th>WEATHER_DELAY</th></tr><tr><td>i32</td><td>str</td><td>i32</td><td>str</td><td>str</td><td>str</td><td>i32</td><td>i32</td><td>i32</td><td>i32</td><td>i32</td><td>i32</td><td>i32</td><td>i32</td><td>i32</td><td>i32</td><td>i32</td><td>i32</td><td>i32</td><td>i32</td><td>i32</td><td>i32</td><td>str</td><td>i32</td><td>i32</td><td>i32</td><td>i32</td><td>i32</td></tr></thead><tbody><tr><td>4</td><td>&quot;AS&quot;</td><td>98</td><td>&quot;N407AS&quot;</td><td>&quot;ANC&quot;</td><td>&quot;SEA&quot;</td><td>5</td><td>2354</td><td>-11</td><td>21</td><td>15</td><td>205</td><td>194</td><td>169</td><td>1448</td><td>404</td><td>4</td><td>430</td><td>408</td><td>-22</td><td>0</td><td>0</td><td>null</td><td>null</td><td>null</td><td>null</td><td>null</td><td>null</td></tr><tr><td>4</td><td>&quot;AA&quot;</td><td>2336</td><td>&quot;N3KUAA&quot;</td><td>&quot;LAX&quot;</td><td>&quot;PBI&quot;</td><td>10</td><td>2</td><td>-8</td><td>12</td><td>14</td><td>280</td><td>279</td><td>263</td><td>2330</td><td>737</td><td>4</td><td>750</td><td>741</td><td>-9</td><td>0</td><td>0</td><td>null</td><td>null</td><td>null</td><td>null</td><td>null</td><td>null</td></tr><tr><td>4</td><td>&quot;US&quot;</td><td>840</td><td>&quot;N171US&quot;</td><td>&quot;SFO&quot;</td><td>&quot;CLT&quot;</td><td>20</td><td>18</td><td>-2</td><td>16</td><td>34</td><td>286</td><td>293</td><td>266</td><td>2296</td><td>800</td><td>11</td><td>806</td><td>811</td><td>5</td><td>0</td><td>0</td><td>null</td><td>null</td><td>null</td><td>null</td><td>null</td><td>null</td></tr><tr><td>4</td><td>&quot;AA&quot;</td><td>258</td><td>&quot;N3HYAA&quot;</td><td>&quot;LAX&quot;</td><td>&quot;MIA&quot;</td><td>20</td><td>15</td><td>-5</td><td>15</td><td>30</td><td>285</td><td>281</td><td>258</td><td>2342</td><td>748</td><td>8</td><td>805</td><td>756</td><td>-9</td><td>0</td><td>0</td><td>null</td><td>null</td><td>null</td><td>null</td><td>null</td><td>null</td></tr><tr><td>4</td><td>&quot;AS&quot;</td><td>135</td><td>&quot;N527AS&quot;</td><td>&quot;SEA&quot;</td><td>&quot;ANC&quot;</td><td>25</td><td>24</td><td>-1</td><td>11</td><td>35</td><td>235</td><td>215</td><td>199</td><td>1448</td><td>254</td><td>5</td><td>320</td><td>259</td><td>-21</td><td>0</td><td>0</td><td>null</td><td>null</td><td>null</td><td>null</td><td>null</td><td>null</td></tr><tr><td>&hellip;</td><td>&hellip;</td><td>&hellip;</td><td>&hellip;</td><td>&hellip;</td><td>&hellip;</td><td>&hellip;</td><td>&hellip;</td><td>&hellip;</td><td>&hellip;</td><td>&hellip;</td><td>&hellip;</td><td>&hellip;</td><td>&hellip;</td><td>&hellip;</td><td>&hellip;</td><td>&hellip;</td><td>&hellip;</td><td>&hellip;</td><td>&hellip;</td><td>&hellip;</td><td>&hellip;</td><td>&hellip;</td><td>&hellip;</td><td>&hellip;</td><td>&hellip;</td><td>&hellip;</td><td>&hellip;</td></tr><tr><td>4</td><td>&quot;B6&quot;</td><td>688</td><td>&quot;N657JB&quot;</td><td>&quot;LAX&quot;</td><td>&quot;BOS&quot;</td><td>2359</td><td>2355</td><td>-4</td><td>22</td><td>17</td><td>320</td><td>298</td><td>272</td><td>2611</td><td>749</td><td>4</td><td>819</td><td>753</td><td>-26</td><td>0</td><td>0</td><td>null</td><td>null</td><td>null</td><td>null</td><td>null</td><td>null</td></tr><tr><td>4</td><td>&quot;B6&quot;</td><td>745</td><td>&quot;N828JB&quot;</td><td>&quot;JFK&quot;</td><td>&quot;PSE&quot;</td><td>2359</td><td>2355</td><td>-4</td><td>17</td><td>12</td><td>227</td><td>215</td><td>195</td><td>1617</td><td>427</td><td>3</td><td>446</td><td>430</td><td>-16</td><td>0</td><td>0</td><td>null</td><td>null</td><td>null</td><td>null</td><td>null</td><td>null</td></tr><tr><td>4</td><td>&quot;B6&quot;</td><td>1503</td><td>&quot;N913JB&quot;</td><td>&quot;JFK&quot;</td><td>&quot;SJU&quot;</td><td>2359</td><td>2350</td><td>-9</td><td>17</td><td>7</td><td>221</td><td>222</td><td>197</td><td>1598</td><td>424</td><td>8</td><td>440</td><td>432</td><td>-8</td><td>0</td><td>0</td><td>null</td><td>null</td><td>null</td><td>null</td><td>null</td><td>null</td></tr><tr><td>4</td><td>&quot;B6&quot;</td><td>333</td><td>&quot;N527JB&quot;</td><td>&quot;MCO&quot;</td><td>&quot;SJU&quot;</td><td>2359</td><td>2353</td><td>-6</td><td>10</td><td>3</td><td>161</td><td>157</td><td>144</td><td>1189</td><td>327</td><td>3</td><td>340</td><td>330</td><td>-10</td><td>0</td><td>0</td><td>null</td><td>null</td><td>null</td><td>null</td><td>null</td><td>null</td></tr><tr><td>4</td><td>&quot;B6&quot;</td><td>839</td><td>&quot;N534JB&quot;</td><td>&quot;JFK&quot;</td><td>&quot;BQN&quot;</td><td>2359</td><td>14</td><td>15</td><td>14</td><td>28</td><td>221</td><td>208</td><td>189</td><td>1576</td><td>437</td><td>5</td><td>440</td><td>442</td><td>2</td><td>0</td><td>0</td><td>null</td><td>null</td><td>null</td><td>null</td><td>null</td><td>null</td></tr></tbody></table></div>"
      ],
      "text/plain": [
       "shape: (5_819_079, 28)\n",
       "┌────────────┬─────────┬───────────┬───────────┬───┬───────────┬───────────┬───────────┬───────────┐\n",
       "│ DAY_OF_WEE ┆ AIRLINE ┆ FLIGHT_NU ┆ TAIL_NUMB ┆ … ┆ SECURITY_ ┆ AIRLINE_D ┆ LATE_AIRC ┆ WEATHER_D │\n",
       "│ K          ┆ ---     ┆ MBER      ┆ ER        ┆   ┆ DELAY     ┆ ELAY      ┆ RAFT_DELA ┆ ELAY      │\n",
       "│ ---        ┆ str     ┆ ---       ┆ ---       ┆   ┆ ---       ┆ ---       ┆ Y         ┆ ---       │\n",
       "│ i32        ┆         ┆ i32       ┆ str       ┆   ┆ i32       ┆ i32       ┆ ---       ┆ i32       │\n",
       "│            ┆         ┆           ┆           ┆   ┆           ┆           ┆ i32       ┆           │\n",
       "╞════════════╪═════════╪═══════════╪═══════════╪═══╪═══════════╪═══════════╪═══════════╪═══════════╡\n",
       "│ 4          ┆ AS      ┆ 98        ┆ N407AS    ┆ … ┆ null      ┆ null      ┆ null      ┆ null      │\n",
       "│ 4          ┆ AA      ┆ 2336      ┆ N3KUAA    ┆ … ┆ null      ┆ null      ┆ null      ┆ null      │\n",
       "│ 4          ┆ US      ┆ 840       ┆ N171US    ┆ … ┆ null      ┆ null      ┆ null      ┆ null      │\n",
       "│ 4          ┆ AA      ┆ 258       ┆ N3HYAA    ┆ … ┆ null      ┆ null      ┆ null      ┆ null      │\n",
       "│ 4          ┆ AS      ┆ 135       ┆ N527AS    ┆ … ┆ null      ┆ null      ┆ null      ┆ null      │\n",
       "│ …          ┆ …       ┆ …         ┆ …         ┆ … ┆ …         ┆ …         ┆ …         ┆ …         │\n",
       "│ 4          ┆ B6      ┆ 688       ┆ N657JB    ┆ … ┆ null      ┆ null      ┆ null      ┆ null      │\n",
       "│ 4          ┆ B6      ┆ 745       ┆ N828JB    ┆ … ┆ null      ┆ null      ┆ null      ┆ null      │\n",
       "│ 4          ┆ B6      ┆ 1503      ┆ N913JB    ┆ … ┆ null      ┆ null      ┆ null      ┆ null      │\n",
       "│ 4          ┆ B6      ┆ 333       ┆ N527JB    ┆ … ┆ null      ┆ null      ┆ null      ┆ null      │\n",
       "│ 4          ┆ B6      ┆ 839       ┆ N534JB    ┆ … ┆ null      ┆ null      ┆ null      ┆ null      │\n",
       "└────────────┴─────────┴───────────┴───────────┴───┴───────────┴───────────┴───────────┴───────────┘"
      ]
     },
     "execution_count": 3,
     "metadata": {},
     "output_type": "execute_result"
    }
   ],
   "source": [
    "vuelos_lf.drop('YEAR', 'MONTH', 'DAY').collect()"
   ]
  },
  {
   "cell_type": "markdown",
   "id": "390febee-6d9a-403b-9c1b-11175d9a7112",
   "metadata": {},
   "source": [
    "## Filtrar un DataFrame"
   ]
  },
  {
   "cell_type": "code",
   "execution_count": 4,
   "id": "0a69add8-8a0f-47e2-83b2-f21f8bccfc07",
   "metadata": {
    "tags": []
   },
   "outputs": [
    {
     "data": {
      "text/html": [
       "<div><style>\n",
       ".dataframe > thead > tr,\n",
       ".dataframe > tbody > tr {\n",
       "  text-align: right;\n",
       "  white-space: pre-wrap;\n",
       "}\n",
       "</style>\n",
       "<small>shape: (1_712_529, 2)</small><table border=\"1\" class=\"dataframe\"><thead><tr><th>MONTH</th><th>DEPARTURE_DELAY</th></tr><tr><td>i32</td><td>i32</td></tr></thead><tbody><tr><td>7</td><td>-5</td></tr><tr><td>7</td><td>-5</td></tr><tr><td>7</td><td>-5</td></tr><tr><td>7</td><td>-7</td></tr><tr><td>7</td><td>-2</td></tr><tr><td>&hellip;</td><td>&hellip;</td></tr><tr><td>12</td><td>-1</td></tr><tr><td>12</td><td>-4</td></tr><tr><td>12</td><td>-4</td></tr><tr><td>12</td><td>-9</td></tr><tr><td>12</td><td>-6</td></tr></tbody></table></div>"
      ],
      "text/plain": [
       "shape: (1_712_529, 2)\n",
       "┌───────┬─────────────────┐\n",
       "│ MONTH ┆ DEPARTURE_DELAY │\n",
       "│ ---   ┆ ---             │\n",
       "│ i32   ┆ i32             │\n",
       "╞═══════╪═════════════════╡\n",
       "│ 7     ┆ -5              │\n",
       "│ 7     ┆ -5              │\n",
       "│ 7     ┆ -5              │\n",
       "│ 7     ┆ -7              │\n",
       "│ 7     ┆ -2              │\n",
       "│ …     ┆ …               │\n",
       "│ 12    ┆ -1              │\n",
       "│ 12    ┆ -4              │\n",
       "│ 12    ┆ -4              │\n",
       "│ 12    ┆ -9              │\n",
       "│ 12    ┆ -6              │\n",
       "└───────┴─────────────────┘"
      ]
     },
     "execution_count": 4,
     "metadata": {},
     "output_type": "execute_result"
    }
   ],
   "source": [
    "from polars import col\n",
    "\n",
    "(\n",
    "    vuelos_lf\n",
    "    .filter((col('MONTH') > 6) & (col('DEPARTURE_DELAY') < 0))\n",
    "    .select(\n",
    "        col('MONTH'),\n",
    "        col('DEPARTURE_DELAY')\n",
    "    ).collect()\n",
    ")"
   ]
  },
  {
   "cell_type": "markdown",
   "id": "eb55ad1b-184e-4cc6-8e50-a12a4ff7f8b9",
   "metadata": {},
   "source": [
    "## `with_context`\n",
    "\n",
    "Esta función agrega un contexto externo al gráfico de cálculo. Esto permite que las expresiones también accedan a columnas de DataFrames que no forman parte de este."
   ]
  },
  {
   "cell_type": "code",
   "execution_count": 5,
   "id": "e75ea8e8-ceb4-4f2c-8e9f-9c3806853a81",
   "metadata": {
    "tags": []
   },
   "outputs": [
    {
     "data": {
      "text/html": [
       "<div><style>\n",
       ".dataframe > thead > tr,\n",
       ".dataframe > tbody > tr {\n",
       "  text-align: right;\n",
       "  white-space: pre-wrap;\n",
       "}\n",
       "</style>\n",
       "<small>shape: (3, 2)</small><table border=\"1\" class=\"dataframe\"><thead><tr><th>tarjeta</th><th>descuento</th></tr><tr><td>str</td><td>i64</td></tr></thead><tbody><tr><td>&quot;bronce&quot;</td><td>10</td></tr><tr><td>&quot;plata&quot;</td><td>20</td></tr><tr><td>&quot;oro&quot;</td><td>30</td></tr></tbody></table></div>"
      ],
      "text/plain": [
       "shape: (3, 2)\n",
       "┌─────────┬───────────┐\n",
       "│ tarjeta ┆ descuento │\n",
       "│ ---     ┆ ---       │\n",
       "│ str     ┆ i64       │\n",
       "╞═════════╪═══════════╡\n",
       "│ bronce  ┆ 10        │\n",
       "│ plata   ┆ 20        │\n",
       "│ oro     ┆ 30        │\n",
       "└─────────┴───────────┘"
      ]
     },
     "execution_count": 5,
     "metadata": {},
     "output_type": "execute_result"
    }
   ],
   "source": [
    "tarjetas_lz = pl.LazyFrame({'tarjeta': ['bronce', 'plata', 'oro']})\n",
    "\n",
    "descuentos_lz = pl.LazyFrame({'descuento': [10, 20, 30]})\n",
    "\n",
    "tarjetas_lz.with_context(descuentos_lz).select(\n",
    "    col('tarjeta'),\n",
    "    col('descuento')\n",
    ").collect()"
   ]
  },
  {
   "cell_type": "markdown",
   "id": "1f5712b6-6ea3-471a-adba-1138e32b7368",
   "metadata": {},
   "source": [
    "## `slice`\n",
    "\n",
    "Con esta función podemos obtener una porción o lo que en inglés se conoce como un slice de un DataFrame."
   ]
  },
  {
   "cell_type": "code",
   "execution_count": 6,
   "id": "e009cc07-8832-46db-ab51-30e8137d519d",
   "metadata": {
    "tags": []
   },
   "outputs": [
    {
     "data": {
      "text/html": [
       "<div><style>\n",
       ".dataframe > thead > tr,\n",
       ".dataframe > tbody > tr {\n",
       "  text-align: right;\n",
       "  white-space: pre-wrap;\n",
       "}\n",
       "</style>\n",
       "<small>shape: (10, 31)</small><table border=\"1\" class=\"dataframe\"><thead><tr><th>YEAR</th><th>MONTH</th><th>DAY</th><th>DAY_OF_WEEK</th><th>AIRLINE</th><th>FLIGHT_NUMBER</th><th>TAIL_NUMBER</th><th>ORIGIN_AIRPORT</th><th>DESTINATION_AIRPORT</th><th>SCHEDULED_DEPARTURE</th><th>DEPARTURE_TIME</th><th>DEPARTURE_DELAY</th><th>TAXI_OUT</th><th>WHEELS_OFF</th><th>SCHEDULED_TIME</th><th>ELAPSED_TIME</th><th>AIR_TIME</th><th>DISTANCE</th><th>WHEELS_ON</th><th>TAXI_IN</th><th>SCHEDULED_ARRIVAL</th><th>ARRIVAL_TIME</th><th>ARRIVAL_DELAY</th><th>DIVERTED</th><th>CANCELLED</th><th>CANCELLATION_REASON</th><th>AIR_SYSTEM_DELAY</th><th>SECURITY_DELAY</th><th>AIRLINE_DELAY</th><th>LATE_AIRCRAFT_DELAY</th><th>WEATHER_DELAY</th></tr><tr><td>i32</td><td>i32</td><td>i32</td><td>i32</td><td>str</td><td>i32</td><td>str</td><td>str</td><td>str</td><td>i32</td><td>i32</td><td>i32</td><td>i32</td><td>i32</td><td>i32</td><td>i32</td><td>i32</td><td>i32</td><td>i32</td><td>i32</td><td>i32</td><td>i32</td><td>i32</td><td>i32</td><td>i32</td><td>str</td><td>i32</td><td>i32</td><td>i32</td><td>i32</td><td>i32</td></tr></thead><tbody><tr><td>2015</td><td>1</td><td>1</td><td>4</td><td>&quot;AA&quot;</td><td>2336</td><td>&quot;N3KUAA&quot;</td><td>&quot;LAX&quot;</td><td>&quot;PBI&quot;</td><td>10</td><td>2</td><td>-8</td><td>12</td><td>14</td><td>280</td><td>279</td><td>263</td><td>2330</td><td>737</td><td>4</td><td>750</td><td>741</td><td>-9</td><td>0</td><td>0</td><td>null</td><td>null</td><td>null</td><td>null</td><td>null</td><td>null</td></tr><tr><td>2015</td><td>1</td><td>1</td><td>4</td><td>&quot;US&quot;</td><td>840</td><td>&quot;N171US&quot;</td><td>&quot;SFO&quot;</td><td>&quot;CLT&quot;</td><td>20</td><td>18</td><td>-2</td><td>16</td><td>34</td><td>286</td><td>293</td><td>266</td><td>2296</td><td>800</td><td>11</td><td>806</td><td>811</td><td>5</td><td>0</td><td>0</td><td>null</td><td>null</td><td>null</td><td>null</td><td>null</td><td>null</td></tr><tr><td>2015</td><td>1</td><td>1</td><td>4</td><td>&quot;AA&quot;</td><td>258</td><td>&quot;N3HYAA&quot;</td><td>&quot;LAX&quot;</td><td>&quot;MIA&quot;</td><td>20</td><td>15</td><td>-5</td><td>15</td><td>30</td><td>285</td><td>281</td><td>258</td><td>2342</td><td>748</td><td>8</td><td>805</td><td>756</td><td>-9</td><td>0</td><td>0</td><td>null</td><td>null</td><td>null</td><td>null</td><td>null</td><td>null</td></tr><tr><td>2015</td><td>1</td><td>1</td><td>4</td><td>&quot;AS&quot;</td><td>135</td><td>&quot;N527AS&quot;</td><td>&quot;SEA&quot;</td><td>&quot;ANC&quot;</td><td>25</td><td>24</td><td>-1</td><td>11</td><td>35</td><td>235</td><td>215</td><td>199</td><td>1448</td><td>254</td><td>5</td><td>320</td><td>259</td><td>-21</td><td>0</td><td>0</td><td>null</td><td>null</td><td>null</td><td>null</td><td>null</td><td>null</td></tr><tr><td>2015</td><td>1</td><td>1</td><td>4</td><td>&quot;DL&quot;</td><td>806</td><td>&quot;N3730B&quot;</td><td>&quot;SFO&quot;</td><td>&quot;MSP&quot;</td><td>25</td><td>20</td><td>-5</td><td>18</td><td>38</td><td>217</td><td>230</td><td>206</td><td>1589</td><td>604</td><td>6</td><td>602</td><td>610</td><td>8</td><td>0</td><td>0</td><td>null</td><td>null</td><td>null</td><td>null</td><td>null</td><td>null</td></tr><tr><td>2015</td><td>1</td><td>1</td><td>4</td><td>&quot;NK&quot;</td><td>612</td><td>&quot;N635NK&quot;</td><td>&quot;LAS&quot;</td><td>&quot;MSP&quot;</td><td>25</td><td>19</td><td>-6</td><td>11</td><td>30</td><td>181</td><td>170</td><td>154</td><td>1299</td><td>504</td><td>5</td><td>526</td><td>509</td><td>-17</td><td>0</td><td>0</td><td>null</td><td>null</td><td>null</td><td>null</td><td>null</td><td>null</td></tr><tr><td>2015</td><td>1</td><td>1</td><td>4</td><td>&quot;US&quot;</td><td>2013</td><td>&quot;N584UW&quot;</td><td>&quot;LAX&quot;</td><td>&quot;CLT&quot;</td><td>30</td><td>44</td><td>14</td><td>13</td><td>57</td><td>273</td><td>249</td><td>228</td><td>2125</td><td>745</td><td>8</td><td>803</td><td>753</td><td>-10</td><td>0</td><td>0</td><td>null</td><td>null</td><td>null</td><td>null</td><td>null</td><td>null</td></tr><tr><td>2015</td><td>1</td><td>1</td><td>4</td><td>&quot;AA&quot;</td><td>1112</td><td>&quot;N3LAAA&quot;</td><td>&quot;SFO&quot;</td><td>&quot;DFW&quot;</td><td>30</td><td>19</td><td>-11</td><td>17</td><td>36</td><td>195</td><td>193</td><td>173</td><td>1464</td><td>529</td><td>3</td><td>545</td><td>532</td><td>-13</td><td>0</td><td>0</td><td>null</td><td>null</td><td>null</td><td>null</td><td>null</td><td>null</td></tr><tr><td>2015</td><td>1</td><td>1</td><td>4</td><td>&quot;DL&quot;</td><td>1173</td><td>&quot;N826DN&quot;</td><td>&quot;LAS&quot;</td><td>&quot;ATL&quot;</td><td>30</td><td>33</td><td>3</td><td>12</td><td>45</td><td>221</td><td>203</td><td>186</td><td>1747</td><td>651</td><td>5</td><td>711</td><td>656</td><td>-15</td><td>0</td><td>0</td><td>null</td><td>null</td><td>null</td><td>null</td><td>null</td><td>null</td></tr><tr><td>2015</td><td>1</td><td>1</td><td>4</td><td>&quot;DL&quot;</td><td>2336</td><td>&quot;N958DN&quot;</td><td>&quot;DEN&quot;</td><td>&quot;ATL&quot;</td><td>30</td><td>24</td><td>-6</td><td>12</td><td>36</td><td>173</td><td>149</td><td>133</td><td>1199</td><td>449</td><td>4</td><td>523</td><td>453</td><td>-30</td><td>0</td><td>0</td><td>null</td><td>null</td><td>null</td><td>null</td><td>null</td><td>null</td></tr></tbody></table></div>"
      ],
      "text/plain": [
       "shape: (10, 31)\n",
       "┌──────┬───────┬─────┬─────────────┬───┬──────────────┬──────────────┬──────────────┬──────────────┐\n",
       "│ YEAR ┆ MONTH ┆ DAY ┆ DAY_OF_WEEK ┆ … ┆ SECURITY_DEL ┆ AIRLINE_DELA ┆ LATE_AIRCRAF ┆ WEATHER_DELA │\n",
       "│ ---  ┆ ---   ┆ --- ┆ ---         ┆   ┆ AY           ┆ Y            ┆ T_DELAY      ┆ Y            │\n",
       "│ i32  ┆ i32   ┆ i32 ┆ i32         ┆   ┆ ---          ┆ ---          ┆ ---          ┆ ---          │\n",
       "│      ┆       ┆     ┆             ┆   ┆ i32          ┆ i32          ┆ i32          ┆ i32          │\n",
       "╞══════╪═══════╪═════╪═════════════╪═══╪══════════════╪══════════════╪══════════════╪══════════════╡\n",
       "│ 2015 ┆ 1     ┆ 1   ┆ 4           ┆ … ┆ null         ┆ null         ┆ null         ┆ null         │\n",
       "│ 2015 ┆ 1     ┆ 1   ┆ 4           ┆ … ┆ null         ┆ null         ┆ null         ┆ null         │\n",
       "│ 2015 ┆ 1     ┆ 1   ┆ 4           ┆ … ┆ null         ┆ null         ┆ null         ┆ null         │\n",
       "│ 2015 ┆ 1     ┆ 1   ┆ 4           ┆ … ┆ null         ┆ null         ┆ null         ┆ null         │\n",
       "│ 2015 ┆ 1     ┆ 1   ┆ 4           ┆ … ┆ null         ┆ null         ┆ null         ┆ null         │\n",
       "│ 2015 ┆ 1     ┆ 1   ┆ 4           ┆ … ┆ null         ┆ null         ┆ null         ┆ null         │\n",
       "│ 2015 ┆ 1     ┆ 1   ┆ 4           ┆ … ┆ null         ┆ null         ┆ null         ┆ null         │\n",
       "│ 2015 ┆ 1     ┆ 1   ┆ 4           ┆ … ┆ null         ┆ null         ┆ null         ┆ null         │\n",
       "│ 2015 ┆ 1     ┆ 1   ┆ 4           ┆ … ┆ null         ┆ null         ┆ null         ┆ null         │\n",
       "│ 2015 ┆ 1     ┆ 1   ┆ 4           ┆ … ┆ null         ┆ null         ┆ null         ┆ null         │\n",
       "└──────┴───────┴─────┴─────────────┴───┴──────────────┴──────────────┴──────────────┴──────────────┘"
      ]
     },
     "execution_count": 6,
     "metadata": {},
     "output_type": "execute_result"
    }
   ],
   "source": [
    "vuelos_lf.slice(1,10).collect()"
   ]
  },
  {
   "cell_type": "markdown",
   "id": "074f8328-99c2-4461-bf8f-2fc40bd5472f",
   "metadata": {},
   "source": [
    "## `sort`\n",
    "\n",
    "Esta función ordena el LazyFrame por la(s) columna(s) proporcionadas."
   ]
  },
  {
   "cell_type": "code",
   "execution_count": 7,
   "id": "7b25308f-5d35-4783-b08a-7ee369fcd8c8",
   "metadata": {
    "tags": []
   },
   "outputs": [
    {
     "data": {
      "text/html": [
       "<div><style>\n",
       ".dataframe > thead > tr,\n",
       ".dataframe > tbody > tr {\n",
       "  text-align: right;\n",
       "  white-space: pre-wrap;\n",
       "}\n",
       "</style>\n",
       "<small>shape: (5_819_079, 31)</small><table border=\"1\" class=\"dataframe\"><thead><tr><th>YEAR</th><th>MONTH</th><th>DAY</th><th>DAY_OF_WEEK</th><th>AIRLINE</th><th>FLIGHT_NUMBER</th><th>TAIL_NUMBER</th><th>ORIGIN_AIRPORT</th><th>DESTINATION_AIRPORT</th><th>SCHEDULED_DEPARTURE</th><th>DEPARTURE_TIME</th><th>DEPARTURE_DELAY</th><th>TAXI_OUT</th><th>WHEELS_OFF</th><th>SCHEDULED_TIME</th><th>ELAPSED_TIME</th><th>AIR_TIME</th><th>DISTANCE</th><th>WHEELS_ON</th><th>TAXI_IN</th><th>SCHEDULED_ARRIVAL</th><th>ARRIVAL_TIME</th><th>ARRIVAL_DELAY</th><th>DIVERTED</th><th>CANCELLED</th><th>CANCELLATION_REASON</th><th>AIR_SYSTEM_DELAY</th><th>SECURITY_DELAY</th><th>AIRLINE_DELAY</th><th>LATE_AIRCRAFT_DELAY</th><th>WEATHER_DELAY</th></tr><tr><td>i32</td><td>i32</td><td>i32</td><td>i32</td><td>str</td><td>i32</td><td>str</td><td>str</td><td>str</td><td>i32</td><td>i32</td><td>i32</td><td>i32</td><td>i32</td><td>i32</td><td>i32</td><td>i32</td><td>i32</td><td>i32</td><td>i32</td><td>i32</td><td>i32</td><td>i32</td><td>i32</td><td>i32</td><td>str</td><td>i32</td><td>i32</td><td>i32</td><td>i32</td><td>i32</td></tr></thead><tbody><tr><td>2015</td><td>1</td><td>23</td><td>5</td><td>&quot;AA&quot;</td><td>1322</td><td>&quot;N598AA&quot;</td><td>&quot;BHM&quot;</td><td>&quot;DFW&quot;</td><td>700</td><td>1608</td><td>1988</td><td>13</td><td>1621</td><td>134</td><td>117</td><td>99</td><td>597</td><td>1800</td><td>5</td><td>914</td><td>1805</td><td>1971</td><td>0</td><td>0</td><td>null</td><td>0</td><td>0</td><td>1971</td><td>0</td><td>0</td></tr><tr><td>2015</td><td>8</td><td>1</td><td>6</td><td>&quot;AA&quot;</td><td>96</td><td>&quot;N479AA&quot;</td><td>&quot;RIC&quot;</td><td>&quot;DFW&quot;</td><td>709</td><td>1427</td><td>1878</td><td>28</td><td>1455</td><td>185</td><td>205</td><td>156</td><td>1158</td><td>1631</td><td>21</td><td>914</td><td>1652</td><td>1898</td><td>0</td><td>0</td><td>null</td><td>20</td><td>0</td><td>1878</td><td>0</td><td>0</td></tr><tr><td>2015</td><td>9</td><td>13</td><td>7</td><td>&quot;AA&quot;</td><td>1063</td><td>&quot;N3CAAA&quot;</td><td>&quot;SAN&quot;</td><td>&quot;DFW&quot;</td><td>700</td><td>1050</td><td>1670</td><td>26</td><td>1116</td><td>179</td><td>174</td><td>142</td><td>1171</td><td>1538</td><td>6</td><td>1159</td><td>1544</td><td>1665</td><td>0</td><td>0</td><td>null</td><td>0</td><td>0</td><td>1665</td><td>0</td><td>0</td></tr><tr><td>2015</td><td>12</td><td>31</td><td>4</td><td>&quot;AA&quot;</td><td>2214</td><td>&quot;N4XKAA&quot;</td><td>&quot;ABQ&quot;</td><td>&quot;DFW&quot;</td><td>1041</td><td>1410</td><td>1649</td><td>12</td><td>1422</td><td>104</td><td>91</td><td>69</td><td>569</td><td>1631</td><td>10</td><td>1325</td><td>1641</td><td>1636</td><td>0</td><td>0</td><td>null</td><td>0</td><td>0</td><td>1636</td><td>0</td><td>0</td></tr><tr><td>2015</td><td>11</td><td>27</td><td>5</td><td>&quot;AA&quot;</td><td>2559</td><td>&quot;N489AA&quot;</td><td>&quot;DTW&quot;</td><td>&quot;ORD&quot;</td><td>1027</td><td>1338</td><td>1631</td><td>14</td><td>1352</td><td>82</td><td>89</td><td>56</td><td>235</td><td>1348</td><td>19</td><td>1049</td><td>1407</td><td>1638</td><td>0</td><td>0</td><td>null</td><td>7</td><td>0</td><td>1631</td><td>0</td><td>0</td></tr><tr><td>&hellip;</td><td>&hellip;</td><td>&hellip;</td><td>&hellip;</td><td>&hellip;</td><td>&hellip;</td><td>&hellip;</td><td>&hellip;</td><td>&hellip;</td><td>&hellip;</td><td>&hellip;</td><td>&hellip;</td><td>&hellip;</td><td>&hellip;</td><td>&hellip;</td><td>&hellip;</td><td>&hellip;</td><td>&hellip;</td><td>&hellip;</td><td>&hellip;</td><td>&hellip;</td><td>&hellip;</td><td>&hellip;</td><td>&hellip;</td><td>&hellip;</td><td>&hellip;</td><td>&hellip;</td><td>&hellip;</td><td>&hellip;</td><td>&hellip;</td><td>&hellip;</td></tr><tr><td>2015</td><td>1</td><td>1</td><td>4</td><td>&quot;OO&quot;</td><td>5460</td><td>&quot;N583SW&quot;</td><td>&quot;RDD&quot;</td><td>&quot;SFO&quot;</td><td>530</td><td>null</td><td>null</td><td>null</td><td>null</td><td>90</td><td>null</td><td>null</td><td>199</td><td>null</td><td>null</td><td>700</td><td>null</td><td>null</td><td>0</td><td>1</td><td>&quot;A&quot;</td><td>null</td><td>null</td><td>null</td><td>null</td><td>null</td></tr><tr><td>2015</td><td>1</td><td>1</td><td>4</td><td>&quot;MQ&quot;</td><td>2859</td><td>&quot;N660MQ&quot;</td><td>&quot;SGF&quot;</td><td>&quot;DFW&quot;</td><td>525</td><td>null</td><td>null</td><td>null</td><td>null</td><td>95</td><td>null</td><td>null</td><td>364</td><td>null</td><td>null</td><td>700</td><td>null</td><td>null</td><td>0</td><td>1</td><td>&quot;B&quot;</td><td>null</td><td>null</td><td>null</td><td>null</td><td>null</td></tr><tr><td>2015</td><td>1</td><td>1</td><td>4</td><td>&quot;OO&quot;</td><td>5254</td><td>&quot;N746SK&quot;</td><td>&quot;MAF&quot;</td><td>&quot;IAH&quot;</td><td>510</td><td>null</td><td>null</td><td>null</td><td>null</td><td>87</td><td>null</td><td>null</td><td>429</td><td>null</td><td>null</td><td>637</td><td>null</td><td>null</td><td>0</td><td>1</td><td>&quot;B&quot;</td><td>null</td><td>null</td><td>null</td><td>null</td><td>null</td></tr><tr><td>2015</td><td>1</td><td>1</td><td>4</td><td>&quot;AA&quot;</td><td>2459</td><td>&quot;N3BDAA&quot;</td><td>&quot;PHX&quot;</td><td>&quot;DFW&quot;</td><td>200</td><td>null</td><td>null</td><td>null</td><td>null</td><td>120</td><td>null</td><td>null</td><td>868</td><td>null</td><td>null</td><td>500</td><td>null</td><td>null</td><td>0</td><td>1</td><td>&quot;B&quot;</td><td>null</td><td>null</td><td>null</td><td>null</td><td>null</td></tr><tr><td>2015</td><td>1</td><td>1</td><td>4</td><td>&quot;AS&quot;</td><td>136</td><td>&quot;N431AS&quot;</td><td>&quot;ANC&quot;</td><td>&quot;SEA&quot;</td><td>135</td><td>null</td><td>null</td><td>null</td><td>null</td><td>205</td><td>null</td><td>null</td><td>1448</td><td>null</td><td>null</td><td>600</td><td>null</td><td>null</td><td>0</td><td>1</td><td>&quot;A&quot;</td><td>null</td><td>null</td><td>null</td><td>null</td><td>null</td></tr></tbody></table></div>"
      ],
      "text/plain": [
       "shape: (5_819_079, 31)\n",
       "┌──────┬───────┬─────┬─────────────┬───┬──────────────┬──────────────┬──────────────┬──────────────┐\n",
       "│ YEAR ┆ MONTH ┆ DAY ┆ DAY_OF_WEEK ┆ … ┆ SECURITY_DEL ┆ AIRLINE_DELA ┆ LATE_AIRCRAF ┆ WEATHER_DELA │\n",
       "│ ---  ┆ ---   ┆ --- ┆ ---         ┆   ┆ AY           ┆ Y            ┆ T_DELAY      ┆ Y            │\n",
       "│ i32  ┆ i32   ┆ i32 ┆ i32         ┆   ┆ ---          ┆ ---          ┆ ---          ┆ ---          │\n",
       "│      ┆       ┆     ┆             ┆   ┆ i32          ┆ i32          ┆ i32          ┆ i32          │\n",
       "╞══════╪═══════╪═════╪═════════════╪═══╪══════════════╪══════════════╪══════════════╪══════════════╡\n",
       "│ 2015 ┆ 1     ┆ 23  ┆ 5           ┆ … ┆ 0            ┆ 1971         ┆ 0            ┆ 0            │\n",
       "│ 2015 ┆ 8     ┆ 1   ┆ 6           ┆ … ┆ 0            ┆ 1878         ┆ 0            ┆ 0            │\n",
       "│ 2015 ┆ 9     ┆ 13  ┆ 7           ┆ … ┆ 0            ┆ 1665         ┆ 0            ┆ 0            │\n",
       "│ 2015 ┆ 12    ┆ 31  ┆ 4           ┆ … ┆ 0            ┆ 1636         ┆ 0            ┆ 0            │\n",
       "│ 2015 ┆ 11    ┆ 27  ┆ 5           ┆ … ┆ 0            ┆ 1631         ┆ 0            ┆ 0            │\n",
       "│ …    ┆ …     ┆ …   ┆ …           ┆ … ┆ …            ┆ …            ┆ …            ┆ …            │\n",
       "│ 2015 ┆ 1     ┆ 1   ┆ 4           ┆ … ┆ null         ┆ null         ┆ null         ┆ null         │\n",
       "│ 2015 ┆ 1     ┆ 1   ┆ 4           ┆ … ┆ null         ┆ null         ┆ null         ┆ null         │\n",
       "│ 2015 ┆ 1     ┆ 1   ┆ 4           ┆ … ┆ null         ┆ null         ┆ null         ┆ null         │\n",
       "│ 2015 ┆ 1     ┆ 1   ┆ 4           ┆ … ┆ null         ┆ null         ┆ null         ┆ null         │\n",
       "│ 2015 ┆ 1     ┆ 1   ┆ 4           ┆ … ┆ null         ┆ null         ┆ null         ┆ null         │\n",
       "└──────┴───────┴─────┴─────────────┴───┴──────────────┴──────────────┴──────────────┴──────────────┘"
      ]
     },
     "execution_count": 7,
     "metadata": {},
     "output_type": "execute_result"
    }
   ],
   "source": [
    "vuelos_lf.sort('DEPARTURE_DELAY', descending=True, nulls_last=True).collect()"
   ]
  },
  {
   "cell_type": "markdown",
   "id": "cc4b2151-a8f6-4201-9f7b-48bf5b450f1b",
   "metadata": {},
   "source": [
    "## `gather_every`\n",
    "\n",
    "Toma cada enésima fila del LazyFrame y regresa un nuevo LazyFrame. El primer parámetro estable cada cuantas filas queremos tomar la siguiente fila y el parámetro offset establece desde que posición queremos iniciar a tomar las filas."
   ]
  },
  {
   "cell_type": "code",
   "execution_count": 8,
   "id": "ffdb0c2e-8ce5-4255-8a87-00e19e30b0ba",
   "metadata": {
    "tags": []
   },
   "outputs": [
    {
     "data": {
      "text/html": [
       "<div><style>\n",
       ".dataframe > thead > tr,\n",
       ".dataframe > tbody > tr {\n",
       "  text-align: right;\n",
       "  white-space: pre-wrap;\n",
       "}\n",
       "</style>\n",
       "<small>shape: (1_163_796, 31)</small><table border=\"1\" class=\"dataframe\"><thead><tr><th>YEAR</th><th>MONTH</th><th>DAY</th><th>DAY_OF_WEEK</th><th>AIRLINE</th><th>FLIGHT_NUMBER</th><th>TAIL_NUMBER</th><th>ORIGIN_AIRPORT</th><th>DESTINATION_AIRPORT</th><th>SCHEDULED_DEPARTURE</th><th>DEPARTURE_TIME</th><th>DEPARTURE_DELAY</th><th>TAXI_OUT</th><th>WHEELS_OFF</th><th>SCHEDULED_TIME</th><th>ELAPSED_TIME</th><th>AIR_TIME</th><th>DISTANCE</th><th>WHEELS_ON</th><th>TAXI_IN</th><th>SCHEDULED_ARRIVAL</th><th>ARRIVAL_TIME</th><th>ARRIVAL_DELAY</th><th>DIVERTED</th><th>CANCELLED</th><th>CANCELLATION_REASON</th><th>AIR_SYSTEM_DELAY</th><th>SECURITY_DELAY</th><th>AIRLINE_DELAY</th><th>LATE_AIRCRAFT_DELAY</th><th>WEATHER_DELAY</th></tr><tr><td>i32</td><td>i32</td><td>i32</td><td>i32</td><td>str</td><td>i32</td><td>str</td><td>str</td><td>str</td><td>i32</td><td>i32</td><td>i32</td><td>i32</td><td>i32</td><td>i32</td><td>i32</td><td>i32</td><td>i32</td><td>i32</td><td>i32</td><td>i32</td><td>i32</td><td>i32</td><td>i32</td><td>i32</td><td>str</td><td>i32</td><td>i32</td><td>i32</td><td>i32</td><td>i32</td></tr></thead><tbody><tr><td>2015</td><td>1</td><td>1</td><td>4</td><td>&quot;EV&quot;</td><td>5498</td><td>&quot;N132EV&quot;</td><td>&quot;ORD&quot;</td><td>&quot;DTW&quot;</td><td>535</td><td>550</td><td>15</td><td>18</td><td>608</td><td>85</td><td>67</td><td>41</td><td>235</td><td>749</td><td>8</td><td>800</td><td>757</td><td>-3</td><td>0</td><td>0</td><td>null</td><td>null</td><td>null</td><td>null</td><td>null</td><td>null</td></tr><tr><td>2015</td><td>1</td><td>1</td><td>4</td><td>&quot;B6&quot;</td><td>1012</td><td>&quot;N375JB&quot;</td><td>&quot;ORD&quot;</td><td>&quot;BOS&quot;</td><td>540</td><td>529</td><td>-11</td><td>16</td><td>545</td><td>136</td><td>114</td><td>95</td><td>867</td><td>820</td><td>3</td><td>856</td><td>823</td><td>-33</td><td>0</td><td>0</td><td>null</td><td>null</td><td>null</td><td>null</td><td>null</td><td>null</td></tr><tr><td>2015</td><td>1</td><td>1</td><td>4</td><td>&quot;EV&quot;</td><td>4160</td><td>&quot;N11150&quot;</td><td>&quot;JAX&quot;</td><td>&quot;EWR&quot;</td><td>540</td><td>531</td><td>-9</td><td>9</td><td>540</td><td>137</td><td>132</td><td>109</td><td>820</td><td>729</td><td>14</td><td>757</td><td>743</td><td>-14</td><td>0</td><td>0</td><td>null</td><td>null</td><td>null</td><td>null</td><td>null</td><td>null</td></tr><tr><td>2015</td><td>1</td><td>1</td><td>4</td><td>&quot;OO&quot;</td><td>4833</td><td>&quot;N554CA&quot;</td><td>&quot;MKE&quot;</td><td>&quot;DTW&quot;</td><td>545</td><td>543</td><td>-2</td><td>10</td><td>553</td><td>74</td><td>55</td><td>36</td><td>237</td><td>729</td><td>9</td><td>759</td><td>738</td><td>-21</td><td>0</td><td>0</td><td>null</td><td>null</td><td>null</td><td>null</td><td>null</td><td>null</td></tr><tr><td>2015</td><td>1</td><td>1</td><td>4</td><td>&quot;AA&quot;</td><td>2299</td><td>&quot;N3LLAA&quot;</td><td>&quot;JFK&quot;</td><td>&quot;MIA&quot;</td><td>545</td><td>640</td><td>55</td><td>17</td><td>657</td><td>185</td><td>199</td><td>152</td><td>1089</td><td>929</td><td>30</td><td>850</td><td>959</td><td>69</td><td>0</td><td>0</td><td>null</td><td>14</td><td>0</td><td>55</td><td>0</td><td>0</td></tr><tr><td>&hellip;</td><td>&hellip;</td><td>&hellip;</td><td>&hellip;</td><td>&hellip;</td><td>&hellip;</td><td>&hellip;</td><td>&hellip;</td><td>&hellip;</td><td>&hellip;</td><td>&hellip;</td><td>&hellip;</td><td>&hellip;</td><td>&hellip;</td><td>&hellip;</td><td>&hellip;</td><td>&hellip;</td><td>&hellip;</td><td>&hellip;</td><td>&hellip;</td><td>&hellip;</td><td>&hellip;</td><td>&hellip;</td><td>&hellip;</td><td>&hellip;</td><td>&hellip;</td><td>&hellip;</td><td>&hellip;</td><td>&hellip;</td><td>&hellip;</td><td>&hellip;</td></tr><tr><td>2015</td><td>12</td><td>31</td><td>4</td><td>&quot;AS&quot;</td><td>471</td><td>&quot;N570AS&quot;</td><td>&quot;LAX&quot;</td><td>&quot;SEA&quot;</td><td>2355</td><td>2353</td><td>-2</td><td>17</td><td>10</td><td>169</td><td>152</td><td>132</td><td>954</td><td>222</td><td>3</td><td>244</td><td>225</td><td>-19</td><td>0</td><td>0</td><td>null</td><td>null</td><td>null</td><td>null</td><td>null</td><td>null</td></tr><tr><td>2015</td><td>12</td><td>31</td><td>4</td><td>&quot;F9&quot;</td><td>682</td><td>&quot;N701FR&quot;</td><td>&quot;DEN&quot;</td><td>&quot;MCO&quot;</td><td>2359</td><td>2354</td><td>-5</td><td>12</td><td>6</td><td>206</td><td>190</td><td>170</td><td>1546</td><td>456</td><td>8</td><td>525</td><td>504</td><td>-21</td><td>0</td><td>0</td><td>null</td><td>null</td><td>null</td><td>null</td><td>null</td><td>null</td></tr><tr><td>2015</td><td>12</td><td>31</td><td>4</td><td>&quot;UA&quot;</td><td>671</td><td>&quot;N33209&quot;</td><td>&quot;PDX&quot;</td><td>&quot;IAH&quot;</td><td>2359</td><td>2352</td><td>-7</td><td>10</td><td>2</td><td>245</td><td>233</td><td>214</td><td>1825</td><td>536</td><td>9</td><td>604</td><td>545</td><td>-19</td><td>0</td><td>0</td><td>null</td><td>null</td><td>null</td><td>null</td><td>null</td><td>null</td></tr><tr><td>2015</td><td>12</td><td>31</td><td>4</td><td>&quot;B6&quot;</td><td>80</td><td>&quot;N584JB&quot;</td><td>&quot;RNO&quot;</td><td>&quot;JFK&quot;</td><td>2359</td><td>2359</td><td>0</td><td>12</td><td>11</td><td>306</td><td>285</td><td>268</td><td>2411</td><td>739</td><td>5</td><td>805</td><td>744</td><td>-21</td><td>0</td><td>0</td><td>null</td><td>null</td><td>null</td><td>null</td><td>null</td><td>null</td></tr><tr><td>2015</td><td>12</td><td>31</td><td>4</td><td>&quot;B6&quot;</td><td>745</td><td>&quot;N828JB&quot;</td><td>&quot;JFK&quot;</td><td>&quot;PSE&quot;</td><td>2359</td><td>2355</td><td>-4</td><td>17</td><td>12</td><td>227</td><td>215</td><td>195</td><td>1617</td><td>427</td><td>3</td><td>446</td><td>430</td><td>-16</td><td>0</td><td>0</td><td>null</td><td>null</td><td>null</td><td>null</td><td>null</td><td>null</td></tr></tbody></table></div>"
      ],
      "text/plain": [
       "shape: (1_163_796, 31)\n",
       "┌──────┬───────┬─────┬─────────────┬───┬──────────────┬──────────────┬──────────────┬──────────────┐\n",
       "│ YEAR ┆ MONTH ┆ DAY ┆ DAY_OF_WEEK ┆ … ┆ SECURITY_DEL ┆ AIRLINE_DELA ┆ LATE_AIRCRAF ┆ WEATHER_DELA │\n",
       "│ ---  ┆ ---   ┆ --- ┆ ---         ┆   ┆ AY           ┆ Y            ┆ T_DELAY      ┆ Y            │\n",
       "│ i32  ┆ i32   ┆ i32 ┆ i32         ┆   ┆ ---          ┆ ---          ┆ ---          ┆ ---          │\n",
       "│      ┆       ┆     ┆             ┆   ┆ i32          ┆ i32          ┆ i32          ┆ i32          │\n",
       "╞══════╪═══════╪═════╪═════════════╪═══╪══════════════╪══════════════╪══════════════╪══════════════╡\n",
       "│ 2015 ┆ 1     ┆ 1   ┆ 4           ┆ … ┆ null         ┆ null         ┆ null         ┆ null         │\n",
       "│ 2015 ┆ 1     ┆ 1   ┆ 4           ┆ … ┆ null         ┆ null         ┆ null         ┆ null         │\n",
       "│ 2015 ┆ 1     ┆ 1   ┆ 4           ┆ … ┆ null         ┆ null         ┆ null         ┆ null         │\n",
       "│ 2015 ┆ 1     ┆ 1   ┆ 4           ┆ … ┆ null         ┆ null         ┆ null         ┆ null         │\n",
       "│ 2015 ┆ 1     ┆ 1   ┆ 4           ┆ … ┆ 0            ┆ 55           ┆ 0            ┆ 0            │\n",
       "│ …    ┆ …     ┆ …   ┆ …           ┆ … ┆ …            ┆ …            ┆ …            ┆ …            │\n",
       "│ 2015 ┆ 12    ┆ 31  ┆ 4           ┆ … ┆ null         ┆ null         ┆ null         ┆ null         │\n",
       "│ 2015 ┆ 12    ┆ 31  ┆ 4           ┆ … ┆ null         ┆ null         ┆ null         ┆ null         │\n",
       "│ 2015 ┆ 12    ┆ 31  ┆ 4           ┆ … ┆ null         ┆ null         ┆ null         ┆ null         │\n",
       "│ 2015 ┆ 12    ┆ 31  ┆ 4           ┆ … ┆ null         ┆ null         ┆ null         ┆ null         │\n",
       "│ 2015 ┆ 12    ┆ 31  ┆ 4           ┆ … ┆ null         ┆ null         ┆ null         ┆ null         │\n",
       "└──────┴───────┴─────┴─────────────┴───┴──────────────┴──────────────┴──────────────┴──────────────┘"
      ]
     },
     "execution_count": 8,
     "metadata": {},
     "output_type": "execute_result"
    }
   ],
   "source": [
    "vuelos_lf.gather_every(5, 100).collect()"
   ]
  },
  {
   "cell_type": "markdown",
   "id": "8a36b21e-fd57-480e-a037-b650703fb95d",
   "metadata": {},
   "source": [
    "## `shift`\n",
    "\n",
    "Esta función cambia los valores según el número dado de índices. En la práctica lo podemos ver como un desplazamiento de las filas del LazyFrame."
   ]
  },
  {
   "cell_type": "code",
   "execution_count": 9,
   "id": "d0fe814f-68d7-409e-9333-b42c9381cbff",
   "metadata": {
    "tags": []
   },
   "outputs": [
    {
     "data": {
      "text/html": [
       "<div><style>\n",
       ".dataframe > thead > tr,\n",
       ".dataframe > tbody > tr {\n",
       "  text-align: right;\n",
       "  white-space: pre-wrap;\n",
       "}\n",
       "</style>\n",
       "<small>shape: (5_819_079, 31)</small><table border=\"1\" class=\"dataframe\"><thead><tr><th>YEAR</th><th>MONTH</th><th>DAY</th><th>DAY_OF_WEEK</th><th>AIRLINE</th><th>FLIGHT_NUMBER</th><th>TAIL_NUMBER</th><th>ORIGIN_AIRPORT</th><th>DESTINATION_AIRPORT</th><th>SCHEDULED_DEPARTURE</th><th>DEPARTURE_TIME</th><th>DEPARTURE_DELAY</th><th>TAXI_OUT</th><th>WHEELS_OFF</th><th>SCHEDULED_TIME</th><th>ELAPSED_TIME</th><th>AIR_TIME</th><th>DISTANCE</th><th>WHEELS_ON</th><th>TAXI_IN</th><th>SCHEDULED_ARRIVAL</th><th>ARRIVAL_TIME</th><th>ARRIVAL_DELAY</th><th>DIVERTED</th><th>CANCELLED</th><th>CANCELLATION_REASON</th><th>AIR_SYSTEM_DELAY</th><th>SECURITY_DELAY</th><th>AIRLINE_DELAY</th><th>LATE_AIRCRAFT_DELAY</th><th>WEATHER_DELAY</th></tr><tr><td>i32</td><td>i32</td><td>i32</td><td>i32</td><td>str</td><td>i32</td><td>str</td><td>str</td><td>str</td><td>i32</td><td>i32</td><td>i32</td><td>i32</td><td>i32</td><td>i32</td><td>i32</td><td>i32</td><td>i32</td><td>i32</td><td>i32</td><td>i32</td><td>i32</td><td>i32</td><td>i32</td><td>i32</td><td>str</td><td>i32</td><td>i32</td><td>i32</td><td>i32</td><td>i32</td></tr></thead><tbody><tr><td>null</td><td>null</td><td>null</td><td>null</td><td>null</td><td>null</td><td>null</td><td>null</td><td>null</td><td>null</td><td>null</td><td>null</td><td>null</td><td>null</td><td>null</td><td>null</td><td>null</td><td>null</td><td>null</td><td>null</td><td>null</td><td>null</td><td>null</td><td>null</td><td>null</td><td>null</td><td>null</td><td>null</td><td>null</td><td>null</td><td>null</td></tr><tr><td>null</td><td>null</td><td>null</td><td>null</td><td>null</td><td>null</td><td>null</td><td>null</td><td>null</td><td>null</td><td>null</td><td>null</td><td>null</td><td>null</td><td>null</td><td>null</td><td>null</td><td>null</td><td>null</td><td>null</td><td>null</td><td>null</td><td>null</td><td>null</td><td>null</td><td>null</td><td>null</td><td>null</td><td>null</td><td>null</td><td>null</td></tr><tr><td>null</td><td>null</td><td>null</td><td>null</td><td>null</td><td>null</td><td>null</td><td>null</td><td>null</td><td>null</td><td>null</td><td>null</td><td>null</td><td>null</td><td>null</td><td>null</td><td>null</td><td>null</td><td>null</td><td>null</td><td>null</td><td>null</td><td>null</td><td>null</td><td>null</td><td>null</td><td>null</td><td>null</td><td>null</td><td>null</td><td>null</td></tr><tr><td>2015</td><td>1</td><td>1</td><td>4</td><td>&quot;AS&quot;</td><td>98</td><td>&quot;N407AS&quot;</td><td>&quot;ANC&quot;</td><td>&quot;SEA&quot;</td><td>5</td><td>2354</td><td>-11</td><td>21</td><td>15</td><td>205</td><td>194</td><td>169</td><td>1448</td><td>404</td><td>4</td><td>430</td><td>408</td><td>-22</td><td>0</td><td>0</td><td>null</td><td>null</td><td>null</td><td>null</td><td>null</td><td>null</td></tr><tr><td>2015</td><td>1</td><td>1</td><td>4</td><td>&quot;AA&quot;</td><td>2336</td><td>&quot;N3KUAA&quot;</td><td>&quot;LAX&quot;</td><td>&quot;PBI&quot;</td><td>10</td><td>2</td><td>-8</td><td>12</td><td>14</td><td>280</td><td>279</td><td>263</td><td>2330</td><td>737</td><td>4</td><td>750</td><td>741</td><td>-9</td><td>0</td><td>0</td><td>null</td><td>null</td><td>null</td><td>null</td><td>null</td><td>null</td></tr><tr><td>&hellip;</td><td>&hellip;</td><td>&hellip;</td><td>&hellip;</td><td>&hellip;</td><td>&hellip;</td><td>&hellip;</td><td>&hellip;</td><td>&hellip;</td><td>&hellip;</td><td>&hellip;</td><td>&hellip;</td><td>&hellip;</td><td>&hellip;</td><td>&hellip;</td><td>&hellip;</td><td>&hellip;</td><td>&hellip;</td><td>&hellip;</td><td>&hellip;</td><td>&hellip;</td><td>&hellip;</td><td>&hellip;</td><td>&hellip;</td><td>&hellip;</td><td>&hellip;</td><td>&hellip;</td><td>&hellip;</td><td>&hellip;</td><td>&hellip;</td><td>&hellip;</td></tr><tr><td>2015</td><td>12</td><td>31</td><td>4</td><td>&quot;B6&quot;</td><td>802</td><td>&quot;N589JB&quot;</td><td>&quot;SLC&quot;</td><td>&quot;MCO&quot;</td><td>2359</td><td>15</td><td>16</td><td>14</td><td>29</td><td>249</td><td>250</td><td>211</td><td>1931</td><td>600</td><td>25</td><td>608</td><td>625</td><td>17</td><td>0</td><td>0</td><td>null</td><td>1</td><td>0</td><td>16</td><td>0</td><td>0</td></tr><tr><td>2015</td><td>12</td><td>31</td><td>4</td><td>&quot;B6&quot;</td><td>98</td><td>&quot;N607JB&quot;</td><td>&quot;DEN&quot;</td><td>&quot;JFK&quot;</td><td>2359</td><td>6</td><td>7</td><td>13</td><td>19</td><td>211</td><td>193</td><td>173</td><td>1626</td><td>512</td><td>7</td><td>530</td><td>519</td><td>-11</td><td>0</td><td>0</td><td>null</td><td>null</td><td>null</td><td>null</td><td>null</td><td>null</td></tr><tr><td>2015</td><td>12</td><td>31</td><td>4</td><td>&quot;B6&quot;</td><td>66</td><td>&quot;N655JB&quot;</td><td>&quot;ABQ&quot;</td><td>&quot;JFK&quot;</td><td>2359</td><td>15</td><td>16</td><td>9</td><td>24</td><td>227</td><td>214</td><td>190</td><td>1826</td><td>534</td><td>15</td><td>546</td><td>549</td><td>3</td><td>0</td><td>0</td><td>null</td><td>null</td><td>null</td><td>null</td><td>null</td><td>null</td></tr><tr><td>2015</td><td>12</td><td>31</td><td>4</td><td>&quot;B6&quot;</td><td>688</td><td>&quot;N657JB&quot;</td><td>&quot;LAX&quot;</td><td>&quot;BOS&quot;</td><td>2359</td><td>2355</td><td>-4</td><td>22</td><td>17</td><td>320</td><td>298</td><td>272</td><td>2611</td><td>749</td><td>4</td><td>819</td><td>753</td><td>-26</td><td>0</td><td>0</td><td>null</td><td>null</td><td>null</td><td>null</td><td>null</td><td>null</td></tr><tr><td>2015</td><td>12</td><td>31</td><td>4</td><td>&quot;B6&quot;</td><td>745</td><td>&quot;N828JB&quot;</td><td>&quot;JFK&quot;</td><td>&quot;PSE&quot;</td><td>2359</td><td>2355</td><td>-4</td><td>17</td><td>12</td><td>227</td><td>215</td><td>195</td><td>1617</td><td>427</td><td>3</td><td>446</td><td>430</td><td>-16</td><td>0</td><td>0</td><td>null</td><td>null</td><td>null</td><td>null</td><td>null</td><td>null</td></tr></tbody></table></div>"
      ],
      "text/plain": [
       "shape: (5_819_079, 31)\n",
       "┌──────┬───────┬──────┬─────────────┬───┬──────────────┬──────────────┬──────────────┬─────────────┐\n",
       "│ YEAR ┆ MONTH ┆ DAY  ┆ DAY_OF_WEEK ┆ … ┆ SECURITY_DEL ┆ AIRLINE_DELA ┆ LATE_AIRCRAF ┆ WEATHER_DEL │\n",
       "│ ---  ┆ ---   ┆ ---  ┆ ---         ┆   ┆ AY           ┆ Y            ┆ T_DELAY      ┆ AY          │\n",
       "│ i32  ┆ i32   ┆ i32  ┆ i32         ┆   ┆ ---          ┆ ---          ┆ ---          ┆ ---         │\n",
       "│      ┆       ┆      ┆             ┆   ┆ i32          ┆ i32          ┆ i32          ┆ i32         │\n",
       "╞══════╪═══════╪══════╪═════════════╪═══╪══════════════╪══════════════╪══════════════╪═════════════╡\n",
       "│ null ┆ null  ┆ null ┆ null        ┆ … ┆ null         ┆ null         ┆ null         ┆ null        │\n",
       "│ null ┆ null  ┆ null ┆ null        ┆ … ┆ null         ┆ null         ┆ null         ┆ null        │\n",
       "│ null ┆ null  ┆ null ┆ null        ┆ … ┆ null         ┆ null         ┆ null         ┆ null        │\n",
       "│ 2015 ┆ 1     ┆ 1    ┆ 4           ┆ … ┆ null         ┆ null         ┆ null         ┆ null        │\n",
       "│ 2015 ┆ 1     ┆ 1    ┆ 4           ┆ … ┆ null         ┆ null         ┆ null         ┆ null        │\n",
       "│ …    ┆ …     ┆ …    ┆ …           ┆ … ┆ …            ┆ …            ┆ …            ┆ …           │\n",
       "│ 2015 ┆ 12    ┆ 31   ┆ 4           ┆ … ┆ 0            ┆ 16           ┆ 0            ┆ 0           │\n",
       "│ 2015 ┆ 12    ┆ 31   ┆ 4           ┆ … ┆ null         ┆ null         ┆ null         ┆ null        │\n",
       "│ 2015 ┆ 12    ┆ 31   ┆ 4           ┆ … ┆ null         ┆ null         ┆ null         ┆ null        │\n",
       "│ 2015 ┆ 12    ┆ 31   ┆ 4           ┆ … ┆ null         ┆ null         ┆ null         ┆ null        │\n",
       "│ 2015 ┆ 12    ┆ 31   ┆ 4           ┆ … ┆ null         ┆ null         ┆ null         ┆ null        │\n",
       "└──────┴───────┴──────┴─────────────┴───┴──────────────┴──────────────┴──────────────┴─────────────┘"
      ]
     },
     "execution_count": 9,
     "metadata": {},
     "output_type": "execute_result"
    }
   ],
   "source": [
    "vuelos_lf.shift(3).collect()"
   ]
  },
  {
   "cell_type": "code",
   "execution_count": 10,
   "id": "504599f7-a88f-44a9-a12c-04dff4811d58",
   "metadata": {
    "tags": []
   },
   "outputs": [
    {
     "data": {
      "text/html": [
       "<div><style>\n",
       ".dataframe > thead > tr,\n",
       ".dataframe > tbody > tr {\n",
       "  text-align: right;\n",
       "  white-space: pre-wrap;\n",
       "}\n",
       "</style>\n",
       "<small>shape: (5_819_079, 31)</small><table border=\"1\" class=\"dataframe\"><thead><tr><th>YEAR</th><th>MONTH</th><th>DAY</th><th>DAY_OF_WEEK</th><th>AIRLINE</th><th>FLIGHT_NUMBER</th><th>TAIL_NUMBER</th><th>ORIGIN_AIRPORT</th><th>DESTINATION_AIRPORT</th><th>SCHEDULED_DEPARTURE</th><th>DEPARTURE_TIME</th><th>DEPARTURE_DELAY</th><th>TAXI_OUT</th><th>WHEELS_OFF</th><th>SCHEDULED_TIME</th><th>ELAPSED_TIME</th><th>AIR_TIME</th><th>DISTANCE</th><th>WHEELS_ON</th><th>TAXI_IN</th><th>SCHEDULED_ARRIVAL</th><th>ARRIVAL_TIME</th><th>ARRIVAL_DELAY</th><th>DIVERTED</th><th>CANCELLED</th><th>CANCELLATION_REASON</th><th>AIR_SYSTEM_DELAY</th><th>SECURITY_DELAY</th><th>AIRLINE_DELAY</th><th>LATE_AIRCRAFT_DELAY</th><th>WEATHER_DELAY</th></tr><tr><td>str</td><td>str</td><td>str</td><td>str</td><td>str</td><td>str</td><td>str</td><td>str</td><td>str</td><td>str</td><td>str</td><td>str</td><td>str</td><td>str</td><td>str</td><td>str</td><td>str</td><td>str</td><td>str</td><td>str</td><td>str</td><td>str</td><td>str</td><td>str</td><td>str</td><td>str</td><td>str</td><td>str</td><td>str</td><td>str</td><td>str</td></tr></thead><tbody><tr><td>&quot;prueba&quot;</td><td>&quot;prueba&quot;</td><td>&quot;prueba&quot;</td><td>&quot;prueba&quot;</td><td>&quot;prueba&quot;</td><td>&quot;prueba&quot;</td><td>&quot;prueba&quot;</td><td>&quot;prueba&quot;</td><td>&quot;prueba&quot;</td><td>&quot;prueba&quot;</td><td>&quot;prueba&quot;</td><td>&quot;prueba&quot;</td><td>&quot;prueba&quot;</td><td>&quot;prueba&quot;</td><td>&quot;prueba&quot;</td><td>&quot;prueba&quot;</td><td>&quot;prueba&quot;</td><td>&quot;prueba&quot;</td><td>&quot;prueba&quot;</td><td>&quot;prueba&quot;</td><td>&quot;prueba&quot;</td><td>&quot;prueba&quot;</td><td>&quot;prueba&quot;</td><td>&quot;prueba&quot;</td><td>&quot;prueba&quot;</td><td>&quot;prueba&quot;</td><td>&quot;prueba&quot;</td><td>&quot;prueba&quot;</td><td>&quot;prueba&quot;</td><td>&quot;prueba&quot;</td><td>&quot;prueba&quot;</td></tr><tr><td>&quot;prueba&quot;</td><td>&quot;prueba&quot;</td><td>&quot;prueba&quot;</td><td>&quot;prueba&quot;</td><td>&quot;prueba&quot;</td><td>&quot;prueba&quot;</td><td>&quot;prueba&quot;</td><td>&quot;prueba&quot;</td><td>&quot;prueba&quot;</td><td>&quot;prueba&quot;</td><td>&quot;prueba&quot;</td><td>&quot;prueba&quot;</td><td>&quot;prueba&quot;</td><td>&quot;prueba&quot;</td><td>&quot;prueba&quot;</td><td>&quot;prueba&quot;</td><td>&quot;prueba&quot;</td><td>&quot;prueba&quot;</td><td>&quot;prueba&quot;</td><td>&quot;prueba&quot;</td><td>&quot;prueba&quot;</td><td>&quot;prueba&quot;</td><td>&quot;prueba&quot;</td><td>&quot;prueba&quot;</td><td>&quot;prueba&quot;</td><td>&quot;prueba&quot;</td><td>&quot;prueba&quot;</td><td>&quot;prueba&quot;</td><td>&quot;prueba&quot;</td><td>&quot;prueba&quot;</td><td>&quot;prueba&quot;</td></tr><tr><td>&quot;prueba&quot;</td><td>&quot;prueba&quot;</td><td>&quot;prueba&quot;</td><td>&quot;prueba&quot;</td><td>&quot;prueba&quot;</td><td>&quot;prueba&quot;</td><td>&quot;prueba&quot;</td><td>&quot;prueba&quot;</td><td>&quot;prueba&quot;</td><td>&quot;prueba&quot;</td><td>&quot;prueba&quot;</td><td>&quot;prueba&quot;</td><td>&quot;prueba&quot;</td><td>&quot;prueba&quot;</td><td>&quot;prueba&quot;</td><td>&quot;prueba&quot;</td><td>&quot;prueba&quot;</td><td>&quot;prueba&quot;</td><td>&quot;prueba&quot;</td><td>&quot;prueba&quot;</td><td>&quot;prueba&quot;</td><td>&quot;prueba&quot;</td><td>&quot;prueba&quot;</td><td>&quot;prueba&quot;</td><td>&quot;prueba&quot;</td><td>&quot;prueba&quot;</td><td>&quot;prueba&quot;</td><td>&quot;prueba&quot;</td><td>&quot;prueba&quot;</td><td>&quot;prueba&quot;</td><td>&quot;prueba&quot;</td></tr><tr><td>&quot;2015&quot;</td><td>&quot;1&quot;</td><td>&quot;1&quot;</td><td>&quot;4&quot;</td><td>&quot;AS&quot;</td><td>&quot;98&quot;</td><td>&quot;N407AS&quot;</td><td>&quot;ANC&quot;</td><td>&quot;SEA&quot;</td><td>&quot;5&quot;</td><td>&quot;2354&quot;</td><td>&quot;-11&quot;</td><td>&quot;21&quot;</td><td>&quot;15&quot;</td><td>&quot;205&quot;</td><td>&quot;194&quot;</td><td>&quot;169&quot;</td><td>&quot;1448&quot;</td><td>&quot;404&quot;</td><td>&quot;4&quot;</td><td>&quot;430&quot;</td><td>&quot;408&quot;</td><td>&quot;-22&quot;</td><td>&quot;0&quot;</td><td>&quot;0&quot;</td><td>null</td><td>null</td><td>null</td><td>null</td><td>null</td><td>null</td></tr><tr><td>&quot;2015&quot;</td><td>&quot;1&quot;</td><td>&quot;1&quot;</td><td>&quot;4&quot;</td><td>&quot;AA&quot;</td><td>&quot;2336&quot;</td><td>&quot;N3KUAA&quot;</td><td>&quot;LAX&quot;</td><td>&quot;PBI&quot;</td><td>&quot;10&quot;</td><td>&quot;2&quot;</td><td>&quot;-8&quot;</td><td>&quot;12&quot;</td><td>&quot;14&quot;</td><td>&quot;280&quot;</td><td>&quot;279&quot;</td><td>&quot;263&quot;</td><td>&quot;2330&quot;</td><td>&quot;737&quot;</td><td>&quot;4&quot;</td><td>&quot;750&quot;</td><td>&quot;741&quot;</td><td>&quot;-9&quot;</td><td>&quot;0&quot;</td><td>&quot;0&quot;</td><td>null</td><td>null</td><td>null</td><td>null</td><td>null</td><td>null</td></tr><tr><td>&hellip;</td><td>&hellip;</td><td>&hellip;</td><td>&hellip;</td><td>&hellip;</td><td>&hellip;</td><td>&hellip;</td><td>&hellip;</td><td>&hellip;</td><td>&hellip;</td><td>&hellip;</td><td>&hellip;</td><td>&hellip;</td><td>&hellip;</td><td>&hellip;</td><td>&hellip;</td><td>&hellip;</td><td>&hellip;</td><td>&hellip;</td><td>&hellip;</td><td>&hellip;</td><td>&hellip;</td><td>&hellip;</td><td>&hellip;</td><td>&hellip;</td><td>&hellip;</td><td>&hellip;</td><td>&hellip;</td><td>&hellip;</td><td>&hellip;</td><td>&hellip;</td></tr><tr><td>&quot;2015&quot;</td><td>&quot;12&quot;</td><td>&quot;31&quot;</td><td>&quot;4&quot;</td><td>&quot;B6&quot;</td><td>&quot;802&quot;</td><td>&quot;N589JB&quot;</td><td>&quot;SLC&quot;</td><td>&quot;MCO&quot;</td><td>&quot;2359&quot;</td><td>&quot;15&quot;</td><td>&quot;16&quot;</td><td>&quot;14&quot;</td><td>&quot;29&quot;</td><td>&quot;249&quot;</td><td>&quot;250&quot;</td><td>&quot;211&quot;</td><td>&quot;1931&quot;</td><td>&quot;600&quot;</td><td>&quot;25&quot;</td><td>&quot;608&quot;</td><td>&quot;625&quot;</td><td>&quot;17&quot;</td><td>&quot;0&quot;</td><td>&quot;0&quot;</td><td>null</td><td>&quot;1&quot;</td><td>&quot;0&quot;</td><td>&quot;16&quot;</td><td>&quot;0&quot;</td><td>&quot;0&quot;</td></tr><tr><td>&quot;2015&quot;</td><td>&quot;12&quot;</td><td>&quot;31&quot;</td><td>&quot;4&quot;</td><td>&quot;B6&quot;</td><td>&quot;98&quot;</td><td>&quot;N607JB&quot;</td><td>&quot;DEN&quot;</td><td>&quot;JFK&quot;</td><td>&quot;2359&quot;</td><td>&quot;6&quot;</td><td>&quot;7&quot;</td><td>&quot;13&quot;</td><td>&quot;19&quot;</td><td>&quot;211&quot;</td><td>&quot;193&quot;</td><td>&quot;173&quot;</td><td>&quot;1626&quot;</td><td>&quot;512&quot;</td><td>&quot;7&quot;</td><td>&quot;530&quot;</td><td>&quot;519&quot;</td><td>&quot;-11&quot;</td><td>&quot;0&quot;</td><td>&quot;0&quot;</td><td>null</td><td>null</td><td>null</td><td>null</td><td>null</td><td>null</td></tr><tr><td>&quot;2015&quot;</td><td>&quot;12&quot;</td><td>&quot;31&quot;</td><td>&quot;4&quot;</td><td>&quot;B6&quot;</td><td>&quot;66&quot;</td><td>&quot;N655JB&quot;</td><td>&quot;ABQ&quot;</td><td>&quot;JFK&quot;</td><td>&quot;2359&quot;</td><td>&quot;15&quot;</td><td>&quot;16&quot;</td><td>&quot;9&quot;</td><td>&quot;24&quot;</td><td>&quot;227&quot;</td><td>&quot;214&quot;</td><td>&quot;190&quot;</td><td>&quot;1826&quot;</td><td>&quot;534&quot;</td><td>&quot;15&quot;</td><td>&quot;546&quot;</td><td>&quot;549&quot;</td><td>&quot;3&quot;</td><td>&quot;0&quot;</td><td>&quot;0&quot;</td><td>null</td><td>null</td><td>null</td><td>null</td><td>null</td><td>null</td></tr><tr><td>&quot;2015&quot;</td><td>&quot;12&quot;</td><td>&quot;31&quot;</td><td>&quot;4&quot;</td><td>&quot;B6&quot;</td><td>&quot;688&quot;</td><td>&quot;N657JB&quot;</td><td>&quot;LAX&quot;</td><td>&quot;BOS&quot;</td><td>&quot;2359&quot;</td><td>&quot;2355&quot;</td><td>&quot;-4&quot;</td><td>&quot;22&quot;</td><td>&quot;17&quot;</td><td>&quot;320&quot;</td><td>&quot;298&quot;</td><td>&quot;272&quot;</td><td>&quot;2611&quot;</td><td>&quot;749&quot;</td><td>&quot;4&quot;</td><td>&quot;819&quot;</td><td>&quot;753&quot;</td><td>&quot;-26&quot;</td><td>&quot;0&quot;</td><td>&quot;0&quot;</td><td>null</td><td>null</td><td>null</td><td>null</td><td>null</td><td>null</td></tr><tr><td>&quot;2015&quot;</td><td>&quot;12&quot;</td><td>&quot;31&quot;</td><td>&quot;4&quot;</td><td>&quot;B6&quot;</td><td>&quot;745&quot;</td><td>&quot;N828JB&quot;</td><td>&quot;JFK&quot;</td><td>&quot;PSE&quot;</td><td>&quot;2359&quot;</td><td>&quot;2355&quot;</td><td>&quot;-4&quot;</td><td>&quot;17&quot;</td><td>&quot;12&quot;</td><td>&quot;227&quot;</td><td>&quot;215&quot;</td><td>&quot;195&quot;</td><td>&quot;1617&quot;</td><td>&quot;427&quot;</td><td>&quot;3&quot;</td><td>&quot;446&quot;</td><td>&quot;430&quot;</td><td>&quot;-16&quot;</td><td>&quot;0&quot;</td><td>&quot;0&quot;</td><td>null</td><td>null</td><td>null</td><td>null</td><td>null</td><td>null</td></tr></tbody></table></div>"
      ],
      "text/plain": [
       "shape: (5_819_079, 31)\n",
       "┌────────┬────────┬────────┬─────────────┬───┬─────────────┬─────────────┬────────────┬────────────┐\n",
       "│ YEAR   ┆ MONTH  ┆ DAY    ┆ DAY_OF_WEEK ┆ … ┆ SECURITY_DE ┆ AIRLINE_DEL ┆ LATE_AIRCR ┆ WEATHER_DE │\n",
       "│ ---    ┆ ---    ┆ ---    ┆ ---         ┆   ┆ LAY         ┆ AY          ┆ AFT_DELAY  ┆ LAY        │\n",
       "│ str    ┆ str    ┆ str    ┆ str         ┆   ┆ ---         ┆ ---         ┆ ---        ┆ ---        │\n",
       "│        ┆        ┆        ┆             ┆   ┆ str         ┆ str         ┆ str        ┆ str        │\n",
       "╞════════╪════════╪════════╪═════════════╪═══╪═════════════╪═════════════╪════════════╪════════════╡\n",
       "│ prueba ┆ prueba ┆ prueba ┆ prueba      ┆ … ┆ prueba      ┆ prueba      ┆ prueba     ┆ prueba     │\n",
       "│ prueba ┆ prueba ┆ prueba ┆ prueba      ┆ … ┆ prueba      ┆ prueba      ┆ prueba     ┆ prueba     │\n",
       "│ prueba ┆ prueba ┆ prueba ┆ prueba      ┆ … ┆ prueba      ┆ prueba      ┆ prueba     ┆ prueba     │\n",
       "│ 2015   ┆ 1      ┆ 1      ┆ 4           ┆ … ┆ null        ┆ null        ┆ null       ┆ null       │\n",
       "│ 2015   ┆ 1      ┆ 1      ┆ 4           ┆ … ┆ null        ┆ null        ┆ null       ┆ null       │\n",
       "│ …      ┆ …      ┆ …      ┆ …           ┆ … ┆ …           ┆ …           ┆ …          ┆ …          │\n",
       "│ 2015   ┆ 12     ┆ 31     ┆ 4           ┆ … ┆ 0           ┆ 16          ┆ 0          ┆ 0          │\n",
       "│ 2015   ┆ 12     ┆ 31     ┆ 4           ┆ … ┆ null        ┆ null        ┆ null       ┆ null       │\n",
       "│ 2015   ┆ 12     ┆ 31     ┆ 4           ┆ … ┆ null        ┆ null        ┆ null       ┆ null       │\n",
       "│ 2015   ┆ 12     ┆ 31     ┆ 4           ┆ … ┆ null        ┆ null        ┆ null       ┆ null       │\n",
       "│ 2015   ┆ 12     ┆ 31     ┆ 4           ┆ … ┆ null        ┆ null        ┆ null       ┆ null       │\n",
       "└────────┴────────┴────────┴─────────────┴───┴─────────────┴─────────────┴────────────┴────────────┘"
      ]
     },
     "execution_count": 10,
     "metadata": {},
     "output_type": "execute_result"
    }
   ],
   "source": [
    "vuelos_lf.shift(3, fill_value='prueba').collect()"
   ]
  },
  {
   "cell_type": "markdown",
   "id": "f28aa8b8-609a-443d-93bb-5b6b11dae0b6",
   "metadata": {},
   "source": [
    "## `inspect`\n",
    "\n",
    "Esta función inspecciona un nodo en el gráfico de cálculo. Con ella podemos imprimir el valor que evalúa este nodo en el gráfico de cálculo."
   ]
  },
  {
   "cell_type": "code",
   "execution_count": 11,
   "id": "72cc8488-16e1-4c17-b215-81806edc7bca",
   "metadata": {
    "tags": []
   },
   "outputs": [],
   "source": [
    "query_inspect = (\n",
    "    vuelos_lf.with_columns(AIR_TIME_HRS=(col('AIR_TIME') / 60))\n",
    "    .inspect()\n",
    "    .select(\n",
    "        col('AIRLINE'),\n",
    "        col('AIR_TIME_HRS')\n",
    "    )\n",
    ")"
   ]
  },
  {
   "cell_type": "code",
   "execution_count": 12,
   "id": "e6fa97b3-332f-49ec-b42b-ae8681acba1c",
   "metadata": {
    "tags": []
   },
   "outputs": [
    {
     "name": "stdout",
     "output_type": "stream",
     "text": [
      "shape: (5_819_079, 3)\n",
      "┌─────────┬──────────┬──────────────┐\n",
      "│ AIRLINE ┆ AIR_TIME ┆ AIR_TIME_HRS │\n",
      "│ ---     ┆ ---      ┆ ---          │\n",
      "│ str     ┆ i32      ┆ f64          │\n",
      "╞═════════╪══════════╪══════════════╡\n",
      "│ AS      ┆ 169      ┆ 2.816667     │\n",
      "│ AA      ┆ 263      ┆ 4.383333     │\n",
      "│ US      ┆ 266      ┆ 4.433333     │\n",
      "│ AA      ┆ 258      ┆ 4.3          │\n",
      "│ AS      ┆ 199      ┆ 3.316667     │\n",
      "│ …       ┆ …        ┆ …            │\n",
      "│ B6      ┆ 272      ┆ 4.533333     │\n",
      "│ B6      ┆ 195      ┆ 3.25         │\n",
      "│ B6      ┆ 197      ┆ 3.283333     │\n",
      "│ B6      ┆ 144      ┆ 2.4          │\n",
      "│ B6      ┆ 189      ┆ 3.15         │\n",
      "└─────────┴──────────┴──────────────┘\n"
     ]
    },
    {
     "data": {
      "text/html": [
       "<div><style>\n",
       ".dataframe > thead > tr,\n",
       ".dataframe > tbody > tr {\n",
       "  text-align: right;\n",
       "  white-space: pre-wrap;\n",
       "}\n",
       "</style>\n",
       "<small>shape: (5_819_079, 2)</small><table border=\"1\" class=\"dataframe\"><thead><tr><th>AIRLINE</th><th>AIR_TIME_HRS</th></tr><tr><td>str</td><td>f64</td></tr></thead><tbody><tr><td>&quot;AS&quot;</td><td>2.816667</td></tr><tr><td>&quot;AA&quot;</td><td>4.383333</td></tr><tr><td>&quot;US&quot;</td><td>4.433333</td></tr><tr><td>&quot;AA&quot;</td><td>4.3</td></tr><tr><td>&quot;AS&quot;</td><td>3.316667</td></tr><tr><td>&hellip;</td><td>&hellip;</td></tr><tr><td>&quot;B6&quot;</td><td>4.533333</td></tr><tr><td>&quot;B6&quot;</td><td>3.25</td></tr><tr><td>&quot;B6&quot;</td><td>3.283333</td></tr><tr><td>&quot;B6&quot;</td><td>2.4</td></tr><tr><td>&quot;B6&quot;</td><td>3.15</td></tr></tbody></table></div>"
      ],
      "text/plain": [
       "shape: (5_819_079, 2)\n",
       "┌─────────┬──────────────┐\n",
       "│ AIRLINE ┆ AIR_TIME_HRS │\n",
       "│ ---     ┆ ---          │\n",
       "│ str     ┆ f64          │\n",
       "╞═════════╪══════════════╡\n",
       "│ AS      ┆ 2.816667     │\n",
       "│ AA      ┆ 4.383333     │\n",
       "│ US      ┆ 4.433333     │\n",
       "│ AA      ┆ 4.3          │\n",
       "│ AS      ┆ 3.316667     │\n",
       "│ …       ┆ …            │\n",
       "│ B6      ┆ 4.533333     │\n",
       "│ B6      ┆ 3.25         │\n",
       "│ B6      ┆ 3.283333     │\n",
       "│ B6      ┆ 2.4          │\n",
       "│ B6      ┆ 3.15         │\n",
       "└─────────┴──────────────┘"
      ]
     },
     "execution_count": 12,
     "metadata": {},
     "output_type": "execute_result"
    }
   ],
   "source": [
    "query_inspect.collect()"
   ]
  },
  {
   "cell_type": "code",
   "execution_count": 14,
   "id": "845c8740-2a79-45ac-bb1e-b142093d00b3",
   "metadata": {
    "tags": []
   },
   "outputs": [
    {
     "name": "stdout",
     "output_type": "stream",
     "text": [
      " SELECT [col(\"AIRLINE\"), col(\"AIR_TIME_HRS\")] FROM\n",
      "  python dataframe udf\n",
      "     WITH_COLUMNS:\n",
      "     [[(col(\"AIR_TIME\")) / (60)].alias(\"AIR_TIME_HRS\")]\n",
      "\n",
      "        Parquet SCAN ./data/vuelos/vuelos.parquet\n",
      "        PROJECT 2/31 COLUMNS\n"
     ]
    }
   ],
   "source": [
    "print(query_inspect.explain())"
   ]
  },
  {
   "cell_type": "markdown",
   "id": "ea30c2e0-379f-4f2f-b2ab-223658b025c9",
   "metadata": {},
   "source": [
    "Hasta aquí llegaremos en este recorrido de las funciones que nos permiten manipular y seleccionar elementos de un LazyFrame. En de que ustedes necesiten ver la lista competa de todas las funciones que están disponibles pueden dirigirse a la documentación de Polars.\n",
    "\n",
    "[LazyFrame - Manipulación y selección](https://docs.pola.rs/py-polars/html/reference/lazyframe/modify_select.html)"
   ]
  }
 ],
 "metadata": {
  "kernelspec": {
   "display_name": "Python 3 (ipykernel)",
   "language": "python",
   "name": "python3"
  },
  "language_info": {
   "codemirror_mode": {
    "name": "ipython",
    "version": 3
   },
   "file_extension": ".py",
   "mimetype": "text/x-python",
   "name": "python",
   "nbconvert_exporter": "python",
   "pygments_lexer": "ipython3",
   "version": "3.9.6"
  }
 },
 "nbformat": 4,
 "nbformat_minor": 5
}
