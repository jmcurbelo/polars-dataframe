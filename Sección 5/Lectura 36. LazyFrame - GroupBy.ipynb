{
 "cells": [
  {
   "cell_type": "markdown",
   "id": "831927ea-2cb9-4bf8-8089-3e42dfa1a533",
   "metadata": {},
   "source": [
    "# Lectura 36: LazyFrame - GroupBy"
   ]
  },
  {
   "cell_type": "markdown",
   "id": "c62e8ced-dc08-431d-85ef-6c2bcd76bf1d",
   "metadata": {},
   "source": [
    "## Varias agregaciones\n",
    "\n",
    "Para realizar agregaciones sobre un LazyFrame primero debemos realizar un agrupado con la función `group_by` y luego utilizar la función `agg`.\n",
    "\n",
    "Las agregaciones funcionan de de la misma forma a como lo estudiamos en la lección de GroupBy de los DataFrame de Polars."
   ]
  },
  {
   "cell_type": "code",
   "execution_count": 1,
   "id": "345002a4-e94f-4a47-9844-02f4a0e8dca4",
   "metadata": {},
   "outputs": [],
   "source": [
    "import polars as pl\n",
    "from polars import col\n",
    "\n",
    "vuelos_lf = (\n",
    "    pl.scan_parquet('./data/vuelos/vuelos.parquet')\n",
    ")"
   ]
  },
  {
   "cell_type": "code",
   "execution_count": 2,
   "id": "ce55c18e-3cba-4a58-8fe1-694cf4f0d93a",
   "metadata": {},
   "outputs": [
    {
     "data": {
      "text/html": [
       "<div><style>\n",
       ".dataframe > thead > tr,\n",
       ".dataframe > tbody > tr {\n",
       "  text-align: right;\n",
       "  white-space: pre-wrap;\n",
       "}\n",
       "</style>\n",
       "<small>shape: (14, 4)</small><table border=\"1\" class=\"dataframe\"><thead><tr><th>AIRLINE</th><th>AIR_TIME_MEAN</th><th>CONTEO_AIR_TIME</th><th>SUMA_RETRASOS</th></tr><tr><td>str</td><td>f64</td><td>u32</td><td>i32</td></tr></thead><tbody><tr><td>&quot;B6&quot;</td><td>143.858492</td><td>262042</td><td>3026467</td></tr><tr><td>&quot;AA&quot;</td><td>139.806208</td><td>712935</td><td>6369435</td></tr><tr><td>&quot;F9&quot;</td><td>130.240571</td><td>90090</td><td>1205449</td></tr><tr><td>&quot;EV&quot;</td><td>72.763842</td><td>554752</td><td>4857338</td></tr><tr><td>&quot;MQ&quot;</td><td>66.97963</td><td>278791</td><td>2837908</td></tr><tr><td>&hellip;</td><td>&hellip;</td><td>&hellip;</td><td>&hellip;</td></tr><tr><td>&quot;WN&quot;</td><td>103.100485</td><td>1242403</td><td>13186520</td></tr><tr><td>&quot;DL&quot;</td><td>115.665353</td><td>870275</td><td>6427294</td></tr><tr><td>&quot;NK&quot;</td><td>132.347886</td><td>115193</td><td>1840887</td></tr><tr><td>&quot;UA&quot;</td><td>164.835886</td><td>507762</td><td>7355348</td></tr><tr><td>&quot;AS&quot;</td><td>157.844784</td><td>171439</td><td>306997</td></tr></tbody></table></div>"
      ],
      "text/plain": [
       "shape: (14, 4)\n",
       "┌─────────┬───────────────┬─────────────────┬───────────────┐\n",
       "│ AIRLINE ┆ AIR_TIME_MEAN ┆ CONTEO_AIR_TIME ┆ SUMA_RETRASOS │\n",
       "│ ---     ┆ ---           ┆ ---             ┆ ---           │\n",
       "│ str     ┆ f64           ┆ u32             ┆ i32           │\n",
       "╞═════════╪═══════════════╪═════════════════╪═══════════════╡\n",
       "│ B6      ┆ 143.858492    ┆ 262042          ┆ 3026467       │\n",
       "│ AA      ┆ 139.806208    ┆ 712935          ┆ 6369435       │\n",
       "│ F9      ┆ 130.240571    ┆ 90090           ┆ 1205449       │\n",
       "│ EV      ┆ 72.763842     ┆ 554752          ┆ 4857338       │\n",
       "│ MQ      ┆ 66.97963      ┆ 278791          ┆ 2837908       │\n",
       "│ …       ┆ …             ┆ …               ┆ …             │\n",
       "│ WN      ┆ 103.100485    ┆ 1242403         ┆ 13186520      │\n",
       "│ DL      ┆ 115.665353    ┆ 870275          ┆ 6427294       │\n",
       "│ NK      ┆ 132.347886    ┆ 115193          ┆ 1840887       │\n",
       "│ UA      ┆ 164.835886    ┆ 507762          ┆ 7355348       │\n",
       "│ AS      ┆ 157.844784    ┆ 171439          ┆ 306997        │\n",
       "└─────────┴───────────────┴─────────────────┴───────────────┘"
      ]
     },
     "execution_count": 2,
     "metadata": {},
     "output_type": "execute_result"
    }
   ],
   "source": [
    "vuelos_lf.group_by('AIRLINE').agg(\n",
    "    col('AIR_TIME').mean().name.suffix('_MEAN'),\n",
    "    (col('AIR_TIME').count()).alias('CONTEO_AIR_TIME'),\n",
    "    SUMA_RETRASOS=col('DEPARTURE_DELAY').sum(),\n",
    ").collect()"
   ]
  },
  {
   "cell_type": "markdown",
   "id": "e29b37f9-f79a-49f9-8f8f-d4d5fe049e59",
   "metadata": {},
   "source": [
    "El resto de las agregaciones que estudiamos cuando vimos group_by en los DataFrame funcionan igual en los LazyFrame."
   ]
  }
 ],
 "metadata": {
  "kernelspec": {
   "display_name": "Python 3 (ipykernel)",
   "language": "python",
   "name": "python3"
  },
  "language_info": {
   "codemirror_mode": {
    "name": "ipython",
    "version": 3
   },
   "file_extension": ".py",
   "mimetype": "text/x-python",
   "name": "python",
   "nbconvert_exporter": "python",
   "pygments_lexer": "ipython3",
   "version": "3.9.6"
  }
 },
 "nbformat": 4,
 "nbformat_minor": 5
}
