{
 "cells": [
  {
   "cell_type": "markdown",
   "id": "831927ea-2cb9-4bf8-8089-3e42dfa1a533",
   "metadata": {},
   "source": [
    "# Lectura 36: LazyFrame - GroupBy"
   ]
  },
  {
   "cell_type": "markdown",
   "id": "c62e8ced-dc08-431d-85ef-6c2bcd76bf1d",
   "metadata": {},
   "source": [
    "## Varias agregaciones\n",
    "\n",
    "Para realizar agregaciones sobre un LazyFrame primero debemos realizar un agrupado con la función `group_by` y luego utilizar la función `agg`.\n",
    "\n",
    "Las agregaciones funcionan de de la misma forma a como lo estudiamos en la lección de GroupBy de los DataFrame de Polars."
   ]
  },
  {
   "cell_type": "code",
   "execution_count": null,
   "id": "345002a4-e94f-4a47-9844-02f4a0e8dca4",
   "metadata": {},
   "outputs": [],
   "source": [
    "import polars as pl\n",
    "from polars import col\n",
    "\n",
    "vuelos_lf = (\n",
    "    pl.scan_parquet('./data/vuelos/vuelos.parquet')\n",
    ")"
   ]
  },
  {
   "cell_type": "code",
   "execution_count": null,
   "id": "ce55c18e-3cba-4a58-8fe1-694cf4f0d93a",
   "metadata": {},
   "outputs": [],
   "source": [
    "vuelos_lf.group_by('AIRLINE').agg(\n",
    "    col('AIR_TIME').mean().name.suffix('_MEAN'),\n",
    "    (col('AIR_TIME').count()).alias('CONTEO_AIR_TIME'),\n",
    "    SUMA_RETRASOS=col('DEPARTURE_DELAY').sum(),\n",
    ").collect()"
   ]
  },
  {
   "cell_type": "markdown",
   "id": "e29b37f9-f79a-49f9-8f8f-d4d5fe049e59",
   "metadata": {},
   "source": [
    "El resto de las agregaciones que estudiamos cuando vimos group_by en los DataFrame funcionan igual en los LazyFrame."
   ]
  }
 ],
 "metadata": {
  "kernelspec": {
   "display_name": "Python 3 (ipykernel)",
   "language": "python",
   "name": "python3"
  },
  "language_info": {
   "codemirror_mode": {
    "name": "ipython",
    "version": 3
   },
   "file_extension": ".py",
   "mimetype": "text/x-python",
   "name": "python",
   "nbconvert_exporter": "python",
   "pygments_lexer": "ipython3",
   "version": "3.8.13"
  }
 },
 "nbformat": 4,
 "nbformat_minor": 5
}
