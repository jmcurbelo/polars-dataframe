{
 "cells": [
  {
   "cell_type": "markdown",
   "id": "cc8a9d9c-df06-485e-a109-e8ef4b8e057b",
   "metadata": {},
   "source": [
    "# Lectura 34: LazyFrame - Agregaciones"
   ]
  },
  {
   "cell_type": "markdown",
   "id": "61c543a3-10ca-4246-ac3d-baebf7ad67a2",
   "metadata": {},
   "source": [
    "## Crear un LazyFrame"
   ]
  },
  {
   "cell_type": "code",
   "execution_count": null,
   "id": "8fadc06d-64c4-4a9e-b307-49bcecf02180",
   "metadata": {
    "tags": []
   },
   "outputs": [],
   "source": [
    "import polars as pl\n",
    "\n",
    "lf = pl.LazyFrame(\n",
    "    {\n",
    "        'id': [1,2,3],\n",
    "        'nombre': ['Jose', 'Ana', 'Rosa']\n",
    "    }\n",
    ")\n",
    "\n",
    "lf"
   ]
  },
  {
   "cell_type": "markdown",
   "id": "f19ea377-07ce-4db2-a183-d231bf5375d2",
   "metadata": {},
   "source": [
    "Si tratamos de mostar el LazyFrame como se muestra en la celda previa lo que obtendremos es una representación visual del plan de ejecución. Esto sucede porque como ya se comentó en lecciones previas un LazyFrame no es más que una promesa de cálculo, es decir, planes de consulta.\n",
    "\n",
    "Por tanto si deseamos mostrar el LazyFrame debemos convertirlo a un DataFrame con la función `collect` y luego mostrarlo."
   ]
  },
  {
   "cell_type": "code",
   "execution_count": null,
   "id": "21acac12-602c-4521-9f07-dfe08b24dfba",
   "metadata": {
    "tags": []
   },
   "outputs": [],
   "source": [
    "lf.collect()"
   ]
  },
  {
   "cell_type": "markdown",
   "id": "ba543b37-7506-4e64-88b8-484ad00aea3d",
   "metadata": {},
   "source": [
    "## `null_count`\n",
    "\n",
    "Esta función retorna el conteo de valores nulos de cada columna."
   ]
  },
  {
   "cell_type": "code",
   "execution_count": null,
   "id": "15fc701c-655c-4e82-835e-084fe152b89b",
   "metadata": {
    "tags": []
   },
   "outputs": [],
   "source": [
    "from polars import col\n",
    "\n",
    "query = (\n",
    "    pl.scan_parquet('./data/vuelos/vuelos.parquet')\n",
    "    .select(\n",
    "        col('AIRLINE_DELAY'),\n",
    "        col('SECURITY_DELAY'),\n",
    "        col('WEATHER_DELAY')\n",
    "    )\n",
    "    .null_count()\n",
    ")\n",
    "\n",
    "query.collect()"
   ]
  },
  {
   "cell_type": "markdown",
   "id": "e1557ea6-2656-4377-88ec-de59fcd33711",
   "metadata": {},
   "source": [
    "## `sum`\n",
    "\n",
    "Esta función devuelve la suma de los valores de cada columna del DataFrame."
   ]
  },
  {
   "cell_type": "code",
   "execution_count": null,
   "id": "5de49bad-a9b7-4795-a416-34c5ffe837a0",
   "metadata": {
    "tags": []
   },
   "outputs": [],
   "source": [
    "vuelos_lf = (\n",
    "    pl.scan_parquet('./data/vuelos/vuelos.parquet')\n",
    "    .select(\n",
    "        col('AIR_TIME'),\n",
    "        col('DISTANCE')\n",
    "    ) \n",
    ")\n",
    "\n",
    "vuelos_lf.sum().collect()"
   ]
  },
  {
   "cell_type": "markdown",
   "id": "cb29af85-bcd2-433f-b657-4791b23d4613",
   "metadata": {},
   "source": [
    "## `min, max` y `mean`\n",
    "\n",
    "Esta funciones se comportan igual en un DataFrame o un LazyFrame."
   ]
  },
  {
   "cell_type": "code",
   "execution_count": null,
   "id": "27e5f727-3091-47ba-b552-32d4bc7d2718",
   "metadata": {
    "tags": []
   },
   "outputs": [],
   "source": [
    "vuelos_lf.min().collect()"
   ]
  },
  {
   "cell_type": "code",
   "execution_count": null,
   "id": "08796e44-558d-4dcd-a438-f57308c03702",
   "metadata": {
    "tags": []
   },
   "outputs": [],
   "source": [
    "vuelos_lf.max().collect()"
   ]
  },
  {
   "cell_type": "code",
   "execution_count": null,
   "id": "f12d9644-68d0-4338-85a8-d76f38ebf733",
   "metadata": {
    "tags": []
   },
   "outputs": [],
   "source": [
    "vuelos_lf.mean().collect()"
   ]
  }
 ],
 "metadata": {
  "kernelspec": {
   "display_name": "Python 3 (ipykernel)",
   "language": "python",
   "name": "python3"
  },
  "language_info": {
   "codemirror_mode": {
    "name": "ipython",
    "version": 3
   },
   "file_extension": ".py",
   "mimetype": "text/x-python",
   "name": "python",
   "nbconvert_exporter": "python",
   "pygments_lexer": "ipython3",
   "version": "3.9.6"
  }
 },
 "nbformat": 4,
 "nbformat_minor": 5
}
