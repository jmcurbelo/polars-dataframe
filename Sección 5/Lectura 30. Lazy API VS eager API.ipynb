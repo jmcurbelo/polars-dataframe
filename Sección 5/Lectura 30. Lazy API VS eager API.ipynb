{
 "cells": [
  {
   "cell_type": "markdown",
   "id": "efbcc447-0537-40ed-b633-27fcc1829a21",
   "metadata": {},
   "source": [
    "# Lectura 30: Lazy API VS eager API"
   ]
  },
  {
   "cell_type": "code",
   "execution_count": null,
   "id": "df7bee9b-9fbd-41c9-be16-486d809058bf",
   "metadata": {
    "tags": []
   },
   "outputs": [],
   "source": [
    "%%time\n",
    "\n",
    "import polars as pl\n",
    "from polars import col\n",
    "\n",
    "vuelos = pl.read_parquet('./data/vuelos/', use_pyarrow=True)\n",
    "\n",
    "vuelos_filtrado = vuelos.filter(col('MONTH') > 6)\n",
    "\n",
    "vuelos_agregado = vuelos_filtrado.group_by('AIRLINE').agg(\n",
    "    media_tiempo_aire=col('AIR_TIME').mean()\n",
    ")\n",
    "\n",
    "print(vuelos_agregado)"
   ]
  },
  {
   "cell_type": "code",
   "execution_count": null,
   "id": "f9489a55-7f62-440f-9651-159418b56de2",
   "metadata": {
    "tags": []
   },
   "outputs": [],
   "source": [
    "%%time\n",
    "\n",
    "import polars as pl\n",
    "from polars import col\n",
    "\n",
    "query = (\n",
    "    pl.scan_parquet('./data/vuelos/vuelos.parquet')\n",
    "    .filter(col('MONTH') > 6)\n",
    "    .group_by('AIRLINE').agg(\n",
    "        media_tiempo_aire=col('AIR_TIME').mean()\n",
    "    )\n",
    ")\n",
    "\n",
    "vuelos_agregado = query.collect()"
   ]
  }
 ],
 "metadata": {
  "kernelspec": {
   "display_name": "Python 3 (ipykernel)",
   "language": "python",
   "name": "python3"
  },
  "language_info": {
   "codemirror_mode": {
    "name": "ipython",
    "version": 3
   },
   "file_extension": ".py",
   "mimetype": "text/x-python",
   "name": "python",
   "nbconvert_exporter": "python",
   "pygments_lexer": "ipython3",
   "version": "3.9.6"
  }
 },
 "nbformat": 4,
 "nbformat_minor": 5
}
