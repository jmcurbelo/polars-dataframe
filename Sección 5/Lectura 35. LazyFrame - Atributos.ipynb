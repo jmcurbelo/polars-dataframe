{
 "cells": [
  {
   "cell_type": "markdown",
   "id": "7f6edd46-ac87-42c6-972c-6ffd370880c4",
   "metadata": {},
   "source": [
    "# Lectura 35: LazyFrame - Atributos"
   ]
  },
  {
   "cell_type": "markdown",
   "id": "b18f3698-2106-4090-ac07-2428629bc61e",
   "metadata": {},
   "source": [
    "## `columns`\n",
    "\n",
    "Esta función realiza exactamente la misma función en un DataFrame que en un LazyFrame, devuelve una lista con los nombres de columna. "
   ]
  },
  {
   "cell_type": "code",
   "execution_count": 1,
   "id": "ec1987a6-992b-4fd7-a2de-ef6e748d3b7b",
   "metadata": {
    "tags": []
   },
   "outputs": [
    {
     "data": {
      "text/plain": [
       "['YEAR',\n",
       " 'MONTH',\n",
       " 'DAY',\n",
       " 'DAY_OF_WEEK',\n",
       " 'AIRLINE',\n",
       " 'FLIGHT_NUMBER',\n",
       " 'TAIL_NUMBER',\n",
       " 'ORIGIN_AIRPORT',\n",
       " 'DESTINATION_AIRPORT',\n",
       " 'SCHEDULED_DEPARTURE',\n",
       " 'DEPARTURE_TIME',\n",
       " 'DEPARTURE_DELAY',\n",
       " 'TAXI_OUT',\n",
       " 'WHEELS_OFF',\n",
       " 'SCHEDULED_TIME',\n",
       " 'ELAPSED_TIME',\n",
       " 'AIR_TIME',\n",
       " 'DISTANCE',\n",
       " 'WHEELS_ON',\n",
       " 'TAXI_IN',\n",
       " 'SCHEDULED_ARRIVAL',\n",
       " 'ARRIVAL_TIME',\n",
       " 'ARRIVAL_DELAY',\n",
       " 'DIVERTED',\n",
       " 'CANCELLED',\n",
       " 'CANCELLATION_REASON',\n",
       " 'AIR_SYSTEM_DELAY',\n",
       " 'SECURITY_DELAY',\n",
       " 'AIRLINE_DELAY',\n",
       " 'LATE_AIRCRAFT_DELAY',\n",
       " 'WEATHER_DELAY']"
      ]
     },
     "execution_count": 1,
     "metadata": {},
     "output_type": "execute_result"
    }
   ],
   "source": [
    "import polars as pl\n",
    "\n",
    "vuelos_lf = (\n",
    "    pl.scan_parquet('./data/vuelos/vuelos.parquet')\n",
    ")\n",
    "\n",
    "vuelos_lf.columns"
   ]
  },
  {
   "cell_type": "markdown",
   "id": "841b1ca8-870d-44ce-89b8-bc9bcdaacc2b",
   "metadata": {},
   "source": [
    "## `dtypes`\n",
    "\n",
    "Esta función devuelve los tipos de datos de las columnas de un LazyFrame."
   ]
  },
  {
   "cell_type": "code",
   "execution_count": 2,
   "id": "8c02fea1-06dd-4e5d-baf9-713b8c350e70",
   "metadata": {
    "tags": []
   },
   "outputs": [
    {
     "data": {
      "text/plain": [
       "[Int32,\n",
       " Int32,\n",
       " Int32,\n",
       " Int32,\n",
       " String,\n",
       " Int32,\n",
       " String,\n",
       " String,\n",
       " String,\n",
       " Int32,\n",
       " Int32,\n",
       " Int32,\n",
       " Int32,\n",
       " Int32,\n",
       " Int32,\n",
       " Int32,\n",
       " Int32,\n",
       " Int32,\n",
       " Int32,\n",
       " Int32,\n",
       " Int32,\n",
       " Int32,\n",
       " Int32,\n",
       " Int32,\n",
       " Int32,\n",
       " String,\n",
       " Int32,\n",
       " Int32,\n",
       " Int32,\n",
       " Int32,\n",
       " Int32]"
      ]
     },
     "execution_count": 2,
     "metadata": {},
     "output_type": "execute_result"
    }
   ],
   "source": [
    "vuelos_lf.dtypes"
   ]
  },
  {
   "cell_type": "markdown",
   "id": "1cf3c607-e82d-4b86-8040-b5808aae3bce",
   "metadata": {},
   "source": [
    "## `schema`\n",
    "\n",
    "Esta función devuelve el schema de un LazyFrame en un diccionario donde las llaves son los nombres de columnas y los valores son los tipos de datos de esa columna."
   ]
  },
  {
   "cell_type": "code",
   "execution_count": 3,
   "id": "fb1550ce-b8fe-43f5-98cb-263492f26122",
   "metadata": {
    "tags": []
   },
   "outputs": [
    {
     "data": {
      "text/plain": [
       "OrderedDict([('YEAR', Int32),\n",
       "             ('MONTH', Int32),\n",
       "             ('DAY', Int32),\n",
       "             ('DAY_OF_WEEK', Int32),\n",
       "             ('AIRLINE', String),\n",
       "             ('FLIGHT_NUMBER', Int32),\n",
       "             ('TAIL_NUMBER', String),\n",
       "             ('ORIGIN_AIRPORT', String),\n",
       "             ('DESTINATION_AIRPORT', String),\n",
       "             ('SCHEDULED_DEPARTURE', Int32),\n",
       "             ('DEPARTURE_TIME', Int32),\n",
       "             ('DEPARTURE_DELAY', Int32),\n",
       "             ('TAXI_OUT', Int32),\n",
       "             ('WHEELS_OFF', Int32),\n",
       "             ('SCHEDULED_TIME', Int32),\n",
       "             ('ELAPSED_TIME', Int32),\n",
       "             ('AIR_TIME', Int32),\n",
       "             ('DISTANCE', Int32),\n",
       "             ('WHEELS_ON', Int32),\n",
       "             ('TAXI_IN', Int32),\n",
       "             ('SCHEDULED_ARRIVAL', Int32),\n",
       "             ('ARRIVAL_TIME', Int32),\n",
       "             ('ARRIVAL_DELAY', Int32),\n",
       "             ('DIVERTED', Int32),\n",
       "             ('CANCELLED', Int32),\n",
       "             ('CANCELLATION_REASON', String),\n",
       "             ('AIR_SYSTEM_DELAY', Int32),\n",
       "             ('SECURITY_DELAY', Int32),\n",
       "             ('AIRLINE_DELAY', Int32),\n",
       "             ('LATE_AIRCRAFT_DELAY', Int32),\n",
       "             ('WEATHER_DELAY', Int32)])"
      ]
     },
     "execution_count": 3,
     "metadata": {},
     "output_type": "execute_result"
    }
   ],
   "source": [
    "vuelos_lf.schema"
   ]
  },
  {
   "cell_type": "code",
   "execution_count": 4,
   "id": "51b6cba8-895c-4435-9bee-e51021f2b4ac",
   "metadata": {
    "tags": []
   },
   "outputs": [
    {
     "data": {
      "text/plain": [
       "String"
      ]
     },
     "execution_count": 4,
     "metadata": {},
     "output_type": "execute_result"
    }
   ],
   "source": [
    "vuelos_lf.schema.get('AIRLINE')"
   ]
  },
  {
   "cell_type": "markdown",
   "id": "dddb7492-16d6-4287-ac24-af4700a6cd01",
   "metadata": {},
   "source": [
    "## `width`\n",
    "\n",
    "Esta función devuelve el número de columnas de un LazyFrame."
   ]
  },
  {
   "cell_type": "code",
   "execution_count": 5,
   "id": "c7c39628-173d-4a6f-a4ed-15cbb8fc4be0",
   "metadata": {
    "tags": []
   },
   "outputs": [
    {
     "data": {
      "text/plain": [
       "31"
      ]
     },
     "execution_count": 5,
     "metadata": {},
     "output_type": "execute_result"
    }
   ],
   "source": [
    "vuelos_lf.width"
   ]
  }
 ],
 "metadata": {
  "kernelspec": {
   "display_name": "Python 3 (ipykernel)",
   "language": "python",
   "name": "python3"
  },
  "language_info": {
   "codemirror_mode": {
    "name": "ipython",
    "version": 3
   },
   "file_extension": ".py",
   "mimetype": "text/x-python",
   "name": "python",
   "nbconvert_exporter": "python",
   "pygments_lexer": "ipython3",
   "version": "3.9.6"
  }
 },
 "nbformat": 4,
 "nbformat_minor": 5
}
