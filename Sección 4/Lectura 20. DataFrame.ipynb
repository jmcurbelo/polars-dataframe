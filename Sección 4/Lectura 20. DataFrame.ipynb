{
 "cells": [
  {
   "cell_type": "markdown",
   "id": "7c98295c-7dc5-4597-bc2d-3105c9ac9340",
   "metadata": {},
   "source": [
    "# Lectura 20: DataFrame"
   ]
  },
  {
   "cell_type": "markdown",
   "id": "d2140dd2-e6e8-4cbc-9063-0efff667ba43",
   "metadata": {},
   "source": [
    "Un DataFrame es una estructura de datos bidimensional, es decir, tiene filas y columnas. El DataFrame está respaldado por una serie y podría verse como una abstracción de una colección (por ejemplo, una lista) de series."
   ]
  },
  {
   "cell_type": "markdown",
   "id": "04ec8506-dfae-4bde-b7df-a39d7dac5a56",
   "metadata": {},
   "source": [
    "### Crear un DataFrame"
   ]
  },
  {
   "cell_type": "code",
   "execution_count": 1,
   "id": "79729106-fac3-49af-92d8-7f47aac73b85",
   "metadata": {
    "tags": []
   },
   "outputs": [
    {
     "name": "stdout",
     "output_type": "stream",
     "text": [
      "shape: (3, 3)\n",
      "┌────────┬──────┬─────────┐\n",
      "│ nombre ┆ edad ┆ salario │\n",
      "│ ---    ┆ ---  ┆ ---     │\n",
      "│ str    ┆ i64  ┆ f64     │\n",
      "╞════════╪══════╪═════════╡\n",
      "│ Jose   ┆ 30   ┆ 124.5   │\n",
      "│ Laura  ┆ 23   ┆ 564.0   │\n",
      "│ Rosa   ┆ 40   ┆ 323.2   │\n",
      "└────────┴──────┴─────────┘\n"
     ]
    }
   ],
   "source": [
    "import polars as pl\n",
    "from datetime import datetime\n",
    "\n",
    "df_manual = pl.DataFrame(\n",
    "    {\n",
    "        'nombre': ['Jose', 'Laura', 'Rosa'],\n",
    "        'edad': [30, 23, 40],\n",
    "        'salario': [124.5, 564.0, 323.2]\n",
    "    }\n",
    ")\n",
    "\n",
    "print(df_manual)"
   ]
  },
  {
   "cell_type": "markdown",
   "id": "fade34af-5811-4119-bbbf-223924e389a3",
   "metadata": {},
   "source": [
    "### Ver los datos de un DataFrame\n",
    "\n",
    "Primeramente leeremos los datos en un DataFrame"
   ]
  },
  {
   "cell_type": "code",
   "execution_count": 2,
   "id": "9ef41202-c695-449c-a87a-6f8873282748",
   "metadata": {},
   "outputs": [
    {
     "name": "stdout",
     "output_type": "stream",
     "text": [
      "shape: (48_137, 16)\n",
      "┌───────────┬───────────┬───────────┬───────────┬───┬───────────┬───────────┬───────────┬──────────┐\n",
      "│ video_id  ┆ trending_ ┆ title     ┆ channel_t ┆ … ┆ comments_ ┆ ratings_d ┆ video_err ┆ descript │\n",
      "│ ---       ┆ date      ┆ ---       ┆ itle      ┆   ┆ disabled  ┆ isabled   ┆ or_or_rem ┆ ion      │\n",
      "│ str       ┆ ---       ┆ str       ┆ ---       ┆   ┆ ---       ┆ ---       ┆ oved      ┆ ---      │\n",
      "│           ┆ str       ┆           ┆ str       ┆   ┆ str       ┆ str       ┆ ---       ┆ str      │\n",
      "│           ┆           ┆           ┆           ┆   ┆           ┆           ┆ str       ┆          │\n",
      "╞═══════════╪═══════════╪═══════════╪═══════════╪═══╪═══════════╪═══════════╪═══════════╪══════════╡\n",
      "│ 2kyS6SvSY ┆ 17.14.11  ┆ WE WANT   ┆ CaseyNeis ┆ … ┆ False     ┆ False     ┆ False     ┆ SHANTELL │\n",
      "│ SE        ┆           ┆ TO TALK   ┆ tat       ┆   ┆           ┆           ┆           ┆ 'S       │\n",
      "│           ┆           ┆ ABOUT OUR ┆           ┆   ┆           ┆           ┆           ┆ CHANNEL  │\n",
      "│           ┆           ┆ MARR…     ┆           ┆   ┆           ┆           ┆           ┆ - https: │\n",
      "│           ┆           ┆           ┆           ┆   ┆           ┆           ┆           ┆ //w…     │\n",
      "│ 1ZAPwfrtA ┆ 17.14.11  ┆ The Trump ┆ LastWeekT ┆ … ┆ False     ┆ False     ┆ False     ┆ One year │\n",
      "│ FY        ┆           ┆ Presidenc ┆ onight    ┆   ┆           ┆           ┆           ┆ after    │\n",
      "│           ┆           ┆ y: Last   ┆           ┆   ┆           ┆           ┆           ┆ the pres │\n",
      "│           ┆           ┆ Wee…      ┆           ┆   ┆           ┆           ┆           ┆ identia… │\n",
      "│ 5qpjK5DgC ┆ 17.14.11  ┆ Racist    ┆ Rudy      ┆ … ┆ False     ┆ False     ┆ False     ┆ WATCH MY │\n",
      "│ t4        ┆           ┆ Superman  ┆ Mancuso   ┆   ┆           ┆           ┆           ┆ PREVIOUS │\n",
      "│           ┆           ┆ | Rudy    ┆           ┆   ┆           ┆           ┆           ┆ VIDEO ▶  │\n",
      "│           ┆           ┆ Mancuso…  ┆           ┆   ┆           ┆           ┆           ┆ \\n\\n…    │\n",
      "│ puqaWrEC7 ┆ 17.14.11  ┆ Nickelbac ┆ Good      ┆ … ┆ False     ┆ False     ┆ False     ┆ Today we │\n",
      "│ tY        ┆           ┆ k Lyrics: ┆ Mythical  ┆   ┆           ┆           ┆           ┆ find out │\n",
      "│           ┆           ┆ Real or   ┆ Morning   ┆   ┆           ┆           ┆           ┆ if Link  │\n",
      "│           ┆           ┆ Fak…      ┆           ┆   ┆           ┆           ┆           ┆ is a…    │\n",
      "│ d380meD0W ┆ 17.14.11  ┆ I Dare    ┆ nigahiga  ┆ … ┆ False     ┆ False     ┆ False     ┆ I know   │\n",
      "│ 0M        ┆           ┆ You:      ┆           ┆   ┆           ┆           ┆           ┆ it's     │\n",
      "│           ┆           ┆ GOING     ┆           ┆   ┆           ┆           ┆           ┆ been a   │\n",
      "│           ┆           ┆ BALD!?    ┆           ┆   ┆           ┆           ┆           ┆ while    │\n",
      "│           ┆           ┆           ┆           ┆   ┆           ┆           ┆           ┆ since…   │\n",
      "│ …         ┆ …         ┆ …         ┆ …         ┆ … ┆ …         ┆ …         ┆ …         ┆ …        │\n",
      "│ BZt0qjTWN ┆ 18.14.06  ┆ The Cat   ┆ AaronsAni ┆ … ┆ False     ┆ False     ┆ False     ┆ The Cat  │\n",
      "│ hw        ┆           ┆ Who       ┆ mals      ┆   ┆           ┆           ┆           ┆ Who      │\n",
      "│           ┆           ┆ Caught    ┆           ┆   ┆           ┆           ┆           ┆ Caught   │\n",
      "│           ┆           ┆ the Laser ┆           ┆   ┆           ┆           ┆           ┆ the      │\n",
      "│           ┆           ┆           ┆           ┆   ┆           ┆           ┆           ┆ Laser -… │\n",
      "│ 1h7KV2sjU ┆ 18.14.06  ┆ True      ┆ zefrank1  ┆ … ┆ False     ┆ False     ┆ False     ┆ null     │\n",
      "│ WY        ┆           ┆ Facts :   ┆           ┆   ┆           ┆           ┆           ┆          │\n",
      "│           ┆           ┆ Ant       ┆           ┆   ┆           ┆           ┆           ┆          │\n",
      "│           ┆           ┆ Mutualism ┆           ┆   ┆           ┆           ┆           ┆          │\n",
      "│ D6Oy4Lfoq ┆ 18.14.06  ┆ I GAVE    ┆ Brad      ┆ … ┆ False     ┆ False     ┆ False     ┆ I had so │\n",
      "│ sU        ┆           ┆ SAFIYA    ┆ Mondo     ┆   ┆           ┆           ┆           ┆ much fun │\n",
      "│           ┆           ┆ NYGAARD A ┆           ┆   ┆           ┆           ┆           ┆ transfor │\n",
      "│           ┆           ┆ PERFEC…   ┆           ┆   ┆           ┆           ┆           ┆ ming…    │\n",
      "│ oV0zkMe1K ┆ 18.14.06  ┆ How Black ┆ How It    ┆ … ┆ False     ┆ False     ┆ False     ┆ How      │\n",
      "│ 8s        ┆           ┆ Panther   ┆ Should    ┆   ┆           ┆           ┆           ┆ Black    │\n",
      "│           ┆           ┆ Should    ┆ Have      ┆   ┆           ┆           ┆           ┆ Panther  │\n",
      "│           ┆           ┆ Have …    ┆ Ended     ┆   ┆           ┆           ┆           ┆ Should   │\n",
      "│           ┆           ┆           ┆           ┆   ┆           ┆           ┆           ┆ Have …   │\n",
      "│ ooyjaVdt- ┆ 18.14.06  ┆ Official  ┆ Call of   ┆ … ┆ False     ┆ False     ┆ False     ┆ Call of  │\n",
      "│ jA        ┆           ┆ Call of   ┆ Duty      ┆   ┆           ┆           ┆           ┆ Duty:    │\n",
      "│           ┆           ┆ Duty®:    ┆           ┆   ┆           ┆           ┆           ┆ Black    │\n",
      "│           ┆           ┆ Black …   ┆           ┆   ┆           ┆           ┆           ┆ Ops 4    │\n",
      "│           ┆           ┆           ┆           ┆   ┆           ┆           ┆           ┆ Mult…    │\n",
      "└───────────┴───────────┴───────────┴───────────┴───┴───────────┴───────────┴───────────┴──────────┘\n"
     ]
    }
   ],
   "source": [
    "df = pl.read_parquet('./data/', use_pyarrow=True)\n",
    "\n",
    "print(df)"
   ]
  },
  {
   "cell_type": "markdown",
   "id": "9eaac38b-9397-42b2-bb07-e970d6181990",
   "metadata": {},
   "source": [
    "#### Head"
   ]
  },
  {
   "cell_type": "markdown",
   "id": "529e11dd-446b-4a29-8ab9-d69d31e124f2",
   "metadata": {},
   "source": [
    "La función `head` muestra de forma predeterminada las primeras 5 filas de un DataFrame. Puede especificar el número de filas que desea ver (por ejemplo, `df.head(10)`."
   ]
  },
  {
   "cell_type": "code",
   "execution_count": 3,
   "id": "359458a8-14fc-4348-b506-53c2e1a5e2b5",
   "metadata": {
    "tags": []
   },
   "outputs": [
    {
     "data": {
      "text/html": [
       "<div><style>\n",
       ".dataframe > thead > tr,\n",
       ".dataframe > tbody > tr {\n",
       "  text-align: right;\n",
       "  white-space: pre-wrap;\n",
       "}\n",
       "</style>\n",
       "<small>shape: (5, 16)</small><table border=\"1\" class=\"dataframe\"><thead><tr><th>video_id</th><th>trending_date</th><th>title</th><th>channel_title</th><th>category_id</th><th>publish_time</th><th>tags</th><th>views</th><th>likes</th><th>dislikes</th><th>comment_count</th><th>thumbnail_link</th><th>comments_disabled</th><th>ratings_disabled</th><th>video_error_or_removed</th><th>description</th></tr><tr><td>str</td><td>str</td><td>str</td><td>str</td><td>str</td><td>datetime[ns]</td><td>str</td><td>i32</td><td>i32</td><td>i32</td><td>i32</td><td>str</td><td>str</td><td>str</td><td>str</td><td>str</td></tr></thead><tbody><tr><td>&quot;2kyS6SvSYSE&quot;</td><td>&quot;17.14.11&quot;</td><td>&quot;WE WANT TO TALK ABOUT OUR MARR…</td><td>&quot;CaseyNeistat&quot;</td><td>&quot;22&quot;</td><td>2017-11-13 17:13:01</td><td>&quot;SHANtell martin&quot;</td><td>748374</td><td>57527</td><td>2966</td><td>15954</td><td>&quot;https://i.ytimg.com/vi/2kyS6Sv…</td><td>&quot;False&quot;</td><td>&quot;False&quot;</td><td>&quot;False&quot;</td><td>&quot;SHANTELL&#x27;S CHANNEL - https://w…</td></tr><tr><td>&quot;1ZAPwfrtAFY&quot;</td><td>&quot;17.14.11&quot;</td><td>&quot;The Trump Presidency: Last Wee…</td><td>&quot;LastWeekTonight&quot;</td><td>&quot;24&quot;</td><td>2017-11-13 07:30:00</td><td>&quot;&quot;last week tonight trump presi…</td><td>2418783</td><td>97185</td><td>6146</td><td>12703</td><td>&quot;https://i.ytimg.com/vi/1ZAPwfr…</td><td>&quot;False&quot;</td><td>&quot;False&quot;</td><td>&quot;False&quot;</td><td>&quot;One year after the presidentia…</td></tr><tr><td>&quot;5qpjK5DgCt4&quot;</td><td>&quot;17.14.11&quot;</td><td>&quot;Racist Superman | Rudy Mancuso…</td><td>&quot;Rudy Mancuso&quot;</td><td>&quot;23&quot;</td><td>2017-11-12 19:05:24</td><td>&quot;&quot;racist superman&quot;|&quot;rudy&quot;|&quot;manc…</td><td>3191434</td><td>146033</td><td>5339</td><td>8181</td><td>&quot;https://i.ytimg.com/vi/5qpjK5D…</td><td>&quot;False&quot;</td><td>&quot;False&quot;</td><td>&quot;False&quot;</td><td>&quot;WATCH MY PREVIOUS VIDEO ▶ \\n\\n…</td></tr><tr><td>&quot;puqaWrEC7tY&quot;</td><td>&quot;17.14.11&quot;</td><td>&quot;Nickelback Lyrics: Real or Fak…</td><td>&quot;Good Mythical Morning&quot;</td><td>&quot;24&quot;</td><td>2017-11-13 11:00:04</td><td>&quot;&quot;rhett and link&quot;|&quot;gmm&quot;|&quot;good m…</td><td>343168</td><td>10172</td><td>666</td><td>2146</td><td>&quot;https://i.ytimg.com/vi/puqaWrE…</td><td>&quot;False&quot;</td><td>&quot;False&quot;</td><td>&quot;False&quot;</td><td>&quot;Today we find out if Link is a…</td></tr><tr><td>&quot;d380meD0W0M&quot;</td><td>&quot;17.14.11&quot;</td><td>&quot;I Dare You: GOING BALD!?&quot;</td><td>&quot;nigahiga&quot;</td><td>&quot;24&quot;</td><td>2017-11-12 18:01:41</td><td>&quot;&quot;ryan&quot;|&quot;higa&quot;|&quot;higatv&quot;|&quot;nigahi…</td><td>2095731</td><td>132235</td><td>1989</td><td>17518</td><td>&quot;https://i.ytimg.com/vi/d380meD…</td><td>&quot;False&quot;</td><td>&quot;False&quot;</td><td>&quot;False&quot;</td><td>&quot;I know it&#x27;s been a while since…</td></tr></tbody></table></div>"
      ],
      "text/plain": [
       "shape: (5, 16)\n",
       "┌───────────┬───────────┬───────────┬───────────┬───┬───────────┬───────────┬───────────┬──────────┐\n",
       "│ video_id  ┆ trending_ ┆ title     ┆ channel_t ┆ … ┆ comments_ ┆ ratings_d ┆ video_err ┆ descript │\n",
       "│ ---       ┆ date      ┆ ---       ┆ itle      ┆   ┆ disabled  ┆ isabled   ┆ or_or_rem ┆ ion      │\n",
       "│ str       ┆ ---       ┆ str       ┆ ---       ┆   ┆ ---       ┆ ---       ┆ oved      ┆ ---      │\n",
       "│           ┆ str       ┆           ┆ str       ┆   ┆ str       ┆ str       ┆ ---       ┆ str      │\n",
       "│           ┆           ┆           ┆           ┆   ┆           ┆           ┆ str       ┆          │\n",
       "╞═══════════╪═══════════╪═══════════╪═══════════╪═══╪═══════════╪═══════════╪═══════════╪══════════╡\n",
       "│ 2kyS6SvSY ┆ 17.14.11  ┆ WE WANT   ┆ CaseyNeis ┆ … ┆ False     ┆ False     ┆ False     ┆ SHANTELL │\n",
       "│ SE        ┆           ┆ TO TALK   ┆ tat       ┆   ┆           ┆           ┆           ┆ 'S       │\n",
       "│           ┆           ┆ ABOUT OUR ┆           ┆   ┆           ┆           ┆           ┆ CHANNEL  │\n",
       "│           ┆           ┆ MARR…     ┆           ┆   ┆           ┆           ┆           ┆ - https: │\n",
       "│           ┆           ┆           ┆           ┆   ┆           ┆           ┆           ┆ //w…     │\n",
       "│ 1ZAPwfrtA ┆ 17.14.11  ┆ The Trump ┆ LastWeekT ┆ … ┆ False     ┆ False     ┆ False     ┆ One year │\n",
       "│ FY        ┆           ┆ Presidenc ┆ onight    ┆   ┆           ┆           ┆           ┆ after    │\n",
       "│           ┆           ┆ y: Last   ┆           ┆   ┆           ┆           ┆           ┆ the pres │\n",
       "│           ┆           ┆ Wee…      ┆           ┆   ┆           ┆           ┆           ┆ identia… │\n",
       "│ 5qpjK5DgC ┆ 17.14.11  ┆ Racist    ┆ Rudy      ┆ … ┆ False     ┆ False     ┆ False     ┆ WATCH MY │\n",
       "│ t4        ┆           ┆ Superman  ┆ Mancuso   ┆   ┆           ┆           ┆           ┆ PREVIOUS │\n",
       "│           ┆           ┆ | Rudy    ┆           ┆   ┆           ┆           ┆           ┆ VIDEO ▶  │\n",
       "│           ┆           ┆ Mancuso…  ┆           ┆   ┆           ┆           ┆           ┆ \\n\\n…    │\n",
       "│ puqaWrEC7 ┆ 17.14.11  ┆ Nickelbac ┆ Good      ┆ … ┆ False     ┆ False     ┆ False     ┆ Today we │\n",
       "│ tY        ┆           ┆ k Lyrics: ┆ Mythical  ┆   ┆           ┆           ┆           ┆ find out │\n",
       "│           ┆           ┆ Real or   ┆ Morning   ┆   ┆           ┆           ┆           ┆ if Link  │\n",
       "│           ┆           ┆ Fak…      ┆           ┆   ┆           ┆           ┆           ┆ is a…    │\n",
       "│ d380meD0W ┆ 17.14.11  ┆ I Dare    ┆ nigahiga  ┆ … ┆ False     ┆ False     ┆ False     ┆ I know   │\n",
       "│ 0M        ┆           ┆ You:      ┆           ┆   ┆           ┆           ┆           ┆ it's     │\n",
       "│           ┆           ┆ GOING     ┆           ┆   ┆           ┆           ┆           ┆ been a   │\n",
       "│           ┆           ┆ BALD!?    ┆           ┆   ┆           ┆           ┆           ┆ while    │\n",
       "│           ┆           ┆           ┆           ┆   ┆           ┆           ┆           ┆ since…   │\n",
       "└───────────┴───────────┴───────────┴───────────┴───┴───────────┴───────────┴───────────┴──────────┘"
      ]
     },
     "execution_count": 3,
     "metadata": {},
     "output_type": "execute_result"
    }
   ],
   "source": [
    "df.head()"
   ]
  },
  {
   "cell_type": "code",
   "execution_count": 4,
   "id": "3836e83c-dc39-4265-b302-83577db10b21",
   "metadata": {},
   "outputs": [
    {
     "data": {
      "text/html": [
       "<div><style>\n",
       ".dataframe > thead > tr,\n",
       ".dataframe > tbody > tr {\n",
       "  text-align: right;\n",
       "  white-space: pre-wrap;\n",
       "}\n",
       "</style>\n",
       "<small>shape: (10, 16)</small><table border=\"1\" class=\"dataframe\"><thead><tr><th>video_id</th><th>trending_date</th><th>title</th><th>channel_title</th><th>category_id</th><th>publish_time</th><th>tags</th><th>views</th><th>likes</th><th>dislikes</th><th>comment_count</th><th>thumbnail_link</th><th>comments_disabled</th><th>ratings_disabled</th><th>video_error_or_removed</th><th>description</th></tr><tr><td>str</td><td>str</td><td>str</td><td>str</td><td>str</td><td>datetime[ns]</td><td>str</td><td>i32</td><td>i32</td><td>i32</td><td>i32</td><td>str</td><td>str</td><td>str</td><td>str</td><td>str</td></tr></thead><tbody><tr><td>&quot;2kyS6SvSYSE&quot;</td><td>&quot;17.14.11&quot;</td><td>&quot;WE WANT TO TALK ABOUT OUR MARR…</td><td>&quot;CaseyNeistat&quot;</td><td>&quot;22&quot;</td><td>2017-11-13 17:13:01</td><td>&quot;SHANtell martin&quot;</td><td>748374</td><td>57527</td><td>2966</td><td>15954</td><td>&quot;https://i.ytimg.com/vi/2kyS6Sv…</td><td>&quot;False&quot;</td><td>&quot;False&quot;</td><td>&quot;False&quot;</td><td>&quot;SHANTELL&#x27;S CHANNEL - https://w…</td></tr><tr><td>&quot;1ZAPwfrtAFY&quot;</td><td>&quot;17.14.11&quot;</td><td>&quot;The Trump Presidency: Last Wee…</td><td>&quot;LastWeekTonight&quot;</td><td>&quot;24&quot;</td><td>2017-11-13 07:30:00</td><td>&quot;&quot;last week tonight trump presi…</td><td>2418783</td><td>97185</td><td>6146</td><td>12703</td><td>&quot;https://i.ytimg.com/vi/1ZAPwfr…</td><td>&quot;False&quot;</td><td>&quot;False&quot;</td><td>&quot;False&quot;</td><td>&quot;One year after the presidentia…</td></tr><tr><td>&quot;5qpjK5DgCt4&quot;</td><td>&quot;17.14.11&quot;</td><td>&quot;Racist Superman | Rudy Mancuso…</td><td>&quot;Rudy Mancuso&quot;</td><td>&quot;23&quot;</td><td>2017-11-12 19:05:24</td><td>&quot;&quot;racist superman&quot;|&quot;rudy&quot;|&quot;manc…</td><td>3191434</td><td>146033</td><td>5339</td><td>8181</td><td>&quot;https://i.ytimg.com/vi/5qpjK5D…</td><td>&quot;False&quot;</td><td>&quot;False&quot;</td><td>&quot;False&quot;</td><td>&quot;WATCH MY PREVIOUS VIDEO ▶ \\n\\n…</td></tr><tr><td>&quot;puqaWrEC7tY&quot;</td><td>&quot;17.14.11&quot;</td><td>&quot;Nickelback Lyrics: Real or Fak…</td><td>&quot;Good Mythical Morning&quot;</td><td>&quot;24&quot;</td><td>2017-11-13 11:00:04</td><td>&quot;&quot;rhett and link&quot;|&quot;gmm&quot;|&quot;good m…</td><td>343168</td><td>10172</td><td>666</td><td>2146</td><td>&quot;https://i.ytimg.com/vi/puqaWrE…</td><td>&quot;False&quot;</td><td>&quot;False&quot;</td><td>&quot;False&quot;</td><td>&quot;Today we find out if Link is a…</td></tr><tr><td>&quot;d380meD0W0M&quot;</td><td>&quot;17.14.11&quot;</td><td>&quot;I Dare You: GOING BALD!?&quot;</td><td>&quot;nigahiga&quot;</td><td>&quot;24&quot;</td><td>2017-11-12 18:01:41</td><td>&quot;&quot;ryan&quot;|&quot;higa&quot;|&quot;higatv&quot;|&quot;nigahi…</td><td>2095731</td><td>132235</td><td>1989</td><td>17518</td><td>&quot;https://i.ytimg.com/vi/d380meD…</td><td>&quot;False&quot;</td><td>&quot;False&quot;</td><td>&quot;False&quot;</td><td>&quot;I know it&#x27;s been a while since…</td></tr><tr><td>&quot;gHZ1Qz0KiKM&quot;</td><td>&quot;17.14.11&quot;</td><td>&quot;2 Weeks with iPhone X&quot;</td><td>&quot;iJustine&quot;</td><td>&quot;28&quot;</td><td>2017-11-13 19:07:23</td><td>&quot;&quot;ijustine&quot;|&quot;week with iPhone X…</td><td>119180</td><td>9763</td><td>511</td><td>1434</td><td>&quot;https://i.ytimg.com/vi/gHZ1Qz0…</td><td>&quot;False&quot;</td><td>&quot;False&quot;</td><td>&quot;False&quot;</td><td>&quot;Using the iPhone for the past …</td></tr><tr><td>&quot;39idVpFF7NQ&quot;</td><td>&quot;17.14.11&quot;</td><td>&quot;Roy Moore &amp; Jeff Sessions Cold…</td><td>&quot;Saturday Night Live&quot;</td><td>&quot;24&quot;</td><td>2017-11-12 05:37:17</td><td>&quot;&quot;SNL&quot;|&quot;Saturday Night Live&quot;|&quot;S…</td><td>2103417</td><td>15993</td><td>2445</td><td>1970</td><td>&quot;https://i.ytimg.com/vi/39idVpF…</td><td>&quot;False&quot;</td><td>&quot;False&quot;</td><td>&quot;False&quot;</td><td>&quot;Embattled Alabama Senate candi…</td></tr><tr><td>&quot;nc99ccSXST0&quot;</td><td>&quot;17.14.11&quot;</td><td>&quot;5 Ice Cream Gadgets put to the…</td><td>&quot;CrazyRussianHacker&quot;</td><td>&quot;28&quot;</td><td>2017-11-12 21:50:37</td><td>&quot;&quot;5 Ice Cream Gadgets&quot;|&quot;Ice Cre…</td><td>817732</td><td>23663</td><td>778</td><td>3432</td><td>&quot;https://i.ytimg.com/vi/nc99ccS…</td><td>&quot;False&quot;</td><td>&quot;False&quot;</td><td>&quot;False&quot;</td><td>&quot;Ice Cream Pint Combination Loc…</td></tr><tr><td>&quot;jr9QtXwC9vc&quot;</td><td>&quot;17.14.11&quot;</td><td>&quot;The Greatest Showman | Officia…</td><td>&quot;20th Century Fox&quot;</td><td>&quot;1&quot;</td><td>2017-11-13 14:00:23</td><td>&quot;&quot;Trailer&quot;|&quot;Hugh Jackman&quot;|&quot;Mich…</td><td>826059</td><td>3543</td><td>119</td><td>340</td><td>&quot;https://i.ytimg.com/vi/jr9QtXw…</td><td>&quot;False&quot;</td><td>&quot;False&quot;</td><td>&quot;False&quot;</td><td>&quot;Inspired by the imagination of…</td></tr><tr><td>&quot;TUmyygCMMGA&quot;</td><td>&quot;17.14.11&quot;</td><td>&quot;Why the rise of the robots won…</td><td>&quot;Vox&quot;</td><td>&quot;25&quot;</td><td>2017-11-13 13:45:16</td><td>&quot;&quot;vox.com&quot;|&quot;vox&quot;|&quot;explain&quot;|&quot;shi…</td><td>256426</td><td>12654</td><td>1363</td><td>2368</td><td>&quot;https://i.ytimg.com/vi/TUmyygC…</td><td>&quot;False&quot;</td><td>&quot;False&quot;</td><td>&quot;False&quot;</td><td>&quot;For now, at least, we have bet…</td></tr></tbody></table></div>"
      ],
      "text/plain": [
       "shape: (10, 16)\n",
       "┌───────────┬───────────┬───────────┬───────────┬───┬───────────┬───────────┬───────────┬──────────┐\n",
       "│ video_id  ┆ trending_ ┆ title     ┆ channel_t ┆ … ┆ comments_ ┆ ratings_d ┆ video_err ┆ descript │\n",
       "│ ---       ┆ date      ┆ ---       ┆ itle      ┆   ┆ disabled  ┆ isabled   ┆ or_or_rem ┆ ion      │\n",
       "│ str       ┆ ---       ┆ str       ┆ ---       ┆   ┆ ---       ┆ ---       ┆ oved      ┆ ---      │\n",
       "│           ┆ str       ┆           ┆ str       ┆   ┆ str       ┆ str       ┆ ---       ┆ str      │\n",
       "│           ┆           ┆           ┆           ┆   ┆           ┆           ┆ str       ┆          │\n",
       "╞═══════════╪═══════════╪═══════════╪═══════════╪═══╪═══════════╪═══════════╪═══════════╪══════════╡\n",
       "│ 2kyS6SvSY ┆ 17.14.11  ┆ WE WANT   ┆ CaseyNeis ┆ … ┆ False     ┆ False     ┆ False     ┆ SHANTELL │\n",
       "│ SE        ┆           ┆ TO TALK   ┆ tat       ┆   ┆           ┆           ┆           ┆ 'S       │\n",
       "│           ┆           ┆ ABOUT OUR ┆           ┆   ┆           ┆           ┆           ┆ CHANNEL  │\n",
       "│           ┆           ┆ MARR…     ┆           ┆   ┆           ┆           ┆           ┆ - https: │\n",
       "│           ┆           ┆           ┆           ┆   ┆           ┆           ┆           ┆ //w…     │\n",
       "│ 1ZAPwfrtA ┆ 17.14.11  ┆ The Trump ┆ LastWeekT ┆ … ┆ False     ┆ False     ┆ False     ┆ One year │\n",
       "│ FY        ┆           ┆ Presidenc ┆ onight    ┆   ┆           ┆           ┆           ┆ after    │\n",
       "│           ┆           ┆ y: Last   ┆           ┆   ┆           ┆           ┆           ┆ the pres │\n",
       "│           ┆           ┆ Wee…      ┆           ┆   ┆           ┆           ┆           ┆ identia… │\n",
       "│ 5qpjK5DgC ┆ 17.14.11  ┆ Racist    ┆ Rudy      ┆ … ┆ False     ┆ False     ┆ False     ┆ WATCH MY │\n",
       "│ t4        ┆           ┆ Superman  ┆ Mancuso   ┆   ┆           ┆           ┆           ┆ PREVIOUS │\n",
       "│           ┆           ┆ | Rudy    ┆           ┆   ┆           ┆           ┆           ┆ VIDEO ▶  │\n",
       "│           ┆           ┆ Mancuso…  ┆           ┆   ┆           ┆           ┆           ┆ \\n\\n…    │\n",
       "│ puqaWrEC7 ┆ 17.14.11  ┆ Nickelbac ┆ Good      ┆ … ┆ False     ┆ False     ┆ False     ┆ Today we │\n",
       "│ tY        ┆           ┆ k Lyrics: ┆ Mythical  ┆   ┆           ┆           ┆           ┆ find out │\n",
       "│           ┆           ┆ Real or   ┆ Morning   ┆   ┆           ┆           ┆           ┆ if Link  │\n",
       "│           ┆           ┆ Fak…      ┆           ┆   ┆           ┆           ┆           ┆ is a…    │\n",
       "│ d380meD0W ┆ 17.14.11  ┆ I Dare    ┆ nigahiga  ┆ … ┆ False     ┆ False     ┆ False     ┆ I know   │\n",
       "│ 0M        ┆           ┆ You:      ┆           ┆   ┆           ┆           ┆           ┆ it's     │\n",
       "│           ┆           ┆ GOING     ┆           ┆   ┆           ┆           ┆           ┆ been a   │\n",
       "│           ┆           ┆ BALD!?    ┆           ┆   ┆           ┆           ┆           ┆ while    │\n",
       "│           ┆           ┆           ┆           ┆   ┆           ┆           ┆           ┆ since…   │\n",
       "│ gHZ1Qz0Ki ┆ 17.14.11  ┆ 2 Weeks   ┆ iJustine  ┆ … ┆ False     ┆ False     ┆ False     ┆ Using    │\n",
       "│ KM        ┆           ┆ with      ┆           ┆   ┆           ┆           ┆           ┆ the      │\n",
       "│           ┆           ┆ iPhone X  ┆           ┆   ┆           ┆           ┆           ┆ iPhone   │\n",
       "│           ┆           ┆           ┆           ┆   ┆           ┆           ┆           ┆ for the  │\n",
       "│           ┆           ┆           ┆           ┆   ┆           ┆           ┆           ┆ past …   │\n",
       "│ 39idVpFF7 ┆ 17.14.11  ┆ Roy Moore ┆ Saturday  ┆ … ┆ False     ┆ False     ┆ False     ┆ Embattle │\n",
       "│ NQ        ┆           ┆ & Jeff    ┆ Night     ┆   ┆           ┆           ┆           ┆ d        │\n",
       "│           ┆           ┆ Sessions  ┆ Live      ┆   ┆           ┆           ┆           ┆ Alabama  │\n",
       "│           ┆           ┆ Cold…     ┆           ┆   ┆           ┆           ┆           ┆ Senate   │\n",
       "│           ┆           ┆           ┆           ┆   ┆           ┆           ┆           ┆ candi…   │\n",
       "│ nc99ccSXS ┆ 17.14.11  ┆ 5 Ice     ┆ CrazyRuss ┆ … ┆ False     ┆ False     ┆ False     ┆ Ice      │\n",
       "│ T0        ┆           ┆ Cream     ┆ ianHacker ┆   ┆           ┆           ┆           ┆ Cream    │\n",
       "│           ┆           ┆ Gadgets   ┆           ┆   ┆           ┆           ┆           ┆ Pint Com │\n",
       "│           ┆           ┆ put to    ┆           ┆   ┆           ┆           ┆           ┆ bination │\n",
       "│           ┆           ┆ the…      ┆           ┆   ┆           ┆           ┆           ┆ Loc…     │\n",
       "│ jr9QtXwC9 ┆ 17.14.11  ┆ The       ┆ 20th      ┆ … ┆ False     ┆ False     ┆ False     ┆ Inspired │\n",
       "│ vc        ┆           ┆ Greatest  ┆ Century   ┆   ┆           ┆           ┆           ┆ by the   │\n",
       "│           ┆           ┆ Showman | ┆ Fox       ┆   ┆           ┆           ┆           ┆ imaginat │\n",
       "│           ┆           ┆ Officia…  ┆           ┆   ┆           ┆           ┆           ┆ ion of…  │\n",
       "│ TUmyygCMM ┆ 17.14.11  ┆ Why the   ┆ Vox       ┆ … ┆ False     ┆ False     ┆ False     ┆ For now, │\n",
       "│ GA        ┆           ┆ rise of   ┆           ┆   ┆           ┆           ┆           ┆ at       │\n",
       "│           ┆           ┆ the       ┆           ┆   ┆           ┆           ┆           ┆ least,   │\n",
       "│           ┆           ┆ robots    ┆           ┆   ┆           ┆           ┆           ┆ we have  │\n",
       "│           ┆           ┆ won…      ┆           ┆   ┆           ┆           ┆           ┆ bet…     │\n",
       "└───────────┴───────────┴───────────┴───────────┴───┴───────────┴───────────┴───────────┴──────────┘"
      ]
     },
     "execution_count": 4,
     "metadata": {},
     "output_type": "execute_result"
    }
   ],
   "source": [
    "df.head(10)"
   ]
  },
  {
   "cell_type": "markdown",
   "id": "403f8092-5584-4316-8a70-4b0071bdc260",
   "metadata": {},
   "source": [
    "#### Tail"
   ]
  },
  {
   "cell_type": "markdown",
   "id": "b03d290e-3faa-46df-8940-13c546767ecb",
   "metadata": {},
   "source": [
    "La función `tail` muestra las últimas 5 filas de un DataFrame. También puede especificar la cantidad de filas que desea ver, similar a `head`."
   ]
  },
  {
   "cell_type": "code",
   "execution_count": 5,
   "id": "e50ffc59-fcd1-460f-bf83-196af8ded200",
   "metadata": {
    "tags": []
   },
   "outputs": [
    {
     "data": {
      "text/html": [
       "<div><style>\n",
       ".dataframe > thead > tr,\n",
       ".dataframe > tbody > tr {\n",
       "  text-align: right;\n",
       "  white-space: pre-wrap;\n",
       "}\n",
       "</style>\n",
       "<small>shape: (5, 16)</small><table border=\"1\" class=\"dataframe\"><thead><tr><th>video_id</th><th>trending_date</th><th>title</th><th>channel_title</th><th>category_id</th><th>publish_time</th><th>tags</th><th>views</th><th>likes</th><th>dislikes</th><th>comment_count</th><th>thumbnail_link</th><th>comments_disabled</th><th>ratings_disabled</th><th>video_error_or_removed</th><th>description</th></tr><tr><td>str</td><td>str</td><td>str</td><td>str</td><td>str</td><td>datetime[ns]</td><td>str</td><td>i32</td><td>i32</td><td>i32</td><td>i32</td><td>str</td><td>str</td><td>str</td><td>str</td><td>str</td></tr></thead><tbody><tr><td>&quot;BZt0qjTWNhw&quot;</td><td>&quot;18.14.06&quot;</td><td>&quot;The Cat Who Caught the Laser&quot;</td><td>&quot;AaronsAnimals&quot;</td><td>&quot;15&quot;</td><td>2018-05-18 13:00:04</td><td>&quot;&quot;aarons animals&quot;|&quot;aarons&quot;|&quot;ani…</td><td>1685609</td><td>38160</td><td>1385</td><td>2657</td><td>&quot;https://i.ytimg.com/vi/BZt0qjT…</td><td>&quot;False&quot;</td><td>&quot;False&quot;</td><td>&quot;False&quot;</td><td>&quot;The Cat Who Caught the Laser -…</td></tr><tr><td>&quot;1h7KV2sjUWY&quot;</td><td>&quot;18.14.06&quot;</td><td>&quot;True Facts : Ant Mutualism&quot;</td><td>&quot;zefrank1&quot;</td><td>&quot;22&quot;</td><td>2018-05-18 01:00:06</td><td>&quot;[none]&quot;</td><td>1064798</td><td>60008</td><td>382</td><td>3936</td><td>&quot;https://i.ytimg.com/vi/1h7KV2s…</td><td>&quot;False&quot;</td><td>&quot;False&quot;</td><td>&quot;False&quot;</td><td>null</td></tr><tr><td>&quot;D6Oy4LfoqsU&quot;</td><td>&quot;18.14.06&quot;</td><td>&quot;I GAVE SAFIYA NYGAARD A PERFEC…</td><td>&quot;Brad Mondo&quot;</td><td>&quot;24&quot;</td><td>2018-05-18 17:34:22</td><td>&quot;&quot;I gave safiya nygaard a perfe…</td><td>1066451</td><td>48068</td><td>1032</td><td>3992</td><td>&quot;https://i.ytimg.com/vi/D6Oy4Lf…</td><td>&quot;False&quot;</td><td>&quot;False&quot;</td><td>&quot;False&quot;</td><td>&quot;I had so much fun transforming…</td></tr><tr><td>&quot;oV0zkMe1K8s&quot;</td><td>&quot;18.14.06&quot;</td><td>&quot;How Black Panther Should Have …</td><td>&quot;How It Should Have Ended&quot;</td><td>&quot;1&quot;</td><td>2018-05-17 17:00:04</td><td>&quot;&quot;Black Panther&quot;|&quot;HISHE&quot;|&quot;Marve…</td><td>5660813</td><td>192957</td><td>2846</td><td>13088</td><td>&quot;https://i.ytimg.com/vi/oV0zkMe…</td><td>&quot;False&quot;</td><td>&quot;False&quot;</td><td>&quot;False&quot;</td><td>&quot;How Black Panther Should Have …</td></tr><tr><td>&quot;ooyjaVdt-jA&quot;</td><td>&quot;18.14.06&quot;</td><td>&quot;Official Call of Duty®: Black …</td><td>&quot;Call of Duty&quot;</td><td>&quot;20&quot;</td><td>2018-05-17 17:09:38</td><td>&quot;&quot;call of duty&quot;|&quot;cod&quot;|&quot;activisi…</td><td>10306119</td><td>357079</td><td>212976</td><td>144795</td><td>&quot;https://i.ytimg.com/vi/ooyjaVd…</td><td>&quot;False&quot;</td><td>&quot;False&quot;</td><td>&quot;False&quot;</td><td>&quot;Call of Duty: Black Ops 4 Mult…</td></tr></tbody></table></div>"
      ],
      "text/plain": [
       "shape: (5, 16)\n",
       "┌───────────┬───────────┬───────────┬───────────┬───┬───────────┬───────────┬───────────┬──────────┐\n",
       "│ video_id  ┆ trending_ ┆ title     ┆ channel_t ┆ … ┆ comments_ ┆ ratings_d ┆ video_err ┆ descript │\n",
       "│ ---       ┆ date      ┆ ---       ┆ itle      ┆   ┆ disabled  ┆ isabled   ┆ or_or_rem ┆ ion      │\n",
       "│ str       ┆ ---       ┆ str       ┆ ---       ┆   ┆ ---       ┆ ---       ┆ oved      ┆ ---      │\n",
       "│           ┆ str       ┆           ┆ str       ┆   ┆ str       ┆ str       ┆ ---       ┆ str      │\n",
       "│           ┆           ┆           ┆           ┆   ┆           ┆           ┆ str       ┆          │\n",
       "╞═══════════╪═══════════╪═══════════╪═══════════╪═══╪═══════════╪═══════════╪═══════════╪══════════╡\n",
       "│ BZt0qjTWN ┆ 18.14.06  ┆ The Cat   ┆ AaronsAni ┆ … ┆ False     ┆ False     ┆ False     ┆ The Cat  │\n",
       "│ hw        ┆           ┆ Who       ┆ mals      ┆   ┆           ┆           ┆           ┆ Who      │\n",
       "│           ┆           ┆ Caught    ┆           ┆   ┆           ┆           ┆           ┆ Caught   │\n",
       "│           ┆           ┆ the Laser ┆           ┆   ┆           ┆           ┆           ┆ the      │\n",
       "│           ┆           ┆           ┆           ┆   ┆           ┆           ┆           ┆ Laser -… │\n",
       "│ 1h7KV2sjU ┆ 18.14.06  ┆ True      ┆ zefrank1  ┆ … ┆ False     ┆ False     ┆ False     ┆ null     │\n",
       "│ WY        ┆           ┆ Facts :   ┆           ┆   ┆           ┆           ┆           ┆          │\n",
       "│           ┆           ┆ Ant       ┆           ┆   ┆           ┆           ┆           ┆          │\n",
       "│           ┆           ┆ Mutualism ┆           ┆   ┆           ┆           ┆           ┆          │\n",
       "│ D6Oy4Lfoq ┆ 18.14.06  ┆ I GAVE    ┆ Brad      ┆ … ┆ False     ┆ False     ┆ False     ┆ I had so │\n",
       "│ sU        ┆           ┆ SAFIYA    ┆ Mondo     ┆   ┆           ┆           ┆           ┆ much fun │\n",
       "│           ┆           ┆ NYGAARD A ┆           ┆   ┆           ┆           ┆           ┆ transfor │\n",
       "│           ┆           ┆ PERFEC…   ┆           ┆   ┆           ┆           ┆           ┆ ming…    │\n",
       "│ oV0zkMe1K ┆ 18.14.06  ┆ How Black ┆ How It    ┆ … ┆ False     ┆ False     ┆ False     ┆ How      │\n",
       "│ 8s        ┆           ┆ Panther   ┆ Should    ┆   ┆           ┆           ┆           ┆ Black    │\n",
       "│           ┆           ┆ Should    ┆ Have      ┆   ┆           ┆           ┆           ┆ Panther  │\n",
       "│           ┆           ┆ Have …    ┆ Ended     ┆   ┆           ┆           ┆           ┆ Should   │\n",
       "│           ┆           ┆           ┆           ┆   ┆           ┆           ┆           ┆ Have …   │\n",
       "│ ooyjaVdt- ┆ 18.14.06  ┆ Official  ┆ Call of   ┆ … ┆ False     ┆ False     ┆ False     ┆ Call of  │\n",
       "│ jA        ┆           ┆ Call of   ┆ Duty      ┆   ┆           ┆           ┆           ┆ Duty:    │\n",
       "│           ┆           ┆ Duty®:    ┆           ┆   ┆           ┆           ┆           ┆ Black    │\n",
       "│           ┆           ┆ Black …   ┆           ┆   ┆           ┆           ┆           ┆ Ops 4    │\n",
       "│           ┆           ┆           ┆           ┆   ┆           ┆           ┆           ┆ Mult…    │\n",
       "└───────────┴───────────┴───────────┴───────────┴───┴───────────┴───────────┴───────────┴──────────┘"
      ]
     },
     "execution_count": 5,
     "metadata": {},
     "output_type": "execute_result"
    }
   ],
   "source": [
    "df.tail()"
   ]
  },
  {
   "cell_type": "code",
   "execution_count": 6,
   "id": "8324449a-e495-40e7-ae81-64b424c483a2",
   "metadata": {},
   "outputs": [
    {
     "data": {
      "text/html": [
       "<div><style>\n",
       ".dataframe > thead > tr,\n",
       ".dataframe > tbody > tr {\n",
       "  text-align: right;\n",
       "  white-space: pre-wrap;\n",
       "}\n",
       "</style>\n",
       "<small>shape: (7, 16)</small><table border=\"1\" class=\"dataframe\"><thead><tr><th>video_id</th><th>trending_date</th><th>title</th><th>channel_title</th><th>category_id</th><th>publish_time</th><th>tags</th><th>views</th><th>likes</th><th>dislikes</th><th>comment_count</th><th>thumbnail_link</th><th>comments_disabled</th><th>ratings_disabled</th><th>video_error_or_removed</th><th>description</th></tr><tr><td>str</td><td>str</td><td>str</td><td>str</td><td>str</td><td>datetime[ns]</td><td>str</td><td>i32</td><td>i32</td><td>i32</td><td>i32</td><td>str</td><td>str</td><td>str</td><td>str</td><td>str</td></tr></thead><tbody><tr><td>&quot;ju_inUnrLc4&quot;</td><td>&quot;18.14.06&quot;</td><td>&quot;Fifth Harmony - Don&#x27;t Say You …</td><td>&quot;FifthHarmonyVEVO&quot;</td><td>&quot;10&quot;</td><td>2018-05-18 07:00:08</td><td>&quot;&quot;fifth hamony&quot;|&quot;harmonizers&quot;|&quot;…</td><td>23502572</td><td>676467</td><td>15993</td><td>52432</td><td>&quot;https://i.ytimg.com/vi/ju_inUn…</td><td>&quot;False&quot;</td><td>&quot;False&quot;</td><td>&quot;False&quot;</td><td>&quot;Fifth Harmony available at iTu…</td></tr><tr><td>&quot;1PhPYr_9zRY&quot;</td><td>&quot;18.14.06&quot;</td><td>&quot;BTS Plays With Puppies While A…</td><td>&quot;BuzzFeed Celeb&quot;</td><td>&quot;22&quot;</td><td>2018-05-18 16:39:29</td><td>&quot;&quot;BuzzFeed&quot;|&quot;BuzzFeedVideo&quot;|&quot;Pu…</td><td>8259128</td><td>645888</td><td>4052</td><td>62610</td><td>&quot;https://i.ytimg.com/vi/1PhPYr_…</td><td>&quot;False&quot;</td><td>&quot;False&quot;</td><td>&quot;False&quot;</td><td>&quot;BTS with the PPS, the puppies.…</td></tr><tr><td>&quot;BZt0qjTWNhw&quot;</td><td>&quot;18.14.06&quot;</td><td>&quot;The Cat Who Caught the Laser&quot;</td><td>&quot;AaronsAnimals&quot;</td><td>&quot;15&quot;</td><td>2018-05-18 13:00:04</td><td>&quot;&quot;aarons animals&quot;|&quot;aarons&quot;|&quot;ani…</td><td>1685609</td><td>38160</td><td>1385</td><td>2657</td><td>&quot;https://i.ytimg.com/vi/BZt0qjT…</td><td>&quot;False&quot;</td><td>&quot;False&quot;</td><td>&quot;False&quot;</td><td>&quot;The Cat Who Caught the Laser -…</td></tr><tr><td>&quot;1h7KV2sjUWY&quot;</td><td>&quot;18.14.06&quot;</td><td>&quot;True Facts : Ant Mutualism&quot;</td><td>&quot;zefrank1&quot;</td><td>&quot;22&quot;</td><td>2018-05-18 01:00:06</td><td>&quot;[none]&quot;</td><td>1064798</td><td>60008</td><td>382</td><td>3936</td><td>&quot;https://i.ytimg.com/vi/1h7KV2s…</td><td>&quot;False&quot;</td><td>&quot;False&quot;</td><td>&quot;False&quot;</td><td>null</td></tr><tr><td>&quot;D6Oy4LfoqsU&quot;</td><td>&quot;18.14.06&quot;</td><td>&quot;I GAVE SAFIYA NYGAARD A PERFEC…</td><td>&quot;Brad Mondo&quot;</td><td>&quot;24&quot;</td><td>2018-05-18 17:34:22</td><td>&quot;&quot;I gave safiya nygaard a perfe…</td><td>1066451</td><td>48068</td><td>1032</td><td>3992</td><td>&quot;https://i.ytimg.com/vi/D6Oy4Lf…</td><td>&quot;False&quot;</td><td>&quot;False&quot;</td><td>&quot;False&quot;</td><td>&quot;I had so much fun transforming…</td></tr><tr><td>&quot;oV0zkMe1K8s&quot;</td><td>&quot;18.14.06&quot;</td><td>&quot;How Black Panther Should Have …</td><td>&quot;How It Should Have Ended&quot;</td><td>&quot;1&quot;</td><td>2018-05-17 17:00:04</td><td>&quot;&quot;Black Panther&quot;|&quot;HISHE&quot;|&quot;Marve…</td><td>5660813</td><td>192957</td><td>2846</td><td>13088</td><td>&quot;https://i.ytimg.com/vi/oV0zkMe…</td><td>&quot;False&quot;</td><td>&quot;False&quot;</td><td>&quot;False&quot;</td><td>&quot;How Black Panther Should Have …</td></tr><tr><td>&quot;ooyjaVdt-jA&quot;</td><td>&quot;18.14.06&quot;</td><td>&quot;Official Call of Duty®: Black …</td><td>&quot;Call of Duty&quot;</td><td>&quot;20&quot;</td><td>2018-05-17 17:09:38</td><td>&quot;&quot;call of duty&quot;|&quot;cod&quot;|&quot;activisi…</td><td>10306119</td><td>357079</td><td>212976</td><td>144795</td><td>&quot;https://i.ytimg.com/vi/ooyjaVd…</td><td>&quot;False&quot;</td><td>&quot;False&quot;</td><td>&quot;False&quot;</td><td>&quot;Call of Duty: Black Ops 4 Mult…</td></tr></tbody></table></div>"
      ],
      "text/plain": [
       "shape: (7, 16)\n",
       "┌───────────┬───────────┬───────────┬───────────┬───┬───────────┬───────────┬───────────┬──────────┐\n",
       "│ video_id  ┆ trending_ ┆ title     ┆ channel_t ┆ … ┆ comments_ ┆ ratings_d ┆ video_err ┆ descript │\n",
       "│ ---       ┆ date      ┆ ---       ┆ itle      ┆   ┆ disabled  ┆ isabled   ┆ or_or_rem ┆ ion      │\n",
       "│ str       ┆ ---       ┆ str       ┆ ---       ┆   ┆ ---       ┆ ---       ┆ oved      ┆ ---      │\n",
       "│           ┆ str       ┆           ┆ str       ┆   ┆ str       ┆ str       ┆ ---       ┆ str      │\n",
       "│           ┆           ┆           ┆           ┆   ┆           ┆           ┆ str       ┆          │\n",
       "╞═══════════╪═══════════╪═══════════╪═══════════╪═══╪═══════════╪═══════════╪═══════════╪══════════╡\n",
       "│ ju_inUnrL ┆ 18.14.06  ┆ Fifth     ┆ FifthHarm ┆ … ┆ False     ┆ False     ┆ False     ┆ Fifth    │\n",
       "│ c4        ┆           ┆ Harmony - ┆ onyVEVO   ┆   ┆           ┆           ┆           ┆ Harmony  │\n",
       "│           ┆           ┆ Don't Say ┆           ┆   ┆           ┆           ┆           ┆ availabl │\n",
       "│           ┆           ┆ You …     ┆           ┆   ┆           ┆           ┆           ┆ e at     │\n",
       "│           ┆           ┆           ┆           ┆   ┆           ┆           ┆           ┆ iTu…     │\n",
       "│ 1PhPYr_9z ┆ 18.14.06  ┆ BTS Plays ┆ BuzzFeed  ┆ … ┆ False     ┆ False     ┆ False     ┆ BTS with │\n",
       "│ RY        ┆           ┆ With      ┆ Celeb     ┆   ┆           ┆           ┆           ┆ the PPS, │\n",
       "│           ┆           ┆ Puppies   ┆           ┆   ┆           ┆           ┆           ┆ the pupp │\n",
       "│           ┆           ┆ While A…  ┆           ┆   ┆           ┆           ┆           ┆ ies.…    │\n",
       "│ BZt0qjTWN ┆ 18.14.06  ┆ The Cat   ┆ AaronsAni ┆ … ┆ False     ┆ False     ┆ False     ┆ The Cat  │\n",
       "│ hw        ┆           ┆ Who       ┆ mals      ┆   ┆           ┆           ┆           ┆ Who      │\n",
       "│           ┆           ┆ Caught    ┆           ┆   ┆           ┆           ┆           ┆ Caught   │\n",
       "│           ┆           ┆ the Laser ┆           ┆   ┆           ┆           ┆           ┆ the      │\n",
       "│           ┆           ┆           ┆           ┆   ┆           ┆           ┆           ┆ Laser -… │\n",
       "│ 1h7KV2sjU ┆ 18.14.06  ┆ True      ┆ zefrank1  ┆ … ┆ False     ┆ False     ┆ False     ┆ null     │\n",
       "│ WY        ┆           ┆ Facts :   ┆           ┆   ┆           ┆           ┆           ┆          │\n",
       "│           ┆           ┆ Ant       ┆           ┆   ┆           ┆           ┆           ┆          │\n",
       "│           ┆           ┆ Mutualism ┆           ┆   ┆           ┆           ┆           ┆          │\n",
       "│ D6Oy4Lfoq ┆ 18.14.06  ┆ I GAVE    ┆ Brad      ┆ … ┆ False     ┆ False     ┆ False     ┆ I had so │\n",
       "│ sU        ┆           ┆ SAFIYA    ┆ Mondo     ┆   ┆           ┆           ┆           ┆ much fun │\n",
       "│           ┆           ┆ NYGAARD A ┆           ┆   ┆           ┆           ┆           ┆ transfor │\n",
       "│           ┆           ┆ PERFEC…   ┆           ┆   ┆           ┆           ┆           ┆ ming…    │\n",
       "│ oV0zkMe1K ┆ 18.14.06  ┆ How Black ┆ How It    ┆ … ┆ False     ┆ False     ┆ False     ┆ How      │\n",
       "│ 8s        ┆           ┆ Panther   ┆ Should    ┆   ┆           ┆           ┆           ┆ Black    │\n",
       "│           ┆           ┆ Should    ┆ Have      ┆   ┆           ┆           ┆           ┆ Panther  │\n",
       "│           ┆           ┆ Have …    ┆ Ended     ┆   ┆           ┆           ┆           ┆ Should   │\n",
       "│           ┆           ┆           ┆           ┆   ┆           ┆           ┆           ┆ Have …   │\n",
       "│ ooyjaVdt- ┆ 18.14.06  ┆ Official  ┆ Call of   ┆ … ┆ False     ┆ False     ┆ False     ┆ Call of  │\n",
       "│ jA        ┆           ┆ Call of   ┆ Duty      ┆   ┆           ┆           ┆           ┆ Duty:    │\n",
       "│           ┆           ┆ Duty®:    ┆           ┆   ┆           ┆           ┆           ┆ Black    │\n",
       "│           ┆           ┆ Black …   ┆           ┆   ┆           ┆           ┆           ┆ Ops 4    │\n",
       "│           ┆           ┆           ┆           ┆   ┆           ┆           ┆           ┆ Mult…    │\n",
       "└───────────┴───────────┴───────────┴───────────┴───┴───────────┴───────────┴───────────┴──────────┘"
      ]
     },
     "execution_count": 6,
     "metadata": {},
     "output_type": "execute_result"
    }
   ],
   "source": [
    "df.tail(7)"
   ]
  },
  {
   "cell_type": "markdown",
   "id": "fa708719-756c-4207-b89c-3e9b3a0de44e",
   "metadata": {},
   "source": [
    "#### Sample"
   ]
  },
  {
   "cell_type": "markdown",
   "id": "d1376f70-4a2e-4773-8efc-655444452b15",
   "metadata": {},
   "source": [
    "Si desea obtener una impresión de los datos de su DataFrame, también puede utilizar `sample`. Con `sample`, obtienes un número n de filas aleatorias del DataFrame."
   ]
  },
  {
   "cell_type": "code",
   "execution_count": 7,
   "id": "6aa19b4e-a925-4503-be8e-7924ff751086",
   "metadata": {
    "tags": []
   },
   "outputs": [
    {
     "data": {
      "text/html": [
       "<div><style>\n",
       ".dataframe > thead > tr,\n",
       ".dataframe > tbody > tr {\n",
       "  text-align: right;\n",
       "  white-space: pre-wrap;\n",
       "}\n",
       "</style>\n",
       "<small>shape: (2, 16)</small><table border=\"1\" class=\"dataframe\"><thead><tr><th>video_id</th><th>trending_date</th><th>title</th><th>channel_title</th><th>category_id</th><th>publish_time</th><th>tags</th><th>views</th><th>likes</th><th>dislikes</th><th>comment_count</th><th>thumbnail_link</th><th>comments_disabled</th><th>ratings_disabled</th><th>video_error_or_removed</th><th>description</th></tr><tr><td>str</td><td>str</td><td>str</td><td>str</td><td>str</td><td>datetime[ns]</td><td>str</td><td>i32</td><td>i32</td><td>i32</td><td>i32</td><td>str</td><td>str</td><td>str</td><td>str</td><td>str</td></tr></thead><tbody><tr><td>&quot;tgMxQ4qCANg&quot;</td><td>&quot;18.31.05&quot;</td><td>&quot;YOUTUBERS REACT TO THIS IS AME…</td><td>&quot;FBE&quot;</td><td>&quot;24&quot;</td><td>2018-05-27 21:00:04</td><td>&quot;&quot;this is america memes&quot;|&quot;this …</td><td>1800973</td><td>41236</td><td>7179</td><td>13824</td><td>&quot;https://i.ytimg.com/vi/tgMxQ4q…</td><td>&quot;False&quot;</td><td>&quot;False&quot;</td><td>&quot;False&quot;</td><td>&quot;CLICK TO SUBSCRIBE TO THE YOUT…</td></tr><tr><td>&quot;Zx7p_tmWlq0&quot;</td><td>&quot;17.06.12&quot;</td><td>&quot;White House Press Briefing - N…</td><td>&quot;NBC News&quot;</td><td>&quot;25&quot;</td><td>2017-11-30 20:41:21</td><td>&quot;&quot;nbc news&quot;|&quot;us news&quot;|&quot;politics…</td><td>14189</td><td>72</td><td>36</td><td>0</td><td>&quot;https://i.ytimg.com/vi/Zx7p_tm…</td><td>&quot;True&quot;</td><td>&quot;False&quot;</td><td>&quot;False&quot;</td><td>&quot;White House Press Secretary Sa…</td></tr></tbody></table></div>"
      ],
      "text/plain": [
       "shape: (2, 16)\n",
       "┌───────────┬───────────┬───────────┬───────────┬───┬───────────┬───────────┬───────────┬──────────┐\n",
       "│ video_id  ┆ trending_ ┆ title     ┆ channel_t ┆ … ┆ comments_ ┆ ratings_d ┆ video_err ┆ descript │\n",
       "│ ---       ┆ date      ┆ ---       ┆ itle      ┆   ┆ disabled  ┆ isabled   ┆ or_or_rem ┆ ion      │\n",
       "│ str       ┆ ---       ┆ str       ┆ ---       ┆   ┆ ---       ┆ ---       ┆ oved      ┆ ---      │\n",
       "│           ┆ str       ┆           ┆ str       ┆   ┆ str       ┆ str       ┆ ---       ┆ str      │\n",
       "│           ┆           ┆           ┆           ┆   ┆           ┆           ┆ str       ┆          │\n",
       "╞═══════════╪═══════════╪═══════════╪═══════════╪═══╪═══════════╪═══════════╪═══════════╪══════════╡\n",
       "│ tgMxQ4qCA ┆ 18.31.05  ┆ YOUTUBERS ┆ FBE       ┆ … ┆ False     ┆ False     ┆ False     ┆ CLICK TO │\n",
       "│ Ng        ┆           ┆ REACT TO  ┆           ┆   ┆           ┆           ┆           ┆ SUBSCRIB │\n",
       "│           ┆           ┆ THIS IS   ┆           ┆   ┆           ┆           ┆           ┆ E TO THE │\n",
       "│           ┆           ┆ AME…      ┆           ┆   ┆           ┆           ┆           ┆ YOUT…    │\n",
       "│ Zx7p_tmWl ┆ 17.06.12  ┆ White     ┆ NBC News  ┆ … ┆ True      ┆ False     ┆ False     ┆ White    │\n",
       "│ q0        ┆           ┆ House     ┆           ┆   ┆           ┆           ┆           ┆ House    │\n",
       "│           ┆           ┆ Press     ┆           ┆   ┆           ┆           ┆           ┆ Press    │\n",
       "│           ┆           ┆ Briefing  ┆           ┆   ┆           ┆           ┆           ┆ Secretar │\n",
       "│           ┆           ┆ - N…      ┆           ┆   ┆           ┆           ┆           ┆ y Sa…    │\n",
       "└───────────┴───────────┴───────────┴───────────┴───┴───────────┴───────────┴───────────┴──────────┘"
      ]
     },
     "execution_count": 7,
     "metadata": {},
     "output_type": "execute_result"
    }
   ],
   "source": [
    "df.sample(2)"
   ]
  },
  {
   "cell_type": "markdown",
   "id": "37d914ec-ec8b-4a8a-8898-e5e076d75b04",
   "metadata": {},
   "source": [
    "#### Describe"
   ]
  },
  {
   "cell_type": "markdown",
   "id": "b52483d9-ba89-4f9d-935e-b6225c0145a1",
   "metadata": {},
   "source": [
    "`describe` devuelve las estadísticas resumidas del DataFrame. Proporcionará varias estadísticas rápidas si es posible."
   ]
  },
  {
   "cell_type": "code",
   "execution_count": 8,
   "id": "faf20d19-8419-4965-81db-a4b080033c23",
   "metadata": {
    "tags": []
   },
   "outputs": [
    {
     "data": {
      "text/html": [
       "<div><style>\n",
       ".dataframe > thead > tr,\n",
       ".dataframe > tbody > tr {\n",
       "  text-align: right;\n",
       "  white-space: pre-wrap;\n",
       "}\n",
       "</style>\n",
       "<small>shape: (9, 17)</small><table border=\"1\" class=\"dataframe\"><thead><tr><th>statistic</th><th>video_id</th><th>trending_date</th><th>title</th><th>channel_title</th><th>category_id</th><th>publish_time</th><th>tags</th><th>views</th><th>likes</th><th>dislikes</th><th>comment_count</th><th>thumbnail_link</th><th>comments_disabled</th><th>ratings_disabled</th><th>video_error_or_removed</th><th>description</th></tr><tr><td>str</td><td>str</td><td>str</td><td>str</td><td>str</td><td>str</td><td>str</td><td>str</td><td>f64</td><td>f64</td><td>f64</td><td>f64</td><td>str</td><td>str</td><td>str</td><td>str</td><td>str</td></tr></thead><tbody><tr><td>&quot;count&quot;</td><td>&quot;48137&quot;</td><td>&quot;42385&quot;</td><td>&quot;42235&quot;</td><td>&quot;42112&quot;</td><td>&quot;41845&quot;</td><td>&quot;40949&quot;</td><td>&quot;41116&quot;</td><td>40949.0</td><td>40949.0</td><td>40949.0</td><td>40949.0</td><td>&quot;41035&quot;</td><td>&quot;41022&quot;</td><td>&quot;40960&quot;</td><td>&quot;40960&quot;</td><td>&quot;40390&quot;</td></tr><tr><td>&quot;null_count&quot;</td><td>&quot;0&quot;</td><td>&quot;5752&quot;</td><td>&quot;5902&quot;</td><td>&quot;6025&quot;</td><td>&quot;6292&quot;</td><td>&quot;7188&quot;</td><td>&quot;7021&quot;</td><td>7188.0</td><td>7188.0</td><td>7188.0</td><td>7188.0</td><td>&quot;7102&quot;</td><td>&quot;7115&quot;</td><td>&quot;7177&quot;</td><td>&quot;7177&quot;</td><td>&quot;7747&quot;</td></tr><tr><td>&quot;mean&quot;</td><td>null</td><td>null</td><td>null</td><td>null</td><td>null</td><td>&quot;2018-02-11 01:00:49.258589&quot;</td><td>null</td><td>2.3608e6</td><td>74266.702435</td><td>3711.400889</td><td>8446.803683</td><td>null</td><td>null</td><td>null</td><td>null</td><td>null</td></tr><tr><td>&quot;std&quot;</td><td>null</td><td>null</td><td>null</td><td>null</td><td>null</td><td>null</td><td>null</td><td>7.3941e6</td><td>228885.338209</td><td>29029.705945</td><td>37430.486994</td><td>null</td><td>null</td><td>null</td><td>null</td><td>null</td></tr><tr><td>&quot;min&quot;</td><td>&quot;-0CMnp02rNY&quot;</td><td>&quot; #157&quot;</td><td>&quot; AP has covered all the major …</td><td>&quot; &amp; trying new things and adven…</td><td>&quot; Dalessandro’s&quot;</td><td>&quot;2006-07-23 08:24:11&quot;</td><td>&quot; 2017. -- KONG: ...&quot;</td><td>549.0</td><td>0.0</td><td>0.0</td><td>0.0</td><td>&quot; Sonny’s&quot;</td><td>&quot; Wiz Kid&quot;</td><td>&quot; Ralph and Rickey’s&quot;</td><td>&quot; Philips&quot;</td><td>&quot; &quot;</td></tr><tr><td>&quot;25%&quot;</td><td>null</td><td>null</td><td>null</td><td>null</td><td>null</td><td>&quot;2017-12-27 21:00:00&quot;</td><td>null</td><td>242329.0</td><td>5424.0</td><td>202.0</td><td>614.0</td><td>null</td><td>null</td><td>null</td><td>null</td><td>null</td></tr><tr><td>&quot;50%&quot;</td><td>null</td><td>null</td><td>null</td><td>null</td><td>null</td><td>&quot;2018-02-21 16:19:27&quot;</td><td>null</td><td>681861.0</td><td>18091.0</td><td>631.0</td><td>1856.0</td><td>null</td><td>null</td><td>null</td><td>null</td><td>null</td></tr><tr><td>&quot;75%&quot;</td><td>null</td><td>null</td><td>null</td><td>null</td><td>null</td><td>&quot;2018-04-16 17:20:26&quot;</td><td>null</td><td>1.823157e6</td><td>55417.0</td><td>1938.0</td><td>5755.0</td><td>null</td><td>null</td><td>null</td><td>null</td><td>null</td></tr><tr><td>&quot;max&quot;</td><td>&quot;zzQsGL_F9_c&quot;</td><td>&quot;” “Gorillas in the Mist”) and …</td><td>&quot;😱 $1,145 iPhone Case!!&quot;</td><td>&quot;영국남자 Korean Englishman&quot;</td><td>&quot;43&quot;</td><td>&quot;2018-06-14 01:31:53&quot;</td><td>&quot;yt:cc=on&quot;</td><td>2.25211923e8</td><td>5.613827e6</td><td>1.67442e6</td><td>1.36158e6</td><td>&quot;https://i.ytimg.com/vi/zzQsGL_…</td><td>&quot;True&quot;</td><td>&quot;True&quot;</td><td>&quot;True&quot;</td><td>&quot;😍 Subscribe to my channel : ht…</td></tr></tbody></table></div>"
      ],
      "text/plain": [
       "shape: (9, 17)\n",
       "┌───────────┬───────────┬───────────┬───────────┬───┬───────────┬───────────┬───────────┬──────────┐\n",
       "│ statistic ┆ video_id  ┆ trending_ ┆ title     ┆ … ┆ comments_ ┆ ratings_d ┆ video_err ┆ descript │\n",
       "│ ---       ┆ ---       ┆ date      ┆ ---       ┆   ┆ disabled  ┆ isabled   ┆ or_or_rem ┆ ion      │\n",
       "│ str       ┆ str       ┆ ---       ┆ str       ┆   ┆ ---       ┆ ---       ┆ oved      ┆ ---      │\n",
       "│           ┆           ┆ str       ┆           ┆   ┆ str       ┆ str       ┆ ---       ┆ str      │\n",
       "│           ┆           ┆           ┆           ┆   ┆           ┆           ┆ str       ┆          │\n",
       "╞═══════════╪═══════════╪═══════════╪═══════════╪═══╪═══════════╪═══════════╪═══════════╪══════════╡\n",
       "│ count     ┆ 48137     ┆ 42385     ┆ 42235     ┆ … ┆ 41022     ┆ 40960     ┆ 40960     ┆ 40390    │\n",
       "│ null_coun ┆ 0         ┆ 5752      ┆ 5902      ┆ … ┆ 7115      ┆ 7177      ┆ 7177      ┆ 7747     │\n",
       "│ t         ┆           ┆           ┆           ┆   ┆           ┆           ┆           ┆          │\n",
       "│ mean      ┆ null      ┆ null      ┆ null      ┆ … ┆ null      ┆ null      ┆ null      ┆ null     │\n",
       "│ std       ┆ null      ┆ null      ┆ null      ┆ … ┆ null      ┆ null      ┆ null      ┆ null     │\n",
       "│ min       ┆ -0CMnp02r ┆  #157     ┆ AP has    ┆ … ┆  Wiz Kid  ┆ Ralph and ┆  Philips  ┆          │\n",
       "│           ┆ NY        ┆           ┆ covered   ┆   ┆           ┆ Rickey’s  ┆           ┆          │\n",
       "│           ┆           ┆           ┆ all the   ┆   ┆           ┆           ┆           ┆          │\n",
       "│           ┆           ┆           ┆ major …   ┆   ┆           ┆           ┆           ┆          │\n",
       "│ 25%       ┆ null      ┆ null      ┆ null      ┆ … ┆ null      ┆ null      ┆ null      ┆ null     │\n",
       "│ 50%       ┆ null      ┆ null      ┆ null      ┆ … ┆ null      ┆ null      ┆ null      ┆ null     │\n",
       "│ 75%       ┆ null      ┆ null      ┆ null      ┆ … ┆ null      ┆ null      ┆ null      ┆ null     │\n",
       "│ max       ┆ zzQsGL_F9 ┆ ”         ┆ 😱 $1,145 ┆ … ┆ True      ┆ True      ┆ True      ┆ 😍 Subsc │\n",
       "│           ┆ _c        ┆ “Gorillas ┆ iPhone    ┆   ┆           ┆           ┆           ┆ ribe to  │\n",
       "│           ┆           ┆ in the    ┆ Case!!    ┆   ┆           ┆           ┆           ┆ my       │\n",
       "│           ┆           ┆ Mist”)    ┆           ┆   ┆           ┆           ┆           ┆ channel  │\n",
       "│           ┆           ┆ and …     ┆           ┆   ┆           ┆           ┆           ┆ : ht…    │\n",
       "└───────────┴───────────┴───────────┴───────────┴───┴───────────┴───────────┴───────────┴──────────┘"
      ]
     },
     "execution_count": 8,
     "metadata": {},
     "output_type": "execute_result"
    }
   ],
   "source": [
    "df.describe()"
   ]
  }
 ],
 "metadata": {
  "kernelspec": {
   "display_name": "Python 3 (ipykernel)",
   "language": "python",
   "name": "python3"
  },
  "language_info": {
   "codemirror_mode": {
    "name": "ipython",
    "version": 3
   },
   "file_extension": ".py",
   "mimetype": "text/x-python",
   "name": "python",
   "nbconvert_exporter": "python",
   "pygments_lexer": "ipython3",
   "version": "3.9.6"
  }
 },
 "nbformat": 4,
 "nbformat_minor": 5
}
