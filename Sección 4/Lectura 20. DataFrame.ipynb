{
 "cells": [
  {
   "cell_type": "markdown",
   "id": "7c98295c-7dc5-4597-bc2d-3105c9ac9340",
   "metadata": {},
   "source": [
    "# Lectura 20: DataFrame"
   ]
  },
  {
   "cell_type": "markdown",
   "id": "d2140dd2-e6e8-4cbc-9063-0efff667ba43",
   "metadata": {},
   "source": [
    "Un DataFrame es una estructura de datos bidimensional, es decir, tiene filas y columnas. El DataFrame está respaldado por una serie y podría verse como una abstracción de una colección (por ejemplo, una lista) de series."
   ]
  },
  {
   "cell_type": "markdown",
   "id": "04ec8506-dfae-4bde-b7df-a39d7dac5a56",
   "metadata": {},
   "source": [
    "### Crear un DataFrame"
   ]
  },
  {
   "cell_type": "code",
   "execution_count": null,
   "id": "79729106-fac3-49af-92d8-7f47aac73b85",
   "metadata": {
    "tags": []
   },
   "outputs": [],
   "source": [
    "import polars as pl\n",
    "from datetime import datetime\n",
    "\n",
    "df_manual = pl.DataFrame(\n",
    "    {\n",
    "        'nombre': ['Jose', 'Laura', 'Rosa'],\n",
    "        'edad': [30, 23, 40],\n",
    "        'salario': [124.5, 564.0, 323.2]\n",
    "    }\n",
    ")\n",
    "\n",
    "print(df_manual)"
   ]
  },
  {
   "cell_type": "markdown",
   "id": "fade34af-5811-4119-bbbf-223924e389a3",
   "metadata": {},
   "source": [
    "### Ver los datos de un DataFrame\n",
    "\n",
    "Primeramente leeremos los datos en un DataFrame"
   ]
  },
  {
   "cell_type": "code",
   "execution_count": null,
   "id": "9ef41202-c695-449c-a87a-6f8873282748",
   "metadata": {},
   "outputs": [],
   "source": [
    "df = pl.read_parquet('./data/', use_pyarrow=True)\n",
    "\n",
    "print(df)"
   ]
  },
  {
   "cell_type": "markdown",
   "id": "9eaac38b-9397-42b2-bb07-e970d6181990",
   "metadata": {},
   "source": [
    "#### Head"
   ]
  },
  {
   "cell_type": "markdown",
   "id": "529e11dd-446b-4a29-8ab9-d69d31e124f2",
   "metadata": {},
   "source": [
    "La función `head` muestra de forma predeterminada las primeras 5 filas de un DataFrame. Puede especificar el número de filas que desea ver (por ejemplo, `df.head(10)`."
   ]
  },
  {
   "cell_type": "code",
   "execution_count": null,
   "id": "359458a8-14fc-4348-b506-53c2e1a5e2b5",
   "metadata": {
    "tags": []
   },
   "outputs": [],
   "source": [
    "df.head()"
   ]
  },
  {
   "cell_type": "code",
   "execution_count": null,
   "id": "3836e83c-dc39-4265-b302-83577db10b21",
   "metadata": {},
   "outputs": [],
   "source": [
    "df.head(10)"
   ]
  },
  {
   "cell_type": "markdown",
   "id": "403f8092-5584-4316-8a70-4b0071bdc260",
   "metadata": {},
   "source": [
    "#### Tail"
   ]
  },
  {
   "cell_type": "markdown",
   "id": "b03d290e-3faa-46df-8940-13c546767ecb",
   "metadata": {},
   "source": [
    "La función `tail` muestra las últimas 5 filas de un DataFrame. También puede especificar la cantidad de filas que desea ver, similar a `head`."
   ]
  },
  {
   "cell_type": "code",
   "execution_count": null,
   "id": "e50ffc59-fcd1-460f-bf83-196af8ded200",
   "metadata": {
    "tags": []
   },
   "outputs": [],
   "source": [
    "df.tail()"
   ]
  },
  {
   "cell_type": "code",
   "execution_count": null,
   "id": "8324449a-e495-40e7-ae81-64b424c483a2",
   "metadata": {},
   "outputs": [],
   "source": [
    "df.tail(7)"
   ]
  },
  {
   "cell_type": "markdown",
   "id": "fa708719-756c-4207-b89c-3e9b3a0de44e",
   "metadata": {},
   "source": [
    "#### Sample"
   ]
  },
  {
   "cell_type": "markdown",
   "id": "d1376f70-4a2e-4773-8efc-655444452b15",
   "metadata": {},
   "source": [
    "Si desea obtener una impresión de los datos de su DataFrame, también puede utilizar `sample`. Con `sample`, obtienes un número n de filas aleatorias del DataFrame."
   ]
  },
  {
   "cell_type": "code",
   "execution_count": null,
   "id": "6aa19b4e-a925-4503-be8e-7924ff751086",
   "metadata": {
    "tags": []
   },
   "outputs": [],
   "source": [
    "df.sample(2)"
   ]
  },
  {
   "cell_type": "markdown",
   "id": "37d914ec-ec8b-4a8a-8898-e5e076d75b04",
   "metadata": {},
   "source": [
    "#### Describe"
   ]
  },
  {
   "cell_type": "markdown",
   "id": "b52483d9-ba89-4f9d-935e-b6225c0145a1",
   "metadata": {},
   "source": [
    "`describe` devuelve las estadísticas resumidas del DataFrame. Proporcionará varias estadísticas rápidas si es posible."
   ]
  },
  {
   "cell_type": "code",
   "execution_count": null,
   "id": "faf20d19-8419-4965-81db-a4b080033c23",
   "metadata": {
    "tags": []
   },
   "outputs": [],
   "source": [
    "df.describe()"
   ]
  }
 ],
 "metadata": {
  "kernelspec": {
   "display_name": "Python 3 (ipykernel)",
   "language": "python",
   "name": "python3"
  },
  "language_info": {
   "codemirror_mode": {
    "name": "ipython",
    "version": 3
   },
   "file_extension": ".py",
   "mimetype": "text/x-python",
   "name": "python",
   "nbconvert_exporter": "python",
   "pygments_lexer": "ipython3",
   "version": "3.9.6"
  }
 },
 "nbformat": 4,
 "nbformat_minor": 5
}
