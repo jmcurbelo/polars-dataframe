{
 "cells": [
  {
   "cell_type": "markdown",
   "id": "e0abdb30-13bd-4849-828f-b2e63d431a43",
   "metadata": {},
   "source": [
    "# Lectura 22: DataFrame - Atributos"
   ]
  },
  {
   "cell_type": "code",
   "execution_count": 1,
   "id": "17ee1b0c-305e-4398-b52f-d9f3c25e34b2",
   "metadata": {
    "tags": []
   },
   "outputs": [
    {
     "data": {
      "text/html": [
       "<div><style>\n",
       ".dataframe > thead > tr,\n",
       ".dataframe > tbody > tr {\n",
       "  text-align: right;\n",
       "  white-space: pre-wrap;\n",
       "}\n",
       "</style>\n",
       "<small>shape: (36, 12)</small><table border=\"1\" class=\"dataframe\"><thead><tr><th>State/UTs</th><th>Zone</th><th>Total Cases</th><th>Active</th><th>Discharged</th><th>Deaths</th><th>Active Ratio</th><th>Discharge Ratio</th><th>Discharge Avg</th><th>Death Ratio</th><th>Death Avg</th><th>Population</th></tr><tr><td>str</td><td>str</td><td>i64</td><td>i64</td><td>i64</td><td>i64</td><td>f64</td><td>f64</td><td>str</td><td>f64</td><td>str</td><td>i64</td></tr></thead><tbody><tr><td>&quot;Andaman and Nicobar&quot;</td><td>&quot;South&quot;</td><td>7670</td><td>7</td><td>7534</td><td>129</td><td>0.09</td><td>98.23</td><td>&quot;Below Average&quot;</td><td>1.68</td><td>&quot;Above Average&quot;</td><td>399001</td></tr><tr><td>&quot;Andhra Pradesh&quot;</td><td>&quot;South&quot;</td><td>2069770</td><td>3128</td><td>2052230</td><td>14412</td><td>0.15</td><td>99.15</td><td>&quot;Above Average&quot;</td><td>0.7</td><td>&quot;Below Average&quot;</td><td>91702478</td></tr><tr><td>&quot;Arunachal Pradesh&quot;</td><td>&quot;East&quot;</td><td>55216</td><td>42</td><td>54894</td><td>280</td><td>0.08</td><td>99.42</td><td>&quot;Above Average&quot;</td><td>0.51</td><td>&quot;Below Average&quot;</td><td>1711947</td></tr><tr><td>&quot;Assam&quot;</td><td>&quot;East&quot;</td><td>613784</td><td>3272</td><td>604465</td><td>6047</td><td>0.53</td><td>98.48</td><td>&quot;Above Average&quot;</td><td>0.99</td><td>&quot;Below Average&quot;</td><td>35998752</td></tr><tr><td>&quot;Bihar&quot;</td><td>&quot;East&quot;</td><td>726153</td><td>29</td><td>716462</td><td>9662</td><td>0.0</td><td>98.67</td><td>&quot;Above Average&quot;</td><td>1.33</td><td>&quot;Above Average&quot;</td><td>128500364</td></tr><tr><td>&hellip;</td><td>&hellip;</td><td>&hellip;</td><td>&hellip;</td><td>&hellip;</td><td>&hellip;</td><td>&hellip;</td><td>&hellip;</td><td>&hellip;</td><td>&hellip;</td><td>&hellip;</td><td>&hellip;</td></tr><tr><td>&quot;Telengana&quot;</td><td>&quot;South&quot;</td><td>673469</td><td>3741</td><td>665755</td><td>3973</td><td>0.56</td><td>98.85</td><td>&quot;Above Average&quot;</td><td>0.59</td><td>&quot;Below Average&quot;</td><td>38157311</td></tr><tr><td>&quot;Tripura&quot;</td><td>&quot;East&quot;</td><td>84665</td><td>116</td><td>83732</td><td>817</td><td>0.14</td><td>98.9</td><td>&quot;Above Average&quot;</td><td>0.96</td><td>&quot;Below Average&quot;</td><td>4184959</td></tr><tr><td>&quot;Uttar Pradesh&quot;</td><td>&quot;North&quot;</td><td>1710261</td><td>90</td><td>1687262</td><td>22909</td><td>0.01</td><td>98.66</td><td>&quot;Above Average&quot;</td><td>1.34</td><td>&quot;Above Average&quot;</td><td>231502578</td></tr><tr><td>&quot;Uttarakhand&quot;</td><td>&quot;North&quot;</td><td>344014</td><td>158</td><td>336453</td><td>7403</td><td>0.05</td><td>97.8</td><td>&quot;Below Average&quot;</td><td>2.15</td><td>&quot;Above Average&quot;</td><td>11700099</td></tr><tr><td>&quot;West Bengal&quot;</td><td>&quot;East&quot;</td><td>1603318</td><td>8031</td><td>1575980</td><td>19307</td><td>0.5</td><td>98.29</td><td>&quot;Below Average&quot;</td><td>1.2</td><td>&quot;Below Average&quot;</td><td>100896618</td></tr></tbody></table></div>"
      ],
      "text/plain": [
       "shape: (36, 12)\n",
       "┌─────────────────┬───────┬─────────┬────────┬───┬────────────────┬───────┬───────────┬────────────┐\n",
       "│ State/UTs       ┆ Zone  ┆ Total   ┆ Active ┆ … ┆ Discharge Avg  ┆ Death ┆ Death Avg ┆ Population │\n",
       "│ ---             ┆ ---   ┆ Cases   ┆ ---    ┆   ┆ ---            ┆ Ratio ┆ ---       ┆ ---        │\n",
       "│ str             ┆ str   ┆ ---     ┆ i64    ┆   ┆ str            ┆ ---   ┆ str       ┆ i64        │\n",
       "│                 ┆       ┆ i64     ┆        ┆   ┆                ┆ f64   ┆           ┆            │\n",
       "╞═════════════════╪═══════╪═════════╪════════╪═══╪════════════════╪═══════╪═══════════╪════════════╡\n",
       "│ Andaman and     ┆ South ┆ 7670    ┆ 7      ┆ … ┆ Below Average  ┆ 1.68  ┆ Above     ┆ 399001     │\n",
       "│ Nicobar         ┆       ┆         ┆        ┆   ┆                ┆       ┆ Average   ┆            │\n",
       "│ Andhra Pradesh  ┆ South ┆ 2069770 ┆ 3128   ┆ … ┆ Above Average  ┆ 0.7   ┆ Below     ┆ 91702478   │\n",
       "│                 ┆       ┆         ┆        ┆   ┆                ┆       ┆ Average   ┆            │\n",
       "│ Arunachal       ┆ East  ┆ 55216   ┆ 42     ┆ … ┆ Above Average  ┆ 0.51  ┆ Below     ┆ 1711947    │\n",
       "│ Pradesh         ┆       ┆         ┆        ┆   ┆                ┆       ┆ Average   ┆            │\n",
       "│ Assam           ┆ East  ┆ 613784  ┆ 3272   ┆ … ┆ Above Average  ┆ 0.99  ┆ Below     ┆ 35998752   │\n",
       "│                 ┆       ┆         ┆        ┆   ┆                ┆       ┆ Average   ┆            │\n",
       "│ Bihar           ┆ East  ┆ 726153  ┆ 29     ┆ … ┆ Above Average  ┆ 1.33  ┆ Above     ┆ 128500364  │\n",
       "│                 ┆       ┆         ┆        ┆   ┆                ┆       ┆ Average   ┆            │\n",
       "│ …               ┆ …     ┆ …       ┆ …      ┆ … ┆ …              ┆ …     ┆ …         ┆ …          │\n",
       "│ Telengana       ┆ South ┆ 673469  ┆ 3741   ┆ … ┆ Above Average  ┆ 0.59  ┆ Below     ┆ 38157311   │\n",
       "│                 ┆       ┆         ┆        ┆   ┆                ┆       ┆ Average   ┆            │\n",
       "│ Tripura         ┆ East  ┆ 84665   ┆ 116    ┆ … ┆ Above Average  ┆ 0.96  ┆ Below     ┆ 4184959    │\n",
       "│                 ┆       ┆         ┆        ┆   ┆                ┆       ┆ Average   ┆            │\n",
       "│ Uttar Pradesh   ┆ North ┆ 1710261 ┆ 90     ┆ … ┆ Above Average  ┆ 1.34  ┆ Above     ┆ 231502578  │\n",
       "│                 ┆       ┆         ┆        ┆   ┆                ┆       ┆ Average   ┆            │\n",
       "│ Uttarakhand     ┆ North ┆ 344014  ┆ 158    ┆ … ┆ Below Average  ┆ 2.15  ┆ Above     ┆ 11700099   │\n",
       "│                 ┆       ┆         ┆        ┆   ┆                ┆       ┆ Average   ┆            │\n",
       "│ West Bengal     ┆ East  ┆ 1603318 ┆ 8031   ┆ … ┆ Below Average  ┆ 1.2   ┆ Below     ┆ 100896618  │\n",
       "│                 ┆       ┆         ┆        ┆   ┆                ┆       ┆ Average   ┆            │\n",
       "└─────────────────┴───────┴─────────┴────────┴───┴────────────────┴───────┴───────────┴────────────┘"
      ]
     },
     "metadata": {},
     "output_type": "display_data"
    }
   ],
   "source": [
    "import polars as pl\n",
    "\n",
    "covid = pl.read_excel('./data/Covid-Dashboard.xlsx', sheet_name='Data')\n",
    "\n",
    "display(covid)"
   ]
  },
  {
   "cell_type": "markdown",
   "id": "4abad7a4-7b56-44ac-8b89-fd92df07b156",
   "metadata": {},
   "source": [
    "### Obtener o cambiar el nombre de las columnas "
   ]
  },
  {
   "cell_type": "code",
   "execution_count": 2,
   "id": "c02a2b3d-873a-4dcc-858a-45e03f1f31fd",
   "metadata": {
    "tags": []
   },
   "outputs": [
    {
     "data": {
      "text/plain": [
       "['State/UTs',\n",
       " 'Zone',\n",
       " 'Total Cases',\n",
       " 'Active',\n",
       " 'Discharged',\n",
       " 'Deaths',\n",
       " 'Active Ratio',\n",
       " 'Discharge Ratio',\n",
       " 'Discharge Avg',\n",
       " 'Death Ratio',\n",
       " 'Death Avg',\n",
       " 'Population']"
      ]
     },
     "execution_count": 2,
     "metadata": {},
     "output_type": "execute_result"
    }
   ],
   "source": [
    "covid.columns"
   ]
  },
  {
   "cell_type": "markdown",
   "id": "95da9640-b68d-4093-8e4b-c062b8153967",
   "metadata": {
    "tags": []
   },
   "source": [
    "A continuación vamos a cambiar el nombre de las columnas del DataFrame para eliminar espacios en blanco y mayúsculas."
   ]
  },
  {
   "cell_type": "code",
   "execution_count": 3,
   "id": "eb338b60-48e4-4b9f-8ad6-5092449d049d",
   "metadata": {
    "tags": []
   },
   "outputs": [
    {
     "data": {
      "text/plain": [
       "['state_uts',\n",
       " 'zone',\n",
       " 'total_cases',\n",
       " 'active',\n",
       " 'discharged',\n",
       " 'deaths',\n",
       " 'active_ratio',\n",
       " 'discharge_ratio',\n",
       " 'discharge_avg',\n",
       " 'death_ratio',\n",
       " 'death_avg',\n",
       " 'population']"
      ]
     },
     "execution_count": 3,
     "metadata": {},
     "output_type": "execute_result"
    }
   ],
   "source": [
    "new_columns = []\n",
    "\n",
    "for c in covid.columns:\n",
    "    new_columns.append(\n",
    "        c.lower().replace(' ', '_').replace('/', '_')\n",
    "    )\n",
    "    \n",
    "new_columns"
   ]
  },
  {
   "cell_type": "code",
   "execution_count": 4,
   "id": "57c04dbc-31ac-4a80-b80c-cfe3b7d87455",
   "metadata": {
    "tags": []
   },
   "outputs": [
    {
     "data": {
      "text/plain": [
       "['state_uts',\n",
       " 'zone',\n",
       " 'total_cases',\n",
       " 'active',\n",
       " 'discharged',\n",
       " 'deaths',\n",
       " 'active_ratio',\n",
       " 'discharge_ratio',\n",
       " 'discharge_avg',\n",
       " 'death_ratio',\n",
       " 'death_avg',\n",
       " 'population']"
      ]
     },
     "execution_count": 4,
     "metadata": {},
     "output_type": "execute_result"
    }
   ],
   "source": [
    "covid.columns = new_columns\n",
    "\n",
    "covid.columns"
   ]
  },
  {
   "cell_type": "markdown",
   "id": "4bbff253-89b8-4f2c-a828-c867405cb6cb",
   "metadata": {},
   "source": [
    "### Obtener el tipo de dato de las columnas"
   ]
  },
  {
   "cell_type": "code",
   "execution_count": 5,
   "id": "6ac06b74-e20e-413a-a427-d24ce95245c1",
   "metadata": {
    "tags": []
   },
   "outputs": [
    {
     "data": {
      "text/plain": [
       "[String,\n",
       " String,\n",
       " Int64,\n",
       " Int64,\n",
       " Int64,\n",
       " Int64,\n",
       " Float64,\n",
       " Float64,\n",
       " String,\n",
       " Float64,\n",
       " String,\n",
       " Int64]"
      ]
     },
     "execution_count": 5,
     "metadata": {},
     "output_type": "execute_result"
    }
   ],
   "source": [
    "covid.dtypes"
   ]
  },
  {
   "cell_type": "markdown",
   "id": "510a735a-62fe-4269-ad26-a515657e2708",
   "metadata": {},
   "source": [
    "### Obtener el esquema"
   ]
  },
  {
   "cell_type": "markdown",
   "id": "b03298dc-1be2-41f5-8257-a188c8fb4d90",
   "metadata": {},
   "source": [
    "`schema` retorna un mapeo con el nombre y el tipo de dato de la columna"
   ]
  },
  {
   "cell_type": "code",
   "execution_count": 6,
   "id": "f54625bc-a1d9-453d-9ad0-73b9af8fab5d",
   "metadata": {
    "tags": []
   },
   "outputs": [
    {
     "data": {
      "text/plain": [
       "OrderedDict([('state_uts', String),\n",
       "             ('zone', String),\n",
       "             ('total_cases', Int64),\n",
       "             ('active', Int64),\n",
       "             ('discharged', Int64),\n",
       "             ('deaths', Int64),\n",
       "             ('active_ratio', Float64),\n",
       "             ('discharge_ratio', Float64),\n",
       "             ('discharge_avg', String),\n",
       "             ('death_ratio', Float64),\n",
       "             ('death_avg', String),\n",
       "             ('population', Int64)])"
      ]
     },
     "execution_count": 6,
     "metadata": {},
     "output_type": "execute_result"
    }
   ],
   "source": [
    "covid.schema"
   ]
  },
  {
   "cell_type": "markdown",
   "id": "bc19ab21-bd62-4ee1-8d53-cd1214e839d5",
   "metadata": {},
   "source": [
    "### Obtener la forma del DataFrame"
   ]
  },
  {
   "cell_type": "code",
   "execution_count": 7,
   "id": "a60682c2-5fdc-4a5a-8cc4-d11e2fbdef59",
   "metadata": {
    "tags": []
   },
   "outputs": [
    {
     "data": {
      "text/plain": [
       "(36, 12)"
      ]
     },
     "execution_count": 7,
     "metadata": {},
     "output_type": "execute_result"
    }
   ],
   "source": [
    "covid.shape"
   ]
  },
  {
   "cell_type": "code",
   "execution_count": 8,
   "id": "275b11b6-772a-4b34-9c30-c48d259260ac",
   "metadata": {
    "tags": []
   },
   "outputs": [
    {
     "data": {
      "text/plain": [
       "36"
      ]
     },
     "execution_count": 8,
     "metadata": {},
     "output_type": "execute_result"
    }
   ],
   "source": [
    "covid.height"
   ]
  },
  {
   "cell_type": "code",
   "execution_count": 9,
   "id": "b508601e-3478-4c8a-a6a7-588fb9bcc846",
   "metadata": {
    "tags": []
   },
   "outputs": [
    {
     "data": {
      "text/plain": [
       "12"
      ]
     },
     "execution_count": 9,
     "metadata": {},
     "output_type": "execute_result"
    }
   ],
   "source": [
    "covid.width"
   ]
  }
 ],
 "metadata": {
  "kernelspec": {
   "display_name": "Python 3 (ipykernel)",
   "language": "python",
   "name": "python3"
  },
  "language_info": {
   "codemirror_mode": {
    "name": "ipython",
    "version": 3
   },
   "file_extension": ".py",
   "mimetype": "text/x-python",
   "name": "python",
   "nbconvert_exporter": "python",
   "pygments_lexer": "ipython3",
   "version": "3.9.6"
  }
 },
 "nbformat": 4,
 "nbformat_minor": 5
}
