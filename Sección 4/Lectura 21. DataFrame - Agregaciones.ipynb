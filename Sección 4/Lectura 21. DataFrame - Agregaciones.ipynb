{
 "cells": [
  {
   "cell_type": "markdown",
   "id": "0734ad8f-b5b6-40c0-91eb-466ce0a9cbdd",
   "metadata": {},
   "source": [
    "# Lectura 23: DataFrame - Agregaciones"
   ]
  },
  {
   "cell_type": "markdown",
   "id": "835710b3-55a1-45ff-ade0-4b2989fba8ab",
   "metadata": {},
   "source": [
    "## Máximo y mínimo"
   ]
  },
  {
   "cell_type": "markdown",
   "id": "76bb67de-9e34-417c-afdb-1b22f1e4c90a",
   "metadata": {},
   "source": [
    "- `max`: Obtiene el máximo de cada columna.\n",
    "- `min`: Obtiene el mínimo de cada columna.\n",
    "- `max_horizontal`: Obtiene el máximo de una fila.\n",
    "- `min_horizontal`: Obtiene el mínimo de una fila."
   ]
  },
  {
   "cell_type": "code",
   "execution_count": null,
   "id": "87734dd5-2559-4b55-9c8d-50df441e770d",
   "metadata": {
    "tags": []
   },
   "outputs": [],
   "source": [
    "import polars as pl\n",
    "\n",
    "# Lectura de los datos\n",
    "df = pl.read_parquet('./data/', columns=['views', 'likes', 'dislikes'], use_pyarrow=True)\n",
    "\n",
    "print(df)"
   ]
  },
  {
   "cell_type": "code",
   "execution_count": null,
   "id": "6025322c-c703-46e5-a154-72390b10786d",
   "metadata": {
    "tags": []
   },
   "outputs": [],
   "source": [
    "df.max()"
   ]
  },
  {
   "cell_type": "code",
   "execution_count": null,
   "id": "44d58a4e-1bbd-4aa5-8801-9bec05d48619",
   "metadata": {
    "tags": []
   },
   "outputs": [],
   "source": [
    "df.min()"
   ]
  },
  {
   "cell_type": "code",
   "execution_count": null,
   "id": "cbb2dabf-79be-48a4-adc6-fc87dc591c3d",
   "metadata": {
    "tags": []
   },
   "outputs": [],
   "source": [
    "df.min_horizontal()"
   ]
  },
  {
   "cell_type": "code",
   "execution_count": null,
   "id": "1c8d1e2c-bed8-435e-b42b-9db517daf7aa",
   "metadata": {},
   "outputs": [],
   "source": [
    "from polars import col\n",
    "\n",
    "df.filter(col('views') == 549).min_horizontal()"
   ]
  },
  {
   "cell_type": "code",
   "execution_count": null,
   "id": "aac1b6bb-4c1c-4356-9d42-8f6af003fea1",
   "metadata": {
    "tags": []
   },
   "outputs": [],
   "source": [
    "df.max_horizontal()"
   ]
  },
  {
   "cell_type": "code",
   "execution_count": null,
   "id": "b92d3117-72dd-49c8-bef4-f6cf194e036c",
   "metadata": {},
   "outputs": [],
   "source": [
    "df.filter(col('views') == 549).max_horizontal()"
   ]
  },
  {
   "cell_type": "markdown",
   "id": "2205b343-5a1c-4696-89b2-e605121c19e9",
   "metadata": {},
   "source": [
    "### Media, mediana, varianza y desviación estándar"
   ]
  },
  {
   "cell_type": "markdown",
   "id": "077b58c6-4af6-483b-8d99-4a8f538b9ffb",
   "metadata": {},
   "source": [
    "- `mean`: Halla la media de las columnas.\n",
    "- `median`: Halla la mediana de las columnas.\n",
    "- `var`: Halla la varianza de las columnas.\n",
    "- `std`: Halla la varianza de las columnas."
   ]
  },
  {
   "cell_type": "code",
   "execution_count": null,
   "id": "ae389d06-9af6-42bf-9d3b-478013fbe29e",
   "metadata": {
    "tags": []
   },
   "outputs": [],
   "source": [
    "df.mean()"
   ]
  },
  {
   "cell_type": "code",
   "execution_count": null,
   "id": "7f5c1607-75b0-4499-867a-885f7321efbc",
   "metadata": {
    "tags": []
   },
   "outputs": [],
   "source": [
    "df.median()"
   ]
  },
  {
   "cell_type": "code",
   "execution_count": null,
   "id": "bb1b839a-43f1-4dbd-81ce-6641f171267b",
   "metadata": {
    "tags": []
   },
   "outputs": [],
   "source": [
    "df.var()"
   ]
  },
  {
   "cell_type": "code",
   "execution_count": null,
   "id": "adbc6100-cdad-4c73-9908-d0bc103e2d8d",
   "metadata": {
    "tags": []
   },
   "outputs": [],
   "source": [
    "df.std()"
   ]
  },
  {
   "cell_type": "markdown",
   "id": "daf98343-90c3-493a-8948-e87f5ea1d953",
   "metadata": {},
   "source": [
    "### Producto\n",
    "\n",
    "La función `product` calcula el producto de las columnas del DataFrame. Para demostrar el funcionamiento de esta función vamos a crear primeramente un DataFrame más sencillo."
   ]
  },
  {
   "cell_type": "code",
   "execution_count": null,
   "id": "1f7a4594-620c-4211-aa0c-8d46dd855d31",
   "metadata": {
    "tags": []
   },
   "outputs": [],
   "source": [
    "df1 = pl.DataFrame(\n",
    "    {\n",
    "        'int': [3,1,7],\n",
    "        'float': [3.2, 8.9, 1.3]\n",
    "    }\n",
    ")\n",
    "\n",
    "\n",
    "df1.product()"
   ]
  },
  {
   "cell_type": "markdown",
   "id": "340a1f68-89b2-4676-90c3-8b03855bc8b5",
   "metadata": {
    "tags": []
   },
   "source": [
    "### Suma"
   ]
  },
  {
   "cell_type": "markdown",
   "id": "bb4e26af-a558-4cb8-a767-858e5e56a228",
   "metadata": {},
   "source": [
    "- `sum`: Suma los valores de las columnas.\n",
    "- `sum_horizontal`: Suma los valores de la filas."
   ]
  },
  {
   "cell_type": "code",
   "execution_count": null,
   "id": "0cecfd48-1cb7-4b7f-8436-978c0255639c",
   "metadata": {
    "tags": []
   },
   "outputs": [],
   "source": [
    "df1.sum()"
   ]
  },
  {
   "cell_type": "code",
   "execution_count": null,
   "id": "ac9750d3-0106-4706-a52d-13775bf1775c",
   "metadata": {
    "tags": []
   },
   "outputs": [],
   "source": [
    "df1.sum_horizontal()"
   ]
  }
 ],
 "metadata": {
  "kernelspec": {
   "display_name": "Python 3 (ipykernel)",
   "language": "python",
   "name": "python3"
  },
  "language_info": {
   "codemirror_mode": {
    "name": "ipython",
    "version": 3
   },
   "file_extension": ".py",
   "mimetype": "text/x-python",
   "name": "python",
   "nbconvert_exporter": "python",
   "pygments_lexer": "ipython3",
   "version": "3.8.13"
  }
 },
 "nbformat": 4,
 "nbformat_minor": 5
}
