{
 "cells": [
  {
   "cell_type": "markdown",
   "id": "0734ad8f-b5b6-40c0-91eb-466ce0a9cbdd",
   "metadata": {},
   "source": [
    "# Lectura 21: DataFrame - Agregaciones"
   ]
  },
  {
   "cell_type": "markdown",
   "id": "835710b3-55a1-45ff-ade0-4b2989fba8ab",
   "metadata": {},
   "source": [
    "## Máximo y mínimo"
   ]
  },
  {
   "cell_type": "markdown",
   "id": "76bb67de-9e34-417c-afdb-1b22f1e4c90a",
   "metadata": {},
   "source": [
    "- `max`: Obtiene el máximo de cada columna.\n",
    "- `min`: Obtiene el mínimo de cada columna.\n",
    "- `max_horizontal`: Obtiene el máximo de una fila.\n",
    "- `min_horizontal`: Obtiene el mínimo de una fila."
   ]
  },
  {
   "cell_type": "code",
   "execution_count": 1,
   "id": "87734dd5-2559-4b55-9c8d-50df441e770d",
   "metadata": {
    "tags": []
   },
   "outputs": [
    {
     "name": "stdout",
     "output_type": "stream",
     "text": [
      "shape: (48_137, 3)\n",
      "┌──────────┬────────┬──────────┐\n",
      "│ views    ┆ likes  ┆ dislikes │\n",
      "│ ---      ┆ ---    ┆ ---      │\n",
      "│ i32      ┆ i32    ┆ i32      │\n",
      "╞══════════╪════════╪══════════╡\n",
      "│ 748374   ┆ 57527  ┆ 2966     │\n",
      "│ 2418783  ┆ 97185  ┆ 6146     │\n",
      "│ 3191434  ┆ 146033 ┆ 5339     │\n",
      "│ 343168   ┆ 10172  ┆ 666      │\n",
      "│ 2095731  ┆ 132235 ┆ 1989     │\n",
      "│ …        ┆ …      ┆ …        │\n",
      "│ 1685609  ┆ 38160  ┆ 1385     │\n",
      "│ 1064798  ┆ 60008  ┆ 382      │\n",
      "│ 1066451  ┆ 48068  ┆ 1032     │\n",
      "│ 5660813  ┆ 192957 ┆ 2846     │\n",
      "│ 10306119 ┆ 357079 ┆ 212976   │\n",
      "└──────────┴────────┴──────────┘\n"
     ]
    }
   ],
   "source": [
    "import polars as pl\n",
    "\n",
    "# Lectura de los datos\n",
    "df = pl.read_parquet('./data/', columns=['views', 'likes', 'dislikes'], use_pyarrow=True)\n",
    "\n",
    "print(df)"
   ]
  },
  {
   "cell_type": "code",
   "execution_count": 2,
   "id": "6025322c-c703-46e5-a154-72390b10786d",
   "metadata": {
    "tags": []
   },
   "outputs": [
    {
     "data": {
      "text/html": [
       "<div><style>\n",
       ".dataframe > thead > tr,\n",
       ".dataframe > tbody > tr {\n",
       "  text-align: right;\n",
       "  white-space: pre-wrap;\n",
       "}\n",
       "</style>\n",
       "<small>shape: (1, 3)</small><table border=\"1\" class=\"dataframe\"><thead><tr><th>views</th><th>likes</th><th>dislikes</th></tr><tr><td>i32</td><td>i32</td><td>i32</td></tr></thead><tbody><tr><td>225211923</td><td>5613827</td><td>1674420</td></tr></tbody></table></div>"
      ],
      "text/plain": [
       "shape: (1, 3)\n",
       "┌───────────┬─────────┬──────────┐\n",
       "│ views     ┆ likes   ┆ dislikes │\n",
       "│ ---       ┆ ---     ┆ ---      │\n",
       "│ i32       ┆ i32     ┆ i32      │\n",
       "╞═══════════╪═════════╪══════════╡\n",
       "│ 225211923 ┆ 5613827 ┆ 1674420  │\n",
       "└───────────┴─────────┴──────────┘"
      ]
     },
     "execution_count": 2,
     "metadata": {},
     "output_type": "execute_result"
    }
   ],
   "source": [
    "df.max()"
   ]
  },
  {
   "cell_type": "code",
   "execution_count": 3,
   "id": "44d58a4e-1bbd-4aa5-8801-9bec05d48619",
   "metadata": {
    "tags": []
   },
   "outputs": [
    {
     "data": {
      "text/html": [
       "<div><style>\n",
       ".dataframe > thead > tr,\n",
       ".dataframe > tbody > tr {\n",
       "  text-align: right;\n",
       "  white-space: pre-wrap;\n",
       "}\n",
       "</style>\n",
       "<small>shape: (1, 3)</small><table border=\"1\" class=\"dataframe\"><thead><tr><th>views</th><th>likes</th><th>dislikes</th></tr><tr><td>i32</td><td>i32</td><td>i32</td></tr></thead><tbody><tr><td>549</td><td>0</td><td>0</td></tr></tbody></table></div>"
      ],
      "text/plain": [
       "shape: (1, 3)\n",
       "┌───────┬───────┬──────────┐\n",
       "│ views ┆ likes ┆ dislikes │\n",
       "│ ---   ┆ ---   ┆ ---      │\n",
       "│ i32   ┆ i32   ┆ i32      │\n",
       "╞═══════╪═══════╪══════════╡\n",
       "│ 549   ┆ 0     ┆ 0        │\n",
       "└───────┴───────┴──────────┘"
      ]
     },
     "execution_count": 3,
     "metadata": {},
     "output_type": "execute_result"
    }
   ],
   "source": [
    "df.min()"
   ]
  },
  {
   "cell_type": "code",
   "execution_count": 4,
   "id": "cbb2dabf-79be-48a4-adc6-fc87dc591c3d",
   "metadata": {
    "tags": []
   },
   "outputs": [
    {
     "data": {
      "text/html": [
       "<div><style>\n",
       ".dataframe > thead > tr,\n",
       ".dataframe > tbody > tr {\n",
       "  text-align: right;\n",
       "  white-space: pre-wrap;\n",
       "}\n",
       "</style>\n",
       "<small>shape: (48_137,)</small><table border=\"1\" class=\"dataframe\"><thead><tr><th>min</th></tr><tr><td>i32</td></tr></thead><tbody><tr><td>2966</td></tr><tr><td>6146</td></tr><tr><td>5339</td></tr><tr><td>666</td></tr><tr><td>1989</td></tr><tr><td>&hellip;</td></tr><tr><td>1385</td></tr><tr><td>382</td></tr><tr><td>1032</td></tr><tr><td>2846</td></tr><tr><td>212976</td></tr></tbody></table></div>"
      ],
      "text/plain": [
       "shape: (48_137,)\n",
       "Series: 'min' [i32]\n",
       "[\n",
       "\t2966\n",
       "\t6146\n",
       "\t5339\n",
       "\t666\n",
       "\t1989\n",
       "\t…\n",
       "\t1385\n",
       "\t382\n",
       "\t1032\n",
       "\t2846\n",
       "\t212976\n",
       "]"
      ]
     },
     "execution_count": 4,
     "metadata": {},
     "output_type": "execute_result"
    }
   ],
   "source": [
    "df.min_horizontal()"
   ]
  },
  {
   "cell_type": "code",
   "execution_count": 5,
   "id": "1c8d1e2c-bed8-435e-b42b-9db517daf7aa",
   "metadata": {},
   "outputs": [
    {
     "data": {
      "text/html": [
       "<div><style>\n",
       ".dataframe > thead > tr,\n",
       ".dataframe > tbody > tr {\n",
       "  text-align: right;\n",
       "  white-space: pre-wrap;\n",
       "}\n",
       "</style>\n",
       "<small>shape: (1,)</small><table border=\"1\" class=\"dataframe\"><thead><tr><th>min</th></tr><tr><td>i32</td></tr></thead><tbody><tr><td>0</td></tr></tbody></table></div>"
      ],
      "text/plain": [
       "shape: (1,)\n",
       "Series: 'min' [i32]\n",
       "[\n",
       "\t0\n",
       "]"
      ]
     },
     "execution_count": 5,
     "metadata": {},
     "output_type": "execute_result"
    }
   ],
   "source": [
    "from polars import col\n",
    "\n",
    "df.filter(col('views') == 549).min_horizontal()"
   ]
  },
  {
   "cell_type": "code",
   "execution_count": 6,
   "id": "aac1b6bb-4c1c-4356-9d42-8f6af003fea1",
   "metadata": {
    "tags": []
   },
   "outputs": [
    {
     "data": {
      "text/html": [
       "<div><style>\n",
       ".dataframe > thead > tr,\n",
       ".dataframe > tbody > tr {\n",
       "  text-align: right;\n",
       "  white-space: pre-wrap;\n",
       "}\n",
       "</style>\n",
       "<small>shape: (48_137,)</small><table border=\"1\" class=\"dataframe\"><thead><tr><th>max</th></tr><tr><td>i32</td></tr></thead><tbody><tr><td>748374</td></tr><tr><td>2418783</td></tr><tr><td>3191434</td></tr><tr><td>343168</td></tr><tr><td>2095731</td></tr><tr><td>&hellip;</td></tr><tr><td>1685609</td></tr><tr><td>1064798</td></tr><tr><td>1066451</td></tr><tr><td>5660813</td></tr><tr><td>10306119</td></tr></tbody></table></div>"
      ],
      "text/plain": [
       "shape: (48_137,)\n",
       "Series: 'max' [i32]\n",
       "[\n",
       "\t748374\n",
       "\t2418783\n",
       "\t3191434\n",
       "\t343168\n",
       "\t2095731\n",
       "\t…\n",
       "\t1685609\n",
       "\t1064798\n",
       "\t1066451\n",
       "\t5660813\n",
       "\t10306119\n",
       "]"
      ]
     },
     "execution_count": 6,
     "metadata": {},
     "output_type": "execute_result"
    }
   ],
   "source": [
    "df.max_horizontal()"
   ]
  },
  {
   "cell_type": "code",
   "execution_count": 7,
   "id": "b92d3117-72dd-49c8-bef4-f6cf194e036c",
   "metadata": {},
   "outputs": [
    {
     "data": {
      "text/html": [
       "<div><style>\n",
       ".dataframe > thead > tr,\n",
       ".dataframe > tbody > tr {\n",
       "  text-align: right;\n",
       "  white-space: pre-wrap;\n",
       "}\n",
       "</style>\n",
       "<small>shape: (1,)</small><table border=\"1\" class=\"dataframe\"><thead><tr><th>max</th></tr><tr><td>i32</td></tr></thead><tbody><tr><td>549</td></tr></tbody></table></div>"
      ],
      "text/plain": [
       "shape: (1,)\n",
       "Series: 'max' [i32]\n",
       "[\n",
       "\t549\n",
       "]"
      ]
     },
     "execution_count": 7,
     "metadata": {},
     "output_type": "execute_result"
    }
   ],
   "source": [
    "df.filter(col('views') == 549).max_horizontal()"
   ]
  },
  {
   "cell_type": "markdown",
   "id": "2205b343-5a1c-4696-89b2-e605121c19e9",
   "metadata": {},
   "source": [
    "### Media, mediana, varianza y desviación estándar"
   ]
  },
  {
   "cell_type": "markdown",
   "id": "077b58c6-4af6-483b-8d99-4a8f538b9ffb",
   "metadata": {},
   "source": [
    "- `mean`: Halla la media de las columnas.\n",
    "- `median`: Halla la mediana de las columnas.\n",
    "- `var`: Halla la varianza de las columnas.\n",
    "- `std`: Halla la varianza de las columnas."
   ]
  },
  {
   "cell_type": "code",
   "execution_count": 8,
   "id": "ae389d06-9af6-42bf-9d3b-478013fbe29e",
   "metadata": {
    "tags": []
   },
   "outputs": [
    {
     "data": {
      "text/html": [
       "<div><style>\n",
       ".dataframe > thead > tr,\n",
       ".dataframe > tbody > tr {\n",
       "  text-align: right;\n",
       "  white-space: pre-wrap;\n",
       "}\n",
       "</style>\n",
       "<small>shape: (1, 3)</small><table border=\"1\" class=\"dataframe\"><thead><tr><th>views</th><th>likes</th><th>dislikes</th></tr><tr><td>f64</td><td>f64</td><td>f64</td></tr></thead><tbody><tr><td>2.3608e6</td><td>74266.702435</td><td>3711.400889</td></tr></tbody></table></div>"
      ],
      "text/plain": [
       "shape: (1, 3)\n",
       "┌──────────┬──────────────┬─────────────┐\n",
       "│ views    ┆ likes        ┆ dislikes    │\n",
       "│ ---      ┆ ---          ┆ ---         │\n",
       "│ f64      ┆ f64          ┆ f64         │\n",
       "╞══════════╪══════════════╪═════════════╡\n",
       "│ 2.3608e6 ┆ 74266.702435 ┆ 3711.400889 │\n",
       "└──────────┴──────────────┴─────────────┘"
      ]
     },
     "execution_count": 8,
     "metadata": {},
     "output_type": "execute_result"
    }
   ],
   "source": [
    "df.mean()"
   ]
  },
  {
   "cell_type": "code",
   "execution_count": 9,
   "id": "7f5c1607-75b0-4499-867a-885f7321efbc",
   "metadata": {
    "tags": []
   },
   "outputs": [
    {
     "data": {
      "text/html": [
       "<div><style>\n",
       ".dataframe > thead > tr,\n",
       ".dataframe > tbody > tr {\n",
       "  text-align: right;\n",
       "  white-space: pre-wrap;\n",
       "}\n",
       "</style>\n",
       "<small>shape: (1, 3)</small><table border=\"1\" class=\"dataframe\"><thead><tr><th>views</th><th>likes</th><th>dislikes</th></tr><tr><td>f64</td><td>f64</td><td>f64</td></tr></thead><tbody><tr><td>681861.0</td><td>18091.0</td><td>631.0</td></tr></tbody></table></div>"
      ],
      "text/plain": [
       "shape: (1, 3)\n",
       "┌──────────┬─────────┬──────────┐\n",
       "│ views    ┆ likes   ┆ dislikes │\n",
       "│ ---      ┆ ---     ┆ ---      │\n",
       "│ f64      ┆ f64     ┆ f64      │\n",
       "╞══════════╪═════════╪══════════╡\n",
       "│ 681861.0 ┆ 18091.0 ┆ 631.0    │\n",
       "└──────────┴─────────┴──────────┘"
      ]
     },
     "execution_count": 9,
     "metadata": {},
     "output_type": "execute_result"
    }
   ],
   "source": [
    "df.median()"
   ]
  },
  {
   "cell_type": "code",
   "execution_count": 10,
   "id": "bb1b839a-43f1-4dbd-81ce-6641f171267b",
   "metadata": {
    "tags": []
   },
   "outputs": [
    {
     "data": {
      "text/html": [
       "<div><style>\n",
       ".dataframe > thead > tr,\n",
       ".dataframe > tbody > tr {\n",
       "  text-align: right;\n",
       "  white-space: pre-wrap;\n",
       "}\n",
       "</style>\n",
       "<small>shape: (1, 3)</small><table border=\"1\" class=\"dataframe\"><thead><tr><th>views</th><th>likes</th><th>dislikes</th></tr><tr><td>f64</td><td>f64</td><td>f64</td></tr></thead><tbody><tr><td>5.4673e13</td><td>5.2388e10</td><td>8.4272e8</td></tr></tbody></table></div>"
      ],
      "text/plain": [
       "shape: (1, 3)\n",
       "┌───────────┬───────────┬──────────┐\n",
       "│ views     ┆ likes     ┆ dislikes │\n",
       "│ ---       ┆ ---       ┆ ---      │\n",
       "│ f64       ┆ f64       ┆ f64      │\n",
       "╞═══════════╪═══════════╪══════════╡\n",
       "│ 5.4673e13 ┆ 5.2388e10 ┆ 8.4272e8 │\n",
       "└───────────┴───────────┴──────────┘"
      ]
     },
     "execution_count": 10,
     "metadata": {},
     "output_type": "execute_result"
    }
   ],
   "source": [
    "df.var()"
   ]
  },
  {
   "cell_type": "code",
   "execution_count": 11,
   "id": "adbc6100-cdad-4c73-9908-d0bc103e2d8d",
   "metadata": {
    "tags": []
   },
   "outputs": [
    {
     "data": {
      "text/html": [
       "<div><style>\n",
       ".dataframe > thead > tr,\n",
       ".dataframe > tbody > tr {\n",
       "  text-align: right;\n",
       "  white-space: pre-wrap;\n",
       "}\n",
       "</style>\n",
       "<small>shape: (1, 3)</small><table border=\"1\" class=\"dataframe\"><thead><tr><th>views</th><th>likes</th><th>dislikes</th></tr><tr><td>f64</td><td>f64</td><td>f64</td></tr></thead><tbody><tr><td>7.3941e6</td><td>228885.338209</td><td>29029.705945</td></tr></tbody></table></div>"
      ],
      "text/plain": [
       "shape: (1, 3)\n",
       "┌──────────┬───────────────┬──────────────┐\n",
       "│ views    ┆ likes         ┆ dislikes     │\n",
       "│ ---      ┆ ---           ┆ ---          │\n",
       "│ f64      ┆ f64           ┆ f64          │\n",
       "╞══════════╪═══════════════╪══════════════╡\n",
       "│ 7.3941e6 ┆ 228885.338209 ┆ 29029.705945 │\n",
       "└──────────┴───────────────┴──────────────┘"
      ]
     },
     "execution_count": 11,
     "metadata": {},
     "output_type": "execute_result"
    }
   ],
   "source": [
    "df.std()"
   ]
  },
  {
   "cell_type": "markdown",
   "id": "daf98343-90c3-493a-8948-e87f5ea1d953",
   "metadata": {},
   "source": [
    "### Producto\n",
    "\n",
    "La función `product` calcula el producto de las columnas del DataFrame. Para demostrar el funcionamiento de esta función vamos a crear primeramente un DataFrame más sencillo."
   ]
  },
  {
   "cell_type": "code",
   "execution_count": 12,
   "id": "1f7a4594-620c-4211-aa0c-8d46dd855d31",
   "metadata": {
    "tags": []
   },
   "outputs": [
    {
     "data": {
      "text/html": [
       "<div><style>\n",
       ".dataframe > thead > tr,\n",
       ".dataframe > tbody > tr {\n",
       "  text-align: right;\n",
       "  white-space: pre-wrap;\n",
       "}\n",
       "</style>\n",
       "<small>shape: (1, 2)</small><table border=\"1\" class=\"dataframe\"><thead><tr><th>int</th><th>float</th></tr><tr><td>i64</td><td>f64</td></tr></thead><tbody><tr><td>21</td><td>37.024</td></tr></tbody></table></div>"
      ],
      "text/plain": [
       "shape: (1, 2)\n",
       "┌─────┬────────┐\n",
       "│ int ┆ float  │\n",
       "│ --- ┆ ---    │\n",
       "│ i64 ┆ f64    │\n",
       "╞═════╪════════╡\n",
       "│ 21  ┆ 37.024 │\n",
       "└─────┴────────┘"
      ]
     },
     "execution_count": 12,
     "metadata": {},
     "output_type": "execute_result"
    }
   ],
   "source": [
    "df1 = pl.DataFrame(\n",
    "    {\n",
    "        'int': [3,1,7],\n",
    "        'float': [3.2, 8.9, 1.3]\n",
    "    }\n",
    ")\n",
    "\n",
    "\n",
    "df1.product()"
   ]
  },
  {
   "cell_type": "markdown",
   "id": "340a1f68-89b2-4676-90c3-8b03855bc8b5",
   "metadata": {
    "tags": []
   },
   "source": [
    "### Suma"
   ]
  },
  {
   "cell_type": "markdown",
   "id": "bb4e26af-a558-4cb8-a767-858e5e56a228",
   "metadata": {},
   "source": [
    "- `sum`: Suma los valores de las columnas.\n",
    "- `sum_horizontal`: Suma los valores de la filas."
   ]
  },
  {
   "cell_type": "code",
   "execution_count": 13,
   "id": "0cecfd48-1cb7-4b7f-8436-978c0255639c",
   "metadata": {
    "tags": []
   },
   "outputs": [
    {
     "data": {
      "text/html": [
       "<div><style>\n",
       ".dataframe > thead > tr,\n",
       ".dataframe > tbody > tr {\n",
       "  text-align: right;\n",
       "  white-space: pre-wrap;\n",
       "}\n",
       "</style>\n",
       "<small>shape: (1, 2)</small><table border=\"1\" class=\"dataframe\"><thead><tr><th>int</th><th>float</th></tr><tr><td>i64</td><td>f64</td></tr></thead><tbody><tr><td>11</td><td>13.4</td></tr></tbody></table></div>"
      ],
      "text/plain": [
       "shape: (1, 2)\n",
       "┌─────┬───────┐\n",
       "│ int ┆ float │\n",
       "│ --- ┆ ---   │\n",
       "│ i64 ┆ f64   │\n",
       "╞═════╪═══════╡\n",
       "│ 11  ┆ 13.4  │\n",
       "└─────┴───────┘"
      ]
     },
     "execution_count": 13,
     "metadata": {},
     "output_type": "execute_result"
    }
   ],
   "source": [
    "df1.sum()"
   ]
  },
  {
   "cell_type": "code",
   "execution_count": 14,
   "id": "ac9750d3-0106-4706-a52d-13775bf1775c",
   "metadata": {
    "tags": []
   },
   "outputs": [
    {
     "data": {
      "text/html": [
       "<div><style>\n",
       ".dataframe > thead > tr,\n",
       ".dataframe > tbody > tr {\n",
       "  text-align: right;\n",
       "  white-space: pre-wrap;\n",
       "}\n",
       "</style>\n",
       "<small>shape: (3,)</small><table border=\"1\" class=\"dataframe\"><thead><tr><th>sum</th></tr><tr><td>f64</td></tr></thead><tbody><tr><td>6.2</td></tr><tr><td>9.9</td></tr><tr><td>8.3</td></tr></tbody></table></div>"
      ],
      "text/plain": [
       "shape: (3,)\n",
       "Series: 'sum' [f64]\n",
       "[\n",
       "\t6.2\n",
       "\t9.9\n",
       "\t8.3\n",
       "]"
      ]
     },
     "execution_count": 14,
     "metadata": {},
     "output_type": "execute_result"
    }
   ],
   "source": [
    "df1.sum_horizontal()"
   ]
  }
 ],
 "metadata": {
  "kernelspec": {
   "display_name": "Python 3 (ipykernel)",
   "language": "python",
   "name": "python3"
  },
  "language_info": {
   "codemirror_mode": {
    "name": "ipython",
    "version": 3
   },
   "file_extension": ".py",
   "mimetype": "text/x-python",
   "name": "python",
   "nbconvert_exporter": "python",
   "pygments_lexer": "ipython3",
   "version": "3.9.6"
  }
 },
 "nbformat": 4,
 "nbformat_minor": 5
}
