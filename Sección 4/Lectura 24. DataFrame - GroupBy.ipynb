{
 "cells": [
  {
   "cell_type": "markdown",
   "id": "5859f678-c325-4f2c-98f6-9c9673965f6e",
   "metadata": {},
   "source": [
    "# Lectura 24: DataFrame - GroupBy"
   ]
  },
  {
   "cell_type": "code",
   "execution_count": null,
   "id": "8fe740f7-4283-46df-8e0d-cdf8b4c7b772",
   "metadata": {
    "tags": []
   },
   "outputs": [],
   "source": [
    "import polars as pl\n",
    "\n",
    "vuelos = pl.read_parquet('./data/', use_pyarrow=True)\n",
    "\n",
    "display(vuelos)"
   ]
  },
  {
   "cell_type": "markdown",
   "id": "bc8672b3-d275-4984-b9fd-d4ff5197c8ac",
   "metadata": {},
   "source": [
    "### Iterar sobre los grupos luego de un `group_by`"
   ]
  },
  {
   "cell_type": "markdown",
   "id": "d092ffa4-ac2d-4712-adac-8f7cd7f7b6dc",
   "metadata": {},
   "source": [
    "Cuando agrupamos podemos iterar sobre los grupos generados. Cada grupo es representado por una tupla del tipo (nombre, datos)."
   ]
  },
  {
   "cell_type": "code",
   "execution_count": null,
   "id": "1db58d15-6f3e-4493-bd57-8b9854205c27",
   "metadata": {
    "tags": []
   },
   "outputs": [],
   "source": [
    "for nombre, datos in vuelos.group_by('AIRLINE'):\n",
    "    print(nombre)\n",
    "    print(datos)"
   ]
  },
  {
   "cell_type": "markdown",
   "id": "8952829b-d2fd-4eab-8c13-e29cf84201aa",
   "metadata": {},
   "source": [
    "### Varias agregaciones"
   ]
  },
  {
   "cell_type": "markdown",
   "id": "a2b840dc-515a-42b6-a8af-aac43dbe49be",
   "metadata": {},
   "source": [
    "Para realizar agregaciones sobre un DataFrame primero debemos realizar un agrupado con la función `group_by` y luego utilizar la función `agg`."
   ]
  },
  {
   "cell_type": "code",
   "execution_count": null,
   "id": "4ce0a3ff-2f6a-44cb-ad6e-18cafd93e280",
   "metadata": {
    "tags": []
   },
   "outputs": [],
   "source": [
    "from polars import col\n",
    "\n",
    "vuelos.group_by('AIRLINE').agg(\n",
    "    col('DEPARTURE_DELAY').sum().alias('sum_retrasos')\n",
    ")"
   ]
  },
  {
   "cell_type": "markdown",
   "id": "04c0c88b-4bab-4aef-ac9a-3db80ca8280d",
   "metadata": {},
   "source": [
    "Calculemos varias agregaciones. Podemos usar `name.suffix` para agregar un sufijo e identificar las agregaciones."
   ]
  },
  {
   "cell_type": "code",
   "execution_count": null,
   "id": "53f12fb6-c336-4239-a04e-8a2558b17278",
   "metadata": {
    "tags": []
   },
   "outputs": [],
   "source": [
    "vuelos.group_by('AIRLINE').agg(\n",
    "    col('DEPARTURE_DELAY').sum().name.suffix('_SUM'),\n",
    "    col('AIR_TIME').mean().name.suffix('_MEAN')\n",
    ")"
   ]
  },
  {
   "cell_type": "markdown",
   "id": "21952603-6a8f-4cea-8c6c-a27ad6c5bed1",
   "metadata": {},
   "source": [
    "Podemos usar palabras claves para nombrar las agregaciones también."
   ]
  },
  {
   "cell_type": "code",
   "execution_count": null,
   "id": "d2bdfe10-b089-4d1e-b674-8b041c08fe59",
   "metadata": {
    "tags": []
   },
   "outputs": [],
   "source": [
    "vuelos.group_by('AIRLINE').agg(\n",
    "    media_retrasos=col('DEPARTURE_DELAY').mean(),\n",
    "    suma_tiempo_aire=pl.col('AIR_TIME').sum()\n",
    ")"
   ]
  },
  {
   "cell_type": "markdown",
   "id": "ca3ef43b-f976-4982-8bad-e4eb7981dcde",
   "metadata": {},
   "source": [
    "### Operaciones sobre grupos"
   ]
  },
  {
   "cell_type": "markdown",
   "id": "0cfd3035-3ddc-4dcf-915a-ca13b252d14f",
   "metadata": {},
   "source": [
    "#### Agregar los valores de los grupos en una Serie"
   ]
  },
  {
   "cell_type": "code",
   "execution_count": null,
   "id": "0a18bad7-84df-4df8-9a2c-0510b5775448",
   "metadata": {
    "tags": []
   },
   "outputs": [],
   "source": [
    "vuelos.group_by('AIRLINE').all()"
   ]
  },
  {
   "cell_type": "markdown",
   "id": "c42bc70f-5a53-4575-bd85-24b40656a0ee",
   "metadata": {},
   "source": [
    "#### Conteo del número de valores de cada grupo"
   ]
  },
  {
   "cell_type": "code",
   "execution_count": null,
   "id": "f9665c10-9a92-419c-9d54-ddf10a87788e",
   "metadata": {
    "tags": []
   },
   "outputs": [],
   "source": [
    "vuelos.group_by('AIRLINE').count()"
   ]
  },
  {
   "cell_type": "markdown",
   "id": "0f811457-7821-4280-9473-547def7b1275",
   "metadata": {},
   "source": [
    "#### Conteo del número de valores únicos de cada grupo"
   ]
  },
  {
   "cell_type": "code",
   "execution_count": null,
   "id": "b9363b2a-8ce9-4233-aae4-84af4e0bd23c",
   "metadata": {
    "tags": []
   },
   "outputs": [],
   "source": [
    "vuelos.group_by('AIRLINE').n_unique()"
   ]
  },
  {
   "cell_type": "markdown",
   "id": "33e70164-c615-4683-acc5-cd9accd3e63d",
   "metadata": {},
   "source": [
    "#### Obtener el primer y el último valor del grupo"
   ]
  },
  {
   "cell_type": "code",
   "execution_count": null,
   "id": "52990d68-3968-4c17-bc34-8b8e895eb335",
   "metadata": {
    "tags": []
   },
   "outputs": [],
   "source": [
    "vuelos.group_by('AIRLINE').first()\n",
    "\n",
    "vuelos.group_by('AIRLINE').last()"
   ]
  },
  {
   "cell_type": "markdown",
   "id": "44a5c9db-f75a-4e02-8f78-e4187432af9a",
   "metadata": {
    "tags": []
   },
   "source": [
    "#### Obtener las n primeras filas de cada grupo"
   ]
  },
  {
   "cell_type": "code",
   "execution_count": null,
   "id": "5d3bf9ac-e4f4-402a-ad3a-16c908164255",
   "metadata": {
    "tags": []
   },
   "outputs": [],
   "source": [
    "vuelos.group_by('AIRLINE').head(2)"
   ]
  },
  {
   "cell_type": "markdown",
   "id": "1b2f7bbe-1d9b-4d5f-b485-7d35ad32671a",
   "metadata": {
    "tags": []
   },
   "source": [
    "### Máximo, mínimo, suma, media y mediana de cada grupo"
   ]
  },
  {
   "cell_type": "markdown",
   "id": "3a4e0719-7278-4668-973d-52e49a2e6213",
   "metadata": {},
   "source": [
    "Las funciones `max`, `min`, `sum`, `mean` y `median` calculan el máximo, mínimo, suma, media y mediana respectivamente de cada grupo."
   ]
  },
  {
   "cell_type": "code",
   "execution_count": null,
   "id": "20651172-4096-442b-9420-e58f3cd67a0b",
   "metadata": {
    "tags": []
   },
   "outputs": [],
   "source": [
    "vuelos.group_by('AIRLINE').max()\n",
    "\n",
    "vuelos.group_by('AIRLINE').sum()\n",
    "\n",
    "vuelos.group_by('AIRLINE').mean()"
   ]
  }
 ],
 "metadata": {
  "kernelspec": {
   "display_name": "Python 3 (ipykernel)",
   "language": "python",
   "name": "python3"
  },
  "language_info": {
   "codemirror_mode": {
    "name": "ipython",
    "version": 3
   },
   "file_extension": ".py",
   "mimetype": "text/x-python",
   "name": "python",
   "nbconvert_exporter": "python",
   "pygments_lexer": "ipython3",
   "version": "3.9.6"
  }
 },
 "nbformat": 4,
 "nbformat_minor": 5
}
