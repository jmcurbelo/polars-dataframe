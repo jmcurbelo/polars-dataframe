{
 "cells": [
  {
   "cell_type": "markdown",
   "id": "5859f678-c325-4f2c-98f6-9c9673965f6e",
   "metadata": {},
   "source": [
    "# Lectura 24: DataFrame - GroupBy"
   ]
  },
  {
   "cell_type": "code",
   "execution_count": 1,
   "id": "8fe740f7-4283-46df-8e0d-cdf8b4c7b772",
   "metadata": {
    "tags": []
   },
   "outputs": [
    {
     "data": {
      "text/html": [
       "<div><style>\n",
       ".dataframe > thead > tr,\n",
       ".dataframe > tbody > tr {\n",
       "  text-align: right;\n",
       "  white-space: pre-wrap;\n",
       "}\n",
       "</style>\n",
       "<small>shape: (5_819_079, 31)</small><table border=\"1\" class=\"dataframe\"><thead><tr><th>YEAR</th><th>MONTH</th><th>DAY</th><th>DAY_OF_WEEK</th><th>AIRLINE</th><th>FLIGHT_NUMBER</th><th>TAIL_NUMBER</th><th>ORIGIN_AIRPORT</th><th>DESTINATION_AIRPORT</th><th>SCHEDULED_DEPARTURE</th><th>DEPARTURE_TIME</th><th>DEPARTURE_DELAY</th><th>TAXI_OUT</th><th>WHEELS_OFF</th><th>SCHEDULED_TIME</th><th>ELAPSED_TIME</th><th>AIR_TIME</th><th>DISTANCE</th><th>WHEELS_ON</th><th>TAXI_IN</th><th>SCHEDULED_ARRIVAL</th><th>ARRIVAL_TIME</th><th>ARRIVAL_DELAY</th><th>DIVERTED</th><th>CANCELLED</th><th>CANCELLATION_REASON</th><th>AIR_SYSTEM_DELAY</th><th>SECURITY_DELAY</th><th>AIRLINE_DELAY</th><th>LATE_AIRCRAFT_DELAY</th><th>WEATHER_DELAY</th></tr><tr><td>i32</td><td>i32</td><td>i32</td><td>i32</td><td>str</td><td>i32</td><td>str</td><td>str</td><td>str</td><td>i32</td><td>i32</td><td>i32</td><td>i32</td><td>i32</td><td>i32</td><td>i32</td><td>i32</td><td>i32</td><td>i32</td><td>i32</td><td>i32</td><td>i32</td><td>i32</td><td>i32</td><td>i32</td><td>str</td><td>i32</td><td>i32</td><td>i32</td><td>i32</td><td>i32</td></tr></thead><tbody><tr><td>2015</td><td>1</td><td>1</td><td>4</td><td>&quot;AS&quot;</td><td>98</td><td>&quot;N407AS&quot;</td><td>&quot;ANC&quot;</td><td>&quot;SEA&quot;</td><td>5</td><td>2354</td><td>-11</td><td>21</td><td>15</td><td>205</td><td>194</td><td>169</td><td>1448</td><td>404</td><td>4</td><td>430</td><td>408</td><td>-22</td><td>0</td><td>0</td><td>null</td><td>null</td><td>null</td><td>null</td><td>null</td><td>null</td></tr><tr><td>2015</td><td>1</td><td>1</td><td>4</td><td>&quot;AA&quot;</td><td>2336</td><td>&quot;N3KUAA&quot;</td><td>&quot;LAX&quot;</td><td>&quot;PBI&quot;</td><td>10</td><td>2</td><td>-8</td><td>12</td><td>14</td><td>280</td><td>279</td><td>263</td><td>2330</td><td>737</td><td>4</td><td>750</td><td>741</td><td>-9</td><td>0</td><td>0</td><td>null</td><td>null</td><td>null</td><td>null</td><td>null</td><td>null</td></tr><tr><td>2015</td><td>1</td><td>1</td><td>4</td><td>&quot;US&quot;</td><td>840</td><td>&quot;N171US&quot;</td><td>&quot;SFO&quot;</td><td>&quot;CLT&quot;</td><td>20</td><td>18</td><td>-2</td><td>16</td><td>34</td><td>286</td><td>293</td><td>266</td><td>2296</td><td>800</td><td>11</td><td>806</td><td>811</td><td>5</td><td>0</td><td>0</td><td>null</td><td>null</td><td>null</td><td>null</td><td>null</td><td>null</td></tr><tr><td>2015</td><td>1</td><td>1</td><td>4</td><td>&quot;AA&quot;</td><td>258</td><td>&quot;N3HYAA&quot;</td><td>&quot;LAX&quot;</td><td>&quot;MIA&quot;</td><td>20</td><td>15</td><td>-5</td><td>15</td><td>30</td><td>285</td><td>281</td><td>258</td><td>2342</td><td>748</td><td>8</td><td>805</td><td>756</td><td>-9</td><td>0</td><td>0</td><td>null</td><td>null</td><td>null</td><td>null</td><td>null</td><td>null</td></tr><tr><td>2015</td><td>1</td><td>1</td><td>4</td><td>&quot;AS&quot;</td><td>135</td><td>&quot;N527AS&quot;</td><td>&quot;SEA&quot;</td><td>&quot;ANC&quot;</td><td>25</td><td>24</td><td>-1</td><td>11</td><td>35</td><td>235</td><td>215</td><td>199</td><td>1448</td><td>254</td><td>5</td><td>320</td><td>259</td><td>-21</td><td>0</td><td>0</td><td>null</td><td>null</td><td>null</td><td>null</td><td>null</td><td>null</td></tr><tr><td>&hellip;</td><td>&hellip;</td><td>&hellip;</td><td>&hellip;</td><td>&hellip;</td><td>&hellip;</td><td>&hellip;</td><td>&hellip;</td><td>&hellip;</td><td>&hellip;</td><td>&hellip;</td><td>&hellip;</td><td>&hellip;</td><td>&hellip;</td><td>&hellip;</td><td>&hellip;</td><td>&hellip;</td><td>&hellip;</td><td>&hellip;</td><td>&hellip;</td><td>&hellip;</td><td>&hellip;</td><td>&hellip;</td><td>&hellip;</td><td>&hellip;</td><td>&hellip;</td><td>&hellip;</td><td>&hellip;</td><td>&hellip;</td><td>&hellip;</td><td>&hellip;</td></tr><tr><td>2015</td><td>12</td><td>31</td><td>4</td><td>&quot;B6&quot;</td><td>688</td><td>&quot;N657JB&quot;</td><td>&quot;LAX&quot;</td><td>&quot;BOS&quot;</td><td>2359</td><td>2355</td><td>-4</td><td>22</td><td>17</td><td>320</td><td>298</td><td>272</td><td>2611</td><td>749</td><td>4</td><td>819</td><td>753</td><td>-26</td><td>0</td><td>0</td><td>null</td><td>null</td><td>null</td><td>null</td><td>null</td><td>null</td></tr><tr><td>2015</td><td>12</td><td>31</td><td>4</td><td>&quot;B6&quot;</td><td>745</td><td>&quot;N828JB&quot;</td><td>&quot;JFK&quot;</td><td>&quot;PSE&quot;</td><td>2359</td><td>2355</td><td>-4</td><td>17</td><td>12</td><td>227</td><td>215</td><td>195</td><td>1617</td><td>427</td><td>3</td><td>446</td><td>430</td><td>-16</td><td>0</td><td>0</td><td>null</td><td>null</td><td>null</td><td>null</td><td>null</td><td>null</td></tr><tr><td>2015</td><td>12</td><td>31</td><td>4</td><td>&quot;B6&quot;</td><td>1503</td><td>&quot;N913JB&quot;</td><td>&quot;JFK&quot;</td><td>&quot;SJU&quot;</td><td>2359</td><td>2350</td><td>-9</td><td>17</td><td>7</td><td>221</td><td>222</td><td>197</td><td>1598</td><td>424</td><td>8</td><td>440</td><td>432</td><td>-8</td><td>0</td><td>0</td><td>null</td><td>null</td><td>null</td><td>null</td><td>null</td><td>null</td></tr><tr><td>2015</td><td>12</td><td>31</td><td>4</td><td>&quot;B6&quot;</td><td>333</td><td>&quot;N527JB&quot;</td><td>&quot;MCO&quot;</td><td>&quot;SJU&quot;</td><td>2359</td><td>2353</td><td>-6</td><td>10</td><td>3</td><td>161</td><td>157</td><td>144</td><td>1189</td><td>327</td><td>3</td><td>340</td><td>330</td><td>-10</td><td>0</td><td>0</td><td>null</td><td>null</td><td>null</td><td>null</td><td>null</td><td>null</td></tr><tr><td>2015</td><td>12</td><td>31</td><td>4</td><td>&quot;B6&quot;</td><td>839</td><td>&quot;N534JB&quot;</td><td>&quot;JFK&quot;</td><td>&quot;BQN&quot;</td><td>2359</td><td>14</td><td>15</td><td>14</td><td>28</td><td>221</td><td>208</td><td>189</td><td>1576</td><td>437</td><td>5</td><td>440</td><td>442</td><td>2</td><td>0</td><td>0</td><td>null</td><td>null</td><td>null</td><td>null</td><td>null</td><td>null</td></tr></tbody></table></div>"
      ],
      "text/plain": [
       "shape: (5_819_079, 31)\n",
       "┌──────┬───────┬─────┬─────────────┬───┬──────────────┬──────────────┬──────────────┬──────────────┐\n",
       "│ YEAR ┆ MONTH ┆ DAY ┆ DAY_OF_WEEK ┆ … ┆ SECURITY_DEL ┆ AIRLINE_DELA ┆ LATE_AIRCRAF ┆ WEATHER_DELA │\n",
       "│ ---  ┆ ---   ┆ --- ┆ ---         ┆   ┆ AY           ┆ Y            ┆ T_DELAY      ┆ Y            │\n",
       "│ i32  ┆ i32   ┆ i32 ┆ i32         ┆   ┆ ---          ┆ ---          ┆ ---          ┆ ---          │\n",
       "│      ┆       ┆     ┆             ┆   ┆ i32          ┆ i32          ┆ i32          ┆ i32          │\n",
       "╞══════╪═══════╪═════╪═════════════╪═══╪══════════════╪══════════════╪══════════════╪══════════════╡\n",
       "│ 2015 ┆ 1     ┆ 1   ┆ 4           ┆ … ┆ null         ┆ null         ┆ null         ┆ null         │\n",
       "│ 2015 ┆ 1     ┆ 1   ┆ 4           ┆ … ┆ null         ┆ null         ┆ null         ┆ null         │\n",
       "│ 2015 ┆ 1     ┆ 1   ┆ 4           ┆ … ┆ null         ┆ null         ┆ null         ┆ null         │\n",
       "│ 2015 ┆ 1     ┆ 1   ┆ 4           ┆ … ┆ null         ┆ null         ┆ null         ┆ null         │\n",
       "│ 2015 ┆ 1     ┆ 1   ┆ 4           ┆ … ┆ null         ┆ null         ┆ null         ┆ null         │\n",
       "│ …    ┆ …     ┆ …   ┆ …           ┆ … ┆ …            ┆ …            ┆ …            ┆ …            │\n",
       "│ 2015 ┆ 12    ┆ 31  ┆ 4           ┆ … ┆ null         ┆ null         ┆ null         ┆ null         │\n",
       "│ 2015 ┆ 12    ┆ 31  ┆ 4           ┆ … ┆ null         ┆ null         ┆ null         ┆ null         │\n",
       "│ 2015 ┆ 12    ┆ 31  ┆ 4           ┆ … ┆ null         ┆ null         ┆ null         ┆ null         │\n",
       "│ 2015 ┆ 12    ┆ 31  ┆ 4           ┆ … ┆ null         ┆ null         ┆ null         ┆ null         │\n",
       "│ 2015 ┆ 12    ┆ 31  ┆ 4           ┆ … ┆ null         ┆ null         ┆ null         ┆ null         │\n",
       "└──────┴───────┴─────┴─────────────┴───┴──────────────┴──────────────┴──────────────┴──────────────┘"
      ]
     },
     "metadata": {},
     "output_type": "display_data"
    }
   ],
   "source": [
    "import polars as pl\n",
    "\n",
    "vuelos = pl.read_parquet('./data/', use_pyarrow=True)\n",
    "\n",
    "display(vuelos)"
   ]
  },
  {
   "cell_type": "markdown",
   "id": "bc8672b3-d275-4984-b9fd-d4ff5197c8ac",
   "metadata": {},
   "source": [
    "### Iterar sobre los grupos luego de un `group_by`"
   ]
  },
  {
   "cell_type": "markdown",
   "id": "d092ffa4-ac2d-4712-adac-8f7cd7f7b6dc",
   "metadata": {},
   "source": [
    "Cuando agrupamos podemos iterar sobre los grupos generados. Cada grupo es representado por una tupla del tipo (nombre, datos)."
   ]
  },
  {
   "cell_type": "code",
   "execution_count": 2,
   "id": "1db58d15-6f3e-4493-bd57-8b9854205c27",
   "metadata": {
    "tags": []
   },
   "outputs": [
    {
     "name": "stderr",
     "output_type": "stream",
     "text": [
      "/var/folders/44/cd4ysnrs1zvgk8nff92w71lw0000gn/T/ipykernel_4569/448463142.py:1: DeprecationWarning: `group_by` iteration will change to always return group identifiers as tuples. Pass `by` as a list to silence this warning, e.g. `group_by(['AIRLINE'])`.\n",
      "  for nombre, datos in vuelos.group_by('AIRLINE'):\n"
     ]
    },
    {
     "name": "stdout",
     "output_type": "stream",
     "text": [
      "MQ\n",
      "shape: (294_632, 31)\n",
      "┌──────┬───────┬─────┬─────────────┬───┬──────────────┬──────────────┬──────────────┬──────────────┐\n",
      "│ YEAR ┆ MONTH ┆ DAY ┆ DAY_OF_WEEK ┆ … ┆ SECURITY_DEL ┆ AIRLINE_DELA ┆ LATE_AIRCRAF ┆ WEATHER_DELA │\n",
      "│ ---  ┆ ---   ┆ --- ┆ ---         ┆   ┆ AY           ┆ Y            ┆ T_DELAY      ┆ Y            │\n",
      "│ i32  ┆ i32   ┆ i32 ┆ i32         ┆   ┆ ---          ┆ ---          ┆ ---          ┆ ---          │\n",
      "│      ┆       ┆     ┆             ┆   ┆ i32          ┆ i32          ┆ i32          ┆ i32          │\n",
      "╞══════╪═══════╪═════╪═════════════╪═══╪══════════════╪══════════════╪══════════════╪══════════════╡\n",
      "│ 2015 ┆ 1     ┆ 1   ┆ 4           ┆ … ┆ null         ┆ null         ┆ null         ┆ null         │\n",
      "│ 2015 ┆ 1     ┆ 1   ┆ 4           ┆ … ┆ null         ┆ null         ┆ null         ┆ null         │\n",
      "│ 2015 ┆ 1     ┆ 1   ┆ 4           ┆ … ┆ null         ┆ null         ┆ null         ┆ null         │\n",
      "│ 2015 ┆ 1     ┆ 1   ┆ 4           ┆ … ┆ null         ┆ null         ┆ null         ┆ null         │\n",
      "│ 2015 ┆ 1     ┆ 1   ┆ 4           ┆ … ┆ null         ┆ null         ┆ null         ┆ null         │\n",
      "│ …    ┆ …     ┆ …   ┆ …           ┆ … ┆ …            ┆ …            ┆ …            ┆ …            │\n",
      "│ 2015 ┆ 12    ┆ 31  ┆ 4           ┆ … ┆ null         ┆ null         ┆ null         ┆ null         │\n",
      "│ 2015 ┆ 12    ┆ 31  ┆ 4           ┆ … ┆ null         ┆ null         ┆ null         ┆ null         │\n",
      "│ 2015 ┆ 12    ┆ 31  ┆ 4           ┆ … ┆ 0            ┆ 18           ┆ 0            ┆ 0            │\n",
      "│ 2015 ┆ 12    ┆ 31  ┆ 4           ┆ … ┆ null         ┆ null         ┆ null         ┆ null         │\n",
      "│ 2015 ┆ 12    ┆ 31  ┆ 4           ┆ … ┆ 0            ┆ 0            ┆ 31           ┆ 0            │\n",
      "└──────┴───────┴─────┴─────────────┴───┴──────────────┴──────────────┴──────────────┴──────────────┘\n",
      "NK\n",
      "shape: (117_379, 31)\n",
      "┌──────┬───────┬─────┬─────────────┬───┬──────────────┬──────────────┬──────────────┬──────────────┐\n",
      "│ YEAR ┆ MONTH ┆ DAY ┆ DAY_OF_WEEK ┆ … ┆ SECURITY_DEL ┆ AIRLINE_DELA ┆ LATE_AIRCRAF ┆ WEATHER_DELA │\n",
      "│ ---  ┆ ---   ┆ --- ┆ ---         ┆   ┆ AY           ┆ Y            ┆ T_DELAY      ┆ Y            │\n",
      "│ i32  ┆ i32   ┆ i32 ┆ i32         ┆   ┆ ---          ┆ ---          ┆ ---          ┆ ---          │\n",
      "│      ┆       ┆     ┆             ┆   ┆ i32          ┆ i32          ┆ i32          ┆ i32          │\n",
      "╞══════╪═══════╪═════╪═════════════╪═══╪══════════════╪══════════════╪══════════════╪══════════════╡\n",
      "│ 2015 ┆ 1     ┆ 1   ┆ 4           ┆ … ┆ null         ┆ null         ┆ null         ┆ null         │\n",
      "│ 2015 ┆ 1     ┆ 1   ┆ 4           ┆ … ┆ null         ┆ null         ┆ null         ┆ null         │\n",
      "│ 2015 ┆ 1     ┆ 1   ┆ 4           ┆ … ┆ null         ┆ null         ┆ null         ┆ null         │\n",
      "│ 2015 ┆ 1     ┆ 1   ┆ 4           ┆ … ┆ 0            ┆ 0            ┆ 0            ┆ 0            │\n",
      "│ 2015 ┆ 1     ┆ 1   ┆ 4           ┆ … ┆ 0            ┆ 0            ┆ 0            ┆ 0            │\n",
      "│ …    ┆ …     ┆ …   ┆ …           ┆ … ┆ …            ┆ …            ┆ …            ┆ …            │\n",
      "│ 2015 ┆ 12    ┆ 31  ┆ 4           ┆ … ┆ null         ┆ null         ┆ null         ┆ null         │\n",
      "│ 2015 ┆ 12    ┆ 31  ┆ 4           ┆ … ┆ null         ┆ null         ┆ null         ┆ null         │\n",
      "│ 2015 ┆ 12    ┆ 31  ┆ 4           ┆ … ┆ null         ┆ null         ┆ null         ┆ null         │\n",
      "│ 2015 ┆ 12    ┆ 31  ┆ 4           ┆ … ┆ null         ┆ null         ┆ null         ┆ null         │\n",
      "│ 2015 ┆ 12    ┆ 31  ┆ 4           ┆ … ┆ 0            ┆ 13           ┆ 0            ┆ 0            │\n",
      "└──────┴───────┴─────┴─────────────┴───┴──────────────┴──────────────┴──────────────┴──────────────┘\n",
      "B6\n",
      "shape: (267_048, 31)\n",
      "┌──────┬───────┬─────┬─────────────┬───┬──────────────┬──────────────┬──────────────┬──────────────┐\n",
      "│ YEAR ┆ MONTH ┆ DAY ┆ DAY_OF_WEEK ┆ … ┆ SECURITY_DEL ┆ AIRLINE_DELA ┆ LATE_AIRCRAF ┆ WEATHER_DELA │\n",
      "│ ---  ┆ ---   ┆ --- ┆ ---         ┆   ┆ AY           ┆ Y            ┆ T_DELAY      ┆ Y            │\n",
      "│ i32  ┆ i32   ┆ i32 ┆ i32         ┆   ┆ ---          ┆ ---          ┆ ---          ┆ ---          │\n",
      "│      ┆       ┆     ┆             ┆   ┆ i32          ┆ i32          ┆ i32          ┆ i32          │\n",
      "╞══════╪═══════╪═════╪═════════════╪═══╪══════════════╪══════════════╪══════════════╪══════════════╡\n",
      "│ 2015 ┆ 1     ┆ 1   ┆ 4           ┆ … ┆ null         ┆ null         ┆ null         ┆ null         │\n",
      "│ 2015 ┆ 1     ┆ 1   ┆ 4           ┆ … ┆ null         ┆ null         ┆ null         ┆ null         │\n",
      "│ 2015 ┆ 1     ┆ 1   ┆ 4           ┆ … ┆ null         ┆ null         ┆ null         ┆ null         │\n",
      "│ 2015 ┆ 1     ┆ 1   ┆ 4           ┆ … ┆ 0            ┆ 0            ┆ 0            ┆ 0            │\n",
      "│ 2015 ┆ 1     ┆ 1   ┆ 4           ┆ … ┆ null         ┆ null         ┆ null         ┆ null         │\n",
      "│ …    ┆ …     ┆ …   ┆ …           ┆ … ┆ …            ┆ …            ┆ …            ┆ …            │\n",
      "│ 2015 ┆ 12    ┆ 31  ┆ 4           ┆ … ┆ null         ┆ null         ┆ null         ┆ null         │\n",
      "│ 2015 ┆ 12    ┆ 31  ┆ 4           ┆ … ┆ null         ┆ null         ┆ null         ┆ null         │\n",
      "│ 2015 ┆ 12    ┆ 31  ┆ 4           ┆ … ┆ null         ┆ null         ┆ null         ┆ null         │\n",
      "│ 2015 ┆ 12    ┆ 31  ┆ 4           ┆ … ┆ null         ┆ null         ┆ null         ┆ null         │\n",
      "│ 2015 ┆ 12    ┆ 31  ┆ 4           ┆ … ┆ null         ┆ null         ┆ null         ┆ null         │\n",
      "└──────┴───────┴─────┴─────────────┴───┴──────────────┴──────────────┴──────────────┴──────────────┘\n",
      "EV\n",
      "shape: (571_977, 31)\n",
      "┌──────┬───────┬─────┬─────────────┬───┬──────────────┬──────────────┬──────────────┬──────────────┐\n",
      "│ YEAR ┆ MONTH ┆ DAY ┆ DAY_OF_WEEK ┆ … ┆ SECURITY_DEL ┆ AIRLINE_DELA ┆ LATE_AIRCRAF ┆ WEATHER_DELA │\n",
      "│ ---  ┆ ---   ┆ --- ┆ ---         ┆   ┆ AY           ┆ Y            ┆ T_DELAY      ┆ Y            │\n",
      "│ i32  ┆ i32   ┆ i32 ┆ i32         ┆   ┆ ---          ┆ ---          ┆ ---          ┆ ---          │\n",
      "│      ┆       ┆     ┆             ┆   ┆ i32          ┆ i32          ┆ i32          ┆ i32          │\n",
      "╞══════╪═══════╪═════╪═════════════╪═══╪══════════════╪══════════════╪══════════════╪══════════════╡\n",
      "│ 2015 ┆ 1     ┆ 1   ┆ 4           ┆ … ┆ null         ┆ null         ┆ null         ┆ null         │\n",
      "│ 2015 ┆ 1     ┆ 1   ┆ 4           ┆ … ┆ null         ┆ null         ┆ null         ┆ null         │\n",
      "│ 2015 ┆ 1     ┆ 1   ┆ 4           ┆ … ┆ null         ┆ null         ┆ null         ┆ null         │\n",
      "│ 2015 ┆ 1     ┆ 1   ┆ 4           ┆ … ┆ null         ┆ null         ┆ null         ┆ null         │\n",
      "│ 2015 ┆ 1     ┆ 1   ┆ 4           ┆ … ┆ null         ┆ null         ┆ null         ┆ null         │\n",
      "│ …    ┆ …     ┆ …   ┆ …           ┆ … ┆ …            ┆ …            ┆ …            ┆ …            │\n",
      "│ 2015 ┆ 12    ┆ 31  ┆ 4           ┆ … ┆ null         ┆ null         ┆ null         ┆ null         │\n",
      "│ 2015 ┆ 12    ┆ 31  ┆ 4           ┆ … ┆ 0            ┆ 86           ┆ 0            ┆ 0            │\n",
      "│ 2015 ┆ 12    ┆ 31  ┆ 4           ┆ … ┆ null         ┆ null         ┆ null         ┆ null         │\n",
      "│ 2015 ┆ 12    ┆ 31  ┆ 4           ┆ … ┆ null         ┆ null         ┆ null         ┆ null         │\n",
      "│ 2015 ┆ 12    ┆ 31  ┆ 4           ┆ … ┆ null         ┆ null         ┆ null         ┆ null         │\n",
      "└──────┴───────┴─────┴─────────────┴───┴──────────────┴──────────────┴──────────────┴──────────────┘\n",
      "OO\n",
      "shape: (588_353, 31)\n",
      "┌──────┬───────┬─────┬─────────────┬───┬──────────────┬──────────────┬──────────────┬──────────────┐\n",
      "│ YEAR ┆ MONTH ┆ DAY ┆ DAY_OF_WEEK ┆ … ┆ SECURITY_DEL ┆ AIRLINE_DELA ┆ LATE_AIRCRAF ┆ WEATHER_DELA │\n",
      "│ ---  ┆ ---   ┆ --- ┆ ---         ┆   ┆ AY           ┆ Y            ┆ T_DELAY      ┆ Y            │\n",
      "│ i32  ┆ i32   ┆ i32 ┆ i32         ┆   ┆ ---          ┆ ---          ┆ ---          ┆ ---          │\n",
      "│      ┆       ┆     ┆             ┆   ┆ i32          ┆ i32          ┆ i32          ┆ i32          │\n",
      "╞══════╪═══════╪═════╪═════════════╪═══╪══════════════╪══════════════╪══════════════╪══════════════╡\n",
      "│ 2015 ┆ 1     ┆ 1   ┆ 4           ┆ … ┆ null         ┆ null         ┆ null         ┆ null         │\n",
      "│ 2015 ┆ 1     ┆ 1   ┆ 4           ┆ … ┆ null         ┆ null         ┆ null         ┆ null         │\n",
      "│ 2015 ┆ 1     ┆ 1   ┆ 4           ┆ … ┆ null         ┆ null         ┆ null         ┆ null         │\n",
      "│ 2015 ┆ 1     ┆ 1   ┆ 4           ┆ … ┆ null         ┆ null         ┆ null         ┆ null         │\n",
      "│ 2015 ┆ 1     ┆ 1   ┆ 4           ┆ … ┆ null         ┆ null         ┆ null         ┆ null         │\n",
      "│ …    ┆ …     ┆ …   ┆ …           ┆ … ┆ …            ┆ …            ┆ …            ┆ …            │\n",
      "│ 2015 ┆ 12    ┆ 31  ┆ 4           ┆ … ┆ null         ┆ null         ┆ null         ┆ null         │\n",
      "│ 2015 ┆ 12    ┆ 31  ┆ 4           ┆ … ┆ null         ┆ null         ┆ null         ┆ null         │\n",
      "│ 2015 ┆ 12    ┆ 31  ┆ 4           ┆ … ┆ null         ┆ null         ┆ null         ┆ null         │\n",
      "│ 2015 ┆ 12    ┆ 31  ┆ 4           ┆ … ┆ null         ┆ null         ┆ null         ┆ null         │\n",
      "│ 2015 ┆ 12    ┆ 31  ┆ 4           ┆ … ┆ null         ┆ null         ┆ null         ┆ null         │\n",
      "└──────┴───────┴─────┴─────────────┴───┴──────────────┴──────────────┴──────────────┴──────────────┘\n",
      "US\n",
      "shape: (198_715, 31)\n",
      "┌──────┬───────┬─────┬─────────────┬───┬──────────────┬──────────────┬──────────────┬──────────────┐\n",
      "│ YEAR ┆ MONTH ┆ DAY ┆ DAY_OF_WEEK ┆ … ┆ SECURITY_DEL ┆ AIRLINE_DELA ┆ LATE_AIRCRAF ┆ WEATHER_DELA │\n",
      "│ ---  ┆ ---   ┆ --- ┆ ---         ┆   ┆ AY           ┆ Y            ┆ T_DELAY      ┆ Y            │\n",
      "│ i32  ┆ i32   ┆ i32 ┆ i32         ┆   ┆ ---          ┆ ---          ┆ ---          ┆ ---          │\n",
      "│      ┆       ┆     ┆             ┆   ┆ i32          ┆ i32          ┆ i32          ┆ i32          │\n",
      "╞══════╪═══════╪═════╪═════════════╪═══╪══════════════╪══════════════╪══════════════╪══════════════╡\n",
      "│ 2015 ┆ 1     ┆ 1   ┆ 4           ┆ … ┆ null         ┆ null         ┆ null         ┆ null         │\n",
      "│ 2015 ┆ 1     ┆ 1   ┆ 4           ┆ … ┆ null         ┆ null         ┆ null         ┆ null         │\n",
      "│ 2015 ┆ 1     ┆ 1   ┆ 4           ┆ … ┆ null         ┆ null         ┆ null         ┆ null         │\n",
      "│ 2015 ┆ 1     ┆ 1   ┆ 4           ┆ … ┆ null         ┆ null         ┆ null         ┆ null         │\n",
      "│ 2015 ┆ 1     ┆ 1   ┆ 4           ┆ … ┆ null         ┆ null         ┆ null         ┆ null         │\n",
      "│ …    ┆ …     ┆ …   ┆ …           ┆ … ┆ …            ┆ …            ┆ …            ┆ …            │\n",
      "│ 2015 ┆ 6     ┆ 30  ┆ 2           ┆ … ┆ null         ┆ null         ┆ null         ┆ null         │\n",
      "│ 2015 ┆ 6     ┆ 30  ┆ 2           ┆ … ┆ 0            ┆ 12           ┆ 0            ┆ 0            │\n",
      "│ 2015 ┆ 6     ┆ 30  ┆ 2           ┆ … ┆ null         ┆ null         ┆ null         ┆ null         │\n",
      "│ 2015 ┆ 6     ┆ 30  ┆ 2           ┆ … ┆ 0            ┆ 3            ┆ 6            ┆ 0            │\n",
      "│ 2015 ┆ 6     ┆ 30  ┆ 2           ┆ … ┆ 0            ┆ 7            ┆ 0            ┆ 0            │\n",
      "└──────┴───────┴─────┴─────────────┴───┴──────────────┴──────────────┴──────────────┴──────────────┘\n",
      "AA\n",
      "shape: (725_984, 31)\n",
      "┌──────┬───────┬─────┬─────────────┬───┬──────────────┬──────────────┬──────────────┬──────────────┐\n",
      "│ YEAR ┆ MONTH ┆ DAY ┆ DAY_OF_WEEK ┆ … ┆ SECURITY_DEL ┆ AIRLINE_DELA ┆ LATE_AIRCRAF ┆ WEATHER_DELA │\n",
      "│ ---  ┆ ---   ┆ --- ┆ ---         ┆   ┆ AY           ┆ Y            ┆ T_DELAY      ┆ Y            │\n",
      "│ i32  ┆ i32   ┆ i32 ┆ i32         ┆   ┆ ---          ┆ ---          ┆ ---          ┆ ---          │\n",
      "│      ┆       ┆     ┆             ┆   ┆ i32          ┆ i32          ┆ i32          ┆ i32          │\n",
      "╞══════╪═══════╪═════╪═════════════╪═══╪══════════════╪══════════════╪══════════════╪══════════════╡\n",
      "│ 2015 ┆ 1     ┆ 1   ┆ 4           ┆ … ┆ null         ┆ null         ┆ null         ┆ null         │\n",
      "│ 2015 ┆ 1     ┆ 1   ┆ 4           ┆ … ┆ null         ┆ null         ┆ null         ┆ null         │\n",
      "│ 2015 ┆ 1     ┆ 1   ┆ 4           ┆ … ┆ null         ┆ null         ┆ null         ┆ null         │\n",
      "│ 2015 ┆ 1     ┆ 1   ┆ 4           ┆ … ┆ null         ┆ null         ┆ null         ┆ null         │\n",
      "│ 2015 ┆ 1     ┆ 1   ┆ 4           ┆ … ┆ null         ┆ null         ┆ null         ┆ null         │\n",
      "│ …    ┆ …     ┆ …   ┆ …           ┆ … ┆ …            ┆ …            ┆ …            ┆ …            │\n",
      "│ 2015 ┆ 12    ┆ 31  ┆ 4           ┆ … ┆ null         ┆ null         ┆ null         ┆ null         │\n",
      "│ 2015 ┆ 12    ┆ 31  ┆ 4           ┆ … ┆ null         ┆ null         ┆ null         ┆ null         │\n",
      "│ 2015 ┆ 12    ┆ 31  ┆ 4           ┆ … ┆ null         ┆ null         ┆ null         ┆ null         │\n",
      "│ 2015 ┆ 12    ┆ 31  ┆ 4           ┆ … ┆ null         ┆ null         ┆ null         ┆ null         │\n",
      "│ 2015 ┆ 12    ┆ 31  ┆ 4           ┆ … ┆ null         ┆ null         ┆ null         ┆ null         │\n",
      "└──────┴───────┴─────┴─────────────┴───┴──────────────┴──────────────┴──────────────┴──────────────┘\n",
      "VX\n",
      "shape: (61_903, 31)\n",
      "┌──────┬───────┬─────┬─────────────┬───┬──────────────┬──────────────┬──────────────┬──────────────┐\n",
      "│ YEAR ┆ MONTH ┆ DAY ┆ DAY_OF_WEEK ┆ … ┆ SECURITY_DEL ┆ AIRLINE_DELA ┆ LATE_AIRCRAF ┆ WEATHER_DELA │\n",
      "│ ---  ┆ ---   ┆ --- ┆ ---         ┆   ┆ AY           ┆ Y            ┆ T_DELAY      ┆ Y            │\n",
      "│ i32  ┆ i32   ┆ i32 ┆ i32         ┆   ┆ ---          ┆ ---          ┆ ---          ┆ ---          │\n",
      "│      ┆       ┆     ┆             ┆   ┆ i32          ┆ i32          ┆ i32          ┆ i32          │\n",
      "╞══════╪═══════╪═════╪═════════════╪═══╪══════════════╪══════════════╪══════════════╪══════════════╡\n",
      "│ 2015 ┆ 1     ┆ 1   ┆ 4           ┆ … ┆ null         ┆ null         ┆ null         ┆ null         │\n",
      "│ 2015 ┆ 1     ┆ 1   ┆ 4           ┆ … ┆ null         ┆ null         ┆ null         ┆ null         │\n",
      "│ 2015 ┆ 1     ┆ 1   ┆ 4           ┆ … ┆ null         ┆ null         ┆ null         ┆ null         │\n",
      "│ 2015 ┆ 1     ┆ 1   ┆ 4           ┆ … ┆ null         ┆ null         ┆ null         ┆ null         │\n",
      "│ 2015 ┆ 1     ┆ 1   ┆ 4           ┆ … ┆ null         ┆ null         ┆ null         ┆ null         │\n",
      "│ …    ┆ …     ┆ …   ┆ …           ┆ … ┆ …            ┆ …            ┆ …            ┆ …            │\n",
      "│ 2015 ┆ 12    ┆ 31  ┆ 4           ┆ … ┆ null         ┆ null         ┆ null         ┆ null         │\n",
      "│ 2015 ┆ 12    ┆ 31  ┆ 4           ┆ … ┆ null         ┆ null         ┆ null         ┆ null         │\n",
      "│ 2015 ┆ 12    ┆ 31  ┆ 4           ┆ … ┆ null         ┆ null         ┆ null         ┆ null         │\n",
      "│ 2015 ┆ 12    ┆ 31  ┆ 4           ┆ … ┆ null         ┆ null         ┆ null         ┆ null         │\n",
      "│ 2015 ┆ 12    ┆ 31  ┆ 4           ┆ … ┆ null         ┆ null         ┆ null         ┆ null         │\n",
      "└──────┴───────┴─────┴─────────────┴───┴──────────────┴──────────────┴──────────────┴──────────────┘\n",
      "DL\n",
      "shape: (875_881, 31)\n",
      "┌──────┬───────┬─────┬─────────────┬───┬──────────────┬──────────────┬──────────────┬──────────────┐\n",
      "│ YEAR ┆ MONTH ┆ DAY ┆ DAY_OF_WEEK ┆ … ┆ SECURITY_DEL ┆ AIRLINE_DELA ┆ LATE_AIRCRAF ┆ WEATHER_DELA │\n",
      "│ ---  ┆ ---   ┆ --- ┆ ---         ┆   ┆ AY           ┆ Y            ┆ T_DELAY      ┆ Y            │\n",
      "│ i32  ┆ i32   ┆ i32 ┆ i32         ┆   ┆ ---          ┆ ---          ┆ ---          ┆ ---          │\n",
      "│      ┆       ┆     ┆             ┆   ┆ i32          ┆ i32          ┆ i32          ┆ i32          │\n",
      "╞══════╪═══════╪═════╪═════════════╪═══╪══════════════╪══════════════╪══════════════╪══════════════╡\n",
      "│ 2015 ┆ 1     ┆ 1   ┆ 4           ┆ … ┆ null         ┆ null         ┆ null         ┆ null         │\n",
      "│ 2015 ┆ 1     ┆ 1   ┆ 4           ┆ … ┆ null         ┆ null         ┆ null         ┆ null         │\n",
      "│ 2015 ┆ 1     ┆ 1   ┆ 4           ┆ … ┆ null         ┆ null         ┆ null         ┆ null         │\n",
      "│ 2015 ┆ 1     ┆ 1   ┆ 4           ┆ … ┆ null         ┆ null         ┆ null         ┆ null         │\n",
      "│ 2015 ┆ 1     ┆ 1   ┆ 4           ┆ … ┆ null         ┆ null         ┆ null         ┆ null         │\n",
      "│ …    ┆ …     ┆ …   ┆ …           ┆ … ┆ …            ┆ …            ┆ …            ┆ …            │\n",
      "│ 2015 ┆ 12    ┆ 31  ┆ 4           ┆ … ┆ null         ┆ null         ┆ null         ┆ null         │\n",
      "│ 2015 ┆ 12    ┆ 31  ┆ 4           ┆ … ┆ null         ┆ null         ┆ null         ┆ null         │\n",
      "│ 2015 ┆ 12    ┆ 31  ┆ 4           ┆ … ┆ null         ┆ null         ┆ null         ┆ null         │\n",
      "│ 2015 ┆ 12    ┆ 31  ┆ 4           ┆ … ┆ null         ┆ null         ┆ null         ┆ null         │\n",
      "│ 2015 ┆ 12    ┆ 31  ┆ 4           ┆ … ┆ null         ┆ null         ┆ null         ┆ null         │\n",
      "└──────┴───────┴─────┴─────────────┴───┴──────────────┴──────────────┴──────────────┴──────────────┘\n",
      "UA\n",
      "shape: (515_723, 31)\n",
      "┌──────┬───────┬─────┬─────────────┬───┬──────────────┬──────────────┬──────────────┬──────────────┐\n",
      "│ YEAR ┆ MONTH ┆ DAY ┆ DAY_OF_WEEK ┆ … ┆ SECURITY_DEL ┆ AIRLINE_DELA ┆ LATE_AIRCRAF ┆ WEATHER_DELA │\n",
      "│ ---  ┆ ---   ┆ --- ┆ ---         ┆   ┆ AY           ┆ Y            ┆ T_DELAY      ┆ Y            │\n",
      "│ i32  ┆ i32   ┆ i32 ┆ i32         ┆   ┆ ---          ┆ ---          ┆ ---          ┆ ---          │\n",
      "│      ┆       ┆     ┆             ┆   ┆ i32          ┆ i32          ┆ i32          ┆ i32          │\n",
      "╞══════╪═══════╪═════╪═════════════╪═══╪══════════════╪══════════════╪══════════════╪══════════════╡\n",
      "│ 2015 ┆ 1     ┆ 1   ┆ 4           ┆ … ┆ null         ┆ null         ┆ null         ┆ null         │\n",
      "│ 2015 ┆ 1     ┆ 1   ┆ 4           ┆ … ┆ null         ┆ null         ┆ null         ┆ null         │\n",
      "│ 2015 ┆ 1     ┆ 1   ┆ 4           ┆ … ┆ null         ┆ null         ┆ null         ┆ null         │\n",
      "│ 2015 ┆ 1     ┆ 1   ┆ 4           ┆ … ┆ null         ┆ null         ┆ null         ┆ null         │\n",
      "│ 2015 ┆ 1     ┆ 1   ┆ 4           ┆ … ┆ null         ┆ null         ┆ null         ┆ null         │\n",
      "│ …    ┆ …     ┆ …   ┆ …           ┆ … ┆ …            ┆ …            ┆ …            ┆ …            │\n",
      "│ 2015 ┆ 12    ┆ 31  ┆ 4           ┆ … ┆ null         ┆ null         ┆ null         ┆ null         │\n",
      "│ 2015 ┆ 12    ┆ 31  ┆ 4           ┆ … ┆ null         ┆ null         ┆ null         ┆ null         │\n",
      "│ 2015 ┆ 12    ┆ 31  ┆ 4           ┆ … ┆ null         ┆ null         ┆ null         ┆ null         │\n",
      "│ 2015 ┆ 12    ┆ 31  ┆ 4           ┆ … ┆ null         ┆ null         ┆ null         ┆ null         │\n",
      "│ 2015 ┆ 12    ┆ 31  ┆ 4           ┆ … ┆ null         ┆ null         ┆ null         ┆ null         │\n",
      "└──────┴───────┴─────┴─────────────┴───┴──────────────┴──────────────┴──────────────┴──────────────┘\n",
      "AS\n",
      "shape: (172_521, 31)\n",
      "┌──────┬───────┬─────┬─────────────┬───┬──────────────┬──────────────┬──────────────┬──────────────┐\n",
      "│ YEAR ┆ MONTH ┆ DAY ┆ DAY_OF_WEEK ┆ … ┆ SECURITY_DEL ┆ AIRLINE_DELA ┆ LATE_AIRCRAF ┆ WEATHER_DELA │\n",
      "│ ---  ┆ ---   ┆ --- ┆ ---         ┆   ┆ AY           ┆ Y            ┆ T_DELAY      ┆ Y            │\n",
      "│ i32  ┆ i32   ┆ i32 ┆ i32         ┆   ┆ ---          ┆ ---          ┆ ---          ┆ ---          │\n",
      "│      ┆       ┆     ┆             ┆   ┆ i32          ┆ i32          ┆ i32          ┆ i32          │\n",
      "╞══════╪═══════╪═════╪═════════════╪═══╪══════════════╪══════════════╪══════════════╪══════════════╡\n",
      "│ 2015 ┆ 1     ┆ 1   ┆ 4           ┆ … ┆ null         ┆ null         ┆ null         ┆ null         │\n",
      "│ 2015 ┆ 1     ┆ 1   ┆ 4           ┆ … ┆ null         ┆ null         ┆ null         ┆ null         │\n",
      "│ 2015 ┆ 1     ┆ 1   ┆ 4           ┆ … ┆ null         ┆ null         ┆ null         ┆ null         │\n",
      "│ 2015 ┆ 1     ┆ 1   ┆ 4           ┆ … ┆ null         ┆ null         ┆ null         ┆ null         │\n",
      "│ 2015 ┆ 1     ┆ 1   ┆ 4           ┆ … ┆ null         ┆ null         ┆ null         ┆ null         │\n",
      "│ …    ┆ …     ┆ …   ┆ …           ┆ … ┆ …            ┆ …            ┆ …            ┆ …            │\n",
      "│ 2015 ┆ 12    ┆ 31  ┆ 4           ┆ … ┆ null         ┆ null         ┆ null         ┆ null         │\n",
      "│ 2015 ┆ 12    ┆ 31  ┆ 4           ┆ … ┆ null         ┆ null         ┆ null         ┆ null         │\n",
      "│ 2015 ┆ 12    ┆ 31  ┆ 4           ┆ … ┆ null         ┆ null         ┆ null         ┆ null         │\n",
      "│ 2015 ┆ 12    ┆ 31  ┆ 4           ┆ … ┆ null         ┆ null         ┆ null         ┆ null         │\n",
      "│ 2015 ┆ 12    ┆ 31  ┆ 4           ┆ … ┆ null         ┆ null         ┆ null         ┆ null         │\n",
      "└──────┴───────┴─────┴─────────────┴───┴──────────────┴──────────────┴──────────────┴──────────────┘\n",
      "F9\n",
      "shape: (90_836, 31)\n",
      "┌──────┬───────┬─────┬─────────────┬───┬──────────────┬──────────────┬──────────────┬──────────────┐\n",
      "│ YEAR ┆ MONTH ┆ DAY ┆ DAY_OF_WEEK ┆ … ┆ SECURITY_DEL ┆ AIRLINE_DELA ┆ LATE_AIRCRAF ┆ WEATHER_DELA │\n",
      "│ ---  ┆ ---   ┆ --- ┆ ---         ┆   ┆ AY           ┆ Y            ┆ T_DELAY      ┆ Y            │\n",
      "│ i32  ┆ i32   ┆ i32 ┆ i32         ┆   ┆ ---          ┆ ---          ┆ ---          ┆ ---          │\n",
      "│      ┆       ┆     ┆             ┆   ┆ i32          ┆ i32          ┆ i32          ┆ i32          │\n",
      "╞══════╪═══════╪═════╪═════════════╪═══╪══════════════╪══════════════╪══════════════╪══════════════╡\n",
      "│ 2015 ┆ 1     ┆ 1   ┆ 4           ┆ … ┆ null         ┆ null         ┆ null         ┆ null         │\n",
      "│ 2015 ┆ 1     ┆ 1   ┆ 4           ┆ … ┆ null         ┆ null         ┆ null         ┆ null         │\n",
      "│ 2015 ┆ 1     ┆ 1   ┆ 4           ┆ … ┆ 0            ┆ 17           ┆ 0            ┆ 0            │\n",
      "│ 2015 ┆ 1     ┆ 1   ┆ 4           ┆ … ┆ null         ┆ null         ┆ null         ┆ null         │\n",
      "│ 2015 ┆ 1     ┆ 1   ┆ 4           ┆ … ┆ null         ┆ null         ┆ null         ┆ null         │\n",
      "│ …    ┆ …     ┆ …   ┆ …           ┆ … ┆ …            ┆ …            ┆ …            ┆ …            │\n",
      "│ 2015 ┆ 12    ┆ 31  ┆ 4           ┆ … ┆ null         ┆ null         ┆ null         ┆ null         │\n",
      "│ 2015 ┆ 12    ┆ 31  ┆ 4           ┆ … ┆ null         ┆ null         ┆ null         ┆ null         │\n",
      "│ 2015 ┆ 12    ┆ 31  ┆ 4           ┆ … ┆ null         ┆ null         ┆ null         ┆ null         │\n",
      "│ 2015 ┆ 12    ┆ 31  ┆ 4           ┆ … ┆ null         ┆ null         ┆ null         ┆ null         │\n",
      "│ 2015 ┆ 12    ┆ 31  ┆ 4           ┆ … ┆ null         ┆ null         ┆ null         ┆ null         │\n",
      "└──────┴───────┴─────┴─────────────┴───┴──────────────┴──────────────┴──────────────┴──────────────┘\n",
      "WN\n",
      "shape: (1_261_855, 31)\n",
      "┌──────┬───────┬─────┬─────────────┬───┬──────────────┬──────────────┬──────────────┬──────────────┐\n",
      "│ YEAR ┆ MONTH ┆ DAY ┆ DAY_OF_WEEK ┆ … ┆ SECURITY_DEL ┆ AIRLINE_DELA ┆ LATE_AIRCRAF ┆ WEATHER_DELA │\n",
      "│ ---  ┆ ---   ┆ --- ┆ ---         ┆   ┆ AY           ┆ Y            ┆ T_DELAY      ┆ Y            │\n",
      "│ i32  ┆ i32   ┆ i32 ┆ i32         ┆   ┆ ---          ┆ ---          ┆ ---          ┆ ---          │\n",
      "│      ┆       ┆     ┆             ┆   ┆ i32          ┆ i32          ┆ i32          ┆ i32          │\n",
      "╞══════╪═══════╪═════╪═════════════╪═══╪══════════════╪══════════════╪══════════════╪══════════════╡\n",
      "│ 2015 ┆ 1     ┆ 1   ┆ 4           ┆ … ┆ null         ┆ null         ┆ null         ┆ null         │\n",
      "│ 2015 ┆ 1     ┆ 1   ┆ 4           ┆ … ┆ null         ┆ null         ┆ null         ┆ null         │\n",
      "│ 2015 ┆ 1     ┆ 1   ┆ 4           ┆ … ┆ null         ┆ null         ┆ null         ┆ null         │\n",
      "│ 2015 ┆ 1     ┆ 1   ┆ 4           ┆ … ┆ 0            ┆ 7            ┆ 0            ┆ 0            │\n",
      "│ 2015 ┆ 1     ┆ 1   ┆ 4           ┆ … ┆ null         ┆ null         ┆ null         ┆ null         │\n",
      "│ …    ┆ …     ┆ …   ┆ …           ┆ … ┆ …            ┆ …            ┆ …            ┆ …            │\n",
      "│ 2015 ┆ 12    ┆ 31  ┆ 4           ┆ … ┆ null         ┆ null         ┆ null         ┆ null         │\n",
      "│ 2015 ┆ 12    ┆ 31  ┆ 4           ┆ … ┆ null         ┆ null         ┆ null         ┆ null         │\n",
      "│ 2015 ┆ 12    ┆ 31  ┆ 4           ┆ … ┆ null         ┆ null         ┆ null         ┆ null         │\n",
      "│ 2015 ┆ 12    ┆ 31  ┆ 4           ┆ … ┆ null         ┆ null         ┆ null         ┆ null         │\n",
      "│ 2015 ┆ 12    ┆ 31  ┆ 4           ┆ … ┆ null         ┆ null         ┆ null         ┆ null         │\n",
      "└──────┴───────┴─────┴─────────────┴───┴──────────────┴──────────────┴──────────────┴──────────────┘\n",
      "HA\n",
      "shape: (76_272, 31)\n",
      "┌──────┬───────┬─────┬─────────────┬───┬──────────────┬──────────────┬──────────────┬──────────────┐\n",
      "│ YEAR ┆ MONTH ┆ DAY ┆ DAY_OF_WEEK ┆ … ┆ SECURITY_DEL ┆ AIRLINE_DELA ┆ LATE_AIRCRAF ┆ WEATHER_DELA │\n",
      "│ ---  ┆ ---   ┆ --- ┆ ---         ┆   ┆ AY           ┆ Y            ┆ T_DELAY      ┆ Y            │\n",
      "│ i32  ┆ i32   ┆ i32 ┆ i32         ┆   ┆ ---          ┆ ---          ┆ ---          ┆ ---          │\n",
      "│      ┆       ┆     ┆             ┆   ┆ i32          ┆ i32          ┆ i32          ┆ i32          │\n",
      "╞══════╪═══════╪═════╪═════════════╪═══╪══════════════╪══════════════╪══════════════╪══════════════╡\n",
      "│ 2015 ┆ 1     ┆ 1   ┆ 4           ┆ … ┆ 0            ┆ 15           ┆ 0            ┆ 0            │\n",
      "│ 2015 ┆ 1     ┆ 1   ┆ 4           ┆ … ┆ null         ┆ null         ┆ null         ┆ null         │\n",
      "│ 2015 ┆ 1     ┆ 1   ┆ 4           ┆ … ┆ null         ┆ null         ┆ null         ┆ null         │\n",
      "│ 2015 ┆ 1     ┆ 1   ┆ 4           ┆ … ┆ null         ┆ null         ┆ null         ┆ null         │\n",
      "│ 2015 ┆ 1     ┆ 1   ┆ 4           ┆ … ┆ null         ┆ null         ┆ null         ┆ null         │\n",
      "│ …    ┆ …     ┆ …   ┆ …           ┆ … ┆ …            ┆ …            ┆ …            ┆ …            │\n",
      "│ 2015 ┆ 12    ┆ 31  ┆ 4           ┆ … ┆ null         ┆ null         ┆ null         ┆ null         │\n",
      "│ 2015 ┆ 12    ┆ 31  ┆ 4           ┆ … ┆ null         ┆ null         ┆ null         ┆ null         │\n",
      "│ 2015 ┆ 12    ┆ 31  ┆ 4           ┆ … ┆ null         ┆ null         ┆ null         ┆ null         │\n",
      "│ 2015 ┆ 12    ┆ 31  ┆ 4           ┆ … ┆ null         ┆ null         ┆ null         ┆ null         │\n",
      "│ 2015 ┆ 12    ┆ 31  ┆ 4           ┆ … ┆ null         ┆ null         ┆ null         ┆ null         │\n",
      "└──────┴───────┴─────┴─────────────┴───┴──────────────┴──────────────┴──────────────┴──────────────┘\n"
     ]
    }
   ],
   "source": [
    "for nombre, datos in vuelos.group_by('AIRLINE'):\n",
    "    print(nombre)\n",
    "    print(datos)"
   ]
  },
  {
   "cell_type": "markdown",
   "id": "8952829b-d2fd-4eab-8c13-e29cf84201aa",
   "metadata": {},
   "source": [
    "### Varias agregaciones"
   ]
  },
  {
   "cell_type": "markdown",
   "id": "a2b840dc-515a-42b6-a8af-aac43dbe49be",
   "metadata": {},
   "source": [
    "Para realizar agregaciones sobre un DataFrame primero debemos realizar un agrupado con la función `group_by` y luego utilizar la función `agg`."
   ]
  },
  {
   "cell_type": "code",
   "execution_count": 3,
   "id": "4ce0a3ff-2f6a-44cb-ad6e-18cafd93e280",
   "metadata": {
    "tags": []
   },
   "outputs": [
    {
     "data": {
      "text/html": [
       "<div><style>\n",
       ".dataframe > thead > tr,\n",
       ".dataframe > tbody > tr {\n",
       "  text-align: right;\n",
       "  white-space: pre-wrap;\n",
       "}\n",
       "</style>\n",
       "<small>shape: (14, 2)</small><table border=\"1\" class=\"dataframe\"><thead><tr><th>AIRLINE</th><th>sum_retrasos</th></tr><tr><td>str</td><td>i32</td></tr></thead><tbody><tr><td>&quot;NK&quot;</td><td>1840887</td></tr><tr><td>&quot;F9&quot;</td><td>1205449</td></tr><tr><td>&quot;VX&quot;</td><td>553852</td></tr><tr><td>&quot;MQ&quot;</td><td>2837908</td></tr><tr><td>&quot;OO&quot;</td><td>4517510</td></tr><tr><td>&hellip;</td><td>&hellip;</td></tr><tr><td>&quot;HA&quot;</td><td>36972</td></tr><tr><td>&quot;AS&quot;</td><td>306997</td></tr><tr><td>&quot;WN&quot;</td><td>13186520</td></tr><tr><td>&quot;EV&quot;</td><td>4857338</td></tr><tr><td>&quot;DL&quot;</td><td>6427294</td></tr></tbody></table></div>"
      ],
      "text/plain": [
       "shape: (14, 2)\n",
       "┌─────────┬──────────────┐\n",
       "│ AIRLINE ┆ sum_retrasos │\n",
       "│ ---     ┆ ---          │\n",
       "│ str     ┆ i32          │\n",
       "╞═════════╪══════════════╡\n",
       "│ NK      ┆ 1840887      │\n",
       "│ F9      ┆ 1205449      │\n",
       "│ VX      ┆ 553852       │\n",
       "│ MQ      ┆ 2837908      │\n",
       "│ OO      ┆ 4517510      │\n",
       "│ …       ┆ …            │\n",
       "│ HA      ┆ 36972        │\n",
       "│ AS      ┆ 306997       │\n",
       "│ WN      ┆ 13186520     │\n",
       "│ EV      ┆ 4857338      │\n",
       "│ DL      ┆ 6427294      │\n",
       "└─────────┴──────────────┘"
      ]
     },
     "execution_count": 3,
     "metadata": {},
     "output_type": "execute_result"
    }
   ],
   "source": [
    "from polars import col\n",
    "\n",
    "vuelos.group_by('AIRLINE').agg(\n",
    "    col('DEPARTURE_DELAY').sum().alias('sum_retrasos')\n",
    ")"
   ]
  },
  {
   "cell_type": "markdown",
   "id": "04c0c88b-4bab-4aef-ac9a-3db80ca8280d",
   "metadata": {},
   "source": [
    "Calculemos varias agregaciones. Podemos usar `name.suffix` para agregar un sufijo e identificar las agregaciones."
   ]
  },
  {
   "cell_type": "code",
   "execution_count": 4,
   "id": "53f12fb6-c336-4239-a04e-8a2558b17278",
   "metadata": {
    "tags": []
   },
   "outputs": [
    {
     "data": {
      "text/html": [
       "<div><style>\n",
       ".dataframe > thead > tr,\n",
       ".dataframe > tbody > tr {\n",
       "  text-align: right;\n",
       "  white-space: pre-wrap;\n",
       "}\n",
       "</style>\n",
       "<small>shape: (14, 3)</small><table border=\"1\" class=\"dataframe\"><thead><tr><th>AIRLINE</th><th>DEPARTURE_DELAY_SUM</th><th>AIR_TIME_MEAN</th></tr><tr><td>str</td><td>i32</td><td>f64</td></tr></thead><tbody><tr><td>&quot;AS&quot;</td><td>306997</td><td>157.844784</td></tr><tr><td>&quot;NK&quot;</td><td>1840887</td><td>132.347886</td></tr><tr><td>&quot;AA&quot;</td><td>6369435</td><td>139.806208</td></tr><tr><td>&quot;MQ&quot;</td><td>2837908</td><td>66.97963</td></tr><tr><td>&quot;F9&quot;</td><td>1205449</td><td>130.240571</td></tr><tr><td>&hellip;</td><td>&hellip;</td><td>&hellip;</td></tr><tr><td>&quot;VX&quot;</td><td>553852</td><td>182.630796</td></tr><tr><td>&quot;HA&quot;</td><td>36972</td><td>84.881314</td></tr><tr><td>&quot;US&quot;</td><td>1196447</td><td>125.774234</td></tr><tr><td>&quot;B6&quot;</td><td>3026467</td><td>143.858492</td></tr><tr><td>&quot;EV&quot;</td><td>4857338</td><td>72.763842</td></tr></tbody></table></div>"
      ],
      "text/plain": [
       "shape: (14, 3)\n",
       "┌─────────┬─────────────────────┬───────────────┐\n",
       "│ AIRLINE ┆ DEPARTURE_DELAY_SUM ┆ AIR_TIME_MEAN │\n",
       "│ ---     ┆ ---                 ┆ ---           │\n",
       "│ str     ┆ i32                 ┆ f64           │\n",
       "╞═════════╪═════════════════════╪═══════════════╡\n",
       "│ AS      ┆ 306997              ┆ 157.844784    │\n",
       "│ NK      ┆ 1840887             ┆ 132.347886    │\n",
       "│ AA      ┆ 6369435             ┆ 139.806208    │\n",
       "│ MQ      ┆ 2837908             ┆ 66.97963      │\n",
       "│ F9      ┆ 1205449             ┆ 130.240571    │\n",
       "│ …       ┆ …                   ┆ …             │\n",
       "│ VX      ┆ 553852              ┆ 182.630796    │\n",
       "│ HA      ┆ 36972               ┆ 84.881314     │\n",
       "│ US      ┆ 1196447             ┆ 125.774234    │\n",
       "│ B6      ┆ 3026467             ┆ 143.858492    │\n",
       "│ EV      ┆ 4857338             ┆ 72.763842     │\n",
       "└─────────┴─────────────────────┴───────────────┘"
      ]
     },
     "execution_count": 4,
     "metadata": {},
     "output_type": "execute_result"
    }
   ],
   "source": [
    "vuelos.group_by('AIRLINE').agg(\n",
    "    col('DEPARTURE_DELAY').sum().name.suffix('_SUM'),\n",
    "    col('AIR_TIME').mean().name.suffix('_MEAN')\n",
    ")"
   ]
  },
  {
   "cell_type": "markdown",
   "id": "21952603-6a8f-4cea-8c6c-a27ad6c5bed1",
   "metadata": {},
   "source": [
    "Podemos usar palabras claves para nombrar las agregaciones también."
   ]
  },
  {
   "cell_type": "code",
   "execution_count": 5,
   "id": "d2bdfe10-b089-4d1e-b674-8b041c08fe59",
   "metadata": {
    "tags": []
   },
   "outputs": [
    {
     "data": {
      "text/html": [
       "<div><style>\n",
       ".dataframe > thead > tr,\n",
       ".dataframe > tbody > tr {\n",
       "  text-align: right;\n",
       "  white-space: pre-wrap;\n",
       "}\n",
       "</style>\n",
       "<small>shape: (14, 3)</small><table border=\"1\" class=\"dataframe\"><thead><tr><th>AIRLINE</th><th>media_retrasos</th><th>suma_tiempo_aire</th></tr><tr><td>str</td><td>f64</td><td>i32</td></tr></thead><tbody><tr><td>&quot;AS&quot;</td><td>1.785801</td><td>27060752</td></tr><tr><td>&quot;WN&quot;</td><td>10.581986</td><td>128092352</td></tr><tr><td>&quot;VX&quot;</td><td>9.022595</td><td>11185771</td></tr><tr><td>&quot;F9&quot;</td><td>13.350858</td><td>11733373</td></tr><tr><td>&quot;AA&quot;</td><td>8.900856</td><td>99672739</td></tr><tr><td>&hellip;</td><td>&hellip;</td><td>&hellip;</td></tr><tr><td>&quot;DL&quot;</td><td>7.369254</td><td>100660665</td></tr><tr><td>&quot;UA&quot;</td><td>14.435441</td><td>83697399</td></tr><tr><td>&quot;US&quot;</td><td>6.141137</td><td>24428249</td></tr><tr><td>&quot;HA&quot;</td><td>0.485713</td><td>6454460</td></tr><tr><td>&quot;NK&quot;</td><td>15.944766</td><td>15245550</td></tr></tbody></table></div>"
      ],
      "text/plain": [
       "shape: (14, 3)\n",
       "┌─────────┬────────────────┬──────────────────┐\n",
       "│ AIRLINE ┆ media_retrasos ┆ suma_tiempo_aire │\n",
       "│ ---     ┆ ---            ┆ ---              │\n",
       "│ str     ┆ f64            ┆ i32              │\n",
       "╞═════════╪════════════════╪══════════════════╡\n",
       "│ AS      ┆ 1.785801       ┆ 27060752         │\n",
       "│ WN      ┆ 10.581986      ┆ 128092352        │\n",
       "│ VX      ┆ 9.022595       ┆ 11185771         │\n",
       "│ F9      ┆ 13.350858      ┆ 11733373         │\n",
       "│ AA      ┆ 8.900856       ┆ 99672739         │\n",
       "│ …       ┆ …              ┆ …                │\n",
       "│ DL      ┆ 7.369254       ┆ 100660665        │\n",
       "│ UA      ┆ 14.435441      ┆ 83697399         │\n",
       "│ US      ┆ 6.141137       ┆ 24428249         │\n",
       "│ HA      ┆ 0.485713       ┆ 6454460          │\n",
       "│ NK      ┆ 15.944766      ┆ 15245550         │\n",
       "└─────────┴────────────────┴──────────────────┘"
      ]
     },
     "execution_count": 5,
     "metadata": {},
     "output_type": "execute_result"
    }
   ],
   "source": [
    "vuelos.group_by('AIRLINE').agg(\n",
    "    media_retrasos=col('DEPARTURE_DELAY').mean(),\n",
    "    suma_tiempo_aire=pl.col('AIR_TIME').sum()\n",
    ")"
   ]
  },
  {
   "cell_type": "markdown",
   "id": "ca3ef43b-f976-4982-8bad-e4eb7981dcde",
   "metadata": {},
   "source": [
    "### Operaciones sobre grupos"
   ]
  },
  {
   "cell_type": "markdown",
   "id": "0cfd3035-3ddc-4dcf-915a-ca13b252d14f",
   "metadata": {},
   "source": [
    "#### Agregar los valores de los grupos en una Serie"
   ]
  },
  {
   "cell_type": "code",
   "execution_count": 6,
   "id": "0a18bad7-84df-4df8-9a2c-0510b5775448",
   "metadata": {
    "tags": []
   },
   "outputs": [
    {
     "data": {
      "text/html": [
       "<div><style>\n",
       ".dataframe > thead > tr,\n",
       ".dataframe > tbody > tr {\n",
       "  text-align: right;\n",
       "  white-space: pre-wrap;\n",
       "}\n",
       "</style>\n",
       "<small>shape: (14, 31)</small><table border=\"1\" class=\"dataframe\"><thead><tr><th>AIRLINE</th><th>YEAR</th><th>MONTH</th><th>DAY</th><th>DAY_OF_WEEK</th><th>FLIGHT_NUMBER</th><th>TAIL_NUMBER</th><th>ORIGIN_AIRPORT</th><th>DESTINATION_AIRPORT</th><th>SCHEDULED_DEPARTURE</th><th>DEPARTURE_TIME</th><th>DEPARTURE_DELAY</th><th>TAXI_OUT</th><th>WHEELS_OFF</th><th>SCHEDULED_TIME</th><th>ELAPSED_TIME</th><th>AIR_TIME</th><th>DISTANCE</th><th>WHEELS_ON</th><th>TAXI_IN</th><th>SCHEDULED_ARRIVAL</th><th>ARRIVAL_TIME</th><th>ARRIVAL_DELAY</th><th>DIVERTED</th><th>CANCELLED</th><th>CANCELLATION_REASON</th><th>AIR_SYSTEM_DELAY</th><th>SECURITY_DELAY</th><th>AIRLINE_DELAY</th><th>LATE_AIRCRAFT_DELAY</th><th>WEATHER_DELAY</th></tr><tr><td>str</td><td>list[i32]</td><td>list[i32]</td><td>list[i32]</td><td>list[i32]</td><td>list[i32]</td><td>list[str]</td><td>list[str]</td><td>list[str]</td><td>list[i32]</td><td>list[i32]</td><td>list[i32]</td><td>list[i32]</td><td>list[i32]</td><td>list[i32]</td><td>list[i32]</td><td>list[i32]</td><td>list[i32]</td><td>list[i32]</td><td>list[i32]</td><td>list[i32]</td><td>list[i32]</td><td>list[i32]</td><td>list[i32]</td><td>list[i32]</td><td>list[str]</td><td>list[i32]</td><td>list[i32]</td><td>list[i32]</td><td>list[i32]</td><td>list[i32]</td></tr></thead><tbody><tr><td>&quot;VX&quot;</td><td>[2015, 2015, … 2015]</td><td>[1, 1, … 12]</td><td>[1, 1, … 31]</td><td>[4, 4, … 4]</td><td>[922, 399, … 48]</td><td>[&quot;N361VA&quot;, &quot;N852VA&quot;, … &quot;N281VA&quot;]</td><td>[&quot;SFO&quot;, &quot;JFK&quot;, … &quot;OGG&quot;]</td><td>[&quot;LAX&quot;, &quot;LAX&quot;, … &quot;SFO&quot;]</td><td>[645, 700, … 2320]</td><td>[638, 655, … 2318]</td><td>[-7, -5, … -2]</td><td>[9, 18, … 7]</td><td>[647, 713, … 2325]</td><td>[80, 385, … 305]</td><td>[71, 392, … 270]</td><td>[54, 360, … 258]</td><td>[337, 2475, … 2338]</td><td>[741, 1013, … 543]</td><td>[8, 14, … 5]</td><td>[805, 1025, … 625]</td><td>[749, 1027, … 548]</td><td>[-16, 2, … -37]</td><td>[0, 0, … 0]</td><td>[0, 0, … 0]</td><td>[null, null, … null]</td><td>[null, null, … null]</td><td>[null, null, … null]</td><td>[null, null, … null]</td><td>[null, null, … null]</td><td>[null, null, … null]</td></tr><tr><td>&quot;F9&quot;</td><td>[2015, 2015, … 2015]</td><td>[1, 1, … 12]</td><td>[1, 1, … 31]</td><td>[4, 4, … 4]</td><td>[1279, 161, … 300]</td><td>[&quot;N918FR&quot;, &quot;N905FR&quot;, … &quot;N949FR&quot;]</td><td>[&quot;PHL&quot;, &quot;MSN&quot;, … &quot;DEN&quot;]</td><td>[&quot;MCO&quot;, &quot;DEN&quot;, … &quot;TPA&quot;]</td><td>[530, 544, … 2359]</td><td>[526, 534, … 5]</td><td>[-4, -10, … 6]</td><td>[12, 7, … 17]</td><td>[538, 541, … 22]</td><td>[160, 145, … 199]</td><td>[146, 144, … 184]</td><td>[128, 128, … 161]</td><td>[861, 826, … 1506]</td><td>[746, 649, … 503]</td><td>[6, 9, … 6]</td><td>[810, 709, … 518]</td><td>[752, 658, … 509]</td><td>[-18, -11, … -9]</td><td>[0, 0, … 0]</td><td>[0, 0, … 0]</td><td>[null, null, … null]</td><td>[null, null, … null]</td><td>[null, null, … null]</td><td>[null, null, … null]</td><td>[null, null, … null]</td><td>[null, null, … null]</td></tr><tr><td>&quot;WN&quot;</td><td>[2015, 2015, … 2015]</td><td>[1, 1, … 12]</td><td>[1, 1, … 31]</td><td>[4, 4, … 4]</td><td>[526, 4122, … 5668]</td><td>[&quot;N742SW&quot;, &quot;N486WN&quot;, … &quot;N7822A&quot;]</td><td>[&quot;SFO&quot;, &quot;BOS&quot;, … &quot;ATL&quot;]</td><td>[&quot;DEN&quot;, &quot;BWI&quot;, … &quot;IND&quot;]</td><td>[555, 600, … 2255]</td><td>[553, 556, … 2252]</td><td>[-2, -4, … -3]</td><td>[11, 17, … 10]</td><td>[604, 613, … 2302]</td><td>[150, 105, … 90]</td><td>[150, 83, … 79]</td><td>[132, 63, … 63]</td><td>[967, 369, … 432]</td><td>[916, 716, … 5]</td><td>[7, 3, … 6]</td><td>[925, 745, … 25]</td><td>[923, 719, … 11]</td><td>[-2, -26, … -14]</td><td>[0, 0, … 0]</td><td>[0, 0, … 0]</td><td>[null, null, … null]</td><td>[null, null, … null]</td><td>[null, null, … null]</td><td>[null, null, … null]</td><td>[null, null, … null]</td><td>[null, null, … null]</td></tr><tr><td>&quot;AS&quot;</td><td>[2015, 2015, … 2015]</td><td>[1, 1, … 12]</td><td>[1, 1, … 31]</td><td>[4, 4, … 4]</td><td>[98, 135, … 850]</td><td>[&quot;N407AS&quot;, &quot;N527AS&quot;, … &quot;N536AS&quot;]</td><td>[&quot;ANC&quot;, &quot;SEA&quot;, … &quot;KOA&quot;]</td><td>[&quot;SEA&quot;, &quot;ANC&quot;, … &quot;SEA&quot;]</td><td>[5, 25, … 2355]</td><td>[2354, 24, … 2352]</td><td>[-11, -1, … -3]</td><td>[21, 11, … 16]</td><td>[15, 35, … 8]</td><td>[205, 235, … 355]</td><td>[194, 215, … 320]</td><td>[169, 199, … 298]</td><td>[1448, 1448, … 2688]</td><td>[404, 254, … 706]</td><td>[4, 5, … 6]</td><td>[430, 320, … 750]</td><td>[408, 259, … 712]</td><td>[-22, -21, … -38]</td><td>[0, 0, … 0]</td><td>[0, 0, … 0]</td><td>[null, null, … null]</td><td>[null, null, … null]</td><td>[null, null, … null]</td><td>[null, null, … null]</td><td>[null, null, … null]</td><td>[null, null, … null]</td></tr><tr><td>&quot;AA&quot;</td><td>[2015, 2015, … 2015]</td><td>[1, 1, … 12]</td><td>[1, 1, … 31]</td><td>[4, 4, … 4]</td><td>[2336, 258, … 219]</td><td>[&quot;N3KUAA&quot;, &quot;N3HYAA&quot;, … &quot;N3LYAA&quot;]</td><td>[&quot;LAX&quot;, &quot;LAX&quot;, … &quot;LAX&quot;]</td><td>[&quot;PBI&quot;, &quot;MIA&quot;, … &quot;ORD&quot;]</td><td>[10, 20, … 2359]</td><td>[2, 15, … 2358]</td><td>[-8, -5, … -1]</td><td>[12, 15, … 23]</td><td>[14, 30, … 21]</td><td>[280, 285, … 244]</td><td>[279, 281, … 226]</td><td>[263, 258, … 198]</td><td>[2330, 2342, … 1744]</td><td>[737, 748, … 539]</td><td>[4, 8, … 5]</td><td>[750, 805, … 603]</td><td>[741, 756, … 544]</td><td>[-9, -9, … -19]</td><td>[0, 0, … 0]</td><td>[0, 0, … 0]</td><td>[null, null, … null]</td><td>[null, null, … null]</td><td>[null, null, … null]</td><td>[null, null, … null]</td><td>[null, null, … null]</td><td>[null, null, … null]</td></tr><tr><td>&hellip;</td><td>&hellip;</td><td>&hellip;</td><td>&hellip;</td><td>&hellip;</td><td>&hellip;</td><td>&hellip;</td><td>&hellip;</td><td>&hellip;</td><td>&hellip;</td><td>&hellip;</td><td>&hellip;</td><td>&hellip;</td><td>&hellip;</td><td>&hellip;</td><td>&hellip;</td><td>&hellip;</td><td>&hellip;</td><td>&hellip;</td><td>&hellip;</td><td>&hellip;</td><td>&hellip;</td><td>&hellip;</td><td>&hellip;</td><td>&hellip;</td><td>&hellip;</td><td>&hellip;</td><td>&hellip;</td><td>&hellip;</td><td>&hellip;</td><td>&hellip;</td></tr><tr><td>&quot;B6&quot;</td><td>[2015, 2015, … 2015]</td><td>[1, 1, … 12]</td><td>[1, 1, … 31]</td><td>[4, 4, … 4]</td><td>[304, 1990, … 839]</td><td>[&quot;N607JB&quot;, &quot;N597JB&quot;, … &quot;N534JB&quot;]</td><td>[&quot;SJU&quot;, &quot;SJU&quot;, … &quot;JFK&quot;]</td><td>[&quot;JFK&quot;, &quot;EWR&quot;, … &quot;BQN&quot;]</td><td>[155, 206, … 2359]</td><td>[153, 152, … 14]</td><td>[-2, -14, … 15]</td><td>[12, 19, … 14]</td><td>[205, 211, … 28]</td><td>[235, 246, … 221]</td><td>[248, 264, … 208]</td><td>[231, 239, … 189]</td><td>[1598, 1608, … 1576]</td><td>[456, 510, … 437]</td><td>[5, 6, … 5]</td><td>[450, 512, … 440]</td><td>[501, 516, … 442]</td><td>[11, 4, … 2]</td><td>[0, 0, … 0]</td><td>[0, 0, … 0]</td><td>[null, null, … null]</td><td>[null, null, … null]</td><td>[null, null, … null]</td><td>[null, null, … null]</td><td>[null, null, … null]</td><td>[null, null, … null]</td></tr><tr><td>&quot;DL&quot;</td><td>[2015, 2015, … 2015]</td><td>[1, 1, … 12]</td><td>[1, 1, … 31]</td><td>[4, 4, … 4]</td><td>[806, 1173, … 2224]</td><td>[&quot;N3730B&quot;, &quot;N826DN&quot;, … &quot;N332NW&quot;]</td><td>[&quot;SFO&quot;, &quot;LAS&quot;, … &quot;PHX&quot;]</td><td>[&quot;MSP&quot;, &quot;ATL&quot;, … &quot;DTW&quot;]</td><td>[25, 30, … 2359]</td><td>[20, 33, … 2352]</td><td>[-5, 3, … -7]</td><td>[18, 12, … 13]</td><td>[38, 45, … 5]</td><td>[217, 221, … 224]</td><td>[230, 203, … 200]</td><td>[206, 186, … 180]</td><td>[1589, 1747, … 1671]</td><td>[604, 651, … 505]</td><td>[6, 5, … 7]</td><td>[602, 711, … 543]</td><td>[610, 656, … 512]</td><td>[8, -15, … -31]</td><td>[0, 0, … 0]</td><td>[0, 0, … 0]</td><td>[null, null, … null]</td><td>[null, null, … null]</td><td>[null, null, … null]</td><td>[null, null, … null]</td><td>[null, null, … null]</td><td>[null, null, … null]</td></tr><tr><td>&quot;NK&quot;</td><td>[2015, 2015, … 2015]</td><td>[1, 1, … 12]</td><td>[1, 1, … 31]</td><td>[4, 4, … 4]</td><td>[612, 520, … 371]</td><td>[&quot;N635NK&quot;, &quot;N525NK&quot;, … &quot;N661NK&quot;]</td><td>[&quot;LAS&quot;, &quot;LAS&quot;, … &quot;FLL&quot;]</td><td>[&quot;MSP&quot;, &quot;MCI&quot;, … &quot;BQN&quot;]</td><td>[25, 55, … 2358]</td><td>[19, 120, … 11]</td><td>[-6, 25, … 13]</td><td>[11, 11, … 15]</td><td>[30, 131, … 26]</td><td>[181, 162, … 140]</td><td>[170, 143, … 155]</td><td>[154, 128, … 121]</td><td>[1299, 1139, … 982]</td><td>[504, 539, … 327]</td><td>[5, 4, … 19]</td><td>[526, 537, … 318]</td><td>[509, 543, … 346]</td><td>[-17, 6, … 28]</td><td>[0, 0, … 0]</td><td>[0, 0, … 0]</td><td>[null, null, … null]</td><td>[null, null, … 15]</td><td>[null, null, … 0]</td><td>[null, null, … 13]</td><td>[null, null, … 0]</td><td>[null, null, … 0]</td></tr><tr><td>&quot;US&quot;</td><td>[2015, 2015, … 2015]</td><td>[1, 1, … 6]</td><td>[1, 1, … 30]</td><td>[4, 4, … 2]</td><td>[840, 2013, … 1720]</td><td>[&quot;N171US&quot;, &quot;N584UW&quot;, … &quot;N676AW&quot;]</td><td>[&quot;SFO&quot;, &quot;LAX&quot;, … &quot;PHX&quot;]</td><td>[&quot;CLT&quot;, &quot;CLT&quot;, … &quot;MSP&quot;]</td><td>[20, 30, … 2359]</td><td>[18, 44, … 6]</td><td>[-2, 14, … 7]</td><td>[16, 13, … 16]</td><td>[34, 57, … 22]</td><td>[286, 273, … 177]</td><td>[293, 249, … 187]</td><td>[266, 228, … 166]</td><td>[2296, 2125, … 1276]</td><td>[800, 745, … 508]</td><td>[11, 8, … 5]</td><td>[806, 803, … 456]</td><td>[811, 753, … 513]</td><td>[5, -10, … 17]</td><td>[0, 0, … 0]</td><td>[0, 0, … 0]</td><td>[null, null, … null]</td><td>[null, null, … 10]</td><td>[null, null, … 0]</td><td>[null, null, … 7]</td><td>[null, null, … 0]</td><td>[null, null, … 0]</td></tr><tr><td>&quot;HA&quot;</td><td>[2015, 2015, … 2015]</td><td>[1, 1, … 12]</td><td>[1, 1, … 31]</td><td>[4, 4, … 4]</td><td>[17, 102, … 515]</td><td>[&quot;N389HA&quot;, &quot;N492HA&quot;, … &quot;N489HA&quot;]</td><td>[&quot;LAS&quot;, &quot;HNL&quot;, … &quot;OGG&quot;]</td><td>[&quot;HNL&quot;, &quot;ITO&quot;, … &quot;HNL&quot;]</td><td>[145, 500, … 2302]</td><td>[145, 452, … 2246]</td><td>[0, -8, … -16]</td><td>[16, 10, … 6]</td><td>[201, 502, … 2252]</td><td>[370, 49, … 34]</td><td>[385, 51, … 31]</td><td>[361, 35, … 21]</td><td>[2762, 216, … 100]</td><td>[602, 537, … 2313]</td><td>[8, 6, … 4]</td><td>[555, 549, … 2336]</td><td>[610, 543, … 2317]</td><td>[15, -6, … -19]</td><td>[0, 0, … 0]</td><td>[0, 0, … 0]</td><td>[null, null, … null]</td><td>[0, null, … null]</td><td>[0, null, … null]</td><td>[15, null, … null]</td><td>[0, null, … null]</td><td>[0, null, … null]</td></tr></tbody></table></div>"
      ],
      "text/plain": [
       "shape: (14, 31)\n",
       "┌─────────┬────────────┬───────────┬───────────┬───┬───────────┬───────────┬───────────┬───────────┐\n",
       "│ AIRLINE ┆ YEAR       ┆ MONTH     ┆ DAY       ┆ … ┆ SECURITY_ ┆ AIRLINE_D ┆ LATE_AIRC ┆ WEATHER_D │\n",
       "│ ---     ┆ ---        ┆ ---       ┆ ---       ┆   ┆ DELAY     ┆ ELAY      ┆ RAFT_DELA ┆ ELAY      │\n",
       "│ str     ┆ list[i32]  ┆ list[i32] ┆ list[i32] ┆   ┆ ---       ┆ ---       ┆ Y         ┆ ---       │\n",
       "│         ┆            ┆           ┆           ┆   ┆ list[i32] ┆ list[i32] ┆ ---       ┆ list[i32] │\n",
       "│         ┆            ┆           ┆           ┆   ┆           ┆           ┆ list[i32] ┆           │\n",
       "╞═════════╪════════════╪═══════════╪═══════════╪═══╪═══════════╪═══════════╪═══════════╪═══════════╡\n",
       "│ VX      ┆ [2015,     ┆ [1, 1, …  ┆ [1, 1, …  ┆ … ┆ [null,    ┆ [null,    ┆ [null,    ┆ [null,    │\n",
       "│         ┆ 2015, …    ┆ 12]       ┆ 31]       ┆   ┆ null, …   ┆ null, …   ┆ null, …   ┆ null, …   │\n",
       "│         ┆ 2015]      ┆           ┆           ┆   ┆ null]     ┆ null]     ┆ null]     ┆ null]     │\n",
       "│ F9      ┆ [2015,     ┆ [1, 1, …  ┆ [1, 1, …  ┆ … ┆ [null,    ┆ [null,    ┆ [null,    ┆ [null,    │\n",
       "│         ┆ 2015, …    ┆ 12]       ┆ 31]       ┆   ┆ null, …   ┆ null, …   ┆ null, …   ┆ null, …   │\n",
       "│         ┆ 2015]      ┆           ┆           ┆   ┆ null]     ┆ null]     ┆ null]     ┆ null]     │\n",
       "│ WN      ┆ [2015,     ┆ [1, 1, …  ┆ [1, 1, …  ┆ … ┆ [null,    ┆ [null,    ┆ [null,    ┆ [null,    │\n",
       "│         ┆ 2015, …    ┆ 12]       ┆ 31]       ┆   ┆ null, …   ┆ null, …   ┆ null, …   ┆ null, …   │\n",
       "│         ┆ 2015]      ┆           ┆           ┆   ┆ null]     ┆ null]     ┆ null]     ┆ null]     │\n",
       "│ AS      ┆ [2015,     ┆ [1, 1, …  ┆ [1, 1, …  ┆ … ┆ [null,    ┆ [null,    ┆ [null,    ┆ [null,    │\n",
       "│         ┆ 2015, …    ┆ 12]       ┆ 31]       ┆   ┆ null, …   ┆ null, …   ┆ null, …   ┆ null, …   │\n",
       "│         ┆ 2015]      ┆           ┆           ┆   ┆ null]     ┆ null]     ┆ null]     ┆ null]     │\n",
       "│ AA      ┆ [2015,     ┆ [1, 1, …  ┆ [1, 1, …  ┆ … ┆ [null,    ┆ [null,    ┆ [null,    ┆ [null,    │\n",
       "│         ┆ 2015, …    ┆ 12]       ┆ 31]       ┆   ┆ null, …   ┆ null, …   ┆ null, …   ┆ null, …   │\n",
       "│         ┆ 2015]      ┆           ┆           ┆   ┆ null]     ┆ null]     ┆ null]     ┆ null]     │\n",
       "│ …       ┆ …          ┆ …         ┆ …         ┆ … ┆ …         ┆ …         ┆ …         ┆ …         │\n",
       "│ B6      ┆ [2015,     ┆ [1, 1, …  ┆ [1, 1, …  ┆ … ┆ [null,    ┆ [null,    ┆ [null,    ┆ [null,    │\n",
       "│         ┆ 2015, …    ┆ 12]       ┆ 31]       ┆   ┆ null, …   ┆ null, …   ┆ null, …   ┆ null, …   │\n",
       "│         ┆ 2015]      ┆           ┆           ┆   ┆ null]     ┆ null]     ┆ null]     ┆ null]     │\n",
       "│ DL      ┆ [2015,     ┆ [1, 1, …  ┆ [1, 1, …  ┆ … ┆ [null,    ┆ [null,    ┆ [null,    ┆ [null,    │\n",
       "│         ┆ 2015, …    ┆ 12]       ┆ 31]       ┆   ┆ null, …   ┆ null, …   ┆ null, …   ┆ null, …   │\n",
       "│         ┆ 2015]      ┆           ┆           ┆   ┆ null]     ┆ null]     ┆ null]     ┆ null]     │\n",
       "│ NK      ┆ [2015,     ┆ [1, 1, …  ┆ [1, 1, …  ┆ … ┆ [null,    ┆ [null,    ┆ [null,    ┆ [null,    │\n",
       "│         ┆ 2015, …    ┆ 12]       ┆ 31]       ┆   ┆ null, …   ┆ null, …   ┆ null, …   ┆ null, …   │\n",
       "│         ┆ 2015]      ┆           ┆           ┆   ┆ 0]        ┆ 13]       ┆ 0]        ┆ 0]        │\n",
       "│ US      ┆ [2015,     ┆ [1, 1, …  ┆ [1, 1, …  ┆ … ┆ [null,    ┆ [null,    ┆ [null,    ┆ [null,    │\n",
       "│         ┆ 2015, …    ┆ 6]        ┆ 30]       ┆   ┆ null, …   ┆ null, …   ┆ null, …   ┆ null, …   │\n",
       "│         ┆ 2015]      ┆           ┆           ┆   ┆ 0]        ┆ 7]        ┆ 0]        ┆ 0]        │\n",
       "│ HA      ┆ [2015,     ┆ [1, 1, …  ┆ [1, 1, …  ┆ … ┆ [0, null, ┆ [15,      ┆ [0, null, ┆ [0, null, │\n",
       "│         ┆ 2015, …    ┆ 12]       ┆ 31]       ┆   ┆ … null]   ┆ null, …   ┆ … null]   ┆ … null]   │\n",
       "│         ┆ 2015]      ┆           ┆           ┆   ┆           ┆ null]     ┆           ┆           │\n",
       "└─────────┴────────────┴───────────┴───────────┴───┴───────────┴───────────┴───────────┴───────────┘"
      ]
     },
     "execution_count": 6,
     "metadata": {},
     "output_type": "execute_result"
    }
   ],
   "source": [
    "vuelos.group_by('AIRLINE').all()"
   ]
  },
  {
   "cell_type": "markdown",
   "id": "c42bc70f-5a53-4575-bd85-24b40656a0ee",
   "metadata": {},
   "source": [
    "#### Conteo del número de valores de cada grupo"
   ]
  },
  {
   "cell_type": "code",
   "execution_count": 8,
   "id": "f9665c10-9a92-419c-9d54-ddf10a87788e",
   "metadata": {
    "tags": []
   },
   "outputs": [
    {
     "data": {
      "text/html": [
       "<div><style>\n",
       ".dataframe > thead > tr,\n",
       ".dataframe > tbody > tr {\n",
       "  text-align: right;\n",
       "  white-space: pre-wrap;\n",
       "}\n",
       "</style>\n",
       "<small>shape: (14, 2)</small><table border=\"1\" class=\"dataframe\"><thead><tr><th>AIRLINE</th><th>len</th></tr><tr><td>str</td><td>u32</td></tr></thead><tbody><tr><td>&quot;UA&quot;</td><td>515723</td></tr><tr><td>&quot;MQ&quot;</td><td>294632</td></tr><tr><td>&quot;NK&quot;</td><td>117379</td></tr><tr><td>&quot;OO&quot;</td><td>588353</td></tr><tr><td>&quot;US&quot;</td><td>198715</td></tr><tr><td>&hellip;</td><td>&hellip;</td></tr><tr><td>&quot;HA&quot;</td><td>76272</td></tr><tr><td>&quot;AS&quot;</td><td>172521</td></tr><tr><td>&quot;DL&quot;</td><td>875881</td></tr><tr><td>&quot;F9&quot;</td><td>90836</td></tr><tr><td>&quot;EV&quot;</td><td>571977</td></tr></tbody></table></div>"
      ],
      "text/plain": [
       "shape: (14, 2)\n",
       "┌─────────┬────────┐\n",
       "│ AIRLINE ┆ len    │\n",
       "│ ---     ┆ ---    │\n",
       "│ str     ┆ u32    │\n",
       "╞═════════╪════════╡\n",
       "│ UA      ┆ 515723 │\n",
       "│ MQ      ┆ 294632 │\n",
       "│ NK      ┆ 117379 │\n",
       "│ OO      ┆ 588353 │\n",
       "│ US      ┆ 198715 │\n",
       "│ …       ┆ …      │\n",
       "│ HA      ┆ 76272  │\n",
       "│ AS      ┆ 172521 │\n",
       "│ DL      ┆ 875881 │\n",
       "│ F9      ┆ 90836  │\n",
       "│ EV      ┆ 571977 │\n",
       "└─────────┴────────┘"
      ]
     },
     "execution_count": 8,
     "metadata": {},
     "output_type": "execute_result"
    }
   ],
   "source": [
    "vuelos.group_by('AIRLINE').len()"
   ]
  },
  {
   "cell_type": "markdown",
   "id": "0f811457-7821-4280-9473-547def7b1275",
   "metadata": {},
   "source": [
    "#### Conteo del número de valores únicos de cada grupo"
   ]
  },
  {
   "cell_type": "code",
   "execution_count": 9,
   "id": "b9363b2a-8ce9-4233-aae4-84af4e0bd23c",
   "metadata": {
    "tags": []
   },
   "outputs": [
    {
     "data": {
      "text/html": [
       "<div><style>\n",
       ".dataframe > thead > tr,\n",
       ".dataframe > tbody > tr {\n",
       "  text-align: right;\n",
       "  white-space: pre-wrap;\n",
       "}\n",
       "</style>\n",
       "<small>shape: (14, 31)</small><table border=\"1\" class=\"dataframe\"><thead><tr><th>AIRLINE</th><th>YEAR</th><th>MONTH</th><th>DAY</th><th>DAY_OF_WEEK</th><th>FLIGHT_NUMBER</th><th>TAIL_NUMBER</th><th>ORIGIN_AIRPORT</th><th>DESTINATION_AIRPORT</th><th>SCHEDULED_DEPARTURE</th><th>DEPARTURE_TIME</th><th>DEPARTURE_DELAY</th><th>TAXI_OUT</th><th>WHEELS_OFF</th><th>SCHEDULED_TIME</th><th>ELAPSED_TIME</th><th>AIR_TIME</th><th>DISTANCE</th><th>WHEELS_ON</th><th>TAXI_IN</th><th>SCHEDULED_ARRIVAL</th><th>ARRIVAL_TIME</th><th>ARRIVAL_DELAY</th><th>DIVERTED</th><th>CANCELLED</th><th>CANCELLATION_REASON</th><th>AIR_SYSTEM_DELAY</th><th>SECURITY_DELAY</th><th>AIRLINE_DELAY</th><th>LATE_AIRCRAFT_DELAY</th><th>WEATHER_DELAY</th></tr><tr><td>str</td><td>u32</td><td>u32</td><td>u32</td><td>u32</td><td>u32</td><td>u32</td><td>u32</td><td>u32</td><td>u32</td><td>u32</td><td>u32</td><td>u32</td><td>u32</td><td>u32</td><td>u32</td><td>u32</td><td>u32</td><td>u32</td><td>u32</td><td>u32</td><td>u32</td><td>u32</td><td>u32</td><td>u32</td><td>u32</td><td>u32</td><td>u32</td><td>u32</td><td>u32</td><td>u32</td></tr></thead><tbody><tr><td>&quot;DL&quot;</td><td>1</td><td>12</td><td>31</td><td>7</td><td>2449</td><td>829</td><td>299</td><td>299</td><td>1156</td><td>1370</td><td>891</td><td>166</td><td>1369</td><td>438</td><td>619</td><td>607</td><td>441</td><td>1436</td><td>138</td><td>1232</td><td>1434</td><td>911</td><td>2</td><td>2</td><td>4</td><td>393</td><td>47</td><td>764</td><td>407</td><td>489</td></tr><tr><td>&quot;US&quot;</td><td>1</td><td>6</td><td>31</td><td>7</td><td>960</td><td>352</td><td>79</td><td>79</td><td>589</td><td>1316</td><td>442</td><td>160</td><td>1316</td><td>358</td><td>440</td><td>410</td><td>165</td><td>1413</td><td>102</td><td>1206</td><td>1419</td><td>475</td><td>2</td><td>2</td><td>4</td><td>275</td><td>65</td><td>334</td><td>305</td><td>218</td></tr><tr><td>&quot;F9&quot;</td><td>1</td><td>12</td><td>31</td><td>7</td><td>822</td><td>63</td><td>112</td><td>112</td><td>599</td><td>1345</td><td>593</td><td>135</td><td>1349</td><td>215</td><td>313</td><td>291</td><td>161</td><td>1431</td><td>106</td><td>1005</td><td>1432</td><td>610</td><td>2</td><td>2</td><td>3</td><td>304</td><td>2</td><td>363</td><td>439</td><td>132</td></tr><tr><td>&quot;AA&quot;</td><td>1</td><td>12</td><td>31</td><td>7</td><td>2441</td><td>1045</td><td>187</td><td>187</td><td>1071</td><td>1374</td><td>946</td><td>177</td><td>1372</td><td>420</td><td>533</td><td>509</td><td>332</td><td>1439</td><td>177</td><td>1317</td><td>1438</td><td>979</td><td>2</td><td>2</td><td>5</td><td>330</td><td>97</td><td>768</td><td>565</td><td>363</td></tr><tr><td>&quot;AS&quot;</td><td>1</td><td>12</td><td>31</td><td>7</td><td>746</td><td>147</td><td>129</td><td>130</td><td>399</td><td>1354</td><td>449</td><td>114</td><td>1360</td><td>382</td><td>448</td><td>411</td><td>124</td><td>1438</td><td>83</td><td>1202</td><td>1440</td><td>459</td><td>2</td><td>2</td><td>4</td><td>188</td><td>65</td><td>322</td><td>303</td><td>171</td></tr><tr><td>&hellip;</td><td>&hellip;</td><td>&hellip;</td><td>&hellip;</td><td>&hellip;</td><td>&hellip;</td><td>&hellip;</td><td>&hellip;</td><td>&hellip;</td><td>&hellip;</td><td>&hellip;</td><td>&hellip;</td><td>&hellip;</td><td>&hellip;</td><td>&hellip;</td><td>&hellip;</td><td>&hellip;</td><td>&hellip;</td><td>&hellip;</td><td>&hellip;</td><td>&hellip;</td><td>&hellip;</td><td>&hellip;</td><td>&hellip;</td><td>&hellip;</td><td>&hellip;</td><td>&hellip;</td><td>&hellip;</td><td>&hellip;</td><td>&hellip;</td><td>&hellip;</td></tr><tr><td>&quot;MQ&quot;</td><td>1</td><td>12</td><td>31</td><td>7</td><td>939</td><td>204</td><td>243</td><td>243</td><td>954</td><td>1230</td><td>657</td><td>156</td><td>1251</td><td>174</td><td>272</td><td>202</td><td>198</td><td>1325</td><td>160</td><td>1126</td><td>1323</td><td>691</td><td>2</td><td>2</td><td>5</td><td>323</td><td>71</td><td>543</td><td>342</td><td>370</td></tr><tr><td>&quot;VX&quot;</td><td>1</td><td>12</td><td>31</td><td>7</td><td>319</td><td>57</td><td>39</td><td>38</td><td>219</td><td>1156</td><td>354</td><td>115</td><td>1161</td><td>115</td><td>432</td><td>389</td><td>38</td><td>1310</td><td>87</td><td>255</td><td>1309</td><td>401</td><td>2</td><td>2</td><td>4</td><td>266</td><td>40</td><td>228</td><td>265</td><td>94</td></tr><tr><td>&quot;HA&quot;</td><td>1</td><td>12</td><td>31</td><td>7</td><td>310</td><td>51</td><td>34</td><td>34</td><td>636</td><td>1221</td><td>313</td><td>62</td><td>1230</td><td>62</td><td>439</td><td>391</td><td>28</td><td>1260</td><td>63</td><td>687</td><td>1254</td><td>347</td><td>2</td><td>2</td><td>3</td><td>56</td><td>21</td><td>258</td><td>179</td><td>80</td></tr><tr><td>&quot;EV&quot;</td><td>1</td><td>12</td><td>31</td><td>7</td><td>2366</td><td>391</td><td>339</td><td>341</td><td>1127</td><td>1279</td><td>641</td><td>156</td><td>1280</td><td>212</td><td>281</td><td>236</td><td>528</td><td>1348</td><td>136</td><td>1197</td><td>1351</td><td>662</td><td>2</td><td>2</td><td>5</td><td>413</td><td>2</td><td>544</td><td>399</td><td>315</td></tr><tr><td>&quot;B6&quot;</td><td>1</td><td>12</td><td>31</td><td>7</td><td>1159</td><td>215</td><td>125</td><td>125</td><td>1155</td><td>1440</td><td>515</td><td>154</td><td>1441</td><td>371</td><td>467</td><td>405</td><td>170</td><td>1441</td><td>110</td><td>1324</td><td>1441</td><td>565</td><td>2</td><td>2</td><td>5</td><td>348</td><td>92</td><td>382</td><td>386</td><td>250</td></tr></tbody></table></div>"
      ],
      "text/plain": [
       "shape: (14, 31)\n",
       "┌─────────┬──────┬───────┬─────┬───┬───────────────┬───────────────┬───────────────┬───────────────┐\n",
       "│ AIRLINE ┆ YEAR ┆ MONTH ┆ DAY ┆ … ┆ SECURITY_DELA ┆ AIRLINE_DELAY ┆ LATE_AIRCRAFT ┆ WEATHER_DELAY │\n",
       "│ ---     ┆ ---  ┆ ---   ┆ --- ┆   ┆ Y             ┆ ---           ┆ _DELAY        ┆ ---           │\n",
       "│ str     ┆ u32  ┆ u32   ┆ u32 ┆   ┆ ---           ┆ u32           ┆ ---           ┆ u32           │\n",
       "│         ┆      ┆       ┆     ┆   ┆ u32           ┆               ┆ u32           ┆               │\n",
       "╞═════════╪══════╪═══════╪═════╪═══╪═══════════════╪═══════════════╪═══════════════╪═══════════════╡\n",
       "│ DL      ┆ 1    ┆ 12    ┆ 31  ┆ … ┆ 47            ┆ 764           ┆ 407           ┆ 489           │\n",
       "│ US      ┆ 1    ┆ 6     ┆ 31  ┆ … ┆ 65            ┆ 334           ┆ 305           ┆ 218           │\n",
       "│ F9      ┆ 1    ┆ 12    ┆ 31  ┆ … ┆ 2             ┆ 363           ┆ 439           ┆ 132           │\n",
       "│ AA      ┆ 1    ┆ 12    ┆ 31  ┆ … ┆ 97            ┆ 768           ┆ 565           ┆ 363           │\n",
       "│ AS      ┆ 1    ┆ 12    ┆ 31  ┆ … ┆ 65            ┆ 322           ┆ 303           ┆ 171           │\n",
       "│ …       ┆ …    ┆ …     ┆ …   ┆ … ┆ …             ┆ …             ┆ …             ┆ …             │\n",
       "│ MQ      ┆ 1    ┆ 12    ┆ 31  ┆ … ┆ 71            ┆ 543           ┆ 342           ┆ 370           │\n",
       "│ VX      ┆ 1    ┆ 12    ┆ 31  ┆ … ┆ 40            ┆ 228           ┆ 265           ┆ 94            │\n",
       "│ HA      ┆ 1    ┆ 12    ┆ 31  ┆ … ┆ 21            ┆ 258           ┆ 179           ┆ 80            │\n",
       "│ EV      ┆ 1    ┆ 12    ┆ 31  ┆ … ┆ 2             ┆ 544           ┆ 399           ┆ 315           │\n",
       "│ B6      ┆ 1    ┆ 12    ┆ 31  ┆ … ┆ 92            ┆ 382           ┆ 386           ┆ 250           │\n",
       "└─────────┴──────┴───────┴─────┴───┴───────────────┴───────────────┴───────────────┴───────────────┘"
      ]
     },
     "execution_count": 9,
     "metadata": {},
     "output_type": "execute_result"
    }
   ],
   "source": [
    "vuelos.group_by('AIRLINE').n_unique()"
   ]
  },
  {
   "cell_type": "markdown",
   "id": "33e70164-c615-4683-acc5-cd9accd3e63d",
   "metadata": {},
   "source": [
    "#### Obtener el primer y el último valor del grupo"
   ]
  },
  {
   "cell_type": "code",
   "execution_count": 10,
   "id": "52990d68-3968-4c17-bc34-8b8e895eb335",
   "metadata": {
    "tags": []
   },
   "outputs": [
    {
     "data": {
      "text/html": [
       "<div><style>\n",
       ".dataframe > thead > tr,\n",
       ".dataframe > tbody > tr {\n",
       "  text-align: right;\n",
       "  white-space: pre-wrap;\n",
       "}\n",
       "</style>\n",
       "<small>shape: (14, 31)</small><table border=\"1\" class=\"dataframe\"><thead><tr><th>AIRLINE</th><th>YEAR</th><th>MONTH</th><th>DAY</th><th>DAY_OF_WEEK</th><th>FLIGHT_NUMBER</th><th>TAIL_NUMBER</th><th>ORIGIN_AIRPORT</th><th>DESTINATION_AIRPORT</th><th>SCHEDULED_DEPARTURE</th><th>DEPARTURE_TIME</th><th>DEPARTURE_DELAY</th><th>TAXI_OUT</th><th>WHEELS_OFF</th><th>SCHEDULED_TIME</th><th>ELAPSED_TIME</th><th>AIR_TIME</th><th>DISTANCE</th><th>WHEELS_ON</th><th>TAXI_IN</th><th>SCHEDULED_ARRIVAL</th><th>ARRIVAL_TIME</th><th>ARRIVAL_DELAY</th><th>DIVERTED</th><th>CANCELLED</th><th>CANCELLATION_REASON</th><th>AIR_SYSTEM_DELAY</th><th>SECURITY_DELAY</th><th>AIRLINE_DELAY</th><th>LATE_AIRCRAFT_DELAY</th><th>WEATHER_DELAY</th></tr><tr><td>str</td><td>i32</td><td>i32</td><td>i32</td><td>i32</td><td>i32</td><td>str</td><td>str</td><td>str</td><td>i32</td><td>i32</td><td>i32</td><td>i32</td><td>i32</td><td>i32</td><td>i32</td><td>i32</td><td>i32</td><td>i32</td><td>i32</td><td>i32</td><td>i32</td><td>i32</td><td>i32</td><td>i32</td><td>str</td><td>i32</td><td>i32</td><td>i32</td><td>i32</td><td>i32</td></tr></thead><tbody><tr><td>&quot;DL&quot;</td><td>2015</td><td>12</td><td>31</td><td>4</td><td>2224</td><td>&quot;N332NW&quot;</td><td>&quot;PHX&quot;</td><td>&quot;DTW&quot;</td><td>2359</td><td>2352</td><td>-7</td><td>13</td><td>5</td><td>224</td><td>200</td><td>180</td><td>1671</td><td>505</td><td>7</td><td>543</td><td>512</td><td>-31</td><td>0</td><td>0</td><td>null</td><td>null</td><td>null</td><td>null</td><td>null</td><td>null</td></tr><tr><td>&quot;EV&quot;</td><td>2015</td><td>12</td><td>31</td><td>4</td><td>5017</td><td>&quot;N870AS&quot;</td><td>&quot;ATL&quot;</td><td>&quot;MOB&quot;</td><td>2219</td><td>2212</td><td>-7</td><td>15</td><td>2227</td><td>79</td><td>71</td><td>53</td><td>302</td><td>2220</td><td>3</td><td>2238</td><td>2223</td><td>-15</td><td>0</td><td>0</td><td>null</td><td>null</td><td>null</td><td>null</td><td>null</td><td>null</td></tr><tr><td>&quot;F9&quot;</td><td>2015</td><td>12</td><td>31</td><td>4</td><td>300</td><td>&quot;N949FR&quot;</td><td>&quot;DEN&quot;</td><td>&quot;TPA&quot;</td><td>2359</td><td>5</td><td>6</td><td>17</td><td>22</td><td>199</td><td>184</td><td>161</td><td>1506</td><td>503</td><td>6</td><td>518</td><td>509</td><td>-9</td><td>0</td><td>0</td><td>null</td><td>null</td><td>null</td><td>null</td><td>null</td><td>null</td></tr><tr><td>&quot;AS&quot;</td><td>2015</td><td>12</td><td>31</td><td>4</td><td>850</td><td>&quot;N536AS&quot;</td><td>&quot;KOA&quot;</td><td>&quot;SEA&quot;</td><td>2355</td><td>2352</td><td>-3</td><td>16</td><td>8</td><td>355</td><td>320</td><td>298</td><td>2688</td><td>706</td><td>6</td><td>750</td><td>712</td><td>-38</td><td>0</td><td>0</td><td>null</td><td>null</td><td>null</td><td>null</td><td>null</td><td>null</td></tr><tr><td>&quot;VX&quot;</td><td>2015</td><td>12</td><td>31</td><td>4</td><td>48</td><td>&quot;N281VA&quot;</td><td>&quot;OGG&quot;</td><td>&quot;SFO&quot;</td><td>2320</td><td>2318</td><td>-2</td><td>7</td><td>2325</td><td>305</td><td>270</td><td>258</td><td>2338</td><td>543</td><td>5</td><td>625</td><td>548</td><td>-37</td><td>0</td><td>0</td><td>null</td><td>null</td><td>null</td><td>null</td><td>null</td><td>null</td></tr><tr><td>&hellip;</td><td>&hellip;</td><td>&hellip;</td><td>&hellip;</td><td>&hellip;</td><td>&hellip;</td><td>&hellip;</td><td>&hellip;</td><td>&hellip;</td><td>&hellip;</td><td>&hellip;</td><td>&hellip;</td><td>&hellip;</td><td>&hellip;</td><td>&hellip;</td><td>&hellip;</td><td>&hellip;</td><td>&hellip;</td><td>&hellip;</td><td>&hellip;</td><td>&hellip;</td><td>&hellip;</td><td>&hellip;</td><td>&hellip;</td><td>&hellip;</td><td>&hellip;</td><td>&hellip;</td><td>&hellip;</td><td>&hellip;</td><td>&hellip;</td><td>&hellip;</td></tr><tr><td>&quot;WN&quot;</td><td>2015</td><td>12</td><td>31</td><td>4</td><td>5668</td><td>&quot;N7822A&quot;</td><td>&quot;ATL&quot;</td><td>&quot;IND&quot;</td><td>2255</td><td>2252</td><td>-3</td><td>10</td><td>2302</td><td>90</td><td>79</td><td>63</td><td>432</td><td>5</td><td>6</td><td>25</td><td>11</td><td>-14</td><td>0</td><td>0</td><td>null</td><td>null</td><td>null</td><td>null</td><td>null</td><td>null</td></tr><tr><td>&quot;HA&quot;</td><td>2015</td><td>12</td><td>31</td><td>4</td><td>515</td><td>&quot;N489HA&quot;</td><td>&quot;OGG&quot;</td><td>&quot;HNL&quot;</td><td>2302</td><td>2246</td><td>-16</td><td>6</td><td>2252</td><td>34</td><td>31</td><td>21</td><td>100</td><td>2313</td><td>4</td><td>2336</td><td>2317</td><td>-19</td><td>0</td><td>0</td><td>null</td><td>null</td><td>null</td><td>null</td><td>null</td><td>null</td></tr><tr><td>&quot;US&quot;</td><td>2015</td><td>6</td><td>30</td><td>2</td><td>1720</td><td>&quot;N676AW&quot;</td><td>&quot;PHX&quot;</td><td>&quot;MSP&quot;</td><td>2359</td><td>6</td><td>7</td><td>16</td><td>22</td><td>177</td><td>187</td><td>166</td><td>1276</td><td>508</td><td>5</td><td>456</td><td>513</td><td>17</td><td>0</td><td>0</td><td>null</td><td>10</td><td>0</td><td>7</td><td>0</td><td>0</td></tr><tr><td>&quot;AA&quot;</td><td>2015</td><td>12</td><td>31</td><td>4</td><td>219</td><td>&quot;N3LYAA&quot;</td><td>&quot;LAX&quot;</td><td>&quot;ORD&quot;</td><td>2359</td><td>2358</td><td>-1</td><td>23</td><td>21</td><td>244</td><td>226</td><td>198</td><td>1744</td><td>539</td><td>5</td><td>603</td><td>544</td><td>-19</td><td>0</td><td>0</td><td>null</td><td>null</td><td>null</td><td>null</td><td>null</td><td>null</td></tr><tr><td>&quot;NK&quot;</td><td>2015</td><td>12</td><td>31</td><td>4</td><td>371</td><td>&quot;N661NK&quot;</td><td>&quot;FLL&quot;</td><td>&quot;BQN&quot;</td><td>2358</td><td>11</td><td>13</td><td>15</td><td>26</td><td>140</td><td>155</td><td>121</td><td>982</td><td>327</td><td>19</td><td>318</td><td>346</td><td>28</td><td>0</td><td>0</td><td>null</td><td>15</td><td>0</td><td>13</td><td>0</td><td>0</td></tr></tbody></table></div>"
      ],
      "text/plain": [
       "shape: (14, 31)\n",
       "┌─────────┬──────┬───────┬─────┬───┬───────────────┬───────────────┬───────────────┬───────────────┐\n",
       "│ AIRLINE ┆ YEAR ┆ MONTH ┆ DAY ┆ … ┆ SECURITY_DELA ┆ AIRLINE_DELAY ┆ LATE_AIRCRAFT ┆ WEATHER_DELAY │\n",
       "│ ---     ┆ ---  ┆ ---   ┆ --- ┆   ┆ Y             ┆ ---           ┆ _DELAY        ┆ ---           │\n",
       "│ str     ┆ i32  ┆ i32   ┆ i32 ┆   ┆ ---           ┆ i32           ┆ ---           ┆ i32           │\n",
       "│         ┆      ┆       ┆     ┆   ┆ i32           ┆               ┆ i32           ┆               │\n",
       "╞═════════╪══════╪═══════╪═════╪═══╪═══════════════╪═══════════════╪═══════════════╪═══════════════╡\n",
       "│ DL      ┆ 2015 ┆ 12    ┆ 31  ┆ … ┆ null          ┆ null          ┆ null          ┆ null          │\n",
       "│ EV      ┆ 2015 ┆ 12    ┆ 31  ┆ … ┆ null          ┆ null          ┆ null          ┆ null          │\n",
       "│ F9      ┆ 2015 ┆ 12    ┆ 31  ┆ … ┆ null          ┆ null          ┆ null          ┆ null          │\n",
       "│ AS      ┆ 2015 ┆ 12    ┆ 31  ┆ … ┆ null          ┆ null          ┆ null          ┆ null          │\n",
       "│ VX      ┆ 2015 ┆ 12    ┆ 31  ┆ … ┆ null          ┆ null          ┆ null          ┆ null          │\n",
       "│ …       ┆ …    ┆ …     ┆ …   ┆ … ┆ …             ┆ …             ┆ …             ┆ …             │\n",
       "│ WN      ┆ 2015 ┆ 12    ┆ 31  ┆ … ┆ null          ┆ null          ┆ null          ┆ null          │\n",
       "│ HA      ┆ 2015 ┆ 12    ┆ 31  ┆ … ┆ null          ┆ null          ┆ null          ┆ null          │\n",
       "│ US      ┆ 2015 ┆ 6     ┆ 30  ┆ … ┆ 0             ┆ 7             ┆ 0             ┆ 0             │\n",
       "│ AA      ┆ 2015 ┆ 12    ┆ 31  ┆ … ┆ null          ┆ null          ┆ null          ┆ null          │\n",
       "│ NK      ┆ 2015 ┆ 12    ┆ 31  ┆ … ┆ 0             ┆ 13            ┆ 0             ┆ 0             │\n",
       "└─────────┴──────┴───────┴─────┴───┴───────────────┴───────────────┴───────────────┴───────────────┘"
      ]
     },
     "execution_count": 10,
     "metadata": {},
     "output_type": "execute_result"
    }
   ],
   "source": [
    "vuelos.group_by('AIRLINE').first()\n",
    "\n",
    "vuelos.group_by('AIRLINE').last()"
   ]
  },
  {
   "cell_type": "markdown",
   "id": "44a5c9db-f75a-4e02-8f78-e4187432af9a",
   "metadata": {
    "tags": []
   },
   "source": [
    "#### Obtener las n primeras filas de cada grupo"
   ]
  },
  {
   "cell_type": "code",
   "execution_count": 11,
   "id": "5d3bf9ac-e4f4-402a-ad3a-16c908164255",
   "metadata": {
    "tags": []
   },
   "outputs": [
    {
     "data": {
      "text/html": [
       "<div><style>\n",
       ".dataframe > thead > tr,\n",
       ".dataframe > tbody > tr {\n",
       "  text-align: right;\n",
       "  white-space: pre-wrap;\n",
       "}\n",
       "</style>\n",
       "<small>shape: (28, 31)</small><table border=\"1\" class=\"dataframe\"><thead><tr><th>AIRLINE</th><th>YEAR</th><th>MONTH</th><th>DAY</th><th>DAY_OF_WEEK</th><th>FLIGHT_NUMBER</th><th>TAIL_NUMBER</th><th>ORIGIN_AIRPORT</th><th>DESTINATION_AIRPORT</th><th>SCHEDULED_DEPARTURE</th><th>DEPARTURE_TIME</th><th>DEPARTURE_DELAY</th><th>TAXI_OUT</th><th>WHEELS_OFF</th><th>SCHEDULED_TIME</th><th>ELAPSED_TIME</th><th>AIR_TIME</th><th>DISTANCE</th><th>WHEELS_ON</th><th>TAXI_IN</th><th>SCHEDULED_ARRIVAL</th><th>ARRIVAL_TIME</th><th>ARRIVAL_DELAY</th><th>DIVERTED</th><th>CANCELLED</th><th>CANCELLATION_REASON</th><th>AIR_SYSTEM_DELAY</th><th>SECURITY_DELAY</th><th>AIRLINE_DELAY</th><th>LATE_AIRCRAFT_DELAY</th><th>WEATHER_DELAY</th></tr><tr><td>str</td><td>i32</td><td>i32</td><td>i32</td><td>i32</td><td>i32</td><td>str</td><td>str</td><td>str</td><td>i32</td><td>i32</td><td>i32</td><td>i32</td><td>i32</td><td>i32</td><td>i32</td><td>i32</td><td>i32</td><td>i32</td><td>i32</td><td>i32</td><td>i32</td><td>i32</td><td>i32</td><td>i32</td><td>str</td><td>i32</td><td>i32</td><td>i32</td><td>i32</td><td>i32</td></tr></thead><tbody><tr><td>&quot;DL&quot;</td><td>2015</td><td>1</td><td>1</td><td>4</td><td>806</td><td>&quot;N3730B&quot;</td><td>&quot;SFO&quot;</td><td>&quot;MSP&quot;</td><td>25</td><td>20</td><td>-5</td><td>18</td><td>38</td><td>217</td><td>230</td><td>206</td><td>1589</td><td>604</td><td>6</td><td>602</td><td>610</td><td>8</td><td>0</td><td>0</td><td>null</td><td>null</td><td>null</td><td>null</td><td>null</td><td>null</td></tr><tr><td>&quot;DL&quot;</td><td>2015</td><td>1</td><td>1</td><td>4</td><td>1173</td><td>&quot;N826DN&quot;</td><td>&quot;LAS&quot;</td><td>&quot;ATL&quot;</td><td>30</td><td>33</td><td>3</td><td>12</td><td>45</td><td>221</td><td>203</td><td>186</td><td>1747</td><td>651</td><td>5</td><td>711</td><td>656</td><td>-15</td><td>0</td><td>0</td><td>null</td><td>null</td><td>null</td><td>null</td><td>null</td><td>null</td></tr><tr><td>&quot;UA&quot;</td><td>2015</td><td>1</td><td>1</td><td>4</td><td>1197</td><td>&quot;N78448&quot;</td><td>&quot;SFO&quot;</td><td>&quot;IAH&quot;</td><td>48</td><td>42</td><td>-6</td><td>11</td><td>53</td><td>218</td><td>217</td><td>199</td><td>1635</td><td>612</td><td>7</td><td>626</td><td>619</td><td>-7</td><td>0</td><td>0</td><td>null</td><td>null</td><td>null</td><td>null</td><td>null</td><td>null</td></tr><tr><td>&quot;UA&quot;</td><td>2015</td><td>1</td><td>1</td><td>4</td><td>1545</td><td>&quot;N76517&quot;</td><td>&quot;LAX&quot;</td><td>&quot;IAH&quot;</td><td>115</td><td>112</td><td>-3</td><td>11</td><td>123</td><td>183</td><td>175</td><td>156</td><td>1379</td><td>559</td><td>8</td><td>618</td><td>607</td><td>-11</td><td>0</td><td>0</td><td>null</td><td>null</td><td>null</td><td>null</td><td>null</td><td>null</td></tr><tr><td>&quot;OO&quot;</td><td>2015</td><td>1</td><td>1</td><td>4</td><td>5467</td><td>&quot;N701BR&quot;</td><td>&quot;ONT&quot;</td><td>&quot;SFO&quot;</td><td>500</td><td>513</td><td>13</td><td>19</td><td>532</td><td>89</td><td>85</td><td>61</td><td>363</td><td>633</td><td>5</td><td>629</td><td>638</td><td>9</td><td>0</td><td>0</td><td>null</td><td>null</td><td>null</td><td>null</td><td>null</td><td>null</td></tr><tr><td>&hellip;</td><td>&hellip;</td><td>&hellip;</td><td>&hellip;</td><td>&hellip;</td><td>&hellip;</td><td>&hellip;</td><td>&hellip;</td><td>&hellip;</td><td>&hellip;</td><td>&hellip;</td><td>&hellip;</td><td>&hellip;</td><td>&hellip;</td><td>&hellip;</td><td>&hellip;</td><td>&hellip;</td><td>&hellip;</td><td>&hellip;</td><td>&hellip;</td><td>&hellip;</td><td>&hellip;</td><td>&hellip;</td><td>&hellip;</td><td>&hellip;</td><td>&hellip;</td><td>&hellip;</td><td>&hellip;</td><td>&hellip;</td><td>&hellip;</td><td>&hellip;</td></tr><tr><td>&quot;MQ&quot;</td><td>2015</td><td>1</td><td>1</td><td>4</td><td>2926</td><td>&quot;N932MQ&quot;</td><td>&quot;CHS&quot;</td><td>&quot;DFW&quot;</td><td>545</td><td>null</td><td>null</td><td>null</td><td>null</td><td>190</td><td>null</td><td>null</td><td>987</td><td>null</td><td>null</td><td>755</td><td>null</td><td>null</td><td>0</td><td>1</td><td>&quot;B&quot;</td><td>null</td><td>null</td><td>null</td><td>null</td><td>null</td></tr><tr><td>&quot;VX&quot;</td><td>2015</td><td>1</td><td>1</td><td>4</td><td>922</td><td>&quot;N361VA&quot;</td><td>&quot;SFO&quot;</td><td>&quot;LAX&quot;</td><td>645</td><td>638</td><td>-7</td><td>9</td><td>647</td><td>80</td><td>71</td><td>54</td><td>337</td><td>741</td><td>8</td><td>805</td><td>749</td><td>-16</td><td>0</td><td>0</td><td>null</td><td>null</td><td>null</td><td>null</td><td>null</td><td>null</td></tr><tr><td>&quot;VX&quot;</td><td>2015</td><td>1</td><td>1</td><td>4</td><td>399</td><td>&quot;N852VA&quot;</td><td>&quot;JFK&quot;</td><td>&quot;LAX&quot;</td><td>700</td><td>655</td><td>-5</td><td>18</td><td>713</td><td>385</td><td>392</td><td>360</td><td>2475</td><td>1013</td><td>14</td><td>1025</td><td>1027</td><td>2</td><td>0</td><td>0</td><td>null</td><td>null</td><td>null</td><td>null</td><td>null</td><td>null</td></tr><tr><td>&quot;HA&quot;</td><td>2015</td><td>1</td><td>1</td><td>4</td><td>17</td><td>&quot;N389HA&quot;</td><td>&quot;LAS&quot;</td><td>&quot;HNL&quot;</td><td>145</td><td>145</td><td>0</td><td>16</td><td>201</td><td>370</td><td>385</td><td>361</td><td>2762</td><td>602</td><td>8</td><td>555</td><td>610</td><td>15</td><td>0</td><td>0</td><td>null</td><td>0</td><td>0</td><td>15</td><td>0</td><td>0</td></tr><tr><td>&quot;HA&quot;</td><td>2015</td><td>1</td><td>1</td><td>4</td><td>102</td><td>&quot;N492HA&quot;</td><td>&quot;HNL&quot;</td><td>&quot;ITO&quot;</td><td>500</td><td>452</td><td>-8</td><td>10</td><td>502</td><td>49</td><td>51</td><td>35</td><td>216</td><td>537</td><td>6</td><td>549</td><td>543</td><td>-6</td><td>0</td><td>0</td><td>null</td><td>null</td><td>null</td><td>null</td><td>null</td><td>null</td></tr></tbody></table></div>"
      ],
      "text/plain": [
       "shape: (28, 31)\n",
       "┌─────────┬──────┬───────┬─────┬───┬───────────────┬───────────────┬───────────────┬───────────────┐\n",
       "│ AIRLINE ┆ YEAR ┆ MONTH ┆ DAY ┆ … ┆ SECURITY_DELA ┆ AIRLINE_DELAY ┆ LATE_AIRCRAFT ┆ WEATHER_DELAY │\n",
       "│ ---     ┆ ---  ┆ ---   ┆ --- ┆   ┆ Y             ┆ ---           ┆ _DELAY        ┆ ---           │\n",
       "│ str     ┆ i32  ┆ i32   ┆ i32 ┆   ┆ ---           ┆ i32           ┆ ---           ┆ i32           │\n",
       "│         ┆      ┆       ┆     ┆   ┆ i32           ┆               ┆ i32           ┆               │\n",
       "╞═════════╪══════╪═══════╪═════╪═══╪═══════════════╪═══════════════╪═══════════════╪═══════════════╡\n",
       "│ DL      ┆ 2015 ┆ 1     ┆ 1   ┆ … ┆ null          ┆ null          ┆ null          ┆ null          │\n",
       "│ DL      ┆ 2015 ┆ 1     ┆ 1   ┆ … ┆ null          ┆ null          ┆ null          ┆ null          │\n",
       "│ UA      ┆ 2015 ┆ 1     ┆ 1   ┆ … ┆ null          ┆ null          ┆ null          ┆ null          │\n",
       "│ UA      ┆ 2015 ┆ 1     ┆ 1   ┆ … ┆ null          ┆ null          ┆ null          ┆ null          │\n",
       "│ OO      ┆ 2015 ┆ 1     ┆ 1   ┆ … ┆ null          ┆ null          ┆ null          ┆ null          │\n",
       "│ …       ┆ …    ┆ …     ┆ …   ┆ … ┆ …             ┆ …             ┆ …             ┆ …             │\n",
       "│ MQ      ┆ 2015 ┆ 1     ┆ 1   ┆ … ┆ null          ┆ null          ┆ null          ┆ null          │\n",
       "│ VX      ┆ 2015 ┆ 1     ┆ 1   ┆ … ┆ null          ┆ null          ┆ null          ┆ null          │\n",
       "│ VX      ┆ 2015 ┆ 1     ┆ 1   ┆ … ┆ null          ┆ null          ┆ null          ┆ null          │\n",
       "│ HA      ┆ 2015 ┆ 1     ┆ 1   ┆ … ┆ 0             ┆ 15            ┆ 0             ┆ 0             │\n",
       "│ HA      ┆ 2015 ┆ 1     ┆ 1   ┆ … ┆ null          ┆ null          ┆ null          ┆ null          │\n",
       "└─────────┴──────┴───────┴─────┴───┴───────────────┴───────────────┴───────────────┴───────────────┘"
      ]
     },
     "execution_count": 11,
     "metadata": {},
     "output_type": "execute_result"
    }
   ],
   "source": [
    "vuelos.group_by('AIRLINE').head(2)"
   ]
  },
  {
   "cell_type": "markdown",
   "id": "1b2f7bbe-1d9b-4d5f-b485-7d35ad32671a",
   "metadata": {
    "tags": []
   },
   "source": [
    "### Máximo, mínimo, suma, media y mediana de cada grupo"
   ]
  },
  {
   "cell_type": "markdown",
   "id": "3a4e0719-7278-4668-973d-52e49a2e6213",
   "metadata": {},
   "source": [
    "Las funciones `max`, `min`, `sum`, `mean` y `median` calculan el máximo, mínimo, suma, media y mediana respectivamente de cada grupo."
   ]
  },
  {
   "cell_type": "code",
   "execution_count": 12,
   "id": "20651172-4096-442b-9420-e58f3cd67a0b",
   "metadata": {
    "tags": []
   },
   "outputs": [
    {
     "data": {
      "text/html": [
       "<div><style>\n",
       ".dataframe > thead > tr,\n",
       ".dataframe > tbody > tr {\n",
       "  text-align: right;\n",
       "  white-space: pre-wrap;\n",
       "}\n",
       "</style>\n",
       "<small>shape: (14, 31)</small><table border=\"1\" class=\"dataframe\"><thead><tr><th>AIRLINE</th><th>YEAR</th><th>MONTH</th><th>DAY</th><th>DAY_OF_WEEK</th><th>FLIGHT_NUMBER</th><th>TAIL_NUMBER</th><th>ORIGIN_AIRPORT</th><th>DESTINATION_AIRPORT</th><th>SCHEDULED_DEPARTURE</th><th>DEPARTURE_TIME</th><th>DEPARTURE_DELAY</th><th>TAXI_OUT</th><th>WHEELS_OFF</th><th>SCHEDULED_TIME</th><th>ELAPSED_TIME</th><th>AIR_TIME</th><th>DISTANCE</th><th>WHEELS_ON</th><th>TAXI_IN</th><th>SCHEDULED_ARRIVAL</th><th>ARRIVAL_TIME</th><th>ARRIVAL_DELAY</th><th>DIVERTED</th><th>CANCELLED</th><th>CANCELLATION_REASON</th><th>AIR_SYSTEM_DELAY</th><th>SECURITY_DELAY</th><th>AIRLINE_DELAY</th><th>LATE_AIRCRAFT_DELAY</th><th>WEATHER_DELAY</th></tr><tr><td>str</td><td>f64</td><td>f64</td><td>f64</td><td>f64</td><td>f64</td><td>str</td><td>str</td><td>str</td><td>f64</td><td>f64</td><td>f64</td><td>f64</td><td>f64</td><td>f64</td><td>f64</td><td>f64</td><td>f64</td><td>f64</td><td>f64</td><td>f64</td><td>f64</td><td>f64</td><td>f64</td><td>f64</td><td>str</td><td>f64</td><td>f64</td><td>f64</td><td>f64</td><td>f64</td></tr></thead><tbody><tr><td>&quot;VX&quot;</td><td>2015.0</td><td>6.713164</td><td>15.766764</td><td>3.913865</td><td>574.940649</td><td>null</td><td>null</td><td>null</td><td>1349.713568</td><td>1356.407152</td><td>9.022595</td><td>14.755854</td><td>1376.237905</td><td>210.068898</td><td>205.558435</td><td>182.630796</td><td>1405.989322</td><td>1545.379614</td><td>8.186914</td><td>1574.010226</td><td>1551.53084</td><td>4.737706</td><td>0.001955</td><td>0.008626</td><td>null</td><td>20.360672</td><td>0.155035</td><td>11.097809</td><td>21.693751</td><td>2.994057</td></tr><tr><td>&quot;US&quot;</td><td>2015.0</td><td>3.532355</td><td>15.611594</td><td>3.943245</td><td>1323.686274</td><td>null</td><td>null</td><td>null</td><td>1329.785925</td><td>1331.641622</td><td>6.141137</td><td>19.006858</td><td>1357.248518</td><td>154.402395</td><td>152.402455</td><td>125.774234</td><td>911.503862</td><td>1474.255095</td><td>7.631978</td><td>1496.494487</td><td>1478.172931</td><td>3.706209</td><td>0.002139</td><td>0.020466</td><td>null</td><td>16.470027</td><td>0.168623</td><td>17.410107</td><td>14.311199</td><td>1.930477</td></tr><tr><td>&quot;HA&quot;</td><td>2015.0</td><td>6.511223</td><td>15.720238</td><td>4.013504</td><td>217.476794</td><td>null</td><td>null</td><td>null</td><td>1304.997653</td><td>1302.314416</td><td>0.485713</td><td>10.953551</td><td>1321.236949</td><td>101.189939</td><td>102.672269</td><td>84.881314</td><td>632.591842</td><td>1418.04827</td><td>6.841194</td><td>1431.423327</td><td>1427.002142</td><td>2.023093</td><td>0.000787</td><td>0.002242</td><td>null</td><td>0.724182</td><td>0.046531</td><td>22.792063</td><td>14.701671</td><td>1.326178</td></tr><tr><td>&quot;DL&quot;</td><td>2015.0</td><td>6.615052</td><td>15.708578</td><td>3.908314</td><td>1616.302924</td><td>null</td><td>null</td><td>null</td><td>1331.822617</td><td>1334.800463</td><td>7.369254</td><td>17.608081</td><td>1360.41155</td><td>147.633377</td><td>140.471965</td><td>115.665353</td><td>853.621825</td><td>1489.333</td><td>7.209058</td><td>1511.75577</td><td>1495.217847</td><td>0.186754</td><td>0.002035</td><td>0.004366</td><td>null</td><td>15.076578</td><td>0.033129</td><td>22.941028</td><td>18.099252</td><td>5.108335</td></tr><tr><td>&quot;AA&quot;</td><td>2015.0</td><td>7.304672</td><td>15.727555</td><td>3.956017</td><td>1281.651554</td><td>null</td><td>null</td><td>null</td><td>1312.533521</td><td>1317.270543</td><td>8.900856</td><td>17.76917</td><td>1339.46102</td><td>171.704763</td><td>166.433282</td><td>139.806208</td><td>1041.339222</td><td>1486.907721</td><td>8.876172</td><td>1512.057768</td><td>1492.151436</td><td>3.451372</td><td>0.002934</td><td>0.01504</td><td>null</td><td>13.513774</td><td>0.124026</td><td>21.139201</td><td>21.747956</td><td>3.587838</td></tr><tr><td>&hellip;</td><td>&hellip;</td><td>&hellip;</td><td>&hellip;</td><td>&hellip;</td><td>&hellip;</td><td>&hellip;</td><td>&hellip;</td><td>&hellip;</td><td>&hellip;</td><td>&hellip;</td><td>&hellip;</td><td>&hellip;</td><td>&hellip;</td><td>&hellip;</td><td>&hellip;</td><td>&hellip;</td><td>&hellip;</td><td>&hellip;</td><td>&hellip;</td><td>&hellip;</td><td>&hellip;</td><td>&hellip;</td><td>&hellip;</td><td>&hellip;</td><td>&hellip;</td><td>&hellip;</td><td>&hellip;</td><td>&hellip;</td><td>&hellip;</td><td>&hellip;</td></tr><tr><td>&quot;UA&quot;</td><td>2015.0</td><td>6.630742</td><td>15.705935</td><td>3.891331</td><td>1061.441933</td><td>null</td><td>null</td><td>null</td><td>1316.434817</td><td>1324.861601</td><td>14.435441</td><td>17.414003</td><td>1345.068306</td><td>199.655051</td><td>190.745816</td><td>164.835886</td><td>1271.545684</td><td>1458.584704</td><td>8.508092</td><td>1483.909182</td><td>1462.958125</td><td>5.431594</td><td>0.002691</td><td>0.012745</td><td>null</td><td>14.422681</td><td>0.012462</td><td>21.144678</td><td>26.019098</td><td>3.103875</td></tr><tr><td>&quot;NK&quot;</td><td>2015.0</td><td>6.710715</td><td>15.788863</td><td>4.013784</td><td>541.483732</td><td>null</td><td>null</td><td>null</td><td>1361.208828</td><td>1362.592322</td><td>15.944766</td><td>14.604656</td><td>1376.949204</td><td>157.880177</td><td>156.503598</td><td>132.347886</td><td>985.267118</td><td>1437.6809</td><td>9.556557</td><td>1478.249431</td><td>1432.768959</td><td>14.4718</td><td>0.001551</td><td>0.017073</td><td>null</td><td>27.510096</td><td>0.150405</td><td>13.766839</td><td>20.490868</td><td>1.288332</td></tr><tr><td>&quot;WN&quot;</td><td>2015.0</td><td>6.559445</td><td>15.71881</td><td>3.906943</td><td>1809.804976</td><td>null</td><td>null</td><td>null</td><td>1331.92849</td><td>1343.665475</td><td>10.581986</td><td>11.943682</td><td>1362.675977</td><td>127.251709</td><td>121.201368</td><td>103.100485</td><td>740.711335</td><td>1469.865536</td><td>6.167662</td><td>1493.668631</td><td>1472.477847</td><td>4.374964</td><td>0.002702</td><td>0.012714</td><td>null</td><td>7.054161</td><td>0.05024</td><td>16.191674</td><td>26.68159</td><td>2.304772</td></tr><tr><td>&quot;B6&quot;</td><td>2015.0</td><td>6.560877</td><td>15.748738</td><td>3.98625</td><td>911.451099</td><td>null</td><td>null</td><td>null</td><td>1363.310274</td><td>1351.49097</td><td>11.514353</td><td>17.872453</td><td>1361.287082</td><td>172.559967</td><td>167.838858</td><td>143.858492</td><td>1062.175178</td><td>1438.586664</td><td>6.121373</td><td>1472.204383</td><td>1438.332236</td><td>6.677861</td><td>0.002734</td><td>0.016012</td><td>null</td><td>16.754728</td><td>0.192936</td><td>18.150503</td><td>23.954305</td><td>1.956401</td></tr><tr><td>&quot;MQ&quot;</td><td>2015.0</td><td>6.112038</td><td>15.616464</td><td>3.922235</td><td>3313.165773</td><td>null</td><td>null</td><td>null</td><td>1325.66876</td><td>1335.348338</td><td>10.125188</td><td>16.549323</td><td>1361.629143</td><td>96.069582</td><td>92.593516</td><td>66.97963</td><td>422.315407</td><td>1454.319725</td><td>9.084096</td><td>1468.390233</td><td>1465.457852</td><td>6.457873</td><td>0.00277</td><td>0.050996</td><td>null</td><td>15.372752</td><td>0.116422</td><td>17.425025</td><td>23.404512</td><td>6.644508</td></tr></tbody></table></div>"
      ],
      "text/plain": [
       "shape: (14, 31)\n",
       "┌─────────┬────────┬──────────┬───────────┬───┬─────────────┬────────────┬────────────┬────────────┐\n",
       "│ AIRLINE ┆ YEAR   ┆ MONTH    ┆ DAY       ┆ … ┆ SECURITY_DE ┆ AIRLINE_DE ┆ LATE_AIRCR ┆ WEATHER_DE │\n",
       "│ ---     ┆ ---    ┆ ---      ┆ ---       ┆   ┆ LAY         ┆ LAY        ┆ AFT_DELAY  ┆ LAY        │\n",
       "│ str     ┆ f64    ┆ f64      ┆ f64       ┆   ┆ ---         ┆ ---        ┆ ---        ┆ ---        │\n",
       "│         ┆        ┆          ┆           ┆   ┆ f64         ┆ f64        ┆ f64        ┆ f64        │\n",
       "╞═════════╪════════╪══════════╪═══════════╪═══╪═════════════╪════════════╪════════════╪════════════╡\n",
       "│ VX      ┆ 2015.0 ┆ 6.713164 ┆ 15.766764 ┆ … ┆ 0.155035    ┆ 11.097809  ┆ 21.693751  ┆ 2.994057   │\n",
       "│ US      ┆ 2015.0 ┆ 3.532355 ┆ 15.611594 ┆ … ┆ 0.168623    ┆ 17.410107  ┆ 14.311199  ┆ 1.930477   │\n",
       "│ HA      ┆ 2015.0 ┆ 6.511223 ┆ 15.720238 ┆ … ┆ 0.046531    ┆ 22.792063  ┆ 14.701671  ┆ 1.326178   │\n",
       "│ DL      ┆ 2015.0 ┆ 6.615052 ┆ 15.708578 ┆ … ┆ 0.033129    ┆ 22.941028  ┆ 18.099252  ┆ 5.108335   │\n",
       "│ AA      ┆ 2015.0 ┆ 7.304672 ┆ 15.727555 ┆ … ┆ 0.124026    ┆ 21.139201  ┆ 21.747956  ┆ 3.587838   │\n",
       "│ …       ┆ …      ┆ …        ┆ …         ┆ … ┆ …           ┆ …          ┆ …          ┆ …          │\n",
       "│ UA      ┆ 2015.0 ┆ 6.630742 ┆ 15.705935 ┆ … ┆ 0.012462    ┆ 21.144678  ┆ 26.019098  ┆ 3.103875   │\n",
       "│ NK      ┆ 2015.0 ┆ 6.710715 ┆ 15.788863 ┆ … ┆ 0.150405    ┆ 13.766839  ┆ 20.490868  ┆ 1.288332   │\n",
       "│ WN      ┆ 2015.0 ┆ 6.559445 ┆ 15.71881  ┆ … ┆ 0.05024     ┆ 16.191674  ┆ 26.68159   ┆ 2.304772   │\n",
       "│ B6      ┆ 2015.0 ┆ 6.560877 ┆ 15.748738 ┆ … ┆ 0.192936    ┆ 18.150503  ┆ 23.954305  ┆ 1.956401   │\n",
       "│ MQ      ┆ 2015.0 ┆ 6.112038 ┆ 15.616464 ┆ … ┆ 0.116422    ┆ 17.425025  ┆ 23.404512  ┆ 6.644508   │\n",
       "└─────────┴────────┴──────────┴───────────┴───┴─────────────┴────────────┴────────────┴────────────┘"
      ]
     },
     "execution_count": 12,
     "metadata": {},
     "output_type": "execute_result"
    }
   ],
   "source": [
    "vuelos.group_by('AIRLINE').max()\n",
    "\n",
    "vuelos.group_by('AIRLINE').sum()\n",
    "\n",
    "vuelos.group_by('AIRLINE').mean()"
   ]
  }
 ],
 "metadata": {
  "kernelspec": {
   "display_name": "Python 3 (ipykernel)",
   "language": "python",
   "name": "python3"
  },
  "language_info": {
   "codemirror_mode": {
    "name": "ipython",
    "version": 3
   },
   "file_extension": ".py",
   "mimetype": "text/x-python",
   "name": "python",
   "nbconvert_exporter": "python",
   "pygments_lexer": "ipython3",
   "version": "3.9.6"
  }
 },
 "nbformat": 4,
 "nbformat_minor": 5
}
