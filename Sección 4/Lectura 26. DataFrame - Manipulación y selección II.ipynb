{
 "cells": [
  {
   "cell_type": "markdown",
   "id": "04b9855f-cef5-4acf-a3cf-118a1a910c1e",
   "metadata": {},
   "source": [
    "# Lectura 26: DataFrame - Manipulación y selección II"
   ]
  },
  {
   "cell_type": "markdown",
   "id": "c5621859-9a9c-4d8a-b2c1-a2e4135fdd91",
   "metadata": {},
   "source": [
    "## `cast`\n",
    "\n",
    "Esta función castea las columnas de un DataFrame a un tipo de datos en específico. Recibe como parámetro un diccionario con el nombre de la(s) columna(s) que se desean castear y el tipo de dato al cual se van a castear."
   ]
  },
  {
   "cell_type": "code",
   "execution_count": 1,
   "id": "eaeb8970-7f68-48d6-876f-44a6f622b040",
   "metadata": {},
   "outputs": [
    {
     "data": {
      "text/html": [
       "<div><style>\n",
       ".dataframe > thead > tr,\n",
       ".dataframe > tbody > tr {\n",
       "  text-align: right;\n",
       "  white-space: pre-wrap;\n",
       "}\n",
       "</style>\n",
       "<small>shape: (3, 4)</small><table border=\"1\" class=\"dataframe\"><thead><tr><th>num</th><th>dec</th><th>date</th><th>date1</th></tr><tr><td>i64</td><td>f64</td><td>date</td><td>date</td></tr></thead><tbody><tr><td>1</td><td>6.0</td><td>2024-01-02</td><td>2024-05-23</td></tr><tr><td>2</td><td>7.0</td><td>2024-03-04</td><td>2024-03-14</td></tr><tr><td>3</td><td>8.0</td><td>2023-05-06</td><td>2023-05-26</td></tr></tbody></table></div>"
      ],
      "text/plain": [
       "shape: (3, 4)\n",
       "┌─────┬─────┬────────────┬────────────┐\n",
       "│ num ┆ dec ┆ date       ┆ date1      │\n",
       "│ --- ┆ --- ┆ ---        ┆ ---        │\n",
       "│ i64 ┆ f64 ┆ date       ┆ date       │\n",
       "╞═════╪═════╪════════════╪════════════╡\n",
       "│ 1   ┆ 6.0 ┆ 2024-01-02 ┆ 2024-05-23 │\n",
       "│ 2   ┆ 7.0 ┆ 2024-03-04 ┆ 2024-03-14 │\n",
       "│ 3   ┆ 8.0 ┆ 2023-05-06 ┆ 2023-05-26 │\n",
       "└─────┴─────┴────────────┴────────────┘"
      ]
     },
     "execution_count": 1,
     "metadata": {},
     "output_type": "execute_result"
    }
   ],
   "source": [
    "import polars as pl\n",
    "from datetime import date\n",
    "\n",
    "df = pl.DataFrame(\n",
    "    {\n",
    "        \"num\": [1, 2, 3],\n",
    "        \"dec\": [6.0, 7.0, 8.0],\n",
    "        \"date\": [date(2024, 1, 2), date(2024, 3, 4), date(2023, 5, 6)],\n",
    "        \"date1\": [date(2024, 5, 23), date(2024, 3, 14), date(2023, 5, 26)]\n",
    "    }\n",
    ")\n",
    "\n",
    "df"
   ]
  },
  {
   "cell_type": "code",
   "execution_count": 2,
   "id": "fe9adc18-0357-437d-bc1d-0ba8dd3b7220",
   "metadata": {
    "tags": []
   },
   "outputs": [
    {
     "data": {
      "text/html": [
       "<div><style>\n",
       ".dataframe > thead > tr,\n",
       ".dataframe > tbody > tr {\n",
       "  text-align: right;\n",
       "  white-space: pre-wrap;\n",
       "}\n",
       "</style>\n",
       "<small>shape: (3, 4)</small><table border=\"1\" class=\"dataframe\"><thead><tr><th>num</th><th>dec</th><th>date</th><th>date1</th></tr><tr><td>f32</td><td>u8</td><td>date</td><td>date</td></tr></thead><tbody><tr><td>1.0</td><td>6</td><td>2024-01-02</td><td>2024-05-23</td></tr><tr><td>2.0</td><td>7</td><td>2024-03-04</td><td>2024-03-14</td></tr><tr><td>3.0</td><td>8</td><td>2023-05-06</td><td>2023-05-26</td></tr></tbody></table></div>"
      ],
      "text/plain": [
       "shape: (3, 4)\n",
       "┌─────┬─────┬────────────┬────────────┐\n",
       "│ num ┆ dec ┆ date       ┆ date1      │\n",
       "│ --- ┆ --- ┆ ---        ┆ ---        │\n",
       "│ f32 ┆ u8  ┆ date       ┆ date       │\n",
       "╞═════╪═════╪════════════╪════════════╡\n",
       "│ 1.0 ┆ 6   ┆ 2024-01-02 ┆ 2024-05-23 │\n",
       "│ 2.0 ┆ 7   ┆ 2024-03-04 ┆ 2024-03-14 │\n",
       "│ 3.0 ┆ 8   ┆ 2023-05-06 ┆ 2023-05-26 │\n",
       "└─────┴─────┴────────────┴────────────┘"
      ]
     },
     "execution_count": 2,
     "metadata": {},
     "output_type": "execute_result"
    }
   ],
   "source": [
    "df.cast({'num': pl.Float32, 'dec': pl.UInt8})"
   ]
  },
  {
   "cell_type": "markdown",
   "id": "fd4fe65d-aa31-4ee5-9fd0-bf44dd1fa78b",
   "metadata": {},
   "source": [
    "Podemos castear todas las columnas de un tipo de datos específico a otro tipo de datos usando selectores."
   ]
  },
  {
   "cell_type": "code",
   "execution_count": 3,
   "id": "cfab6301-f049-4619-a25f-ef7028c3c23d",
   "metadata": {
    "tags": []
   },
   "outputs": [
    {
     "data": {
      "text/html": [
       "<div><style>\n",
       ".dataframe > thead > tr,\n",
       ".dataframe > tbody > tr {\n",
       "  text-align: right;\n",
       "  white-space: pre-wrap;\n",
       "}\n",
       "</style>\n",
       "<small>shape: (3, 4)</small><table border=\"1\" class=\"dataframe\"><thead><tr><th>num</th><th>dec</th><th>date</th><th>date1</th></tr><tr><td>i64</td><td>f64</td><td>datetime[μs]</td><td>datetime[μs]</td></tr></thead><tbody><tr><td>1</td><td>6.0</td><td>2024-01-02 00:00:00</td><td>2024-05-23 00:00:00</td></tr><tr><td>2</td><td>7.0</td><td>2024-03-04 00:00:00</td><td>2024-03-14 00:00:00</td></tr><tr><td>3</td><td>8.0</td><td>2023-05-06 00:00:00</td><td>2023-05-26 00:00:00</td></tr></tbody></table></div>"
      ],
      "text/plain": [
       "shape: (3, 4)\n",
       "┌─────┬─────┬─────────────────────┬─────────────────────┐\n",
       "│ num ┆ dec ┆ date                ┆ date1               │\n",
       "│ --- ┆ --- ┆ ---                 ┆ ---                 │\n",
       "│ i64 ┆ f64 ┆ datetime[μs]        ┆ datetime[μs]        │\n",
       "╞═════╪═════╪═════════════════════╪═════════════════════╡\n",
       "│ 1   ┆ 6.0 ┆ 2024-01-02 00:00:00 ┆ 2024-05-23 00:00:00 │\n",
       "│ 2   ┆ 7.0 ┆ 2024-03-04 00:00:00 ┆ 2024-03-14 00:00:00 │\n",
       "│ 3   ┆ 8.0 ┆ 2023-05-06 00:00:00 ┆ 2023-05-26 00:00:00 │\n",
       "└─────┴─────┴─────────────────────┴─────────────────────┘"
      ]
     },
     "execution_count": 3,
     "metadata": {},
     "output_type": "execute_result"
    }
   ],
   "source": [
    "import polars.selectors as cs\n",
    "\n",
    "df.cast({cs.date(): pl.Datetime})"
   ]
  },
  {
   "cell_type": "markdown",
   "id": "ca77c406-e7ce-4e35-bb52-23d6e7cb3257",
   "metadata": {},
   "source": [
    "## `clone`\n",
    "\n",
    "Con esta función podremos crear una copia de un DataFrame. Esta es una operación poco costosa porque no copia los datos."
   ]
  },
  {
   "cell_type": "code",
   "execution_count": 4,
   "id": "3985d010-3120-4fc9-99fc-610120b9a07b",
   "metadata": {
    "tags": []
   },
   "outputs": [
    {
     "data": {
      "text/html": [
       "<div><style>\n",
       ".dataframe > thead > tr,\n",
       ".dataframe > tbody > tr {\n",
       "  text-align: right;\n",
       "  white-space: pre-wrap;\n",
       "}\n",
       "</style>\n",
       "<small>shape: (5_819_079, 31)</small><table border=\"1\" class=\"dataframe\"><thead><tr><th>YEAR</th><th>MONTH</th><th>DAY</th><th>DAY_OF_WEEK</th><th>AIRLINE</th><th>FLIGHT_NUMBER</th><th>TAIL_NUMBER</th><th>ORIGIN_AIRPORT</th><th>DESTINATION_AIRPORT</th><th>SCHEDULED_DEPARTURE</th><th>DEPARTURE_TIME</th><th>DEPARTURE_DELAY</th><th>TAXI_OUT</th><th>WHEELS_OFF</th><th>SCHEDULED_TIME</th><th>ELAPSED_TIME</th><th>AIR_TIME</th><th>DISTANCE</th><th>WHEELS_ON</th><th>TAXI_IN</th><th>SCHEDULED_ARRIVAL</th><th>ARRIVAL_TIME</th><th>ARRIVAL_DELAY</th><th>DIVERTED</th><th>CANCELLED</th><th>CANCELLATION_REASON</th><th>AIR_SYSTEM_DELAY</th><th>SECURITY_DELAY</th><th>AIRLINE_DELAY</th><th>LATE_AIRCRAFT_DELAY</th><th>WEATHER_DELAY</th></tr><tr><td>i32</td><td>i32</td><td>i32</td><td>i32</td><td>str</td><td>i32</td><td>str</td><td>str</td><td>str</td><td>i32</td><td>i32</td><td>i32</td><td>i32</td><td>i32</td><td>i32</td><td>i32</td><td>i32</td><td>i32</td><td>i32</td><td>i32</td><td>i32</td><td>i32</td><td>i32</td><td>i32</td><td>i32</td><td>str</td><td>i32</td><td>i32</td><td>i32</td><td>i32</td><td>i32</td></tr></thead><tbody><tr><td>2015</td><td>1</td><td>1</td><td>4</td><td>&quot;AS&quot;</td><td>98</td><td>&quot;N407AS&quot;</td><td>&quot;ANC&quot;</td><td>&quot;SEA&quot;</td><td>5</td><td>2354</td><td>-11</td><td>21</td><td>15</td><td>205</td><td>194</td><td>169</td><td>1448</td><td>404</td><td>4</td><td>430</td><td>408</td><td>-22</td><td>0</td><td>0</td><td>null</td><td>null</td><td>null</td><td>null</td><td>null</td><td>null</td></tr><tr><td>2015</td><td>1</td><td>1</td><td>4</td><td>&quot;AA&quot;</td><td>2336</td><td>&quot;N3KUAA&quot;</td><td>&quot;LAX&quot;</td><td>&quot;PBI&quot;</td><td>10</td><td>2</td><td>-8</td><td>12</td><td>14</td><td>280</td><td>279</td><td>263</td><td>2330</td><td>737</td><td>4</td><td>750</td><td>741</td><td>-9</td><td>0</td><td>0</td><td>null</td><td>null</td><td>null</td><td>null</td><td>null</td><td>null</td></tr><tr><td>2015</td><td>1</td><td>1</td><td>4</td><td>&quot;US&quot;</td><td>840</td><td>&quot;N171US&quot;</td><td>&quot;SFO&quot;</td><td>&quot;CLT&quot;</td><td>20</td><td>18</td><td>-2</td><td>16</td><td>34</td><td>286</td><td>293</td><td>266</td><td>2296</td><td>800</td><td>11</td><td>806</td><td>811</td><td>5</td><td>0</td><td>0</td><td>null</td><td>null</td><td>null</td><td>null</td><td>null</td><td>null</td></tr><tr><td>2015</td><td>1</td><td>1</td><td>4</td><td>&quot;AA&quot;</td><td>258</td><td>&quot;N3HYAA&quot;</td><td>&quot;LAX&quot;</td><td>&quot;MIA&quot;</td><td>20</td><td>15</td><td>-5</td><td>15</td><td>30</td><td>285</td><td>281</td><td>258</td><td>2342</td><td>748</td><td>8</td><td>805</td><td>756</td><td>-9</td><td>0</td><td>0</td><td>null</td><td>null</td><td>null</td><td>null</td><td>null</td><td>null</td></tr><tr><td>2015</td><td>1</td><td>1</td><td>4</td><td>&quot;AS&quot;</td><td>135</td><td>&quot;N527AS&quot;</td><td>&quot;SEA&quot;</td><td>&quot;ANC&quot;</td><td>25</td><td>24</td><td>-1</td><td>11</td><td>35</td><td>235</td><td>215</td><td>199</td><td>1448</td><td>254</td><td>5</td><td>320</td><td>259</td><td>-21</td><td>0</td><td>0</td><td>null</td><td>null</td><td>null</td><td>null</td><td>null</td><td>null</td></tr><tr><td>&hellip;</td><td>&hellip;</td><td>&hellip;</td><td>&hellip;</td><td>&hellip;</td><td>&hellip;</td><td>&hellip;</td><td>&hellip;</td><td>&hellip;</td><td>&hellip;</td><td>&hellip;</td><td>&hellip;</td><td>&hellip;</td><td>&hellip;</td><td>&hellip;</td><td>&hellip;</td><td>&hellip;</td><td>&hellip;</td><td>&hellip;</td><td>&hellip;</td><td>&hellip;</td><td>&hellip;</td><td>&hellip;</td><td>&hellip;</td><td>&hellip;</td><td>&hellip;</td><td>&hellip;</td><td>&hellip;</td><td>&hellip;</td><td>&hellip;</td><td>&hellip;</td></tr><tr><td>2015</td><td>12</td><td>31</td><td>4</td><td>&quot;B6&quot;</td><td>688</td><td>&quot;N657JB&quot;</td><td>&quot;LAX&quot;</td><td>&quot;BOS&quot;</td><td>2359</td><td>2355</td><td>-4</td><td>22</td><td>17</td><td>320</td><td>298</td><td>272</td><td>2611</td><td>749</td><td>4</td><td>819</td><td>753</td><td>-26</td><td>0</td><td>0</td><td>null</td><td>null</td><td>null</td><td>null</td><td>null</td><td>null</td></tr><tr><td>2015</td><td>12</td><td>31</td><td>4</td><td>&quot;B6&quot;</td><td>745</td><td>&quot;N828JB&quot;</td><td>&quot;JFK&quot;</td><td>&quot;PSE&quot;</td><td>2359</td><td>2355</td><td>-4</td><td>17</td><td>12</td><td>227</td><td>215</td><td>195</td><td>1617</td><td>427</td><td>3</td><td>446</td><td>430</td><td>-16</td><td>0</td><td>0</td><td>null</td><td>null</td><td>null</td><td>null</td><td>null</td><td>null</td></tr><tr><td>2015</td><td>12</td><td>31</td><td>4</td><td>&quot;B6&quot;</td><td>1503</td><td>&quot;N913JB&quot;</td><td>&quot;JFK&quot;</td><td>&quot;SJU&quot;</td><td>2359</td><td>2350</td><td>-9</td><td>17</td><td>7</td><td>221</td><td>222</td><td>197</td><td>1598</td><td>424</td><td>8</td><td>440</td><td>432</td><td>-8</td><td>0</td><td>0</td><td>null</td><td>null</td><td>null</td><td>null</td><td>null</td><td>null</td></tr><tr><td>2015</td><td>12</td><td>31</td><td>4</td><td>&quot;B6&quot;</td><td>333</td><td>&quot;N527JB&quot;</td><td>&quot;MCO&quot;</td><td>&quot;SJU&quot;</td><td>2359</td><td>2353</td><td>-6</td><td>10</td><td>3</td><td>161</td><td>157</td><td>144</td><td>1189</td><td>327</td><td>3</td><td>340</td><td>330</td><td>-10</td><td>0</td><td>0</td><td>null</td><td>null</td><td>null</td><td>null</td><td>null</td><td>null</td></tr><tr><td>2015</td><td>12</td><td>31</td><td>4</td><td>&quot;B6&quot;</td><td>839</td><td>&quot;N534JB&quot;</td><td>&quot;JFK&quot;</td><td>&quot;BQN&quot;</td><td>2359</td><td>14</td><td>15</td><td>14</td><td>28</td><td>221</td><td>208</td><td>189</td><td>1576</td><td>437</td><td>5</td><td>440</td><td>442</td><td>2</td><td>0</td><td>0</td><td>null</td><td>null</td><td>null</td><td>null</td><td>null</td><td>null</td></tr></tbody></table></div>"
      ],
      "text/plain": [
       "shape: (5_819_079, 31)\n",
       "┌──────┬───────┬─────┬─────────────┬───┬──────────────┬──────────────┬──────────────┬──────────────┐\n",
       "│ YEAR ┆ MONTH ┆ DAY ┆ DAY_OF_WEEK ┆ … ┆ SECURITY_DEL ┆ AIRLINE_DELA ┆ LATE_AIRCRAF ┆ WEATHER_DELA │\n",
       "│ ---  ┆ ---   ┆ --- ┆ ---         ┆   ┆ AY           ┆ Y            ┆ T_DELAY      ┆ Y            │\n",
       "│ i32  ┆ i32   ┆ i32 ┆ i32         ┆   ┆ ---          ┆ ---          ┆ ---          ┆ ---          │\n",
       "│      ┆       ┆     ┆             ┆   ┆ i32          ┆ i32          ┆ i32          ┆ i32          │\n",
       "╞══════╪═══════╪═════╪═════════════╪═══╪══════════════╪══════════════╪══════════════╪══════════════╡\n",
       "│ 2015 ┆ 1     ┆ 1   ┆ 4           ┆ … ┆ null         ┆ null         ┆ null         ┆ null         │\n",
       "│ 2015 ┆ 1     ┆ 1   ┆ 4           ┆ … ┆ null         ┆ null         ┆ null         ┆ null         │\n",
       "│ 2015 ┆ 1     ┆ 1   ┆ 4           ┆ … ┆ null         ┆ null         ┆ null         ┆ null         │\n",
       "│ 2015 ┆ 1     ┆ 1   ┆ 4           ┆ … ┆ null         ┆ null         ┆ null         ┆ null         │\n",
       "│ 2015 ┆ 1     ┆ 1   ┆ 4           ┆ … ┆ null         ┆ null         ┆ null         ┆ null         │\n",
       "│ …    ┆ …     ┆ …   ┆ …           ┆ … ┆ …            ┆ …            ┆ …            ┆ …            │\n",
       "│ 2015 ┆ 12    ┆ 31  ┆ 4           ┆ … ┆ null         ┆ null         ┆ null         ┆ null         │\n",
       "│ 2015 ┆ 12    ┆ 31  ┆ 4           ┆ … ┆ null         ┆ null         ┆ null         ┆ null         │\n",
       "│ 2015 ┆ 12    ┆ 31  ┆ 4           ┆ … ┆ null         ┆ null         ┆ null         ┆ null         │\n",
       "│ 2015 ┆ 12    ┆ 31  ┆ 4           ┆ … ┆ null         ┆ null         ┆ null         ┆ null         │\n",
       "│ 2015 ┆ 12    ┆ 31  ┆ 4           ┆ … ┆ null         ┆ null         ┆ null         ┆ null         │\n",
       "└──────┴───────┴─────┴─────────────┴───┴──────────────┴──────────────┴──────────────┴──────────────┘"
      ]
     },
     "execution_count": 4,
     "metadata": {},
     "output_type": "execute_result"
    }
   ],
   "source": [
    "vuelos = pl.read_parquet('./data/vuelos/', use_pyarrow=True)\n",
    "\n",
    "vuelos_copy = vuelos.clone()\n",
    "\n",
    "vuelos_copy"
   ]
  },
  {
   "cell_type": "markdown",
   "id": "3c575a7b-3a64-4d83-8a6c-5976696c9a31",
   "metadata": {},
   "source": [
    "## `explode`\n",
    "\n",
    "Realiza un explode del DataFrame a un formato más largo al realizar un explode de las columnas proporcionadas. Para visualizar como funciona explode vamos a crear un nuevo DataFrame."
   ]
  },
  {
   "cell_type": "code",
   "execution_count": 5,
   "id": "45a28982-7244-4981-8c3b-e8d5e8cbbb24",
   "metadata": {
    "tags": []
   },
   "outputs": [
    {
     "data": {
      "text/html": [
       "<div><style>\n",
       ".dataframe > thead > tr,\n",
       ".dataframe > tbody > tr {\n",
       "  text-align: right;\n",
       "  white-space: pre-wrap;\n",
       "}\n",
       "</style>\n",
       "<small>shape: (4, 2)</small><table border=\"1\" class=\"dataframe\"><thead><tr><th>letras</th><th>num</th></tr><tr><td>str</td><td>list[i64]</td></tr></thead><tbody><tr><td>&quot;x&quot;</td><td>[1]</td></tr><tr><td>&quot;x&quot;</td><td>[2, 3]</td></tr><tr><td>&quot;z&quot;</td><td>[4, 5]</td></tr><tr><td>&quot;y&quot;</td><td>[6, 7, 8]</td></tr></tbody></table></div>"
      ],
      "text/plain": [
       "shape: (4, 2)\n",
       "┌────────┬───────────┐\n",
       "│ letras ┆ num       │\n",
       "│ ---    ┆ ---       │\n",
       "│ str    ┆ list[i64] │\n",
       "╞════════╪═══════════╡\n",
       "│ x      ┆ [1]       │\n",
       "│ x      ┆ [2, 3]    │\n",
       "│ z      ┆ [4, 5]    │\n",
       "│ y      ┆ [6, 7, 8] │\n",
       "└────────┴───────────┘"
      ]
     },
     "execution_count": 5,
     "metadata": {},
     "output_type": "execute_result"
    }
   ],
   "source": [
    "df_compacto = pl.DataFrame(\n",
    "    {\n",
    "        'letras': ['x', 'x', 'z', 'y'],\n",
    "        'num': [[1], [2,3], [4,5], [6,7,8]]\n",
    "    }\n",
    ")\n",
    "\n",
    "df_compacto"
   ]
  },
  {
   "cell_type": "code",
   "execution_count": 6,
   "id": "2f72f9e5-b2da-4c63-a3e7-c4f97926cdf9",
   "metadata": {
    "tags": []
   },
   "outputs": [
    {
     "data": {
      "text/html": [
       "<div><style>\n",
       ".dataframe > thead > tr,\n",
       ".dataframe > tbody > tr {\n",
       "  text-align: right;\n",
       "  white-space: pre-wrap;\n",
       "}\n",
       "</style>\n",
       "<small>shape: (8, 2)</small><table border=\"1\" class=\"dataframe\"><thead><tr><th>letras</th><th>num</th></tr><tr><td>str</td><td>i64</td></tr></thead><tbody><tr><td>&quot;x&quot;</td><td>1</td></tr><tr><td>&quot;x&quot;</td><td>2</td></tr><tr><td>&quot;x&quot;</td><td>3</td></tr><tr><td>&quot;z&quot;</td><td>4</td></tr><tr><td>&quot;z&quot;</td><td>5</td></tr><tr><td>&quot;y&quot;</td><td>6</td></tr><tr><td>&quot;y&quot;</td><td>7</td></tr><tr><td>&quot;y&quot;</td><td>8</td></tr></tbody></table></div>"
      ],
      "text/plain": [
       "shape: (8, 2)\n",
       "┌────────┬─────┐\n",
       "│ letras ┆ num │\n",
       "│ ---    ┆ --- │\n",
       "│ str    ┆ i64 │\n",
       "╞════════╪═════╡\n",
       "│ x      ┆ 1   │\n",
       "│ x      ┆ 2   │\n",
       "│ x      ┆ 3   │\n",
       "│ z      ┆ 4   │\n",
       "│ z      ┆ 5   │\n",
       "│ y      ┆ 6   │\n",
       "│ y      ┆ 7   │\n",
       "│ y      ┆ 8   │\n",
       "└────────┴─────┘"
      ]
     },
     "execution_count": 6,
     "metadata": {},
     "output_type": "execute_result"
    }
   ],
   "source": [
    "df_explode = df_compacto.explode('num')\n",
    "\n",
    "df_explode"
   ]
  },
  {
   "cell_type": "markdown",
   "id": "044fdee6-51dc-406b-9bc1-552ac3da5b67",
   "metadata": {},
   "source": [
    "## `hstack`\n",
    "\n",
    "Esta función retorna un nuevo DataFrame creciendo horizontalmente un DataFrame existente al agregarle múltiples series. Recordemos como está constituido el DataFrame `df_compacto` y empleemos `hstack` para crecerlo horizontalmente. "
   ]
  },
  {
   "cell_type": "code",
   "execution_count": 7,
   "id": "1f6ee8c2-1b40-43ac-a8d8-3bd2bad1eab7",
   "metadata": {
    "tags": []
   },
   "outputs": [
    {
     "data": {
      "text/html": [
       "<div><style>\n",
       ".dataframe > thead > tr,\n",
       ".dataframe > tbody > tr {\n",
       "  text-align: right;\n",
       "  white-space: pre-wrap;\n",
       "}\n",
       "</style>\n",
       "<small>shape: (4, 2)</small><table border=\"1\" class=\"dataframe\"><thead><tr><th>letras</th><th>num</th></tr><tr><td>str</td><td>list[i64]</td></tr></thead><tbody><tr><td>&quot;x&quot;</td><td>[1]</td></tr><tr><td>&quot;x&quot;</td><td>[2, 3]</td></tr><tr><td>&quot;z&quot;</td><td>[4, 5]</td></tr><tr><td>&quot;y&quot;</td><td>[6, 7, 8]</td></tr></tbody></table></div>"
      ],
      "text/plain": [
       "shape: (4, 2)\n",
       "┌────────┬───────────┐\n",
       "│ letras ┆ num       │\n",
       "│ ---    ┆ ---       │\n",
       "│ str    ┆ list[i64] │\n",
       "╞════════╪═══════════╡\n",
       "│ x      ┆ [1]       │\n",
       "│ x      ┆ [2, 3]    │\n",
       "│ z      ┆ [4, 5]    │\n",
       "│ y      ┆ [6, 7, 8] │\n",
       "└────────┴───────────┘"
      ]
     },
     "execution_count": 7,
     "metadata": {},
     "output_type": "execute_result"
    }
   ],
   "source": [
    "df_compacto"
   ]
  },
  {
   "cell_type": "code",
   "execution_count": 8,
   "id": "1dc1eebe-9962-43a5-9ffc-6f11b8242c48",
   "metadata": {
    "tags": []
   },
   "outputs": [],
   "source": [
    "colores = pl.Series('colores', ['rojo', 'verde', 'azul', 'verde'])\n",
    "\n",
    "decimal = pl.Series('decimal', [1.2, 3.5, 5.3, 9.0])"
   ]
  },
  {
   "cell_type": "code",
   "execution_count": 9,
   "id": "b69663b5-4686-452d-a6ca-bfac36e9f050",
   "metadata": {
    "tags": []
   },
   "outputs": [
    {
     "data": {
      "text/html": [
       "<div><style>\n",
       ".dataframe > thead > tr,\n",
       ".dataframe > tbody > tr {\n",
       "  text-align: right;\n",
       "  white-space: pre-wrap;\n",
       "}\n",
       "</style>\n",
       "<small>shape: (4, 4)</small><table border=\"1\" class=\"dataframe\"><thead><tr><th>letras</th><th>num</th><th>colores</th><th>decimal</th></tr><tr><td>str</td><td>list[i64]</td><td>str</td><td>f64</td></tr></thead><tbody><tr><td>&quot;x&quot;</td><td>[1]</td><td>&quot;rojo&quot;</td><td>1.2</td></tr><tr><td>&quot;x&quot;</td><td>[2, 3]</td><td>&quot;verde&quot;</td><td>3.5</td></tr><tr><td>&quot;z&quot;</td><td>[4, 5]</td><td>&quot;azul&quot;</td><td>5.3</td></tr><tr><td>&quot;y&quot;</td><td>[6, 7, 8]</td><td>&quot;verde&quot;</td><td>9.0</td></tr></tbody></table></div>"
      ],
      "text/plain": [
       "shape: (4, 4)\n",
       "┌────────┬───────────┬─────────┬─────────┐\n",
       "│ letras ┆ num       ┆ colores ┆ decimal │\n",
       "│ ---    ┆ ---       ┆ ---     ┆ ---     │\n",
       "│ str    ┆ list[i64] ┆ str     ┆ f64     │\n",
       "╞════════╪═══════════╪═════════╪═════════╡\n",
       "│ x      ┆ [1]       ┆ rojo    ┆ 1.2     │\n",
       "│ x      ┆ [2, 3]    ┆ verde   ┆ 3.5     │\n",
       "│ z      ┆ [4, 5]    ┆ azul    ┆ 5.3     │\n",
       "│ y      ┆ [6, 7, 8] ┆ verde   ┆ 9.0     │\n",
       "└────────┴───────────┴─────────┴─────────┘"
      ]
     },
     "execution_count": 9,
     "metadata": {},
     "output_type": "execute_result"
    }
   ],
   "source": [
    "df_extendido = df_compacto.hstack([colores, decimal])\n",
    "\n",
    "df_extendido"
   ]
  },
  {
   "cell_type": "markdown",
   "id": "5e2859a5-64c1-44f3-a87d-516a1a9a7e3f",
   "metadata": {},
   "source": [
    "## `vstack` y `extend`"
   ]
  },
  {
   "cell_type": "markdown",
   "id": "d559a72a-32e3-4ebd-92a8-44e4ce854a51",
   "metadata": {},
   "source": [
    "### `vstack`\n",
    "\n",
    "Esta función crece el DataFrame verticalmente apilándole un DataFrame. Para ver su funcionamineto vamos a utulizar el Dataframe `vuelos` y el DataFrame `vuelos_copy` que previamente hemos creado."
   ]
  },
  {
   "cell_type": "code",
   "execution_count": 10,
   "id": "b2ed430e-379f-4677-94a2-55f18d428922",
   "metadata": {
    "tags": []
   },
   "outputs": [
    {
     "data": {
      "text/html": [
       "<div><style>\n",
       ".dataframe > thead > tr,\n",
       ".dataframe > tbody > tr {\n",
       "  text-align: right;\n",
       "  white-space: pre-wrap;\n",
       "}\n",
       "</style>\n",
       "<small>shape: (11_638_158, 31)</small><table border=\"1\" class=\"dataframe\"><thead><tr><th>YEAR</th><th>MONTH</th><th>DAY</th><th>DAY_OF_WEEK</th><th>AIRLINE</th><th>FLIGHT_NUMBER</th><th>TAIL_NUMBER</th><th>ORIGIN_AIRPORT</th><th>DESTINATION_AIRPORT</th><th>SCHEDULED_DEPARTURE</th><th>DEPARTURE_TIME</th><th>DEPARTURE_DELAY</th><th>TAXI_OUT</th><th>WHEELS_OFF</th><th>SCHEDULED_TIME</th><th>ELAPSED_TIME</th><th>AIR_TIME</th><th>DISTANCE</th><th>WHEELS_ON</th><th>TAXI_IN</th><th>SCHEDULED_ARRIVAL</th><th>ARRIVAL_TIME</th><th>ARRIVAL_DELAY</th><th>DIVERTED</th><th>CANCELLED</th><th>CANCELLATION_REASON</th><th>AIR_SYSTEM_DELAY</th><th>SECURITY_DELAY</th><th>AIRLINE_DELAY</th><th>LATE_AIRCRAFT_DELAY</th><th>WEATHER_DELAY</th></tr><tr><td>i32</td><td>i32</td><td>i32</td><td>i32</td><td>str</td><td>i32</td><td>str</td><td>str</td><td>str</td><td>i32</td><td>i32</td><td>i32</td><td>i32</td><td>i32</td><td>i32</td><td>i32</td><td>i32</td><td>i32</td><td>i32</td><td>i32</td><td>i32</td><td>i32</td><td>i32</td><td>i32</td><td>i32</td><td>str</td><td>i32</td><td>i32</td><td>i32</td><td>i32</td><td>i32</td></tr></thead><tbody><tr><td>2015</td><td>1</td><td>1</td><td>4</td><td>&quot;AS&quot;</td><td>98</td><td>&quot;N407AS&quot;</td><td>&quot;ANC&quot;</td><td>&quot;SEA&quot;</td><td>5</td><td>2354</td><td>-11</td><td>21</td><td>15</td><td>205</td><td>194</td><td>169</td><td>1448</td><td>404</td><td>4</td><td>430</td><td>408</td><td>-22</td><td>0</td><td>0</td><td>null</td><td>null</td><td>null</td><td>null</td><td>null</td><td>null</td></tr><tr><td>2015</td><td>1</td><td>1</td><td>4</td><td>&quot;AA&quot;</td><td>2336</td><td>&quot;N3KUAA&quot;</td><td>&quot;LAX&quot;</td><td>&quot;PBI&quot;</td><td>10</td><td>2</td><td>-8</td><td>12</td><td>14</td><td>280</td><td>279</td><td>263</td><td>2330</td><td>737</td><td>4</td><td>750</td><td>741</td><td>-9</td><td>0</td><td>0</td><td>null</td><td>null</td><td>null</td><td>null</td><td>null</td><td>null</td></tr><tr><td>2015</td><td>1</td><td>1</td><td>4</td><td>&quot;US&quot;</td><td>840</td><td>&quot;N171US&quot;</td><td>&quot;SFO&quot;</td><td>&quot;CLT&quot;</td><td>20</td><td>18</td><td>-2</td><td>16</td><td>34</td><td>286</td><td>293</td><td>266</td><td>2296</td><td>800</td><td>11</td><td>806</td><td>811</td><td>5</td><td>0</td><td>0</td><td>null</td><td>null</td><td>null</td><td>null</td><td>null</td><td>null</td></tr><tr><td>2015</td><td>1</td><td>1</td><td>4</td><td>&quot;AA&quot;</td><td>258</td><td>&quot;N3HYAA&quot;</td><td>&quot;LAX&quot;</td><td>&quot;MIA&quot;</td><td>20</td><td>15</td><td>-5</td><td>15</td><td>30</td><td>285</td><td>281</td><td>258</td><td>2342</td><td>748</td><td>8</td><td>805</td><td>756</td><td>-9</td><td>0</td><td>0</td><td>null</td><td>null</td><td>null</td><td>null</td><td>null</td><td>null</td></tr><tr><td>2015</td><td>1</td><td>1</td><td>4</td><td>&quot;AS&quot;</td><td>135</td><td>&quot;N527AS&quot;</td><td>&quot;SEA&quot;</td><td>&quot;ANC&quot;</td><td>25</td><td>24</td><td>-1</td><td>11</td><td>35</td><td>235</td><td>215</td><td>199</td><td>1448</td><td>254</td><td>5</td><td>320</td><td>259</td><td>-21</td><td>0</td><td>0</td><td>null</td><td>null</td><td>null</td><td>null</td><td>null</td><td>null</td></tr><tr><td>&hellip;</td><td>&hellip;</td><td>&hellip;</td><td>&hellip;</td><td>&hellip;</td><td>&hellip;</td><td>&hellip;</td><td>&hellip;</td><td>&hellip;</td><td>&hellip;</td><td>&hellip;</td><td>&hellip;</td><td>&hellip;</td><td>&hellip;</td><td>&hellip;</td><td>&hellip;</td><td>&hellip;</td><td>&hellip;</td><td>&hellip;</td><td>&hellip;</td><td>&hellip;</td><td>&hellip;</td><td>&hellip;</td><td>&hellip;</td><td>&hellip;</td><td>&hellip;</td><td>&hellip;</td><td>&hellip;</td><td>&hellip;</td><td>&hellip;</td><td>&hellip;</td></tr><tr><td>2015</td><td>12</td><td>31</td><td>4</td><td>&quot;B6&quot;</td><td>688</td><td>&quot;N657JB&quot;</td><td>&quot;LAX&quot;</td><td>&quot;BOS&quot;</td><td>2359</td><td>2355</td><td>-4</td><td>22</td><td>17</td><td>320</td><td>298</td><td>272</td><td>2611</td><td>749</td><td>4</td><td>819</td><td>753</td><td>-26</td><td>0</td><td>0</td><td>null</td><td>null</td><td>null</td><td>null</td><td>null</td><td>null</td></tr><tr><td>2015</td><td>12</td><td>31</td><td>4</td><td>&quot;B6&quot;</td><td>745</td><td>&quot;N828JB&quot;</td><td>&quot;JFK&quot;</td><td>&quot;PSE&quot;</td><td>2359</td><td>2355</td><td>-4</td><td>17</td><td>12</td><td>227</td><td>215</td><td>195</td><td>1617</td><td>427</td><td>3</td><td>446</td><td>430</td><td>-16</td><td>0</td><td>0</td><td>null</td><td>null</td><td>null</td><td>null</td><td>null</td><td>null</td></tr><tr><td>2015</td><td>12</td><td>31</td><td>4</td><td>&quot;B6&quot;</td><td>1503</td><td>&quot;N913JB&quot;</td><td>&quot;JFK&quot;</td><td>&quot;SJU&quot;</td><td>2359</td><td>2350</td><td>-9</td><td>17</td><td>7</td><td>221</td><td>222</td><td>197</td><td>1598</td><td>424</td><td>8</td><td>440</td><td>432</td><td>-8</td><td>0</td><td>0</td><td>null</td><td>null</td><td>null</td><td>null</td><td>null</td><td>null</td></tr><tr><td>2015</td><td>12</td><td>31</td><td>4</td><td>&quot;B6&quot;</td><td>333</td><td>&quot;N527JB&quot;</td><td>&quot;MCO&quot;</td><td>&quot;SJU&quot;</td><td>2359</td><td>2353</td><td>-6</td><td>10</td><td>3</td><td>161</td><td>157</td><td>144</td><td>1189</td><td>327</td><td>3</td><td>340</td><td>330</td><td>-10</td><td>0</td><td>0</td><td>null</td><td>null</td><td>null</td><td>null</td><td>null</td><td>null</td></tr><tr><td>2015</td><td>12</td><td>31</td><td>4</td><td>&quot;B6&quot;</td><td>839</td><td>&quot;N534JB&quot;</td><td>&quot;JFK&quot;</td><td>&quot;BQN&quot;</td><td>2359</td><td>14</td><td>15</td><td>14</td><td>28</td><td>221</td><td>208</td><td>189</td><td>1576</td><td>437</td><td>5</td><td>440</td><td>442</td><td>2</td><td>0</td><td>0</td><td>null</td><td>null</td><td>null</td><td>null</td><td>null</td><td>null</td></tr></tbody></table></div>"
      ],
      "text/plain": [
       "shape: (11_638_158, 31)\n",
       "┌──────┬───────┬─────┬─────────────┬───┬──────────────┬──────────────┬──────────────┬──────────────┐\n",
       "│ YEAR ┆ MONTH ┆ DAY ┆ DAY_OF_WEEK ┆ … ┆ SECURITY_DEL ┆ AIRLINE_DELA ┆ LATE_AIRCRAF ┆ WEATHER_DELA │\n",
       "│ ---  ┆ ---   ┆ --- ┆ ---         ┆   ┆ AY           ┆ Y            ┆ T_DELAY      ┆ Y            │\n",
       "│ i32  ┆ i32   ┆ i32 ┆ i32         ┆   ┆ ---          ┆ ---          ┆ ---          ┆ ---          │\n",
       "│      ┆       ┆     ┆             ┆   ┆ i32          ┆ i32          ┆ i32          ┆ i32          │\n",
       "╞══════╪═══════╪═════╪═════════════╪═══╪══════════════╪══════════════╪══════════════╪══════════════╡\n",
       "│ 2015 ┆ 1     ┆ 1   ┆ 4           ┆ … ┆ null         ┆ null         ┆ null         ┆ null         │\n",
       "│ 2015 ┆ 1     ┆ 1   ┆ 4           ┆ … ┆ null         ┆ null         ┆ null         ┆ null         │\n",
       "│ 2015 ┆ 1     ┆ 1   ┆ 4           ┆ … ┆ null         ┆ null         ┆ null         ┆ null         │\n",
       "│ 2015 ┆ 1     ┆ 1   ┆ 4           ┆ … ┆ null         ┆ null         ┆ null         ┆ null         │\n",
       "│ 2015 ┆ 1     ┆ 1   ┆ 4           ┆ … ┆ null         ┆ null         ┆ null         ┆ null         │\n",
       "│ …    ┆ …     ┆ …   ┆ …           ┆ … ┆ …            ┆ …            ┆ …            ┆ …            │\n",
       "│ 2015 ┆ 12    ┆ 31  ┆ 4           ┆ … ┆ null         ┆ null         ┆ null         ┆ null         │\n",
       "│ 2015 ┆ 12    ┆ 31  ┆ 4           ┆ … ┆ null         ┆ null         ┆ null         ┆ null         │\n",
       "│ 2015 ┆ 12    ┆ 31  ┆ 4           ┆ … ┆ null         ┆ null         ┆ null         ┆ null         │\n",
       "│ 2015 ┆ 12    ┆ 31  ┆ 4           ┆ … ┆ null         ┆ null         ┆ null         ┆ null         │\n",
       "│ 2015 ┆ 12    ┆ 31  ┆ 4           ┆ … ┆ null         ┆ null         ┆ null         ┆ null         │\n",
       "└──────┴───────┴─────┴─────────────┴───┴──────────────┴──────────────┴──────────────┴──────────────┘"
      ]
     },
     "execution_count": 10,
     "metadata": {},
     "output_type": "execute_result"
    }
   ],
   "source": [
    "vuelos.vstack(vuelos_copy)"
   ]
  },
  {
   "cell_type": "markdown",
   "id": "3ed222e0-3db7-4990-bbff-059cc67c5baf",
   "metadata": {},
   "source": [
    "Esta función devuelve un nuevo DataFrame a menos que se especifique el parámetro `in_place=True`."
   ]
  },
  {
   "cell_type": "code",
   "execution_count": 11,
   "id": "a88c19a3-9248-4dda-b283-450f752fb4c5",
   "metadata": {
    "tags": []
   },
   "outputs": [
    {
     "data": {
      "text/plain": [
       "(5819079, 31)"
      ]
     },
     "execution_count": 11,
     "metadata": {},
     "output_type": "execute_result"
    }
   ],
   "source": [
    "# Verificamos que el DataFrame vuelos no halla sido modificado\n",
    "\n",
    "vuelos.shape"
   ]
  },
  {
   "cell_type": "code",
   "execution_count": 12,
   "id": "1850d8b6-7823-47bf-9307-0c8ad2aa5c84",
   "metadata": {
    "tags": []
   },
   "outputs": [
    {
     "data": {
      "text/html": [
       "<div><style>\n",
       ".dataframe > thead > tr,\n",
       ".dataframe > tbody > tr {\n",
       "  text-align: right;\n",
       "  white-space: pre-wrap;\n",
       "}\n",
       "</style>\n",
       "<small>shape: (11_638_158, 31)</small><table border=\"1\" class=\"dataframe\"><thead><tr><th>YEAR</th><th>MONTH</th><th>DAY</th><th>DAY_OF_WEEK</th><th>AIRLINE</th><th>FLIGHT_NUMBER</th><th>TAIL_NUMBER</th><th>ORIGIN_AIRPORT</th><th>DESTINATION_AIRPORT</th><th>SCHEDULED_DEPARTURE</th><th>DEPARTURE_TIME</th><th>DEPARTURE_DELAY</th><th>TAXI_OUT</th><th>WHEELS_OFF</th><th>SCHEDULED_TIME</th><th>ELAPSED_TIME</th><th>AIR_TIME</th><th>DISTANCE</th><th>WHEELS_ON</th><th>TAXI_IN</th><th>SCHEDULED_ARRIVAL</th><th>ARRIVAL_TIME</th><th>ARRIVAL_DELAY</th><th>DIVERTED</th><th>CANCELLED</th><th>CANCELLATION_REASON</th><th>AIR_SYSTEM_DELAY</th><th>SECURITY_DELAY</th><th>AIRLINE_DELAY</th><th>LATE_AIRCRAFT_DELAY</th><th>WEATHER_DELAY</th></tr><tr><td>i32</td><td>i32</td><td>i32</td><td>i32</td><td>str</td><td>i32</td><td>str</td><td>str</td><td>str</td><td>i32</td><td>i32</td><td>i32</td><td>i32</td><td>i32</td><td>i32</td><td>i32</td><td>i32</td><td>i32</td><td>i32</td><td>i32</td><td>i32</td><td>i32</td><td>i32</td><td>i32</td><td>i32</td><td>str</td><td>i32</td><td>i32</td><td>i32</td><td>i32</td><td>i32</td></tr></thead><tbody><tr><td>2015</td><td>1</td><td>1</td><td>4</td><td>&quot;AS&quot;</td><td>98</td><td>&quot;N407AS&quot;</td><td>&quot;ANC&quot;</td><td>&quot;SEA&quot;</td><td>5</td><td>2354</td><td>-11</td><td>21</td><td>15</td><td>205</td><td>194</td><td>169</td><td>1448</td><td>404</td><td>4</td><td>430</td><td>408</td><td>-22</td><td>0</td><td>0</td><td>null</td><td>null</td><td>null</td><td>null</td><td>null</td><td>null</td></tr><tr><td>2015</td><td>1</td><td>1</td><td>4</td><td>&quot;AA&quot;</td><td>2336</td><td>&quot;N3KUAA&quot;</td><td>&quot;LAX&quot;</td><td>&quot;PBI&quot;</td><td>10</td><td>2</td><td>-8</td><td>12</td><td>14</td><td>280</td><td>279</td><td>263</td><td>2330</td><td>737</td><td>4</td><td>750</td><td>741</td><td>-9</td><td>0</td><td>0</td><td>null</td><td>null</td><td>null</td><td>null</td><td>null</td><td>null</td></tr><tr><td>2015</td><td>1</td><td>1</td><td>4</td><td>&quot;US&quot;</td><td>840</td><td>&quot;N171US&quot;</td><td>&quot;SFO&quot;</td><td>&quot;CLT&quot;</td><td>20</td><td>18</td><td>-2</td><td>16</td><td>34</td><td>286</td><td>293</td><td>266</td><td>2296</td><td>800</td><td>11</td><td>806</td><td>811</td><td>5</td><td>0</td><td>0</td><td>null</td><td>null</td><td>null</td><td>null</td><td>null</td><td>null</td></tr><tr><td>2015</td><td>1</td><td>1</td><td>4</td><td>&quot;AA&quot;</td><td>258</td><td>&quot;N3HYAA&quot;</td><td>&quot;LAX&quot;</td><td>&quot;MIA&quot;</td><td>20</td><td>15</td><td>-5</td><td>15</td><td>30</td><td>285</td><td>281</td><td>258</td><td>2342</td><td>748</td><td>8</td><td>805</td><td>756</td><td>-9</td><td>0</td><td>0</td><td>null</td><td>null</td><td>null</td><td>null</td><td>null</td><td>null</td></tr><tr><td>2015</td><td>1</td><td>1</td><td>4</td><td>&quot;AS&quot;</td><td>135</td><td>&quot;N527AS&quot;</td><td>&quot;SEA&quot;</td><td>&quot;ANC&quot;</td><td>25</td><td>24</td><td>-1</td><td>11</td><td>35</td><td>235</td><td>215</td><td>199</td><td>1448</td><td>254</td><td>5</td><td>320</td><td>259</td><td>-21</td><td>0</td><td>0</td><td>null</td><td>null</td><td>null</td><td>null</td><td>null</td><td>null</td></tr><tr><td>&hellip;</td><td>&hellip;</td><td>&hellip;</td><td>&hellip;</td><td>&hellip;</td><td>&hellip;</td><td>&hellip;</td><td>&hellip;</td><td>&hellip;</td><td>&hellip;</td><td>&hellip;</td><td>&hellip;</td><td>&hellip;</td><td>&hellip;</td><td>&hellip;</td><td>&hellip;</td><td>&hellip;</td><td>&hellip;</td><td>&hellip;</td><td>&hellip;</td><td>&hellip;</td><td>&hellip;</td><td>&hellip;</td><td>&hellip;</td><td>&hellip;</td><td>&hellip;</td><td>&hellip;</td><td>&hellip;</td><td>&hellip;</td><td>&hellip;</td><td>&hellip;</td></tr><tr><td>2015</td><td>12</td><td>31</td><td>4</td><td>&quot;B6&quot;</td><td>688</td><td>&quot;N657JB&quot;</td><td>&quot;LAX&quot;</td><td>&quot;BOS&quot;</td><td>2359</td><td>2355</td><td>-4</td><td>22</td><td>17</td><td>320</td><td>298</td><td>272</td><td>2611</td><td>749</td><td>4</td><td>819</td><td>753</td><td>-26</td><td>0</td><td>0</td><td>null</td><td>null</td><td>null</td><td>null</td><td>null</td><td>null</td></tr><tr><td>2015</td><td>12</td><td>31</td><td>4</td><td>&quot;B6&quot;</td><td>745</td><td>&quot;N828JB&quot;</td><td>&quot;JFK&quot;</td><td>&quot;PSE&quot;</td><td>2359</td><td>2355</td><td>-4</td><td>17</td><td>12</td><td>227</td><td>215</td><td>195</td><td>1617</td><td>427</td><td>3</td><td>446</td><td>430</td><td>-16</td><td>0</td><td>0</td><td>null</td><td>null</td><td>null</td><td>null</td><td>null</td><td>null</td></tr><tr><td>2015</td><td>12</td><td>31</td><td>4</td><td>&quot;B6&quot;</td><td>1503</td><td>&quot;N913JB&quot;</td><td>&quot;JFK&quot;</td><td>&quot;SJU&quot;</td><td>2359</td><td>2350</td><td>-9</td><td>17</td><td>7</td><td>221</td><td>222</td><td>197</td><td>1598</td><td>424</td><td>8</td><td>440</td><td>432</td><td>-8</td><td>0</td><td>0</td><td>null</td><td>null</td><td>null</td><td>null</td><td>null</td><td>null</td></tr><tr><td>2015</td><td>12</td><td>31</td><td>4</td><td>&quot;B6&quot;</td><td>333</td><td>&quot;N527JB&quot;</td><td>&quot;MCO&quot;</td><td>&quot;SJU&quot;</td><td>2359</td><td>2353</td><td>-6</td><td>10</td><td>3</td><td>161</td><td>157</td><td>144</td><td>1189</td><td>327</td><td>3</td><td>340</td><td>330</td><td>-10</td><td>0</td><td>0</td><td>null</td><td>null</td><td>null</td><td>null</td><td>null</td><td>null</td></tr><tr><td>2015</td><td>12</td><td>31</td><td>4</td><td>&quot;B6&quot;</td><td>839</td><td>&quot;N534JB&quot;</td><td>&quot;JFK&quot;</td><td>&quot;BQN&quot;</td><td>2359</td><td>14</td><td>15</td><td>14</td><td>28</td><td>221</td><td>208</td><td>189</td><td>1576</td><td>437</td><td>5</td><td>440</td><td>442</td><td>2</td><td>0</td><td>0</td><td>null</td><td>null</td><td>null</td><td>null</td><td>null</td><td>null</td></tr></tbody></table></div>"
      ],
      "text/plain": [
       "shape: (11_638_158, 31)\n",
       "┌──────┬───────┬─────┬─────────────┬───┬──────────────┬──────────────┬──────────────┬──────────────┐\n",
       "│ YEAR ┆ MONTH ┆ DAY ┆ DAY_OF_WEEK ┆ … ┆ SECURITY_DEL ┆ AIRLINE_DELA ┆ LATE_AIRCRAF ┆ WEATHER_DELA │\n",
       "│ ---  ┆ ---   ┆ --- ┆ ---         ┆   ┆ AY           ┆ Y            ┆ T_DELAY      ┆ Y            │\n",
       "│ i32  ┆ i32   ┆ i32 ┆ i32         ┆   ┆ ---          ┆ ---          ┆ ---          ┆ ---          │\n",
       "│      ┆       ┆     ┆             ┆   ┆ i32          ┆ i32          ┆ i32          ┆ i32          │\n",
       "╞══════╪═══════╪═════╪═════════════╪═══╪══════════════╪══════════════╪══════════════╪══════════════╡\n",
       "│ 2015 ┆ 1     ┆ 1   ┆ 4           ┆ … ┆ null         ┆ null         ┆ null         ┆ null         │\n",
       "│ 2015 ┆ 1     ┆ 1   ┆ 4           ┆ … ┆ null         ┆ null         ┆ null         ┆ null         │\n",
       "│ 2015 ┆ 1     ┆ 1   ┆ 4           ┆ … ┆ null         ┆ null         ┆ null         ┆ null         │\n",
       "│ 2015 ┆ 1     ┆ 1   ┆ 4           ┆ … ┆ null         ┆ null         ┆ null         ┆ null         │\n",
       "│ 2015 ┆ 1     ┆ 1   ┆ 4           ┆ … ┆ null         ┆ null         ┆ null         ┆ null         │\n",
       "│ …    ┆ …     ┆ …   ┆ …           ┆ … ┆ …            ┆ …            ┆ …            ┆ …            │\n",
       "│ 2015 ┆ 12    ┆ 31  ┆ 4           ┆ … ┆ null         ┆ null         ┆ null         ┆ null         │\n",
       "│ 2015 ┆ 12    ┆ 31  ┆ 4           ┆ … ┆ null         ┆ null         ┆ null         ┆ null         │\n",
       "│ 2015 ┆ 12    ┆ 31  ┆ 4           ┆ … ┆ null         ┆ null         ┆ null         ┆ null         │\n",
       "│ 2015 ┆ 12    ┆ 31  ┆ 4           ┆ … ┆ null         ┆ null         ┆ null         ┆ null         │\n",
       "│ 2015 ┆ 12    ┆ 31  ┆ 4           ┆ … ┆ null         ┆ null         ┆ null         ┆ null         │\n",
       "└──────┴───────┴─────┴─────────────┴───┴──────────────┴──────────────┴──────────────┴──────────────┘"
      ]
     },
     "execution_count": 12,
     "metadata": {},
     "output_type": "execute_result"
    }
   ],
   "source": [
    "vuelos.vstack(vuelos_copy, in_place=True)"
   ]
  },
  {
   "cell_type": "code",
   "execution_count": 13,
   "id": "8fe27f80-0a5d-4347-9f81-0b8c90105818",
   "metadata": {
    "tags": []
   },
   "outputs": [
    {
     "data": {
      "text/plain": [
       "(11638158, 31)"
      ]
     },
     "execution_count": 13,
     "metadata": {},
     "output_type": "execute_result"
    }
   ],
   "source": [
    "# Volvemos a verificar el DataFrame vuelos y veremos como ha sido modificado\n",
    "\n",
    "vuelos.shape"
   ]
  },
  {
   "cell_type": "markdown",
   "id": "f91bc283-f69b-4069-8ecb-f543bbe36f9e",
   "metadata": {},
   "source": [
    "### `extend`\n",
    "\n",
    "Esta función amplía la memoria respaldada por el DataFrame al cual se le aplica con los valores del DataFrame que se extiende.\n",
    "\n",
    "A diferencia de `vstak`, que agrega los fragmentos del DataFrame que se pasa como parámetro a los fragmentos del DataFrame, `extend` agrega los datos del DataFrame pasado como parámetro a las ubicaciones de memoria subyacentes y, por lo tanto, puede provocar una reasignación.\n",
    "\n",
    "\n",
    "Prefiera `extend` sobre `vstack` cuando desee realizar una consulta después de un solo append. Por ejemplo, durante operaciones en línea en las que agrega n filas y vuelve a ejecutar una consulta.\n",
    "\n",
    "Prefiera `vstack` sobre `extend` cuando desee agregar muchas veces antes de realizar una consulta. Por ejemplo, cuando lee varios archivos y desea almacenarlos en un único DataFrame. En el último caso, finalice la secuencia de operaciones vstack con un `rechunk`.\n",
    "\n",
    "Este método modifica el DataFrame in-place. El DataFrame es devuelto solo por conveniencia.\n",
    "\n",
    "Para mostrar el funcionaminto de `extend` vamos a leer algunas particiones del DataFrame de vuelos que se encuentaran dentro de la carpeta vuelos_particionado y vamos a unirlos con `extend`."
   ]
  },
  {
   "cell_type": "code",
   "execution_count": 14,
   "id": "286ec3a3-98fe-408f-bd76-086359ab0bbd",
   "metadata": {
    "tags": []
   },
   "outputs": [],
   "source": [
    "vuelos_AA = pl.read_parquet('./data/vuelos_particionado/AIRLINE=AA/', use_pyarrow=True)\n",
    "\n",
    "vuelos_AS = pl.read_parquet('./data/vuelos_particionado/AIRLINE=AS/', use_pyarrow=True)\n",
    "\n",
    "vuelos_B6 = pl.read_parquet('./data/vuelos_particionado/AIRLINE=B6/', use_pyarrow=True)"
   ]
  },
  {
   "cell_type": "code",
   "execution_count": 15,
   "id": "049d1fe7-bbb1-4794-992f-1f434cda45ce",
   "metadata": {
    "tags": []
   },
   "outputs": [],
   "source": [
    "vuelos = vuelos_AA.extend(vuelos_AS).extend(vuelos_B6)"
   ]
  },
  {
   "cell_type": "code",
   "execution_count": 16,
   "id": "b77231af-d4cc-4446-8858-51e20e0d1a48",
   "metadata": {
    "tags": []
   },
   "outputs": [
    {
     "data": {
      "text/html": [
       "<div><style>\n",
       ".dataframe > thead > tr,\n",
       ".dataframe > tbody > tr {\n",
       "  text-align: right;\n",
       "  white-space: pre-wrap;\n",
       "}\n",
       "</style>\n",
       "<small>shape: (1_165_553, 30)</small><table border=\"1\" class=\"dataframe\"><thead><tr><th>YEAR</th><th>MONTH</th><th>DAY</th><th>DAY_OF_WEEK</th><th>FLIGHT_NUMBER</th><th>TAIL_NUMBER</th><th>ORIGIN_AIRPORT</th><th>DESTINATION_AIRPORT</th><th>SCHEDULED_DEPARTURE</th><th>DEPARTURE_TIME</th><th>DEPARTURE_DELAY</th><th>TAXI_OUT</th><th>WHEELS_OFF</th><th>SCHEDULED_TIME</th><th>ELAPSED_TIME</th><th>AIR_TIME</th><th>DISTANCE</th><th>WHEELS_ON</th><th>TAXI_IN</th><th>SCHEDULED_ARRIVAL</th><th>ARRIVAL_TIME</th><th>ARRIVAL_DELAY</th><th>DIVERTED</th><th>CANCELLED</th><th>CANCELLATION_REASON</th><th>AIR_SYSTEM_DELAY</th><th>SECURITY_DELAY</th><th>AIRLINE_DELAY</th><th>LATE_AIRCRAFT_DELAY</th><th>WEATHER_DELAY</th></tr><tr><td>i32</td><td>i32</td><td>i32</td><td>i32</td><td>i32</td><td>str</td><td>str</td><td>str</td><td>i32</td><td>i32</td><td>i32</td><td>i32</td><td>i32</td><td>i32</td><td>i32</td><td>i32</td><td>i32</td><td>i32</td><td>i32</td><td>i32</td><td>i32</td><td>i32</td><td>i32</td><td>i32</td><td>str</td><td>i32</td><td>i32</td><td>i32</td><td>i32</td><td>i32</td></tr></thead><tbody><tr><td>2015</td><td>1</td><td>1</td><td>4</td><td>2336</td><td>&quot;N3KUAA&quot;</td><td>&quot;LAX&quot;</td><td>&quot;PBI&quot;</td><td>10</td><td>2</td><td>-8</td><td>12</td><td>14</td><td>280</td><td>279</td><td>263</td><td>2330</td><td>737</td><td>4</td><td>750</td><td>741</td><td>-9</td><td>0</td><td>0</td><td>null</td><td>null</td><td>null</td><td>null</td><td>null</td><td>null</td></tr><tr><td>2015</td><td>10</td><td>25</td><td>7</td><td>159</td><td>&quot;N3FLAA&quot;</td><td>&quot;11298&quot;</td><td>&quot;14771&quot;</td><td>815</td><td>810</td><td>-5</td><td>14</td><td>824</td><td>222</td><td>216</td><td>199</td><td>1464</td><td>943</td><td>3</td><td>957</td><td>946</td><td>-11</td><td>0</td><td>0</td><td>null</td><td>null</td><td>null</td><td>null</td><td>null</td><td>null</td></tr><tr><td>2015</td><td>1</td><td>1</td><td>4</td><td>258</td><td>&quot;N3HYAA&quot;</td><td>&quot;LAX&quot;</td><td>&quot;MIA&quot;</td><td>20</td><td>15</td><td>-5</td><td>15</td><td>30</td><td>285</td><td>281</td><td>258</td><td>2342</td><td>748</td><td>8</td><td>805</td><td>756</td><td>-9</td><td>0</td><td>0</td><td>null</td><td>null</td><td>null</td><td>null</td><td>null</td><td>null</td></tr><tr><td>2015</td><td>10</td><td>25</td><td>7</td><td>937</td><td>&quot;N3GPAA&quot;</td><td>&quot;12478&quot;</td><td>&quot;14843&quot;</td><td>815</td><td>808</td><td>-7</td><td>18</td><td>826</td><td>243</td><td>214</td><td>192</td><td>1598</td><td>1138</td><td>4</td><td>1218</td><td>1142</td><td>-36</td><td>0</td><td>0</td><td>null</td><td>null</td><td>null</td><td>null</td><td>null</td><td>null</td></tr><tr><td>2015</td><td>1</td><td>1</td><td>4</td><td>1112</td><td>&quot;N3LAAA&quot;</td><td>&quot;SFO&quot;</td><td>&quot;DFW&quot;</td><td>30</td><td>19</td><td>-11</td><td>17</td><td>36</td><td>195</td><td>193</td><td>173</td><td>1464</td><td>529</td><td>3</td><td>545</td><td>532</td><td>-13</td><td>0</td><td>0</td><td>null</td><td>null</td><td>null</td><td>null</td><td>null</td><td>null</td></tr><tr><td>&hellip;</td><td>&hellip;</td><td>&hellip;</td><td>&hellip;</td><td>&hellip;</td><td>&hellip;</td><td>&hellip;</td><td>&hellip;</td><td>&hellip;</td><td>&hellip;</td><td>&hellip;</td><td>&hellip;</td><td>&hellip;</td><td>&hellip;</td><td>&hellip;</td><td>&hellip;</td><td>&hellip;</td><td>&hellip;</td><td>&hellip;</td><td>&hellip;</td><td>&hellip;</td><td>&hellip;</td><td>&hellip;</td><td>&hellip;</td><td>&hellip;</td><td>&hellip;</td><td>&hellip;</td><td>&hellip;</td><td>&hellip;</td><td>&hellip;</td></tr><tr><td>2015</td><td>10</td><td>25</td><td>7</td><td>389</td><td>&quot;N236JB&quot;</td><td>&quot;10721&quot;</td><td>&quot;11278&quot;</td><td>800</td><td>757</td><td>-3</td><td>14</td><td>811</td><td>102</td><td>91</td><td>74</td><td>399</td><td>925</td><td>3</td><td>942</td><td>928</td><td>-14</td><td>0</td><td>0</td><td>null</td><td>null</td><td>null</td><td>null</td><td>null</td><td>null</td></tr><tr><td>2015</td><td>10</td><td>25</td><td>7</td><td>683</td><td>&quot;N952JB&quot;</td><td>&quot;12478&quot;</td><td>&quot;13204&quot;</td><td>803</td><td>759</td><td>-4</td><td>33</td><td>832</td><td>174</td><td>176</td><td>132</td><td>944</td><td>1044</td><td>11</td><td>1057</td><td>1055</td><td>-2</td><td>0</td><td>0</td><td>null</td><td>null</td><td>null</td><td>null</td><td>null</td><td>null</td></tr><tr><td>2015</td><td>10</td><td>25</td><td>7</td><td>453</td><td>&quot;N579JB&quot;</td><td>&quot;12478&quot;</td><td>&quot;14027&quot;</td><td>805</td><td>802</td><td>-3</td><td>32</td><td>834</td><td>174</td><td>170</td><td>134</td><td>1028</td><td>1048</td><td>4</td><td>1059</td><td>1052</td><td>-7</td><td>0</td><td>0</td><td>null</td><td>null</td><td>null</td><td>null</td><td>null</td><td>null</td></tr><tr><td>2015</td><td>10</td><td>25</td><td>7</td><td>151</td><td>&quot;N267JB&quot;</td><td>&quot;10721&quot;</td><td>&quot;13204&quot;</td><td>805</td><td>802</td><td>-3</td><td>15</td><td>817</td><td>198</td><td>179</td><td>155</td><td>1121</td><td>1052</td><td>9</td><td>1123</td><td>1101</td><td>-22</td><td>0</td><td>0</td><td>null</td><td>null</td><td>null</td><td>null</td><td>null</td><td>null</td></tr><tr><td>2015</td><td>10</td><td>25</td><td>7</td><td>459</td><td>&quot;N323JB&quot;</td><td>&quot;10721&quot;</td><td>&quot;14100&quot;</td><td>810</td><td>807</td><td>-3</td><td>17</td><td>824</td><td>94</td><td>83</td><td>61</td><td>280</td><td>925</td><td>5</td><td>944</td><td>930</td><td>-14</td><td>0</td><td>0</td><td>null</td><td>null</td><td>null</td><td>null</td><td>null</td><td>null</td></tr></tbody></table></div>"
      ],
      "text/plain": [
       "shape: (1_165_553, 30)\n",
       "┌──────┬───────┬─────┬─────────────┬───┬──────────────┬──────────────┬──────────────┬──────────────┐\n",
       "│ YEAR ┆ MONTH ┆ DAY ┆ DAY_OF_WEEK ┆ … ┆ SECURITY_DEL ┆ AIRLINE_DELA ┆ LATE_AIRCRAF ┆ WEATHER_DELA │\n",
       "│ ---  ┆ ---   ┆ --- ┆ ---         ┆   ┆ AY           ┆ Y            ┆ T_DELAY      ┆ Y            │\n",
       "│ i32  ┆ i32   ┆ i32 ┆ i32         ┆   ┆ ---          ┆ ---          ┆ ---          ┆ ---          │\n",
       "│      ┆       ┆     ┆             ┆   ┆ i32          ┆ i32          ┆ i32          ┆ i32          │\n",
       "╞══════╪═══════╪═════╪═════════════╪═══╪══════════════╪══════════════╪══════════════╪══════════════╡\n",
       "│ 2015 ┆ 1     ┆ 1   ┆ 4           ┆ … ┆ null         ┆ null         ┆ null         ┆ null         │\n",
       "│ 2015 ┆ 10    ┆ 25  ┆ 7           ┆ … ┆ null         ┆ null         ┆ null         ┆ null         │\n",
       "│ 2015 ┆ 1     ┆ 1   ┆ 4           ┆ … ┆ null         ┆ null         ┆ null         ┆ null         │\n",
       "│ 2015 ┆ 10    ┆ 25  ┆ 7           ┆ … ┆ null         ┆ null         ┆ null         ┆ null         │\n",
       "│ 2015 ┆ 1     ┆ 1   ┆ 4           ┆ … ┆ null         ┆ null         ┆ null         ┆ null         │\n",
       "│ …    ┆ …     ┆ …   ┆ …           ┆ … ┆ …            ┆ …            ┆ …            ┆ …            │\n",
       "│ 2015 ┆ 10    ┆ 25  ┆ 7           ┆ … ┆ null         ┆ null         ┆ null         ┆ null         │\n",
       "│ 2015 ┆ 10    ┆ 25  ┆ 7           ┆ … ┆ null         ┆ null         ┆ null         ┆ null         │\n",
       "│ 2015 ┆ 10    ┆ 25  ┆ 7           ┆ … ┆ null         ┆ null         ┆ null         ┆ null         │\n",
       "│ 2015 ┆ 10    ┆ 25  ┆ 7           ┆ … ┆ null         ┆ null         ┆ null         ┆ null         │\n",
       "│ 2015 ┆ 10    ┆ 25  ┆ 7           ┆ … ┆ null         ┆ null         ┆ null         ┆ null         │\n",
       "└──────┴───────┴─────┴─────────────┴───┴──────────────┴──────────────┴──────────────┴──────────────┘"
      ]
     },
     "execution_count": 16,
     "metadata": {},
     "output_type": "execute_result"
    }
   ],
   "source": [
    "vuelos"
   ]
  },
  {
   "cell_type": "markdown",
   "id": "00354954-614c-47b8-bd7d-ca299bfd34c8",
   "metadata": {},
   "source": [
    "## `partition_by`\n",
    "\n",
    "Esta función agrupa por las columnas proporcionadas y retorna los grupos como DataFrames separados en una lista.\n",
    "\n",
    "Tomemos el DataFrame de `vuelos` que acabamos de crear y particionémoslo por la columna `MONTH`."
   ]
  },
  {
   "cell_type": "code",
   "execution_count": 18,
   "id": "d95266aa-f754-404b-a3ef-02f652ff46c3",
   "metadata": {
    "tags": []
   },
   "outputs": [
    {
     "data": {
      "text/plain": [
       "[shape: (78_939, 30)\n",
       " ┌──────┬───────┬─────┬─────────────┬───┬──────────────┬──────────────┬──────────────┬──────────────┐\n",
       " │ YEAR ┆ MONTH ┆ DAY ┆ DAY_OF_WEEK ┆ … ┆ SECURITY_DEL ┆ AIRLINE_DELA ┆ LATE_AIRCRAF ┆ WEATHER_DELA │\n",
       " │ ---  ┆ ---   ┆ --- ┆ ---         ┆   ┆ AY           ┆ Y            ┆ T_DELAY      ┆ Y            │\n",
       " │ i32  ┆ i32   ┆ i32 ┆ i32         ┆   ┆ ---          ┆ ---          ┆ ---          ┆ ---          │\n",
       " │      ┆       ┆     ┆             ┆   ┆ i32          ┆ i32          ┆ i32          ┆ i32          │\n",
       " ╞══════╪═══════╪═════╪═════════════╪═══╪══════════════╪══════════════╪══════════════╪══════════════╡\n",
       " │ 2015 ┆ 1     ┆ 1   ┆ 4           ┆ … ┆ null         ┆ null         ┆ null         ┆ null         │\n",
       " │ 2015 ┆ 1     ┆ 1   ┆ 4           ┆ … ┆ null         ┆ null         ┆ null         ┆ null         │\n",
       " │ 2015 ┆ 1     ┆ 1   ┆ 4           ┆ … ┆ null         ┆ null         ┆ null         ┆ null         │\n",
       " │ 2015 ┆ 1     ┆ 1   ┆ 4           ┆ … ┆ null         ┆ null         ┆ null         ┆ null         │\n",
       " │ 2015 ┆ 1     ┆ 1   ┆ 4           ┆ … ┆ null         ┆ null         ┆ null         ┆ null         │\n",
       " │ …    ┆ …     ┆ …   ┆ …           ┆ … ┆ …            ┆ …            ┆ …            ┆ …            │\n",
       " │ 2015 ┆ 1     ┆ 31  ┆ 6           ┆ … ┆ null         ┆ null         ┆ null         ┆ null         │\n",
       " │ 2015 ┆ 1     ┆ 31  ┆ 6           ┆ … ┆ 0            ┆ 0            ┆ 11           ┆ 13           │\n",
       " │ 2015 ┆ 1     ┆ 31  ┆ 6           ┆ … ┆ null         ┆ null         ┆ null         ┆ null         │\n",
       " │ 2015 ┆ 1     ┆ 31  ┆ 6           ┆ … ┆ null         ┆ null         ┆ null         ┆ null         │\n",
       " │ 2015 ┆ 1     ┆ 31  ┆ 6           ┆ … ┆ null         ┆ null         ┆ null         ┆ null         │\n",
       " └──────┴───────┴─────┴─────────────┴───┴──────────────┴──────────────┴──────────────┴──────────────┘,\n",
       " shape: (113_670, 30)\n",
       " ┌──────┬───────┬─────┬─────────────┬───┬──────────────┬──────────────┬──────────────┬──────────────┐\n",
       " │ YEAR ┆ MONTH ┆ DAY ┆ DAY_OF_WEEK ┆ … ┆ SECURITY_DEL ┆ AIRLINE_DELA ┆ LATE_AIRCRAF ┆ WEATHER_DELA │\n",
       " │ ---  ┆ ---   ┆ --- ┆ ---         ┆   ┆ AY           ┆ Y            ┆ T_DELAY      ┆ Y            │\n",
       " │ i32  ┆ i32   ┆ i32 ┆ i32         ┆   ┆ ---          ┆ ---          ┆ ---          ┆ ---          │\n",
       " │      ┆       ┆     ┆             ┆   ┆ i32          ┆ i32          ┆ i32          ┆ i32          │\n",
       " ╞══════╪═══════╪═════╪═════════════╪═══╪══════════════╪══════════════╪══════════════╪══════════════╡\n",
       " │ 2015 ┆ 10    ┆ 25  ┆ 7           ┆ … ┆ null         ┆ null         ┆ null         ┆ null         │\n",
       " │ 2015 ┆ 10    ┆ 25  ┆ 7           ┆ … ┆ null         ┆ null         ┆ null         ┆ null         │\n",
       " │ 2015 ┆ 10    ┆ 25  ┆ 7           ┆ … ┆ null         ┆ null         ┆ null         ┆ null         │\n",
       " │ 2015 ┆ 10    ┆ 25  ┆ 7           ┆ … ┆ null         ┆ null         ┆ null         ┆ null         │\n",
       " │ 2015 ┆ 10    ┆ 25  ┆ 7           ┆ … ┆ null         ┆ null         ┆ null         ┆ null         │\n",
       " │ …    ┆ …     ┆ …   ┆ …           ┆ … ┆ …            ┆ …            ┆ …            ┆ …            │\n",
       " │ 2015 ┆ 10    ┆ 25  ┆ 7           ┆ … ┆ null         ┆ null         ┆ null         ┆ null         │\n",
       " │ 2015 ┆ 10    ┆ 25  ┆ 7           ┆ … ┆ null         ┆ null         ┆ null         ┆ null         │\n",
       " │ 2015 ┆ 10    ┆ 25  ┆ 7           ┆ … ┆ null         ┆ null         ┆ null         ┆ null         │\n",
       " │ 2015 ┆ 10    ┆ 25  ┆ 7           ┆ … ┆ null         ┆ null         ┆ null         ┆ null         │\n",
       " │ 2015 ┆ 10    ┆ 25  ┆ 7           ┆ … ┆ null         ┆ null         ┆ null         ┆ null         │\n",
       " └──────┴───────┴─────┴─────────────┴───┴──────────────┴──────────────┴──────────────┴──────────────┘,\n",
       " shape: (109_518, 30)\n",
       " ┌──────┬───────┬─────┬─────────────┬───┬──────────────┬──────────────┬──────────────┬──────────────┐\n",
       " │ YEAR ┆ MONTH ┆ DAY ┆ DAY_OF_WEEK ┆ … ┆ SECURITY_DEL ┆ AIRLINE_DELA ┆ LATE_AIRCRAF ┆ WEATHER_DELA │\n",
       " │ ---  ┆ ---   ┆ --- ┆ ---         ┆   ┆ AY           ┆ Y            ┆ T_DELAY      ┆ Y            │\n",
       " │ i32  ┆ i32   ┆ i32 ┆ i32         ┆   ┆ ---          ┆ ---          ┆ ---          ┆ ---          │\n",
       " │      ┆       ┆     ┆             ┆   ┆ i32          ┆ i32          ┆ i32          ┆ i32          │\n",
       " ╞══════╪═══════╪═════╪═════════════╪═══╪══════════════╪══════════════╪══════════════╪══════════════╡\n",
       " │ 2015 ┆ 11    ┆ 1   ┆ 7           ┆ … ┆ null         ┆ null         ┆ null         ┆ null         │\n",
       " │ 2015 ┆ 11    ┆ 1   ┆ 7           ┆ … ┆ null         ┆ null         ┆ null         ┆ null         │\n",
       " │ 2015 ┆ 11    ┆ 1   ┆ 7           ┆ … ┆ null         ┆ null         ┆ null         ┆ null         │\n",
       " │ 2015 ┆ 11    ┆ 1   ┆ 7           ┆ … ┆ null         ┆ null         ┆ null         ┆ null         │\n",
       " │ 2015 ┆ 11    ┆ 1   ┆ 7           ┆ … ┆ null         ┆ null         ┆ null         ┆ null         │\n",
       " │ …    ┆ …     ┆ …   ┆ …           ┆ … ┆ …            ┆ …            ┆ …            ┆ …            │\n",
       " │ 2015 ┆ 11    ┆ 30  ┆ 1           ┆ … ┆ null         ┆ null         ┆ null         ┆ null         │\n",
       " │ 2015 ┆ 11    ┆ 30  ┆ 1           ┆ … ┆ null         ┆ null         ┆ null         ┆ null         │\n",
       " │ 2015 ┆ 11    ┆ 30  ┆ 1           ┆ … ┆ null         ┆ null         ┆ null         ┆ null         │\n",
       " │ 2015 ┆ 11    ┆ 30  ┆ 1           ┆ … ┆ null         ┆ null         ┆ null         ┆ null         │\n",
       " │ 2015 ┆ 11    ┆ 30  ┆ 1           ┆ … ┆ null         ┆ null         ┆ null         ┆ null         │\n",
       " └──────┴───────┴─────┴─────────────┴───┴──────────────┴──────────────┴──────────────┴──────────────┘,\n",
       " shape: (71_780, 30)\n",
       " ┌──────┬───────┬─────┬─────────────┬───┬──────────────┬──────────────┬──────────────┬──────────────┐\n",
       " │ YEAR ┆ MONTH ┆ DAY ┆ DAY_OF_WEEK ┆ … ┆ SECURITY_DEL ┆ AIRLINE_DELA ┆ LATE_AIRCRAF ┆ WEATHER_DELA │\n",
       " │ ---  ┆ ---   ┆ --- ┆ ---         ┆   ┆ AY           ┆ Y            ┆ T_DELAY      ┆ Y            │\n",
       " │ i32  ┆ i32   ┆ i32 ┆ i32         ┆   ┆ ---          ┆ ---          ┆ ---          ┆ ---          │\n",
       " │      ┆       ┆     ┆             ┆   ┆ i32          ┆ i32          ┆ i32          ┆ i32          │\n",
       " ╞══════╪═══════╪═════╪═════════════╪═══╪══════════════╪══════════════╪══════════════╪══════════════╡\n",
       " │ 2015 ┆ 2     ┆ 1   ┆ 7           ┆ … ┆ null         ┆ null         ┆ null         ┆ null         │\n",
       " │ 2015 ┆ 2     ┆ 1   ┆ 7           ┆ … ┆ 0            ┆ 0            ┆ 0            ┆ 0            │\n",
       " │ 2015 ┆ 2     ┆ 1   ┆ 7           ┆ … ┆ null         ┆ null         ┆ null         ┆ null         │\n",
       " │ 2015 ┆ 2     ┆ 1   ┆ 7           ┆ … ┆ null         ┆ null         ┆ null         ┆ null         │\n",
       " │ 2015 ┆ 2     ┆ 1   ┆ 7           ┆ … ┆ null         ┆ null         ┆ null         ┆ null         │\n",
       " │ …    ┆ …     ┆ …   ┆ …           ┆ … ┆ …            ┆ …            ┆ …            ┆ …            │\n",
       " │ 2015 ┆ 2     ┆ 28  ┆ 6           ┆ … ┆ null         ┆ null         ┆ null         ┆ null         │\n",
       " │ 2015 ┆ 2     ┆ 28  ┆ 6           ┆ … ┆ null         ┆ null         ┆ null         ┆ null         │\n",
       " │ 2015 ┆ 2     ┆ 28  ┆ 6           ┆ … ┆ null         ┆ null         ┆ null         ┆ null         │\n",
       " │ 2015 ┆ 2     ┆ 28  ┆ 6           ┆ … ┆ null         ┆ null         ┆ null         ┆ null         │\n",
       " │ 2015 ┆ 2     ┆ 28  ┆ 6           ┆ … ┆ 0            ┆ 3            ┆ 29           ┆ 0            │\n",
       " └──────┴───────┴─────┴─────────────┴───┴──────────────┴──────────────┴──────────────┴──────────────┘,\n",
       " shape: (82_832, 30)\n",
       " ┌──────┬───────┬─────┬─────────────┬───┬──────────────┬──────────────┬──────────────┬──────────────┐\n",
       " │ YEAR ┆ MONTH ┆ DAY ┆ DAY_OF_WEEK ┆ … ┆ SECURITY_DEL ┆ AIRLINE_DELA ┆ LATE_AIRCRAF ┆ WEATHER_DELA │\n",
       " │ ---  ┆ ---   ┆ --- ┆ ---         ┆   ┆ AY           ┆ Y            ┆ T_DELAY      ┆ Y            │\n",
       " │ i32  ┆ i32   ┆ i32 ┆ i32         ┆   ┆ ---          ┆ ---          ┆ ---          ┆ ---          │\n",
       " │      ┆       ┆     ┆             ┆   ┆ i32          ┆ i32          ┆ i32          ┆ i32          │\n",
       " ╞══════╪═══════╪═════╪═════════════╪═══╪══════════════╪══════════════╪══════════════╪══════════════╡\n",
       " │ 2015 ┆ 3     ┆ 1   ┆ 7           ┆ … ┆ null         ┆ null         ┆ null         ┆ null         │\n",
       " │ 2015 ┆ 3     ┆ 1   ┆ 7           ┆ … ┆ null         ┆ null         ┆ null         ┆ null         │\n",
       " │ 2015 ┆ 3     ┆ 1   ┆ 7           ┆ … ┆ 0            ┆ 35           ┆ 0            ┆ 0            │\n",
       " │ 2015 ┆ 3     ┆ 1   ┆ 7           ┆ … ┆ null         ┆ null         ┆ null         ┆ null         │\n",
       " │ 2015 ┆ 3     ┆ 1   ┆ 7           ┆ … ┆ null         ┆ null         ┆ null         ┆ null         │\n",
       " │ …    ┆ …     ┆ …   ┆ …           ┆ … ┆ …            ┆ …            ┆ …            ┆ …            │\n",
       " │ 2015 ┆ 3     ┆ 18  ┆ 3           ┆ … ┆ 0            ┆ 27           ┆ 42           ┆ 0            │\n",
       " │ 2015 ┆ 3     ┆ 18  ┆ 3           ┆ … ┆ null         ┆ null         ┆ null         ┆ null         │\n",
       " │ 2015 ┆ 3     ┆ 18  ┆ 3           ┆ … ┆ null         ┆ null         ┆ null         ┆ null         │\n",
       " │ 2015 ┆ 3     ┆ 18  ┆ 3           ┆ … ┆ null         ┆ null         ┆ null         ┆ null         │\n",
       " │ 2015 ┆ 3     ┆ 18  ┆ 3           ┆ … ┆ 0            ┆ 29           ┆ 0            ┆ 0            │\n",
       " └──────┴───────┴─────┴─────────────┴───┴──────────────┴──────────────┴──────────────┴──────────────┘,\n",
       " shape: (114_364, 30)\n",
       " ┌──────┬───────┬─────┬─────────────┬───┬──────────────┬──────────────┬──────────────┬──────────────┐\n",
       " │ YEAR ┆ MONTH ┆ DAY ┆ DAY_OF_WEEK ┆ … ┆ SECURITY_DEL ┆ AIRLINE_DELA ┆ LATE_AIRCRAF ┆ WEATHER_DELA │\n",
       " │ ---  ┆ ---   ┆ --- ┆ ---         ┆   ┆ AY           ┆ Y            ┆ T_DELAY      ┆ Y            │\n",
       " │ i32  ┆ i32   ┆ i32 ┆ i32         ┆   ┆ ---          ┆ ---          ┆ ---          ┆ ---          │\n",
       " │      ┆       ┆     ┆             ┆   ┆ i32          ┆ i32          ┆ i32          ┆ i32          │\n",
       " ╞══════╪═══════╪═════╪═════════════╪═══╪══════════════╪══════════════╪══════════════╪══════════════╡\n",
       " │ 2015 ┆ 12    ┆ 1   ┆ 2           ┆ … ┆ null         ┆ null         ┆ null         ┆ null         │\n",
       " │ 2015 ┆ 12    ┆ 1   ┆ 2           ┆ … ┆ null         ┆ null         ┆ null         ┆ null         │\n",
       " │ 2015 ┆ 12    ┆ 1   ┆ 2           ┆ … ┆ null         ┆ null         ┆ null         ┆ null         │\n",
       " │ 2015 ┆ 12    ┆ 1   ┆ 2           ┆ … ┆ null         ┆ null         ┆ null         ┆ null         │\n",
       " │ 2015 ┆ 12    ┆ 1   ┆ 2           ┆ … ┆ null         ┆ null         ┆ null         ┆ null         │\n",
       " │ …    ┆ …     ┆ …   ┆ …           ┆ … ┆ …            ┆ …            ┆ …            ┆ …            │\n",
       " │ 2015 ┆ 12    ┆ 31  ┆ 4           ┆ … ┆ null         ┆ null         ┆ null         ┆ null         │\n",
       " │ 2015 ┆ 12    ┆ 31  ┆ 4           ┆ … ┆ null         ┆ null         ┆ null         ┆ null         │\n",
       " │ 2015 ┆ 12    ┆ 31  ┆ 4           ┆ … ┆ null         ┆ null         ┆ null         ┆ null         │\n",
       " │ 2015 ┆ 12    ┆ 31  ┆ 4           ┆ … ┆ null         ┆ null         ┆ null         ┆ null         │\n",
       " │ 2015 ┆ 12    ┆ 31  ┆ 4           ┆ … ┆ null         ┆ null         ┆ null         ┆ null         │\n",
       " └──────┴───────┴─────┴─────────────┴───┴──────────────┴──────────────┴──────────────┴──────────────┘,\n",
       " shape: (80_764, 30)\n",
       " ┌──────┬───────┬─────┬─────────────┬───┬──────────────┬──────────────┬──────────────┬──────────────┐\n",
       " │ YEAR ┆ MONTH ┆ DAY ┆ DAY_OF_WEEK ┆ … ┆ SECURITY_DEL ┆ AIRLINE_DELA ┆ LATE_AIRCRAF ┆ WEATHER_DELA │\n",
       " │ ---  ┆ ---   ┆ --- ┆ ---         ┆   ┆ AY           ┆ Y            ┆ T_DELAY      ┆ Y            │\n",
       " │ i32  ┆ i32   ┆ i32 ┆ i32         ┆   ┆ ---          ┆ ---          ┆ ---          ┆ ---          │\n",
       " │      ┆       ┆     ┆             ┆   ┆ i32          ┆ i32          ┆ i32          ┆ i32          │\n",
       " ╞══════╪═══════╪═════╪═════════════╪═══╪══════════════╪══════════════╪══════════════╪══════════════╡\n",
       " │ 2015 ┆ 4     ┆ 1   ┆ 3           ┆ … ┆ null         ┆ null         ┆ null         ┆ null         │\n",
       " │ 2015 ┆ 4     ┆ 1   ┆ 3           ┆ … ┆ null         ┆ null         ┆ null         ┆ null         │\n",
       " │ 2015 ┆ 4     ┆ 1   ┆ 3           ┆ … ┆ null         ┆ null         ┆ null         ┆ null         │\n",
       " │ 2015 ┆ 4     ┆ 1   ┆ 3           ┆ … ┆ null         ┆ null         ┆ null         ┆ null         │\n",
       " │ 2015 ┆ 4     ┆ 1   ┆ 3           ┆ … ┆ 0            ┆ 9            ┆ 42           ┆ 0            │\n",
       " │ …    ┆ …     ┆ …   ┆ …           ┆ … ┆ …            ┆ …            ┆ …            ┆ …            │\n",
       " │ 2015 ┆ 4     ┆ 30  ┆ 4           ┆ … ┆ 0            ┆ 15           ┆ 0            ┆ 0            │\n",
       " │ 2015 ┆ 4     ┆ 30  ┆ 4           ┆ … ┆ null         ┆ null         ┆ null         ┆ null         │\n",
       " │ 2015 ┆ 4     ┆ 30  ┆ 4           ┆ … ┆ null         ┆ null         ┆ null         ┆ null         │\n",
       " │ 2015 ┆ 4     ┆ 30  ┆ 4           ┆ … ┆ null         ┆ null         ┆ null         ┆ null         │\n",
       " │ 2015 ┆ 4     ┆ 30  ┆ 4           ┆ … ┆ 0            ┆ 15           ┆ 0            ┆ 0            │\n",
       " └──────┴───────┴─────┴─────────────┴───┴──────────────┴──────────────┴──────────────┴──────────────┘,\n",
       " shape: (119_669, 30)\n",
       " ┌──────┬───────┬─────┬─────────────┬───┬──────────────┬──────────────┬──────────────┬──────────────┐\n",
       " │ YEAR ┆ MONTH ┆ DAY ┆ DAY_OF_WEEK ┆ … ┆ SECURITY_DEL ┆ AIRLINE_DELA ┆ LATE_AIRCRAF ┆ WEATHER_DELA │\n",
       " │ ---  ┆ ---   ┆ --- ┆ ---         ┆   ┆ AY           ┆ Y            ┆ T_DELAY      ┆ Y            │\n",
       " │ i32  ┆ i32   ┆ i32 ┆ i32         ┆   ┆ ---          ┆ ---          ┆ ---          ┆ ---          │\n",
       " │      ┆       ┆     ┆             ┆   ┆ i32          ┆ i32          ┆ i32          ┆ i32          │\n",
       " ╞══════╪═══════╪═════╪═════════════╪═══╪══════════════╪══════════════╪══════════════╪══════════════╡\n",
       " │ 2015 ┆ 8     ┆ 10  ┆ 1           ┆ … ┆ null         ┆ null         ┆ null         ┆ null         │\n",
       " │ 2015 ┆ 8     ┆ 10  ┆ 1           ┆ … ┆ null         ┆ null         ┆ null         ┆ null         │\n",
       " │ 2015 ┆ 8     ┆ 10  ┆ 1           ┆ … ┆ null         ┆ null         ┆ null         ┆ null         │\n",
       " │ 2015 ┆ 8     ┆ 10  ┆ 1           ┆ … ┆ null         ┆ null         ┆ null         ┆ null         │\n",
       " │ 2015 ┆ 8     ┆ 10  ┆ 1           ┆ … ┆ null         ┆ null         ┆ null         ┆ null         │\n",
       " │ …    ┆ …     ┆ …   ┆ …           ┆ … ┆ …            ┆ …            ┆ …            ┆ …            │\n",
       " │ 2015 ┆ 8     ┆ 31  ┆ 1           ┆ … ┆ null         ┆ null         ┆ null         ┆ null         │\n",
       " │ 2015 ┆ 8     ┆ 31  ┆ 1           ┆ … ┆ null         ┆ null         ┆ null         ┆ null         │\n",
       " │ 2015 ┆ 8     ┆ 31  ┆ 1           ┆ … ┆ null         ┆ null         ┆ null         ┆ null         │\n",
       " │ 2015 ┆ 8     ┆ 31  ┆ 1           ┆ … ┆ null         ┆ null         ┆ null         ┆ null         │\n",
       " │ 2015 ┆ 8     ┆ 31  ┆ 1           ┆ … ┆ null         ┆ null         ┆ null         ┆ null         │\n",
       " └──────┴───────┴─────┴─────────────┴───┴──────────────┴──────────────┴──────────────┴──────────────┘,\n",
       " shape: (81_957, 30)\n",
       " ┌──────┬───────┬─────┬─────────────┬───┬──────────────┬──────────────┬──────────────┬──────────────┐\n",
       " │ YEAR ┆ MONTH ┆ DAY ┆ DAY_OF_WEEK ┆ … ┆ SECURITY_DEL ┆ AIRLINE_DELA ┆ LATE_AIRCRAF ┆ WEATHER_DELA │\n",
       " │ ---  ┆ ---   ┆ --- ┆ ---         ┆   ┆ AY           ┆ Y            ┆ T_DELAY      ┆ Y            │\n",
       " │ i32  ┆ i32   ┆ i32 ┆ i32         ┆   ┆ ---          ┆ ---          ┆ ---          ┆ ---          │\n",
       " │      ┆       ┆     ┆             ┆   ┆ i32          ┆ i32          ┆ i32          ┆ i32          │\n",
       " ╞══════╪═══════╪═════╪═════════════╪═══╪══════════════╪══════════════╪══════════════╪══════════════╡\n",
       " │ 2015 ┆ 5     ┆ 1   ┆ 5           ┆ … ┆ null         ┆ null         ┆ null         ┆ null         │\n",
       " │ 2015 ┆ 5     ┆ 1   ┆ 5           ┆ … ┆ null         ┆ null         ┆ null         ┆ null         │\n",
       " │ 2015 ┆ 5     ┆ 1   ┆ 5           ┆ … ┆ null         ┆ null         ┆ null         ┆ null         │\n",
       " │ 2015 ┆ 5     ┆ 1   ┆ 5           ┆ … ┆ null         ┆ null         ┆ null         ┆ null         │\n",
       " │ 2015 ┆ 5     ┆ 1   ┆ 5           ┆ … ┆ null         ┆ null         ┆ null         ┆ null         │\n",
       " │ …    ┆ …     ┆ …   ┆ …           ┆ … ┆ …            ┆ …            ┆ …            ┆ …            │\n",
       " │ 2015 ┆ 5     ┆ 31  ┆ 7           ┆ … ┆ 0            ┆ 0            ┆ 122          ┆ 0            │\n",
       " │ 2015 ┆ 5     ┆ 31  ┆ 7           ┆ … ┆ 0            ┆ 0            ┆ 54           ┆ 0            │\n",
       " │ 2015 ┆ 5     ┆ 31  ┆ 7           ┆ … ┆ 0            ┆ 2            ┆ 159          ┆ 0            │\n",
       " │ 2015 ┆ 5     ┆ 31  ┆ 7           ┆ … ┆ 0            ┆ 0            ┆ 69           ┆ 3            │\n",
       " │ 2015 ┆ 5     ┆ 31  ┆ 7           ┆ … ┆ 0            ┆ 0            ┆ 185          ┆ 0            │\n",
       " └──────┴───────┴─────┴─────────────┴───┴──────────────┴──────────────┴──────────────┴──────────────┘,\n",
       " shape: (81_993, 30)\n",
       " ┌──────┬───────┬─────┬─────────────┬───┬──────────────┬──────────────┬──────────────┬──────────────┐\n",
       " │ YEAR ┆ MONTH ┆ DAY ┆ DAY_OF_WEEK ┆ … ┆ SECURITY_DEL ┆ AIRLINE_DELA ┆ LATE_AIRCRAF ┆ WEATHER_DELA │\n",
       " │ ---  ┆ ---   ┆ --- ┆ ---         ┆   ┆ AY           ┆ Y            ┆ T_DELAY      ┆ Y            │\n",
       " │ i32  ┆ i32   ┆ i32 ┆ i32         ┆   ┆ ---          ┆ ---          ┆ ---          ┆ ---          │\n",
       " │      ┆       ┆     ┆             ┆   ┆ i32          ┆ i32          ┆ i32          ┆ i32          │\n",
       " ╞══════╪═══════╪═════╪═════════════╪═══╪══════════════╪══════════════╪══════════════╪══════════════╡\n",
       " │ 2015 ┆ 6     ┆ 1   ┆ 1           ┆ … ┆ null         ┆ null         ┆ null         ┆ null         │\n",
       " │ 2015 ┆ 6     ┆ 1   ┆ 1           ┆ … ┆ 0            ┆ 211          ┆ 0            ┆ 0            │\n",
       " │ 2015 ┆ 6     ┆ 1   ┆ 1           ┆ … ┆ null         ┆ null         ┆ null         ┆ null         │\n",
       " │ 2015 ┆ 6     ┆ 1   ┆ 1           ┆ … ┆ 0            ┆ 16           ┆ 0            ┆ 0            │\n",
       " │ 2015 ┆ 6     ┆ 1   ┆ 1           ┆ … ┆ null         ┆ null         ┆ null         ┆ null         │\n",
       " │ …    ┆ …     ┆ …   ┆ …           ┆ … ┆ …            ┆ …            ┆ …            ┆ …            │\n",
       " │ 2015 ┆ 6     ┆ 30  ┆ 2           ┆ … ┆ 0            ┆ 17           ┆ 2            ┆ 0            │\n",
       " │ 2015 ┆ 6     ┆ 30  ┆ 2           ┆ … ┆ null         ┆ null         ┆ null         ┆ null         │\n",
       " │ 2015 ┆ 6     ┆ 30  ┆ 2           ┆ … ┆ 0            ┆ 0            ┆ 0            ┆ 0            │\n",
       " │ 2015 ┆ 6     ┆ 30  ┆ 2           ┆ … ┆ 0            ┆ 22           ┆ 33           ┆ 0            │\n",
       " │ 2015 ┆ 6     ┆ 30  ┆ 2           ┆ … ┆ 0            ┆ 14           ┆ 39           ┆ 0            │\n",
       " └──────┴───────┴─────┴─────────────┴───┴──────────────┴──────────────┴──────────────┴──────────────┘,\n",
       " shape: (108_783, 30)\n",
       " ┌──────┬───────┬─────┬─────────────┬───┬──────────────┬──────────────┬──────────────┬──────────────┐\n",
       " │ YEAR ┆ MONTH ┆ DAY ┆ DAY_OF_WEEK ┆ … ┆ SECURITY_DEL ┆ AIRLINE_DELA ┆ LATE_AIRCRAF ┆ WEATHER_DELA │\n",
       " │ ---  ┆ ---   ┆ --- ┆ ---         ┆   ┆ AY           ┆ Y            ┆ T_DELAY      ┆ Y            │\n",
       " │ i32  ┆ i32   ┆ i32 ┆ i32         ┆   ┆ ---          ┆ ---          ┆ ---          ┆ ---          │\n",
       " │      ┆       ┆     ┆             ┆   ┆ i32          ┆ i32          ┆ i32          ┆ i32          │\n",
       " ╞══════╪═══════╪═════╪═════════════╪═══╪══════════════╪══════════════╪══════════════╪══════════════╡\n",
       " │ 2015 ┆ 9     ┆ 1   ┆ 2           ┆ … ┆ null         ┆ null         ┆ null         ┆ null         │\n",
       " │ 2015 ┆ 9     ┆ 1   ┆ 2           ┆ … ┆ null         ┆ null         ┆ null         ┆ null         │\n",
       " │ 2015 ┆ 9     ┆ 1   ┆ 2           ┆ … ┆ null         ┆ null         ┆ null         ┆ null         │\n",
       " │ 2015 ┆ 9     ┆ 1   ┆ 2           ┆ … ┆ 0            ┆ 0            ┆ 27           ┆ 0            │\n",
       " │ 2015 ┆ 9     ┆ 1   ┆ 2           ┆ … ┆ null         ┆ null         ┆ null         ┆ null         │\n",
       " │ …    ┆ …     ┆ …   ┆ …           ┆ … ┆ …            ┆ …            ┆ …            ┆ …            │\n",
       " │ 2015 ┆ 9     ┆ 30  ┆ 3           ┆ … ┆ null         ┆ null         ┆ null         ┆ null         │\n",
       " │ 2015 ┆ 9     ┆ 30  ┆ 3           ┆ … ┆ 0            ┆ 0            ┆ 26           ┆ 0            │\n",
       " │ 2015 ┆ 9     ┆ 30  ┆ 3           ┆ … ┆ null         ┆ null         ┆ null         ┆ null         │\n",
       " │ 2015 ┆ 9     ┆ 30  ┆ 3           ┆ … ┆ null         ┆ null         ┆ null         ┆ null         │\n",
       " │ 2015 ┆ 9     ┆ 30  ┆ 3           ┆ … ┆ null         ┆ null         ┆ null         ┆ null         │\n",
       " └──────┴───────┴─────┴─────────────┴───┴──────────────┴──────────────┴──────────────┴──────────────┘,\n",
       " shape: (121_284, 30)\n",
       " ┌──────┬───────┬─────┬─────────────┬───┬──────────────┬──────────────┬──────────────┬──────────────┐\n",
       " │ YEAR ┆ MONTH ┆ DAY ┆ DAY_OF_WEEK ┆ … ┆ SECURITY_DEL ┆ AIRLINE_DELA ┆ LATE_AIRCRAF ┆ WEATHER_DELA │\n",
       " │ ---  ┆ ---   ┆ --- ┆ ---         ┆   ┆ AY           ┆ Y            ┆ T_DELAY      ┆ Y            │\n",
       " │ i32  ┆ i32   ┆ i32 ┆ i32         ┆   ┆ ---          ┆ ---          ┆ ---          ┆ ---          │\n",
       " │      ┆       ┆     ┆             ┆   ┆ i32          ┆ i32          ┆ i32          ┆ i32          │\n",
       " ╞══════╪═══════╪═════╪═════════════╪═══╪══════════════╪══════════════╪══════════════╪══════════════╡\n",
       " │ 2015 ┆ 7     ┆ 1   ┆ 3           ┆ … ┆ null         ┆ null         ┆ null         ┆ null         │\n",
       " │ 2015 ┆ 7     ┆ 1   ┆ 3           ┆ … ┆ 0            ┆ 0            ┆ 0            ┆ 0            │\n",
       " │ 2015 ┆ 7     ┆ 1   ┆ 3           ┆ … ┆ null         ┆ null         ┆ null         ┆ null         │\n",
       " │ 2015 ┆ 7     ┆ 1   ┆ 3           ┆ … ┆ 0            ┆ 20           ┆ 0            ┆ 0            │\n",
       " │ 2015 ┆ 7     ┆ 1   ┆ 3           ┆ … ┆ null         ┆ null         ┆ null         ┆ null         │\n",
       " │ …    ┆ …     ┆ …   ┆ …           ┆ … ┆ …            ┆ …            ┆ …            ┆ …            │\n",
       " │ 2015 ┆ 7     ┆ 31  ┆ 5           ┆ … ┆ null         ┆ null         ┆ null         ┆ null         │\n",
       " │ 2015 ┆ 7     ┆ 31  ┆ 5           ┆ … ┆ 0            ┆ 0            ┆ 26           ┆ 0            │\n",
       " │ 2015 ┆ 7     ┆ 31  ┆ 5           ┆ … ┆ 0            ┆ 22           ┆ 0            ┆ 0            │\n",
       " │ 2015 ┆ 7     ┆ 31  ┆ 5           ┆ … ┆ 0            ┆ 6            ┆ 12           ┆ 0            │\n",
       " │ 2015 ┆ 7     ┆ 31  ┆ 5           ┆ … ┆ 0            ┆ 132          ┆ 0            ┆ 0            │\n",
       " └──────┴───────┴─────┴─────────────┴───┴──────────────┴──────────────┴──────────────┴──────────────┘]"
      ]
     },
     "execution_count": 18,
     "metadata": {},
     "output_type": "execute_result"
    }
   ],
   "source": [
    "vuelos_por_mes = vuelos.partition_by('MONTH')\n",
    "\n",
    "vuelos_por_mes"
   ]
  },
  {
   "cell_type": "code",
   "execution_count": 19,
   "id": "c3f4d0d7-efbc-4273-80a3-628db9d926c6",
   "metadata": {
    "tags": []
   },
   "outputs": [
    {
     "data": {
      "text/html": [
       "<div><style>\n",
       ".dataframe > thead > tr,\n",
       ".dataframe > tbody > tr {\n",
       "  text-align: right;\n",
       "  white-space: pre-wrap;\n",
       "}\n",
       "</style>\n",
       "<small>shape: (113_670, 30)</small><table border=\"1\" class=\"dataframe\"><thead><tr><th>YEAR</th><th>MONTH</th><th>DAY</th><th>DAY_OF_WEEK</th><th>FLIGHT_NUMBER</th><th>TAIL_NUMBER</th><th>ORIGIN_AIRPORT</th><th>DESTINATION_AIRPORT</th><th>SCHEDULED_DEPARTURE</th><th>DEPARTURE_TIME</th><th>DEPARTURE_DELAY</th><th>TAXI_OUT</th><th>WHEELS_OFF</th><th>SCHEDULED_TIME</th><th>ELAPSED_TIME</th><th>AIR_TIME</th><th>DISTANCE</th><th>WHEELS_ON</th><th>TAXI_IN</th><th>SCHEDULED_ARRIVAL</th><th>ARRIVAL_TIME</th><th>ARRIVAL_DELAY</th><th>DIVERTED</th><th>CANCELLED</th><th>CANCELLATION_REASON</th><th>AIR_SYSTEM_DELAY</th><th>SECURITY_DELAY</th><th>AIRLINE_DELAY</th><th>LATE_AIRCRAFT_DELAY</th><th>WEATHER_DELAY</th></tr><tr><td>i32</td><td>i32</td><td>i32</td><td>i32</td><td>i32</td><td>str</td><td>str</td><td>str</td><td>i32</td><td>i32</td><td>i32</td><td>i32</td><td>i32</td><td>i32</td><td>i32</td><td>i32</td><td>i32</td><td>i32</td><td>i32</td><td>i32</td><td>i32</td><td>i32</td><td>i32</td><td>i32</td><td>str</td><td>i32</td><td>i32</td><td>i32</td><td>i32</td><td>i32</td></tr></thead><tbody><tr><td>2015</td><td>10</td><td>25</td><td>7</td><td>159</td><td>&quot;N3FLAA&quot;</td><td>&quot;11298&quot;</td><td>&quot;14771&quot;</td><td>815</td><td>810</td><td>-5</td><td>14</td><td>824</td><td>222</td><td>216</td><td>199</td><td>1464</td><td>943</td><td>3</td><td>957</td><td>946</td><td>-11</td><td>0</td><td>0</td><td>null</td><td>null</td><td>null</td><td>null</td><td>null</td><td>null</td></tr><tr><td>2015</td><td>10</td><td>25</td><td>7</td><td>937</td><td>&quot;N3GPAA&quot;</td><td>&quot;12478&quot;</td><td>&quot;14843&quot;</td><td>815</td><td>808</td><td>-7</td><td>18</td><td>826</td><td>243</td><td>214</td><td>192</td><td>1598</td><td>1138</td><td>4</td><td>1218</td><td>1142</td><td>-36</td><td>0</td><td>0</td><td>null</td><td>null</td><td>null</td><td>null</td><td>null</td><td>null</td></tr><tr><td>2015</td><td>10</td><td>25</td><td>7</td><td>1213</td><td>&quot;N3FNAA&quot;</td><td>&quot;11298&quot;</td><td>&quot;14683&quot;</td><td>815</td><td>814</td><td>-1</td><td>12</td><td>826</td><td>65</td><td>62</td><td>45</td><td>247</td><td>911</td><td>5</td><td>920</td><td>916</td><td>-4</td><td>0</td><td>0</td><td>null</td><td>null</td><td>null</td><td>null</td><td>null</td><td>null</td></tr><tr><td>2015</td><td>10</td><td>25</td><td>7</td><td>1410</td><td>&quot;N3KGAA&quot;</td><td>&quot;12953&quot;</td><td>&quot;13303&quot;</td><td>815</td><td>810</td><td>-5</td><td>16</td><td>826</td><td>191</td><td>171</td><td>143</td><td>1096</td><td>1049</td><td>12</td><td>1126</td><td>1101</td><td>-25</td><td>0</td><td>0</td><td>null</td><td>null</td><td>null</td><td>null</td><td>null</td><td>null</td></tr><tr><td>2015</td><td>10</td><td>25</td><td>7</td><td>2269</td><td>&quot;N471AA&quot;</td><td>&quot;15376&quot;</td><td>&quot;11298&quot;</td><td>815</td><td>811</td><td>-4</td><td>13</td><td>824</td><td>137</td><td>128</td><td>105</td><td>813</td><td>1209</td><td>10</td><td>1232</td><td>1219</td><td>-13</td><td>0</td><td>0</td><td>null</td><td>null</td><td>null</td><td>null</td><td>null</td><td>null</td></tr><tr><td>&hellip;</td><td>&hellip;</td><td>&hellip;</td><td>&hellip;</td><td>&hellip;</td><td>&hellip;</td><td>&hellip;</td><td>&hellip;</td><td>&hellip;</td><td>&hellip;</td><td>&hellip;</td><td>&hellip;</td><td>&hellip;</td><td>&hellip;</td><td>&hellip;</td><td>&hellip;</td><td>&hellip;</td><td>&hellip;</td><td>&hellip;</td><td>&hellip;</td><td>&hellip;</td><td>&hellip;</td><td>&hellip;</td><td>&hellip;</td><td>&hellip;</td><td>&hellip;</td><td>&hellip;</td><td>&hellip;</td><td>&hellip;</td><td>&hellip;</td></tr><tr><td>2015</td><td>10</td><td>25</td><td>7</td><td>389</td><td>&quot;N236JB&quot;</td><td>&quot;10721&quot;</td><td>&quot;11278&quot;</td><td>800</td><td>757</td><td>-3</td><td>14</td><td>811</td><td>102</td><td>91</td><td>74</td><td>399</td><td>925</td><td>3</td><td>942</td><td>928</td><td>-14</td><td>0</td><td>0</td><td>null</td><td>null</td><td>null</td><td>null</td><td>null</td><td>null</td></tr><tr><td>2015</td><td>10</td><td>25</td><td>7</td><td>683</td><td>&quot;N952JB&quot;</td><td>&quot;12478&quot;</td><td>&quot;13204&quot;</td><td>803</td><td>759</td><td>-4</td><td>33</td><td>832</td><td>174</td><td>176</td><td>132</td><td>944</td><td>1044</td><td>11</td><td>1057</td><td>1055</td><td>-2</td><td>0</td><td>0</td><td>null</td><td>null</td><td>null</td><td>null</td><td>null</td><td>null</td></tr><tr><td>2015</td><td>10</td><td>25</td><td>7</td><td>453</td><td>&quot;N579JB&quot;</td><td>&quot;12478&quot;</td><td>&quot;14027&quot;</td><td>805</td><td>802</td><td>-3</td><td>32</td><td>834</td><td>174</td><td>170</td><td>134</td><td>1028</td><td>1048</td><td>4</td><td>1059</td><td>1052</td><td>-7</td><td>0</td><td>0</td><td>null</td><td>null</td><td>null</td><td>null</td><td>null</td><td>null</td></tr><tr><td>2015</td><td>10</td><td>25</td><td>7</td><td>151</td><td>&quot;N267JB&quot;</td><td>&quot;10721&quot;</td><td>&quot;13204&quot;</td><td>805</td><td>802</td><td>-3</td><td>15</td><td>817</td><td>198</td><td>179</td><td>155</td><td>1121</td><td>1052</td><td>9</td><td>1123</td><td>1101</td><td>-22</td><td>0</td><td>0</td><td>null</td><td>null</td><td>null</td><td>null</td><td>null</td><td>null</td></tr><tr><td>2015</td><td>10</td><td>25</td><td>7</td><td>459</td><td>&quot;N323JB&quot;</td><td>&quot;10721&quot;</td><td>&quot;14100&quot;</td><td>810</td><td>807</td><td>-3</td><td>17</td><td>824</td><td>94</td><td>83</td><td>61</td><td>280</td><td>925</td><td>5</td><td>944</td><td>930</td><td>-14</td><td>0</td><td>0</td><td>null</td><td>null</td><td>null</td><td>null</td><td>null</td><td>null</td></tr></tbody></table></div>"
      ],
      "text/plain": [
       "shape: (113_670, 30)\n",
       "┌──────┬───────┬─────┬─────────────┬───┬──────────────┬──────────────┬──────────────┬──────────────┐\n",
       "│ YEAR ┆ MONTH ┆ DAY ┆ DAY_OF_WEEK ┆ … ┆ SECURITY_DEL ┆ AIRLINE_DELA ┆ LATE_AIRCRAF ┆ WEATHER_DELA │\n",
       "│ ---  ┆ ---   ┆ --- ┆ ---         ┆   ┆ AY           ┆ Y            ┆ T_DELAY      ┆ Y            │\n",
       "│ i32  ┆ i32   ┆ i32 ┆ i32         ┆   ┆ ---          ┆ ---          ┆ ---          ┆ ---          │\n",
       "│      ┆       ┆     ┆             ┆   ┆ i32          ┆ i32          ┆ i32          ┆ i32          │\n",
       "╞══════╪═══════╪═════╪═════════════╪═══╪══════════════╪══════════════╪══════════════╪══════════════╡\n",
       "│ 2015 ┆ 10    ┆ 25  ┆ 7           ┆ … ┆ null         ┆ null         ┆ null         ┆ null         │\n",
       "│ 2015 ┆ 10    ┆ 25  ┆ 7           ┆ … ┆ null         ┆ null         ┆ null         ┆ null         │\n",
       "│ 2015 ┆ 10    ┆ 25  ┆ 7           ┆ … ┆ null         ┆ null         ┆ null         ┆ null         │\n",
       "│ 2015 ┆ 10    ┆ 25  ┆ 7           ┆ … ┆ null         ┆ null         ┆ null         ┆ null         │\n",
       "│ 2015 ┆ 10    ┆ 25  ┆ 7           ┆ … ┆ null         ┆ null         ┆ null         ┆ null         │\n",
       "│ …    ┆ …     ┆ …   ┆ …           ┆ … ┆ …            ┆ …            ┆ …            ┆ …            │\n",
       "│ 2015 ┆ 10    ┆ 25  ┆ 7           ┆ … ┆ null         ┆ null         ┆ null         ┆ null         │\n",
       "│ 2015 ┆ 10    ┆ 25  ┆ 7           ┆ … ┆ null         ┆ null         ┆ null         ┆ null         │\n",
       "│ 2015 ┆ 10    ┆ 25  ┆ 7           ┆ … ┆ null         ┆ null         ┆ null         ┆ null         │\n",
       "│ 2015 ┆ 10    ┆ 25  ┆ 7           ┆ … ┆ null         ┆ null         ┆ null         ┆ null         │\n",
       "│ 2015 ┆ 10    ┆ 25  ┆ 7           ┆ … ┆ null         ┆ null         ┆ null         ┆ null         │\n",
       "└──────┴───────┴─────┴─────────────┴───┴──────────────┴──────────────┴──────────────┴──────────────┘"
      ]
     },
     "execution_count": 19,
     "metadata": {},
     "output_type": "execute_result"
    }
   ],
   "source": [
    "vuelos_por_mes[1]"
   ]
  },
  {
   "cell_type": "markdown",
   "id": "05bd0b8b-5457-4827-b0e6-57a12f4382fc",
   "metadata": {},
   "source": [
    "En caso de que deseemos que retorne los DataFrame en un diccionario podemos utilizar el parámetro `as_dict=True`."
   ]
  },
  {
   "cell_type": "code",
   "execution_count": 20,
   "id": "704fa8cf-8e61-481b-9174-830edc16c1a8",
   "metadata": {
    "tags": []
   },
   "outputs": [
    {
     "name": "stderr",
     "output_type": "stream",
     "text": [
      "/var/folders/44/cd4ysnrs1zvgk8nff92w71lw0000gn/T/ipykernel_4660/3399466457.py:1: DeprecationWarning: `partition_by(..., as_dict=True)` will change to always return tuples as dictionary keys. Pass `by` as a list to silence this warning, e.g. `partition_by(['MONTH'], as_dict=True)`.\n",
      "  vuelos_por_mes_dict = vuelos.partition_by('MONTH', as_dict=True)\n"
     ]
    },
    {
     "data": {
      "text/plain": [
       "{1: shape: (78_939, 30)\n",
       " ┌──────┬───────┬─────┬─────────────┬───┬──────────────┬──────────────┬──────────────┬──────────────┐\n",
       " │ YEAR ┆ MONTH ┆ DAY ┆ DAY_OF_WEEK ┆ … ┆ SECURITY_DEL ┆ AIRLINE_DELA ┆ LATE_AIRCRAF ┆ WEATHER_DELA │\n",
       " │ ---  ┆ ---   ┆ --- ┆ ---         ┆   ┆ AY           ┆ Y            ┆ T_DELAY      ┆ Y            │\n",
       " │ i32  ┆ i32   ┆ i32 ┆ i32         ┆   ┆ ---          ┆ ---          ┆ ---          ┆ ---          │\n",
       " │      ┆       ┆     ┆             ┆   ┆ i32          ┆ i32          ┆ i32          ┆ i32          │\n",
       " ╞══════╪═══════╪═════╪═════════════╪═══╪══════════════╪══════════════╪══════════════╪══════════════╡\n",
       " │ 2015 ┆ 1     ┆ 1   ┆ 4           ┆ … ┆ null         ┆ null         ┆ null         ┆ null         │\n",
       " │ 2015 ┆ 1     ┆ 1   ┆ 4           ┆ … ┆ null         ┆ null         ┆ null         ┆ null         │\n",
       " │ 2015 ┆ 1     ┆ 1   ┆ 4           ┆ … ┆ null         ┆ null         ┆ null         ┆ null         │\n",
       " │ 2015 ┆ 1     ┆ 1   ┆ 4           ┆ … ┆ null         ┆ null         ┆ null         ┆ null         │\n",
       " │ 2015 ┆ 1     ┆ 1   ┆ 4           ┆ … ┆ null         ┆ null         ┆ null         ┆ null         │\n",
       " │ …    ┆ …     ┆ …   ┆ …           ┆ … ┆ …            ┆ …            ┆ …            ┆ …            │\n",
       " │ 2015 ┆ 1     ┆ 31  ┆ 6           ┆ … ┆ null         ┆ null         ┆ null         ┆ null         │\n",
       " │ 2015 ┆ 1     ┆ 31  ┆ 6           ┆ … ┆ 0            ┆ 0            ┆ 11           ┆ 13           │\n",
       " │ 2015 ┆ 1     ┆ 31  ┆ 6           ┆ … ┆ null         ┆ null         ┆ null         ┆ null         │\n",
       " │ 2015 ┆ 1     ┆ 31  ┆ 6           ┆ … ┆ null         ┆ null         ┆ null         ┆ null         │\n",
       " │ 2015 ┆ 1     ┆ 31  ┆ 6           ┆ … ┆ null         ┆ null         ┆ null         ┆ null         │\n",
       " └──────┴───────┴─────┴─────────────┴───┴──────────────┴──────────────┴──────────────┴──────────────┘,\n",
       " 10: shape: (113_670, 30)\n",
       " ┌──────┬───────┬─────┬─────────────┬───┬──────────────┬──────────────┬──────────────┬──────────────┐\n",
       " │ YEAR ┆ MONTH ┆ DAY ┆ DAY_OF_WEEK ┆ … ┆ SECURITY_DEL ┆ AIRLINE_DELA ┆ LATE_AIRCRAF ┆ WEATHER_DELA │\n",
       " │ ---  ┆ ---   ┆ --- ┆ ---         ┆   ┆ AY           ┆ Y            ┆ T_DELAY      ┆ Y            │\n",
       " │ i32  ┆ i32   ┆ i32 ┆ i32         ┆   ┆ ---          ┆ ---          ┆ ---          ┆ ---          │\n",
       " │      ┆       ┆     ┆             ┆   ┆ i32          ┆ i32          ┆ i32          ┆ i32          │\n",
       " ╞══════╪═══════╪═════╪═════════════╪═══╪══════════════╪══════════════╪══════════════╪══════════════╡\n",
       " │ 2015 ┆ 10    ┆ 25  ┆ 7           ┆ … ┆ null         ┆ null         ┆ null         ┆ null         │\n",
       " │ 2015 ┆ 10    ┆ 25  ┆ 7           ┆ … ┆ null         ┆ null         ┆ null         ┆ null         │\n",
       " │ 2015 ┆ 10    ┆ 25  ┆ 7           ┆ … ┆ null         ┆ null         ┆ null         ┆ null         │\n",
       " │ 2015 ┆ 10    ┆ 25  ┆ 7           ┆ … ┆ null         ┆ null         ┆ null         ┆ null         │\n",
       " │ 2015 ┆ 10    ┆ 25  ┆ 7           ┆ … ┆ null         ┆ null         ┆ null         ┆ null         │\n",
       " │ …    ┆ …     ┆ …   ┆ …           ┆ … ┆ …            ┆ …            ┆ …            ┆ …            │\n",
       " │ 2015 ┆ 10    ┆ 25  ┆ 7           ┆ … ┆ null         ┆ null         ┆ null         ┆ null         │\n",
       " │ 2015 ┆ 10    ┆ 25  ┆ 7           ┆ … ┆ null         ┆ null         ┆ null         ┆ null         │\n",
       " │ 2015 ┆ 10    ┆ 25  ┆ 7           ┆ … ┆ null         ┆ null         ┆ null         ┆ null         │\n",
       " │ 2015 ┆ 10    ┆ 25  ┆ 7           ┆ … ┆ null         ┆ null         ┆ null         ┆ null         │\n",
       " │ 2015 ┆ 10    ┆ 25  ┆ 7           ┆ … ┆ null         ┆ null         ┆ null         ┆ null         │\n",
       " └──────┴───────┴─────┴─────────────┴───┴──────────────┴──────────────┴──────────────┴──────────────┘,\n",
       " 11: shape: (109_518, 30)\n",
       " ┌──────┬───────┬─────┬─────────────┬───┬──────────────┬──────────────┬──────────────┬──────────────┐\n",
       " │ YEAR ┆ MONTH ┆ DAY ┆ DAY_OF_WEEK ┆ … ┆ SECURITY_DEL ┆ AIRLINE_DELA ┆ LATE_AIRCRAF ┆ WEATHER_DELA │\n",
       " │ ---  ┆ ---   ┆ --- ┆ ---         ┆   ┆ AY           ┆ Y            ┆ T_DELAY      ┆ Y            │\n",
       " │ i32  ┆ i32   ┆ i32 ┆ i32         ┆   ┆ ---          ┆ ---          ┆ ---          ┆ ---          │\n",
       " │      ┆       ┆     ┆             ┆   ┆ i32          ┆ i32          ┆ i32          ┆ i32          │\n",
       " ╞══════╪═══════╪═════╪═════════════╪═══╪══════════════╪══════════════╪══════════════╪══════════════╡\n",
       " │ 2015 ┆ 11    ┆ 1   ┆ 7           ┆ … ┆ null         ┆ null         ┆ null         ┆ null         │\n",
       " │ 2015 ┆ 11    ┆ 1   ┆ 7           ┆ … ┆ null         ┆ null         ┆ null         ┆ null         │\n",
       " │ 2015 ┆ 11    ┆ 1   ┆ 7           ┆ … ┆ null         ┆ null         ┆ null         ┆ null         │\n",
       " │ 2015 ┆ 11    ┆ 1   ┆ 7           ┆ … ┆ null         ┆ null         ┆ null         ┆ null         │\n",
       " │ 2015 ┆ 11    ┆ 1   ┆ 7           ┆ … ┆ null         ┆ null         ┆ null         ┆ null         │\n",
       " │ …    ┆ …     ┆ …   ┆ …           ┆ … ┆ …            ┆ …            ┆ …            ┆ …            │\n",
       " │ 2015 ┆ 11    ┆ 30  ┆ 1           ┆ … ┆ null         ┆ null         ┆ null         ┆ null         │\n",
       " │ 2015 ┆ 11    ┆ 30  ┆ 1           ┆ … ┆ null         ┆ null         ┆ null         ┆ null         │\n",
       " │ 2015 ┆ 11    ┆ 30  ┆ 1           ┆ … ┆ null         ┆ null         ┆ null         ┆ null         │\n",
       " │ 2015 ┆ 11    ┆ 30  ┆ 1           ┆ … ┆ null         ┆ null         ┆ null         ┆ null         │\n",
       " │ 2015 ┆ 11    ┆ 30  ┆ 1           ┆ … ┆ null         ┆ null         ┆ null         ┆ null         │\n",
       " └──────┴───────┴─────┴─────────────┴───┴──────────────┴──────────────┴──────────────┴──────────────┘,\n",
       " 2: shape: (71_780, 30)\n",
       " ┌──────┬───────┬─────┬─────────────┬───┬──────────────┬──────────────┬──────────────┬──────────────┐\n",
       " │ YEAR ┆ MONTH ┆ DAY ┆ DAY_OF_WEEK ┆ … ┆ SECURITY_DEL ┆ AIRLINE_DELA ┆ LATE_AIRCRAF ┆ WEATHER_DELA │\n",
       " │ ---  ┆ ---   ┆ --- ┆ ---         ┆   ┆ AY           ┆ Y            ┆ T_DELAY      ┆ Y            │\n",
       " │ i32  ┆ i32   ┆ i32 ┆ i32         ┆   ┆ ---          ┆ ---          ┆ ---          ┆ ---          │\n",
       " │      ┆       ┆     ┆             ┆   ┆ i32          ┆ i32          ┆ i32          ┆ i32          │\n",
       " ╞══════╪═══════╪═════╪═════════════╪═══╪══════════════╪══════════════╪══════════════╪══════════════╡\n",
       " │ 2015 ┆ 2     ┆ 1   ┆ 7           ┆ … ┆ null         ┆ null         ┆ null         ┆ null         │\n",
       " │ 2015 ┆ 2     ┆ 1   ┆ 7           ┆ … ┆ 0            ┆ 0            ┆ 0            ┆ 0            │\n",
       " │ 2015 ┆ 2     ┆ 1   ┆ 7           ┆ … ┆ null         ┆ null         ┆ null         ┆ null         │\n",
       " │ 2015 ┆ 2     ┆ 1   ┆ 7           ┆ … ┆ null         ┆ null         ┆ null         ┆ null         │\n",
       " │ 2015 ┆ 2     ┆ 1   ┆ 7           ┆ … ┆ null         ┆ null         ┆ null         ┆ null         │\n",
       " │ …    ┆ …     ┆ …   ┆ …           ┆ … ┆ …            ┆ …            ┆ …            ┆ …            │\n",
       " │ 2015 ┆ 2     ┆ 28  ┆ 6           ┆ … ┆ null         ┆ null         ┆ null         ┆ null         │\n",
       " │ 2015 ┆ 2     ┆ 28  ┆ 6           ┆ … ┆ null         ┆ null         ┆ null         ┆ null         │\n",
       " │ 2015 ┆ 2     ┆ 28  ┆ 6           ┆ … ┆ null         ┆ null         ┆ null         ┆ null         │\n",
       " │ 2015 ┆ 2     ┆ 28  ┆ 6           ┆ … ┆ null         ┆ null         ┆ null         ┆ null         │\n",
       " │ 2015 ┆ 2     ┆ 28  ┆ 6           ┆ … ┆ 0            ┆ 3            ┆ 29           ┆ 0            │\n",
       " └──────┴───────┴─────┴─────────────┴───┴──────────────┴──────────────┴──────────────┴──────────────┘,\n",
       " 3: shape: (82_832, 30)\n",
       " ┌──────┬───────┬─────┬─────────────┬───┬──────────────┬──────────────┬──────────────┬──────────────┐\n",
       " │ YEAR ┆ MONTH ┆ DAY ┆ DAY_OF_WEEK ┆ … ┆ SECURITY_DEL ┆ AIRLINE_DELA ┆ LATE_AIRCRAF ┆ WEATHER_DELA │\n",
       " │ ---  ┆ ---   ┆ --- ┆ ---         ┆   ┆ AY           ┆ Y            ┆ T_DELAY      ┆ Y            │\n",
       " │ i32  ┆ i32   ┆ i32 ┆ i32         ┆   ┆ ---          ┆ ---          ┆ ---          ┆ ---          │\n",
       " │      ┆       ┆     ┆             ┆   ┆ i32          ┆ i32          ┆ i32          ┆ i32          │\n",
       " ╞══════╪═══════╪═════╪═════════════╪═══╪══════════════╪══════════════╪══════════════╪══════════════╡\n",
       " │ 2015 ┆ 3     ┆ 1   ┆ 7           ┆ … ┆ null         ┆ null         ┆ null         ┆ null         │\n",
       " │ 2015 ┆ 3     ┆ 1   ┆ 7           ┆ … ┆ null         ┆ null         ┆ null         ┆ null         │\n",
       " │ 2015 ┆ 3     ┆ 1   ┆ 7           ┆ … ┆ 0            ┆ 35           ┆ 0            ┆ 0            │\n",
       " │ 2015 ┆ 3     ┆ 1   ┆ 7           ┆ … ┆ null         ┆ null         ┆ null         ┆ null         │\n",
       " │ 2015 ┆ 3     ┆ 1   ┆ 7           ┆ … ┆ null         ┆ null         ┆ null         ┆ null         │\n",
       " │ …    ┆ …     ┆ …   ┆ …           ┆ … ┆ …            ┆ …            ┆ …            ┆ …            │\n",
       " │ 2015 ┆ 3     ┆ 18  ┆ 3           ┆ … ┆ 0            ┆ 27           ┆ 42           ┆ 0            │\n",
       " │ 2015 ┆ 3     ┆ 18  ┆ 3           ┆ … ┆ null         ┆ null         ┆ null         ┆ null         │\n",
       " │ 2015 ┆ 3     ┆ 18  ┆ 3           ┆ … ┆ null         ┆ null         ┆ null         ┆ null         │\n",
       " │ 2015 ┆ 3     ┆ 18  ┆ 3           ┆ … ┆ null         ┆ null         ┆ null         ┆ null         │\n",
       " │ 2015 ┆ 3     ┆ 18  ┆ 3           ┆ … ┆ 0            ┆ 29           ┆ 0            ┆ 0            │\n",
       " └──────┴───────┴─────┴─────────────┴───┴──────────────┴──────────────┴──────────────┴──────────────┘,\n",
       " 12: shape: (114_364, 30)\n",
       " ┌──────┬───────┬─────┬─────────────┬───┬──────────────┬──────────────┬──────────────┬──────────────┐\n",
       " │ YEAR ┆ MONTH ┆ DAY ┆ DAY_OF_WEEK ┆ … ┆ SECURITY_DEL ┆ AIRLINE_DELA ┆ LATE_AIRCRAF ┆ WEATHER_DELA │\n",
       " │ ---  ┆ ---   ┆ --- ┆ ---         ┆   ┆ AY           ┆ Y            ┆ T_DELAY      ┆ Y            │\n",
       " │ i32  ┆ i32   ┆ i32 ┆ i32         ┆   ┆ ---          ┆ ---          ┆ ---          ┆ ---          │\n",
       " │      ┆       ┆     ┆             ┆   ┆ i32          ┆ i32          ┆ i32          ┆ i32          │\n",
       " ╞══════╪═══════╪═════╪═════════════╪═══╪══════════════╪══════════════╪══════════════╪══════════════╡\n",
       " │ 2015 ┆ 12    ┆ 1   ┆ 2           ┆ … ┆ null         ┆ null         ┆ null         ┆ null         │\n",
       " │ 2015 ┆ 12    ┆ 1   ┆ 2           ┆ … ┆ null         ┆ null         ┆ null         ┆ null         │\n",
       " │ 2015 ┆ 12    ┆ 1   ┆ 2           ┆ … ┆ null         ┆ null         ┆ null         ┆ null         │\n",
       " │ 2015 ┆ 12    ┆ 1   ┆ 2           ┆ … ┆ null         ┆ null         ┆ null         ┆ null         │\n",
       " │ 2015 ┆ 12    ┆ 1   ┆ 2           ┆ … ┆ null         ┆ null         ┆ null         ┆ null         │\n",
       " │ …    ┆ …     ┆ …   ┆ …           ┆ … ┆ …            ┆ …            ┆ …            ┆ …            │\n",
       " │ 2015 ┆ 12    ┆ 31  ┆ 4           ┆ … ┆ null         ┆ null         ┆ null         ┆ null         │\n",
       " │ 2015 ┆ 12    ┆ 31  ┆ 4           ┆ … ┆ null         ┆ null         ┆ null         ┆ null         │\n",
       " │ 2015 ┆ 12    ┆ 31  ┆ 4           ┆ … ┆ null         ┆ null         ┆ null         ┆ null         │\n",
       " │ 2015 ┆ 12    ┆ 31  ┆ 4           ┆ … ┆ null         ┆ null         ┆ null         ┆ null         │\n",
       " │ 2015 ┆ 12    ┆ 31  ┆ 4           ┆ … ┆ null         ┆ null         ┆ null         ┆ null         │\n",
       " └──────┴───────┴─────┴─────────────┴───┴──────────────┴──────────────┴──────────────┴──────────────┘,\n",
       " 4: shape: (80_764, 30)\n",
       " ┌──────┬───────┬─────┬─────────────┬───┬──────────────┬──────────────┬──────────────┬──────────────┐\n",
       " │ YEAR ┆ MONTH ┆ DAY ┆ DAY_OF_WEEK ┆ … ┆ SECURITY_DEL ┆ AIRLINE_DELA ┆ LATE_AIRCRAF ┆ WEATHER_DELA │\n",
       " │ ---  ┆ ---   ┆ --- ┆ ---         ┆   ┆ AY           ┆ Y            ┆ T_DELAY      ┆ Y            │\n",
       " │ i32  ┆ i32   ┆ i32 ┆ i32         ┆   ┆ ---          ┆ ---          ┆ ---          ┆ ---          │\n",
       " │      ┆       ┆     ┆             ┆   ┆ i32          ┆ i32          ┆ i32          ┆ i32          │\n",
       " ╞══════╪═══════╪═════╪═════════════╪═══╪══════════════╪══════════════╪══════════════╪══════════════╡\n",
       " │ 2015 ┆ 4     ┆ 1   ┆ 3           ┆ … ┆ null         ┆ null         ┆ null         ┆ null         │\n",
       " │ 2015 ┆ 4     ┆ 1   ┆ 3           ┆ … ┆ null         ┆ null         ┆ null         ┆ null         │\n",
       " │ 2015 ┆ 4     ┆ 1   ┆ 3           ┆ … ┆ null         ┆ null         ┆ null         ┆ null         │\n",
       " │ 2015 ┆ 4     ┆ 1   ┆ 3           ┆ … ┆ null         ┆ null         ┆ null         ┆ null         │\n",
       " │ 2015 ┆ 4     ┆ 1   ┆ 3           ┆ … ┆ 0            ┆ 9            ┆ 42           ┆ 0            │\n",
       " │ …    ┆ …     ┆ …   ┆ …           ┆ … ┆ …            ┆ …            ┆ …            ┆ …            │\n",
       " │ 2015 ┆ 4     ┆ 30  ┆ 4           ┆ … ┆ 0            ┆ 15           ┆ 0            ┆ 0            │\n",
       " │ 2015 ┆ 4     ┆ 30  ┆ 4           ┆ … ┆ null         ┆ null         ┆ null         ┆ null         │\n",
       " │ 2015 ┆ 4     ┆ 30  ┆ 4           ┆ … ┆ null         ┆ null         ┆ null         ┆ null         │\n",
       " │ 2015 ┆ 4     ┆ 30  ┆ 4           ┆ … ┆ null         ┆ null         ┆ null         ┆ null         │\n",
       " │ 2015 ┆ 4     ┆ 30  ┆ 4           ┆ … ┆ 0            ┆ 15           ┆ 0            ┆ 0            │\n",
       " └──────┴───────┴─────┴─────────────┴───┴──────────────┴──────────────┴──────────────┴──────────────┘,\n",
       " 8: shape: (119_669, 30)\n",
       " ┌──────┬───────┬─────┬─────────────┬───┬──────────────┬──────────────┬──────────────┬──────────────┐\n",
       " │ YEAR ┆ MONTH ┆ DAY ┆ DAY_OF_WEEK ┆ … ┆ SECURITY_DEL ┆ AIRLINE_DELA ┆ LATE_AIRCRAF ┆ WEATHER_DELA │\n",
       " │ ---  ┆ ---   ┆ --- ┆ ---         ┆   ┆ AY           ┆ Y            ┆ T_DELAY      ┆ Y            │\n",
       " │ i32  ┆ i32   ┆ i32 ┆ i32         ┆   ┆ ---          ┆ ---          ┆ ---          ┆ ---          │\n",
       " │      ┆       ┆     ┆             ┆   ┆ i32          ┆ i32          ┆ i32          ┆ i32          │\n",
       " ╞══════╪═══════╪═════╪═════════════╪═══╪══════════════╪══════════════╪══════════════╪══════════════╡\n",
       " │ 2015 ┆ 8     ┆ 10  ┆ 1           ┆ … ┆ null         ┆ null         ┆ null         ┆ null         │\n",
       " │ 2015 ┆ 8     ┆ 10  ┆ 1           ┆ … ┆ null         ┆ null         ┆ null         ┆ null         │\n",
       " │ 2015 ┆ 8     ┆ 10  ┆ 1           ┆ … ┆ null         ┆ null         ┆ null         ┆ null         │\n",
       " │ 2015 ┆ 8     ┆ 10  ┆ 1           ┆ … ┆ null         ┆ null         ┆ null         ┆ null         │\n",
       " │ 2015 ┆ 8     ┆ 10  ┆ 1           ┆ … ┆ null         ┆ null         ┆ null         ┆ null         │\n",
       " │ …    ┆ …     ┆ …   ┆ …           ┆ … ┆ …            ┆ …            ┆ …            ┆ …            │\n",
       " │ 2015 ┆ 8     ┆ 31  ┆ 1           ┆ … ┆ null         ┆ null         ┆ null         ┆ null         │\n",
       " │ 2015 ┆ 8     ┆ 31  ┆ 1           ┆ … ┆ null         ┆ null         ┆ null         ┆ null         │\n",
       " │ 2015 ┆ 8     ┆ 31  ┆ 1           ┆ … ┆ null         ┆ null         ┆ null         ┆ null         │\n",
       " │ 2015 ┆ 8     ┆ 31  ┆ 1           ┆ … ┆ null         ┆ null         ┆ null         ┆ null         │\n",
       " │ 2015 ┆ 8     ┆ 31  ┆ 1           ┆ … ┆ null         ┆ null         ┆ null         ┆ null         │\n",
       " └──────┴───────┴─────┴─────────────┴───┴──────────────┴──────────────┴──────────────┴──────────────┘,\n",
       " 5: shape: (81_957, 30)\n",
       " ┌──────┬───────┬─────┬─────────────┬───┬──────────────┬──────────────┬──────────────┬──────────────┐\n",
       " │ YEAR ┆ MONTH ┆ DAY ┆ DAY_OF_WEEK ┆ … ┆ SECURITY_DEL ┆ AIRLINE_DELA ┆ LATE_AIRCRAF ┆ WEATHER_DELA │\n",
       " │ ---  ┆ ---   ┆ --- ┆ ---         ┆   ┆ AY           ┆ Y            ┆ T_DELAY      ┆ Y            │\n",
       " │ i32  ┆ i32   ┆ i32 ┆ i32         ┆   ┆ ---          ┆ ---          ┆ ---          ┆ ---          │\n",
       " │      ┆       ┆     ┆             ┆   ┆ i32          ┆ i32          ┆ i32          ┆ i32          │\n",
       " ╞══════╪═══════╪═════╪═════════════╪═══╪══════════════╪══════════════╪══════════════╪══════════════╡\n",
       " │ 2015 ┆ 5     ┆ 1   ┆ 5           ┆ … ┆ null         ┆ null         ┆ null         ┆ null         │\n",
       " │ 2015 ┆ 5     ┆ 1   ┆ 5           ┆ … ┆ null         ┆ null         ┆ null         ┆ null         │\n",
       " │ 2015 ┆ 5     ┆ 1   ┆ 5           ┆ … ┆ null         ┆ null         ┆ null         ┆ null         │\n",
       " │ 2015 ┆ 5     ┆ 1   ┆ 5           ┆ … ┆ null         ┆ null         ┆ null         ┆ null         │\n",
       " │ 2015 ┆ 5     ┆ 1   ┆ 5           ┆ … ┆ null         ┆ null         ┆ null         ┆ null         │\n",
       " │ …    ┆ …     ┆ …   ┆ …           ┆ … ┆ …            ┆ …            ┆ …            ┆ …            │\n",
       " │ 2015 ┆ 5     ┆ 31  ┆ 7           ┆ … ┆ 0            ┆ 0            ┆ 122          ┆ 0            │\n",
       " │ 2015 ┆ 5     ┆ 31  ┆ 7           ┆ … ┆ 0            ┆ 0            ┆ 54           ┆ 0            │\n",
       " │ 2015 ┆ 5     ┆ 31  ┆ 7           ┆ … ┆ 0            ┆ 2            ┆ 159          ┆ 0            │\n",
       " │ 2015 ┆ 5     ┆ 31  ┆ 7           ┆ … ┆ 0            ┆ 0            ┆ 69           ┆ 3            │\n",
       " │ 2015 ┆ 5     ┆ 31  ┆ 7           ┆ … ┆ 0            ┆ 0            ┆ 185          ┆ 0            │\n",
       " └──────┴───────┴─────┴─────────────┴───┴──────────────┴──────────────┴──────────────┴──────────────┘,\n",
       " 6: shape: (81_993, 30)\n",
       " ┌──────┬───────┬─────┬─────────────┬───┬──────────────┬──────────────┬──────────────┬──────────────┐\n",
       " │ YEAR ┆ MONTH ┆ DAY ┆ DAY_OF_WEEK ┆ … ┆ SECURITY_DEL ┆ AIRLINE_DELA ┆ LATE_AIRCRAF ┆ WEATHER_DELA │\n",
       " │ ---  ┆ ---   ┆ --- ┆ ---         ┆   ┆ AY           ┆ Y            ┆ T_DELAY      ┆ Y            │\n",
       " │ i32  ┆ i32   ┆ i32 ┆ i32         ┆   ┆ ---          ┆ ---          ┆ ---          ┆ ---          │\n",
       " │      ┆       ┆     ┆             ┆   ┆ i32          ┆ i32          ┆ i32          ┆ i32          │\n",
       " ╞══════╪═══════╪═════╪═════════════╪═══╪══════════════╪══════════════╪══════════════╪══════════════╡\n",
       " │ 2015 ┆ 6     ┆ 1   ┆ 1           ┆ … ┆ null         ┆ null         ┆ null         ┆ null         │\n",
       " │ 2015 ┆ 6     ┆ 1   ┆ 1           ┆ … ┆ 0            ┆ 211          ┆ 0            ┆ 0            │\n",
       " │ 2015 ┆ 6     ┆ 1   ┆ 1           ┆ … ┆ null         ┆ null         ┆ null         ┆ null         │\n",
       " │ 2015 ┆ 6     ┆ 1   ┆ 1           ┆ … ┆ 0            ┆ 16           ┆ 0            ┆ 0            │\n",
       " │ 2015 ┆ 6     ┆ 1   ┆ 1           ┆ … ┆ null         ┆ null         ┆ null         ┆ null         │\n",
       " │ …    ┆ …     ┆ …   ┆ …           ┆ … ┆ …            ┆ …            ┆ …            ┆ …            │\n",
       " │ 2015 ┆ 6     ┆ 30  ┆ 2           ┆ … ┆ 0            ┆ 17           ┆ 2            ┆ 0            │\n",
       " │ 2015 ┆ 6     ┆ 30  ┆ 2           ┆ … ┆ null         ┆ null         ┆ null         ┆ null         │\n",
       " │ 2015 ┆ 6     ┆ 30  ┆ 2           ┆ … ┆ 0            ┆ 0            ┆ 0            ┆ 0            │\n",
       " │ 2015 ┆ 6     ┆ 30  ┆ 2           ┆ … ┆ 0            ┆ 22           ┆ 33           ┆ 0            │\n",
       " │ 2015 ┆ 6     ┆ 30  ┆ 2           ┆ … ┆ 0            ┆ 14           ┆ 39           ┆ 0            │\n",
       " └──────┴───────┴─────┴─────────────┴───┴──────────────┴──────────────┴──────────────┴──────────────┘,\n",
       " 9: shape: (108_783, 30)\n",
       " ┌──────┬───────┬─────┬─────────────┬───┬──────────────┬──────────────┬──────────────┬──────────────┐\n",
       " │ YEAR ┆ MONTH ┆ DAY ┆ DAY_OF_WEEK ┆ … ┆ SECURITY_DEL ┆ AIRLINE_DELA ┆ LATE_AIRCRAF ┆ WEATHER_DELA │\n",
       " │ ---  ┆ ---   ┆ --- ┆ ---         ┆   ┆ AY           ┆ Y            ┆ T_DELAY      ┆ Y            │\n",
       " │ i32  ┆ i32   ┆ i32 ┆ i32         ┆   ┆ ---          ┆ ---          ┆ ---          ┆ ---          │\n",
       " │      ┆       ┆     ┆             ┆   ┆ i32          ┆ i32          ┆ i32          ┆ i32          │\n",
       " ╞══════╪═══════╪═════╪═════════════╪═══╪══════════════╪══════════════╪══════════════╪══════════════╡\n",
       " │ 2015 ┆ 9     ┆ 1   ┆ 2           ┆ … ┆ null         ┆ null         ┆ null         ┆ null         │\n",
       " │ 2015 ┆ 9     ┆ 1   ┆ 2           ┆ … ┆ null         ┆ null         ┆ null         ┆ null         │\n",
       " │ 2015 ┆ 9     ┆ 1   ┆ 2           ┆ … ┆ null         ┆ null         ┆ null         ┆ null         │\n",
       " │ 2015 ┆ 9     ┆ 1   ┆ 2           ┆ … ┆ 0            ┆ 0            ┆ 27           ┆ 0            │\n",
       " │ 2015 ┆ 9     ┆ 1   ┆ 2           ┆ … ┆ null         ┆ null         ┆ null         ┆ null         │\n",
       " │ …    ┆ …     ┆ …   ┆ …           ┆ … ┆ …            ┆ …            ┆ …            ┆ …            │\n",
       " │ 2015 ┆ 9     ┆ 30  ┆ 3           ┆ … ┆ null         ┆ null         ┆ null         ┆ null         │\n",
       " │ 2015 ┆ 9     ┆ 30  ┆ 3           ┆ … ┆ 0            ┆ 0            ┆ 26           ┆ 0            │\n",
       " │ 2015 ┆ 9     ┆ 30  ┆ 3           ┆ … ┆ null         ┆ null         ┆ null         ┆ null         │\n",
       " │ 2015 ┆ 9     ┆ 30  ┆ 3           ┆ … ┆ null         ┆ null         ┆ null         ┆ null         │\n",
       " │ 2015 ┆ 9     ┆ 30  ┆ 3           ┆ … ┆ null         ┆ null         ┆ null         ┆ null         │\n",
       " └──────┴───────┴─────┴─────────────┴───┴──────────────┴──────────────┴──────────────┴──────────────┘,\n",
       " 7: shape: (121_284, 30)\n",
       " ┌──────┬───────┬─────┬─────────────┬───┬──────────────┬──────────────┬──────────────┬──────────────┐\n",
       " │ YEAR ┆ MONTH ┆ DAY ┆ DAY_OF_WEEK ┆ … ┆ SECURITY_DEL ┆ AIRLINE_DELA ┆ LATE_AIRCRAF ┆ WEATHER_DELA │\n",
       " │ ---  ┆ ---   ┆ --- ┆ ---         ┆   ┆ AY           ┆ Y            ┆ T_DELAY      ┆ Y            │\n",
       " │ i32  ┆ i32   ┆ i32 ┆ i32         ┆   ┆ ---          ┆ ---          ┆ ---          ┆ ---          │\n",
       " │      ┆       ┆     ┆             ┆   ┆ i32          ┆ i32          ┆ i32          ┆ i32          │\n",
       " ╞══════╪═══════╪═════╪═════════════╪═══╪══════════════╪══════════════╪══════════════╪══════════════╡\n",
       " │ 2015 ┆ 7     ┆ 1   ┆ 3           ┆ … ┆ null         ┆ null         ┆ null         ┆ null         │\n",
       " │ 2015 ┆ 7     ┆ 1   ┆ 3           ┆ … ┆ 0            ┆ 0            ┆ 0            ┆ 0            │\n",
       " │ 2015 ┆ 7     ┆ 1   ┆ 3           ┆ … ┆ null         ┆ null         ┆ null         ┆ null         │\n",
       " │ 2015 ┆ 7     ┆ 1   ┆ 3           ┆ … ┆ 0            ┆ 20           ┆ 0            ┆ 0            │\n",
       " │ 2015 ┆ 7     ┆ 1   ┆ 3           ┆ … ┆ null         ┆ null         ┆ null         ┆ null         │\n",
       " │ …    ┆ …     ┆ …   ┆ …           ┆ … ┆ …            ┆ …            ┆ …            ┆ …            │\n",
       " │ 2015 ┆ 7     ┆ 31  ┆ 5           ┆ … ┆ null         ┆ null         ┆ null         ┆ null         │\n",
       " │ 2015 ┆ 7     ┆ 31  ┆ 5           ┆ … ┆ 0            ┆ 0            ┆ 26           ┆ 0            │\n",
       " │ 2015 ┆ 7     ┆ 31  ┆ 5           ┆ … ┆ 0            ┆ 22           ┆ 0            ┆ 0            │\n",
       " │ 2015 ┆ 7     ┆ 31  ┆ 5           ┆ … ┆ 0            ┆ 6            ┆ 12           ┆ 0            │\n",
       " │ 2015 ┆ 7     ┆ 31  ┆ 5           ┆ … ┆ 0            ┆ 132          ┆ 0            ┆ 0            │\n",
       " └──────┴───────┴─────┴─────────────┴───┴──────────────┴──────────────┴──────────────┴──────────────┘}"
      ]
     },
     "execution_count": 20,
     "metadata": {},
     "output_type": "execute_result"
    }
   ],
   "source": [
    "vuelos_por_mes_dict = vuelos.partition_by('MONTH', as_dict=True)\n",
    "\n",
    "vuelos_por_mes_dict"
   ]
  },
  {
   "cell_type": "code",
   "execution_count": 21,
   "id": "7d1f49df-b802-4d0f-8333-e46697c444cc",
   "metadata": {
    "tags": []
   },
   "outputs": [
    {
     "data": {
      "text/html": [
       "<div><style>\n",
       ".dataframe > thead > tr,\n",
       ".dataframe > tbody > tr {\n",
       "  text-align: right;\n",
       "  white-space: pre-wrap;\n",
       "}\n",
       "</style>\n",
       "<small>shape: (82_832, 30)</small><table border=\"1\" class=\"dataframe\"><thead><tr><th>YEAR</th><th>MONTH</th><th>DAY</th><th>DAY_OF_WEEK</th><th>FLIGHT_NUMBER</th><th>TAIL_NUMBER</th><th>ORIGIN_AIRPORT</th><th>DESTINATION_AIRPORT</th><th>SCHEDULED_DEPARTURE</th><th>DEPARTURE_TIME</th><th>DEPARTURE_DELAY</th><th>TAXI_OUT</th><th>WHEELS_OFF</th><th>SCHEDULED_TIME</th><th>ELAPSED_TIME</th><th>AIR_TIME</th><th>DISTANCE</th><th>WHEELS_ON</th><th>TAXI_IN</th><th>SCHEDULED_ARRIVAL</th><th>ARRIVAL_TIME</th><th>ARRIVAL_DELAY</th><th>DIVERTED</th><th>CANCELLED</th><th>CANCELLATION_REASON</th><th>AIR_SYSTEM_DELAY</th><th>SECURITY_DELAY</th><th>AIRLINE_DELAY</th><th>LATE_AIRCRAFT_DELAY</th><th>WEATHER_DELAY</th></tr><tr><td>i32</td><td>i32</td><td>i32</td><td>i32</td><td>i32</td><td>str</td><td>str</td><td>str</td><td>i32</td><td>i32</td><td>i32</td><td>i32</td><td>i32</td><td>i32</td><td>i32</td><td>i32</td><td>i32</td><td>i32</td><td>i32</td><td>i32</td><td>i32</td><td>i32</td><td>i32</td><td>i32</td><td>str</td><td>i32</td><td>i32</td><td>i32</td><td>i32</td><td>i32</td></tr></thead><tbody><tr><td>2015</td><td>3</td><td>1</td><td>7</td><td>2400</td><td>&quot;N5DEAA&quot;</td><td>&quot;LAX&quot;</td><td>&quot;DFW&quot;</td><td>5</td><td>null</td><td>null</td><td>null</td><td>null</td><td>168</td><td>null</td><td>null</td><td>1235</td><td>null</td><td>null</td><td>453</td><td>null</td><td>null</td><td>0</td><td>1</td><td>&quot;B&quot;</td><td>null</td><td>null</td><td>null</td><td>null</td><td>null</td></tr><tr><td>2015</td><td>3</td><td>1</td><td>7</td><td>258</td><td>&quot;N3HYAA&quot;</td><td>&quot;LAX&quot;</td><td>&quot;MIA&quot;</td><td>20</td><td>16</td><td>-4</td><td>19</td><td>35</td><td>284</td><td>274</td><td>250</td><td>2342</td><td>745</td><td>5</td><td>804</td><td>750</td><td>-14</td><td>0</td><td>0</td><td>null</td><td>null</td><td>null</td><td>null</td><td>null</td><td>null</td></tr><tr><td>2015</td><td>3</td><td>1</td><td>7</td><td>1234</td><td>&quot;N3FPAA&quot;</td><td>&quot;LAS&quot;</td><td>&quot;ORD&quot;</td><td>27</td><td>125</td><td>58</td><td>14</td><td>139</td><td>203</td><td>180</td><td>158</td><td>1514</td><td>617</td><td>8</td><td>550</td><td>625</td><td>35</td><td>0</td><td>0</td><td>null</td><td>0</td><td>0</td><td>35</td><td>0</td><td>0</td></tr><tr><td>2015</td><td>3</td><td>1</td><td>7</td><td>1112</td><td>&quot;N3KGAA&quot;</td><td>&quot;SFO&quot;</td><td>&quot;DFW&quot;</td><td>30</td><td>null</td><td>null</td><td>null</td><td>null</td><td>189</td><td>null</td><td>null</td><td>1464</td><td>null</td><td>null</td><td>539</td><td>null</td><td>null</td><td>0</td><td>1</td><td>&quot;B&quot;</td><td>null</td><td>null</td><td>null</td><td>null</td><td>null</td></tr><tr><td>2015</td><td>3</td><td>1</td><td>7</td><td>1674</td><td>&quot;N3GEAA&quot;</td><td>&quot;LAS&quot;</td><td>&quot;MIA&quot;</td><td>45</td><td>53</td><td>8</td><td>12</td><td>105</td><td>264</td><td>251</td><td>232</td><td>2174</td><td>757</td><td>7</td><td>809</td><td>804</td><td>-5</td><td>0</td><td>0</td><td>null</td><td>null</td><td>null</td><td>null</td><td>null</td><td>null</td></tr><tr><td>&hellip;</td><td>&hellip;</td><td>&hellip;</td><td>&hellip;</td><td>&hellip;</td><td>&hellip;</td><td>&hellip;</td><td>&hellip;</td><td>&hellip;</td><td>&hellip;</td><td>&hellip;</td><td>&hellip;</td><td>&hellip;</td><td>&hellip;</td><td>&hellip;</td><td>&hellip;</td><td>&hellip;</td><td>&hellip;</td><td>&hellip;</td><td>&hellip;</td><td>&hellip;</td><td>&hellip;</td><td>&hellip;</td><td>&hellip;</td><td>&hellip;</td><td>&hellip;</td><td>&hellip;</td><td>&hellip;</td><td>&hellip;</td><td>&hellip;</td></tr><tr><td>2015</td><td>3</td><td>18</td><td>3</td><td>361</td><td>&quot;N634JB&quot;</td><td>&quot;BOS&quot;</td><td>&quot;SJU&quot;</td><td>2354</td><td>112</td><td>78</td><td>18</td><td>130</td><td>230</td><td>221</td><td>200</td><td>1674</td><td>450</td><td>3</td><td>344</td><td>453</td><td>69</td><td>0</td><td>0</td><td>null</td><td>0</td><td>0</td><td>27</td><td>42</td><td>0</td></tr><tr><td>2015</td><td>3</td><td>18</td><td>3</td><td>98</td><td>&quot;N635JB&quot;</td><td>&quot;DEN&quot;</td><td>&quot;JFK&quot;</td><td>2359</td><td>2</td><td>3</td><td>17</td><td>19</td><td>213</td><td>196</td><td>174</td><td>1626</td><td>513</td><td>5</td><td>532</td><td>518</td><td>-14</td><td>0</td><td>0</td><td>null</td><td>null</td><td>null</td><td>null</td><td>null</td><td>null</td></tr><tr><td>2015</td><td>3</td><td>18</td><td>3</td><td>839</td><td>&quot;N588JB&quot;</td><td>&quot;JFK&quot;</td><td>&quot;BQN&quot;</td><td>2359</td><td>2357</td><td>-2</td><td>17</td><td>14</td><td>221</td><td>203</td><td>182</td><td>1576</td><td>316</td><td>4</td><td>340</td><td>320</td><td>-20</td><td>0</td><td>0</td><td>null</td><td>null</td><td>null</td><td>null</td><td>null</td><td>null</td></tr><tr><td>2015</td><td>3</td><td>18</td><td>3</td><td>745</td><td>&quot;N653JB&quot;</td><td>&quot;JFK&quot;</td><td>&quot;PSE&quot;</td><td>2359</td><td>2</td><td>3</td><td>22</td><td>24</td><td>230</td><td>213</td><td>187</td><td>1617</td><td>331</td><td>4</td><td>349</td><td>335</td><td>-14</td><td>0</td><td>0</td><td>null</td><td>null</td><td>null</td><td>null</td><td>null</td><td>null</td></tr><tr><td>2015</td><td>3</td><td>18</td><td>3</td><td>1503</td><td>&quot;N633JB&quot;</td><td>&quot;JFK&quot;</td><td>&quot;SJU&quot;</td><td>2359</td><td>45</td><td>46</td><td>17</td><td>102</td><td>222</td><td>205</td><td>183</td><td>1598</td><td>405</td><td>5</td><td>341</td><td>410</td><td>29</td><td>0</td><td>0</td><td>null</td><td>0</td><td>0</td><td>29</td><td>0</td><td>0</td></tr></tbody></table></div>"
      ],
      "text/plain": [
       "shape: (82_832, 30)\n",
       "┌──────┬───────┬─────┬─────────────┬───┬──────────────┬──────────────┬──────────────┬──────────────┐\n",
       "│ YEAR ┆ MONTH ┆ DAY ┆ DAY_OF_WEEK ┆ … ┆ SECURITY_DEL ┆ AIRLINE_DELA ┆ LATE_AIRCRAF ┆ WEATHER_DELA │\n",
       "│ ---  ┆ ---   ┆ --- ┆ ---         ┆   ┆ AY           ┆ Y            ┆ T_DELAY      ┆ Y            │\n",
       "│ i32  ┆ i32   ┆ i32 ┆ i32         ┆   ┆ ---          ┆ ---          ┆ ---          ┆ ---          │\n",
       "│      ┆       ┆     ┆             ┆   ┆ i32          ┆ i32          ┆ i32          ┆ i32          │\n",
       "╞══════╪═══════╪═════╪═════════════╪═══╪══════════════╪══════════════╪══════════════╪══════════════╡\n",
       "│ 2015 ┆ 3     ┆ 1   ┆ 7           ┆ … ┆ null         ┆ null         ┆ null         ┆ null         │\n",
       "│ 2015 ┆ 3     ┆ 1   ┆ 7           ┆ … ┆ null         ┆ null         ┆ null         ┆ null         │\n",
       "│ 2015 ┆ 3     ┆ 1   ┆ 7           ┆ … ┆ 0            ┆ 35           ┆ 0            ┆ 0            │\n",
       "│ 2015 ┆ 3     ┆ 1   ┆ 7           ┆ … ┆ null         ┆ null         ┆ null         ┆ null         │\n",
       "│ 2015 ┆ 3     ┆ 1   ┆ 7           ┆ … ┆ null         ┆ null         ┆ null         ┆ null         │\n",
       "│ …    ┆ …     ┆ …   ┆ …           ┆ … ┆ …            ┆ …            ┆ …            ┆ …            │\n",
       "│ 2015 ┆ 3     ┆ 18  ┆ 3           ┆ … ┆ 0            ┆ 27           ┆ 42           ┆ 0            │\n",
       "│ 2015 ┆ 3     ┆ 18  ┆ 3           ┆ … ┆ null         ┆ null         ┆ null         ┆ null         │\n",
       "│ 2015 ┆ 3     ┆ 18  ┆ 3           ┆ … ┆ null         ┆ null         ┆ null         ┆ null         │\n",
       "│ 2015 ┆ 3     ┆ 18  ┆ 3           ┆ … ┆ null         ┆ null         ┆ null         ┆ null         │\n",
       "│ 2015 ┆ 3     ┆ 18  ┆ 3           ┆ … ┆ 0            ┆ 29           ┆ 0            ┆ 0            │\n",
       "└──────┴───────┴─────┴─────────────┴───┴──────────────┴──────────────┴──────────────┴──────────────┘"
      ]
     },
     "execution_count": 21,
     "metadata": {},
     "output_type": "execute_result"
    }
   ],
   "source": [
    "vuelos_por_mes_dict.get(3)"
   ]
  },
  {
   "cell_type": "markdown",
   "id": "753948df-4d3e-4a16-8054-b005c4652b4f",
   "metadata": {},
   "source": [
    "## `rename`\n",
    "\n",
    "Esta función permite renombrar las columnas del DataFrame. "
   ]
  },
  {
   "cell_type": "code",
   "execution_count": 22,
   "id": "819cda59-5bf3-4c42-98a8-8b51d2fe1889",
   "metadata": {
    "tags": []
   },
   "outputs": [
    {
     "data": {
      "text/html": [
       "<div><style>\n",
       ".dataframe > thead > tr,\n",
       ".dataframe > tbody > tr {\n",
       "  text-align: right;\n",
       "  white-space: pre-wrap;\n",
       "}\n",
       "</style>\n",
       "<small>shape: (1_165_553, 30)</small><table border=\"1\" class=\"dataframe\"><thead><tr><th>YEAR</th><th>mes</th><th>dia</th><th>DAY_OF_WEEK</th><th>FLIGHT_NUMBER</th><th>TAIL_NUMBER</th><th>ORIGIN_AIRPORT</th><th>DESTINATION_AIRPORT</th><th>SCHEDULED_DEPARTURE</th><th>DEPARTURE_TIME</th><th>DEPARTURE_DELAY</th><th>TAXI_OUT</th><th>WHEELS_OFF</th><th>SCHEDULED_TIME</th><th>ELAPSED_TIME</th><th>AIR_TIME</th><th>DISTANCE</th><th>WHEELS_ON</th><th>TAXI_IN</th><th>SCHEDULED_ARRIVAL</th><th>ARRIVAL_TIME</th><th>ARRIVAL_DELAY</th><th>DIVERTED</th><th>CANCELLED</th><th>CANCELLATION_REASON</th><th>AIR_SYSTEM_DELAY</th><th>SECURITY_DELAY</th><th>AIRLINE_DELAY</th><th>LATE_AIRCRAFT_DELAY</th><th>WEATHER_DELAY</th></tr><tr><td>i32</td><td>i32</td><td>i32</td><td>i32</td><td>i32</td><td>str</td><td>str</td><td>str</td><td>i32</td><td>i32</td><td>i32</td><td>i32</td><td>i32</td><td>i32</td><td>i32</td><td>i32</td><td>i32</td><td>i32</td><td>i32</td><td>i32</td><td>i32</td><td>i32</td><td>i32</td><td>i32</td><td>str</td><td>i32</td><td>i32</td><td>i32</td><td>i32</td><td>i32</td></tr></thead><tbody><tr><td>2015</td><td>1</td><td>1</td><td>4</td><td>2336</td><td>&quot;N3KUAA&quot;</td><td>&quot;LAX&quot;</td><td>&quot;PBI&quot;</td><td>10</td><td>2</td><td>-8</td><td>12</td><td>14</td><td>280</td><td>279</td><td>263</td><td>2330</td><td>737</td><td>4</td><td>750</td><td>741</td><td>-9</td><td>0</td><td>0</td><td>null</td><td>null</td><td>null</td><td>null</td><td>null</td><td>null</td></tr><tr><td>2015</td><td>10</td><td>25</td><td>7</td><td>159</td><td>&quot;N3FLAA&quot;</td><td>&quot;11298&quot;</td><td>&quot;14771&quot;</td><td>815</td><td>810</td><td>-5</td><td>14</td><td>824</td><td>222</td><td>216</td><td>199</td><td>1464</td><td>943</td><td>3</td><td>957</td><td>946</td><td>-11</td><td>0</td><td>0</td><td>null</td><td>null</td><td>null</td><td>null</td><td>null</td><td>null</td></tr><tr><td>2015</td><td>1</td><td>1</td><td>4</td><td>258</td><td>&quot;N3HYAA&quot;</td><td>&quot;LAX&quot;</td><td>&quot;MIA&quot;</td><td>20</td><td>15</td><td>-5</td><td>15</td><td>30</td><td>285</td><td>281</td><td>258</td><td>2342</td><td>748</td><td>8</td><td>805</td><td>756</td><td>-9</td><td>0</td><td>0</td><td>null</td><td>null</td><td>null</td><td>null</td><td>null</td><td>null</td></tr><tr><td>2015</td><td>10</td><td>25</td><td>7</td><td>937</td><td>&quot;N3GPAA&quot;</td><td>&quot;12478&quot;</td><td>&quot;14843&quot;</td><td>815</td><td>808</td><td>-7</td><td>18</td><td>826</td><td>243</td><td>214</td><td>192</td><td>1598</td><td>1138</td><td>4</td><td>1218</td><td>1142</td><td>-36</td><td>0</td><td>0</td><td>null</td><td>null</td><td>null</td><td>null</td><td>null</td><td>null</td></tr><tr><td>2015</td><td>1</td><td>1</td><td>4</td><td>1112</td><td>&quot;N3LAAA&quot;</td><td>&quot;SFO&quot;</td><td>&quot;DFW&quot;</td><td>30</td><td>19</td><td>-11</td><td>17</td><td>36</td><td>195</td><td>193</td><td>173</td><td>1464</td><td>529</td><td>3</td><td>545</td><td>532</td><td>-13</td><td>0</td><td>0</td><td>null</td><td>null</td><td>null</td><td>null</td><td>null</td><td>null</td></tr><tr><td>&hellip;</td><td>&hellip;</td><td>&hellip;</td><td>&hellip;</td><td>&hellip;</td><td>&hellip;</td><td>&hellip;</td><td>&hellip;</td><td>&hellip;</td><td>&hellip;</td><td>&hellip;</td><td>&hellip;</td><td>&hellip;</td><td>&hellip;</td><td>&hellip;</td><td>&hellip;</td><td>&hellip;</td><td>&hellip;</td><td>&hellip;</td><td>&hellip;</td><td>&hellip;</td><td>&hellip;</td><td>&hellip;</td><td>&hellip;</td><td>&hellip;</td><td>&hellip;</td><td>&hellip;</td><td>&hellip;</td><td>&hellip;</td><td>&hellip;</td></tr><tr><td>2015</td><td>10</td><td>25</td><td>7</td><td>389</td><td>&quot;N236JB&quot;</td><td>&quot;10721&quot;</td><td>&quot;11278&quot;</td><td>800</td><td>757</td><td>-3</td><td>14</td><td>811</td><td>102</td><td>91</td><td>74</td><td>399</td><td>925</td><td>3</td><td>942</td><td>928</td><td>-14</td><td>0</td><td>0</td><td>null</td><td>null</td><td>null</td><td>null</td><td>null</td><td>null</td></tr><tr><td>2015</td><td>10</td><td>25</td><td>7</td><td>683</td><td>&quot;N952JB&quot;</td><td>&quot;12478&quot;</td><td>&quot;13204&quot;</td><td>803</td><td>759</td><td>-4</td><td>33</td><td>832</td><td>174</td><td>176</td><td>132</td><td>944</td><td>1044</td><td>11</td><td>1057</td><td>1055</td><td>-2</td><td>0</td><td>0</td><td>null</td><td>null</td><td>null</td><td>null</td><td>null</td><td>null</td></tr><tr><td>2015</td><td>10</td><td>25</td><td>7</td><td>453</td><td>&quot;N579JB&quot;</td><td>&quot;12478&quot;</td><td>&quot;14027&quot;</td><td>805</td><td>802</td><td>-3</td><td>32</td><td>834</td><td>174</td><td>170</td><td>134</td><td>1028</td><td>1048</td><td>4</td><td>1059</td><td>1052</td><td>-7</td><td>0</td><td>0</td><td>null</td><td>null</td><td>null</td><td>null</td><td>null</td><td>null</td></tr><tr><td>2015</td><td>10</td><td>25</td><td>7</td><td>151</td><td>&quot;N267JB&quot;</td><td>&quot;10721&quot;</td><td>&quot;13204&quot;</td><td>805</td><td>802</td><td>-3</td><td>15</td><td>817</td><td>198</td><td>179</td><td>155</td><td>1121</td><td>1052</td><td>9</td><td>1123</td><td>1101</td><td>-22</td><td>0</td><td>0</td><td>null</td><td>null</td><td>null</td><td>null</td><td>null</td><td>null</td></tr><tr><td>2015</td><td>10</td><td>25</td><td>7</td><td>459</td><td>&quot;N323JB&quot;</td><td>&quot;10721&quot;</td><td>&quot;14100&quot;</td><td>810</td><td>807</td><td>-3</td><td>17</td><td>824</td><td>94</td><td>83</td><td>61</td><td>280</td><td>925</td><td>5</td><td>944</td><td>930</td><td>-14</td><td>0</td><td>0</td><td>null</td><td>null</td><td>null</td><td>null</td><td>null</td><td>null</td></tr></tbody></table></div>"
      ],
      "text/plain": [
       "shape: (1_165_553, 30)\n",
       "┌──────┬─────┬─────┬─────────────┬───┬───────────────┬───────────────┬──────────────┬──────────────┐\n",
       "│ YEAR ┆ mes ┆ dia ┆ DAY_OF_WEEK ┆ … ┆ SECURITY_DELA ┆ AIRLINE_DELAY ┆ LATE_AIRCRAF ┆ WEATHER_DELA │\n",
       "│ ---  ┆ --- ┆ --- ┆ ---         ┆   ┆ Y             ┆ ---           ┆ T_DELAY      ┆ Y            │\n",
       "│ i32  ┆ i32 ┆ i32 ┆ i32         ┆   ┆ ---           ┆ i32           ┆ ---          ┆ ---          │\n",
       "│      ┆     ┆     ┆             ┆   ┆ i32           ┆               ┆ i32          ┆ i32          │\n",
       "╞══════╪═════╪═════╪═════════════╪═══╪═══════════════╪═══════════════╪══════════════╪══════════════╡\n",
       "│ 2015 ┆ 1   ┆ 1   ┆ 4           ┆ … ┆ null          ┆ null          ┆ null         ┆ null         │\n",
       "│ 2015 ┆ 10  ┆ 25  ┆ 7           ┆ … ┆ null          ┆ null          ┆ null         ┆ null         │\n",
       "│ 2015 ┆ 1   ┆ 1   ┆ 4           ┆ … ┆ null          ┆ null          ┆ null         ┆ null         │\n",
       "│ 2015 ┆ 10  ┆ 25  ┆ 7           ┆ … ┆ null          ┆ null          ┆ null         ┆ null         │\n",
       "│ 2015 ┆ 1   ┆ 1   ┆ 4           ┆ … ┆ null          ┆ null          ┆ null         ┆ null         │\n",
       "│ …    ┆ …   ┆ …   ┆ …           ┆ … ┆ …             ┆ …             ┆ …            ┆ …            │\n",
       "│ 2015 ┆ 10  ┆ 25  ┆ 7           ┆ … ┆ null          ┆ null          ┆ null         ┆ null         │\n",
       "│ 2015 ┆ 10  ┆ 25  ┆ 7           ┆ … ┆ null          ┆ null          ┆ null         ┆ null         │\n",
       "│ 2015 ┆ 10  ┆ 25  ┆ 7           ┆ … ┆ null          ┆ null          ┆ null         ┆ null         │\n",
       "│ 2015 ┆ 10  ┆ 25  ┆ 7           ┆ … ┆ null          ┆ null          ┆ null         ┆ null         │\n",
       "│ 2015 ┆ 10  ┆ 25  ┆ 7           ┆ … ┆ null          ┆ null          ┆ null         ┆ null         │\n",
       "└──────┴─────┴─────┴─────────────┴───┴───────────────┴───────────────┴──────────────┴──────────────┘"
      ]
     },
     "execution_count": 22,
     "metadata": {},
     "output_type": "execute_result"
    }
   ],
   "source": [
    "vuelos.rename({'MONTH': 'mes', 'DAY': 'dia'})"
   ]
  },
  {
   "cell_type": "markdown",
   "id": "02a2e42c-5b2a-4959-af3c-3eb35a6a0831",
   "metadata": {},
   "source": [
    "## `with_columns`\n",
    "\n",
    "Esta función permite agregar columnas al DataFrame. Si el nombre de la columna agregada coincide con un nombre de columna existente entonces se reemplazará la columna existente por la nueva columna."
   ]
  },
  {
   "cell_type": "code",
   "execution_count": 23,
   "id": "49dedba4-35b8-4505-96b2-96b3fe2218ea",
   "metadata": {
    "tags": []
   },
   "outputs": [
    {
     "data": {
      "text/html": [
       "<div><style>\n",
       ".dataframe > thead > tr,\n",
       ".dataframe > tbody > tr {\n",
       "  text-align: right;\n",
       "  white-space: pre-wrap;\n",
       "}\n",
       "</style>\n",
       "<small>shape: (1_165_553, 31)</small><table border=\"1\" class=\"dataframe\"><thead><tr><th>YEAR</th><th>MONTH</th><th>DAY</th><th>DAY_OF_WEEK</th><th>FLIGHT_NUMBER</th><th>TAIL_NUMBER</th><th>ORIGIN_AIRPORT</th><th>DESTINATION_AIRPORT</th><th>SCHEDULED_DEPARTURE</th><th>DEPARTURE_TIME</th><th>DEPARTURE_DELAY</th><th>TAXI_OUT</th><th>WHEELS_OFF</th><th>SCHEDULED_TIME</th><th>ELAPSED_TIME</th><th>AIR_TIME</th><th>DISTANCE</th><th>WHEELS_ON</th><th>TAXI_IN</th><th>SCHEDULED_ARRIVAL</th><th>ARRIVAL_TIME</th><th>ARRIVAL_DELAY</th><th>DIVERTED</th><th>CANCELLED</th><th>CANCELLATION_REASON</th><th>AIR_SYSTEM_DELAY</th><th>SECURITY_DELAY</th><th>AIRLINE_DELAY</th><th>LATE_AIRCRAFT_DELAY</th><th>WEATHER_DELAY</th><th>day_of_week_10</th></tr><tr><td>i32</td><td>i32</td><td>i32</td><td>i32</td><td>i32</td><td>str</td><td>str</td><td>str</td><td>i32</td><td>i32</td><td>i32</td><td>i32</td><td>i32</td><td>i32</td><td>i32</td><td>i32</td><td>i32</td><td>i32</td><td>i32</td><td>i32</td><td>i32</td><td>i32</td><td>i32</td><td>i32</td><td>str</td><td>i32</td><td>i32</td><td>i32</td><td>i32</td><td>i32</td><td>i32</td></tr></thead><tbody><tr><td>2015</td><td>1</td><td>1</td><td>4</td><td>2336</td><td>&quot;N3KUAA&quot;</td><td>&quot;LAX&quot;</td><td>&quot;PBI&quot;</td><td>10</td><td>2</td><td>-8</td><td>12</td><td>14</td><td>280</td><td>279</td><td>263</td><td>2330</td><td>737</td><td>4</td><td>750</td><td>741</td><td>-9</td><td>0</td><td>0</td><td>null</td><td>null</td><td>null</td><td>null</td><td>null</td><td>null</td><td>40</td></tr><tr><td>2015</td><td>10</td><td>25</td><td>7</td><td>159</td><td>&quot;N3FLAA&quot;</td><td>&quot;11298&quot;</td><td>&quot;14771&quot;</td><td>815</td><td>810</td><td>-5</td><td>14</td><td>824</td><td>222</td><td>216</td><td>199</td><td>1464</td><td>943</td><td>3</td><td>957</td><td>946</td><td>-11</td><td>0</td><td>0</td><td>null</td><td>null</td><td>null</td><td>null</td><td>null</td><td>null</td><td>70</td></tr><tr><td>2015</td><td>1</td><td>1</td><td>4</td><td>258</td><td>&quot;N3HYAA&quot;</td><td>&quot;LAX&quot;</td><td>&quot;MIA&quot;</td><td>20</td><td>15</td><td>-5</td><td>15</td><td>30</td><td>285</td><td>281</td><td>258</td><td>2342</td><td>748</td><td>8</td><td>805</td><td>756</td><td>-9</td><td>0</td><td>0</td><td>null</td><td>null</td><td>null</td><td>null</td><td>null</td><td>null</td><td>40</td></tr><tr><td>2015</td><td>10</td><td>25</td><td>7</td><td>937</td><td>&quot;N3GPAA&quot;</td><td>&quot;12478&quot;</td><td>&quot;14843&quot;</td><td>815</td><td>808</td><td>-7</td><td>18</td><td>826</td><td>243</td><td>214</td><td>192</td><td>1598</td><td>1138</td><td>4</td><td>1218</td><td>1142</td><td>-36</td><td>0</td><td>0</td><td>null</td><td>null</td><td>null</td><td>null</td><td>null</td><td>null</td><td>70</td></tr><tr><td>2015</td><td>1</td><td>1</td><td>4</td><td>1112</td><td>&quot;N3LAAA&quot;</td><td>&quot;SFO&quot;</td><td>&quot;DFW&quot;</td><td>30</td><td>19</td><td>-11</td><td>17</td><td>36</td><td>195</td><td>193</td><td>173</td><td>1464</td><td>529</td><td>3</td><td>545</td><td>532</td><td>-13</td><td>0</td><td>0</td><td>null</td><td>null</td><td>null</td><td>null</td><td>null</td><td>null</td><td>40</td></tr><tr><td>&hellip;</td><td>&hellip;</td><td>&hellip;</td><td>&hellip;</td><td>&hellip;</td><td>&hellip;</td><td>&hellip;</td><td>&hellip;</td><td>&hellip;</td><td>&hellip;</td><td>&hellip;</td><td>&hellip;</td><td>&hellip;</td><td>&hellip;</td><td>&hellip;</td><td>&hellip;</td><td>&hellip;</td><td>&hellip;</td><td>&hellip;</td><td>&hellip;</td><td>&hellip;</td><td>&hellip;</td><td>&hellip;</td><td>&hellip;</td><td>&hellip;</td><td>&hellip;</td><td>&hellip;</td><td>&hellip;</td><td>&hellip;</td><td>&hellip;</td><td>&hellip;</td></tr><tr><td>2015</td><td>10</td><td>25</td><td>7</td><td>389</td><td>&quot;N236JB&quot;</td><td>&quot;10721&quot;</td><td>&quot;11278&quot;</td><td>800</td><td>757</td><td>-3</td><td>14</td><td>811</td><td>102</td><td>91</td><td>74</td><td>399</td><td>925</td><td>3</td><td>942</td><td>928</td><td>-14</td><td>0</td><td>0</td><td>null</td><td>null</td><td>null</td><td>null</td><td>null</td><td>null</td><td>70</td></tr><tr><td>2015</td><td>10</td><td>25</td><td>7</td><td>683</td><td>&quot;N952JB&quot;</td><td>&quot;12478&quot;</td><td>&quot;13204&quot;</td><td>803</td><td>759</td><td>-4</td><td>33</td><td>832</td><td>174</td><td>176</td><td>132</td><td>944</td><td>1044</td><td>11</td><td>1057</td><td>1055</td><td>-2</td><td>0</td><td>0</td><td>null</td><td>null</td><td>null</td><td>null</td><td>null</td><td>null</td><td>70</td></tr><tr><td>2015</td><td>10</td><td>25</td><td>7</td><td>453</td><td>&quot;N579JB&quot;</td><td>&quot;12478&quot;</td><td>&quot;14027&quot;</td><td>805</td><td>802</td><td>-3</td><td>32</td><td>834</td><td>174</td><td>170</td><td>134</td><td>1028</td><td>1048</td><td>4</td><td>1059</td><td>1052</td><td>-7</td><td>0</td><td>0</td><td>null</td><td>null</td><td>null</td><td>null</td><td>null</td><td>null</td><td>70</td></tr><tr><td>2015</td><td>10</td><td>25</td><td>7</td><td>151</td><td>&quot;N267JB&quot;</td><td>&quot;10721&quot;</td><td>&quot;13204&quot;</td><td>805</td><td>802</td><td>-3</td><td>15</td><td>817</td><td>198</td><td>179</td><td>155</td><td>1121</td><td>1052</td><td>9</td><td>1123</td><td>1101</td><td>-22</td><td>0</td><td>0</td><td>null</td><td>null</td><td>null</td><td>null</td><td>null</td><td>null</td><td>70</td></tr><tr><td>2015</td><td>10</td><td>25</td><td>7</td><td>459</td><td>&quot;N323JB&quot;</td><td>&quot;10721&quot;</td><td>&quot;14100&quot;</td><td>810</td><td>807</td><td>-3</td><td>17</td><td>824</td><td>94</td><td>83</td><td>61</td><td>280</td><td>925</td><td>5</td><td>944</td><td>930</td><td>-14</td><td>0</td><td>0</td><td>null</td><td>null</td><td>null</td><td>null</td><td>null</td><td>null</td><td>70</td></tr></tbody></table></div>"
      ],
      "text/plain": [
       "shape: (1_165_553, 31)\n",
       "┌──────┬───────┬─────┬─────────────┬───┬──────────────┬──────────────┬──────────────┬──────────────┐\n",
       "│ YEAR ┆ MONTH ┆ DAY ┆ DAY_OF_WEEK ┆ … ┆ AIRLINE_DELA ┆ LATE_AIRCRAF ┆ WEATHER_DELA ┆ day_of_week_ │\n",
       "│ ---  ┆ ---   ┆ --- ┆ ---         ┆   ┆ Y            ┆ T_DELAY      ┆ Y            ┆ 10           │\n",
       "│ i32  ┆ i32   ┆ i32 ┆ i32         ┆   ┆ ---          ┆ ---          ┆ ---          ┆ ---          │\n",
       "│      ┆       ┆     ┆             ┆   ┆ i32          ┆ i32          ┆ i32          ┆ i32          │\n",
       "╞══════╪═══════╪═════╪═════════════╪═══╪══════════════╪══════════════╪══════════════╪══════════════╡\n",
       "│ 2015 ┆ 1     ┆ 1   ┆ 4           ┆ … ┆ null         ┆ null         ┆ null         ┆ 40           │\n",
       "│ 2015 ┆ 10    ┆ 25  ┆ 7           ┆ … ┆ null         ┆ null         ┆ null         ┆ 70           │\n",
       "│ 2015 ┆ 1     ┆ 1   ┆ 4           ┆ … ┆ null         ┆ null         ┆ null         ┆ 40           │\n",
       "│ 2015 ┆ 10    ┆ 25  ┆ 7           ┆ … ┆ null         ┆ null         ┆ null         ┆ 70           │\n",
       "│ 2015 ┆ 1     ┆ 1   ┆ 4           ┆ … ┆ null         ┆ null         ┆ null         ┆ 40           │\n",
       "│ …    ┆ …     ┆ …   ┆ …           ┆ … ┆ …            ┆ …            ┆ …            ┆ …            │\n",
       "│ 2015 ┆ 10    ┆ 25  ┆ 7           ┆ … ┆ null         ┆ null         ┆ null         ┆ 70           │\n",
       "│ 2015 ┆ 10    ┆ 25  ┆ 7           ┆ … ┆ null         ┆ null         ┆ null         ┆ 70           │\n",
       "│ 2015 ┆ 10    ┆ 25  ┆ 7           ┆ … ┆ null         ┆ null         ┆ null         ┆ 70           │\n",
       "│ 2015 ┆ 10    ┆ 25  ┆ 7           ┆ … ┆ null         ┆ null         ┆ null         ┆ 70           │\n",
       "│ 2015 ┆ 10    ┆ 25  ┆ 7           ┆ … ┆ null         ┆ null         ┆ null         ┆ 70           │\n",
       "└──────┴───────┴─────┴─────────────┴───┴──────────────┴──────────────┴──────────────┴──────────────┘"
      ]
     },
     "execution_count": 23,
     "metadata": {},
     "output_type": "execute_result"
    }
   ],
   "source": [
    "from polars import col\n",
    "\n",
    "vuelos.with_columns((col('DAY_OF_WEEK') * 10).alias('day_of_week_10'))"
   ]
  },
  {
   "cell_type": "markdown",
   "id": "2ea16dd7-ee04-4376-9c44-890f7b81566c",
   "metadata": {},
   "source": [
    "Si no especificamos el nuevo nombre de columna se sobreescribirá la columna existente en el DataFrame."
   ]
  },
  {
   "cell_type": "code",
   "execution_count": 24,
   "id": "b8d551ca-8d4f-4544-a35b-510881f5a785",
   "metadata": {
    "tags": []
   },
   "outputs": [
    {
     "data": {
      "text/html": [
       "<div><style>\n",
       ".dataframe > thead > tr,\n",
       ".dataframe > tbody > tr {\n",
       "  text-align: right;\n",
       "  white-space: pre-wrap;\n",
       "}\n",
       "</style>\n",
       "<small>shape: (1_165_553, 30)</small><table border=\"1\" class=\"dataframe\"><thead><tr><th>YEAR</th><th>MONTH</th><th>DAY</th><th>DAY_OF_WEEK</th><th>FLIGHT_NUMBER</th><th>TAIL_NUMBER</th><th>ORIGIN_AIRPORT</th><th>DESTINATION_AIRPORT</th><th>SCHEDULED_DEPARTURE</th><th>DEPARTURE_TIME</th><th>DEPARTURE_DELAY</th><th>TAXI_OUT</th><th>WHEELS_OFF</th><th>SCHEDULED_TIME</th><th>ELAPSED_TIME</th><th>AIR_TIME</th><th>DISTANCE</th><th>WHEELS_ON</th><th>TAXI_IN</th><th>SCHEDULED_ARRIVAL</th><th>ARRIVAL_TIME</th><th>ARRIVAL_DELAY</th><th>DIVERTED</th><th>CANCELLED</th><th>CANCELLATION_REASON</th><th>AIR_SYSTEM_DELAY</th><th>SECURITY_DELAY</th><th>AIRLINE_DELAY</th><th>LATE_AIRCRAFT_DELAY</th><th>WEATHER_DELAY</th></tr><tr><td>i32</td><td>i32</td><td>i32</td><td>i32</td><td>i32</td><td>str</td><td>str</td><td>str</td><td>i32</td><td>i32</td><td>i32</td><td>i32</td><td>i32</td><td>i32</td><td>i32</td><td>i32</td><td>i32</td><td>i32</td><td>i32</td><td>i32</td><td>i32</td><td>i32</td><td>i32</td><td>i32</td><td>str</td><td>i32</td><td>i32</td><td>i32</td><td>i32</td><td>i32</td></tr></thead><tbody><tr><td>2015</td><td>1</td><td>1</td><td>40</td><td>2336</td><td>&quot;N3KUAA&quot;</td><td>&quot;LAX&quot;</td><td>&quot;PBI&quot;</td><td>10</td><td>2</td><td>-8</td><td>12</td><td>14</td><td>280</td><td>279</td><td>263</td><td>2330</td><td>737</td><td>4</td><td>750</td><td>741</td><td>-9</td><td>0</td><td>0</td><td>null</td><td>null</td><td>null</td><td>null</td><td>null</td><td>null</td></tr><tr><td>2015</td><td>10</td><td>25</td><td>70</td><td>159</td><td>&quot;N3FLAA&quot;</td><td>&quot;11298&quot;</td><td>&quot;14771&quot;</td><td>815</td><td>810</td><td>-5</td><td>14</td><td>824</td><td>222</td><td>216</td><td>199</td><td>1464</td><td>943</td><td>3</td><td>957</td><td>946</td><td>-11</td><td>0</td><td>0</td><td>null</td><td>null</td><td>null</td><td>null</td><td>null</td><td>null</td></tr><tr><td>2015</td><td>1</td><td>1</td><td>40</td><td>258</td><td>&quot;N3HYAA&quot;</td><td>&quot;LAX&quot;</td><td>&quot;MIA&quot;</td><td>20</td><td>15</td><td>-5</td><td>15</td><td>30</td><td>285</td><td>281</td><td>258</td><td>2342</td><td>748</td><td>8</td><td>805</td><td>756</td><td>-9</td><td>0</td><td>0</td><td>null</td><td>null</td><td>null</td><td>null</td><td>null</td><td>null</td></tr><tr><td>2015</td><td>10</td><td>25</td><td>70</td><td>937</td><td>&quot;N3GPAA&quot;</td><td>&quot;12478&quot;</td><td>&quot;14843&quot;</td><td>815</td><td>808</td><td>-7</td><td>18</td><td>826</td><td>243</td><td>214</td><td>192</td><td>1598</td><td>1138</td><td>4</td><td>1218</td><td>1142</td><td>-36</td><td>0</td><td>0</td><td>null</td><td>null</td><td>null</td><td>null</td><td>null</td><td>null</td></tr><tr><td>2015</td><td>1</td><td>1</td><td>40</td><td>1112</td><td>&quot;N3LAAA&quot;</td><td>&quot;SFO&quot;</td><td>&quot;DFW&quot;</td><td>30</td><td>19</td><td>-11</td><td>17</td><td>36</td><td>195</td><td>193</td><td>173</td><td>1464</td><td>529</td><td>3</td><td>545</td><td>532</td><td>-13</td><td>0</td><td>0</td><td>null</td><td>null</td><td>null</td><td>null</td><td>null</td><td>null</td></tr><tr><td>&hellip;</td><td>&hellip;</td><td>&hellip;</td><td>&hellip;</td><td>&hellip;</td><td>&hellip;</td><td>&hellip;</td><td>&hellip;</td><td>&hellip;</td><td>&hellip;</td><td>&hellip;</td><td>&hellip;</td><td>&hellip;</td><td>&hellip;</td><td>&hellip;</td><td>&hellip;</td><td>&hellip;</td><td>&hellip;</td><td>&hellip;</td><td>&hellip;</td><td>&hellip;</td><td>&hellip;</td><td>&hellip;</td><td>&hellip;</td><td>&hellip;</td><td>&hellip;</td><td>&hellip;</td><td>&hellip;</td><td>&hellip;</td><td>&hellip;</td></tr><tr><td>2015</td><td>10</td><td>25</td><td>70</td><td>389</td><td>&quot;N236JB&quot;</td><td>&quot;10721&quot;</td><td>&quot;11278&quot;</td><td>800</td><td>757</td><td>-3</td><td>14</td><td>811</td><td>102</td><td>91</td><td>74</td><td>399</td><td>925</td><td>3</td><td>942</td><td>928</td><td>-14</td><td>0</td><td>0</td><td>null</td><td>null</td><td>null</td><td>null</td><td>null</td><td>null</td></tr><tr><td>2015</td><td>10</td><td>25</td><td>70</td><td>683</td><td>&quot;N952JB&quot;</td><td>&quot;12478&quot;</td><td>&quot;13204&quot;</td><td>803</td><td>759</td><td>-4</td><td>33</td><td>832</td><td>174</td><td>176</td><td>132</td><td>944</td><td>1044</td><td>11</td><td>1057</td><td>1055</td><td>-2</td><td>0</td><td>0</td><td>null</td><td>null</td><td>null</td><td>null</td><td>null</td><td>null</td></tr><tr><td>2015</td><td>10</td><td>25</td><td>70</td><td>453</td><td>&quot;N579JB&quot;</td><td>&quot;12478&quot;</td><td>&quot;14027&quot;</td><td>805</td><td>802</td><td>-3</td><td>32</td><td>834</td><td>174</td><td>170</td><td>134</td><td>1028</td><td>1048</td><td>4</td><td>1059</td><td>1052</td><td>-7</td><td>0</td><td>0</td><td>null</td><td>null</td><td>null</td><td>null</td><td>null</td><td>null</td></tr><tr><td>2015</td><td>10</td><td>25</td><td>70</td><td>151</td><td>&quot;N267JB&quot;</td><td>&quot;10721&quot;</td><td>&quot;13204&quot;</td><td>805</td><td>802</td><td>-3</td><td>15</td><td>817</td><td>198</td><td>179</td><td>155</td><td>1121</td><td>1052</td><td>9</td><td>1123</td><td>1101</td><td>-22</td><td>0</td><td>0</td><td>null</td><td>null</td><td>null</td><td>null</td><td>null</td><td>null</td></tr><tr><td>2015</td><td>10</td><td>25</td><td>70</td><td>459</td><td>&quot;N323JB&quot;</td><td>&quot;10721&quot;</td><td>&quot;14100&quot;</td><td>810</td><td>807</td><td>-3</td><td>17</td><td>824</td><td>94</td><td>83</td><td>61</td><td>280</td><td>925</td><td>5</td><td>944</td><td>930</td><td>-14</td><td>0</td><td>0</td><td>null</td><td>null</td><td>null</td><td>null</td><td>null</td><td>null</td></tr></tbody></table></div>"
      ],
      "text/plain": [
       "shape: (1_165_553, 30)\n",
       "┌──────┬───────┬─────┬─────────────┬───┬──────────────┬──────────────┬──────────────┬──────────────┐\n",
       "│ YEAR ┆ MONTH ┆ DAY ┆ DAY_OF_WEEK ┆ … ┆ SECURITY_DEL ┆ AIRLINE_DELA ┆ LATE_AIRCRAF ┆ WEATHER_DELA │\n",
       "│ ---  ┆ ---   ┆ --- ┆ ---         ┆   ┆ AY           ┆ Y            ┆ T_DELAY      ┆ Y            │\n",
       "│ i32  ┆ i32   ┆ i32 ┆ i32         ┆   ┆ ---          ┆ ---          ┆ ---          ┆ ---          │\n",
       "│      ┆       ┆     ┆             ┆   ┆ i32          ┆ i32          ┆ i32          ┆ i32          │\n",
       "╞══════╪═══════╪═════╪═════════════╪═══╪══════════════╪══════════════╪══════════════╪══════════════╡\n",
       "│ 2015 ┆ 1     ┆ 1   ┆ 40          ┆ … ┆ null         ┆ null         ┆ null         ┆ null         │\n",
       "│ 2015 ┆ 10    ┆ 25  ┆ 70          ┆ … ┆ null         ┆ null         ┆ null         ┆ null         │\n",
       "│ 2015 ┆ 1     ┆ 1   ┆ 40          ┆ … ┆ null         ┆ null         ┆ null         ┆ null         │\n",
       "│ 2015 ┆ 10    ┆ 25  ┆ 70          ┆ … ┆ null         ┆ null         ┆ null         ┆ null         │\n",
       "│ 2015 ┆ 1     ┆ 1   ┆ 40          ┆ … ┆ null         ┆ null         ┆ null         ┆ null         │\n",
       "│ …    ┆ …     ┆ …   ┆ …           ┆ … ┆ …            ┆ …            ┆ …            ┆ …            │\n",
       "│ 2015 ┆ 10    ┆ 25  ┆ 70          ┆ … ┆ null         ┆ null         ┆ null         ┆ null         │\n",
       "│ 2015 ┆ 10    ┆ 25  ┆ 70          ┆ … ┆ null         ┆ null         ┆ null         ┆ null         │\n",
       "│ 2015 ┆ 10    ┆ 25  ┆ 70          ┆ … ┆ null         ┆ null         ┆ null         ┆ null         │\n",
       "│ 2015 ┆ 10    ┆ 25  ┆ 70          ┆ … ┆ null         ┆ null         ┆ null         ┆ null         │\n",
       "│ 2015 ┆ 10    ┆ 25  ┆ 70          ┆ … ┆ null         ┆ null         ┆ null         ┆ null         │\n",
       "└──────┴───────┴─────┴─────────────┴───┴──────────────┴──────────────┴──────────────┴──────────────┘"
      ]
     },
     "execution_count": 24,
     "metadata": {},
     "output_type": "execute_result"
    }
   ],
   "source": [
    "vuelos.with_columns((col('DAY_OF_WEEK') * 10))"
   ]
  },
  {
   "cell_type": "markdown",
   "id": "ef9eab27-ca0f-4d18-9ee6-65b54fd12059",
   "metadata": {},
   "source": [
    "También podemos agregar varias columnas en una sola ejecución. Para ello debemos proporcionar las nuevas columnas en una lista como se muestra a continuación."
   ]
  },
  {
   "cell_type": "code",
   "execution_count": 25,
   "id": "3dde1b1d-ae55-4be7-8bae-3049d792bb48",
   "metadata": {
    "tags": []
   },
   "outputs": [
    {
     "data": {
      "text/html": [
       "<div><style>\n",
       ".dataframe > thead > tr,\n",
       ".dataframe > tbody > tr {\n",
       "  text-align: right;\n",
       "  white-space: pre-wrap;\n",
       "}\n",
       "</style>\n",
       "<small>shape: (1_165_553, 32)</small><table border=\"1\" class=\"dataframe\"><thead><tr><th>YEAR</th><th>MONTH</th><th>DAY</th><th>DAY_OF_WEEK</th><th>FLIGHT_NUMBER</th><th>TAIL_NUMBER</th><th>ORIGIN_AIRPORT</th><th>DESTINATION_AIRPORT</th><th>SCHEDULED_DEPARTURE</th><th>DEPARTURE_TIME</th><th>DEPARTURE_DELAY</th><th>TAXI_OUT</th><th>WHEELS_OFF</th><th>SCHEDULED_TIME</th><th>ELAPSED_TIME</th><th>AIR_TIME</th><th>DISTANCE</th><th>WHEELS_ON</th><th>TAXI_IN</th><th>SCHEDULED_ARRIVAL</th><th>ARRIVAL_TIME</th><th>ARRIVAL_DELAY</th><th>DIVERTED</th><th>CANCELLED</th><th>CANCELLATION_REASON</th><th>AIR_SYSTEM_DELAY</th><th>SECURITY_DELAY</th><th>AIRLINE_DELAY</th><th>LATE_AIRCRAFT_DELAY</th><th>WEATHER_DELAY</th><th>year_plus_1</th><th>air_time_hrs</th></tr><tr><td>i32</td><td>i32</td><td>i32</td><td>i32</td><td>i32</td><td>str</td><td>str</td><td>str</td><td>i32</td><td>i32</td><td>i32</td><td>i32</td><td>i32</td><td>i32</td><td>i32</td><td>i32</td><td>i32</td><td>i32</td><td>i32</td><td>i32</td><td>i32</td><td>i32</td><td>i32</td><td>i32</td><td>str</td><td>i32</td><td>i32</td><td>i32</td><td>i32</td><td>i32</td><td>i32</td><td>f64</td></tr></thead><tbody><tr><td>2015</td><td>1</td><td>1</td><td>4</td><td>2336</td><td>&quot;JOKUAA&quot;</td><td>&quot;LAX&quot;</td><td>&quot;PBI&quot;</td><td>10</td><td>2</td><td>-8</td><td>12</td><td>14</td><td>280</td><td>279</td><td>263</td><td>2330</td><td>737</td><td>4</td><td>750</td><td>741</td><td>-9</td><td>0</td><td>0</td><td>null</td><td>null</td><td>null</td><td>null</td><td>null</td><td>null</td><td>2016</td><td>4.383333</td></tr><tr><td>2015</td><td>10</td><td>25</td><td>7</td><td>159</td><td>&quot;JOFLAA&quot;</td><td>&quot;11298&quot;</td><td>&quot;14771&quot;</td><td>815</td><td>810</td><td>-5</td><td>14</td><td>824</td><td>222</td><td>216</td><td>199</td><td>1464</td><td>943</td><td>3</td><td>957</td><td>946</td><td>-11</td><td>0</td><td>0</td><td>null</td><td>null</td><td>null</td><td>null</td><td>null</td><td>null</td><td>2016</td><td>3.316667</td></tr><tr><td>2015</td><td>1</td><td>1</td><td>4</td><td>258</td><td>&quot;JOHYAA&quot;</td><td>&quot;LAX&quot;</td><td>&quot;MIA&quot;</td><td>20</td><td>15</td><td>-5</td><td>15</td><td>30</td><td>285</td><td>281</td><td>258</td><td>2342</td><td>748</td><td>8</td><td>805</td><td>756</td><td>-9</td><td>0</td><td>0</td><td>null</td><td>null</td><td>null</td><td>null</td><td>null</td><td>null</td><td>2016</td><td>4.3</td></tr><tr><td>2015</td><td>10</td><td>25</td><td>7</td><td>937</td><td>&quot;JOGPAA&quot;</td><td>&quot;12478&quot;</td><td>&quot;14843&quot;</td><td>815</td><td>808</td><td>-7</td><td>18</td><td>826</td><td>243</td><td>214</td><td>192</td><td>1598</td><td>1138</td><td>4</td><td>1218</td><td>1142</td><td>-36</td><td>0</td><td>0</td><td>null</td><td>null</td><td>null</td><td>null</td><td>null</td><td>null</td><td>2016</td><td>3.2</td></tr><tr><td>2015</td><td>1</td><td>1</td><td>4</td><td>1112</td><td>&quot;JOLAAA&quot;</td><td>&quot;SFO&quot;</td><td>&quot;DFW&quot;</td><td>30</td><td>19</td><td>-11</td><td>17</td><td>36</td><td>195</td><td>193</td><td>173</td><td>1464</td><td>529</td><td>3</td><td>545</td><td>532</td><td>-13</td><td>0</td><td>0</td><td>null</td><td>null</td><td>null</td><td>null</td><td>null</td><td>null</td><td>2016</td><td>2.883333</td></tr><tr><td>&hellip;</td><td>&hellip;</td><td>&hellip;</td><td>&hellip;</td><td>&hellip;</td><td>&hellip;</td><td>&hellip;</td><td>&hellip;</td><td>&hellip;</td><td>&hellip;</td><td>&hellip;</td><td>&hellip;</td><td>&hellip;</td><td>&hellip;</td><td>&hellip;</td><td>&hellip;</td><td>&hellip;</td><td>&hellip;</td><td>&hellip;</td><td>&hellip;</td><td>&hellip;</td><td>&hellip;</td><td>&hellip;</td><td>&hellip;</td><td>&hellip;</td><td>&hellip;</td><td>&hellip;</td><td>&hellip;</td><td>&hellip;</td><td>&hellip;</td><td>&hellip;</td><td>&hellip;</td></tr><tr><td>2015</td><td>10</td><td>25</td><td>7</td><td>389</td><td>&quot;N236JB&quot;</td><td>&quot;10721&quot;</td><td>&quot;11278&quot;</td><td>800</td><td>757</td><td>-3</td><td>14</td><td>811</td><td>102</td><td>91</td><td>74</td><td>399</td><td>925</td><td>3</td><td>942</td><td>928</td><td>-14</td><td>0</td><td>0</td><td>null</td><td>null</td><td>null</td><td>null</td><td>null</td><td>null</td><td>2016</td><td>1.233333</td></tr><tr><td>2015</td><td>10</td><td>25</td><td>7</td><td>683</td><td>&quot;N952JB&quot;</td><td>&quot;12478&quot;</td><td>&quot;13204&quot;</td><td>803</td><td>759</td><td>-4</td><td>33</td><td>832</td><td>174</td><td>176</td><td>132</td><td>944</td><td>1044</td><td>11</td><td>1057</td><td>1055</td><td>-2</td><td>0</td><td>0</td><td>null</td><td>null</td><td>null</td><td>null</td><td>null</td><td>null</td><td>2016</td><td>2.2</td></tr><tr><td>2015</td><td>10</td><td>25</td><td>7</td><td>453</td><td>&quot;N579JB&quot;</td><td>&quot;12478&quot;</td><td>&quot;14027&quot;</td><td>805</td><td>802</td><td>-3</td><td>32</td><td>834</td><td>174</td><td>170</td><td>134</td><td>1028</td><td>1048</td><td>4</td><td>1059</td><td>1052</td><td>-7</td><td>0</td><td>0</td><td>null</td><td>null</td><td>null</td><td>null</td><td>null</td><td>null</td><td>2016</td><td>2.233333</td></tr><tr><td>2015</td><td>10</td><td>25</td><td>7</td><td>151</td><td>&quot;N267JB&quot;</td><td>&quot;10721&quot;</td><td>&quot;13204&quot;</td><td>805</td><td>802</td><td>-3</td><td>15</td><td>817</td><td>198</td><td>179</td><td>155</td><td>1121</td><td>1052</td><td>9</td><td>1123</td><td>1101</td><td>-22</td><td>0</td><td>0</td><td>null</td><td>null</td><td>null</td><td>null</td><td>null</td><td>null</td><td>2016</td><td>2.583333</td></tr><tr><td>2015</td><td>10</td><td>25</td><td>7</td><td>459</td><td>&quot;JO23JB&quot;</td><td>&quot;10721&quot;</td><td>&quot;14100&quot;</td><td>810</td><td>807</td><td>-3</td><td>17</td><td>824</td><td>94</td><td>83</td><td>61</td><td>280</td><td>925</td><td>5</td><td>944</td><td>930</td><td>-14</td><td>0</td><td>0</td><td>null</td><td>null</td><td>null</td><td>null</td><td>null</td><td>null</td><td>2016</td><td>1.016667</td></tr></tbody></table></div>"
      ],
      "text/plain": [
       "shape: (1_165_553, 32)\n",
       "┌──────┬───────┬─────┬─────────────┬───┬───────────────┬──────────────┬─────────────┬──────────────┐\n",
       "│ YEAR ┆ MONTH ┆ DAY ┆ DAY_OF_WEEK ┆ … ┆ LATE_AIRCRAFT ┆ WEATHER_DELA ┆ year_plus_1 ┆ air_time_hrs │\n",
       "│ ---  ┆ ---   ┆ --- ┆ ---         ┆   ┆ _DELAY        ┆ Y            ┆ ---         ┆ ---          │\n",
       "│ i32  ┆ i32   ┆ i32 ┆ i32         ┆   ┆ ---           ┆ ---          ┆ i32         ┆ f64          │\n",
       "│      ┆       ┆     ┆             ┆   ┆ i32           ┆ i32          ┆             ┆              │\n",
       "╞══════╪═══════╪═════╪═════════════╪═══╪═══════════════╪══════════════╪═════════════╪══════════════╡\n",
       "│ 2015 ┆ 1     ┆ 1   ┆ 4           ┆ … ┆ null          ┆ null         ┆ 2016        ┆ 4.383333     │\n",
       "│ 2015 ┆ 10    ┆ 25  ┆ 7           ┆ … ┆ null          ┆ null         ┆ 2016        ┆ 3.316667     │\n",
       "│ 2015 ┆ 1     ┆ 1   ┆ 4           ┆ … ┆ null          ┆ null         ┆ 2016        ┆ 4.3          │\n",
       "│ 2015 ┆ 10    ┆ 25  ┆ 7           ┆ … ┆ null          ┆ null         ┆ 2016        ┆ 3.2          │\n",
       "│ 2015 ┆ 1     ┆ 1   ┆ 4           ┆ … ┆ null          ┆ null         ┆ 2016        ┆ 2.883333     │\n",
       "│ …    ┆ …     ┆ …   ┆ …           ┆ … ┆ …             ┆ …            ┆ …           ┆ …            │\n",
       "│ 2015 ┆ 10    ┆ 25  ┆ 7           ┆ … ┆ null          ┆ null         ┆ 2016        ┆ 1.233333     │\n",
       "│ 2015 ┆ 10    ┆ 25  ┆ 7           ┆ … ┆ null          ┆ null         ┆ 2016        ┆ 2.2          │\n",
       "│ 2015 ┆ 10    ┆ 25  ┆ 7           ┆ … ┆ null          ┆ null         ┆ 2016        ┆ 2.233333     │\n",
       "│ 2015 ┆ 10    ┆ 25  ┆ 7           ┆ … ┆ null          ┆ null         ┆ 2016        ┆ 2.583333     │\n",
       "│ 2015 ┆ 10    ┆ 25  ┆ 7           ┆ … ┆ null          ┆ null         ┆ 2016        ┆ 1.016667     │\n",
       "└──────┴───────┴─────┴─────────────┴───┴───────────────┴──────────────┴─────────────┴──────────────┘"
      ]
     },
     "execution_count": 25,
     "metadata": {},
     "output_type": "execute_result"
    }
   ],
   "source": [
    "vuelos.with_columns(\n",
    "    [\n",
    "        (col('YEAR') + 1).alias('year_plus_1'),\n",
    "        (col('AIR_TIME') / 60).alias('air_time_hrs'),\n",
    "        col('TAIL_NUMBER').str.replace('N3','JO')\n",
    "    ]\n",
    ")"
   ]
  },
  {
   "cell_type": "markdown",
   "id": "78379428-738a-4129-a1f5-6a4c5fe98f63",
   "metadata": {},
   "source": [
    "## `unique`\n",
    "\n",
    "Esta función elimina las filas duplicadas del DataFrame. Si no se le proporciona ningún parámetro usará todas las columnas para identificar las filas duplicadas y eliminarlas. En caso de que se desee indicar por cual columna(s) se debe aplicar el borrado se deberán proporcionar el parámetro `subset=[col1, col2, ..., colN]`.\n",
    "\n",
    "Para mostrar su funcionamiento creemos un nuevo DataFrame."
   ]
  },
  {
   "cell_type": "code",
   "execution_count": 26,
   "id": "5bb8e135-3875-4367-bc01-b71629c3c936",
   "metadata": {
    "tags": []
   },
   "outputs": [],
   "source": [
    "df = pl.DataFrame(\n",
    "    {\n",
    "        'id': [1,2,3,1],\n",
    "        'col_a': ['a', 'a', 'a', 'a'],\n",
    "        'col_b': ['b', 'b', 'b', 'b']\n",
    "    }\n",
    ")"
   ]
  },
  {
   "cell_type": "code",
   "execution_count": 27,
   "id": "c6087d4a-b3c4-465e-b67d-7059899f6a6b",
   "metadata": {
    "tags": []
   },
   "outputs": [
    {
     "data": {
      "text/html": [
       "<div><style>\n",
       ".dataframe > thead > tr,\n",
       ".dataframe > tbody > tr {\n",
       "  text-align: right;\n",
       "  white-space: pre-wrap;\n",
       "}\n",
       "</style>\n",
       "<small>shape: (3, 3)</small><table border=\"1\" class=\"dataframe\"><thead><tr><th>id</th><th>col_a</th><th>col_b</th></tr><tr><td>i64</td><td>str</td><td>str</td></tr></thead><tbody><tr><td>3</td><td>&quot;a&quot;</td><td>&quot;b&quot;</td></tr><tr><td>2</td><td>&quot;a&quot;</td><td>&quot;b&quot;</td></tr><tr><td>1</td><td>&quot;a&quot;</td><td>&quot;b&quot;</td></tr></tbody></table></div>"
      ],
      "text/plain": [
       "shape: (3, 3)\n",
       "┌─────┬───────┬───────┐\n",
       "│ id  ┆ col_a ┆ col_b │\n",
       "│ --- ┆ ---   ┆ ---   │\n",
       "│ i64 ┆ str   ┆ str   │\n",
       "╞═════╪═══════╪═══════╡\n",
       "│ 3   ┆ a     ┆ b     │\n",
       "│ 2   ┆ a     ┆ b     │\n",
       "│ 1   ┆ a     ┆ b     │\n",
       "└─────┴───────┴───────┘"
      ]
     },
     "execution_count": 27,
     "metadata": {},
     "output_type": "execute_result"
    }
   ],
   "source": [
    "df.unique()"
   ]
  },
  {
   "cell_type": "markdown",
   "id": "c2333aa0-20c3-49ce-889d-1dd3a1183e34",
   "metadata": {},
   "source": [
    "Podemos mantener el orden del DataFrame original con el parámetro `maintain_order=True`. Esta operación es más costosa de calcular."
   ]
  },
  {
   "cell_type": "code",
   "execution_count": 28,
   "id": "06168fd5-c8c4-494f-bf69-ea6a7082061d",
   "metadata": {
    "tags": []
   },
   "outputs": [
    {
     "data": {
      "text/html": [
       "<div><style>\n",
       ".dataframe > thead > tr,\n",
       ".dataframe > tbody > tr {\n",
       "  text-align: right;\n",
       "  white-space: pre-wrap;\n",
       "}\n",
       "</style>\n",
       "<small>shape: (3, 3)</small><table border=\"1\" class=\"dataframe\"><thead><tr><th>id</th><th>col_a</th><th>col_b</th></tr><tr><td>i64</td><td>str</td><td>str</td></tr></thead><tbody><tr><td>1</td><td>&quot;a&quot;</td><td>&quot;b&quot;</td></tr><tr><td>2</td><td>&quot;a&quot;</td><td>&quot;b&quot;</td></tr><tr><td>3</td><td>&quot;a&quot;</td><td>&quot;b&quot;</td></tr></tbody></table></div>"
      ],
      "text/plain": [
       "shape: (3, 3)\n",
       "┌─────┬───────┬───────┐\n",
       "│ id  ┆ col_a ┆ col_b │\n",
       "│ --- ┆ ---   ┆ ---   │\n",
       "│ i64 ┆ str   ┆ str   │\n",
       "╞═════╪═══════╪═══════╡\n",
       "│ 1   ┆ a     ┆ b     │\n",
       "│ 2   ┆ a     ┆ b     │\n",
       "│ 3   ┆ a     ┆ b     │\n",
       "└─────┴───────┴───────┘"
      ]
     },
     "execution_count": 28,
     "metadata": {},
     "output_type": "execute_result"
    }
   ],
   "source": [
    "df.unique(maintain_order=True)"
   ]
  },
  {
   "cell_type": "markdown",
   "id": "81d874bd-df2a-44da-952a-03eba67fd81f",
   "metadata": {},
   "source": [
    "Podemos indicarle la(s) columna(s) a considerar para identificar las filas duplicadas."
   ]
  },
  {
   "cell_type": "code",
   "execution_count": 29,
   "id": "2ac77be3-476e-4a91-86a7-f4994aa16043",
   "metadata": {
    "tags": []
   },
   "outputs": [
    {
     "data": {
      "text/html": [
       "<div><style>\n",
       ".dataframe > thead > tr,\n",
       ".dataframe > tbody > tr {\n",
       "  text-align: right;\n",
       "  white-space: pre-wrap;\n",
       "}\n",
       "</style>\n",
       "<small>shape: (1, 3)</small><table border=\"1\" class=\"dataframe\"><thead><tr><th>id</th><th>col_a</th><th>col_b</th></tr><tr><td>i64</td><td>str</td><td>str</td></tr></thead><tbody><tr><td>1</td><td>&quot;a&quot;</td><td>&quot;b&quot;</td></tr></tbody></table></div>"
      ],
      "text/plain": [
       "shape: (1, 3)\n",
       "┌─────┬───────┬───────┐\n",
       "│ id  ┆ col_a ┆ col_b │\n",
       "│ --- ┆ ---   ┆ ---   │\n",
       "│ i64 ┆ str   ┆ str   │\n",
       "╞═════╪═══════╪═══════╡\n",
       "│ 1   ┆ a     ┆ b     │\n",
       "└─────┴───────┴───────┘"
      ]
     },
     "execution_count": 29,
     "metadata": {},
     "output_type": "execute_result"
    }
   ],
   "source": [
    "df.unique(subset=['col_a', 'col_b'])"
   ]
  }
 ],
 "metadata": {
  "kernelspec": {
   "display_name": "Python 3 (ipykernel)",
   "language": "python",
   "name": "python3"
  },
  "language_info": {
   "codemirror_mode": {
    "name": "ipython",
    "version": 3
   },
   "file_extension": ".py",
   "mimetype": "text/x-python",
   "name": "python",
   "nbconvert_exporter": "python",
   "pygments_lexer": "ipython3",
   "version": "3.9.6"
  }
 },
 "nbformat": 4,
 "nbformat_minor": 5
}
