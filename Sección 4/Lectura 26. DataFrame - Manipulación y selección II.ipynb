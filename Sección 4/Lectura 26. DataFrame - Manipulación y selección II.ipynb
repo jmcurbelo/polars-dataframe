{
 "cells": [
  {
   "cell_type": "markdown",
   "id": "04b9855f-cef5-4acf-a3cf-118a1a910c1e",
   "metadata": {},
   "source": [
    "# Lectura 26: DataFrame - Manipulación y selección II"
   ]
  },
  {
   "cell_type": "markdown",
   "id": "c5621859-9a9c-4d8a-b2c1-a2e4135fdd91",
   "metadata": {},
   "source": [
    "## `cast`\n",
    "\n",
    "Esta función castea las columnas de un DataFrame a un tipo de datos en específico. Recibe como parámetro un diccionario con el nombre de la(s) columna(s) que se desean castear y el tipo de dato al cual se van a castear."
   ]
  },
  {
   "cell_type": "code",
   "execution_count": null,
   "id": "eaeb8970-7f68-48d6-876f-44a6f622b040",
   "metadata": {},
   "outputs": [],
   "source": [
    "import polars as pl\n",
    "from datetime import date\n",
    "\n",
    "df = pl.DataFrame(\n",
    "    {\n",
    "        \"num\": [1, 2, 3],\n",
    "        \"dec\": [6.0, 7.0, 8.0],\n",
    "        \"date\": [date(2024, 1, 2), date(2024, 3, 4), date(2023, 5, 6)],\n",
    "        \"date1\": [date(2024, 5, 23), date(2024, 3, 14), date(2023, 5, 26)]\n",
    "    }\n",
    ")\n",
    "\n",
    "df"
   ]
  },
  {
   "cell_type": "code",
   "execution_count": null,
   "id": "fe9adc18-0357-437d-bc1d-0ba8dd3b7220",
   "metadata": {
    "tags": []
   },
   "outputs": [],
   "source": [
    "df.cast({'num': pl.Float32, 'dec': pl.UInt8})"
   ]
  },
  {
   "cell_type": "markdown",
   "id": "fd4fe65d-aa31-4ee5-9fd0-bf44dd1fa78b",
   "metadata": {},
   "source": [
    "Podemos castear todas las columnas de un tipo de datos específico a otro tipo de datos usando selectores."
   ]
  },
  {
   "cell_type": "code",
   "execution_count": null,
   "id": "cfab6301-f049-4619-a25f-ef7028c3c23d",
   "metadata": {
    "tags": []
   },
   "outputs": [],
   "source": [
    "import polars.selectors as cs\n",
    "\n",
    "df.cast({cs.date(): pl.Datetime})"
   ]
  },
  {
   "cell_type": "markdown",
   "id": "ca77c406-e7ce-4e35-bb52-23d6e7cb3257",
   "metadata": {},
   "source": [
    "## `clone`\n",
    "\n",
    "Con esta función podremos crear una copia de un DataFrame. Esta es una operación poco costosa porque no copia los datos."
   ]
  },
  {
   "cell_type": "code",
   "execution_count": null,
   "id": "3985d010-3120-4fc9-99fc-610120b9a07b",
   "metadata": {
    "tags": []
   },
   "outputs": [],
   "source": [
    "vuelos = pl.read_parquet('./data/vuelos/', use_pyarrow=True)\n",
    "\n",
    "vuelos_copy = vuelos.clone()\n",
    "\n",
    "vuelos_copy"
   ]
  },
  {
   "cell_type": "markdown",
   "id": "3c575a7b-3a64-4d83-8a6c-5976696c9a31",
   "metadata": {},
   "source": [
    "## `explode`\n",
    "\n",
    "Realiza un explode del DataFrame a un formato más largo al realizar un explode de las columnas proporcionadas. Para visualizar como funciona explode vamos a crear un nuevo DataFrame."
   ]
  },
  {
   "cell_type": "code",
   "execution_count": null,
   "id": "45a28982-7244-4981-8c3b-e8d5e8cbbb24",
   "metadata": {
    "tags": []
   },
   "outputs": [],
   "source": [
    "df_compacto = pl.DataFrame(\n",
    "    {\n",
    "        'letras': ['x', 'x', 'z', 'y'],\n",
    "        'num': [[1], [2,3], [4,5], [6,7,8]]\n",
    "    }\n",
    ")\n",
    "\n",
    "df_compacto"
   ]
  },
  {
   "cell_type": "code",
   "execution_count": null,
   "id": "2f72f9e5-b2da-4c63-a3e7-c4f97926cdf9",
   "metadata": {
    "tags": []
   },
   "outputs": [],
   "source": [
    "df_explode = df_compacto.explode('num')\n",
    "\n",
    "df_explode"
   ]
  },
  {
   "cell_type": "markdown",
   "id": "044fdee6-51dc-406b-9bc1-552ac3da5b67",
   "metadata": {},
   "source": [
    "## `hstack`\n",
    "\n",
    "Esta función retorna un nuevo DataFrame creciendo horizontalmente un DataFrame existente al agregarle múltiples series. Recordemos como está constituido el DataFrame `df_compacto` y empleemos `hstack` para crecerlo horizontalmente. "
   ]
  },
  {
   "cell_type": "code",
   "execution_count": null,
   "id": "1f6ee8c2-1b40-43ac-a8d8-3bd2bad1eab7",
   "metadata": {
    "tags": []
   },
   "outputs": [],
   "source": [
    "df_compacto"
   ]
  },
  {
   "cell_type": "code",
   "execution_count": null,
   "id": "1dc1eebe-9962-43a5-9ffc-6f11b8242c48",
   "metadata": {
    "tags": []
   },
   "outputs": [],
   "source": [
    "colores = pl.Series('colores', ['rojo', 'verde', 'azul', 'verde'])\n",
    "\n",
    "decimal = pl.Series('decimal', [1.2, 3.5, 5.3, 9.0])"
   ]
  },
  {
   "cell_type": "code",
   "execution_count": null,
   "id": "b69663b5-4686-452d-a6ca-bfac36e9f050",
   "metadata": {
    "tags": []
   },
   "outputs": [],
   "source": [
    "df_extendido = df_compacto.hstack([colores, decimal])\n",
    "\n",
    "df_extendido"
   ]
  },
  {
   "cell_type": "markdown",
   "id": "5e2859a5-64c1-44f3-a87d-516a1a9a7e3f",
   "metadata": {},
   "source": [
    "## `vstack` y `extend`"
   ]
  },
  {
   "cell_type": "markdown",
   "id": "d559a72a-32e3-4ebd-92a8-44e4ce854a51",
   "metadata": {},
   "source": [
    "### `vstack`\n",
    "\n",
    "Esta función crece el DataFrame verticalmente apilándole un DataFrame. Para ver su funcionamineto vamos a utulizar el Dataframe `vuelos` y el DataFrame `vuelos_copy` que previamente hemos creado."
   ]
  },
  {
   "cell_type": "code",
   "execution_count": null,
   "id": "b2ed430e-379f-4677-94a2-55f18d428922",
   "metadata": {
    "tags": []
   },
   "outputs": [],
   "source": [
    "vuelos.vstack(vuelos_copy)"
   ]
  },
  {
   "cell_type": "markdown",
   "id": "3ed222e0-3db7-4990-bbff-059cc67c5baf",
   "metadata": {},
   "source": [
    "Esta función devuelve un nuevo DataFrame a menos que se especifique el parámetro `in_place=True`."
   ]
  },
  {
   "cell_type": "code",
   "execution_count": null,
   "id": "a88c19a3-9248-4dda-b283-450f752fb4c5",
   "metadata": {
    "tags": []
   },
   "outputs": [],
   "source": [
    "# Verificamos que el DataFrame vuelos no halla sido modificado\n",
    "\n",
    "vuelos.shape"
   ]
  },
  {
   "cell_type": "code",
   "execution_count": null,
   "id": "1850d8b6-7823-47bf-9307-0c8ad2aa5c84",
   "metadata": {
    "tags": []
   },
   "outputs": [],
   "source": [
    "vuelos.vstack(vuelos_copy, in_place=True)"
   ]
  },
  {
   "cell_type": "code",
   "execution_count": null,
   "id": "8fe27f80-0a5d-4347-9f81-0b8c90105818",
   "metadata": {
    "tags": []
   },
   "outputs": [],
   "source": [
    "# Volvemos a verificar el DataFrame vuelos y veremos como ha sido modificado\n",
    "\n",
    "vuelos.shape"
   ]
  },
  {
   "cell_type": "markdown",
   "id": "f91bc283-f69b-4069-8ecb-f543bbe36f9e",
   "metadata": {},
   "source": [
    "### `extend`\n",
    "\n",
    "Esta función amplía la memoria respaldada por el DataFrame al cual se le aplica con los valores del DataFrame que se extiende.\n",
    "\n",
    "A diferencia de `vstak`, que agrega los fragmentos del DataFrame que se pasa como parámetro a los fragmentos del DataFrame, `extend` agrega los datos del DataFrame pasado como parámetro a las ubicaciones de memoria subyacentes y, por lo tanto, puede provocar una reasignación.\n",
    "\n",
    "\n",
    "Prefiera `extend` sobre `vstack` cuando desee realizar una consulta después de un solo append. Por ejemplo, durante operaciones en línea en las que agrega n filas y vuelve a ejecutar una consulta.\n",
    "\n",
    "Prefiera `vstack` sobre `extend` cuando desee agregar muchas veces antes de realizar una consulta. Por ejemplo, cuando lee varios archivos y desea almacenarlos en un único DataFrame. En el último caso, finalice la secuencia de operaciones vstack con un `rechunk`.\n",
    "\n",
    "Este método modifica el DataFrame in-place. El DataFrame es devuelto solo por conveniencia.\n",
    "\n",
    "Para mostrar el funcionaminto de `extend` vamos a leer algunas particiones del DataFrame de vuelos que se encuentaran dentro de la carpeta vuelos_particionado y vamos a unirlos con `extend`."
   ]
  },
  {
   "cell_type": "code",
   "execution_count": null,
   "id": "286ec3a3-98fe-408f-bd76-086359ab0bbd",
   "metadata": {
    "tags": []
   },
   "outputs": [],
   "source": [
    "vuelos_AA = pl.read_parquet('./data/vuelos_particionado/AIRLINE=AA/', use_pyarrow=True)\n",
    "\n",
    "vuelos_AS = pl.read_parquet('./data/vuelos_particionado/AIRLINE=AS/', use_pyarrow=True)\n",
    "\n",
    "vuelos_B6 = pl.read_parquet('./data/vuelos_particionado/AIRLINE=B6/', use_pyarrow=True)"
   ]
  },
  {
   "cell_type": "code",
   "execution_count": null,
   "id": "049d1fe7-bbb1-4794-992f-1f434cda45ce",
   "metadata": {
    "tags": []
   },
   "outputs": [],
   "source": [
    "vuelos = vuelos_AA.extend(vuelos_AS).extend(vuelos_B6)"
   ]
  },
  {
   "cell_type": "code",
   "execution_count": null,
   "id": "b77231af-d4cc-4446-8858-51e20e0d1a48",
   "metadata": {
    "tags": []
   },
   "outputs": [],
   "source": [
    "vuelos"
   ]
  },
  {
   "cell_type": "markdown",
   "id": "00354954-614c-47b8-bd7d-ca299bfd34c8",
   "metadata": {},
   "source": [
    "## `partition_by`\n",
    "\n",
    "Esta función agrupa por las columnas proporcionadas y retorna los grupos como DataFrames separados en una lista.\n",
    "\n",
    "Tomemos el DataFrame de `vuelos` que acabamos de crear y particionémoslo por la columna `MONTH`."
   ]
  },
  {
   "cell_type": "code",
   "execution_count": null,
   "id": "d95266aa-f754-404b-a3ef-02f652ff46c3",
   "metadata": {
    "tags": []
   },
   "outputs": [],
   "source": [
    "vuelos_por_mes = vuelos.partition_by('MONTH')\n",
    "\n",
    "vulelos_por_mes"
   ]
  },
  {
   "cell_type": "code",
   "execution_count": null,
   "id": "c3f4d0d7-efbc-4273-80a3-628db9d926c6",
   "metadata": {
    "tags": []
   },
   "outputs": [],
   "source": [
    "vuelos_por_mes[1]"
   ]
  },
  {
   "cell_type": "markdown",
   "id": "05bd0b8b-5457-4827-b0e6-57a12f4382fc",
   "metadata": {},
   "source": [
    "En caso de que deseemos que retorne los DataFrame en un diccionario podemos utilizar el parámetro `as_dict=True`."
   ]
  },
  {
   "cell_type": "code",
   "execution_count": null,
   "id": "704fa8cf-8e61-481b-9174-830edc16c1a8",
   "metadata": {
    "tags": []
   },
   "outputs": [],
   "source": [
    "vuelos_por_mes_dict = vuelos.partition_by('MONTH', as_dict=True)\n",
    "\n",
    "vuelos_por_mes_dict"
   ]
  },
  {
   "cell_type": "code",
   "execution_count": null,
   "id": "7d1f49df-b802-4d0f-8333-e46697c444cc",
   "metadata": {
    "tags": []
   },
   "outputs": [],
   "source": [
    "vuelos_por_mes_dict.get(3)"
   ]
  },
  {
   "cell_type": "markdown",
   "id": "753948df-4d3e-4a16-8054-b005c4652b4f",
   "metadata": {},
   "source": [
    "## `rename`\n",
    "\n",
    "Esta función permite renombrar las columnas del DataFrame. "
   ]
  },
  {
   "cell_type": "code",
   "execution_count": null,
   "id": "819cda59-5bf3-4c42-98a8-8b51d2fe1889",
   "metadata": {
    "tags": []
   },
   "outputs": [],
   "source": [
    "vuelos.rename({'MONTH': 'mes', 'DAY': 'dia'})"
   ]
  },
  {
   "cell_type": "markdown",
   "id": "02a2e42c-5b2a-4959-af3c-3eb35a6a0831",
   "metadata": {},
   "source": [
    "## `with_columns`\n",
    "\n",
    "Esta función permite agregar columnas al DataFrame. Si el nombre de la columna agregada coincide con un nombre de columna existente entonces se reemplazará la columna existente por la nueva columna."
   ]
  },
  {
   "cell_type": "code",
   "execution_count": null,
   "id": "49dedba4-35b8-4505-96b2-96b3fe2218ea",
   "metadata": {
    "tags": []
   },
   "outputs": [],
   "source": [
    "from polars import col\n",
    "\n",
    "vuelos.with_columns((col('DAY_OF_WEEK') * 10).alias('day_of_week_10'))"
   ]
  },
  {
   "cell_type": "markdown",
   "id": "2ea16dd7-ee04-4376-9c44-890f7b81566c",
   "metadata": {},
   "source": [
    "Si no especificamos el nuevo nombre de columna se sobreescribirá la columna existente en el DataFrame."
   ]
  },
  {
   "cell_type": "code",
   "execution_count": null,
   "id": "b8d551ca-8d4f-4544-a35b-510881f5a785",
   "metadata": {
    "tags": []
   },
   "outputs": [],
   "source": [
    "vuelos.with_columns((col('DAY_OF_WEEK') * 10))"
   ]
  },
  {
   "cell_type": "markdown",
   "id": "ef9eab27-ca0f-4d18-9ee6-65b54fd12059",
   "metadata": {},
   "source": [
    "También podemos agregar varias columnas en una sola ejecución. Para ello debemos proporcionar las nuevas columnas en una lista como se muestra a continuación."
   ]
  },
  {
   "cell_type": "code",
   "execution_count": null,
   "id": "3dde1b1d-ae55-4be7-8bae-3049d792bb48",
   "metadata": {
    "tags": []
   },
   "outputs": [],
   "source": [
    "vuelos.with_columns(\n",
    "    [\n",
    "        (col('YEAR') + 1).alias('year_plus_1'),\n",
    "        (col('AIR_TIME') / 60).alias('air_time_hrs'),\n",
    "        col('TAIL_NUMBER').str.replace('N3','JO')\n",
    "    ]\n",
    ")"
   ]
  },
  {
   "cell_type": "markdown",
   "id": "78379428-738a-4129-a1f5-6a4c5fe98f63",
   "metadata": {},
   "source": [
    "## `unique`\n",
    "\n",
    "Esta función elimina las filas duplicadas del DataFrame. Si no se le proporciona ningún parámetro usará todas las columnas para identificar las filas duplicadas y eliminarlas. En caso de que se desee indicar por cual columna(s) se debe aplicar el borrado se deberán proporcionar el parámetro `subset=[col1, col2, ..., colN]`.\n",
    "\n",
    "Para mostrar su funcionamiento creemos un nuevo DataFrame."
   ]
  },
  {
   "cell_type": "code",
   "execution_count": null,
   "id": "5bb8e135-3875-4367-bc01-b71629c3c936",
   "metadata": {
    "tags": []
   },
   "outputs": [],
   "source": [
    "df = pl.DataFrame(\n",
    "    {\n",
    "        'id': [1,2,3,1],\n",
    "        'col_a': ['a', 'a', 'a', 'a'],\n",
    "        'col_b': ['b', 'b', 'b', 'b']\n",
    "    }\n",
    ")"
   ]
  },
  {
   "cell_type": "code",
   "execution_count": null,
   "id": "c6087d4a-b3c4-465e-b67d-7059899f6a6b",
   "metadata": {
    "tags": []
   },
   "outputs": [],
   "source": [
    "df.unique()"
   ]
  },
  {
   "cell_type": "markdown",
   "id": "c2333aa0-20c3-49ce-889d-1dd3a1183e34",
   "metadata": {},
   "source": [
    "Podemos mantener el orden del DataFrame original con el parámetro `maintain_order=True`. Esta operación es más costosa de calcular."
   ]
  },
  {
   "cell_type": "code",
   "execution_count": null,
   "id": "06168fd5-c8c4-494f-bf69-ea6a7082061d",
   "metadata": {
    "tags": []
   },
   "outputs": [],
   "source": [
    "df.unique(maintain_order=True)"
   ]
  },
  {
   "cell_type": "markdown",
   "id": "81d874bd-df2a-44da-952a-03eba67fd81f",
   "metadata": {},
   "source": [
    "Podemos indicarle la(s) columna(s) a considerar para identificar las filas duplicadas."
   ]
  },
  {
   "cell_type": "code",
   "execution_count": null,
   "id": "2ac77be3-476e-4a91-86a7-f4994aa16043",
   "metadata": {
    "tags": []
   },
   "outputs": [],
   "source": [
    "df.unique(subset=['col_a', 'col_b'])"
   ]
  }
 ],
 "metadata": {
  "kernelspec": {
   "display_name": "Python 3 (ipykernel)",
   "language": "python",
   "name": "python3"
  },
  "language_info": {
   "codemirror_mode": {
    "name": "ipython",
    "version": 3
   },
   "file_extension": ".py",
   "mimetype": "text/x-python",
   "name": "python",
   "nbconvert_exporter": "python",
   "pygments_lexer": "ipython3",
   "version": "3.9.6"
  }
 },
 "nbformat": 4,
 "nbformat_minor": 5
}
