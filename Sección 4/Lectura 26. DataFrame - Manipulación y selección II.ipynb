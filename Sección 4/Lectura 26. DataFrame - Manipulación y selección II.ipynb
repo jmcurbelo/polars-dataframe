{
 "cells": [
  {
   "cell_type": "markdown",
   "id": "04b9855f-cef5-4acf-a3cf-118a1a910c1e",
   "metadata": {},
   "source": [
    "# Lectura 26: DataFrame - Manipulación y selección II"
   ]
  },
  {
   "cell_type": "markdown",
   "id": "c5621859-9a9c-4d8a-b2c1-a2e4135fdd91",
   "metadata": {},
   "source": [
    "- rename\n",
    "- replace\n",
    "- select\n",
    "- with_columns\n",
    "- limit\n",
    "- slice\n",
    "- to_dummies"
   ]
  },
  {
   "cell_type": "code",
   "execution_count": null,
   "id": "eaeb8970-7f68-48d6-876f-44a6f622b040",
   "metadata": {},
   "outputs": [],
   "source": []
  }
 ],
 "metadata": {
  "kernelspec": {
   "display_name": "Python 3 (ipykernel)",
   "language": "python",
   "name": "python3"
  },
  "language_info": {
   "codemirror_mode": {
    "name": "ipython",
    "version": 3
   },
   "file_extension": ".py",
   "mimetype": "text/x-python",
   "name": "python",
   "nbconvert_exporter": "python",
   "pygments_lexer": "ipython3",
   "version": "3.9.6"
  }
 },
 "nbformat": 4,
 "nbformat_minor": 5
}
