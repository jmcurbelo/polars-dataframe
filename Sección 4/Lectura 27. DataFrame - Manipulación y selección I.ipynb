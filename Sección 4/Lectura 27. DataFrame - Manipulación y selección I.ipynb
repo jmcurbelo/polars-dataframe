{
 "cells": [
  {
   "cell_type": "markdown",
   "id": "20cb070c-89bf-4c3c-86c1-a59d077b2614",
   "metadata": {},
   "source": [
    "# Lectura 27: DataFrame - Manipulación y selección I"
   ]
  },
  {
   "cell_type": "code",
   "execution_count": null,
   "id": "1b4f2fa5-f3e8-4894-9ff7-3e098b347191",
   "metadata": {},
   "outputs": [],
   "source": [
    "import polars as pl\n",
    "\n",
    "profesores = pl.DataFrame(\n",
    "    {\n",
    "        'nombre': ['Jose', 'Laura', 'Enrique', 'Elena', 'Katia', 'Rodrigo', 'Perla'],\n",
    "        'puesto': ['RH', 'ventas', 'ventas', 'director', 'dev', 'dev', 'RH'],\n",
    "        'edad': [23, 32, None, 45, 20, 24, 37]\n",
    "    }\n",
    ")"
   ]
  },
  {
   "cell_type": "markdown",
   "id": "e2e3b2a8-b507-469a-aed0-0999dafe3cba",
   "metadata": {},
   "source": [
    "### Retornar los k elementos más pequeños"
   ]
  },
  {
   "cell_type": "markdown",
   "id": "d578a1a7-6fdc-4ffb-9067-389246c7d097",
   "metadata": {},
   "source": [
    "La función `botton_k` retorna los k elemento más pequeños del DataFrame. Le podemos indicar la cantidad de elementos que deseamos mostrar y por cual columna ordenar para obtener el resultado."
   ]
  },
  {
   "cell_type": "code",
   "execution_count": null,
   "id": "3470e883-b80c-498b-91ed-ad8e0c556333",
   "metadata": {
    "tags": []
   },
   "outputs": [],
   "source": [
    "profesores.bottom_k(2, by='edad', nulls_last=True)"
   ]
  },
  {
   "cell_type": "markdown",
   "id": "3e5d0d56-2012-4a34-a9ae-7eae6c7af301",
   "metadata": {},
   "source": [
    "Podemos cambiar el orden con el parámetro `descending=True`"
   ]
  },
  {
   "cell_type": "code",
   "execution_count": null,
   "id": "92a407db-fc0f-4dbd-8d69-da009f80562e",
   "metadata": {
    "tags": []
   },
   "outputs": [],
   "source": [
    "profesores.bottom_k(2, by='edad', descending=True, nulls_last=True)"
   ]
  },
  {
   "cell_type": "markdown",
   "id": "a9fe5ace-4df4-4fca-b552-75e28bb39dea",
   "metadata": {},
   "source": [
    "Podemos incluso ordenar por más de una columna y en ese caso le debemos pasar al parámetro `by` una lista con los nombres de las columnas."
   ]
  },
  {
   "cell_type": "code",
   "execution_count": null,
   "id": "c5c8ee26-b02c-42c2-80ec-0b5d29d2daf9",
   "metadata": {
    "tags": []
   },
   "outputs": [],
   "source": [
    "profesores.bottom_k(3, by=['edad', 'puesto'])"
   ]
  },
  {
   "cell_type": "markdown",
   "id": "b6a32e8c-1db0-4b53-827d-eb2c4fbffb6a",
   "metadata": {},
   "source": [
    "### Eliminar columnas del DataFrame"
   ]
  },
  {
   "cell_type": "markdown",
   "id": "de01ece1-b969-4344-9f11-248ab540a0e8",
   "metadata": {},
   "source": [
    "La función `drop` elimina la(s) columna(s) seleccionada(s) y devuelve un nuevo DataFrame."
   ]
  },
  {
   "cell_type": "code",
   "execution_count": null,
   "id": "8f4c8e36-6d26-4d58-9f7b-6fdb981a9462",
   "metadata": {
    "tags": []
   },
   "outputs": [],
   "source": [
    "profesores.drop('edad')"
   ]
  },
  {
   "cell_type": "code",
   "execution_count": null,
   "id": "7825f2bb-1a9c-493b-9305-d4f9673fa9a9",
   "metadata": {
    "tags": []
   },
   "outputs": [],
   "source": [
    "profesores.drop(['edad', 'puesto'])"
   ]
  },
  {
   "cell_type": "markdown",
   "id": "1e2f8af0-8106-462a-a4c8-f3b8e2b0cebe",
   "metadata": {},
   "source": [
    "La función `drop_in_place` elimina la columna seleccionada y retorna la columna eliminada. Tenga en cuenta que esta opción si cambia el DataFrame al cual se le aplica esta función."
   ]
  },
  {
   "cell_type": "code",
   "execution_count": null,
   "id": "ccdf4131-418a-4feb-aca3-9565ad886f08",
   "metadata": {
    "tags": []
   },
   "outputs": [],
   "source": [
    "profesores.drop_in_place('edad')"
   ]
  },
  {
   "cell_type": "markdown",
   "id": "a1888609-c647-4519-b14b-90175831c3bc",
   "metadata": {},
   "source": [
    "### Eliminar todas las filas que contengan valores nulos"
   ]
  },
  {
   "cell_type": "code",
   "execution_count": null,
   "id": "e1091fec-1e49-4b10-aedb-43b859579f46",
   "metadata": {
    "tags": []
   },
   "outputs": [],
   "source": [
    "profesores.drop_nulls()"
   ]
  },
  {
   "cell_type": "markdown",
   "id": "c8f2a9b1-7fcf-4118-8217-408079f114bf",
   "metadata": {},
   "source": [
    "Esta es la forma más sencilla de utilizar esta función, pero existen formas más avanzadas con las cuales podríamos por ejemplo borrar solo aquellas filas donde exista un nulo en las columnas de tipo enteras. Este tipo de ejemplos y otros los pueden consultar en la documentación de Polars si desean profundizar en el tema.\n",
    "\n",
    "[Ver ejemplos más avanzados](https://pola-rs.github.io/polars/py-polars/html/reference/dataframe/api/polars.DataFrame.drop_nulls.html#polars.DataFrame.drop_nulls)"
   ]
  },
  {
   "cell_type": "markdown",
   "id": "33a16cd6-b409-4472-8888-65969ef976f7",
   "metadata": {},
   "source": [
    "### Rellenar valores nulos"
   ]
  },
  {
   "cell_type": "markdown",
   "id": "e426cdd7-558e-4658-858a-0e14fce64725",
   "metadata": {},
   "source": [
    "La forma más sencilla de rellenar los valores nulos es proporcionarle a la función `fill_null` el valor con el cual deseamos rellenar los nulos."
   ]
  },
  {
   "cell_type": "code",
   "execution_count": null,
   "id": "c7411f8c-f794-4d6c-a832-d262a94887a0",
   "metadata": {
    "tags": []
   },
   "outputs": [],
   "source": [
    "profesores.fill_null(-99)"
   ]
  },
  {
   "cell_type": "markdown",
   "id": "f85b48fa-1b36-4e3f-8a03-6b17c16c6e76",
   "metadata": {},
   "source": [
    "En caso de que deseemos emplear una estrategia en particular para rellenar los nulos podemos usar el parámetro `strategy` el cual puede tomar los siguientes valores `None, ‘forward’, ‘backward’, ‘min’, ‘max’, ‘mean’, ‘zero’, ‘one’`. Por ejemplo, rellenemos los nulos de la columna edad con la media de las edades."
   ]
  },
  {
   "cell_type": "code",
   "execution_count": null,
   "id": "f17ef2f6-42b6-4589-8f7c-e08cd189ea9d",
   "metadata": {
    "tags": []
   },
   "outputs": [],
   "source": [
    "profesores.fill_null(strategy='mean')"
   ]
  },
  {
   "cell_type": "markdown",
   "id": "9991e46c-9686-47e4-86ae-8731d3ee3f66",
   "metadata": {},
   "source": [
    "De igual forma para más detalles sobre esta función pueden consultar la documentación.\n",
    "\n",
    "[Consultar documentación](https://pola-rs.github.io/polars/py-polars/html/reference/dataframe/api/polars.DataFrame.fill_null.html#polars.DataFrame.fill_null)"
   ]
  },
  {
   "cell_type": "markdown",
   "id": "a8a79019-82b5-46f1-bc96-8ac76e872b0b",
   "metadata": {},
   "source": [
    "### Filtrar un DataFrame"
   ]
  },
  {
   "cell_type": "code",
   "execution_count": null,
   "id": "c474ec79-24b8-4a67-a0fb-48aef10347de",
   "metadata": {
    "tags": []
   },
   "outputs": [],
   "source": [
    "from polars import col\n",
    "\n",
    "profesores.filter(col('edad') > 30)"
   ]
  },
  {
   "cell_type": "code",
   "execution_count": null,
   "id": "93b3a464-5601-4cf7-b2ff-a1b6f3db3b80",
   "metadata": {
    "tags": []
   },
   "outputs": [],
   "source": [
    "profesores.filter((col('edad') > 30) & (col('nombre').str.starts_with('E')))"
   ]
  },
  {
   "cell_type": "code",
   "execution_count": null,
   "id": "5dc0c207-04a9-4a62-a4d3-5c85699994df",
   "metadata": {
    "tags": []
   },
   "outputs": [],
   "source": [
    "profesores.filter((col('edad') > 30) | (col('nombre').str.starts_with('E')))"
   ]
  },
  {
   "cell_type": "markdown",
   "id": "de193233-f84b-4512-9c76-31253f66ac2e",
   "metadata": {},
   "source": [
    "### Trabajo con columnas"
   ]
  },
  {
   "cell_type": "markdown",
   "id": "18b135db-7af2-49c4-aac0-0aee59ae1efc",
   "metadata": {},
   "source": [
    "#### Obtener una columna por nombre"
   ]
  },
  {
   "cell_type": "code",
   "execution_count": null,
   "id": "9051719a-c03e-44c8-aaef-349ca97246a8",
   "metadata": {
    "tags": []
   },
   "outputs": [],
   "source": [
    "profesores.get_column('puesto')"
   ]
  },
  {
   "cell_type": "markdown",
   "id": "74c5eafc-f683-4fab-bbe1-622320e04b69",
   "metadata": {},
   "source": [
    "#### Obtener el índice de una columna por nombre"
   ]
  },
  {
   "cell_type": "code",
   "execution_count": null,
   "id": "b079de3a-9595-4ceb-9c18-e9c83b156e08",
   "metadata": {
    "tags": []
   },
   "outputs": [],
   "source": [
    "profesores.get_column_index('puesto')"
   ]
  },
  {
   "cell_type": "markdown",
   "id": "2c4a959a-f711-4003-ab79-db9e60ec64bf",
   "metadata": {},
   "source": [
    "#### Insertar una Serie en cierto índice de columna"
   ]
  },
  {
   "cell_type": "markdown",
   "id": "9b534792-28d1-405f-abfa-f469c7e89100",
   "metadata": {},
   "source": [
    "La función `insert_column` inserta una Serie en el número de índice de columna proporcionado y modifica \"in-place\" el DataFrame."
   ]
  },
  {
   "cell_type": "code",
   "execution_count": null,
   "id": "3ca95656-a680-4184-a587-1dbe4b6b44d8",
   "metadata": {
    "tags": []
   },
   "outputs": [],
   "source": [
    "p = pl.Series('pais', ['EU', 'MX', 'PR', 'CA', 'FR', 'EU', 'MX'])\n",
    "\n",
    "profesores.insert_column(3, p)"
   ]
  },
  {
   "cell_type": "code",
   "execution_count": null,
   "id": "3692d604-760d-49c4-bae7-5af449e48dec",
   "metadata": {
    "tags": []
   },
   "outputs": [],
   "source": [
    "profesores"
   ]
  },
  {
   "cell_type": "markdown",
   "id": "f3df4b48-30b1-47fb-922f-fc2c1e4defe7",
   "metadata": {},
   "source": [
    "#### Obtener el nombre de las columnas del DataFrame"
   ]
  },
  {
   "cell_type": "code",
   "execution_count": null,
   "id": "0cc2cadf-6932-4ce5-bf46-0aede8fd4a25",
   "metadata": {
    "tags": []
   },
   "outputs": [],
   "source": [
    "[item.name for item in profesores.iter_columns()]"
   ]
  }
 ],
 "metadata": {
  "kernelspec": {
   "display_name": "Python 3 (ipykernel)",
   "language": "python",
   "name": "python3"
  },
  "language_info": {
   "codemirror_mode": {
    "name": "ipython",
    "version": 3
   },
   "file_extension": ".py",
   "mimetype": "text/x-python",
   "name": "python",
   "nbconvert_exporter": "python",
   "pygments_lexer": "ipython3",
   "version": "3.9.6"
  }
 },
 "nbformat": 4,
 "nbformat_minor": 5
}
