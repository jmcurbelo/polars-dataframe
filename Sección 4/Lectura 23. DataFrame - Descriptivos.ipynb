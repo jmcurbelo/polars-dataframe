{
 "cells": [
  {
   "cell_type": "markdown",
   "id": "efc6f324-1115-4d77-a00a-b5d299b82cc9",
   "metadata": {},
   "source": [
    "# Lectura 23: DataFrame - Descriptivos"
   ]
  },
  {
   "cell_type": "code",
   "execution_count": 1,
   "id": "e6bd6d19-08c2-4022-b268-5057d85bf92c",
   "metadata": {},
   "outputs": [],
   "source": [
    "import polars as pl"
   ]
  },
  {
   "cell_type": "code",
   "execution_count": 2,
   "id": "13e0982d-ba14-4cfc-a31c-94b83ad7134c",
   "metadata": {
    "tags": []
   },
   "outputs": [
    {
     "data": {
      "text/html": [
       "<div><style>\n",
       ".dataframe > thead > tr,\n",
       ".dataframe > tbody > tr {\n",
       "  text-align: right;\n",
       "  white-space: pre-wrap;\n",
       "}\n",
       "</style>\n",
       "<small>shape: (5, 3)</small><table border=\"1\" class=\"dataframe\"><thead><tr><th>nombre</th><th>edad</th><th>sexo</th></tr><tr><td>str</td><td>i64</td><td>str</td></tr></thead><tbody><tr><td>&quot;jose&quot;</td><td>30</td><td>&quot;M&quot;</td></tr><tr><td>&quot;juana&quot;</td><td>34</td><td>&quot;F&quot;</td></tr><tr><td>&quot;katia&quot;</td><td>null</td><td>null</td></tr><tr><td>&quot;pedro&quot;</td><td>45</td><td>null</td></tr><tr><td>&quot;jose&quot;</td><td>30</td><td>&quot;M&quot;</td></tr></tbody></table></div>"
      ],
      "text/plain": [
       "shape: (5, 3)\n",
       "┌────────┬──────┬──────┐\n",
       "│ nombre ┆ edad ┆ sexo │\n",
       "│ ---    ┆ ---  ┆ ---  │\n",
       "│ str    ┆ i64  ┆ str  │\n",
       "╞════════╪══════╪══════╡\n",
       "│ jose   ┆ 30   ┆ M    │\n",
       "│ juana  ┆ 34   ┆ F    │\n",
       "│ katia  ┆ null ┆ null │\n",
       "│ pedro  ┆ 45   ┆ null │\n",
       "│ jose   ┆ 30   ┆ M    │\n",
       "└────────┴──────┴──────┘"
      ]
     },
     "metadata": {},
     "output_type": "display_data"
    },
    {
     "data": {
      "text/html": [
       "<div><style>\n",
       ".dataframe > thead > tr,\n",
       ".dataframe > tbody > tr {\n",
       "  text-align: right;\n",
       "  white-space: pre-wrap;\n",
       "}\n",
       "</style>\n",
       "<small>shape: (38_113, 81)</small><table border=\"1\" class=\"dataframe\"><thead><tr><th>vehicle_id</th><th>year</th><th>make</th><th>model</th><th>class</th><th>drive</th><th>transmission</th><th>transmission_type</th><th>engine_index</th><th>engine_descriptor</th><th>engine_cylinders</th><th>engine_displacement</th><th>turbocharger</th><th>supercharger</th><th>fuel_type</th><th>fuel_type_1</th><th>fuel_type_2</th><th>city_mpg_ft1</th><th>unrounded_city_mpg_ft1</th><th>city_mpg_ft2</th><th>unrounded_city_mpg_ft2</th><th>city_gasoline_consumption_cd</th><th>city_electricity_consumption</th><th>city_utility_factor</th><th>highway_mpg_ft1</th><th>unrounded_highway_mpg_ft1</th><th>highway_mpg_ft2</th><th>unrounded_highway_mpg_ft2</th><th>highway_gasoline_consumption_cd</th><th>highway_electricity_consumption</th><th>highway_utility_factor</th><th>unadjusted_city_mpg_ft1</th><th>unadjusted_highway_mpg_ft1</th><th>unadjusted_city_mpg_ft2</th><th>unadjusted_highway_mpg_ft2</th><th>combined_mpg_ft1</th><th>unrounded_combined_mpg_ft1</th><th>&hellip;</th><th>gas_guzzler_tax</th><th>save_or_spend_5_year</th><th>annual_consumption_in_barrels_ft1</th><th>annual_consumption_in_barrels_ft2</th><th>tailpipe_co2_ft1</th><th>tailpipe_co2_in_grams_mile_ft1</th><th>tailpipe_co2_ft2</th><th>tailpipe_co2_in_grams_mile_ft2</th><th>fuel_economy_score</th><th>ghg_score</th><th>ghg_score_alt_fuel</th><th>my_mpg_data</th><th>x2d_passenger_volume</th><th>x2d_luggage_volume</th><th>x4d_passenger_volume</th><th>x4d_luggage_volume</th><th>hatchback_passenger_volume</th><th>hatchback_luggage_volume</th><th>start_stop_technology</th><th>alternative_fuel_technology</th><th>electric_motor</th><th>manufacturer_code</th><th>gasoline_electricity_blended_cd</th><th>vehicle_charger</th><th>alternate_charger</th><th>hours_to_charge_120v</th><th>hours_to_charge_240v</th><th>hours_to_charge_ac_240v</th><th>composite_city_mpg</th><th>composite_highway_mpg</th><th>composite_combined_mpg</th><th>range_ft1</th><th>city_range_ft1</th><th>highway_range_ft1</th><th>range_ft2</th><th>city_range_ft2</th><th>highway_range_ft2</th></tr><tr><td>i64</td><td>i64</td><td>str</td><td>str</td><td>str</td><td>str</td><td>str</td><td>str</td><td>i64</td><td>str</td><td>str</td><td>str</td><td>str</td><td>str</td><td>str</td><td>str</td><td>str</td><td>i64</td><td>f64</td><td>i64</td><td>f64</td><td>f64</td><td>f64</td><td>f64</td><td>i64</td><td>f64</td><td>i64</td><td>f64</td><td>f64</td><td>f64</td><td>f64</td><td>f64</td><td>f64</td><td>f64</td><td>f64</td><td>i64</td><td>f64</td><td>&hellip;</td><td>str</td><td>i64</td><td>f64</td><td>f64</td><td>i64</td><td>f64</td><td>i64</td><td>f64</td><td>i64</td><td>i64</td><td>i64</td><td>str</td><td>i64</td><td>i64</td><td>i64</td><td>i64</td><td>i64</td><td>i64</td><td>str</td><td>str</td><td>str</td><td>str</td><td>bool</td><td>str</td><td>str</td><td>i64</td><td>f64</td><td>f64</td><td>i64</td><td>i64</td><td>i64</td><td>i64</td><td>f64</td><td>f64</td><td>str</td><td>f64</td><td>f64</td></tr></thead><tbody><tr><td>26587</td><td>1984</td><td>&quot;Alfa Romeo&quot;</td><td>&quot;GT V6 2.5&quot;</td><td>&quot;Minicompact Cars&quot;</td><td>&quot;NA&quot;</td><td>&quot;Manual 5-Speed&quot;</td><td>&quot;NA&quot;</td><td>9001</td><td>&quot;(FFS)&quot;</td><td>&quot;6&quot;</td><td>&quot;2.5&quot;</td><td>&quot;NA&quot;</td><td>&quot;NA&quot;</td><td>&quot;Regular&quot;</td><td>&quot;Regular Gasoline&quot;</td><td>&quot;NA&quot;</td><td>17</td><td>0.0</td><td>0</td><td>0.0</td><td>0.0</td><td>0.0</td><td>0.0</td><td>24</td><td>0.0</td><td>0</td><td>0.0</td><td>0.0</td><td>0.0</td><td>0.0</td><td>21.0</td><td>34.0</td><td>0.0</td><td>0.0</td><td>20</td><td>0.0</td><td>&hellip;</td><td>&quot;NA&quot;</td><td>-2000</td><td>16.4805</td><td>0.0</td><td>-1</td><td>444.35</td><td>-1</td><td>0.0</td><td>-1</td><td>-1</td><td>-1</td><td>&quot;N&quot;</td><td>74</td><td>7</td><td>0</td><td>0</td><td>0</td><td>0</td><td>&quot;NA&quot;</td><td>&quot;NA&quot;</td><td>&quot;NA&quot;</td><td>&quot;NA&quot;</td><td>false</td><td>&quot;NA&quot;</td><td>&quot;NA&quot;</td><td>0</td><td>0.0</td><td>0.0</td><td>0</td><td>0</td><td>0</td><td>0</td><td>0.0</td><td>0.0</td><td>&quot;NA&quot;</td><td>0.0</td><td>0.0</td></tr><tr><td>27705</td><td>1984</td><td>&quot;Alfa Romeo&quot;</td><td>&quot;GT V6 2.5&quot;</td><td>&quot;Minicompact Cars&quot;</td><td>&quot;NA&quot;</td><td>&quot;Manual 5-Speed&quot;</td><td>&quot;NA&quot;</td><td>9005</td><td>&quot;(FFS) CA model&quot;</td><td>&quot;6&quot;</td><td>&quot;2.5&quot;</td><td>&quot;NA&quot;</td><td>&quot;NA&quot;</td><td>&quot;Regular&quot;</td><td>&quot;Regular Gasoline&quot;</td><td>&quot;NA&quot;</td><td>17</td><td>0.0</td><td>0</td><td>0.0</td><td>0.0</td><td>0.0</td><td>0.0</td><td>24</td><td>0.0</td><td>0</td><td>0.0</td><td>0.0</td><td>0.0</td><td>0.0</td><td>21.0</td><td>34.0</td><td>0.0</td><td>0.0</td><td>20</td><td>0.0</td><td>&hellip;</td><td>&quot;NA&quot;</td><td>-2000</td><td>16.4805</td><td>0.0</td><td>-1</td><td>444.35</td><td>-1</td><td>0.0</td><td>-1</td><td>-1</td><td>-1</td><td>&quot;N&quot;</td><td>74</td><td>7</td><td>0</td><td>0</td><td>0</td><td>0</td><td>&quot;NA&quot;</td><td>&quot;NA&quot;</td><td>&quot;NA&quot;</td><td>&quot;NA&quot;</td><td>false</td><td>&quot;NA&quot;</td><td>&quot;NA&quot;</td><td>0</td><td>0.0</td><td>0.0</td><td>0</td><td>0</td><td>0</td><td>0</td><td>0.0</td><td>0.0</td><td>&quot;NA&quot;</td><td>0.0</td><td>0.0</td></tr><tr><td>26561</td><td>1984</td><td>&quot;Alfa Romeo&quot;</td><td>&quot;Spider Veloce 2000&quot;</td><td>&quot;Two Seaters&quot;</td><td>&quot;NA&quot;</td><td>&quot;Manual 5-Speed&quot;</td><td>&quot;NA&quot;</td><td>9002</td><td>&quot;(FFS)&quot;</td><td>&quot;4&quot;</td><td>&quot;2&quot;</td><td>&quot;NA&quot;</td><td>&quot;NA&quot;</td><td>&quot;Regular&quot;</td><td>&quot;Regular Gasoline&quot;</td><td>&quot;NA&quot;</td><td>18</td><td>0.0</td><td>0</td><td>0.0</td><td>0.0</td><td>0.0</td><td>0.0</td><td>25</td><td>0.0</td><td>0</td><td>0.0</td><td>0.0</td><td>0.0</td><td>0.0</td><td>23.0</td><td>35.0</td><td>0.0</td><td>0.0</td><td>21</td><td>0.0</td><td>&hellip;</td><td>&quot;NA&quot;</td><td>-1500</td><td>15.695714</td><td>0.0</td><td>-1</td><td>423.190476</td><td>-1</td><td>0.0</td><td>-1</td><td>-1</td><td>-1</td><td>&quot;N&quot;</td><td>0</td><td>0</td><td>0</td><td>0</td><td>0</td><td>0</td><td>&quot;NA&quot;</td><td>&quot;NA&quot;</td><td>&quot;NA&quot;</td><td>&quot;NA&quot;</td><td>false</td><td>&quot;NA&quot;</td><td>&quot;NA&quot;</td><td>0</td><td>0.0</td><td>0.0</td><td>0</td><td>0</td><td>0</td><td>0</td><td>0.0</td><td>0.0</td><td>&quot;NA&quot;</td><td>0.0</td><td>0.0</td></tr><tr><td>27681</td><td>1984</td><td>&quot;Alfa Romeo&quot;</td><td>&quot;Spider Veloce 2000&quot;</td><td>&quot;Two Seaters&quot;</td><td>&quot;NA&quot;</td><td>&quot;Manual 5-Speed&quot;</td><td>&quot;NA&quot;</td><td>9006</td><td>&quot;(FFS) CA model&quot;</td><td>&quot;4&quot;</td><td>&quot;2&quot;</td><td>&quot;NA&quot;</td><td>&quot;NA&quot;</td><td>&quot;Regular&quot;</td><td>&quot;Regular Gasoline&quot;</td><td>&quot;NA&quot;</td><td>18</td><td>0.0</td><td>0</td><td>0.0</td><td>0.0</td><td>0.0</td><td>0.0</td><td>25</td><td>0.0</td><td>0</td><td>0.0</td><td>0.0</td><td>0.0</td><td>0.0</td><td>23.0</td><td>35.0</td><td>0.0</td><td>0.0</td><td>21</td><td>0.0</td><td>&hellip;</td><td>&quot;NA&quot;</td><td>-1500</td><td>15.695714</td><td>0.0</td><td>-1</td><td>423.190476</td><td>-1</td><td>0.0</td><td>-1</td><td>-1</td><td>-1</td><td>&quot;N&quot;</td><td>0</td><td>0</td><td>0</td><td>0</td><td>0</td><td>0</td><td>&quot;NA&quot;</td><td>&quot;NA&quot;</td><td>&quot;NA&quot;</td><td>&quot;NA&quot;</td><td>false</td><td>&quot;NA&quot;</td><td>&quot;NA&quot;</td><td>0</td><td>0.0</td><td>0.0</td><td>0</td><td>0</td><td>0</td><td>0</td><td>0.0</td><td>0.0</td><td>&quot;NA&quot;</td><td>0.0</td><td>0.0</td></tr><tr><td>27550</td><td>1984</td><td>&quot;AM General&quot;</td><td>&quot;DJ Po Vehicle 2WD&quot;</td><td>&quot;Special Purpose Vehicle 2WD&quot;</td><td>&quot;2-Wheel Drive&quot;</td><td>&quot;Automatic 3-Speed&quot;</td><td>&quot;NA&quot;</td><td>1830</td><td>&quot;(FFS)&quot;</td><td>&quot;4&quot;</td><td>&quot;2.5&quot;</td><td>&quot;NA&quot;</td><td>&quot;NA&quot;</td><td>&quot;Regular&quot;</td><td>&quot;Regular Gasoline&quot;</td><td>&quot;NA&quot;</td><td>18</td><td>0.0</td><td>0</td><td>0.0</td><td>0.0</td><td>0.0</td><td>0.0</td><td>17</td><td>0.0</td><td>0</td><td>0.0</td><td>0.0</td><td>0.0</td><td>0.0</td><td>22.0</td><td>24.0</td><td>0.0</td><td>0.0</td><td>17</td><td>0.0</td><td>&hellip;</td><td>&quot;NA&quot;</td><td>-3500</td><td>19.388824</td><td>0.0</td><td>-1</td><td>522.764706</td><td>-1</td><td>0.0</td><td>-1</td><td>-1</td><td>-1</td><td>&quot;N&quot;</td><td>0</td><td>0</td><td>0</td><td>0</td><td>0</td><td>0</td><td>&quot;NA&quot;</td><td>&quot;NA&quot;</td><td>&quot;NA&quot;</td><td>&quot;NA&quot;</td><td>false</td><td>&quot;NA&quot;</td><td>&quot;NA&quot;</td><td>0</td><td>0.0</td><td>0.0</td><td>0</td><td>0</td><td>0</td><td>0</td><td>0.0</td><td>0.0</td><td>&quot;NA&quot;</td><td>0.0</td><td>0.0</td></tr><tr><td>&hellip;</td><td>&hellip;</td><td>&hellip;</td><td>&hellip;</td><td>&hellip;</td><td>&hellip;</td><td>&hellip;</td><td>&hellip;</td><td>&hellip;</td><td>&hellip;</td><td>&hellip;</td><td>&hellip;</td><td>&hellip;</td><td>&hellip;</td><td>&hellip;</td><td>&hellip;</td><td>&hellip;</td><td>&hellip;</td><td>&hellip;</td><td>&hellip;</td><td>&hellip;</td><td>&hellip;</td><td>&hellip;</td><td>&hellip;</td><td>&hellip;</td><td>&hellip;</td><td>&hellip;</td><td>&hellip;</td><td>&hellip;</td><td>&hellip;</td><td>&hellip;</td><td>&hellip;</td><td>&hellip;</td><td>&hellip;</td><td>&hellip;</td><td>&hellip;</td><td>&hellip;</td><td>&hellip;</td><td>&hellip;</td><td>&hellip;</td><td>&hellip;</td><td>&hellip;</td><td>&hellip;</td><td>&hellip;</td><td>&hellip;</td><td>&hellip;</td><td>&hellip;</td><td>&hellip;</td><td>&hellip;</td><td>&hellip;</td><td>&hellip;</td><td>&hellip;</td><td>&hellip;</td><td>&hellip;</td><td>&hellip;</td><td>&hellip;</td><td>&hellip;</td><td>&hellip;</td><td>&hellip;</td><td>&hellip;</td><td>&hellip;</td><td>&hellip;</td><td>&hellip;</td><td>&hellip;</td><td>&hellip;</td><td>&hellip;</td><td>&hellip;</td><td>&hellip;</td><td>&hellip;</td><td>&hellip;</td><td>&hellip;</td><td>&hellip;</td><td>&hellip;</td><td>&hellip;</td><td>&hellip;</td></tr><tr><td>37564</td><td>2017</td><td>&quot;Volvo&quot;</td><td>&quot;XC60 FWD&quot;</td><td>&quot;Small Sport Utility Vehicle 2W…</td><td>&quot;Front-Wheel Drive&quot;</td><td>&quot;Automatic (S8)&quot;</td><td>&quot;NA&quot;</td><td>90</td><td>&quot;SIDI&quot;</td><td>&quot;4&quot;</td><td>&quot;2&quot;</td><td>&quot;TRUE&quot;</td><td>&quot;NA&quot;</td><td>&quot;Regular&quot;</td><td>&quot;Regular Gasoline&quot;</td><td>&quot;NA&quot;</td><td>23</td><td>22.6786</td><td>0</td><td>0.0</td><td>0.0</td><td>0.0</td><td>0.0</td><td>30</td><td>30.3494</td><td>0</td><td>0.0</td><td>0.0</td><td>0.0</td><td>0.0</td><td>29.0</td><td>43.5</td><td>0.0</td><td>0.0</td><td>26</td><td>25.589</td><td>&hellip;</td><td>&quot;NA&quot;</td><td>0</td><td>12.677308</td><td>0.0</td><td>348</td><td>348.0</td><td>-1</td><td>0.0</td><td>6</td><td>6</td><td>-1</td><td>&quot;N&quot;</td><td>0</td><td>0</td><td>99</td><td>34</td><td>0</td><td>0</td><td>&quot;NA&quot;</td><td>&quot;NA&quot;</td><td>&quot;NA&quot;</td><td>&quot;NA&quot;</td><td>false</td><td>&quot;NA&quot;</td><td>&quot;NA&quot;</td><td>0</td><td>0.0</td><td>0.0</td><td>0</td><td>0</td><td>0</td><td>0</td><td>0.0</td><td>0.0</td><td>&quot;NA&quot;</td><td>0.0</td><td>0.0</td></tr><tr><td>37547</td><td>2017</td><td>&quot;Volvo&quot;</td><td>&quot;XC90 AWD&quot;</td><td>&quot;Standard Sport Utility Vehicle…</td><td>&quot;All-Wheel Drive&quot;</td><td>&quot;Automatic (S8)&quot;</td><td>&quot;NA&quot;</td><td>52</td><td>&quot;SIDI&quot;</td><td>&quot;4&quot;</td><td>&quot;2&quot;</td><td>&quot;TRUE&quot;</td><td>&quot;NA&quot;</td><td>&quot;Premium&quot;</td><td>&quot;Premium Gasoline&quot;</td><td>&quot;NA&quot;</td><td>20</td><td>20.4122</td><td>0</td><td>0.0</td><td>0.0</td><td>0.0</td><td>0.0</td><td>25</td><td>24.5622</td><td>0</td><td>0.0</td><td>0.0</td><td>0.0</td><td>0.0</td><td>25.8739</td><td>36.3864</td><td>0.0</td><td>0.0</td><td>22</td><td>22.0919</td><td>&hellip;</td><td>&quot;NA&quot;</td><td>-2750</td><td>14.982273</td><td>0.0</td><td>399</td><td>399.0</td><td>-1</td><td>0.0</td><td>5</td><td>5</td><td>-1</td><td>&quot;N&quot;</td><td>0</td><td>0</td><td>0</td><td>0</td><td>0</td><td>0</td><td>&quot;NA&quot;</td><td>&quot;NA&quot;</td><td>&quot;NA&quot;</td><td>&quot;NA&quot;</td><td>false</td><td>&quot;NA&quot;</td><td>&quot;NA&quot;</td><td>0</td><td>0.0</td><td>0.0</td><td>0</td><td>0</td><td>0</td><td>0</td><td>0.0</td><td>0.0</td><td>&quot;NA&quot;</td><td>0.0</td><td>0.0</td></tr><tr><td>37548</td><td>2017</td><td>&quot;Volvo&quot;</td><td>&quot;XC90 AWD&quot;</td><td>&quot;Standard Sport Utility Vehicle…</td><td>&quot;All-Wheel Drive&quot;</td><td>&quot;Automatic (S8)&quot;</td><td>&quot;NA&quot;</td><td>53</td><td>&quot;SIDI&quot;</td><td>&quot;4&quot;</td><td>&quot;2&quot;</td><td>&quot;TRUE&quot;</td><td>&quot;NA&quot;</td><td>&quot;Premium&quot;</td><td>&quot;Premium Gasoline&quot;</td><td>&quot;NA&quot;</td><td>22</td><td>21.7</td><td>0</td><td>0.0</td><td>0.0</td><td>0.0</td><td>0.0</td><td>25</td><td>24.7</td><td>0</td><td>0.0</td><td>0.0</td><td>0.0</td><td>0.0</td><td>27.5</td><td>39.0</td><td>0.0</td><td>0.0</td><td>23</td><td>22.9546</td><td>&hellip;</td><td>&quot;NA&quot;</td><td>-2500</td><td>14.33087</td><td>0.0</td><td>384</td><td>384.0</td><td>-1</td><td>0.0</td><td>5</td><td>5</td><td>-1</td><td>&quot;N&quot;</td><td>0</td><td>0</td><td>0</td><td>0</td><td>0</td><td>0</td><td>&quot;NA&quot;</td><td>&quot;NA&quot;</td><td>&quot;NA&quot;</td><td>&quot;NA&quot;</td><td>false</td><td>&quot;NA&quot;</td><td>&quot;NA&quot;</td><td>0</td><td>0.0</td><td>0.0</td><td>0</td><td>0</td><td>0</td><td>0</td><td>0.0</td><td>0.0</td><td>&quot;NA&quot;</td><td>0.0</td><td>0.0</td></tr><tr><td>37703</td><td>2017</td><td>&quot;Volvo&quot;</td><td>&quot;XC90 AWD PHEV&quot;</td><td>&quot;Standard Sport Utility Vehicle…</td><td>&quot;All-Wheel Drive&quot;</td><td>&quot;Automatic (S8)&quot;</td><td>&quot;NA&quot;</td><td>54</td><td>&quot;SIDI; PHEV&quot;</td><td>&quot;4&quot;</td><td>&quot;2&quot;</td><td>&quot;TRUE&quot;</td><td>&quot;NA&quot;</td><td>&quot;Premium and Electricity&quot;</td><td>&quot;Premium Gasoline&quot;</td><td>&quot;NA&quot;</td><td>24</td><td>23.7174</td><td>54</td><td>58.5962</td><td>0.0541</td><td>60.0</td><td>0.351</td><td>27</td><td>26.953</td><td>56</td><td>57.33</td><td>0.0442</td><td>60.0</td><td>0.34</td><td>30.4711</td><td>38.1739</td><td>82.2</td><td>82.0</td><td>25</td><td>25.0718</td><td>&hellip;</td><td>&quot;NA&quot;</td><td>-750</td><td>8.65255</td><td>6.103889</td><td>238</td><td>238.0</td><td>-1</td><td>0.0</td><td>7</td><td>8</td><td>-1</td><td>&quot;N&quot;</td><td>0</td><td>0</td><td>0</td><td>0</td><td>0</td><td>0</td><td>&quot;NA&quot;</td><td>&quot;Plug-in Hybrid&quot;</td><td>&quot;NA&quot;</td><td>&quot;NA&quot;</td><td>true</td><td>&quot;NA&quot;</td><td>&quot;NA&quot;</td><td>0</td><td>3.0</td><td>0.0</td><td>29</td><td>32</td><td>30</td><td>0</td><td>0.0</td><td>0.0</td><td>&quot;NA&quot;</td><td>13.84</td><td>13.3</td></tr><tr><td>37687</td><td>2017</td><td>&quot;Volvo&quot;</td><td>&quot;XC90 FWD&quot;</td><td>&quot;Standard Sport Utility Vehicle…</td><td>&quot;Front-Wheel Drive&quot;</td><td>&quot;Automatic (S8)&quot;</td><td>&quot;NA&quot;</td><td>50</td><td>&quot;SIDI&quot;</td><td>&quot;4&quot;</td><td>&quot;2&quot;</td><td>&quot;TRUE&quot;</td><td>&quot;NA&quot;</td><td>&quot;Premium&quot;</td><td>&quot;Premium Gasoline&quot;</td><td>&quot;NA&quot;</td><td>22</td><td>22.1</td><td>0</td><td>0.0</td><td>0.0</td><td>0.0</td><td>0.0</td><td>26</td><td>25.8</td><td>0</td><td>0.0</td><td>0.0</td><td>0.0</td><td>0.0</td><td>28.1</td><td>41.7</td><td>0.0</td><td>0.0</td><td>24</td><td>23.6246</td><td>&hellip;</td><td>&quot;NA&quot;</td><td>-2000</td><td>13.73375</td><td>0.0</td><td>373</td><td>373.0</td><td>-1</td><td>0.0</td><td>5</td><td>5</td><td>-1</td><td>&quot;N&quot;</td><td>0</td><td>0</td><td>0</td><td>0</td><td>0</td><td>0</td><td>&quot;NA&quot;</td><td>&quot;NA&quot;</td><td>&quot;NA&quot;</td><td>&quot;NA&quot;</td><td>false</td><td>&quot;NA&quot;</td><td>&quot;NA&quot;</td><td>0</td><td>0.0</td><td>0.0</td><td>0</td><td>0</td><td>0</td><td>0</td><td>0.0</td><td>0.0</td><td>&quot;NA&quot;</td><td>0.0</td><td>0.0</td></tr></tbody></table></div>"
      ],
      "text/plain": [
       "shape: (38_113, 81)\n",
       "┌────────────┬──────┬────────────┬────────────┬───┬────────────┬───────────┬───────────┬───────────┐\n",
       "│ vehicle_id ┆ year ┆ make       ┆ model      ┆ … ┆ highway_ra ┆ range_ft2 ┆ city_rang ┆ highway_r │\n",
       "│ ---        ┆ ---  ┆ ---        ┆ ---        ┆   ┆ nge_ft1    ┆ ---       ┆ e_ft2     ┆ ange_ft2  │\n",
       "│ i64        ┆ i64  ┆ str        ┆ str        ┆   ┆ ---        ┆ str       ┆ ---       ┆ ---       │\n",
       "│            ┆      ┆            ┆            ┆   ┆ f64        ┆           ┆ f64       ┆ f64       │\n",
       "╞════════════╪══════╪════════════╪════════════╪═══╪════════════╪═══════════╪═══════════╪═══════════╡\n",
       "│ 26587      ┆ 1984 ┆ Alfa Romeo ┆ GT V6 2.5  ┆ … ┆ 0.0        ┆ NA        ┆ 0.0       ┆ 0.0       │\n",
       "│ 27705      ┆ 1984 ┆ Alfa Romeo ┆ GT V6 2.5  ┆ … ┆ 0.0        ┆ NA        ┆ 0.0       ┆ 0.0       │\n",
       "│ 26561      ┆ 1984 ┆ Alfa Romeo ┆ Spider     ┆ … ┆ 0.0        ┆ NA        ┆ 0.0       ┆ 0.0       │\n",
       "│            ┆      ┆            ┆ Veloce     ┆   ┆            ┆           ┆           ┆           │\n",
       "│            ┆      ┆            ┆ 2000       ┆   ┆            ┆           ┆           ┆           │\n",
       "│ 27681      ┆ 1984 ┆ Alfa Romeo ┆ Spider     ┆ … ┆ 0.0        ┆ NA        ┆ 0.0       ┆ 0.0       │\n",
       "│            ┆      ┆            ┆ Veloce     ┆   ┆            ┆           ┆           ┆           │\n",
       "│            ┆      ┆            ┆ 2000       ┆   ┆            ┆           ┆           ┆           │\n",
       "│ 27550      ┆ 1984 ┆ AM General ┆ DJ Po      ┆ … ┆ 0.0        ┆ NA        ┆ 0.0       ┆ 0.0       │\n",
       "│            ┆      ┆            ┆ Vehicle    ┆   ┆            ┆           ┆           ┆           │\n",
       "│            ┆      ┆            ┆ 2WD        ┆   ┆            ┆           ┆           ┆           │\n",
       "│ …          ┆ …    ┆ …          ┆ …          ┆ … ┆ …          ┆ …         ┆ …         ┆ …         │\n",
       "│ 37564      ┆ 2017 ┆ Volvo      ┆ XC60 FWD   ┆ … ┆ 0.0        ┆ NA        ┆ 0.0       ┆ 0.0       │\n",
       "│ 37547      ┆ 2017 ┆ Volvo      ┆ XC90 AWD   ┆ … ┆ 0.0        ┆ NA        ┆ 0.0       ┆ 0.0       │\n",
       "│ 37548      ┆ 2017 ┆ Volvo      ┆ XC90 AWD   ┆ … ┆ 0.0        ┆ NA        ┆ 0.0       ┆ 0.0       │\n",
       "│ 37703      ┆ 2017 ┆ Volvo      ┆ XC90 AWD   ┆ … ┆ 0.0        ┆ NA        ┆ 13.84     ┆ 13.3      │\n",
       "│            ┆      ┆            ┆ PHEV       ┆   ┆            ┆           ┆           ┆           │\n",
       "│ 37687      ┆ 2017 ┆ Volvo      ┆ XC90 FWD   ┆ … ┆ 0.0        ┆ NA        ┆ 0.0       ┆ 0.0       │\n",
       "└────────────┴──────┴────────────┴────────────┴───┴────────────┴───────────┴───────────┴───────────┘"
      ]
     },
     "metadata": {},
     "output_type": "display_data"
    }
   ],
   "source": [
    "df = pl.DataFrame(\n",
    "    {\n",
    "        'nombre': ['jose', 'juana', 'katia', 'pedro', 'jose'],\n",
    "        'edad': [30, 34, None, 45, 30],\n",
    "        'sexo': ['M', 'F', None, None, 'M']\n",
    "    }\n",
    ")\n",
    "\n",
    "display(df)\n",
    "\n",
    "fuel = pl.read_csv('./data/fuel.csv', infer_schema_length=100000)\n",
    "\n",
    "display(fuel)"
   ]
  },
  {
   "cell_type": "markdown",
   "id": "fa6f071a-2077-42f1-b50c-6cc338a447a5",
   "metadata": {},
   "source": [
    "### Obtener estadísticas generales del DataFrame"
   ]
  },
  {
   "cell_type": "code",
   "execution_count": 3,
   "id": "e8b88937-4a68-4fd2-b476-22a0f6072622",
   "metadata": {
    "tags": []
   },
   "outputs": [
    {
     "data": {
      "text/html": [
       "<div><style>\n",
       ".dataframe > thead > tr,\n",
       ".dataframe > tbody > tr {\n",
       "  text-align: right;\n",
       "  white-space: pre-wrap;\n",
       "}\n",
       "</style>\n",
       "<small>shape: (9, 82)</small><table border=\"1\" class=\"dataframe\"><thead><tr><th>statistic</th><th>vehicle_id</th><th>year</th><th>make</th><th>model</th><th>class</th><th>drive</th><th>transmission</th><th>transmission_type</th><th>engine_index</th><th>engine_descriptor</th><th>engine_cylinders</th><th>engine_displacement</th><th>turbocharger</th><th>supercharger</th><th>fuel_type</th><th>fuel_type_1</th><th>fuel_type_2</th><th>city_mpg_ft1</th><th>unrounded_city_mpg_ft1</th><th>city_mpg_ft2</th><th>unrounded_city_mpg_ft2</th><th>city_gasoline_consumption_cd</th><th>city_electricity_consumption</th><th>city_utility_factor</th><th>highway_mpg_ft1</th><th>unrounded_highway_mpg_ft1</th><th>highway_mpg_ft2</th><th>unrounded_highway_mpg_ft2</th><th>highway_gasoline_consumption_cd</th><th>highway_electricity_consumption</th><th>highway_utility_factor</th><th>unadjusted_city_mpg_ft1</th><th>unadjusted_highway_mpg_ft1</th><th>unadjusted_city_mpg_ft2</th><th>unadjusted_highway_mpg_ft2</th><th>combined_mpg_ft1</th><th>&hellip;</th><th>gas_guzzler_tax</th><th>save_or_spend_5_year</th><th>annual_consumption_in_barrels_ft1</th><th>annual_consumption_in_barrels_ft2</th><th>tailpipe_co2_ft1</th><th>tailpipe_co2_in_grams_mile_ft1</th><th>tailpipe_co2_ft2</th><th>tailpipe_co2_in_grams_mile_ft2</th><th>fuel_economy_score</th><th>ghg_score</th><th>ghg_score_alt_fuel</th><th>my_mpg_data</th><th>x2d_passenger_volume</th><th>x2d_luggage_volume</th><th>x4d_passenger_volume</th><th>x4d_luggage_volume</th><th>hatchback_passenger_volume</th><th>hatchback_luggage_volume</th><th>start_stop_technology</th><th>alternative_fuel_technology</th><th>electric_motor</th><th>manufacturer_code</th><th>gasoline_electricity_blended_cd</th><th>vehicle_charger</th><th>alternate_charger</th><th>hours_to_charge_120v</th><th>hours_to_charge_240v</th><th>hours_to_charge_ac_240v</th><th>composite_city_mpg</th><th>composite_highway_mpg</th><th>composite_combined_mpg</th><th>range_ft1</th><th>city_range_ft1</th><th>highway_range_ft1</th><th>range_ft2</th><th>city_range_ft2</th><th>highway_range_ft2</th></tr><tr><td>str</td><td>f64</td><td>f64</td><td>str</td><td>str</td><td>str</td><td>str</td><td>str</td><td>str</td><td>f64</td><td>str</td><td>str</td><td>str</td><td>str</td><td>str</td><td>str</td><td>str</td><td>str</td><td>f64</td><td>f64</td><td>f64</td><td>f64</td><td>f64</td><td>f64</td><td>f64</td><td>f64</td><td>f64</td><td>f64</td><td>f64</td><td>f64</td><td>f64</td><td>f64</td><td>f64</td><td>f64</td><td>f64</td><td>f64</td><td>f64</td><td>&hellip;</td><td>str</td><td>f64</td><td>f64</td><td>f64</td><td>f64</td><td>f64</td><td>f64</td><td>f64</td><td>f64</td><td>f64</td><td>f64</td><td>str</td><td>f64</td><td>f64</td><td>f64</td><td>f64</td><td>f64</td><td>f64</td><td>str</td><td>str</td><td>str</td><td>str</td><td>f64</td><td>str</td><td>str</td><td>f64</td><td>f64</td><td>f64</td><td>f64</td><td>f64</td><td>f64</td><td>f64</td><td>f64</td><td>f64</td><td>str</td><td>f64</td><td>f64</td></tr></thead><tbody><tr><td>&quot;count&quot;</td><td>38113.0</td><td>38113.0</td><td>&quot;38113&quot;</td><td>&quot;38113&quot;</td><td>&quot;38113&quot;</td><td>&quot;38113&quot;</td><td>&quot;38113&quot;</td><td>&quot;38113&quot;</td><td>38113.0</td><td>&quot;38113&quot;</td><td>&quot;38113&quot;</td><td>&quot;38113&quot;</td><td>&quot;38113&quot;</td><td>&quot;38113&quot;</td><td>&quot;38113&quot;</td><td>&quot;38113&quot;</td><td>&quot;38113&quot;</td><td>38113.0</td><td>38113.0</td><td>38113.0</td><td>38113.0</td><td>38113.0</td><td>38113.0</td><td>38113.0</td><td>38113.0</td><td>38113.0</td><td>38113.0</td><td>38113.0</td><td>38113.0</td><td>38113.0</td><td>38113.0</td><td>38113.0</td><td>38113.0</td><td>38113.0</td><td>38113.0</td><td>38113.0</td><td>&hellip;</td><td>&quot;38113&quot;</td><td>38113.0</td><td>38113.0</td><td>38113.0</td><td>38113.0</td><td>38113.0</td><td>38113.0</td><td>38113.0</td><td>38113.0</td><td>38113.0</td><td>38113.0</td><td>&quot;38113&quot;</td><td>38113.0</td><td>38113.0</td><td>38113.0</td><td>38113.0</td><td>38113.0</td><td>38113.0</td><td>&quot;38113&quot;</td><td>&quot;38113&quot;</td><td>&quot;38113&quot;</td><td>&quot;38113&quot;</td><td>38113.0</td><td>&quot;38113&quot;</td><td>&quot;38113&quot;</td><td>38113.0</td><td>38113.0</td><td>38113.0</td><td>38113.0</td><td>38113.0</td><td>38113.0</td><td>38113.0</td><td>38113.0</td><td>38113.0</td><td>&quot;38113&quot;</td><td>38113.0</td><td>38113.0</td></tr><tr><td>&quot;null_count&quot;</td><td>0.0</td><td>0.0</td><td>&quot;0&quot;</td><td>&quot;0&quot;</td><td>&quot;0&quot;</td><td>&quot;0&quot;</td><td>&quot;0&quot;</td><td>&quot;0&quot;</td><td>0.0</td><td>&quot;0&quot;</td><td>&quot;0&quot;</td><td>&quot;0&quot;</td><td>&quot;0&quot;</td><td>&quot;0&quot;</td><td>&quot;0&quot;</td><td>&quot;0&quot;</td><td>&quot;0&quot;</td><td>0.0</td><td>0.0</td><td>0.0</td><td>0.0</td><td>0.0</td><td>0.0</td><td>0.0</td><td>0.0</td><td>0.0</td><td>0.0</td><td>0.0</td><td>0.0</td><td>0.0</td><td>0.0</td><td>0.0</td><td>0.0</td><td>0.0</td><td>0.0</td><td>0.0</td><td>&hellip;</td><td>&quot;0&quot;</td><td>0.0</td><td>0.0</td><td>0.0</td><td>0.0</td><td>0.0</td><td>0.0</td><td>0.0</td><td>0.0</td><td>0.0</td><td>0.0</td><td>&quot;0&quot;</td><td>0.0</td><td>0.0</td><td>0.0</td><td>0.0</td><td>0.0</td><td>0.0</td><td>&quot;0&quot;</td><td>&quot;0&quot;</td><td>&quot;0&quot;</td><td>&quot;0&quot;</td><td>0.0</td><td>&quot;0&quot;</td><td>&quot;0&quot;</td><td>0.0</td><td>0.0</td><td>0.0</td><td>0.0</td><td>0.0</td><td>0.0</td><td>0.0</td><td>0.0</td><td>0.0</td><td>&quot;0&quot;</td><td>0.0</td><td>0.0</td></tr><tr><td>&quot;mean&quot;</td><td>19170.638496</td><td>2000.194527</td><td>null</td><td>null</td><td>null</td><td>null</td><td>null</td><td>null</td><td>8799.389001</td><td>null</td><td>null</td><td>null</td><td>null</td><td>null</td><td>null</td><td>null</td><td>null</td><td>17.981109</td><td>4.606426</td><td>0.546218</td><td>0.386633</td><td>0.000432</td><td>0.205802</td><td>0.000828</td><td>24.080786</td><td>6.131892</td><td>0.711437</td><td>0.491544</td><td>0.000236</td><td>0.219221</td><td>0.000792</td><td>22.65339</td><td>33.677988</td><td>0.688632</td><td>0.972516</td><td>20.216068</td><td>&hellip;</td><td>null</td><td>-3101.750059</td><td>17.517635</td><td>0.218184</td><td>64.281794</td><td>472.761382</td><td>5.276677</td><td>17.853074</td><td>0.005457</td><td>0.004802</td><td>-0.926849</td><td>null</td><td>13.686905</td><td>1.846745</td><td>33.770472</td><td>6.153858</td><td>10.413035</td><td>2.028337</td><td>null</td><td>null</td><td>null</td><td>null</td><td>0.001181</td><td>null</td><td>null</td><td>0.0</td><td>0.027635</td><td>0.005549</td><td>0.082203</td><td>0.080891</td><td>0.081311</td><td>0.469708</td><td>0.426249</td><td>0.419197</td><td>null</td><td>0.043973</td><td>0.040051</td></tr><tr><td>&quot;std&quot;</td><td>11134.878665</td><td>10.464573</td><td>null</td><td>null</td><td>null</td><td>null</td><td>null</td><td>null</td><td>17781.05849</td><td>null</td><td>null</td><td>null</td><td>null</td><td>null</td><td>null</td><td>null</td><td>null</td><td>6.849728</td><td>10.113963</td><td>4.109282</td><td>3.861179</td><td>0.039976</td><td>3.043951</td><td>0.021113</td><td>7.026649</td><td>12.364612</td><td>4.515554</td><td>4.120152</td><td>0.029477</td><td>3.218547</td><td>0.0202</td><td>9.650185</td><td>10.233036</td><td>5.682309</td><td>6.378065</td><td>6.772655</td><td>&hellip;</td><td>null</td><td>2664.984809</td><td>4.577019</td><td>1.143768</td><td>156.148536</td><td>122.200358</td><td>54.964666</td><td>94.156241</td><td>2.418697</td><td>2.417402</td><td>0.640151</td><td>null</td><td>31.258711</td><td>4.426373</td><td>45.925292</td><td>9.722525</td><td>28.141638</td><td>5.957147</td><td>null</td><td>null</td><td>null</td><td>null</td><td>null</td><td>null</td><td>null</td><td>0.0</td><td>0.473685</td><td>0.161014</td><td>2.156682</td><td>2.052187</td><td>2.097794</td><td>9.352069</td><td>9.104702</td><td>9.315914</td><td>null</td><td>1.311628</td><td>1.169281</td></tr><tr><td>&quot;min&quot;</td><td>1.0</td><td>1984.0</td><td>&quot;AM General&quot;</td><td>&quot;1-Ton Truck 2WD&quot;</td><td>&quot;Compact Cars&quot;</td><td>&quot;2-Wheel Drive&quot;</td><td>&quot;Auto (AV)&quot;</td><td>&quot;2LKUP&quot;</td><td>0.0</td><td>&quot;(121)      (FFS)&quot;</td><td>&quot;10&quot;</td><td>&quot;0&quot;</td><td>&quot;NA&quot;</td><td>&quot;NA&quot;</td><td>&quot;CNG&quot;</td><td>&quot;Diesel&quot;</td><td>&quot;NA&quot;</td><td>6.0</td><td>0.0</td><td>0.0</td><td>0.0</td><td>0.0</td><td>0.0</td><td>0.0</td><td>9.0</td><td>0.0</td><td>0.0</td><td>0.0</td><td>0.0</td><td>0.0</td><td>0.0</td><td>0.0</td><td>0.0</td><td>0.0</td><td>0.0</td><td>7.0</td><td>&hellip;</td><td>&quot;NA&quot;</td><td>-23500.0</td><td>0.06</td><td>0.0</td><td>-1.0</td><td>0.0</td><td>-1.0</td><td>0.0</td><td>-1.0</td><td>-1.0</td><td>-1.0</td><td>&quot;N&quot;</td><td>0.0</td><td>0.0</td><td>0.0</td><td>0.0</td><td>0.0</td><td>0.0</td><td>&quot;NA&quot;</td><td>&quot;Bifuel (CNG)&quot;</td><td>&quot;NA&quot;</td><td>&quot;NA&quot;</td><td>0.0</td><td>&quot;NA&quot;</td><td>&quot;NA&quot;</td><td>0.0</td><td>0.0</td><td>0.0</td><td>0.0</td><td>0.0</td><td>0.0</td><td>0.0</td><td>0.0</td><td>0.0</td><td>&quot;NA&quot;</td><td>0.0</td><td>0.0</td></tr><tr><td>&quot;25%&quot;</td><td>9529.0</td><td>1991.0</td><td>null</td><td>null</td><td>null</td><td>null</td><td>null</td><td>null</td><td>0.0</td><td>null</td><td>null</td><td>null</td><td>null</td><td>null</td><td>null</td><td>null</td><td>null</td><td>15.0</td><td>0.0</td><td>0.0</td><td>0.0</td><td>0.0</td><td>0.0</td><td>0.0</td><td>20.0</td><td>0.0</td><td>0.0</td><td>0.0</td><td>0.0</td><td>0.0</td><td>0.0</td><td>18.0</td><td>27.1174</td><td>0.0</td><td>0.0</td><td>17.0</td><td>&hellip;</td><td>null</td><td>-5000.0</td><td>14.33087</td><td>0.0</td><td>-1.0</td><td>388.0</td><td>-1.0</td><td>0.0</td><td>-1.0</td><td>-1.0</td><td>-1.0</td><td>null</td><td>0.0</td><td>0.0</td><td>0.0</td><td>0.0</td><td>0.0</td><td>0.0</td><td>null</td><td>null</td><td>null</td><td>null</td><td>null</td><td>null</td><td>null</td><td>0.0</td><td>0.0</td><td>0.0</td><td>0.0</td><td>0.0</td><td>0.0</td><td>0.0</td><td>0.0</td><td>0.0</td><td>null</td><td>0.0</td><td>0.0</td></tr><tr><td>&quot;50%&quot;</td><td>19058.0</td><td>2001.0</td><td>null</td><td>null</td><td>null</td><td>null</td><td>null</td><td>null</td><td>212.0</td><td>null</td><td>null</td><td>null</td><td>null</td><td>null</td><td>null</td><td>null</td><td>null</td><td>17.0</td><td>0.0</td><td>0.0</td><td>0.0</td><td>0.0</td><td>0.0</td><td>0.0</td><td>24.0</td><td>0.0</td><td>0.0</td><td>0.0</td><td>0.0</td><td>0.0</td><td>0.0</td><td>21.0489</td><td>33.0</td><td>0.0</td><td>0.0</td><td>19.0</td><td>&hellip;</td><td>null</td><td>-3000.0</td><td>17.347895</td><td>0.0</td><td>-1.0</td><td>467.736842</td><td>-1.0</td><td>0.0</td><td>-1.0</td><td>-1.0</td><td>-1.0</td><td>null</td><td>0.0</td><td>0.0</td><td>0.0</td><td>0.0</td><td>0.0</td><td>0.0</td><td>null</td><td>null</td><td>null</td><td>null</td><td>null</td><td>null</td><td>null</td><td>0.0</td><td>0.0</td><td>0.0</td><td>0.0</td><td>0.0</td><td>0.0</td><td>0.0</td><td>0.0</td><td>0.0</td><td>null</td><td>0.0</td><td>0.0</td></tr><tr><td>&quot;75%&quot;</td><td>28779.0</td><td>2009.0</td><td>null</td><td>null</td><td>null</td><td>null</td><td>null</td><td>null</td><td>4451.0</td><td>null</td><td>null</td><td>null</td><td>null</td><td>null</td><td>null</td><td>null</td><td>null</td><td>20.0</td><td>0.0</td><td>0.0</td><td>0.0</td><td>0.0</td><td>0.0</td><td>0.0</td><td>27.0</td><td>0.0</td><td>0.0</td><td>0.0</td><td>0.0</td><td>0.0</td><td>0.0</td><td>25.2</td><td>38.2</td><td>0.0</td><td>0.0</td><td>23.0</td><td>&hellip;</td><td>null</td><td>-1250.0</td><td>20.600625</td><td>0.0</td><td>-1.0</td><td>555.4375</td><td>-1.0</td><td>0.0</td><td>-1.0</td><td>-1.0</td><td>-1.0</td><td>null</td><td>0.0</td><td>0.0</td><td>91.0</td><td>13.0</td><td>0.0</td><td>0.0</td><td>null</td><td>null</td><td>null</td><td>null</td><td>null</td><td>null</td><td>null</td><td>0.0</td><td>0.0</td><td>0.0</td><td>0.0</td><td>0.0</td><td>0.0</td><td>0.0</td><td>0.0</td><td>0.0</td><td>null</td><td>0.0</td><td>0.0</td></tr><tr><td>&quot;max&quot;</td><td>38542.0</td><td>2017.0</td><td>&quot;smart&quot;</td><td>&quot;xD&quot;</td><td>&quot;Vans, Passenger Type&quot;</td><td>&quot;Rear-Wheel Drive&quot;</td><td>&quot;NA&quot;</td><td>&quot;fuel injection&quot;</td><td>69102.0</td><td>&quot;new body style&quot;</td><td>&quot;NA&quot;</td><td>&quot;NA&quot;</td><td>&quot;TRUE&quot;</td><td>&quot;NA&quot;</td><td>&quot;Regular Gas or Electricity&quot;</td><td>&quot;Regular Gasoline&quot;</td><td>&quot;NA&quot;</td><td>150.0</td><td>150.0</td><td>145.0</td><td>145.0835</td><td>5.35</td><td>122.0</td><td>0.896</td><td>122.0</td><td>122.0</td><td>121.0</td><td>121.2005</td><td>4.06</td><td>120.0</td><td>0.877</td><td>224.8</td><td>182.7</td><td>207.2622</td><td>173.1436</td><td>136.0</td><td>&hellip;</td><td>&quot;TRUE&quot;</td><td>4250.0</td><td>47.087143</td><td>18.311667</td><td>847.0</td><td>1269.571429</td><td>713.0</td><td>713.0</td><td>10.0</td><td>10.0</td><td>8.0</td><td>&quot;Y&quot;</td><td>194.0</td><td>41.0</td><td>192.0</td><td>55.0</td><td>195.0</td><td>49.0</td><td>&quot;NA&quot;</td><td>&quot;Plug-in Hybrid&quot;</td><td>&quot;NA&quot;</td><td>&quot;NA&quot;</td><td>1.0</td><td>&quot;NA&quot;</td><td>&quot;NA&quot;</td><td>0.0</td><td>12.0</td><td>7.0</td><td>97.0</td><td>81.0</td><td>88.0</td><td>315.0</td><td>305.9</td><td>346.9</td><td>&quot;NA&quot;</td><td>103.03</td><td>90.55</td></tr></tbody></table></div>"
      ],
      "text/plain": [
       "shape: (9, 82)\n",
       "┌───────────┬───────────┬───────────┬───────────┬───┬───────────┬───────────┬───────────┬──────────┐\n",
       "│ statistic ┆ vehicle_i ┆ year      ┆ make      ┆ … ┆ highway_r ┆ range_ft2 ┆ city_rang ┆ highway_ │\n",
       "│ ---       ┆ d         ┆ ---       ┆ ---       ┆   ┆ ange_ft1  ┆ ---       ┆ e_ft2     ┆ range_ft │\n",
       "│ str       ┆ ---       ┆ f64       ┆ str       ┆   ┆ ---       ┆ str       ┆ ---       ┆ 2        │\n",
       "│           ┆ f64       ┆           ┆           ┆   ┆ f64       ┆           ┆ f64       ┆ ---      │\n",
       "│           ┆           ┆           ┆           ┆   ┆           ┆           ┆           ┆ f64      │\n",
       "╞═══════════╪═══════════╪═══════════╪═══════════╪═══╪═══════════╪═══════════╪═══════════╪══════════╡\n",
       "│ count     ┆ 38113.0   ┆ 38113.0   ┆ 38113     ┆ … ┆ 38113.0   ┆ 38113     ┆ 38113.0   ┆ 38113.0  │\n",
       "│ null_coun ┆ 0.0       ┆ 0.0       ┆ 0         ┆ … ┆ 0.0       ┆ 0         ┆ 0.0       ┆ 0.0      │\n",
       "│ t         ┆           ┆           ┆           ┆   ┆           ┆           ┆           ┆          │\n",
       "│ mean      ┆ 19170.638 ┆ 2000.1945 ┆ null      ┆ … ┆ 0.419197  ┆ null      ┆ 0.043973  ┆ 0.040051 │\n",
       "│           ┆ 496       ┆ 27        ┆           ┆   ┆           ┆           ┆           ┆          │\n",
       "│ std       ┆ 11134.878 ┆ 10.464573 ┆ null      ┆ … ┆ 9.315914  ┆ null      ┆ 1.311628  ┆ 1.169281 │\n",
       "│           ┆ 665       ┆           ┆           ┆   ┆           ┆           ┆           ┆          │\n",
       "│ min       ┆ 1.0       ┆ 1984.0    ┆ AM        ┆ … ┆ 0.0       ┆ NA        ┆ 0.0       ┆ 0.0      │\n",
       "│           ┆           ┆           ┆ General   ┆   ┆           ┆           ┆           ┆          │\n",
       "│ 25%       ┆ 9529.0    ┆ 1991.0    ┆ null      ┆ … ┆ 0.0       ┆ null      ┆ 0.0       ┆ 0.0      │\n",
       "│ 50%       ┆ 19058.0   ┆ 2001.0    ┆ null      ┆ … ┆ 0.0       ┆ null      ┆ 0.0       ┆ 0.0      │\n",
       "│ 75%       ┆ 28779.0   ┆ 2009.0    ┆ null      ┆ … ┆ 0.0       ┆ null      ┆ 0.0       ┆ 0.0      │\n",
       "│ max       ┆ 38542.0   ┆ 2017.0    ┆ smart     ┆ … ┆ 346.9     ┆ NA        ┆ 103.03    ┆ 90.55    │\n",
       "└───────────┴───────────┴───────────┴───────────┴───┴───────────┴───────────┴───────────┴──────────┘"
      ]
     },
     "execution_count": 3,
     "metadata": {},
     "output_type": "execute_result"
    }
   ],
   "source": [
    "fuel.describe()"
   ]
  },
  {
   "cell_type": "markdown",
   "id": "83aa606b-c802-4e1e-ac91-804f9e94e91d",
   "metadata": {},
   "source": [
    "### Valores únicos"
   ]
  },
  {
   "cell_type": "markdown",
   "id": "61f03534-8d36-4ca5-a865-b62b37a907a6",
   "metadata": {},
   "source": [
    "#### Conteo aproximado"
   ]
  },
  {
   "cell_type": "code",
   "execution_count": 5,
   "id": "f21a0a1b-71df-46ce-8037-897a59b9d7ea",
   "metadata": {
    "tags": []
   },
   "outputs": [
    {
     "data": {
      "text/html": [
       "<div><style>\n",
       ".dataframe > thead > tr,\n",
       ".dataframe > tbody > tr {\n",
       "  text-align: right;\n",
       "  white-space: pre-wrap;\n",
       "}\n",
       "</style>\n",
       "<small>shape: (1, 81)</small><table border=\"1\" class=\"dataframe\"><thead><tr><th>vehicle_id</th><th>year</th><th>make</th><th>model</th><th>class</th><th>drive</th><th>transmission</th><th>transmission_type</th><th>engine_index</th><th>engine_descriptor</th><th>engine_cylinders</th><th>engine_displacement</th><th>turbocharger</th><th>supercharger</th><th>fuel_type</th><th>fuel_type_1</th><th>fuel_type_2</th><th>city_mpg_ft1</th><th>unrounded_city_mpg_ft1</th><th>city_mpg_ft2</th><th>unrounded_city_mpg_ft2</th><th>city_gasoline_consumption_cd</th><th>city_electricity_consumption</th><th>city_utility_factor</th><th>highway_mpg_ft1</th><th>unrounded_highway_mpg_ft1</th><th>highway_mpg_ft2</th><th>unrounded_highway_mpg_ft2</th><th>highway_gasoline_consumption_cd</th><th>highway_electricity_consumption</th><th>highway_utility_factor</th><th>unadjusted_city_mpg_ft1</th><th>unadjusted_highway_mpg_ft1</th><th>unadjusted_city_mpg_ft2</th><th>unadjusted_highway_mpg_ft2</th><th>combined_mpg_ft1</th><th>unrounded_combined_mpg_ft1</th><th>&hellip;</th><th>gas_guzzler_tax</th><th>save_or_spend_5_year</th><th>annual_consumption_in_barrels_ft1</th><th>annual_consumption_in_barrels_ft2</th><th>tailpipe_co2_ft1</th><th>tailpipe_co2_in_grams_mile_ft1</th><th>tailpipe_co2_ft2</th><th>tailpipe_co2_in_grams_mile_ft2</th><th>fuel_economy_score</th><th>ghg_score</th><th>ghg_score_alt_fuel</th><th>my_mpg_data</th><th>x2d_passenger_volume</th><th>x2d_luggage_volume</th><th>x4d_passenger_volume</th><th>x4d_luggage_volume</th><th>hatchback_passenger_volume</th><th>hatchback_luggage_volume</th><th>start_stop_technology</th><th>alternative_fuel_technology</th><th>electric_motor</th><th>manufacturer_code</th><th>gasoline_electricity_blended_cd</th><th>vehicle_charger</th><th>alternate_charger</th><th>hours_to_charge_120v</th><th>hours_to_charge_240v</th><th>hours_to_charge_ac_240v</th><th>composite_city_mpg</th><th>composite_highway_mpg</th><th>composite_combined_mpg</th><th>range_ft1</th><th>city_range_ft1</th><th>highway_range_ft1</th><th>range_ft2</th><th>city_range_ft2</th><th>highway_range_ft2</th></tr><tr><td>u32</td><td>u32</td><td>u32</td><td>u32</td><td>u32</td><td>u32</td><td>u32</td><td>u32</td><td>u32</td><td>u32</td><td>u32</td><td>u32</td><td>u32</td><td>u32</td><td>u32</td><td>u32</td><td>u32</td><td>u32</td><td>u32</td><td>u32</td><td>u32</td><td>u32</td><td>u32</td><td>u32</td><td>u32</td><td>u32</td><td>u32</td><td>u32</td><td>u32</td><td>u32</td><td>u32</td><td>u32</td><td>u32</td><td>u32</td><td>u32</td><td>u32</td><td>u32</td><td>&hellip;</td><td>u32</td><td>u32</td><td>u32</td><td>u32</td><td>u32</td><td>u32</td><td>u32</td><td>u32</td><td>u32</td><td>u32</td><td>u32</td><td>u32</td><td>u32</td><td>u32</td><td>u32</td><td>u32</td><td>u32</td><td>u32</td><td>u32</td><td>u32</td><td>u32</td><td>u32</td><td>u32</td><td>u32</td><td>u32</td><td>u32</td><td>u32</td><td>u32</td><td>u32</td><td>u32</td><td>u32</td><td>u32</td><td>u32</td><td>u32</td><td>u32</td><td>u32</td><td>u32</td></tr></thead><tbody><tr><td>38390</td><td>34</td><td>133</td><td>3738</td><td>34</td><td>8</td><td>47</td><td>53</td><td>2642</td><td>548</td><td>10</td><td>67</td><td>2</td><td>1</td><td>14</td><td>6</td><td>1</td><td>93</td><td>3130</td><td>46</td><td>422</td><td>9</td><td>61</td><td>41</td><td>82</td><td>3287</td><td>49</td><td>435</td><td>7</td><td>51</td><td>39</td><td>6646</td><td>6899</td><td>456</td><td>511</td><td>84</td><td>4433</td><td>&hellip;</td><td>2</td><td>61</td><td>166</td><td>57</td><td>505</td><td>591</td><td>182</td><td>201</td><td>11</td><td>11</td><td>10</td><td>2</td><td>67</td><td>29</td><td>76</td><td>52</td><td>52</td><td>40</td><td>1</td><td>9</td><td>1</td><td>1</td><td>2</td><td>1</td><td>1</td><td>1</td><td>22</td><td>7</td><td>27</td><td>31</td><td>28</td><td>56</td><td>51</td><td>52</td><td>1</td><td>41</td><td>40</td></tr></tbody></table></div>"
      ],
      "text/plain": [
       "shape: (1, 81)\n",
       "┌────────────┬──────┬──────┬───────┬───┬───────────────┬───────────┬───────────────┬───────────────┐\n",
       "│ vehicle_id ┆ year ┆ make ┆ model ┆ … ┆ highway_range ┆ range_ft2 ┆ city_range_ft ┆ highway_range │\n",
       "│ ---        ┆ ---  ┆ ---  ┆ ---   ┆   ┆ _ft1          ┆ ---       ┆ 2             ┆ _ft2          │\n",
       "│ u32        ┆ u32  ┆ u32  ┆ u32   ┆   ┆ ---           ┆ u32       ┆ ---           ┆ ---           │\n",
       "│            ┆      ┆      ┆       ┆   ┆ u32           ┆           ┆ u32           ┆ u32           │\n",
       "╞════════════╪══════╪══════╪═══════╪═══╪═══════════════╪═══════════╪═══════════════╪═══════════════╡\n",
       "│ 38390      ┆ 34   ┆ 133  ┆ 3738  ┆ … ┆ 52            ┆ 1         ┆ 41            ┆ 40            │\n",
       "└────────────┴──────┴──────┴───────┴───┴───────────────┴───────────┴───────────────┴───────────────┘"
      ]
     },
     "execution_count": 5,
     "metadata": {},
     "output_type": "execute_result"
    }
   ],
   "source": [
    "fuel.select(\n",
    "    pl.all().approx_n_unique()\n",
    ")"
   ]
  },
  {
   "cell_type": "markdown",
   "id": "51b9fc7d-19d2-4700-be80-417d3fbf4a50",
   "metadata": {},
   "source": [
    "#### Conteo de filas únicas"
   ]
  },
  {
   "cell_type": "code",
   "execution_count": 6,
   "id": "2d95a7cd-4d37-44b9-838c-f987a40b7425",
   "metadata": {
    "tags": []
   },
   "outputs": [
    {
     "data": {
      "text/plain": [
       "38113"
      ]
     },
     "execution_count": 6,
     "metadata": {},
     "output_type": "execute_result"
    }
   ],
   "source": [
    "fuel.n_unique()"
   ]
  },
  {
   "cell_type": "markdown",
   "id": "87f98808-f246-440e-a347-37d73ad261fe",
   "metadata": {
    "tags": []
   },
   "source": [
    "Para mostrar las siguientes funciones vamos a utilizar el DataFrame que hemos creado de forma manual al inicio."
   ]
  },
  {
   "cell_type": "markdown",
   "id": "06f655a5-82b8-4e25-889a-5501b51b2273",
   "metadata": {},
   "source": [
    "#### Verificar si una fila es única"
   ]
  },
  {
   "cell_type": "code",
   "execution_count": 7,
   "id": "5e7696b2-5d94-47dd-995f-c63a7c703fc0",
   "metadata": {
    "tags": []
   },
   "outputs": [
    {
     "data": {
      "text/html": [
       "<div><style>\n",
       ".dataframe > thead > tr,\n",
       ".dataframe > tbody > tr {\n",
       "  text-align: right;\n",
       "  white-space: pre-wrap;\n",
       "}\n",
       "</style>\n",
       "<small>shape: (5,)</small><table border=\"1\" class=\"dataframe\"><thead><tr><th></th></tr><tr><td>bool</td></tr></thead><tbody><tr><td>false</td></tr><tr><td>true</td></tr><tr><td>true</td></tr><tr><td>true</td></tr><tr><td>false</td></tr></tbody></table></div>"
      ],
      "text/plain": [
       "shape: (5,)\n",
       "Series: '' [bool]\n",
       "[\n",
       "\tfalse\n",
       "\ttrue\n",
       "\ttrue\n",
       "\ttrue\n",
       "\tfalse\n",
       "]"
      ]
     },
     "execution_count": 7,
     "metadata": {},
     "output_type": "execute_result"
    }
   ],
   "source": [
    "df.is_unique()"
   ]
  },
  {
   "cell_type": "code",
   "execution_count": 8,
   "id": "a1504b56-fe7f-4815-9d07-e6a75798ee5e",
   "metadata": {
    "tags": []
   },
   "outputs": [
    {
     "data": {
      "text/html": [
       "<div><style>\n",
       ".dataframe > thead > tr,\n",
       ".dataframe > tbody > tr {\n",
       "  text-align: right;\n",
       "  white-space: pre-wrap;\n",
       "}\n",
       "</style>\n",
       "<small>shape: (3, 3)</small><table border=\"1\" class=\"dataframe\"><thead><tr><th>nombre</th><th>edad</th><th>sexo</th></tr><tr><td>str</td><td>i64</td><td>str</td></tr></thead><tbody><tr><td>&quot;juana&quot;</td><td>34</td><td>&quot;F&quot;</td></tr><tr><td>&quot;katia&quot;</td><td>null</td><td>null</td></tr><tr><td>&quot;pedro&quot;</td><td>45</td><td>null</td></tr></tbody></table></div>"
      ],
      "text/plain": [
       "shape: (3, 3)\n",
       "┌────────┬──────┬──────┐\n",
       "│ nombre ┆ edad ┆ sexo │\n",
       "│ ---    ┆ ---  ┆ ---  │\n",
       "│ str    ┆ i64  ┆ str  │\n",
       "╞════════╪══════╪══════╡\n",
       "│ juana  ┆ 34   ┆ F    │\n",
       "│ katia  ┆ null ┆ null │\n",
       "│ pedro  ┆ 45   ┆ null │\n",
       "└────────┴──────┴──────┘"
      ]
     },
     "execution_count": 8,
     "metadata": {},
     "output_type": "execute_result"
    }
   ],
   "source": [
    "# Con esta función podemos filtar la filas únicas del DataFrame\n",
    "\n",
    "df.filter(df.is_unique())"
   ]
  },
  {
   "cell_type": "markdown",
   "id": "fe2fe62f-59a1-469f-b6e2-a60f2d0fd13a",
   "metadata": {},
   "source": [
    "#### Filas duplicadas"
   ]
  },
  {
   "cell_type": "code",
   "execution_count": 9,
   "id": "61746ee9-397a-4de4-8eb8-2053d0413d34",
   "metadata": {
    "tags": []
   },
   "outputs": [
    {
     "data": {
      "text/html": [
       "<div><style>\n",
       ".dataframe > thead > tr,\n",
       ".dataframe > tbody > tr {\n",
       "  text-align: right;\n",
       "  white-space: pre-wrap;\n",
       "}\n",
       "</style>\n",
       "<small>shape: (5,)</small><table border=\"1\" class=\"dataframe\"><thead><tr><th></th></tr><tr><td>bool</td></tr></thead><tbody><tr><td>true</td></tr><tr><td>false</td></tr><tr><td>false</td></tr><tr><td>false</td></tr><tr><td>true</td></tr></tbody></table></div>"
      ],
      "text/plain": [
       "shape: (5,)\n",
       "Series: '' [bool]\n",
       "[\n",
       "\ttrue\n",
       "\tfalse\n",
       "\tfalse\n",
       "\tfalse\n",
       "\ttrue\n",
       "]"
      ]
     },
     "execution_count": 9,
     "metadata": {},
     "output_type": "execute_result"
    }
   ],
   "source": [
    "df.is_duplicated()"
   ]
  },
  {
   "cell_type": "code",
   "execution_count": 10,
   "id": "d0f552fb-1503-49f6-a420-f0a08d1aa11e",
   "metadata": {
    "tags": []
   },
   "outputs": [
    {
     "data": {
      "text/html": [
       "<div><style>\n",
       ".dataframe > thead > tr,\n",
       ".dataframe > tbody > tr {\n",
       "  text-align: right;\n",
       "  white-space: pre-wrap;\n",
       "}\n",
       "</style>\n",
       "<small>shape: (2, 3)</small><table border=\"1\" class=\"dataframe\"><thead><tr><th>nombre</th><th>edad</th><th>sexo</th></tr><tr><td>str</td><td>i64</td><td>str</td></tr></thead><tbody><tr><td>&quot;jose&quot;</td><td>30</td><td>&quot;M&quot;</td></tr><tr><td>&quot;jose&quot;</td><td>30</td><td>&quot;M&quot;</td></tr></tbody></table></div>"
      ],
      "text/plain": [
       "shape: (2, 3)\n",
       "┌────────┬──────┬──────┐\n",
       "│ nombre ┆ edad ┆ sexo │\n",
       "│ ---    ┆ ---  ┆ ---  │\n",
       "│ str    ┆ i64  ┆ str  │\n",
       "╞════════╪══════╪══════╡\n",
       "│ jose   ┆ 30   ┆ M    │\n",
       "│ jose   ┆ 30   ┆ M    │\n",
       "└────────┴──────┴──────┘"
      ]
     },
     "execution_count": 10,
     "metadata": {},
     "output_type": "execute_result"
    }
   ],
   "source": [
    "# Con esta función podemos filtar la filas duplicadas del DataFrame\n",
    "\n",
    "df.filter(df.is_duplicated())"
   ]
  },
  {
   "cell_type": "markdown",
   "id": "5ed3f367-1722-4684-8b8c-6bd50b9a7bdb",
   "metadata": {},
   "source": [
    "### Conteo de nulos por columnas"
   ]
  },
  {
   "cell_type": "markdown",
   "id": "61672a64-bede-48b2-ba35-d972fdfcd41d",
   "metadata": {},
   "source": [
    "La función `null_count` crea un nuevo DataFrame con el conteo de nulos de cada columna"
   ]
  },
  {
   "cell_type": "code",
   "execution_count": 11,
   "id": "7003ec8d-bb1b-4c41-83f8-0fcf51ef7492",
   "metadata": {
    "tags": []
   },
   "outputs": [
    {
     "data": {
      "text/html": [
       "<div><style>\n",
       ".dataframe > thead > tr,\n",
       ".dataframe > tbody > tr {\n",
       "  text-align: right;\n",
       "  white-space: pre-wrap;\n",
       "}\n",
       "</style>\n",
       "<small>shape: (1, 3)</small><table border=\"1\" class=\"dataframe\"><thead><tr><th>nombre</th><th>edad</th><th>sexo</th></tr><tr><td>u32</td><td>u32</td><td>u32</td></tr></thead><tbody><tr><td>0</td><td>1</td><td>2</td></tr></tbody></table></div>"
      ],
      "text/plain": [
       "shape: (1, 3)\n",
       "┌────────┬──────┬──────┐\n",
       "│ nombre ┆ edad ┆ sexo │\n",
       "│ ---    ┆ ---  ┆ ---  │\n",
       "│ u32    ┆ u32  ┆ u32  │\n",
       "╞════════╪══════╪══════╡\n",
       "│ 0      ┆ 1    ┆ 2    │\n",
       "└────────┴──────┴──────┘"
      ]
     },
     "execution_count": 11,
     "metadata": {},
     "output_type": "execute_result"
    }
   ],
   "source": [
    "df.null_count()"
   ]
  },
  {
   "cell_type": "markdown",
   "id": "bbe68cbc-31bd-420c-b395-00766e1ab5cd",
   "metadata": {},
   "source": [
    "### Estimación del tamaño total del DataFrame"
   ]
  },
  {
   "cell_type": "code",
   "execution_count": 12,
   "id": "2e9eb2be-1ac2-44da-9723-f50357a44c09",
   "metadata": {
    "tags": []
   },
   "outputs": [
    {
     "data": {
      "text/plain": [
       "22262159"
      ]
     },
     "execution_count": 12,
     "metadata": {},
     "output_type": "execute_result"
    }
   ],
   "source": [
    "fuel.estimated_size()"
   ]
  },
  {
   "cell_type": "markdown",
   "id": "e557ee97-db0a-458a-8fb3-e3a5ae2d4272",
   "metadata": {},
   "source": [
    "Por defecto la función `estimated_size` devuelve el tamaño del DataFrame en bytes, pero se puede cambiar la unidad de medida. Los valores aceptados por la función son:\n",
    "- `b` \n",
    "- `kb` \n",
    "- `mb` \n",
    "- `gb` \n",
    "- `tb`"
   ]
  },
  {
   "cell_type": "code",
   "execution_count": 13,
   "id": "91298cf5-c658-4f2d-8ab5-ab3419024470",
   "metadata": {
    "tags": []
   },
   "outputs": [
    {
     "data": {
      "text/plain": [
       "21.230849266052246"
      ]
     },
     "execution_count": 13,
     "metadata": {},
     "output_type": "execute_result"
    }
   ],
   "source": [
    "fuel.estimated_size('mb')"
   ]
  }
 ],
 "metadata": {
  "kernelspec": {
   "display_name": "Python 3 (ipykernel)",
   "language": "python",
   "name": "python3"
  },
  "language_info": {
   "codemirror_mode": {
    "name": "ipython",
    "version": 3
   },
   "file_extension": ".py",
   "mimetype": "text/x-python",
   "name": "python",
   "nbconvert_exporter": "python",
   "pygments_lexer": "ipython3",
   "version": "3.9.6"
  }
 },
 "nbformat": 4,
 "nbformat_minor": 5
}
