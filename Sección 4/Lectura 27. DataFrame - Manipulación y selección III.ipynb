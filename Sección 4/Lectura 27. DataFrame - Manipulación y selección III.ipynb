{
 "cells": [
  {
   "cell_type": "markdown",
   "id": "0a0c889f-a413-44a0-8dd9-30586d87e831",
   "metadata": {},
   "source": [
    "# Lectura 27: DataFrame - Manipulación y selección III"
   ]
  },
  {
   "cell_type": "markdown",
   "id": "739f0d24-2163-4a22-9cd0-c928c352770e",
   "metadata": {},
   "source": [
    "## `sort`\n",
    "\n",
    "Esta función ordena el DataFrame por la(s) columna(s) proporcionadas."
   ]
  },
  {
   "cell_type": "code",
   "execution_count": 1,
   "id": "0fc4308e-9820-40c2-acca-8e37ef3dff7c",
   "metadata": {
    "tags": []
   },
   "outputs": [
    {
     "data": {
      "text/html": [
       "<div><style>\n",
       ".dataframe > thead > tr,\n",
       ".dataframe > tbody > tr {\n",
       "  text-align: right;\n",
       "  white-space: pre-wrap;\n",
       "}\n",
       "</style>\n",
       "<small>shape: (5_819_079, 31)</small><table border=\"1\" class=\"dataframe\"><thead><tr><th>YEAR</th><th>MONTH</th><th>DAY</th><th>DAY_OF_WEEK</th><th>AIRLINE</th><th>FLIGHT_NUMBER</th><th>TAIL_NUMBER</th><th>ORIGIN_AIRPORT</th><th>DESTINATION_AIRPORT</th><th>SCHEDULED_DEPARTURE</th><th>DEPARTURE_TIME</th><th>DEPARTURE_DELAY</th><th>TAXI_OUT</th><th>WHEELS_OFF</th><th>SCHEDULED_TIME</th><th>ELAPSED_TIME</th><th>AIR_TIME</th><th>DISTANCE</th><th>WHEELS_ON</th><th>TAXI_IN</th><th>SCHEDULED_ARRIVAL</th><th>ARRIVAL_TIME</th><th>ARRIVAL_DELAY</th><th>DIVERTED</th><th>CANCELLED</th><th>CANCELLATION_REASON</th><th>AIR_SYSTEM_DELAY</th><th>SECURITY_DELAY</th><th>AIRLINE_DELAY</th><th>LATE_AIRCRAFT_DELAY</th><th>WEATHER_DELAY</th></tr><tr><td>i32</td><td>i32</td><td>i32</td><td>i32</td><td>str</td><td>i32</td><td>str</td><td>str</td><td>str</td><td>i32</td><td>i32</td><td>i32</td><td>i32</td><td>i32</td><td>i32</td><td>i32</td><td>i32</td><td>i32</td><td>i32</td><td>i32</td><td>i32</td><td>i32</td><td>i32</td><td>i32</td><td>i32</td><td>str</td><td>i32</td><td>i32</td><td>i32</td><td>i32</td><td>i32</td></tr></thead><tbody><tr><td>2015</td><td>1</td><td>1</td><td>4</td><td>&quot;AS&quot;</td><td>98</td><td>&quot;N407AS&quot;</td><td>&quot;ANC&quot;</td><td>&quot;SEA&quot;</td><td>5</td><td>2354</td><td>-11</td><td>21</td><td>15</td><td>205</td><td>194</td><td>169</td><td>1448</td><td>404</td><td>4</td><td>430</td><td>408</td><td>-22</td><td>0</td><td>0</td><td>null</td><td>null</td><td>null</td><td>null</td><td>null</td><td>null</td></tr><tr><td>2015</td><td>1</td><td>1</td><td>4</td><td>&quot;AA&quot;</td><td>2336</td><td>&quot;N3KUAA&quot;</td><td>&quot;LAX&quot;</td><td>&quot;PBI&quot;</td><td>10</td><td>2</td><td>-8</td><td>12</td><td>14</td><td>280</td><td>279</td><td>263</td><td>2330</td><td>737</td><td>4</td><td>750</td><td>741</td><td>-9</td><td>0</td><td>0</td><td>null</td><td>null</td><td>null</td><td>null</td><td>null</td><td>null</td></tr><tr><td>2015</td><td>1</td><td>1</td><td>4</td><td>&quot;US&quot;</td><td>840</td><td>&quot;N171US&quot;</td><td>&quot;SFO&quot;</td><td>&quot;CLT&quot;</td><td>20</td><td>18</td><td>-2</td><td>16</td><td>34</td><td>286</td><td>293</td><td>266</td><td>2296</td><td>800</td><td>11</td><td>806</td><td>811</td><td>5</td><td>0</td><td>0</td><td>null</td><td>null</td><td>null</td><td>null</td><td>null</td><td>null</td></tr><tr><td>2015</td><td>1</td><td>1</td><td>4</td><td>&quot;AA&quot;</td><td>258</td><td>&quot;N3HYAA&quot;</td><td>&quot;LAX&quot;</td><td>&quot;MIA&quot;</td><td>20</td><td>15</td><td>-5</td><td>15</td><td>30</td><td>285</td><td>281</td><td>258</td><td>2342</td><td>748</td><td>8</td><td>805</td><td>756</td><td>-9</td><td>0</td><td>0</td><td>null</td><td>null</td><td>null</td><td>null</td><td>null</td><td>null</td></tr><tr><td>2015</td><td>1</td><td>1</td><td>4</td><td>&quot;AS&quot;</td><td>135</td><td>&quot;N527AS&quot;</td><td>&quot;SEA&quot;</td><td>&quot;ANC&quot;</td><td>25</td><td>24</td><td>-1</td><td>11</td><td>35</td><td>235</td><td>215</td><td>199</td><td>1448</td><td>254</td><td>5</td><td>320</td><td>259</td><td>-21</td><td>0</td><td>0</td><td>null</td><td>null</td><td>null</td><td>null</td><td>null</td><td>null</td></tr><tr><td>&hellip;</td><td>&hellip;</td><td>&hellip;</td><td>&hellip;</td><td>&hellip;</td><td>&hellip;</td><td>&hellip;</td><td>&hellip;</td><td>&hellip;</td><td>&hellip;</td><td>&hellip;</td><td>&hellip;</td><td>&hellip;</td><td>&hellip;</td><td>&hellip;</td><td>&hellip;</td><td>&hellip;</td><td>&hellip;</td><td>&hellip;</td><td>&hellip;</td><td>&hellip;</td><td>&hellip;</td><td>&hellip;</td><td>&hellip;</td><td>&hellip;</td><td>&hellip;</td><td>&hellip;</td><td>&hellip;</td><td>&hellip;</td><td>&hellip;</td><td>&hellip;</td></tr><tr><td>2015</td><td>12</td><td>31</td><td>4</td><td>&quot;B6&quot;</td><td>688</td><td>&quot;N657JB&quot;</td><td>&quot;LAX&quot;</td><td>&quot;BOS&quot;</td><td>2359</td><td>2355</td><td>-4</td><td>22</td><td>17</td><td>320</td><td>298</td><td>272</td><td>2611</td><td>749</td><td>4</td><td>819</td><td>753</td><td>-26</td><td>0</td><td>0</td><td>null</td><td>null</td><td>null</td><td>null</td><td>null</td><td>null</td></tr><tr><td>2015</td><td>12</td><td>31</td><td>4</td><td>&quot;B6&quot;</td><td>745</td><td>&quot;N828JB&quot;</td><td>&quot;JFK&quot;</td><td>&quot;PSE&quot;</td><td>2359</td><td>2355</td><td>-4</td><td>17</td><td>12</td><td>227</td><td>215</td><td>195</td><td>1617</td><td>427</td><td>3</td><td>446</td><td>430</td><td>-16</td><td>0</td><td>0</td><td>null</td><td>null</td><td>null</td><td>null</td><td>null</td><td>null</td></tr><tr><td>2015</td><td>12</td><td>31</td><td>4</td><td>&quot;B6&quot;</td><td>1503</td><td>&quot;N913JB&quot;</td><td>&quot;JFK&quot;</td><td>&quot;SJU&quot;</td><td>2359</td><td>2350</td><td>-9</td><td>17</td><td>7</td><td>221</td><td>222</td><td>197</td><td>1598</td><td>424</td><td>8</td><td>440</td><td>432</td><td>-8</td><td>0</td><td>0</td><td>null</td><td>null</td><td>null</td><td>null</td><td>null</td><td>null</td></tr><tr><td>2015</td><td>12</td><td>31</td><td>4</td><td>&quot;B6&quot;</td><td>333</td><td>&quot;N527JB&quot;</td><td>&quot;MCO&quot;</td><td>&quot;SJU&quot;</td><td>2359</td><td>2353</td><td>-6</td><td>10</td><td>3</td><td>161</td><td>157</td><td>144</td><td>1189</td><td>327</td><td>3</td><td>340</td><td>330</td><td>-10</td><td>0</td><td>0</td><td>null</td><td>null</td><td>null</td><td>null</td><td>null</td><td>null</td></tr><tr><td>2015</td><td>12</td><td>31</td><td>4</td><td>&quot;B6&quot;</td><td>839</td><td>&quot;N534JB&quot;</td><td>&quot;JFK&quot;</td><td>&quot;BQN&quot;</td><td>2359</td><td>14</td><td>15</td><td>14</td><td>28</td><td>221</td><td>208</td><td>189</td><td>1576</td><td>437</td><td>5</td><td>440</td><td>442</td><td>2</td><td>0</td><td>0</td><td>null</td><td>null</td><td>null</td><td>null</td><td>null</td><td>null</td></tr></tbody></table></div>"
      ],
      "text/plain": [
       "shape: (5_819_079, 31)\n",
       "┌──────┬───────┬─────┬─────────────┬───┬──────────────┬──────────────┬──────────────┬──────────────┐\n",
       "│ YEAR ┆ MONTH ┆ DAY ┆ DAY_OF_WEEK ┆ … ┆ SECURITY_DEL ┆ AIRLINE_DELA ┆ LATE_AIRCRAF ┆ WEATHER_DELA │\n",
       "│ ---  ┆ ---   ┆ --- ┆ ---         ┆   ┆ AY           ┆ Y            ┆ T_DELAY      ┆ Y            │\n",
       "│ i32  ┆ i32   ┆ i32 ┆ i32         ┆   ┆ ---          ┆ ---          ┆ ---          ┆ ---          │\n",
       "│      ┆       ┆     ┆             ┆   ┆ i32          ┆ i32          ┆ i32          ┆ i32          │\n",
       "╞══════╪═══════╪═════╪═════════════╪═══╪══════════════╪══════════════╪══════════════╪══════════════╡\n",
       "│ 2015 ┆ 1     ┆ 1   ┆ 4           ┆ … ┆ null         ┆ null         ┆ null         ┆ null         │\n",
       "│ 2015 ┆ 1     ┆ 1   ┆ 4           ┆ … ┆ null         ┆ null         ┆ null         ┆ null         │\n",
       "│ 2015 ┆ 1     ┆ 1   ┆ 4           ┆ … ┆ null         ┆ null         ┆ null         ┆ null         │\n",
       "│ 2015 ┆ 1     ┆ 1   ┆ 4           ┆ … ┆ null         ┆ null         ┆ null         ┆ null         │\n",
       "│ 2015 ┆ 1     ┆ 1   ┆ 4           ┆ … ┆ null         ┆ null         ┆ null         ┆ null         │\n",
       "│ …    ┆ …     ┆ …   ┆ …           ┆ … ┆ …            ┆ …            ┆ …            ┆ …            │\n",
       "│ 2015 ┆ 12    ┆ 31  ┆ 4           ┆ … ┆ null         ┆ null         ┆ null         ┆ null         │\n",
       "│ 2015 ┆ 12    ┆ 31  ┆ 4           ┆ … ┆ null         ┆ null         ┆ null         ┆ null         │\n",
       "│ 2015 ┆ 12    ┆ 31  ┆ 4           ┆ … ┆ null         ┆ null         ┆ null         ┆ null         │\n",
       "│ 2015 ┆ 12    ┆ 31  ┆ 4           ┆ … ┆ null         ┆ null         ┆ null         ┆ null         │\n",
       "│ 2015 ┆ 12    ┆ 31  ┆ 4           ┆ … ┆ null         ┆ null         ┆ null         ┆ null         │\n",
       "└──────┴───────┴─────┴─────────────┴───┴──────────────┴──────────────┴──────────────┴──────────────┘"
      ]
     },
     "execution_count": 1,
     "metadata": {},
     "output_type": "execute_result"
    }
   ],
   "source": [
    "import polars as pl\n",
    "\n",
    "vuelos = pl.read_parquet('./data/vuelos/', use_pyarrow=True)\n",
    "\n",
    "vuelos"
   ]
  },
  {
   "cell_type": "code",
   "execution_count": 2,
   "id": "520a1024-41e3-4c1d-9284-52b46c5b745e",
   "metadata": {
    "tags": []
   },
   "outputs": [
    {
     "data": {
      "text/html": [
       "<div><style>\n",
       ".dataframe > thead > tr,\n",
       ".dataframe > tbody > tr {\n",
       "  text-align: right;\n",
       "  white-space: pre-wrap;\n",
       "}\n",
       "</style>\n",
       "<small>shape: (5_819_079, 31)</small><table border=\"1\" class=\"dataframe\"><thead><tr><th>YEAR</th><th>MONTH</th><th>DAY</th><th>DAY_OF_WEEK</th><th>AIRLINE</th><th>FLIGHT_NUMBER</th><th>TAIL_NUMBER</th><th>ORIGIN_AIRPORT</th><th>DESTINATION_AIRPORT</th><th>SCHEDULED_DEPARTURE</th><th>DEPARTURE_TIME</th><th>DEPARTURE_DELAY</th><th>TAXI_OUT</th><th>WHEELS_OFF</th><th>SCHEDULED_TIME</th><th>ELAPSED_TIME</th><th>AIR_TIME</th><th>DISTANCE</th><th>WHEELS_ON</th><th>TAXI_IN</th><th>SCHEDULED_ARRIVAL</th><th>ARRIVAL_TIME</th><th>ARRIVAL_DELAY</th><th>DIVERTED</th><th>CANCELLED</th><th>CANCELLATION_REASON</th><th>AIR_SYSTEM_DELAY</th><th>SECURITY_DELAY</th><th>AIRLINE_DELAY</th><th>LATE_AIRCRAFT_DELAY</th><th>WEATHER_DELAY</th></tr><tr><td>i32</td><td>i32</td><td>i32</td><td>i32</td><td>str</td><td>i32</td><td>str</td><td>str</td><td>str</td><td>i32</td><td>i32</td><td>i32</td><td>i32</td><td>i32</td><td>i32</td><td>i32</td><td>i32</td><td>i32</td><td>i32</td><td>i32</td><td>i32</td><td>i32</td><td>i32</td><td>i32</td><td>i32</td><td>str</td><td>i32</td><td>i32</td><td>i32</td><td>i32</td><td>i32</td></tr></thead><tbody><tr><td>2015</td><td>1</td><td>1</td><td>4</td><td>&quot;AS&quot;</td><td>136</td><td>&quot;N431AS&quot;</td><td>&quot;ANC&quot;</td><td>&quot;SEA&quot;</td><td>135</td><td>null</td><td>null</td><td>null</td><td>null</td><td>205</td><td>null</td><td>null</td><td>1448</td><td>null</td><td>null</td><td>600</td><td>null</td><td>null</td><td>0</td><td>1</td><td>&quot;A&quot;</td><td>null</td><td>null</td><td>null</td><td>null</td><td>null</td></tr><tr><td>2015</td><td>1</td><td>1</td><td>4</td><td>&quot;AA&quot;</td><td>2459</td><td>&quot;N3BDAA&quot;</td><td>&quot;PHX&quot;</td><td>&quot;DFW&quot;</td><td>200</td><td>null</td><td>null</td><td>null</td><td>null</td><td>120</td><td>null</td><td>null</td><td>868</td><td>null</td><td>null</td><td>500</td><td>null</td><td>null</td><td>0</td><td>1</td><td>&quot;B&quot;</td><td>null</td><td>null</td><td>null</td><td>null</td><td>null</td></tr><tr><td>2015</td><td>1</td><td>1</td><td>4</td><td>&quot;OO&quot;</td><td>5254</td><td>&quot;N746SK&quot;</td><td>&quot;MAF&quot;</td><td>&quot;IAH&quot;</td><td>510</td><td>null</td><td>null</td><td>null</td><td>null</td><td>87</td><td>null</td><td>null</td><td>429</td><td>null</td><td>null</td><td>637</td><td>null</td><td>null</td><td>0</td><td>1</td><td>&quot;B&quot;</td><td>null</td><td>null</td><td>null</td><td>null</td><td>null</td></tr><tr><td>2015</td><td>1</td><td>1</td><td>4</td><td>&quot;MQ&quot;</td><td>2859</td><td>&quot;N660MQ&quot;</td><td>&quot;SGF&quot;</td><td>&quot;DFW&quot;</td><td>525</td><td>null</td><td>null</td><td>null</td><td>null</td><td>95</td><td>null</td><td>null</td><td>364</td><td>null</td><td>null</td><td>700</td><td>null</td><td>null</td><td>0</td><td>1</td><td>&quot;B&quot;</td><td>null</td><td>null</td><td>null</td><td>null</td><td>null</td></tr><tr><td>2015</td><td>1</td><td>1</td><td>4</td><td>&quot;OO&quot;</td><td>5460</td><td>&quot;N583SW&quot;</td><td>&quot;RDD&quot;</td><td>&quot;SFO&quot;</td><td>530</td><td>null</td><td>null</td><td>null</td><td>null</td><td>90</td><td>null</td><td>null</td><td>199</td><td>null</td><td>null</td><td>700</td><td>null</td><td>null</td><td>0</td><td>1</td><td>&quot;A&quot;</td><td>null</td><td>null</td><td>null</td><td>null</td><td>null</td></tr><tr><td>&hellip;</td><td>&hellip;</td><td>&hellip;</td><td>&hellip;</td><td>&hellip;</td><td>&hellip;</td><td>&hellip;</td><td>&hellip;</td><td>&hellip;</td><td>&hellip;</td><td>&hellip;</td><td>&hellip;</td><td>&hellip;</td><td>&hellip;</td><td>&hellip;</td><td>&hellip;</td><td>&hellip;</td><td>&hellip;</td><td>&hellip;</td><td>&hellip;</td><td>&hellip;</td><td>&hellip;</td><td>&hellip;</td><td>&hellip;</td><td>&hellip;</td><td>&hellip;</td><td>&hellip;</td><td>&hellip;</td><td>&hellip;</td><td>&hellip;</td><td>&hellip;</td></tr><tr><td>2015</td><td>2</td><td>9</td><td>1</td><td>&quot;HA&quot;</td><td>51</td><td>&quot;N374HA&quot;</td><td>&quot;JFK&quot;</td><td>&quot;HNL&quot;</td><td>935</td><td>924</td><td>1429</td><td>18</td><td>942</td><td>675</td><td>713</td><td>684</td><td>4983</td><td>1606</td><td>11</td><td>1550</td><td>1617</td><td>1467</td><td>0</td><td>0</td><td>null</td><td>0</td><td>0</td><td>1467</td><td>0</td><td>0</td></tr><tr><td>2015</td><td>3</td><td>9</td><td>1</td><td>&quot;HA&quot;</td><td>51</td><td>&quot;N385HA&quot;</td><td>&quot;JFK&quot;</td><td>&quot;HNL&quot;</td><td>1000</td><td>955</td><td>-5</td><td>9</td><td>1004</td><td>680</td><td>708</td><td>687</td><td>4983</td><td>1531</td><td>12</td><td>1520</td><td>1543</td><td>23</td><td>0</td><td>0</td><td>null</td><td>0</td><td>0</td><td>0</td><td>0</td><td>23</td></tr><tr><td>2015</td><td>3</td><td>12</td><td>4</td><td>&quot;HA&quot;</td><td>51</td><td>&quot;N370HA&quot;</td><td>&quot;JFK&quot;</td><td>&quot;HNL&quot;</td><td>1000</td><td>958</td><td>-2</td><td>40</td><td>1038</td><td>680</td><td>733</td><td>687</td><td>4983</td><td>1605</td><td>6</td><td>1520</td><td>1611</td><td>51</td><td>0</td><td>0</td><td>null</td><td>0</td><td>0</td><td>51</td><td>0</td><td>0</td></tr><tr><td>2015</td><td>3</td><td>19</td><td>4</td><td>&quot;HA&quot;</td><td>51</td><td>&quot;N375HA&quot;</td><td>&quot;JFK&quot;</td><td>&quot;HNL&quot;</td><td>1000</td><td>152</td><td>952</td><td>14</td><td>206</td><td>680</td><td>710</td><td>690</td><td>4983</td><td>736</td><td>6</td><td>1520</td><td>742</td><td>982</td><td>0</td><td>0</td><td>null</td><td>0</td><td>0</td><td>982</td><td>0</td><td>0</td></tr><tr><td>2015</td><td>12</td><td>2</td><td>3</td><td>&quot;HA&quot;</td><td>51</td><td>&quot;N388HA&quot;</td><td>&quot;JFK&quot;</td><td>&quot;HNL&quot;</td><td>925</td><td>917</td><td>-8</td><td>36</td><td>953</td><td>680</td><td>730</td><td>690</td><td>4983</td><td>1623</td><td>4</td><td>1545</td><td>1627</td><td>42</td><td>0</td><td>0</td><td>null</td><td>0</td><td>0</td><td>42</td><td>0</td><td>0</td></tr></tbody></table></div>"
      ],
      "text/plain": [
       "shape: (5_819_079, 31)\n",
       "┌──────┬───────┬─────┬─────────────┬───┬──────────────┬──────────────┬──────────────┬──────────────┐\n",
       "│ YEAR ┆ MONTH ┆ DAY ┆ DAY_OF_WEEK ┆ … ┆ SECURITY_DEL ┆ AIRLINE_DELA ┆ LATE_AIRCRAF ┆ WEATHER_DELA │\n",
       "│ ---  ┆ ---   ┆ --- ┆ ---         ┆   ┆ AY           ┆ Y            ┆ T_DELAY      ┆ Y            │\n",
       "│ i32  ┆ i32   ┆ i32 ┆ i32         ┆   ┆ ---          ┆ ---          ┆ ---          ┆ ---          │\n",
       "│      ┆       ┆     ┆             ┆   ┆ i32          ┆ i32          ┆ i32          ┆ i32          │\n",
       "╞══════╪═══════╪═════╪═════════════╪═══╪══════════════╪══════════════╪══════════════╪══════════════╡\n",
       "│ 2015 ┆ 1     ┆ 1   ┆ 4           ┆ … ┆ null         ┆ null         ┆ null         ┆ null         │\n",
       "│ 2015 ┆ 1     ┆ 1   ┆ 4           ┆ … ┆ null         ┆ null         ┆ null         ┆ null         │\n",
       "│ 2015 ┆ 1     ┆ 1   ┆ 4           ┆ … ┆ null         ┆ null         ┆ null         ┆ null         │\n",
       "│ 2015 ┆ 1     ┆ 1   ┆ 4           ┆ … ┆ null         ┆ null         ┆ null         ┆ null         │\n",
       "│ 2015 ┆ 1     ┆ 1   ┆ 4           ┆ … ┆ null         ┆ null         ┆ null         ┆ null         │\n",
       "│ …    ┆ …     ┆ …   ┆ …           ┆ … ┆ …            ┆ …            ┆ …            ┆ …            │\n",
       "│ 2015 ┆ 2     ┆ 9   ┆ 1           ┆ … ┆ 0            ┆ 1467         ┆ 0            ┆ 0            │\n",
       "│ 2015 ┆ 3     ┆ 9   ┆ 1           ┆ … ┆ 0            ┆ 0            ┆ 0            ┆ 23           │\n",
       "│ 2015 ┆ 3     ┆ 12  ┆ 4           ┆ … ┆ 0            ┆ 51           ┆ 0            ┆ 0            │\n",
       "│ 2015 ┆ 3     ┆ 19  ┆ 4           ┆ … ┆ 0            ┆ 982          ┆ 0            ┆ 0            │\n",
       "│ 2015 ┆ 12    ┆ 2   ┆ 3           ┆ … ┆ 0            ┆ 42           ┆ 0            ┆ 0            │\n",
       "└──────┴───────┴─────┴─────────────┴───┴──────────────┴──────────────┴──────────────┴──────────────┘"
      ]
     },
     "execution_count": 2,
     "metadata": {},
     "output_type": "execute_result"
    }
   ],
   "source": [
    "vuelos.sort('AIR_TIME')"
   ]
  },
  {
   "cell_type": "markdown",
   "id": "f623615f-2c2e-4b3c-a323-906ffa43d897",
   "metadata": {},
   "source": [
    "Como se puede observar el orden por defecto es ascendente y los nulos han sido colocados de primeros. Si deseamos que los valores nulos sean colocados al final podemos emplear el parámetro `nulls_last=True`."
   ]
  },
  {
   "cell_type": "code",
   "execution_count": 3,
   "id": "d145641b-5279-4d86-ba81-b3a8b5960ad2",
   "metadata": {
    "tags": []
   },
   "outputs": [
    {
     "data": {
      "text/html": [
       "<div><style>\n",
       ".dataframe > thead > tr,\n",
       ".dataframe > tbody > tr {\n",
       "  text-align: right;\n",
       "  white-space: pre-wrap;\n",
       "}\n",
       "</style>\n",
       "<small>shape: (5_819_079, 31)</small><table border=\"1\" class=\"dataframe\"><thead><tr><th>YEAR</th><th>MONTH</th><th>DAY</th><th>DAY_OF_WEEK</th><th>AIRLINE</th><th>FLIGHT_NUMBER</th><th>TAIL_NUMBER</th><th>ORIGIN_AIRPORT</th><th>DESTINATION_AIRPORT</th><th>SCHEDULED_DEPARTURE</th><th>DEPARTURE_TIME</th><th>DEPARTURE_DELAY</th><th>TAXI_OUT</th><th>WHEELS_OFF</th><th>SCHEDULED_TIME</th><th>ELAPSED_TIME</th><th>AIR_TIME</th><th>DISTANCE</th><th>WHEELS_ON</th><th>TAXI_IN</th><th>SCHEDULED_ARRIVAL</th><th>ARRIVAL_TIME</th><th>ARRIVAL_DELAY</th><th>DIVERTED</th><th>CANCELLED</th><th>CANCELLATION_REASON</th><th>AIR_SYSTEM_DELAY</th><th>SECURITY_DELAY</th><th>AIRLINE_DELAY</th><th>LATE_AIRCRAFT_DELAY</th><th>WEATHER_DELAY</th></tr><tr><td>i32</td><td>i32</td><td>i32</td><td>i32</td><td>str</td><td>i32</td><td>str</td><td>str</td><td>str</td><td>i32</td><td>i32</td><td>i32</td><td>i32</td><td>i32</td><td>i32</td><td>i32</td><td>i32</td><td>i32</td><td>i32</td><td>i32</td><td>i32</td><td>i32</td><td>i32</td><td>i32</td><td>i32</td><td>str</td><td>i32</td><td>i32</td><td>i32</td><td>i32</td><td>i32</td></tr></thead><tbody><tr><td>2015</td><td>2</td><td>17</td><td>2</td><td>&quot;AS&quot;</td><td>65</td><td>&quot;N706AS&quot;</td><td>&quot;WRG&quot;</td><td>&quot;PSG&quot;</td><td>1100</td><td>1043</td><td>-17</td><td>4</td><td>1047</td><td>25</td><td>15</td><td>7</td><td>31</td><td>1054</td><td>4</td><td>1125</td><td>1058</td><td>-27</td><td>0</td><td>0</td><td>null</td><td>null</td><td>null</td><td>null</td><td>null</td><td>null</td></tr><tr><td>2015</td><td>3</td><td>3</td><td>2</td><td>&quot;AS&quot;</td><td>64</td><td>&quot;N762AS&quot;</td><td>&quot;PSG&quot;</td><td>&quot;WRG&quot;</td><td>1524</td><td>1515</td><td>-9</td><td>4</td><td>1519</td><td>24</td><td>15</td><td>7</td><td>31</td><td>1526</td><td>4</td><td>1548</td><td>1530</td><td>-18</td><td>0</td><td>0</td><td>null</td><td>null</td><td>null</td><td>null</td><td>null</td><td>null</td></tr><tr><td>2015</td><td>6</td><td>21</td><td>7</td><td>&quot;AS&quot;</td><td>64</td><td>&quot;N768AS&quot;</td><td>&quot;PSG&quot;</td><td>&quot;WRG&quot;</td><td>1621</td><td>1610</td><td>-11</td><td>10</td><td>1620</td><td>24</td><td>22</td><td>7</td><td>31</td><td>1627</td><td>5</td><td>1645</td><td>1632</td><td>-13</td><td>0</td><td>0</td><td>null</td><td>null</td><td>null</td><td>null</td><td>null</td><td>null</td></tr><tr><td>2015</td><td>6</td><td>24</td><td>3</td><td>&quot;AS&quot;</td><td>65</td><td>&quot;N762AS&quot;</td><td>&quot;WRG&quot;</td><td>&quot;PSG&quot;</td><td>1053</td><td>1106</td><td>13</td><td>4</td><td>1110</td><td>18</td><td>15</td><td>7</td><td>31</td><td>1117</td><td>4</td><td>1111</td><td>1121</td><td>10</td><td>0</td><td>0</td><td>null</td><td>null</td><td>null</td><td>null</td><td>null</td><td>null</td></tr><tr><td>2015</td><td>7</td><td>8</td><td>3</td><td>&quot;AS&quot;</td><td>65</td><td>&quot;N795AS&quot;</td><td>&quot;WRG&quot;</td><td>&quot;PSG&quot;</td><td>1053</td><td>1051</td><td>-2</td><td>5</td><td>1056</td><td>18</td><td>16</td><td>7</td><td>31</td><td>1103</td><td>4</td><td>1111</td><td>1107</td><td>-4</td><td>0</td><td>0</td><td>null</td><td>null</td><td>null</td><td>null</td><td>null</td><td>null</td></tr><tr><td>&hellip;</td><td>&hellip;</td><td>&hellip;</td><td>&hellip;</td><td>&hellip;</td><td>&hellip;</td><td>&hellip;</td><td>&hellip;</td><td>&hellip;</td><td>&hellip;</td><td>&hellip;</td><td>&hellip;</td><td>&hellip;</td><td>&hellip;</td><td>&hellip;</td><td>&hellip;</td><td>&hellip;</td><td>&hellip;</td><td>&hellip;</td><td>&hellip;</td><td>&hellip;</td><td>&hellip;</td><td>&hellip;</td><td>&hellip;</td><td>&hellip;</td><td>&hellip;</td><td>&hellip;</td><td>&hellip;</td><td>&hellip;</td><td>&hellip;</td><td>&hellip;</td></tr><tr><td>2015</td><td>12</td><td>31</td><td>4</td><td>&quot;UA&quot;</td><td>222</td><td>null</td><td>&quot;SFO&quot;</td><td>&quot;LAX&quot;</td><td>2000</td><td>null</td><td>null</td><td>null</td><td>null</td><td>96</td><td>null</td><td>null</td><td>337</td><td>null</td><td>null</td><td>2136</td><td>null</td><td>null</td><td>0</td><td>1</td><td>&quot;A&quot;</td><td>null</td><td>null</td><td>null</td><td>null</td><td>null</td></tr><tr><td>2015</td><td>12</td><td>31</td><td>4</td><td>&quot;WN&quot;</td><td>5296</td><td>&quot;N419WN&quot;</td><td>&quot;MDW&quot;</td><td>&quot;ABQ&quot;</td><td>2000</td><td>2013</td><td>13</td><td>10</td><td>2023</td><td>195</td><td>null</td><td>null</td><td>1121</td><td>2319</td><td>6</td><td>2215</td><td>2325</td><td>null</td><td>1</td><td>0</td><td>null</td><td>null</td><td>null</td><td>null</td><td>null</td><td>null</td></tr><tr><td>2015</td><td>12</td><td>31</td><td>4</td><td>&quot;AA&quot;</td><td>2245</td><td>&quot;N880AA&quot;</td><td>&quot;MIA&quot;</td><td>&quot;SAN&quot;</td><td>2019</td><td>null</td><td>null</td><td>null</td><td>null</td><td>337</td><td>null</td><td>null</td><td>2267</td><td>null</td><td>null</td><td>2256</td><td>null</td><td>null</td><td>0</td><td>1</td><td>&quot;A&quot;</td><td>null</td><td>null</td><td>null</td><td>null</td><td>null</td></tr><tr><td>2015</td><td>12</td><td>31</td><td>4</td><td>&quot;NK&quot;</td><td>416</td><td>&quot;N522NK&quot;</td><td>&quot;FLL&quot;</td><td>&quot;IAG&quot;</td><td>2155</td><td>null</td><td>null</td><td>null</td><td>null</td><td>175</td><td>null</td><td>null</td><td>1176</td><td>null</td><td>null</td><td>50</td><td>null</td><td>null</td><td>0</td><td>1</td><td>&quot;A&quot;</td><td>null</td><td>null</td><td>null</td><td>null</td><td>null</td></tr><tr><td>2015</td><td>12</td><td>31</td><td>4</td><td>&quot;AA&quot;</td><td>1042</td><td>&quot;N870AA&quot;</td><td>&quot;SAN&quot;</td><td>&quot;MIA&quot;</td><td>2210</td><td>null</td><td>null</td><td>null</td><td>null</td><td>277</td><td>null</td><td>null</td><td>2267</td><td>null</td><td>null</td><td>547</td><td>null</td><td>null</td><td>0</td><td>1</td><td>&quot;A&quot;</td><td>null</td><td>null</td><td>null</td><td>null</td><td>null</td></tr></tbody></table></div>"
      ],
      "text/plain": [
       "shape: (5_819_079, 31)\n",
       "┌──────┬───────┬─────┬─────────────┬───┬──────────────┬──────────────┬──────────────┬──────────────┐\n",
       "│ YEAR ┆ MONTH ┆ DAY ┆ DAY_OF_WEEK ┆ … ┆ SECURITY_DEL ┆ AIRLINE_DELA ┆ LATE_AIRCRAF ┆ WEATHER_DELA │\n",
       "│ ---  ┆ ---   ┆ --- ┆ ---         ┆   ┆ AY           ┆ Y            ┆ T_DELAY      ┆ Y            │\n",
       "│ i32  ┆ i32   ┆ i32 ┆ i32         ┆   ┆ ---          ┆ ---          ┆ ---          ┆ ---          │\n",
       "│      ┆       ┆     ┆             ┆   ┆ i32          ┆ i32          ┆ i32          ┆ i32          │\n",
       "╞══════╪═══════╪═════╪═════════════╪═══╪══════════════╪══════════════╪══════════════╪══════════════╡\n",
       "│ 2015 ┆ 2     ┆ 17  ┆ 2           ┆ … ┆ null         ┆ null         ┆ null         ┆ null         │\n",
       "│ 2015 ┆ 3     ┆ 3   ┆ 2           ┆ … ┆ null         ┆ null         ┆ null         ┆ null         │\n",
       "│ 2015 ┆ 6     ┆ 21  ┆ 7           ┆ … ┆ null         ┆ null         ┆ null         ┆ null         │\n",
       "│ 2015 ┆ 6     ┆ 24  ┆ 3           ┆ … ┆ null         ┆ null         ┆ null         ┆ null         │\n",
       "│ 2015 ┆ 7     ┆ 8   ┆ 3           ┆ … ┆ null         ┆ null         ┆ null         ┆ null         │\n",
       "│ …    ┆ …     ┆ …   ┆ …           ┆ … ┆ …            ┆ …            ┆ …            ┆ …            │\n",
       "│ 2015 ┆ 12    ┆ 31  ┆ 4           ┆ … ┆ null         ┆ null         ┆ null         ┆ null         │\n",
       "│ 2015 ┆ 12    ┆ 31  ┆ 4           ┆ … ┆ null         ┆ null         ┆ null         ┆ null         │\n",
       "│ 2015 ┆ 12    ┆ 31  ┆ 4           ┆ … ┆ null         ┆ null         ┆ null         ┆ null         │\n",
       "│ 2015 ┆ 12    ┆ 31  ┆ 4           ┆ … ┆ null         ┆ null         ┆ null         ┆ null         │\n",
       "│ 2015 ┆ 12    ┆ 31  ┆ 4           ┆ … ┆ null         ┆ null         ┆ null         ┆ null         │\n",
       "└──────┴───────┴─────┴─────────────┴───┴──────────────┴──────────────┴──────────────┴──────────────┘"
      ]
     },
     "execution_count": 3,
     "metadata": {},
     "output_type": "execute_result"
    }
   ],
   "source": [
    "vuelos.sort('AIR_TIME', nulls_last=True)"
   ]
  },
  {
   "cell_type": "markdown",
   "id": "ca9dce30-50b9-41e5-bf0d-fb59e6fd78bd",
   "metadata": {},
   "source": [
    "Si deseamos cambair el tipo de orden a descendiente podemos emplear el parámetro `descending=True`."
   ]
  },
  {
   "cell_type": "code",
   "execution_count": 4,
   "id": "b41b6b18-a04f-4d4b-a618-2456730da90b",
   "metadata": {
    "tags": []
   },
   "outputs": [
    {
     "data": {
      "text/html": [
       "<div><style>\n",
       ".dataframe > thead > tr,\n",
       ".dataframe > tbody > tr {\n",
       "  text-align: right;\n",
       "  white-space: pre-wrap;\n",
       "}\n",
       "</style>\n",
       "<small>shape: (5_819_079, 31)</small><table border=\"1\" class=\"dataframe\"><thead><tr><th>YEAR</th><th>MONTH</th><th>DAY</th><th>DAY_OF_WEEK</th><th>AIRLINE</th><th>FLIGHT_NUMBER</th><th>TAIL_NUMBER</th><th>ORIGIN_AIRPORT</th><th>DESTINATION_AIRPORT</th><th>SCHEDULED_DEPARTURE</th><th>DEPARTURE_TIME</th><th>DEPARTURE_DELAY</th><th>TAXI_OUT</th><th>WHEELS_OFF</th><th>SCHEDULED_TIME</th><th>ELAPSED_TIME</th><th>AIR_TIME</th><th>DISTANCE</th><th>WHEELS_ON</th><th>TAXI_IN</th><th>SCHEDULED_ARRIVAL</th><th>ARRIVAL_TIME</th><th>ARRIVAL_DELAY</th><th>DIVERTED</th><th>CANCELLED</th><th>CANCELLATION_REASON</th><th>AIR_SYSTEM_DELAY</th><th>SECURITY_DELAY</th><th>AIRLINE_DELAY</th><th>LATE_AIRCRAFT_DELAY</th><th>WEATHER_DELAY</th></tr><tr><td>i32</td><td>i32</td><td>i32</td><td>i32</td><td>str</td><td>i32</td><td>str</td><td>str</td><td>str</td><td>i32</td><td>i32</td><td>i32</td><td>i32</td><td>i32</td><td>i32</td><td>i32</td><td>i32</td><td>i32</td><td>i32</td><td>i32</td><td>i32</td><td>i32</td><td>i32</td><td>i32</td><td>i32</td><td>str</td><td>i32</td><td>i32</td><td>i32</td><td>i32</td><td>i32</td></tr></thead><tbody><tr><td>2015</td><td>3</td><td>19</td><td>4</td><td>&quot;HA&quot;</td><td>51</td><td>&quot;N375HA&quot;</td><td>&quot;JFK&quot;</td><td>&quot;HNL&quot;</td><td>1000</td><td>152</td><td>952</td><td>14</td><td>206</td><td>680</td><td>710</td><td>690</td><td>4983</td><td>736</td><td>6</td><td>1520</td><td>742</td><td>982</td><td>0</td><td>0</td><td>null</td><td>0</td><td>0</td><td>982</td><td>0</td><td>0</td></tr><tr><td>2015</td><td>12</td><td>2</td><td>3</td><td>&quot;HA&quot;</td><td>51</td><td>&quot;N388HA&quot;</td><td>&quot;JFK&quot;</td><td>&quot;HNL&quot;</td><td>925</td><td>917</td><td>-8</td><td>36</td><td>953</td><td>680</td><td>730</td><td>690</td><td>4983</td><td>1623</td><td>4</td><td>1545</td><td>1627</td><td>42</td><td>0</td><td>0</td><td>null</td><td>0</td><td>0</td><td>42</td><td>0</td><td>0</td></tr><tr><td>2015</td><td>3</td><td>9</td><td>1</td><td>&quot;HA&quot;</td><td>51</td><td>&quot;N385HA&quot;</td><td>&quot;JFK&quot;</td><td>&quot;HNL&quot;</td><td>1000</td><td>955</td><td>-5</td><td>9</td><td>1004</td><td>680</td><td>708</td><td>687</td><td>4983</td><td>1531</td><td>12</td><td>1520</td><td>1543</td><td>23</td><td>0</td><td>0</td><td>null</td><td>0</td><td>0</td><td>0</td><td>0</td><td>23</td></tr><tr><td>2015</td><td>3</td><td>12</td><td>4</td><td>&quot;HA&quot;</td><td>51</td><td>&quot;N370HA&quot;</td><td>&quot;JFK&quot;</td><td>&quot;HNL&quot;</td><td>1000</td><td>958</td><td>-2</td><td>40</td><td>1038</td><td>680</td><td>733</td><td>687</td><td>4983</td><td>1605</td><td>6</td><td>1520</td><td>1611</td><td>51</td><td>0</td><td>0</td><td>null</td><td>0</td><td>0</td><td>51</td><td>0</td><td>0</td></tr><tr><td>2015</td><td>2</td><td>9</td><td>1</td><td>&quot;HA&quot;</td><td>51</td><td>&quot;N374HA&quot;</td><td>&quot;JFK&quot;</td><td>&quot;HNL&quot;</td><td>935</td><td>924</td><td>1429</td><td>18</td><td>942</td><td>675</td><td>713</td><td>684</td><td>4983</td><td>1606</td><td>11</td><td>1550</td><td>1617</td><td>1467</td><td>0</td><td>0</td><td>null</td><td>0</td><td>0</td><td>1467</td><td>0</td><td>0</td></tr><tr><td>&hellip;</td><td>&hellip;</td><td>&hellip;</td><td>&hellip;</td><td>&hellip;</td><td>&hellip;</td><td>&hellip;</td><td>&hellip;</td><td>&hellip;</td><td>&hellip;</td><td>&hellip;</td><td>&hellip;</td><td>&hellip;</td><td>&hellip;</td><td>&hellip;</td><td>&hellip;</td><td>&hellip;</td><td>&hellip;</td><td>&hellip;</td><td>&hellip;</td><td>&hellip;</td><td>&hellip;</td><td>&hellip;</td><td>&hellip;</td><td>&hellip;</td><td>&hellip;</td><td>&hellip;</td><td>&hellip;</td><td>&hellip;</td><td>&hellip;</td><td>&hellip;</td></tr><tr><td>2015</td><td>1</td><td>1</td><td>4</td><td>&quot;OO&quot;</td><td>5460</td><td>&quot;N583SW&quot;</td><td>&quot;RDD&quot;</td><td>&quot;SFO&quot;</td><td>530</td><td>null</td><td>null</td><td>null</td><td>null</td><td>90</td><td>null</td><td>null</td><td>199</td><td>null</td><td>null</td><td>700</td><td>null</td><td>null</td><td>0</td><td>1</td><td>&quot;A&quot;</td><td>null</td><td>null</td><td>null</td><td>null</td><td>null</td></tr><tr><td>2015</td><td>1</td><td>1</td><td>4</td><td>&quot;MQ&quot;</td><td>2859</td><td>&quot;N660MQ&quot;</td><td>&quot;SGF&quot;</td><td>&quot;DFW&quot;</td><td>525</td><td>null</td><td>null</td><td>null</td><td>null</td><td>95</td><td>null</td><td>null</td><td>364</td><td>null</td><td>null</td><td>700</td><td>null</td><td>null</td><td>0</td><td>1</td><td>&quot;B&quot;</td><td>null</td><td>null</td><td>null</td><td>null</td><td>null</td></tr><tr><td>2015</td><td>1</td><td>1</td><td>4</td><td>&quot;OO&quot;</td><td>5254</td><td>&quot;N746SK&quot;</td><td>&quot;MAF&quot;</td><td>&quot;IAH&quot;</td><td>510</td><td>null</td><td>null</td><td>null</td><td>null</td><td>87</td><td>null</td><td>null</td><td>429</td><td>null</td><td>null</td><td>637</td><td>null</td><td>null</td><td>0</td><td>1</td><td>&quot;B&quot;</td><td>null</td><td>null</td><td>null</td><td>null</td><td>null</td></tr><tr><td>2015</td><td>1</td><td>1</td><td>4</td><td>&quot;AA&quot;</td><td>2459</td><td>&quot;N3BDAA&quot;</td><td>&quot;PHX&quot;</td><td>&quot;DFW&quot;</td><td>200</td><td>null</td><td>null</td><td>null</td><td>null</td><td>120</td><td>null</td><td>null</td><td>868</td><td>null</td><td>null</td><td>500</td><td>null</td><td>null</td><td>0</td><td>1</td><td>&quot;B&quot;</td><td>null</td><td>null</td><td>null</td><td>null</td><td>null</td></tr><tr><td>2015</td><td>1</td><td>1</td><td>4</td><td>&quot;AS&quot;</td><td>136</td><td>&quot;N431AS&quot;</td><td>&quot;ANC&quot;</td><td>&quot;SEA&quot;</td><td>135</td><td>null</td><td>null</td><td>null</td><td>null</td><td>205</td><td>null</td><td>null</td><td>1448</td><td>null</td><td>null</td><td>600</td><td>null</td><td>null</td><td>0</td><td>1</td><td>&quot;A&quot;</td><td>null</td><td>null</td><td>null</td><td>null</td><td>null</td></tr></tbody></table></div>"
      ],
      "text/plain": [
       "shape: (5_819_079, 31)\n",
       "┌──────┬───────┬─────┬─────────────┬───┬──────────────┬──────────────┬──────────────┬──────────────┐\n",
       "│ YEAR ┆ MONTH ┆ DAY ┆ DAY_OF_WEEK ┆ … ┆ SECURITY_DEL ┆ AIRLINE_DELA ┆ LATE_AIRCRAF ┆ WEATHER_DELA │\n",
       "│ ---  ┆ ---   ┆ --- ┆ ---         ┆   ┆ AY           ┆ Y            ┆ T_DELAY      ┆ Y            │\n",
       "│ i32  ┆ i32   ┆ i32 ┆ i32         ┆   ┆ ---          ┆ ---          ┆ ---          ┆ ---          │\n",
       "│      ┆       ┆     ┆             ┆   ┆ i32          ┆ i32          ┆ i32          ┆ i32          │\n",
       "╞══════╪═══════╪═════╪═════════════╪═══╪══════════════╪══════════════╪══════════════╪══════════════╡\n",
       "│ 2015 ┆ 3     ┆ 19  ┆ 4           ┆ … ┆ 0            ┆ 982          ┆ 0            ┆ 0            │\n",
       "│ 2015 ┆ 12    ┆ 2   ┆ 3           ┆ … ┆ 0            ┆ 42           ┆ 0            ┆ 0            │\n",
       "│ 2015 ┆ 3     ┆ 9   ┆ 1           ┆ … ┆ 0            ┆ 0            ┆ 0            ┆ 23           │\n",
       "│ 2015 ┆ 3     ┆ 12  ┆ 4           ┆ … ┆ 0            ┆ 51           ┆ 0            ┆ 0            │\n",
       "│ 2015 ┆ 2     ┆ 9   ┆ 1           ┆ … ┆ 0            ┆ 1467         ┆ 0            ┆ 0            │\n",
       "│ …    ┆ …     ┆ …   ┆ …           ┆ … ┆ …            ┆ …            ┆ …            ┆ …            │\n",
       "│ 2015 ┆ 1     ┆ 1   ┆ 4           ┆ … ┆ null         ┆ null         ┆ null         ┆ null         │\n",
       "│ 2015 ┆ 1     ┆ 1   ┆ 4           ┆ … ┆ null         ┆ null         ┆ null         ┆ null         │\n",
       "│ 2015 ┆ 1     ┆ 1   ┆ 4           ┆ … ┆ null         ┆ null         ┆ null         ┆ null         │\n",
       "│ 2015 ┆ 1     ┆ 1   ┆ 4           ┆ … ┆ null         ┆ null         ┆ null         ┆ null         │\n",
       "│ 2015 ┆ 1     ┆ 1   ┆ 4           ┆ … ┆ null         ┆ null         ┆ null         ┆ null         │\n",
       "└──────┴───────┴─────┴─────────────┴───┴──────────────┴──────────────┴──────────────┴──────────────┘"
      ]
     },
     "execution_count": 4,
     "metadata": {},
     "output_type": "execute_result"
    }
   ],
   "source": [
    "vuelos.sort('AIR_TIME', descending=True, nulls_last=True)"
   ]
  },
  {
   "cell_type": "markdown",
   "id": "0b9b1d8a-cac3-49cc-9956-f9a0626ed3d3",
   "metadata": {},
   "source": [
    "Si deseamos ordenar por más de una columna podemos pasarle las columnas a la función `sort` en una lista."
   ]
  },
  {
   "cell_type": "code",
   "execution_count": 5,
   "id": "d9d8f41b-b31b-4d5a-aff7-b62aebb3d282",
   "metadata": {
    "tags": []
   },
   "outputs": [
    {
     "data": {
      "text/html": [
       "<div><style>\n",
       ".dataframe > thead > tr,\n",
       ".dataframe > tbody > tr {\n",
       "  text-align: right;\n",
       "  white-space: pre-wrap;\n",
       "}\n",
       "</style>\n",
       "<small>shape: (5_819_079, 31)</small><table border=\"1\" class=\"dataframe\"><thead><tr><th>YEAR</th><th>MONTH</th><th>DAY</th><th>DAY_OF_WEEK</th><th>AIRLINE</th><th>FLIGHT_NUMBER</th><th>TAIL_NUMBER</th><th>ORIGIN_AIRPORT</th><th>DESTINATION_AIRPORT</th><th>SCHEDULED_DEPARTURE</th><th>DEPARTURE_TIME</th><th>DEPARTURE_DELAY</th><th>TAXI_OUT</th><th>WHEELS_OFF</th><th>SCHEDULED_TIME</th><th>ELAPSED_TIME</th><th>AIR_TIME</th><th>DISTANCE</th><th>WHEELS_ON</th><th>TAXI_IN</th><th>SCHEDULED_ARRIVAL</th><th>ARRIVAL_TIME</th><th>ARRIVAL_DELAY</th><th>DIVERTED</th><th>CANCELLED</th><th>CANCELLATION_REASON</th><th>AIR_SYSTEM_DELAY</th><th>SECURITY_DELAY</th><th>AIRLINE_DELAY</th><th>LATE_AIRCRAFT_DELAY</th><th>WEATHER_DELAY</th></tr><tr><td>i32</td><td>i32</td><td>i32</td><td>i32</td><td>str</td><td>i32</td><td>str</td><td>str</td><td>str</td><td>i32</td><td>i32</td><td>i32</td><td>i32</td><td>i32</td><td>i32</td><td>i32</td><td>i32</td><td>i32</td><td>i32</td><td>i32</td><td>i32</td><td>i32</td><td>i32</td><td>i32</td><td>i32</td><td>str</td><td>i32</td><td>i32</td><td>i32</td><td>i32</td><td>i32</td></tr></thead><tbody><tr><td>2015</td><td>3</td><td>19</td><td>4</td><td>&quot;HA&quot;</td><td>51</td><td>&quot;N375HA&quot;</td><td>&quot;JFK&quot;</td><td>&quot;HNL&quot;</td><td>1000</td><td>152</td><td>952</td><td>14</td><td>206</td><td>680</td><td>710</td><td>690</td><td>4983</td><td>736</td><td>6</td><td>1520</td><td>742</td><td>982</td><td>0</td><td>0</td><td>null</td><td>0</td><td>0</td><td>982</td><td>0</td><td>0</td></tr><tr><td>2015</td><td>12</td><td>2</td><td>3</td><td>&quot;HA&quot;</td><td>51</td><td>&quot;N388HA&quot;</td><td>&quot;JFK&quot;</td><td>&quot;HNL&quot;</td><td>925</td><td>917</td><td>-8</td><td>36</td><td>953</td><td>680</td><td>730</td><td>690</td><td>4983</td><td>1623</td><td>4</td><td>1545</td><td>1627</td><td>42</td><td>0</td><td>0</td><td>null</td><td>0</td><td>0</td><td>42</td><td>0</td><td>0</td></tr><tr><td>2015</td><td>3</td><td>9</td><td>1</td><td>&quot;HA&quot;</td><td>51</td><td>&quot;N385HA&quot;</td><td>&quot;JFK&quot;</td><td>&quot;HNL&quot;</td><td>1000</td><td>955</td><td>-5</td><td>9</td><td>1004</td><td>680</td><td>708</td><td>687</td><td>4983</td><td>1531</td><td>12</td><td>1520</td><td>1543</td><td>23</td><td>0</td><td>0</td><td>null</td><td>0</td><td>0</td><td>0</td><td>0</td><td>23</td></tr><tr><td>2015</td><td>3</td><td>12</td><td>4</td><td>&quot;HA&quot;</td><td>51</td><td>&quot;N370HA&quot;</td><td>&quot;JFK&quot;</td><td>&quot;HNL&quot;</td><td>1000</td><td>958</td><td>-2</td><td>40</td><td>1038</td><td>680</td><td>733</td><td>687</td><td>4983</td><td>1605</td><td>6</td><td>1520</td><td>1611</td><td>51</td><td>0</td><td>0</td><td>null</td><td>0</td><td>0</td><td>51</td><td>0</td><td>0</td></tr><tr><td>2015</td><td>2</td><td>9</td><td>1</td><td>&quot;HA&quot;</td><td>51</td><td>&quot;N374HA&quot;</td><td>&quot;JFK&quot;</td><td>&quot;HNL&quot;</td><td>935</td><td>924</td><td>1429</td><td>18</td><td>942</td><td>675</td><td>713</td><td>684</td><td>4983</td><td>1606</td><td>11</td><td>1550</td><td>1617</td><td>1467</td><td>0</td><td>0</td><td>null</td><td>0</td><td>0</td><td>1467</td><td>0</td><td>0</td></tr><tr><td>&hellip;</td><td>&hellip;</td><td>&hellip;</td><td>&hellip;</td><td>&hellip;</td><td>&hellip;</td><td>&hellip;</td><td>&hellip;</td><td>&hellip;</td><td>&hellip;</td><td>&hellip;</td><td>&hellip;</td><td>&hellip;</td><td>&hellip;</td><td>&hellip;</td><td>&hellip;</td><td>&hellip;</td><td>&hellip;</td><td>&hellip;</td><td>&hellip;</td><td>&hellip;</td><td>&hellip;</td><td>&hellip;</td><td>&hellip;</td><td>&hellip;</td><td>&hellip;</td><td>&hellip;</td><td>&hellip;</td><td>&hellip;</td><td>&hellip;</td><td>&hellip;</td></tr><tr><td>2015</td><td>10</td><td>26</td><td>1</td><td>&quot;AS&quot;</td><td>65</td><td>&quot;N778AS&quot;</td><td>&quot;15841&quot;</td><td>&quot;14256&quot;</td><td>1110</td><td>1155</td><td>45</td><td>7</td><td>1202</td><td>24</td><td>null</td><td>null</td><td>31</td><td>null</td><td>null</td><td>1134</td><td>null</td><td>null</td><td>1</td><td>0</td><td>null</td><td>null</td><td>null</td><td>null</td><td>null</td><td>null</td></tr><tr><td>2015</td><td>11</td><td>16</td><td>1</td><td>&quot;AS&quot;</td><td>65</td><td>&quot;N769AS&quot;</td><td>&quot;WRG&quot;</td><td>&quot;PSG&quot;</td><td>1106</td><td>1107</td><td>1</td><td>23</td><td>1130</td><td>23</td><td>null</td><td>null</td><td>31</td><td>null</td><td>null</td><td>1129</td><td>null</td><td>null</td><td>1</td><td>0</td><td>null</td><td>null</td><td>null</td><td>null</td><td>null</td><td>null</td></tr><tr><td>2015</td><td>12</td><td>4</td><td>5</td><td>&quot;AS&quot;</td><td>64</td><td>&quot;N779AS&quot;</td><td>&quot;PSG&quot;</td><td>&quot;WRG&quot;</td><td>1520</td><td>1642</td><td>82</td><td>5</td><td>1647</td><td>23</td><td>null</td><td>null</td><td>31</td><td>null</td><td>null</td><td>1543</td><td>null</td><td>null</td><td>1</td><td>0</td><td>null</td><td>null</td><td>null</td><td>null</td><td>null</td><td>null</td></tr><tr><td>2015</td><td>12</td><td>14</td><td>1</td><td>&quot;AS&quot;</td><td>65</td><td>&quot;N779AS&quot;</td><td>&quot;WRG&quot;</td><td>&quot;PSG&quot;</td><td>1106</td><td>null</td><td>null</td><td>null</td><td>null</td><td>21</td><td>null</td><td>null</td><td>31</td><td>null</td><td>null</td><td>1127</td><td>null</td><td>null</td><td>0</td><td>1</td><td>&quot;B&quot;</td><td>null</td><td>null</td><td>null</td><td>null</td><td>null</td></tr><tr><td>2015</td><td>4</td><td>20</td><td>1</td><td>&quot;AA&quot;</td><td>1297</td><td>&quot;N3BHAA&quot;</td><td>&quot;EWR&quot;</td><td>&quot;JFK&quot;</td><td>1040</td><td>1232</td><td>112</td><td>null</td><td>null</td><td>27</td><td>null</td><td>null</td><td>21</td><td>null</td><td>null</td><td>1107</td><td>null</td><td>null</td><td>0</td><td>1</td><td>&quot;C&quot;</td><td>null</td><td>null</td><td>null</td><td>null</td><td>null</td></tr></tbody></table></div>"
      ],
      "text/plain": [
       "shape: (5_819_079, 31)\n",
       "┌──────┬───────┬─────┬─────────────┬───┬──────────────┬──────────────┬──────────────┬──────────────┐\n",
       "│ YEAR ┆ MONTH ┆ DAY ┆ DAY_OF_WEEK ┆ … ┆ SECURITY_DEL ┆ AIRLINE_DELA ┆ LATE_AIRCRAF ┆ WEATHER_DELA │\n",
       "│ ---  ┆ ---   ┆ --- ┆ ---         ┆   ┆ AY           ┆ Y            ┆ T_DELAY      ┆ Y            │\n",
       "│ i32  ┆ i32   ┆ i32 ┆ i32         ┆   ┆ ---          ┆ ---          ┆ ---          ┆ ---          │\n",
       "│      ┆       ┆     ┆             ┆   ┆ i32          ┆ i32          ┆ i32          ┆ i32          │\n",
       "╞══════╪═══════╪═════╪═════════════╪═══╪══════════════╪══════════════╪══════════════╪══════════════╡\n",
       "│ 2015 ┆ 3     ┆ 19  ┆ 4           ┆ … ┆ 0            ┆ 982          ┆ 0            ┆ 0            │\n",
       "│ 2015 ┆ 12    ┆ 2   ┆ 3           ┆ … ┆ 0            ┆ 42           ┆ 0            ┆ 0            │\n",
       "│ 2015 ┆ 3     ┆ 9   ┆ 1           ┆ … ┆ 0            ┆ 0            ┆ 0            ┆ 23           │\n",
       "│ 2015 ┆ 3     ┆ 12  ┆ 4           ┆ … ┆ 0            ┆ 51           ┆ 0            ┆ 0            │\n",
       "│ 2015 ┆ 2     ┆ 9   ┆ 1           ┆ … ┆ 0            ┆ 1467         ┆ 0            ┆ 0            │\n",
       "│ …    ┆ …     ┆ …   ┆ …           ┆ … ┆ …            ┆ …            ┆ …            ┆ …            │\n",
       "│ 2015 ┆ 10    ┆ 26  ┆ 1           ┆ … ┆ null         ┆ null         ┆ null         ┆ null         │\n",
       "│ 2015 ┆ 11    ┆ 16  ┆ 1           ┆ … ┆ null         ┆ null         ┆ null         ┆ null         │\n",
       "│ 2015 ┆ 12    ┆ 4   ┆ 5           ┆ … ┆ null         ┆ null         ┆ null         ┆ null         │\n",
       "│ 2015 ┆ 12    ┆ 14  ┆ 1           ┆ … ┆ null         ┆ null         ┆ null         ┆ null         │\n",
       "│ 2015 ┆ 4     ┆ 20  ┆ 1           ┆ … ┆ null         ┆ null         ┆ null         ┆ null         │\n",
       "└──────┴───────┴─────┴─────────────┴───┴──────────────┴──────────────┴──────────────┴──────────────┘"
      ]
     },
     "execution_count": 5,
     "metadata": {},
     "output_type": "execute_result"
    }
   ],
   "source": [
    "vuelos.sort(['AIR_TIME', 'DISTANCE'], descending=True, nulls_last=True)"
   ]
  },
  {
   "cell_type": "markdown",
   "id": "bfc20e96-8d4a-44a1-8669-33043090fd1e",
   "metadata": {},
   "source": [
    "Si para este último caso deseamos indicarle un orden específico (ascendente o descendente) para cada columna podemos pasarle al parámetro `descending` una lista con los valores `True` o `False` indicándole el tipo de orden de cada columna."
   ]
  },
  {
   "cell_type": "code",
   "execution_count": 6,
   "id": "b1442aaa-d653-4836-bb5a-2b9e4cdeb7ae",
   "metadata": {
    "tags": []
   },
   "outputs": [
    {
     "data": {
      "text/html": [
       "<div><style>\n",
       ".dataframe > thead > tr,\n",
       ".dataframe > tbody > tr {\n",
       "  text-align: right;\n",
       "  white-space: pre-wrap;\n",
       "}\n",
       "</style>\n",
       "<small>shape: (5_819_079, 31)</small><table border=\"1\" class=\"dataframe\"><thead><tr><th>YEAR</th><th>MONTH</th><th>DAY</th><th>DAY_OF_WEEK</th><th>AIRLINE</th><th>FLIGHT_NUMBER</th><th>TAIL_NUMBER</th><th>ORIGIN_AIRPORT</th><th>DESTINATION_AIRPORT</th><th>SCHEDULED_DEPARTURE</th><th>DEPARTURE_TIME</th><th>DEPARTURE_DELAY</th><th>TAXI_OUT</th><th>WHEELS_OFF</th><th>SCHEDULED_TIME</th><th>ELAPSED_TIME</th><th>AIR_TIME</th><th>DISTANCE</th><th>WHEELS_ON</th><th>TAXI_IN</th><th>SCHEDULED_ARRIVAL</th><th>ARRIVAL_TIME</th><th>ARRIVAL_DELAY</th><th>DIVERTED</th><th>CANCELLED</th><th>CANCELLATION_REASON</th><th>AIR_SYSTEM_DELAY</th><th>SECURITY_DELAY</th><th>AIRLINE_DELAY</th><th>LATE_AIRCRAFT_DELAY</th><th>WEATHER_DELAY</th></tr><tr><td>i32</td><td>i32</td><td>i32</td><td>i32</td><td>str</td><td>i32</td><td>str</td><td>str</td><td>str</td><td>i32</td><td>i32</td><td>i32</td><td>i32</td><td>i32</td><td>i32</td><td>i32</td><td>i32</td><td>i32</td><td>i32</td><td>i32</td><td>i32</td><td>i32</td><td>i32</td><td>i32</td><td>i32</td><td>str</td><td>i32</td><td>i32</td><td>i32</td><td>i32</td><td>i32</td></tr></thead><tbody><tr><td>2015</td><td>3</td><td>19</td><td>4</td><td>&quot;HA&quot;</td><td>51</td><td>&quot;N375HA&quot;</td><td>&quot;JFK&quot;</td><td>&quot;HNL&quot;</td><td>1000</td><td>152</td><td>952</td><td>14</td><td>206</td><td>680</td><td>710</td><td>690</td><td>4983</td><td>736</td><td>6</td><td>1520</td><td>742</td><td>982</td><td>0</td><td>0</td><td>null</td><td>0</td><td>0</td><td>982</td><td>0</td><td>0</td></tr><tr><td>2015</td><td>12</td><td>2</td><td>3</td><td>&quot;HA&quot;</td><td>51</td><td>&quot;N388HA&quot;</td><td>&quot;JFK&quot;</td><td>&quot;HNL&quot;</td><td>925</td><td>917</td><td>-8</td><td>36</td><td>953</td><td>680</td><td>730</td><td>690</td><td>4983</td><td>1623</td><td>4</td><td>1545</td><td>1627</td><td>42</td><td>0</td><td>0</td><td>null</td><td>0</td><td>0</td><td>42</td><td>0</td><td>0</td></tr><tr><td>2015</td><td>3</td><td>9</td><td>1</td><td>&quot;HA&quot;</td><td>51</td><td>&quot;N385HA&quot;</td><td>&quot;JFK&quot;</td><td>&quot;HNL&quot;</td><td>1000</td><td>955</td><td>-5</td><td>9</td><td>1004</td><td>680</td><td>708</td><td>687</td><td>4983</td><td>1531</td><td>12</td><td>1520</td><td>1543</td><td>23</td><td>0</td><td>0</td><td>null</td><td>0</td><td>0</td><td>0</td><td>0</td><td>23</td></tr><tr><td>2015</td><td>3</td><td>12</td><td>4</td><td>&quot;HA&quot;</td><td>51</td><td>&quot;N370HA&quot;</td><td>&quot;JFK&quot;</td><td>&quot;HNL&quot;</td><td>1000</td><td>958</td><td>-2</td><td>40</td><td>1038</td><td>680</td><td>733</td><td>687</td><td>4983</td><td>1605</td><td>6</td><td>1520</td><td>1611</td><td>51</td><td>0</td><td>0</td><td>null</td><td>0</td><td>0</td><td>51</td><td>0</td><td>0</td></tr><tr><td>2015</td><td>2</td><td>9</td><td>1</td><td>&quot;HA&quot;</td><td>51</td><td>&quot;N374HA&quot;</td><td>&quot;JFK&quot;</td><td>&quot;HNL&quot;</td><td>935</td><td>924</td><td>1429</td><td>18</td><td>942</td><td>675</td><td>713</td><td>684</td><td>4983</td><td>1606</td><td>11</td><td>1550</td><td>1617</td><td>1467</td><td>0</td><td>0</td><td>null</td><td>0</td><td>0</td><td>1467</td><td>0</td><td>0</td></tr><tr><td>&hellip;</td><td>&hellip;</td><td>&hellip;</td><td>&hellip;</td><td>&hellip;</td><td>&hellip;</td><td>&hellip;</td><td>&hellip;</td><td>&hellip;</td><td>&hellip;</td><td>&hellip;</td><td>&hellip;</td><td>&hellip;</td><td>&hellip;</td><td>&hellip;</td><td>&hellip;</td><td>&hellip;</td><td>&hellip;</td><td>&hellip;</td><td>&hellip;</td><td>&hellip;</td><td>&hellip;</td><td>&hellip;</td><td>&hellip;</td><td>&hellip;</td><td>&hellip;</td><td>&hellip;</td><td>&hellip;</td><td>&hellip;</td><td>&hellip;</td><td>&hellip;</td></tr><tr><td>2015</td><td>7</td><td>1</td><td>3</td><td>&quot;UA&quot;</td><td>14</td><td>null</td><td>&quot;HNL&quot;</td><td>&quot;EWR&quot;</td><td>2010</td><td>null</td><td>null</td><td>null</td><td>null</td><td>583</td><td>null</td><td>null</td><td>4962</td><td>null</td><td>null</td><td>1153</td><td>null</td><td>null</td><td>0</td><td>1</td><td>&quot;A&quot;</td><td>null</td><td>null</td><td>null</td><td>null</td><td>null</td></tr><tr><td>2015</td><td>7</td><td>2</td><td>4</td><td>&quot;UA&quot;</td><td>15</td><td>&quot;N59053&quot;</td><td>&quot;EWR&quot;</td><td>&quot;HNL&quot;</td><td>915</td><td>920</td><td>5</td><td>18</td><td>938</td><td>652</td><td>null</td><td>null</td><td>4962</td><td>null</td><td>null</td><td>1407</td><td>null</td><td>null</td><td>1</td><td>0</td><td>null</td><td>null</td><td>null</td><td>null</td><td>null</td><td>null</td></tr><tr><td>2015</td><td>7</td><td>22</td><td>3</td><td>&quot;UA&quot;</td><td>14</td><td>&quot;N59053&quot;</td><td>&quot;HNL&quot;</td><td>&quot;EWR&quot;</td><td>2010</td><td>2010</td><td>0</td><td>21</td><td>2031</td><td>583</td><td>null</td><td>null</td><td>4962</td><td>1320</td><td>10</td><td>1153</td><td>1330</td><td>null</td><td>1</td><td>0</td><td>null</td><td>null</td><td>null</td><td>null</td><td>null</td><td>null</td></tr><tr><td>2015</td><td>7</td><td>31</td><td>5</td><td>&quot;UA&quot;</td><td>14</td><td>null</td><td>&quot;HNL&quot;</td><td>&quot;EWR&quot;</td><td>2010</td><td>null</td><td>null</td><td>null</td><td>null</td><td>583</td><td>null</td><td>null</td><td>4962</td><td>null</td><td>null</td><td>1153</td><td>null</td><td>null</td><td>0</td><td>1</td><td>&quot;A&quot;</td><td>null</td><td>null</td><td>null</td><td>null</td><td>null</td></tr><tr><td>2015</td><td>9</td><td>30</td><td>3</td><td>&quot;UA&quot;</td><td>14</td><td>&quot;N66057&quot;</td><td>&quot;HNL&quot;</td><td>&quot;EWR&quot;</td><td>2010</td><td>2012</td><td>2</td><td>19</td><td>2031</td><td>581</td><td>null</td><td>null</td><td>4962</td><td>null</td><td>null</td><td>1151</td><td>null</td><td>null</td><td>0</td><td>1</td><td>&quot;A&quot;</td><td>null</td><td>null</td><td>null</td><td>null</td><td>null</td></tr></tbody></table></div>"
      ],
      "text/plain": [
       "shape: (5_819_079, 31)\n",
       "┌──────┬───────┬─────┬─────────────┬───┬──────────────┬──────────────┬──────────────┬──────────────┐\n",
       "│ YEAR ┆ MONTH ┆ DAY ┆ DAY_OF_WEEK ┆ … ┆ SECURITY_DEL ┆ AIRLINE_DELA ┆ LATE_AIRCRAF ┆ WEATHER_DELA │\n",
       "│ ---  ┆ ---   ┆ --- ┆ ---         ┆   ┆ AY           ┆ Y            ┆ T_DELAY      ┆ Y            │\n",
       "│ i32  ┆ i32   ┆ i32 ┆ i32         ┆   ┆ ---          ┆ ---          ┆ ---          ┆ ---          │\n",
       "│      ┆       ┆     ┆             ┆   ┆ i32          ┆ i32          ┆ i32          ┆ i32          │\n",
       "╞══════╪═══════╪═════╪═════════════╪═══╪══════════════╪══════════════╪══════════════╪══════════════╡\n",
       "│ 2015 ┆ 3     ┆ 19  ┆ 4           ┆ … ┆ 0            ┆ 982          ┆ 0            ┆ 0            │\n",
       "│ 2015 ┆ 12    ┆ 2   ┆ 3           ┆ … ┆ 0            ┆ 42           ┆ 0            ┆ 0            │\n",
       "│ 2015 ┆ 3     ┆ 9   ┆ 1           ┆ … ┆ 0            ┆ 0            ┆ 0            ┆ 23           │\n",
       "│ 2015 ┆ 3     ┆ 12  ┆ 4           ┆ … ┆ 0            ┆ 51           ┆ 0            ┆ 0            │\n",
       "│ 2015 ┆ 2     ┆ 9   ┆ 1           ┆ … ┆ 0            ┆ 1467         ┆ 0            ┆ 0            │\n",
       "│ …    ┆ …     ┆ …   ┆ …           ┆ … ┆ …            ┆ …            ┆ …            ┆ …            │\n",
       "│ 2015 ┆ 7     ┆ 1   ┆ 3           ┆ … ┆ null         ┆ null         ┆ null         ┆ null         │\n",
       "│ 2015 ┆ 7     ┆ 2   ┆ 4           ┆ … ┆ null         ┆ null         ┆ null         ┆ null         │\n",
       "│ 2015 ┆ 7     ┆ 22  ┆ 3           ┆ … ┆ null         ┆ null         ┆ null         ┆ null         │\n",
       "│ 2015 ┆ 7     ┆ 31  ┆ 5           ┆ … ┆ null         ┆ null         ┆ null         ┆ null         │\n",
       "│ 2015 ┆ 9     ┆ 30  ┆ 3           ┆ … ┆ null         ┆ null         ┆ null         ┆ null         │\n",
       "└──────┴───────┴─────┴─────────────┴───┴──────────────┴──────────────┴──────────────┴──────────────┘"
      ]
     },
     "execution_count": 6,
     "metadata": {},
     "output_type": "execute_result"
    }
   ],
   "source": [
    "vuelos.sort(['AIR_TIME', 'DISTANCE'], descending=[True, False], nulls_last=True)"
   ]
  },
  {
   "cell_type": "markdown",
   "id": "e262727c-0758-4545-8285-545740950c49",
   "metadata": {},
   "source": [
    "## `join`\n",
    "\n",
    "Esta función realiza el join entre dos DataFrames similar a como lo haría en SQL."
   ]
  },
  {
   "cell_type": "code",
   "execution_count": 7,
   "id": "58de66ec-6f8d-425a-886f-c92a75718779",
   "metadata": {
    "tags": []
   },
   "outputs": [
    {
     "name": "stdout",
     "output_type": "stream",
     "text": [
      "shape: (4, 2)\n",
      "┌─────┬─────────────┐\n",
      "│ id  ┆ nombre_dpto │\n",
      "│ --- ┆ ---         │\n",
      "│ i64 ┆ str         │\n",
      "╞═════╪═════════════╡\n",
      "│ 31  ┆ letras      │\n",
      "│ 33  ┆ derecho     │\n",
      "│ 34  ┆ matemática  │\n",
      "│ 35  ┆ informática │\n",
      "└─────┴─────────────┘\n",
      "shape: (6, 2)\n",
      "┌────────┬──────────┐\n",
      "│ nombre ┆ num_dpto │\n",
      "│ ---    ┆ ---      │\n",
      "│ str    ┆ i64      │\n",
      "╞════════╪══════════╡\n",
      "│ Luis   ┆ 33       │\n",
      "│ Katia  ┆ 33       │\n",
      "│ Raul   ┆ 34       │\n",
      "│ Pedro  ┆ 0        │\n",
      "│ Laura  ┆ 34       │\n",
      "│ Sandro ┆ 31       │\n",
      "└────────┴──────────┘\n"
     ]
    }
   ],
   "source": [
    "departamentos = pl.read_parquet('./data/departamentos/', use_pyarrow=True)\n",
    "\n",
    "empleados = pl.read_parquet('./data/empleados/', use_pyarrow=True)\n",
    "\n",
    "print(departamentos)\n",
    "\n",
    "print(empleados)"
   ]
  },
  {
   "cell_type": "code",
   "execution_count": 8,
   "id": "4ec214df-bafd-4569-bd74-2614a350b536",
   "metadata": {
    "tags": []
   },
   "outputs": [
    {
     "data": {
      "text/html": [
       "<div><style>\n",
       ".dataframe > thead > tr,\n",
       ".dataframe > tbody > tr {\n",
       "  text-align: right;\n",
       "  white-space: pre-wrap;\n",
       "}\n",
       "</style>\n",
       "<small>shape: (5, 3)</small><table border=\"1\" class=\"dataframe\"><thead><tr><th>nombre</th><th>num_dpto</th><th>nombre_dpto</th></tr><tr><td>str</td><td>i64</td><td>str</td></tr></thead><tbody><tr><td>&quot;Luis&quot;</td><td>33</td><td>&quot;derecho&quot;</td></tr><tr><td>&quot;Katia&quot;</td><td>33</td><td>&quot;derecho&quot;</td></tr><tr><td>&quot;Raul&quot;</td><td>34</td><td>&quot;matemática&quot;</td></tr><tr><td>&quot;Laura&quot;</td><td>34</td><td>&quot;matemática&quot;</td></tr><tr><td>&quot;Sandro&quot;</td><td>31</td><td>&quot;letras&quot;</td></tr></tbody></table></div>"
      ],
      "text/plain": [
       "shape: (5, 3)\n",
       "┌────────┬──────────┬─────────────┐\n",
       "│ nombre ┆ num_dpto ┆ nombre_dpto │\n",
       "│ ---    ┆ ---      ┆ ---         │\n",
       "│ str    ┆ i64      ┆ str         │\n",
       "╞════════╪══════════╪═════════════╡\n",
       "│ Luis   ┆ 33       ┆ derecho     │\n",
       "│ Katia  ┆ 33       ┆ derecho     │\n",
       "│ Raul   ┆ 34       ┆ matemática  │\n",
       "│ Laura  ┆ 34       ┆ matemática  │\n",
       "│ Sandro ┆ 31       ┆ letras      │\n",
       "└────────┴──────────┴─────────────┘"
      ]
     },
     "execution_count": 8,
     "metadata": {},
     "output_type": "execute_result"
    }
   ],
   "source": [
    "empleados.join(departamentos, left_on='num_dpto', right_on='id', how='inner')"
   ]
  },
  {
   "cell_type": "markdown",
   "id": "99860dad-c460-4e52-8516-58e82ca24265",
   "metadata": {},
   "source": [
    "Vamos a renombrar la columna `num_dpto` del DataFrame `empleados` a `id`."
   ]
  },
  {
   "cell_type": "code",
   "execution_count": 9,
   "id": "9278f373-43ea-432d-a02e-316c2a470c05",
   "metadata": {
    "tags": []
   },
   "outputs": [],
   "source": [
    "from polars import col\n",
    "\n",
    "empleados = empleados.rename({'num_dpto': 'id'})"
   ]
  },
  {
   "cell_type": "markdown",
   "id": "616b41ad-b50b-40ab-b8ab-7b7d7a2b6ce0",
   "metadata": {},
   "source": [
    "Si deseamos realizar un join entre dos DataFrames por una columna que tiene el mismo nombre en ambos DataFrame utilizamos el parámetro `on=colName`."
   ]
  },
  {
   "cell_type": "code",
   "execution_count": 10,
   "id": "d57eba6a-f1a4-4f50-b3b5-83f8e118b96a",
   "metadata": {
    "tags": []
   },
   "outputs": [
    {
     "data": {
      "text/html": [
       "<div><style>\n",
       ".dataframe > thead > tr,\n",
       ".dataframe > tbody > tr {\n",
       "  text-align: right;\n",
       "  white-space: pre-wrap;\n",
       "}\n",
       "</style>\n",
       "<small>shape: (6, 3)</small><table border=\"1\" class=\"dataframe\"><thead><tr><th>nombre</th><th>id</th><th>nombre_dpto</th></tr><tr><td>str</td><td>i64</td><td>str</td></tr></thead><tbody><tr><td>&quot;Luis&quot;</td><td>33</td><td>&quot;derecho&quot;</td></tr><tr><td>&quot;Katia&quot;</td><td>33</td><td>&quot;derecho&quot;</td></tr><tr><td>&quot;Raul&quot;</td><td>34</td><td>&quot;matemática&quot;</td></tr><tr><td>&quot;Pedro&quot;</td><td>0</td><td>null</td></tr><tr><td>&quot;Laura&quot;</td><td>34</td><td>&quot;matemática&quot;</td></tr><tr><td>&quot;Sandro&quot;</td><td>31</td><td>&quot;letras&quot;</td></tr></tbody></table></div>"
      ],
      "text/plain": [
       "shape: (6, 3)\n",
       "┌────────┬─────┬─────────────┐\n",
       "│ nombre ┆ id  ┆ nombre_dpto │\n",
       "│ ---    ┆ --- ┆ ---         │\n",
       "│ str    ┆ i64 ┆ str         │\n",
       "╞════════╪═════╪═════════════╡\n",
       "│ Luis   ┆ 33  ┆ derecho     │\n",
       "│ Katia  ┆ 33  ┆ derecho     │\n",
       "│ Raul   ┆ 34  ┆ matemática  │\n",
       "│ Pedro  ┆ 0   ┆ null        │\n",
       "│ Laura  ┆ 34  ┆ matemática  │\n",
       "│ Sandro ┆ 31  ┆ letras      │\n",
       "└────────┴─────┴─────────────┘"
      ]
     },
     "execution_count": 10,
     "metadata": {},
     "output_type": "execute_result"
    }
   ],
   "source": [
    "empleados.join(departamentos, on='id', how='left')"
   ]
  },
  {
   "cell_type": "code",
   "execution_count": 11,
   "id": "ce2fd08c-98ee-43f3-84ca-58e76ce4b205",
   "metadata": {
    "tags": []
   },
   "outputs": [
    {
     "data": {
      "text/html": [
       "<div><style>\n",
       ".dataframe > thead > tr,\n",
       ".dataframe > tbody > tr {\n",
       "  text-align: right;\n",
       "  white-space: pre-wrap;\n",
       "}\n",
       "</style>\n",
       "<small>shape: (1, 2)</small><table border=\"1\" class=\"dataframe\"><thead><tr><th>nombre</th><th>id</th></tr><tr><td>str</td><td>i64</td></tr></thead><tbody><tr><td>&quot;Pedro&quot;</td><td>0</td></tr></tbody></table></div>"
      ],
      "text/plain": [
       "shape: (1, 2)\n",
       "┌────────┬─────┐\n",
       "│ nombre ┆ id  │\n",
       "│ ---    ┆ --- │\n",
       "│ str    ┆ i64 │\n",
       "╞════════╪═════╡\n",
       "│ Pedro  ┆ 0   │\n",
       "└────────┴─────┘"
      ]
     },
     "execution_count": 11,
     "metadata": {},
     "output_type": "execute_result"
    }
   ],
   "source": [
    "empleados.join(departamentos, on='id', how='anti')"
   ]
  },
  {
   "cell_type": "code",
   "execution_count": 12,
   "id": "ceffbbe6-a3cd-4cb5-ba44-25a2067a6c7b",
   "metadata": {
    "tags": []
   },
   "outputs": [
    {
     "data": {
      "text/html": [
       "<div><style>\n",
       ".dataframe > thead > tr,\n",
       ".dataframe > tbody > tr {\n",
       "  text-align: right;\n",
       "  white-space: pre-wrap;\n",
       "}\n",
       "</style>\n",
       "<small>shape: (5, 2)</small><table border=\"1\" class=\"dataframe\"><thead><tr><th>nombre</th><th>id</th></tr><tr><td>str</td><td>i64</td></tr></thead><tbody><tr><td>&quot;Luis&quot;</td><td>33</td></tr><tr><td>&quot;Katia&quot;</td><td>33</td></tr><tr><td>&quot;Raul&quot;</td><td>34</td></tr><tr><td>&quot;Laura&quot;</td><td>34</td></tr><tr><td>&quot;Sandro&quot;</td><td>31</td></tr></tbody></table></div>"
      ],
      "text/plain": [
       "shape: (5, 2)\n",
       "┌────────┬─────┐\n",
       "│ nombre ┆ id  │\n",
       "│ ---    ┆ --- │\n",
       "│ str    ┆ i64 │\n",
       "╞════════╪═════╡\n",
       "│ Luis   ┆ 33  │\n",
       "│ Katia  ┆ 33  │\n",
       "│ Raul   ┆ 34  │\n",
       "│ Laura  ┆ 34  │\n",
       "│ Sandro ┆ 31  │\n",
       "└────────┴─────┘"
      ]
     },
     "execution_count": 12,
     "metadata": {},
     "output_type": "execute_result"
    }
   ],
   "source": [
    "empleados.join(departamentos, on='id', how='semi')"
   ]
  },
  {
   "cell_type": "markdown",
   "id": "9ccf5979-8419-4377-8fe0-70cd007260ae",
   "metadata": {},
   "source": [
    "## `pivot`\n",
    "\n",
    "Esta función permite crear agregaciones por grupos con pivoteo de alguna columna.\n",
    "\n",
    "Para mostrar como trabaja esta función vamos a leer el DataFrame de estudiantes y vamos a responder la siguiente pregunta:\n",
    "\n",
    "¿Cuál fue el promedio de peso de los estudiantes por año de graduación y sexo?"
   ]
  },
  {
   "cell_type": "code",
   "execution_count": 13,
   "id": "eee1d3ac-bed0-4ec4-b215-cb3d9a9a143b",
   "metadata": {
    "tags": []
   },
   "outputs": [
    {
     "data": {
      "text/html": [
       "<div><style>\n",
       ".dataframe > thead > tr,\n",
       ".dataframe > tbody > tr {\n",
       "  text-align: right;\n",
       "  white-space: pre-wrap;\n",
       "}\n",
       "</style>\n",
       "<small>shape: (5, 4)</small><table border=\"1\" class=\"dataframe\"><thead><tr><th>nombre</th><th>sexo</th><th>peso</th><th>graduacion</th></tr><tr><td>str</td><td>str</td><td>i64</td><td>i64</td></tr></thead><tbody><tr><td>&quot;Jose&quot;</td><td>&quot;M&quot;</td><td>80</td><td>2000</td></tr><tr><td>&quot;Hilda&quot;</td><td>&quot;F&quot;</td><td>50</td><td>2000</td></tr><tr><td>&quot;Juan&quot;</td><td>&quot;M&quot;</td><td>75</td><td>2000</td></tr><tr><td>&quot;Pedro&quot;</td><td>&quot;M&quot;</td><td>76</td><td>2001</td></tr><tr><td>&quot;Katia+&quot;</td><td>&quot;F&quot;</td><td>65</td><td>2001</td></tr></tbody></table></div>"
      ],
      "text/plain": [
       "shape: (5, 4)\n",
       "┌────────┬──────┬──────┬────────────┐\n",
       "│ nombre ┆ sexo ┆ peso ┆ graduacion │\n",
       "│ ---    ┆ ---  ┆ ---  ┆ ---        │\n",
       "│ str    ┆ str  ┆ i64  ┆ i64        │\n",
       "╞════════╪══════╪══════╪════════════╡\n",
       "│ Jose   ┆ M    ┆ 80   ┆ 2000       │\n",
       "│ Hilda  ┆ F    ┆ 50   ┆ 2000       │\n",
       "│ Juan   ┆ M    ┆ 75   ┆ 2000       │\n",
       "│ Pedro  ┆ M    ┆ 76   ┆ 2001       │\n",
       "│ Katia+ ┆ F    ┆ 65   ┆ 2001       │\n",
       "└────────┴──────┴──────┴────────────┘"
      ]
     },
     "execution_count": 13,
     "metadata": {},
     "output_type": "execute_result"
    }
   ],
   "source": [
    "estudiantes = pl.read_parquet('./data/pivoteo/', use_pyarrow=True)\n",
    "\n",
    "estudiantes"
   ]
  },
  {
   "cell_type": "markdown",
   "id": "420170a8-82c4-4c12-a420-097a38d5f26f",
   "metadata": {},
   "source": [
    "Los principales parámetros son los siguientes:\n",
    "- `index`: columna por la cual deseamos agrupar\n",
    "- `columns`: columna por la cual deseamos realizar el pivoteo\n",
    "- `values`: columna a la cual deseamos realizarle la agregación\n",
    "- `aggregate_function`: función de agregación que se desea aplicar\n",
    "    - Este parámetro admite las siguientes opciones: `min`, `max`, `first`, `last`, `sum`, `mean`, `median` y `len`"
   ]
  },
  {
   "cell_type": "code",
   "execution_count": 14,
   "id": "3a0918c3-7630-4064-9606-7dcdefe45452",
   "metadata": {
    "tags": []
   },
   "outputs": [
    {
     "data": {
      "text/html": [
       "<div><style>\n",
       ".dataframe > thead > tr,\n",
       ".dataframe > tbody > tr {\n",
       "  text-align: right;\n",
       "  white-space: pre-wrap;\n",
       "}\n",
       "</style>\n",
       "<small>shape: (2, 3)</small><table border=\"1\" class=\"dataframe\"><thead><tr><th>graduacion</th><th>M</th><th>F</th></tr><tr><td>i64</td><td>f64</td><td>f64</td></tr></thead><tbody><tr><td>2000</td><td>77.5</td><td>50.0</td></tr><tr><td>2001</td><td>76.0</td><td>65.0</td></tr></tbody></table></div>"
      ],
      "text/plain": [
       "shape: (2, 3)\n",
       "┌────────────┬──────┬──────┐\n",
       "│ graduacion ┆ M    ┆ F    │\n",
       "│ ---        ┆ ---  ┆ ---  │\n",
       "│ i64        ┆ f64  ┆ f64  │\n",
       "╞════════════╪══════╪══════╡\n",
       "│ 2000       ┆ 77.5 ┆ 50.0 │\n",
       "│ 2001       ┆ 76.0 ┆ 65.0 │\n",
       "└────────────┴──────┴──────┘"
      ]
     },
     "execution_count": 14,
     "metadata": {},
     "output_type": "execute_result"
    }
   ],
   "source": [
    "estudiantes.pivot(\n",
    "    index='graduacion',\n",
    "    columns='sexo',\n",
    "    values='peso',\n",
    "    aggregate_function='mean'\n",
    ")"
   ]
  },
  {
   "cell_type": "markdown",
   "id": "c87f9de0-cf21-4b91-9ddc-f6b66d35cd30",
   "metadata": {},
   "source": [
    "## `to_dummies`\n",
    "\n",
    "Esta función convierte una columna categórica en variables indicadoras. Si no se le proporciona ningún argumento convertirá todas las columnas del DataFrame a dummies."
   ]
  },
  {
   "cell_type": "code",
   "execution_count": 15,
   "id": "6c64bc69-504d-44f5-a2f9-90b2ed57613a",
   "metadata": {
    "tags": []
   },
   "outputs": [
    {
     "data": {
      "text/html": [
       "<div><style>\n",
       ".dataframe > thead > tr,\n",
       ".dataframe > tbody > tr {\n",
       "  text-align: right;\n",
       "  white-space: pre-wrap;\n",
       "}\n",
       "</style>\n",
       "<small>shape: (5, 4)</small><table border=\"1\" class=\"dataframe\"><thead><tr><th>nombre</th><th>sexo</th><th>peso</th><th>graduacion</th></tr><tr><td>str</td><td>str</td><td>i64</td><td>i64</td></tr></thead><tbody><tr><td>&quot;Jose&quot;</td><td>&quot;M&quot;</td><td>80</td><td>2000</td></tr><tr><td>&quot;Hilda&quot;</td><td>&quot;F&quot;</td><td>50</td><td>2000</td></tr><tr><td>&quot;Juan&quot;</td><td>&quot;M&quot;</td><td>75</td><td>2000</td></tr><tr><td>&quot;Pedro&quot;</td><td>&quot;M&quot;</td><td>76</td><td>2001</td></tr><tr><td>&quot;Katia+&quot;</td><td>&quot;F&quot;</td><td>65</td><td>2001</td></tr></tbody></table></div>"
      ],
      "text/plain": [
       "shape: (5, 4)\n",
       "┌────────┬──────┬──────┬────────────┐\n",
       "│ nombre ┆ sexo ┆ peso ┆ graduacion │\n",
       "│ ---    ┆ ---  ┆ ---  ┆ ---        │\n",
       "│ str    ┆ str  ┆ i64  ┆ i64        │\n",
       "╞════════╪══════╪══════╪════════════╡\n",
       "│ Jose   ┆ M    ┆ 80   ┆ 2000       │\n",
       "│ Hilda  ┆ F    ┆ 50   ┆ 2000       │\n",
       "│ Juan   ┆ M    ┆ 75   ┆ 2000       │\n",
       "│ Pedro  ┆ M    ┆ 76   ┆ 2001       │\n",
       "│ Katia+ ┆ F    ┆ 65   ┆ 2001       │\n",
       "└────────┴──────┴──────┴────────────┘"
      ]
     },
     "execution_count": 15,
     "metadata": {},
     "output_type": "execute_result"
    }
   ],
   "source": [
    "estudiantes"
   ]
  },
  {
   "cell_type": "code",
   "execution_count": 16,
   "id": "811e86f1-c8a3-44d2-9cf3-d005b66b3dbc",
   "metadata": {
    "tags": []
   },
   "outputs": [
    {
     "data": {
      "text/html": [
       "<div><style>\n",
       ".dataframe > thead > tr,\n",
       ".dataframe > tbody > tr {\n",
       "  text-align: right;\n",
       "  white-space: pre-wrap;\n",
       "}\n",
       "</style>\n",
       "<small>shape: (5, 5)</small><table border=\"1\" class=\"dataframe\"><thead><tr><th>nombre</th><th>sexo_F</th><th>sexo_M</th><th>peso</th><th>graduacion</th></tr><tr><td>str</td><td>u8</td><td>u8</td><td>i64</td><td>i64</td></tr></thead><tbody><tr><td>&quot;Jose&quot;</td><td>0</td><td>1</td><td>80</td><td>2000</td></tr><tr><td>&quot;Hilda&quot;</td><td>1</td><td>0</td><td>50</td><td>2000</td></tr><tr><td>&quot;Juan&quot;</td><td>0</td><td>1</td><td>75</td><td>2000</td></tr><tr><td>&quot;Pedro&quot;</td><td>0</td><td>1</td><td>76</td><td>2001</td></tr><tr><td>&quot;Katia+&quot;</td><td>1</td><td>0</td><td>65</td><td>2001</td></tr></tbody></table></div>"
      ],
      "text/plain": [
       "shape: (5, 5)\n",
       "┌────────┬────────┬────────┬──────┬────────────┐\n",
       "│ nombre ┆ sexo_F ┆ sexo_M ┆ peso ┆ graduacion │\n",
       "│ ---    ┆ ---    ┆ ---    ┆ ---  ┆ ---        │\n",
       "│ str    ┆ u8     ┆ u8     ┆ i64  ┆ i64        │\n",
       "╞════════╪════════╪════════╪══════╪════════════╡\n",
       "│ Jose   ┆ 0      ┆ 1      ┆ 80   ┆ 2000       │\n",
       "│ Hilda  ┆ 1      ┆ 0      ┆ 50   ┆ 2000       │\n",
       "│ Juan   ┆ 0      ┆ 1      ┆ 75   ┆ 2000       │\n",
       "│ Pedro  ┆ 0      ┆ 1      ┆ 76   ┆ 2001       │\n",
       "│ Katia+ ┆ 1      ┆ 0      ┆ 65   ┆ 2001       │\n",
       "└────────┴────────┴────────┴──────┴────────────┘"
      ]
     },
     "execution_count": 16,
     "metadata": {},
     "output_type": "execute_result"
    }
   ],
   "source": [
    "estudiantes.to_dummies('sexo')"
   ]
  },
  {
   "cell_type": "markdown",
   "id": "5392a65f-18bb-4805-b48a-780e2d284455",
   "metadata": {},
   "source": [
    "Si deseamos eliminar la primera categoría de la columna que se está convirtiendo a dummy podemos emplear el parámetro `drop_first=True`."
   ]
  },
  {
   "cell_type": "code",
   "execution_count": 17,
   "id": "8463bacb-7223-4bc7-bfe7-18d2a1dfc38f",
   "metadata": {
    "tags": []
   },
   "outputs": [
    {
     "data": {
      "text/html": [
       "<div><style>\n",
       ".dataframe > thead > tr,\n",
       ".dataframe > tbody > tr {\n",
       "  text-align: right;\n",
       "  white-space: pre-wrap;\n",
       "}\n",
       "</style>\n",
       "<small>shape: (5, 4)</small><table border=\"1\" class=\"dataframe\"><thead><tr><th>nombre</th><th>sexo_F</th><th>peso</th><th>graduacion</th></tr><tr><td>str</td><td>u8</td><td>i64</td><td>i64</td></tr></thead><tbody><tr><td>&quot;Jose&quot;</td><td>0</td><td>80</td><td>2000</td></tr><tr><td>&quot;Hilda&quot;</td><td>1</td><td>50</td><td>2000</td></tr><tr><td>&quot;Juan&quot;</td><td>0</td><td>75</td><td>2000</td></tr><tr><td>&quot;Pedro&quot;</td><td>0</td><td>76</td><td>2001</td></tr><tr><td>&quot;Katia+&quot;</td><td>1</td><td>65</td><td>2001</td></tr></tbody></table></div>"
      ],
      "text/plain": [
       "shape: (5, 4)\n",
       "┌────────┬────────┬──────┬────────────┐\n",
       "│ nombre ┆ sexo_F ┆ peso ┆ graduacion │\n",
       "│ ---    ┆ ---    ┆ ---  ┆ ---        │\n",
       "│ str    ┆ u8     ┆ i64  ┆ i64        │\n",
       "╞════════╪════════╪══════╪════════════╡\n",
       "│ Jose   ┆ 0      ┆ 80   ┆ 2000       │\n",
       "│ Hilda  ┆ 1      ┆ 50   ┆ 2000       │\n",
       "│ Juan   ┆ 0      ┆ 75   ┆ 2000       │\n",
       "│ Pedro  ┆ 0      ┆ 76   ┆ 2001       │\n",
       "│ Katia+ ┆ 1      ┆ 65   ┆ 2001       │\n",
       "└────────┴────────┴──────┴────────────┘"
      ]
     },
     "execution_count": 17,
     "metadata": {},
     "output_type": "execute_result"
    }
   ],
   "source": [
    "estudiantes.to_dummies('sexo', drop_first=True)"
   ]
  },
  {
   "cell_type": "markdown",
   "id": "b734741b-8f42-49bb-82f9-d894cb9d3267",
   "metadata": {},
   "source": [
    "## `rechunk` y `shrink_to_fit`\n",
    "\n",
    "Por último vamos a ver dos funciones que nos ayudarán a optimizar el desempeño de las consultas que se ejecuten sobre un DataFrame y a optimizar la memoria utilizada por un DataFrame."
   ]
  },
  {
   "cell_type": "markdown",
   "id": "32e839f4-fe86-451c-a23b-e79826e48dcc",
   "metadata": {},
   "source": [
    "### `rechunk`\n",
    "\n",
    "Esta función hace un \"rechunk\" de los datos del DataFrame para colocarlos en una asignación contigua de memoria.\n",
    "\n",
    "Esto garantizará que todas las operaciones posteriores tengan un rendimiento óptimo y predecible."
   ]
  },
  {
   "cell_type": "code",
   "execution_count": 18,
   "id": "933a9353-6a10-4fc9-ab81-8030ae909f01",
   "metadata": {
    "tags": []
   },
   "outputs": [
    {
     "data": {
      "text/plain": [
       "<bound method DataFrame.rechunk of shape: (5, 4)\n",
       "┌────────┬──────┬──────┬────────────┐\n",
       "│ nombre ┆ sexo ┆ peso ┆ graduacion │\n",
       "│ ---    ┆ ---  ┆ ---  ┆ ---        │\n",
       "│ str    ┆ str  ┆ i64  ┆ i64        │\n",
       "╞════════╪══════╪══════╪════════════╡\n",
       "│ Jose   ┆ M    ┆ 80   ┆ 2000       │\n",
       "│ Hilda  ┆ F    ┆ 50   ┆ 2000       │\n",
       "│ Juan   ┆ M    ┆ 75   ┆ 2000       │\n",
       "│ Pedro  ┆ M    ┆ 76   ┆ 2001       │\n",
       "│ Katia+ ┆ F    ┆ 65   ┆ 2001       │\n",
       "└────────┴──────┴──────┴────────────┘>"
      ]
     },
     "execution_count": 18,
     "metadata": {},
     "output_type": "execute_result"
    }
   ],
   "source": [
    "estudiantes.rechunk"
   ]
  },
  {
   "cell_type": "markdown",
   "id": "1b8b6ac1-f5dd-4ed7-9cc3-d897267e6f8b",
   "metadata": {},
   "source": [
    "### `shrink_to_fit`\n",
    "\n",
    "Esta función reduce el uso de memoria del DataFrame.\n",
    "\n",
    "El DataFrame se encoge para ajustarse a la capacidad exacta necesaria para contener los datos."
   ]
  },
  {
   "cell_type": "code",
   "execution_count": 19,
   "id": "099b02a9-6285-4921-a6da-9bf48abef15d",
   "metadata": {
    "tags": []
   },
   "outputs": [
    {
     "data": {
      "text/plain": [
       "<bound method DataFrame.shrink_to_fit of shape: (5, 4)\n",
       "┌────────┬──────┬──────┬────────────┐\n",
       "│ nombre ┆ sexo ┆ peso ┆ graduacion │\n",
       "│ ---    ┆ ---  ┆ ---  ┆ ---        │\n",
       "│ str    ┆ str  ┆ i64  ┆ i64        │\n",
       "╞════════╪══════╪══════╪════════════╡\n",
       "│ Jose   ┆ M    ┆ 80   ┆ 2000       │\n",
       "│ Hilda  ┆ F    ┆ 50   ┆ 2000       │\n",
       "│ Juan   ┆ M    ┆ 75   ┆ 2000       │\n",
       "│ Pedro  ┆ M    ┆ 76   ┆ 2001       │\n",
       "│ Katia+ ┆ F    ┆ 65   ┆ 2001       │\n",
       "└────────┴──────┴──────┴────────────┘>"
      ]
     },
     "execution_count": 19,
     "metadata": {},
     "output_type": "execute_result"
    }
   ],
   "source": [
    "estudiantes.shrink_to_fit"
   ]
  }
 ],
 "metadata": {
  "kernelspec": {
   "display_name": "Python 3 (ipykernel)",
   "language": "python",
   "name": "python3"
  },
  "language_info": {
   "codemirror_mode": {
    "name": "ipython",
    "version": 3
   },
   "file_extension": ".py",
   "mimetype": "text/x-python",
   "name": "python",
   "nbconvert_exporter": "python",
   "pygments_lexer": "ipython3",
   "version": "3.9.6"
  }
 },
 "nbformat": 4,
 "nbformat_minor": 5
}
