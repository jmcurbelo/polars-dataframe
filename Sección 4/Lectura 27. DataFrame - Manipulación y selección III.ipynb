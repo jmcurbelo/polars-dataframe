{
 "cells": [
  {
   "cell_type": "markdown",
   "id": "0a0c889f-a413-44a0-8dd9-30586d87e831",
   "metadata": {},
   "source": [
    "# Lectura 27: DataFrame - Manipulación y selección III"
   ]
  },
  {
   "cell_type": "markdown",
   "id": "739f0d24-2163-4a22-9cd0-c928c352770e",
   "metadata": {},
   "source": [
    "## `sort`\n",
    "\n",
    "Esta función ordena el DataFrame por la(s) columna(s) proporcionadas."
   ]
  },
  {
   "cell_type": "code",
   "execution_count": null,
   "id": "0fc4308e-9820-40c2-acca-8e37ef3dff7c",
   "metadata": {
    "tags": []
   },
   "outputs": [],
   "source": [
    "import polars as pl\n",
    "\n",
    "vuelos = pl.read_parquet('./data/vuelos/', use_pyarrow=True)\n",
    "\n",
    "vuelos"
   ]
  },
  {
   "cell_type": "code",
   "execution_count": null,
   "id": "520a1024-41e3-4c1d-9284-52b46c5b745e",
   "metadata": {
    "tags": []
   },
   "outputs": [],
   "source": [
    "vuelos.sort('AIR_TIME')"
   ]
  },
  {
   "cell_type": "markdown",
   "id": "f623615f-2c2e-4b3c-a323-906ffa43d897",
   "metadata": {},
   "source": [
    "Como se puede observar el orden por defecto es ascendente y los nulos han sido colocados de primeros. Si deseamos que los valores nulos sean colocados al final podemos emplear el parámetro `nulls_last=True`."
   ]
  },
  {
   "cell_type": "code",
   "execution_count": null,
   "id": "d145641b-5279-4d86-ba81-b3a8b5960ad2",
   "metadata": {
    "tags": []
   },
   "outputs": [],
   "source": [
    "vuelos.sort('AIR_TIME', nulls_last=True)"
   ]
  },
  {
   "cell_type": "markdown",
   "id": "ca9dce30-50b9-41e5-bf0d-fb59e6fd78bd",
   "metadata": {},
   "source": [
    "Si deseamos cambair el tipo de orden a descendiente podemos emplear el parámetro `descending=True`."
   ]
  },
  {
   "cell_type": "code",
   "execution_count": null,
   "id": "b41b6b18-a04f-4d4b-a618-2456730da90b",
   "metadata": {
    "tags": []
   },
   "outputs": [],
   "source": [
    "vuelos.sort('AIR_TIME', descending=True, nulls_last=True)"
   ]
  },
  {
   "cell_type": "markdown",
   "id": "0b9b1d8a-cac3-49cc-9956-f9a0626ed3d3",
   "metadata": {},
   "source": [
    "Si deseamos ordenar por más de una columna podemos pasarle las columnas a la función `sort` en una lista."
   ]
  },
  {
   "cell_type": "code",
   "execution_count": null,
   "id": "d9d8f41b-b31b-4d5a-aff7-b62aebb3d282",
   "metadata": {
    "tags": []
   },
   "outputs": [],
   "source": [
    "vuelos.sort(['AIR_TIME', 'DISTANCE'], descending=True, nulls_last=True)"
   ]
  },
  {
   "cell_type": "markdown",
   "id": "bfc20e96-8d4a-44a1-8669-33043090fd1e",
   "metadata": {},
   "source": [
    "Si para este último caso deseamos indicarle un orden específico (ascendente o descendente) para cada columna podemos pasarle al parámetro `descending` una lista con los valores `True` o `False` indicándole el tipo de orden de cada columna."
   ]
  },
  {
   "cell_type": "code",
   "execution_count": null,
   "id": "b1442aaa-d653-4836-bb5a-2b9e4cdeb7ae",
   "metadata": {
    "tags": []
   },
   "outputs": [],
   "source": [
    "vuelos.sort(['AIR_TIME', 'DISTANCE'], descending=[True, False], nulls_last=True)"
   ]
  },
  {
   "cell_type": "markdown",
   "id": "e262727c-0758-4545-8285-545740950c49",
   "metadata": {},
   "source": [
    "## `join`\n",
    "\n",
    "Esta función realiza el join entre dos DataFrames similar a como lo haría en SQL."
   ]
  },
  {
   "cell_type": "code",
   "execution_count": null,
   "id": "58de66ec-6f8d-425a-886f-c92a75718779",
   "metadata": {
    "tags": []
   },
   "outputs": [],
   "source": [
    "departamentos = pl.read_parquet('./data/departamentos/', use_pyarrow=True)\n",
    "\n",
    "empleados = pl.read_parquet('./data/empleados/', use_pyarrow=True)\n",
    "\n",
    "print(departamentos)\n",
    "\n",
    "print(empleados)"
   ]
  },
  {
   "cell_type": "code",
   "execution_count": null,
   "id": "4ec214df-bafd-4569-bd74-2614a350b536",
   "metadata": {
    "tags": []
   },
   "outputs": [],
   "source": [
    "empleados.join(departamentos, left_on='num_dpto', right_on='id', how='inner')"
   ]
  },
  {
   "cell_type": "markdown",
   "id": "99860dad-c460-4e52-8516-58e82ca24265",
   "metadata": {},
   "source": [
    "Vamos a renombrar la columna `num_dpto` del DataFrame `empleados` a `id`."
   ]
  },
  {
   "cell_type": "code",
   "execution_count": null,
   "id": "9278f373-43ea-432d-a02e-316c2a470c05",
   "metadata": {
    "tags": []
   },
   "outputs": [],
   "source": [
    "from polars import col\n",
    "\n",
    "empleados = empleados.rename({'num_dpto': 'id'})"
   ]
  },
  {
   "cell_type": "markdown",
   "id": "616b41ad-b50b-40ab-b8ab-7b7d7a2b6ce0",
   "metadata": {},
   "source": [
    "Si deseamos realizar un join entre dos DataFrames por una columna que tiene el mismo nombre en ambos DataFrame utilizamos el parámetro `on=colName`."
   ]
  },
  {
   "cell_type": "code",
   "execution_count": null,
   "id": "d57eba6a-f1a4-4f50-b3b5-83f8e118b96a",
   "metadata": {
    "tags": []
   },
   "outputs": [],
   "source": [
    "empleados.join(departamentos, on='id', how='left')"
   ]
  },
  {
   "cell_type": "code",
   "execution_count": null,
   "id": "ce2fd08c-98ee-43f3-84ca-58e76ce4b205",
   "metadata": {
    "tags": []
   },
   "outputs": [],
   "source": [
    "empleados.join(departamentos, on='id', how='anti')"
   ]
  },
  {
   "cell_type": "code",
   "execution_count": null,
   "id": "ceffbbe6-a3cd-4cb5-ba44-25a2067a6c7b",
   "metadata": {
    "tags": []
   },
   "outputs": [],
   "source": [
    "empleados.join(departamentos, on='id', how='semi')"
   ]
  },
  {
   "cell_type": "markdown",
   "id": "9ccf5979-8419-4377-8fe0-70cd007260ae",
   "metadata": {},
   "source": [
    "## `pivot`\n",
    "\n",
    "Esta función permite crear agregaciones por grupos con pivoteo de alguna columna.\n",
    "\n",
    "Para mostrar como trabaja esta función vamos a leer el DataFrame de estudiantes y vamos a responder la siguiente pregunta:\n",
    "\n",
    "¿Cuál fue el promedio de peso de los estudiantes por año de graduación y sexo?"
   ]
  },
  {
   "cell_type": "code",
   "execution_count": null,
   "id": "eee1d3ac-bed0-4ec4-b215-cb3d9a9a143b",
   "metadata": {
    "tags": []
   },
   "outputs": [],
   "source": [
    "estudiantes = pl.read_parquet('./data/pivoteo/', use_pyarrow=True)\n",
    "\n",
    "estudiantes"
   ]
  },
  {
   "cell_type": "markdown",
   "id": "420170a8-82c4-4c12-a420-097a38d5f26f",
   "metadata": {},
   "source": [
    "Los principales parámetros son los siguientes:\n",
    "- `index`: columna por la cual deseamos agrupar\n",
    "- `columns`: columna por la cual deseamos realizar el pivoteo\n",
    "- `values`: columna a la cual deseamos realizarle la agregación\n",
    "- `aggregate_function`: función de agregación que se desea aplicar\n",
    "    - Este parámetro admite las siguientes opciones: `min`, `max`, `first`, `last`, `sum`, `mean`, `median` y `len`"
   ]
  },
  {
   "cell_type": "code",
   "execution_count": null,
   "id": "3a0918c3-7630-4064-9606-7dcdefe45452",
   "metadata": {
    "tags": []
   },
   "outputs": [],
   "source": [
    "estudiantes.pivot(\n",
    "    index='graduacion',\n",
    "    columns='sexo',\n",
    "    values='peso',\n",
    "    aggregate_function='mean'\n",
    ")"
   ]
  },
  {
   "cell_type": "markdown",
   "id": "c87f9de0-cf21-4b91-9ddc-f6b66d35cd30",
   "metadata": {},
   "source": [
    "## `to_dummies`\n",
    "\n",
    "Esta función convierte una columna categórica en variables indicadoras. Si no se le proporciona ningún argumento convertirá todas las columnas del DataFrame a dummies."
   ]
  },
  {
   "cell_type": "code",
   "execution_count": null,
   "id": "6c64bc69-504d-44f5-a2f9-90b2ed57613a",
   "metadata": {
    "tags": []
   },
   "outputs": [],
   "source": [
    "estudiantes"
   ]
  },
  {
   "cell_type": "code",
   "execution_count": null,
   "id": "811e86f1-c8a3-44d2-9cf3-d005b66b3dbc",
   "metadata": {
    "tags": []
   },
   "outputs": [],
   "source": [
    "estudiantes.to_dummies('sexo')"
   ]
  },
  {
   "cell_type": "markdown",
   "id": "5392a65f-18bb-4805-b48a-780e2d284455",
   "metadata": {},
   "source": [
    "Si deseamos eliminar la primera categoría de la columna que se está convirtiendo a dummy podemos emplear el parámetro `drop_first=True`."
   ]
  },
  {
   "cell_type": "code",
   "execution_count": null,
   "id": "8463bacb-7223-4bc7-bfe7-18d2a1dfc38f",
   "metadata": {
    "tags": []
   },
   "outputs": [],
   "source": [
    "estudiantes.to_dummies('sexo', drop_first=True)"
   ]
  },
  {
   "cell_type": "markdown",
   "id": "b734741b-8f42-49bb-82f9-d894cb9d3267",
   "metadata": {},
   "source": [
    "## `rechunk` y `shrink_to_fit`\n",
    "\n",
    "Por último vamos a ver dos funciones que nos ayudarán a optimizar el desempeño de las consultas que se ejecuten sobre un DataFrame y a optimizar la memoria utilizada por un DataFrame."
   ]
  },
  {
   "cell_type": "markdown",
   "id": "32e839f4-fe86-451c-a23b-e79826e48dcc",
   "metadata": {},
   "source": [
    "### `rechunk`\n",
    "\n",
    "Esta función hace un \"rechunk\" de los datos del DataFrame para colocarlos en una asignación contigua de memoria.\n",
    "\n",
    "Esto garantizará que todas las operaciones posteriores tengan un rendimiento óptimo y predecible."
   ]
  },
  {
   "cell_type": "code",
   "execution_count": null,
   "id": "933a9353-6a10-4fc9-ab81-8030ae909f01",
   "metadata": {
    "tags": []
   },
   "outputs": [],
   "source": [
    "estudiantes.rechunk"
   ]
  },
  {
   "cell_type": "markdown",
   "id": "1b8b6ac1-f5dd-4ed7-9cc3-d897267e6f8b",
   "metadata": {},
   "source": [
    "### `shrink_to_fit`\n",
    "\n",
    "Esta función reduce el uso de memoria del DataFrame.\n",
    "\n",
    "El DataFrame se encoge para ajustarse a la capacidad exacta necesaria para contener los datos."
   ]
  },
  {
   "cell_type": "code",
   "execution_count": null,
   "id": "099b02a9-6285-4921-a6da-9bf48abef15d",
   "metadata": {
    "tags": []
   },
   "outputs": [],
   "source": [
    "estudiantes.shrink_to_fit"
   ]
  }
 ],
 "metadata": {
  "kernelspec": {
   "display_name": "Python 3 (ipykernel)",
   "language": "python",
   "name": "python3"
  },
  "language_info": {
   "codemirror_mode": {
    "name": "ipython",
    "version": 3
   },
   "file_extension": ".py",
   "mimetype": "text/x-python",
   "name": "python",
   "nbconvert_exporter": "python",
   "pygments_lexer": "ipython3",
   "version": "3.9.6"
  }
 },
 "nbformat": 4,
 "nbformat_minor": 5
}
