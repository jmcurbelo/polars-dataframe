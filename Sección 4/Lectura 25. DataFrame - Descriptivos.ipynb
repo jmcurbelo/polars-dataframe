{
 "cells": [
  {
   "cell_type": "markdown",
   "id": "efc6f324-1115-4d77-a00a-b5d299b82cc9",
   "metadata": {},
   "source": [
    "# Lectura 25: DataFrame - Descriptivos"
   ]
  },
  {
   "cell_type": "code",
   "execution_count": null,
   "id": "e6bd6d19-08c2-4022-b268-5057d85bf92c",
   "metadata": {},
   "outputs": [],
   "source": [
    "import polars as pl"
   ]
  },
  {
   "cell_type": "code",
   "execution_count": null,
   "id": "13e0982d-ba14-4cfc-a31c-94b83ad7134c",
   "metadata": {
    "tags": []
   },
   "outputs": [],
   "source": [
    "df = pl.DataFrame(\n",
    "    {\n",
    "        'nombre': ['jose', 'juana', 'katia', 'pedro', 'jose'],\n",
    "        'edad': [30, 34, None, 45, 30],\n",
    "        'sexo': ['M', 'F', None, None, 'M']\n",
    "    }\n",
    ")\n",
    "\n",
    "df"
   ]
  },
  {
   "cell_type": "markdown",
   "id": "fa6f071a-2077-42f1-b50c-6cc338a447a5",
   "metadata": {},
   "source": [
    "### Obtener estadísticas generales del DataFrame"
   ]
  },
  {
   "cell_type": "code",
   "execution_count": null,
   "id": "e8b88937-4a68-4fd2-b476-22a0f6072622",
   "metadata": {
    "tags": []
   },
   "outputs": [],
   "source": [
    "df.describe()"
   ]
  },
  {
   "cell_type": "markdown",
   "id": "83aa606b-c802-4e1e-ac91-804f9e94e91d",
   "metadata": {},
   "source": [
    "### Valores únicos"
   ]
  },
  {
   "cell_type": "markdown",
   "id": "61f03534-8d36-4ca5-a865-b62b37a907a6",
   "metadata": {},
   "source": [
    "#### Conteo aproximado"
   ]
  },
  {
   "cell_type": "code",
   "execution_count": null,
   "id": "f21a0a1b-71df-46ce-8037-897a59b9d7ea",
   "metadata": {
    "tags": []
   },
   "outputs": [],
   "source": [
    "df.approx_n_unique()"
   ]
  },
  {
   "cell_type": "markdown",
   "id": "51b9fc7d-19d2-4700-be80-417d3fbf4a50",
   "metadata": {},
   "source": [
    "#### Conteo de filas únicas"
   ]
  },
  {
   "cell_type": "code",
   "execution_count": null,
   "id": "2d95a7cd-4d37-44b9-838c-f987a40b7425",
   "metadata": {
    "tags": []
   },
   "outputs": [],
   "source": [
    "df.n_unique()"
   ]
  },
  {
   "cell_type": "markdown",
   "id": "06f655a5-82b8-4e25-889a-5501b51b2273",
   "metadata": {},
   "source": [
    "#### Verificar si una fila es única"
   ]
  },
  {
   "cell_type": "code",
   "execution_count": null,
   "id": "5e7696b2-5d94-47dd-995f-c63a7c703fc0",
   "metadata": {
    "tags": []
   },
   "outputs": [],
   "source": [
    "df.is_unique()"
   ]
  },
  {
   "cell_type": "code",
   "execution_count": null,
   "id": "a1504b56-fe7f-4815-9d07-e6a75798ee5e",
   "metadata": {
    "tags": []
   },
   "outputs": [],
   "source": [
    "# Con esta función podemos filtar la filas únicas del DataFrame\n",
    "\n",
    "df.filter(df.is_unique())"
   ]
  },
  {
   "cell_type": "markdown",
   "id": "fe2fe62f-59a1-469f-b6e2-a60f2d0fd13a",
   "metadata": {},
   "source": [
    "#### Filas duplicadas"
   ]
  },
  {
   "cell_type": "code",
   "execution_count": null,
   "id": "61746ee9-397a-4de4-8eb8-2053d0413d34",
   "metadata": {
    "tags": []
   },
   "outputs": [],
   "source": [
    "df.is_duplicated()"
   ]
  },
  {
   "cell_type": "code",
   "execution_count": null,
   "id": "d0f552fb-1503-49f6-a420-f0a08d1aa11e",
   "metadata": {
    "tags": []
   },
   "outputs": [],
   "source": [
    "# Con esta función podemos filtar la filas duplicadas del DataFrame\n",
    "\n",
    "df.filter(df.is_duplicated())"
   ]
  },
  {
   "cell_type": "markdown",
   "id": "5ed3f367-1722-4684-8b8c-6bd50b9a7bdb",
   "metadata": {},
   "source": [
    "### Conteo de nulos por columnas"
   ]
  },
  {
   "cell_type": "markdown",
   "id": "61672a64-bede-48b2-ba35-d972fdfcd41d",
   "metadata": {},
   "source": [
    "La función `null_count` crea un nuevo DataFrame con el conteo de nulos de cada columna"
   ]
  },
  {
   "cell_type": "code",
   "execution_count": null,
   "id": "7003ec8d-bb1b-4c41-83f8-0fcf51ef7492",
   "metadata": {
    "tags": []
   },
   "outputs": [],
   "source": [
    "df.null_count()"
   ]
  },
  {
   "cell_type": "markdown",
   "id": "bbe68cbc-31bd-420c-b395-00766e1ab5cd",
   "metadata": {},
   "source": [
    "### Estimación del tamaño total del DataFrame"
   ]
  },
  {
   "cell_type": "code",
   "execution_count": null,
   "id": "2e9eb2be-1ac2-44da-9723-f50357a44c09",
   "metadata": {
    "tags": []
   },
   "outputs": [],
   "source": [
    "df.estimated_size()"
   ]
  },
  {
   "cell_type": "markdown",
   "id": "e557ee97-db0a-458a-8fb3-e3a5ae2d4272",
   "metadata": {},
   "source": [
    "Por defecto la función `estimated_size` devuelve el tamaño del DataFrame en bytes, pero se puede cambiar la unidad de medida. Los valores aceptados por la función son:\n",
    "- ‘b’ \n",
    "- ‘kb’ \n",
    "- ‘mb’ \n",
    "- ‘gb’ \n",
    "- ‘tb’"
   ]
  },
  {
   "cell_type": "code",
   "execution_count": null,
   "id": "91298cf5-c658-4f2d-8ab5-ab3419024470",
   "metadata": {
    "tags": []
   },
   "outputs": [],
   "source": [
    "df.estimated_size('mb')"
   ]
  }
 ],
 "metadata": {
  "kernelspec": {
   "display_name": "Python 3 (ipykernel)",
   "language": "python",
   "name": "python3"
  },
  "language_info": {
   "codemirror_mode": {
    "name": "ipython",
    "version": 3
   },
   "file_extension": ".py",
   "mimetype": "text/x-python",
   "name": "python",
   "nbconvert_exporter": "python",
   "pygments_lexer": "ipython3",
   "version": "3.9.6"
  }
 },
 "nbformat": 4,
 "nbformat_minor": 5
}
