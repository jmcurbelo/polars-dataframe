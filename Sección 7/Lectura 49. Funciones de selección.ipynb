{
 "cells": [
  {
   "cell_type": "markdown",
   "id": "15721fd6-e957-4dc1-a37e-bd3448a895a1",
   "metadata": {},
   "source": [
    "# Lectura 49: Funciones de selección"
   ]
  },
  {
   "cell_type": "code",
   "execution_count": null,
   "id": "9d5d8be9-dd3a-4f8e-b244-75452bd4137e",
   "metadata": {
    "tags": []
   },
   "outputs": [],
   "source": [
    "import polars as pl\n",
    "\n",
    "df = pl.DataFrame(\n",
    "    schema={\n",
    "        \"edad\": pl.UInt32,\n",
    "        \"salario\": pl.Float64,\n",
    "        \"estatura\": pl.Float32,\n",
    "        \"residente\": pl.Boolean,\n",
    "        \"hora\": pl.Time,\n",
    "        \"nacimiento\": pl.Date,\n",
    "        \"trabajado\": pl.Duration,\n",
    "        \"log\": pl.Datetime(\"ms\"),\n",
    "        \"direccion\": pl.String,\n",
    "    },\n",
    ")"
   ]
  },
  {
   "cell_type": "markdown",
   "id": "72485c3e-cf39-402c-816d-adeb787887fd",
   "metadata": {},
   "source": [
    "## `by_dtype`\n",
    "\n",
    "Selecciona todas las columnas que coinciden con los tipos de datos proporcionados."
   ]
  },
  {
   "cell_type": "code",
   "execution_count": null,
   "id": "94bb4e81-604e-48d2-b1cb-1110f397cfc2",
   "metadata": {
    "tags": []
   },
   "outputs": [],
   "source": [
    "import polars.selectors as cs\n",
    "\n",
    "df.select(\n",
    "    cs.by_dtype(pl.String, pl.Date)\n",
    ")"
   ]
  },
  {
   "cell_type": "markdown",
   "id": "9b072da0-0943-42d0-9f5a-1c7af8199dc9",
   "metadata": {},
   "source": [
    "## `contains`\n",
    "\n",
    "Selecciona las columnas cuyos nombres contienen el substring proporcionado."
   ]
  },
  {
   "cell_type": "code",
   "execution_count": null,
   "id": "e79b6dad-56b5-491f-9eab-ed655a08194b",
   "metadata": {
    "tags": []
   },
   "outputs": [],
   "source": [
    "df.select(\n",
    "    cs.contains('re')\n",
    ")"
   ]
  },
  {
   "cell_type": "markdown",
   "id": "d9bb1793-3db1-4587-bfbe-2763075366d1",
   "metadata": {},
   "source": [
    "## `starts_with` y `ends_with`\n",
    "\n",
    "Estas funciones permiten seleccionar las columnas que comienzan o terminan con el substring proporcionado."
   ]
  },
  {
   "cell_type": "code",
   "execution_count": null,
   "id": "9b588f30-9c67-4278-90c8-02f7e7f10a3d",
   "metadata": {
    "tags": []
   },
   "outputs": [],
   "source": [
    "df.select(\n",
    "    cs.starts_with('e'),\n",
    "    cs.ends_with('o')\n",
    ")"
   ]
  },
  {
   "cell_type": "markdown",
   "id": "66cc31ba-636f-41c0-a871-91f0e490ba00",
   "metadata": {},
   "source": [
    "## `matches`\n",
    "\n",
    "Esta función selecciona todas las columnas que coincidan con la expresión regular que le proporcionemos.\n",
    "\n",
    "En el siguiente ejemplo buscaremos las columnas que tengan una t seguido de una letra a o r."
   ]
  },
  {
   "cell_type": "code",
   "execution_count": null,
   "id": "e794e50a-78a0-4e22-9849-05b708421a45",
   "metadata": {
    "tags": []
   },
   "outputs": [],
   "source": [
    "df.select(\n",
    "    cs.matches('t[a|r]')\n",
    ")"
   ]
  },
  {
   "cell_type": "markdown",
   "id": "4e110f3c-aaa0-48fd-86b8-3b70b9ecbf5d",
   "metadata": {},
   "source": [
    "El resto de las funciones que están disponibles en los selectores ya las hemos visto de una forma u otra en el transcurso del curso o hacen referencia a tipos de datos específicos de Polars."
   ]
  }
 ],
 "metadata": {
  "kernelspec": {
   "display_name": "Python 3 (ipykernel)",
   "language": "python",
   "name": "python3"
  },
  "language_info": {
   "codemirror_mode": {
    "name": "ipython",
    "version": 3
   },
   "file_extension": ".py",
   "mimetype": "text/x-python",
   "name": "python",
   "nbconvert_exporter": "python",
   "pygments_lexer": "ipython3",
   "version": "3.9.6"
  }
 },
 "nbformat": 4,
 "nbformat_minor": 5
}
