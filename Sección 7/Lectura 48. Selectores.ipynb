{
 "cells": [
  {
   "cell_type": "markdown",
   "id": "c2d0c74b-0c43-4fe9-b5b1-dd43aa95d5ca",
   "metadata": {},
   "source": [
    "# Lectura 48: Selectores"
   ]
  },
  {
   "cell_type": "markdown",
   "id": "54c7c16d-e3f4-475a-91b0-ec994e9903e9",
   "metadata": {},
   "source": [
    "## Selectores\n",
    "\n",
    "Los selectores permiten una selección más intuitiva de las columnas de los DataFrame o LazyFrame en función de su nombre, tipo de dato u otras propiedades."
   ]
  },
  {
   "cell_type": "code",
   "execution_count": null,
   "id": "0e499e1b-8a04-4390-9536-17580bf9d4d0",
   "metadata": {},
   "outputs": [],
   "source": [
    "import polars as pl\n",
    "\n",
    "salarios = pl.DataFrame(\n",
    "    {\n",
    "        'lenguaje': ['Python', 'Scala', 'C', 'Python', 'Scala', 'Java'],\n",
    "        'puesto': ['Sr', 'Sr', 'Jr', 'Jr', 'Sr', 'Jr'],\n",
    "        'salario': [5000.00, 7000.00, 10000.00, 4500.00, 5400.00, 6000.00],\n",
    "        'experiencia': [3, 5, 8, 2, 4, 2]\n",
    "    }\n",
    ")"
   ]
  },
  {
   "cell_type": "markdown",
   "id": "baff17a3-6ae3-431b-84f1-147a75aeafc1",
   "metadata": {},
   "source": [
    "### ¿Cómo importarlos?\n",
    "\n",
    "- Los selectores están disponibles como funciones importadas desde `polars.selectors`\n",
    "- El uso típico/recomendado es importar el módulo como `cs` y emplear los selectores desde allí"
   ]
  },
  {
   "cell_type": "code",
   "execution_count": null,
   "id": "6d821ff3-fab2-436b-80b7-bea71e0388e2",
   "metadata": {},
   "outputs": [],
   "source": [
    "import polars.selectors as cs\n",
    "\n",
    "salarios.group_by(cs.string()).agg(\n",
    "    cs.numeric().mean().name.suffix('_avg')\n",
    ")"
   ]
  },
  {
   "cell_type": "markdown",
   "id": "645b5aad-0939-4911-af9d-a3ac48209c39",
   "metadata": {},
   "source": [
    "## Operaciones"
   ]
  },
  {
   "cell_type": "code",
   "execution_count": null,
   "id": "9f218cae-9356-45f3-b6ad-2960466a6346",
   "metadata": {},
   "outputs": [],
   "source": [
    "operaciones = pl.DataFrame(\n",
    "    schema={\n",
    "        \"a\": pl.UInt32,\n",
    "        \"b\": pl.Float64,\n",
    "        \"c\": pl.Float32,\n",
    "        \"d\": pl.Boolean,\n",
    "        \"e\": pl.Time,\n",
    "        \"f\": pl.Date,\n",
    "        \"g\": pl.Duration,\n",
    "        \"h\": pl.Datetime(\"ms\"),\n",
    "        \"i\": pl.String,\n",
    "    },\n",
    ")"
   ]
  },
  {
   "cell_type": "markdown",
   "id": "203ee03f-921b-4bf8-85cc-4ec880b6c170",
   "metadata": {},
   "source": [
    "### Unión"
   ]
  },
  {
   "cell_type": "code",
   "execution_count": null,
   "id": "4c0b5a0d-57be-4ce0-aba8-84ae5f025ac9",
   "metadata": {},
   "outputs": [],
   "source": [
    "operaciones.select(\n",
    "    cs.numeric() | cs.string()\n",
    ")"
   ]
  },
  {
   "cell_type": "markdown",
   "id": "efc2bb9a-f48d-4431-a59e-0641959ddb51",
   "metadata": {},
   "source": [
    "### Intersección"
   ]
  },
  {
   "cell_type": "code",
   "execution_count": null,
   "id": "a09c8ab7-3772-4f2e-865c-6fd8bfca1e08",
   "metadata": {},
   "outputs": [],
   "source": [
    "operaciones.select(\n",
    "    cs.temporal() & cs.matches('g|h')\n",
    ")"
   ]
  },
  {
   "cell_type": "markdown",
   "id": "460f592b-dadf-4517-b089-723e2071819e",
   "metadata": {},
   "source": [
    "### Diferencia"
   ]
  },
  {
   "cell_type": "code",
   "execution_count": null,
   "id": "cb1fa911-472b-4669-b942-1335d624ec7a",
   "metadata": {},
   "outputs": [],
   "source": [
    "operaciones.select(\n",
    "    cs.numeric() - cs.first()\n",
    ")"
   ]
  },
  {
   "cell_type": "markdown",
   "id": "0f828eac-5082-478b-9e1c-49aab1f988af",
   "metadata": {},
   "source": [
    "### Negación"
   ]
  },
  {
   "cell_type": "code",
   "execution_count": null,
   "id": "f75998e8-415c-4bb2-b486-4459376bb24e",
   "metadata": {},
   "outputs": [],
   "source": [
    "operaciones.select(\n",
    "    ~cs.numeric()\n",
    ")"
   ]
  }
 ],
 "metadata": {
  "kernelspec": {
   "display_name": "Python 3 (ipykernel)",
   "language": "python",
   "name": "python3"
  },
  "language_info": {
   "codemirror_mode": {
    "name": "ipython",
    "version": 3
   },
   "file_extension": ".py",
   "mimetype": "text/x-python",
   "name": "python",
   "nbconvert_exporter": "python",
   "pygments_lexer": "ipython3",
   "version": "3.9.6"
  }
 },
 "nbformat": 4,
 "nbformat_minor": 5
}
