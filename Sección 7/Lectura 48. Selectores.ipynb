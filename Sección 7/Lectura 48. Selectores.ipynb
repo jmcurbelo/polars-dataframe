{
 "cells": [
  {
   "cell_type": "markdown",
   "id": "c2d0c74b-0c43-4fe9-b5b1-dd43aa95d5ca",
   "metadata": {},
   "source": [
    "# Lectura 48: Selectores"
   ]
  },
  {
   "cell_type": "markdown",
   "id": "54c7c16d-e3f4-475a-91b0-ec994e9903e9",
   "metadata": {},
   "source": [
    "## Selectores\n",
    "\n",
    "Los selectores permiten una selección más intuitiva de las columnas de los DataFrame o LazyFrame en función de su nombre, tipo de dato u otras propiedades."
   ]
  },
  {
   "cell_type": "code",
   "execution_count": 1,
   "id": "0e499e1b-8a04-4390-9536-17580bf9d4d0",
   "metadata": {},
   "outputs": [],
   "source": [
    "import polars as pl\n",
    "\n",
    "salarios = pl.DataFrame(\n",
    "    {\n",
    "        'lenguaje': ['Python', 'Scala', 'C', 'Python', 'Scala', 'Java'],\n",
    "        'puesto': ['Sr', 'Sr', 'Jr', 'Jr', 'Sr', 'Jr'],\n",
    "        'salario': [5000.00, 7000.00, 10000.00, 4500.00, 5400.00, 6000.00],\n",
    "        'experiencia': [3, 5, 8, 2, 4, 2]\n",
    "    }\n",
    ")"
   ]
  },
  {
   "cell_type": "markdown",
   "id": "baff17a3-6ae3-431b-84f1-147a75aeafc1",
   "metadata": {},
   "source": [
    "### ¿Cómo importarlos?\n",
    "\n",
    "- Los selectores están disponibles como funciones importadas desde `polars.selectors`\n",
    "- El uso típico/recomendado es importar el módulo como `cs` y emplear los selectores desde allí"
   ]
  },
  {
   "cell_type": "code",
   "execution_count": 2,
   "id": "6d821ff3-fab2-436b-80b7-bea71e0388e2",
   "metadata": {},
   "outputs": [
    {
     "data": {
      "text/html": [
       "<div><style>\n",
       ".dataframe > thead > tr,\n",
       ".dataframe > tbody > tr {\n",
       "  text-align: right;\n",
       "  white-space: pre-wrap;\n",
       "}\n",
       "</style>\n",
       "<small>shape: (5, 4)</small><table border=\"1\" class=\"dataframe\"><thead><tr><th>lenguaje</th><th>puesto</th><th>salario_avg</th><th>experiencia_avg</th></tr><tr><td>str</td><td>str</td><td>f64</td><td>f64</td></tr></thead><tbody><tr><td>&quot;Scala&quot;</td><td>&quot;Sr&quot;</td><td>6200.0</td><td>4.5</td></tr><tr><td>&quot;Python&quot;</td><td>&quot;Jr&quot;</td><td>4500.0</td><td>2.0</td></tr><tr><td>&quot;Java&quot;</td><td>&quot;Jr&quot;</td><td>6000.0</td><td>2.0</td></tr><tr><td>&quot;Python&quot;</td><td>&quot;Sr&quot;</td><td>5000.0</td><td>3.0</td></tr><tr><td>&quot;C&quot;</td><td>&quot;Jr&quot;</td><td>10000.0</td><td>8.0</td></tr></tbody></table></div>"
      ],
      "text/plain": [
       "shape: (5, 4)\n",
       "┌──────────┬────────┬─────────────┬─────────────────┐\n",
       "│ lenguaje ┆ puesto ┆ salario_avg ┆ experiencia_avg │\n",
       "│ ---      ┆ ---    ┆ ---         ┆ ---             │\n",
       "│ str      ┆ str    ┆ f64         ┆ f64             │\n",
       "╞══════════╪════════╪═════════════╪═════════════════╡\n",
       "│ Scala    ┆ Sr     ┆ 6200.0      ┆ 4.5             │\n",
       "│ Python   ┆ Jr     ┆ 4500.0      ┆ 2.0             │\n",
       "│ Java     ┆ Jr     ┆ 6000.0      ┆ 2.0             │\n",
       "│ Python   ┆ Sr     ┆ 5000.0      ┆ 3.0             │\n",
       "│ C        ┆ Jr     ┆ 10000.0     ┆ 8.0             │\n",
       "└──────────┴────────┴─────────────┴─────────────────┘"
      ]
     },
     "execution_count": 2,
     "metadata": {},
     "output_type": "execute_result"
    }
   ],
   "source": [
    "import polars.selectors as cs\n",
    "\n",
    "salarios.group_by(cs.string()).agg(\n",
    "    cs.numeric().mean().name.suffix('_avg')\n",
    ")"
   ]
  },
  {
   "cell_type": "markdown",
   "id": "645b5aad-0939-4911-af9d-a3ac48209c39",
   "metadata": {},
   "source": [
    "## Operaciones"
   ]
  },
  {
   "cell_type": "code",
   "execution_count": 3,
   "id": "9f218cae-9356-45f3-b6ad-2960466a6346",
   "metadata": {},
   "outputs": [],
   "source": [
    "operaciones = pl.DataFrame(\n",
    "    schema={\n",
    "        \"a\": pl.UInt32,\n",
    "        \"b\": pl.Float64,\n",
    "        \"c\": pl.Float32,\n",
    "        \"d\": pl.Boolean,\n",
    "        \"e\": pl.Time,\n",
    "        \"f\": pl.Date,\n",
    "        \"g\": pl.Duration,\n",
    "        \"h\": pl.Datetime(\"ms\"),\n",
    "        \"i\": pl.String,\n",
    "    },\n",
    ")"
   ]
  },
  {
   "cell_type": "markdown",
   "id": "203ee03f-921b-4bf8-85cc-4ec880b6c170",
   "metadata": {},
   "source": [
    "### Unión"
   ]
  },
  {
   "cell_type": "code",
   "execution_count": 4,
   "id": "4c0b5a0d-57be-4ce0-aba8-84ae5f025ac9",
   "metadata": {},
   "outputs": [
    {
     "data": {
      "text/html": [
       "<div><style>\n",
       ".dataframe > thead > tr,\n",
       ".dataframe > tbody > tr {\n",
       "  text-align: right;\n",
       "  white-space: pre-wrap;\n",
       "}\n",
       "</style>\n",
       "<small>shape: (0, 4)</small><table border=\"1\" class=\"dataframe\"><thead><tr><th>a</th><th>b</th><th>c</th><th>i</th></tr><tr><td>u32</td><td>f64</td><td>f32</td><td>str</td></tr></thead><tbody></tbody></table></div>"
      ],
      "text/plain": [
       "shape: (0, 4)\n",
       "┌─────┬─────┬─────┬─────┐\n",
       "│ a   ┆ b   ┆ c   ┆ i   │\n",
       "│ --- ┆ --- ┆ --- ┆ --- │\n",
       "│ u32 ┆ f64 ┆ f32 ┆ str │\n",
       "╞═════╪═════╪═════╪═════╡\n",
       "└─────┴─────┴─────┴─────┘"
      ]
     },
     "execution_count": 4,
     "metadata": {},
     "output_type": "execute_result"
    }
   ],
   "source": [
    "operaciones.select(\n",
    "    cs.numeric() | cs.string()\n",
    ")"
   ]
  },
  {
   "cell_type": "markdown",
   "id": "efc2bb9a-f48d-4431-a59e-0641959ddb51",
   "metadata": {},
   "source": [
    "### Intersección"
   ]
  },
  {
   "cell_type": "code",
   "execution_count": 5,
   "id": "a09c8ab7-3772-4f2e-865c-6fd8bfca1e08",
   "metadata": {},
   "outputs": [
    {
     "data": {
      "text/html": [
       "<div><style>\n",
       ".dataframe > thead > tr,\n",
       ".dataframe > tbody > tr {\n",
       "  text-align: right;\n",
       "  white-space: pre-wrap;\n",
       "}\n",
       "</style>\n",
       "<small>shape: (0, 2)</small><table border=\"1\" class=\"dataframe\"><thead><tr><th>g</th><th>h</th></tr><tr><td>duration[μs]</td><td>datetime[ms]</td></tr></thead><tbody></tbody></table></div>"
      ],
      "text/plain": [
       "shape: (0, 2)\n",
       "┌──────────────┬──────────────┐\n",
       "│ g            ┆ h            │\n",
       "│ ---          ┆ ---          │\n",
       "│ duration[μs] ┆ datetime[ms] │\n",
       "╞══════════════╪══════════════╡\n",
       "└──────────────┴──────────────┘"
      ]
     },
     "execution_count": 5,
     "metadata": {},
     "output_type": "execute_result"
    }
   ],
   "source": [
    "operaciones.select(\n",
    "    cs.temporal() & cs.matches('g|h')\n",
    ")"
   ]
  },
  {
   "cell_type": "markdown",
   "id": "460f592b-dadf-4517-b089-723e2071819e",
   "metadata": {},
   "source": [
    "### Diferencia"
   ]
  },
  {
   "cell_type": "code",
   "execution_count": 6,
   "id": "cb1fa911-472b-4669-b942-1335d624ec7a",
   "metadata": {},
   "outputs": [
    {
     "data": {
      "text/html": [
       "<div><style>\n",
       ".dataframe > thead > tr,\n",
       ".dataframe > tbody > tr {\n",
       "  text-align: right;\n",
       "  white-space: pre-wrap;\n",
       "}\n",
       "</style>\n",
       "<small>shape: (0, 2)</small><table border=\"1\" class=\"dataframe\"><thead><tr><th>b</th><th>c</th></tr><tr><td>f64</td><td>f32</td></tr></thead><tbody></tbody></table></div>"
      ],
      "text/plain": [
       "shape: (0, 2)\n",
       "┌─────┬─────┐\n",
       "│ b   ┆ c   │\n",
       "│ --- ┆ --- │\n",
       "│ f64 ┆ f32 │\n",
       "╞═════╪═════╡\n",
       "└─────┴─────┘"
      ]
     },
     "execution_count": 6,
     "metadata": {},
     "output_type": "execute_result"
    }
   ],
   "source": [
    "operaciones.select(\n",
    "    cs.numeric() - cs.first()\n",
    ")"
   ]
  },
  {
   "cell_type": "markdown",
   "id": "0f828eac-5082-478b-9e1c-49aab1f988af",
   "metadata": {},
   "source": [
    "### Negación"
   ]
  },
  {
   "cell_type": "code",
   "execution_count": 7,
   "id": "f75998e8-415c-4bb2-b486-4459376bb24e",
   "metadata": {},
   "outputs": [
    {
     "data": {
      "text/html": [
       "<div><style>\n",
       ".dataframe > thead > tr,\n",
       ".dataframe > tbody > tr {\n",
       "  text-align: right;\n",
       "  white-space: pre-wrap;\n",
       "}\n",
       "</style>\n",
       "<small>shape: (0, 6)</small><table border=\"1\" class=\"dataframe\"><thead><tr><th>d</th><th>e</th><th>f</th><th>g</th><th>h</th><th>i</th></tr><tr><td>bool</td><td>time</td><td>date</td><td>duration[μs]</td><td>datetime[ms]</td><td>str</td></tr></thead><tbody></tbody></table></div>"
      ],
      "text/plain": [
       "shape: (0, 6)\n",
       "┌──────┬──────┬──────┬──────────────┬──────────────┬─────┐\n",
       "│ d    ┆ e    ┆ f    ┆ g            ┆ h            ┆ i   │\n",
       "│ ---  ┆ ---  ┆ ---  ┆ ---          ┆ ---          ┆ --- │\n",
       "│ bool ┆ time ┆ date ┆ duration[μs] ┆ datetime[ms] ┆ str │\n",
       "╞══════╪══════╪══════╪══════════════╪══════════════╪═════╡\n",
       "└──────┴──────┴──────┴──────────────┴──────────────┴─────┘"
      ]
     },
     "execution_count": 7,
     "metadata": {},
     "output_type": "execute_result"
    }
   ],
   "source": [
    "operaciones.select(\n",
    "    ~cs.numeric()\n",
    ")"
   ]
  }
 ],
 "metadata": {
  "kernelspec": {
   "display_name": "Python 3 (ipykernel)",
   "language": "python",
   "name": "python3"
  },
  "language_info": {
   "codemirror_mode": {
    "name": "ipython",
    "version": 3
   },
   "file_extension": ".py",
   "mimetype": "text/x-python",
   "name": "python",
   "nbconvert_exporter": "python",
   "pygments_lexer": "ipython3",
   "version": "3.9.6"
  }
 },
 "nbformat": 4,
 "nbformat_minor": 5
}
