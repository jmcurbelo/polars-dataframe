{
 "cells": [
  {
   "cell_type": "markdown",
   "id": "c0e5d19a-16c1-40b1-85d5-d5e4fba5b4aa",
   "metadata": {},
   "source": [
    "# Lectura 51: Otras funciones"
   ]
  },
  {
   "cell_type": "code",
   "execution_count": null,
   "id": "8957adb3-7524-481b-9fc9-4c200265c8e6",
   "metadata": {
    "tags": []
   },
   "outputs": [],
   "source": [
    "import polars as pl\n",
    "\n",
    "df1 = pl.DataFrame(\n",
    "    {\n",
    "        'nombre': ['Jose'],\n",
    "        'sexo': ['M']\n",
    "    }\n",
    ")\n",
    "\n",
    "df2 = pl.DataFrame(\n",
    "    {\n",
    "        'nombre': ['Rosa', 'Teresa'],\n",
    "        'sexo': ['F', 'F']\n",
    "    }\n",
    ")"
   ]
  },
  {
   "cell_type": "markdown",
   "id": "b4f7c655-bf9d-46bd-b9bf-e5fb4568662a",
   "metadata": {},
   "source": [
    "# `concat`\n",
    "\n",
    "Esta función nos permite combinar varios DataFrames, LazyFrames o Series en un solo objeto."
   ]
  },
  {
   "cell_type": "code",
   "execution_count": null,
   "id": "02801338-fe31-48a1-9916-1e0bfdda99b4",
   "metadata": {
    "tags": []
   },
   "outputs": [],
   "source": [
    "df = pl.concat([df1, df2])\n",
    "\n",
    "print(df)"
   ]
  },
  {
   "cell_type": "markdown",
   "id": "81e76bb0-30c4-4a2b-9688-bd6ec4aa5ce8",
   "metadata": {},
   "source": [
    "Por defecto el concatenado se realiza de forma vertical pero con el parámetro `how` podemos especificar como deseamos que se realice la concatenación. Probemos concatenar los DataFrames anteriores horizontalmente."
   ]
  },
  {
   "cell_type": "code",
   "execution_count": null,
   "id": "41110e75-0d21-4a12-aef4-41243a7afe78",
   "metadata": {
    "tags": []
   },
   "outputs": [],
   "source": [
    "df2 = df2.rename({'nombre': 'n', 'sexo': 's'})\n",
    "\n",
    "df_horizontal = pl.concat([df1, df2], how='horizontal')\n",
    "\n",
    "print(df_horizontal)"
   ]
  },
  {
   "cell_type": "markdown",
   "id": "ca0b6bc8-b98c-4ad1-8676-3a8e48ed93dc",
   "metadata": {},
   "source": [
    "Existen otras estrategias de concatenación que se le pueden especificar al parámetro `how` las cuales la pueden consultar en la documentación.\n",
    "\n",
    "[Consultar Documentación](https://docs.pola.rs/py-polars/html/reference/api/polars.concat.html#polars.concat)"
   ]
  },
  {
   "cell_type": "markdown",
   "id": "1f389c4e-c510-4dc7-8390-8a372016c7ac",
   "metadata": {},
   "source": [
    "# `collect_all`\n",
    "\n",
    "Esta función nos permite colectar múltiples LazyFrames al mismo tiempo. Esto ejecutará todos los gráficos de cálculo en paralelo y nos devolverá los DataFrame en el mismo orden en que se le proporcionaron los LazyFrame."
   ]
  },
  {
   "cell_type": "code",
   "execution_count": null,
   "id": "310cbd5d-d12c-4208-89a3-0d089c7dd22f",
   "metadata": {
    "tags": []
   },
   "outputs": [],
   "source": [
    "from polars import col\n",
    "\n",
    "query_1 = (\n",
    "    pl.scan_parquet('./data/vuelos/vuelos.parquet')\n",
    "    .bottom_k(20, by='DEPARTURE_TIME', descending=True, nulls_last=True)\n",
    ")\n",
    "\n",
    "\n",
    "\n",
    "query_2 = (\n",
    "    pl.scan_parquet('./data/vuelos/vuelos.parquet')\n",
    "    .filter((col('MONTH') > 6) & (col('DEPARTURE_DELAY') < 0))\n",
    "    .select(\n",
    "        col('MONTH'),\n",
    "        col('DEPARTURE_DELAY')\n",
    "    )\n",
    ")"
   ]
  },
  {
   "cell_type": "code",
   "execution_count": null,
   "id": "f25624bc-20a5-43a3-83d2-e1f2f89cea53",
   "metadata": {
    "tags": []
   },
   "outputs": [],
   "source": [
    "df1, df2 = pl.collect_all([query_1, query_2])"
   ]
  },
  {
   "cell_type": "code",
   "execution_count": null,
   "id": "3522ffde-f832-49f7-891d-a6b36c7602cd",
   "metadata": {
    "tags": []
   },
   "outputs": [],
   "source": [
    "print(df1)\n",
    "\n",
    "print(df2)"
   ]
  }
 ],
 "metadata": {
  "kernelspec": {
   "display_name": "Python 3 (ipykernel)",
   "language": "python",
   "name": "python3"
  },
  "language_info": {
   "codemirror_mode": {
    "name": "ipython",
    "version": 3
   },
   "file_extension": ".py",
   "mimetype": "text/x-python",
   "name": "python",
   "nbconvert_exporter": "python",
   "pygments_lexer": "ipython3",
   "version": "3.9.6"
  }
 },
 "nbformat": 4,
 "nbformat_minor": 5
}
