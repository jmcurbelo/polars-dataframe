{
 "cells": [
  {
   "cell_type": "markdown",
   "id": "c0e5d19a-16c1-40b1-85d5-d5e4fba5b4aa",
   "metadata": {},
   "source": [
    "# Lectura 51: Otras funciones"
   ]
  },
  {
   "cell_type": "code",
   "execution_count": 1,
   "id": "8957adb3-7524-481b-9fc9-4c200265c8e6",
   "metadata": {
    "tags": []
   },
   "outputs": [],
   "source": [
    "import polars as pl\n",
    "\n",
    "df1 = pl.DataFrame(\n",
    "    {\n",
    "        'nombre': ['Jose'],\n",
    "        'sexo': ['M']\n",
    "    }\n",
    ")\n",
    "\n",
    "df2 = pl.DataFrame(\n",
    "    {\n",
    "        'nombre': ['Rosa', 'Teresa'],\n",
    "        'sexo': ['F', 'F']\n",
    "    }\n",
    ")"
   ]
  },
  {
   "cell_type": "markdown",
   "id": "b4f7c655-bf9d-46bd-b9bf-e5fb4568662a",
   "metadata": {},
   "source": [
    "# `concat`\n",
    "\n",
    "Esta función nos permite combinar varios DataFrames, LazyFrames o Series en un solo objeto."
   ]
  },
  {
   "cell_type": "code",
   "execution_count": 2,
   "id": "02801338-fe31-48a1-9916-1e0bfdda99b4",
   "metadata": {
    "tags": []
   },
   "outputs": [
    {
     "name": "stdout",
     "output_type": "stream",
     "text": [
      "shape: (3, 2)\n",
      "┌────────┬──────┐\n",
      "│ nombre ┆ sexo │\n",
      "│ ---    ┆ ---  │\n",
      "│ str    ┆ str  │\n",
      "╞════════╪══════╡\n",
      "│ Jose   ┆ M    │\n",
      "│ Rosa   ┆ F    │\n",
      "│ Teresa ┆ F    │\n",
      "└────────┴──────┘\n"
     ]
    }
   ],
   "source": [
    "df = pl.concat([df1, df2])\n",
    "\n",
    "print(df)"
   ]
  },
  {
   "cell_type": "markdown",
   "id": "81e76bb0-30c4-4a2b-9688-bd6ec4aa5ce8",
   "metadata": {},
   "source": [
    "Por defecto el concatenado se realiza de forma vertical pero con el parámetro `how` podemos especificar como deseamos que se realice la concatenación. Probemos concatenar los DataFrames anteriores horizontalmente."
   ]
  },
  {
   "cell_type": "code",
   "execution_count": 3,
   "id": "41110e75-0d21-4a12-aef4-41243a7afe78",
   "metadata": {
    "tags": []
   },
   "outputs": [
    {
     "name": "stdout",
     "output_type": "stream",
     "text": [
      "shape: (2, 4)\n",
      "┌────────┬──────┬────────┬─────┐\n",
      "│ nombre ┆ sexo ┆ n      ┆ s   │\n",
      "│ ---    ┆ ---  ┆ ---    ┆ --- │\n",
      "│ str    ┆ str  ┆ str    ┆ str │\n",
      "╞════════╪══════╪════════╪═════╡\n",
      "│ Jose   ┆ M    ┆ Rosa   ┆ F   │\n",
      "│ null   ┆ null ┆ Teresa ┆ F   │\n",
      "└────────┴──────┴────────┴─────┘\n"
     ]
    }
   ],
   "source": [
    "df2 = df2.rename({'nombre': 'n', 'sexo': 's'})\n",
    "\n",
    "df_horizontal = pl.concat([df1, df2], how='horizontal')\n",
    "\n",
    "print(df_horizontal)"
   ]
  },
  {
   "cell_type": "markdown",
   "id": "ca0b6bc8-b98c-4ad1-8676-3a8e48ed93dc",
   "metadata": {},
   "source": [
    "Existen otras estrategias de concatenación que se le pueden especificar al parámetro `how` las cuales la pueden consultar en la documentación.\n",
    "\n",
    "[Consultar Documentación](https://docs.pola.rs/py-polars/html/reference/api/polars.concat.html#polars.concat)"
   ]
  },
  {
   "cell_type": "markdown",
   "id": "1f389c4e-c510-4dc7-8390-8a372016c7ac",
   "metadata": {},
   "source": [
    "# `collect_all`\n",
    "\n",
    "Esta función nos permite colectar múltiples LazyFrames al mismo tiempo. Esto ejecutará todos los gráficos de cálculo en paralelo y nos devolverá los DataFrame en el mismo orden en que se le proporcionaron los LazyFrame."
   ]
  },
  {
   "cell_type": "code",
   "execution_count": 4,
   "id": "310cbd5d-d12c-4208-89a3-0d089c7dd22f",
   "metadata": {
    "tags": []
   },
   "outputs": [],
   "source": [
    "from polars import col\n",
    "\n",
    "query_1 = (\n",
    "    pl.scan_parquet('./data/vuelos/vuelos.parquet')\n",
    "    .bottom_k(20, by='DEPARTURE_TIME', descending=True, nulls_last=True)\n",
    ")\n",
    "\n",
    "\n",
    "\n",
    "query_2 = (\n",
    "    pl.scan_parquet('./data/vuelos/vuelos.parquet')\n",
    "    .filter((col('MONTH') > 6) & (col('DEPARTURE_DELAY') < 0))\n",
    "    .select(\n",
    "        col('MONTH'),\n",
    "        col('DEPARTURE_DELAY')\n",
    "    )\n",
    ")"
   ]
  },
  {
   "cell_type": "code",
   "execution_count": 5,
   "id": "f25624bc-20a5-43a3-83d2-e1f2f89cea53",
   "metadata": {
    "tags": []
   },
   "outputs": [],
   "source": [
    "df1, df2 = pl.collect_all([query_1, query_2])"
   ]
  },
  {
   "cell_type": "code",
   "execution_count": 6,
   "id": "3522ffde-f832-49f7-891d-a6b36c7602cd",
   "metadata": {
    "tags": []
   },
   "outputs": [
    {
     "name": "stdout",
     "output_type": "stream",
     "text": [
      "shape: (20, 31)\n",
      "┌──────┬───────┬─────┬─────────────┬───┬──────────────┬──────────────┬──────────────┬──────────────┐\n",
      "│ YEAR ┆ MONTH ┆ DAY ┆ DAY_OF_WEEK ┆ … ┆ SECURITY_DEL ┆ AIRLINE_DELA ┆ LATE_AIRCRAF ┆ WEATHER_DELA │\n",
      "│ ---  ┆ ---   ┆ --- ┆ ---         ┆   ┆ AY           ┆ Y            ┆ T_DELAY      ┆ Y            │\n",
      "│ i32  ┆ i32   ┆ i32 ┆ i32         ┆   ┆ ---          ┆ ---          ┆ ---          ┆ ---          │\n",
      "│      ┆       ┆     ┆             ┆   ┆ i32          ┆ i32          ┆ i32          ┆ i32          │\n",
      "╞══════╪═══════╪═════╪═════════════╪═══╪══════════════╪══════════════╪══════════════╪══════════════╡\n",
      "│ 2015 ┆ 9     ┆ 8   ┆ 2           ┆ … ┆ 0            ┆ 0            ┆ 128          ┆ 0            │\n",
      "│ 2015 ┆ 2     ┆ 17  ┆ 2           ┆ … ┆ 0            ┆ 3            ┆ 86           ┆ 0            │\n",
      "│ 2015 ┆ 10    ┆ 21  ┆ 3           ┆ … ┆ null         ┆ null         ┆ null         ┆ null         │\n",
      "│ 2015 ┆ 7     ┆ 8   ┆ 3           ┆ … ┆ 0            ┆ 0            ┆ 29           ┆ 0            │\n",
      "│ 2015 ┆ 3     ┆ 29  ┆ 7           ┆ … ┆ null         ┆ null         ┆ null         ┆ null         │\n",
      "│ …    ┆ …     ┆ …   ┆ …           ┆ … ┆ …            ┆ …            ┆ …            ┆ …            │\n",
      "│ 2015 ┆ 2     ┆ 15  ┆ 7           ┆ … ┆ null         ┆ null         ┆ null         ┆ null         │\n",
      "│ 2015 ┆ 2     ┆ 17  ┆ 2           ┆ … ┆ 0            ┆ 0            ┆ 110          ┆ 0            │\n",
      "│ 2015 ┆ 5     ┆ 17  ┆ 7           ┆ … ┆ 0            ┆ 0            ┆ 114          ┆ 0            │\n",
      "│ 2015 ┆ 3     ┆ 5   ┆ 4           ┆ … ┆ 0            ┆ 528          ┆ 0            ┆ 0            │\n",
      "│ 2015 ┆ 6     ┆ 26  ┆ 5           ┆ … ┆ 0            ┆ 0            ┆ 22           ┆ 85           │\n",
      "└──────┴───────┴─────┴─────────────┴───┴──────────────┴──────────────┴──────────────┴──────────────┘\n",
      "shape: (1_712_529, 2)\n",
      "┌───────┬─────────────────┐\n",
      "│ MONTH ┆ DEPARTURE_DELAY │\n",
      "│ ---   ┆ ---             │\n",
      "│ i32   ┆ i32             │\n",
      "╞═══════╪═════════════════╡\n",
      "│ 7     ┆ -5              │\n",
      "│ 7     ┆ -5              │\n",
      "│ 7     ┆ -5              │\n",
      "│ 7     ┆ -7              │\n",
      "│ 7     ┆ -2              │\n",
      "│ …     ┆ …               │\n",
      "│ 12    ┆ -1              │\n",
      "│ 12    ┆ -4              │\n",
      "│ 12    ┆ -4              │\n",
      "│ 12    ┆ -9              │\n",
      "│ 12    ┆ -6              │\n",
      "└───────┴─────────────────┘\n"
     ]
    }
   ],
   "source": [
    "print(df1)\n",
    "\n",
    "print(df2)"
   ]
  }
 ],
 "metadata": {
  "kernelspec": {
   "display_name": "Python 3 (ipykernel)",
   "language": "python",
   "name": "python3"
  },
  "language_info": {
   "codemirror_mode": {
    "name": "ipython",
    "version": 3
   },
   "file_extension": ".py",
   "mimetype": "text/x-python",
   "name": "python",
   "nbconvert_exporter": "python",
   "pygments_lexer": "ipython3",
   "version": "3.9.6"
  }
 },
 "nbformat": 4,
 "nbformat_minor": 5
}
