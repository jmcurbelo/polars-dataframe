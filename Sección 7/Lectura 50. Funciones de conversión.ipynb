{
 "cells": [
  {
   "cell_type": "markdown",
   "id": "fad89ecc-daa4-4f83-a381-aa65c64bc936",
   "metadata": {},
   "source": [
    "# Lectura 50: Funciones de conversión"
   ]
  },
  {
   "cell_type": "code",
   "execution_count": null,
   "id": "3595e0c2-99c1-4176-bdd8-6cfd27d04cd5",
   "metadata": {
    "tags": []
   },
   "outputs": [],
   "source": [
    "import pyarrow.parquet as pq\n",
    "\n",
    "tabla_vuelos = pq.read_table('./data/vuelos/')\n",
    "\n",
    "tabla_vuelos"
   ]
  },
  {
   "cell_type": "markdown",
   "id": "a79cbd23-416b-4c47-afbd-bc8cc2369b95",
   "metadata": {
    "tags": []
   },
   "source": [
    "## Crear un DataFrame de Polars desde una tabla de Arrow\n",
    "\n",
    "La función `from_arrow` permite crear un DataFrame de Polars a partir de una tabla Arrow. Esta operación no creará copias en su mayor parte. Los tipos que no son compatibles con Polars se pueden convertir al tipo compatible más cercano."
   ]
  },
  {
   "cell_type": "code",
   "execution_count": null,
   "id": "6c3ef2cf-c233-428a-9599-5cbac2f7a063",
   "metadata": {
    "tags": []
   },
   "outputs": [],
   "source": [
    "import polars as pl\n",
    "\n",
    "vuelos_df = pl.from_arrow(tabla_vuelos)\n",
    "\n",
    "print(vuelos_df)"
   ]
  },
  {
   "cell_type": "markdown",
   "id": "fc9d082f-f1ba-4682-9def-9b664daf2543",
   "metadata": {},
   "source": [
    "## Crear un DataFrame de Polars desde un Pandas DataFrame\n",
    "\n",
    "La función `from_pandas` permite crear un DataFrame de Polars a partir de un Pandas DataFrame. Esta operación clona los datos. Además, requiere que `pandas` y `pyarrow` estén instalados."
   ]
  },
  {
   "cell_type": "code",
   "execution_count": null,
   "id": "5ec48056-9d20-49d6-997a-8e56518e9ab1",
   "metadata": {
    "tags": []
   },
   "outputs": [],
   "source": [
    "vuelos_pd = tabla_vuelos.to_pandas()\n",
    "\n",
    "vuelos_pd"
   ]
  },
  {
   "cell_type": "code",
   "execution_count": null,
   "id": "0ed71d58-310c-418d-80e7-b1cb13db54f7",
   "metadata": {
    "tags": []
   },
   "outputs": [],
   "source": [
    "vuelos_df = pl.from_pandas(vuelos_pd)\n",
    "\n",
    "print(vuelos_df)"
   ]
  },
  {
   "cell_type": "markdown",
   "id": "75548b24-2fe1-4c72-b0be-dbaee193a755",
   "metadata": {},
   "source": [
    "## Crear un DataFrame de Polars desde un NumPy ndarray\n",
    "\n",
    "La función `from_numpy` permite crear un DataFrame de Polars a partir de un NumPy ndarray. Esta operación clona los datos. Tenga en cuenta que esta operación pude ser un poco lenta en algunos casos."
   ]
  },
  {
   "cell_type": "code",
   "execution_count": null,
   "id": "ff3b8c27-c7ea-41f7-8b8d-089e0f922235",
   "metadata": {
    "tags": []
   },
   "outputs": [],
   "source": [
    "vuelos_np = vuelos_pd.to_numpy()\n",
    "\n",
    "type(vuelos_np)"
   ]
  },
  {
   "cell_type": "code",
   "execution_count": null,
   "id": "a433e157-4128-4786-8470-184eb3b8bc65",
   "metadata": {
    "tags": []
   },
   "outputs": [],
   "source": [
    "vuelos_np"
   ]
  },
  {
   "cell_type": "code",
   "execution_count": null,
   "id": "a4cab9cc-cb6e-43c9-9554-f7404403129d",
   "metadata": {
    "tags": []
   },
   "outputs": [],
   "source": [
    "vuelos_df = pl.from_numpy(vuelos_np)\n",
    "\n",
    "print(vuelos_df)"
   ]
  },
  {
   "cell_type": "markdown",
   "id": "9e75a06d-4c65-4e36-be3a-8d67474fff21",
   "metadata": {},
   "source": [
    "## Crear un DataFrame de Polars desde una lista y un diccionario\n",
    "\n",
    "Las funciones `from_records` y `from_dict` nos permiten crear un DataFrame de Polars desde un lista o un diccionario respectivamente."
   ]
  },
  {
   "cell_type": "code",
   "execution_count": null,
   "id": "2abfb56a-fe65-4493-a3ed-2ad7672edae0",
   "metadata": {
    "tags": []
   },
   "outputs": [],
   "source": [
    "valores = [['a', 'b', 'c'], [1,2,3]]\n",
    "\n",
    "df_valores = pl.from_records(valores, schema=['letra', 'id'])\n",
    "\n",
    "print(df_valores)"
   ]
  },
  {
   "cell_type": "code",
   "execution_count": null,
   "id": "b38c2ea7-ba20-453f-9074-f05e53e61515",
   "metadata": {
    "tags": []
   },
   "outputs": [],
   "source": [
    "diccionario = {'id': [1,2,3], 'letra': ['x', 'y', 'z']}\n",
    "\n",
    "df_diccionario = pl.from_dict(diccionario)\n",
    "\n",
    "print(df_diccionario)"
   ]
  },
  {
   "cell_type": "markdown",
   "id": "0c0ec065-c0bd-44a6-99a6-cc89c1ceeeec",
   "metadata": {},
   "source": [
    "## Crear un DataFrame de Polars desde su representación String\n",
    "\n",
    "La función `from_repr` permite crear un DataFrame de Polars a partir de su representación string.\n",
    "\n",
    "Para este ejemplo tomaremos el DataFrame que hemos imprimido en la celda anterior y se lo proporcionaremos como parámetro a la función `from_repr`."
   ]
  },
  {
   "cell_type": "code",
   "execution_count": null,
   "id": "5beff6ec-ae14-462b-8677-18315be5f2c7",
   "metadata": {
    "tags": []
   },
   "outputs": [],
   "source": [
    "df_str = pl.from_repr(\n",
    "    \"\"\"\n",
    "    shape: (3, 2)\n",
    "┌─────┬───────┐\n",
    "│ id  ┆ letra │\n",
    "│ --- ┆ ---   │\n",
    "│ i64 ┆ str   │\n",
    "╞═════╪═══════╡\n",
    "│ 1   ┆ x     │\n",
    "│ 2   ┆ y     │\n",
    "│ 3   ┆ z     │\n",
    "└─────┴───────┘\n",
    "    \"\"\"\n",
    ")"
   ]
  },
  {
   "cell_type": "code",
   "execution_count": null,
   "id": "d290aa55-d480-4d9b-906d-3180bb3be070",
   "metadata": {
    "tags": []
   },
   "outputs": [],
   "source": [
    "print(df_str)"
   ]
  }
 ],
 "metadata": {
  "kernelspec": {
   "display_name": "Python 3 (ipykernel)",
   "language": "python",
   "name": "python3"
  },
  "language_info": {
   "codemirror_mode": {
    "name": "ipython",
    "version": 3
   },
   "file_extension": ".py",
   "mimetype": "text/x-python",
   "name": "python",
   "nbconvert_exporter": "python",
   "pygments_lexer": "ipython3",
   "version": "3.9.6"
  }
 },
 "nbformat": 4,
 "nbformat_minor": 5
}
