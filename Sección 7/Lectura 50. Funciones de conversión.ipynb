{
 "cells": [
  {
   "cell_type": "markdown",
   "id": "fad89ecc-daa4-4f83-a381-aa65c64bc936",
   "metadata": {},
   "source": [
    "# Lectura 50: Funciones de conversión"
   ]
  },
  {
   "cell_type": "code",
   "execution_count": 1,
   "id": "3595e0c2-99c1-4176-bdd8-6cfd27d04cd5",
   "metadata": {
    "tags": []
   },
   "outputs": [
    {
     "data": {
      "text/plain": [
       "pyarrow.Table\n",
       "YEAR: int32\n",
       "MONTH: int32\n",
       "DAY: int32\n",
       "DAY_OF_WEEK: int32\n",
       "AIRLINE: string\n",
       "FLIGHT_NUMBER: int32\n",
       "TAIL_NUMBER: string\n",
       "ORIGIN_AIRPORT: string\n",
       "DESTINATION_AIRPORT: string\n",
       "SCHEDULED_DEPARTURE: int32\n",
       "DEPARTURE_TIME: int32\n",
       "DEPARTURE_DELAY: int32\n",
       "TAXI_OUT: int32\n",
       "WHEELS_OFF: int32\n",
       "SCHEDULED_TIME: int32\n",
       "ELAPSED_TIME: int32\n",
       "AIR_TIME: int32\n",
       "DISTANCE: int32\n",
       "WHEELS_ON: int32\n",
       "TAXI_IN: int32\n",
       "SCHEDULED_ARRIVAL: int32\n",
       "ARRIVAL_TIME: int32\n",
       "ARRIVAL_DELAY: int32\n",
       "DIVERTED: int32\n",
       "CANCELLED: int32\n",
       "CANCELLATION_REASON: string\n",
       "AIR_SYSTEM_DELAY: int32\n",
       "SECURITY_DELAY: int32\n",
       "AIRLINE_DELAY: int32\n",
       "LATE_AIRCRAFT_DELAY: int32\n",
       "WEATHER_DELAY: int32\n",
       "----\n",
       "YEAR: [[2015,2015,2015,2015,2015,...,2015,2015,2015,2015,2015],[2015,2015,2015,2015,2015,...,2015,2015,2015,2015,2015],...,[2015,2015,2015,2015,2015,...,2015,2015,2015,2015,2015],[2015,2015,2015,2015,2015,...,2015,2015,2015,2015,2015]]\n",
       "MONTH: [[1,1,1,1,1,...,1,1,1,1,1],[1,1,1,1,1,...,1,1,1,1,1],...,[12,12,12,12,12,...,12,12,12,12,12],[12,12,12,12,12,...,12,12,12,12,12]]\n",
       "DAY: [[1,1,1,1,1,...,9,9,9,9,9],[9,9,9,9,9,...,18,18,18,18,18],...,[18,18,18,18,18,...,26,26,26,26,26],[26,26,26,26,26,...,31,31,31,31,31]]\n",
       "DAY_OF_WEEK: [[4,4,4,4,4,...,5,5,5,5,5],[5,5,5,5,5,...,7,7,7,7,7],...,[5,5,5,5,5,...,6,6,6,6,6],[6,6,6,6,6,...,4,4,4,4,4]]\n",
       "AIRLINE: [[\"AS\",\"AA\",\"US\",\"AA\",\"AS\",...,\"WN\",\"WN\",\"WN\",\"WN\",\"WN\"],[\"WN\",\"WN\",\"WN\",\"WN\",\"WN\",...,\"EV\",\"EV\",\"F9\",\"HA\",\"MQ\"],...,[\"DL\",\"DL\",\"DL\",\"F9\",\"F9\",...,\"DL\",\"DL\",\"DL\",\"EV\",\"F9\"],[\"NK\",\"NK\",\"NK\",\"NK\",\"NK\",...,\"B6\",\"B6\",\"B6\",\"B6\",\"B6\"]]\n",
       "FLIGHT_NUMBER: [[98,2336,840,258,135,...,3587,2771,599,7,285],[274,3851,483,469,2352,...,5455,6067,1278,120,2939],...,[2351,803,832,1001,918,...,2398,2561,2803,6072,337],[779,706,821,869,749,...,688,745,1503,333,839]]\n",
       "TAIL_NUMBER: [[\"N407AS\",\"N3KUAA\",\"N171US\",\"N3HYAA\",\"N527AS\",...,\"N372SW\",\"N550WN\",\"N658SW\",\"N251WN\",\"N8633A\"],[\"N960WN\",\"N964WN\",\"N379SW\",\"N787SA\",\"N242WN\",...,\"N926EV\",\"N12142\",\"N912FR\",\"N493HA\",\"N683MQ\"],...,[\"N956DN\",\"N917DE\",\"N6700\",\"N208FR\",\"N927FR\",...,\"N607AT\",\"N963AT\",\"N905DE\",\"N12195\",\"N223FR\"],[\"N601NK\",\"N639NK\",\"N506NK\",\"N533NK\",\"N621NK\",...,\"N657JB\",\"N828JB\",\"N913JB\",\"N527JB\",\"N534JB\"]]\n",
       "ORIGIN_AIRPORT: [[\"ANC\",\"LAX\",\"SFO\",\"LAX\",\"SEA\",...,\"BWI\",\"CMH\",\"DEN\",\"HOU\",\"PHX\"],[\"RSW\",\"SEA\",\"ABQ\",\"ATL\",\"ATL\",...,\"DTW\",\"LBB\",\"MCO\",\"HNL\",\"DFW\"],...,[\"RDU\",\"CVG\",\"SLC\",\"PHL\",\"MCO\",...,\"DTW\",\"ATL\",\"JFK\",\"IND\",\"MSP\"],[\"LGA\",\"DTW\",\"BWI\",\"LAS\",\"MSP\",...,\"LAX\",\"JFK\",\"JFK\",\"MCO\",\"JFK\"]]\n",
       "DESTINATION_AIRPORT: [[\"SEA\",\"PBI\",\"CLT\",\"MIA\",\"ANC\",...,\"PWM\",\"MDW\",\"SDF\",\"ATL\",\"DEN\"],[\"IND\",\"MKE\",\"DEN\",\"CAK\",\"DTW\",...,\"CID\",\"DEN\",\"PHL\",\"KOA\",\"FWA\"],...,[\"ATL\",\"MCO\",\"DCA\",\"MIA\",\"TTN\",...,\"DCA\",\"GSP\",\"MSY\",\"ORD\",\"DEN\"],[\"FLL\",\"LAX\",\"ATL\",\"PDX\",\"DFW\",...,\"BOS\",\"PSE\",\"SJU\",\"SJU\",\"BQN\"]]\n",
       "SCHEDULED_DEPARTURE: [[5,10,20,20,25,...,1030,1030,1030,1030,1030],[1030,1030,1030,1030,1030,...,850,850,850,850,850],...,[945,945,945,945,945,...,1955,1955,1955,1955,1955],[1955,1955,1955,1955,1955,...,2359,2359,2359,2359,2359]]\n",
       "..."
      ]
     },
     "execution_count": 1,
     "metadata": {},
     "output_type": "execute_result"
    }
   ],
   "source": [
    "import pyarrow.parquet as pq\n",
    "\n",
    "tabla_vuelos = pq.read_table('./data/vuelos/')\n",
    "\n",
    "tabla_vuelos"
   ]
  },
  {
   "cell_type": "markdown",
   "id": "a79cbd23-416b-4c47-afbd-bc8cc2369b95",
   "metadata": {
    "tags": []
   },
   "source": [
    "## Crear un DataFrame de Polars desde una tabla de Arrow\n",
    "\n",
    "La función `from_arrow` permite crear un DataFrame de Polars a partir de una tabla Arrow. Esta operación no creará copias en su mayor parte. Los tipos que no son compatibles con Polars se pueden convertir al tipo compatible más cercano."
   ]
  },
  {
   "cell_type": "code",
   "execution_count": 2,
   "id": "6c3ef2cf-c233-428a-9599-5cbac2f7a063",
   "metadata": {
    "tags": []
   },
   "outputs": [
    {
     "name": "stdout",
     "output_type": "stream",
     "text": [
      "shape: (5_819_079, 31)\n",
      "┌──────┬───────┬─────┬─────────────┬───┬──────────────┬──────────────┬──────────────┬──────────────┐\n",
      "│ YEAR ┆ MONTH ┆ DAY ┆ DAY_OF_WEEK ┆ … ┆ SECURITY_DEL ┆ AIRLINE_DELA ┆ LATE_AIRCRAF ┆ WEATHER_DELA │\n",
      "│ ---  ┆ ---   ┆ --- ┆ ---         ┆   ┆ AY           ┆ Y            ┆ T_DELAY      ┆ Y            │\n",
      "│ i32  ┆ i32   ┆ i32 ┆ i32         ┆   ┆ ---          ┆ ---          ┆ ---          ┆ ---          │\n",
      "│      ┆       ┆     ┆             ┆   ┆ i32          ┆ i32          ┆ i32          ┆ i32          │\n",
      "╞══════╪═══════╪═════╪═════════════╪═══╪══════════════╪══════════════╪══════════════╪══════════════╡\n",
      "│ 2015 ┆ 1     ┆ 1   ┆ 4           ┆ … ┆ null         ┆ null         ┆ null         ┆ null         │\n",
      "│ 2015 ┆ 1     ┆ 1   ┆ 4           ┆ … ┆ null         ┆ null         ┆ null         ┆ null         │\n",
      "│ 2015 ┆ 1     ┆ 1   ┆ 4           ┆ … ┆ null         ┆ null         ┆ null         ┆ null         │\n",
      "│ 2015 ┆ 1     ┆ 1   ┆ 4           ┆ … ┆ null         ┆ null         ┆ null         ┆ null         │\n",
      "│ 2015 ┆ 1     ┆ 1   ┆ 4           ┆ … ┆ null         ┆ null         ┆ null         ┆ null         │\n",
      "│ …    ┆ …     ┆ …   ┆ …           ┆ … ┆ …            ┆ …            ┆ …            ┆ …            │\n",
      "│ 2015 ┆ 12    ┆ 31  ┆ 4           ┆ … ┆ null         ┆ null         ┆ null         ┆ null         │\n",
      "│ 2015 ┆ 12    ┆ 31  ┆ 4           ┆ … ┆ null         ┆ null         ┆ null         ┆ null         │\n",
      "│ 2015 ┆ 12    ┆ 31  ┆ 4           ┆ … ┆ null         ┆ null         ┆ null         ┆ null         │\n",
      "│ 2015 ┆ 12    ┆ 31  ┆ 4           ┆ … ┆ null         ┆ null         ┆ null         ┆ null         │\n",
      "│ 2015 ┆ 12    ┆ 31  ┆ 4           ┆ … ┆ null         ┆ null         ┆ null         ┆ null         │\n",
      "└──────┴───────┴─────┴─────────────┴───┴──────────────┴──────────────┴──────────────┴──────────────┘\n"
     ]
    }
   ],
   "source": [
    "import polars as pl\n",
    "\n",
    "vuelos_df = pl.from_arrow(tabla_vuelos)\n",
    "\n",
    "print(vuelos_df)"
   ]
  },
  {
   "cell_type": "markdown",
   "id": "fc9d082f-f1ba-4682-9def-9b664daf2543",
   "metadata": {},
   "source": [
    "## Crear un DataFrame de Polars desde un Pandas DataFrame\n",
    "\n",
    "La función `from_pandas` permite crear un DataFrame de Polars a partir de un Pandas DataFrame. Esta operación clona los datos. Además, requiere que `pandas` y `pyarrow` estén instalados."
   ]
  },
  {
   "cell_type": "code",
   "execution_count": 3,
   "id": "5ec48056-9d20-49d6-997a-8e56518e9ab1",
   "metadata": {
    "tags": []
   },
   "outputs": [
    {
     "data": {
      "text/html": [
       "<div>\n",
       "<style scoped>\n",
       "    .dataframe tbody tr th:only-of-type {\n",
       "        vertical-align: middle;\n",
       "    }\n",
       "\n",
       "    .dataframe tbody tr th {\n",
       "        vertical-align: top;\n",
       "    }\n",
       "\n",
       "    .dataframe thead th {\n",
       "        text-align: right;\n",
       "    }\n",
       "</style>\n",
       "<table border=\"1\" class=\"dataframe\">\n",
       "  <thead>\n",
       "    <tr style=\"text-align: right;\">\n",
       "      <th></th>\n",
       "      <th>YEAR</th>\n",
       "      <th>MONTH</th>\n",
       "      <th>DAY</th>\n",
       "      <th>DAY_OF_WEEK</th>\n",
       "      <th>AIRLINE</th>\n",
       "      <th>FLIGHT_NUMBER</th>\n",
       "      <th>TAIL_NUMBER</th>\n",
       "      <th>ORIGIN_AIRPORT</th>\n",
       "      <th>DESTINATION_AIRPORT</th>\n",
       "      <th>SCHEDULED_DEPARTURE</th>\n",
       "      <th>...</th>\n",
       "      <th>ARRIVAL_TIME</th>\n",
       "      <th>ARRIVAL_DELAY</th>\n",
       "      <th>DIVERTED</th>\n",
       "      <th>CANCELLED</th>\n",
       "      <th>CANCELLATION_REASON</th>\n",
       "      <th>AIR_SYSTEM_DELAY</th>\n",
       "      <th>SECURITY_DELAY</th>\n",
       "      <th>AIRLINE_DELAY</th>\n",
       "      <th>LATE_AIRCRAFT_DELAY</th>\n",
       "      <th>WEATHER_DELAY</th>\n",
       "    </tr>\n",
       "  </thead>\n",
       "  <tbody>\n",
       "    <tr>\n",
       "      <th>0</th>\n",
       "      <td>2015</td>\n",
       "      <td>1</td>\n",
       "      <td>1</td>\n",
       "      <td>4</td>\n",
       "      <td>AS</td>\n",
       "      <td>98</td>\n",
       "      <td>N407AS</td>\n",
       "      <td>ANC</td>\n",
       "      <td>SEA</td>\n",
       "      <td>5</td>\n",
       "      <td>...</td>\n",
       "      <td>408.0</td>\n",
       "      <td>-22.0</td>\n",
       "      <td>0</td>\n",
       "      <td>0</td>\n",
       "      <td>None</td>\n",
       "      <td>NaN</td>\n",
       "      <td>NaN</td>\n",
       "      <td>NaN</td>\n",
       "      <td>NaN</td>\n",
       "      <td>NaN</td>\n",
       "    </tr>\n",
       "    <tr>\n",
       "      <th>1</th>\n",
       "      <td>2015</td>\n",
       "      <td>1</td>\n",
       "      <td>1</td>\n",
       "      <td>4</td>\n",
       "      <td>AA</td>\n",
       "      <td>2336</td>\n",
       "      <td>N3KUAA</td>\n",
       "      <td>LAX</td>\n",
       "      <td>PBI</td>\n",
       "      <td>10</td>\n",
       "      <td>...</td>\n",
       "      <td>741.0</td>\n",
       "      <td>-9.0</td>\n",
       "      <td>0</td>\n",
       "      <td>0</td>\n",
       "      <td>None</td>\n",
       "      <td>NaN</td>\n",
       "      <td>NaN</td>\n",
       "      <td>NaN</td>\n",
       "      <td>NaN</td>\n",
       "      <td>NaN</td>\n",
       "    </tr>\n",
       "    <tr>\n",
       "      <th>2</th>\n",
       "      <td>2015</td>\n",
       "      <td>1</td>\n",
       "      <td>1</td>\n",
       "      <td>4</td>\n",
       "      <td>US</td>\n",
       "      <td>840</td>\n",
       "      <td>N171US</td>\n",
       "      <td>SFO</td>\n",
       "      <td>CLT</td>\n",
       "      <td>20</td>\n",
       "      <td>...</td>\n",
       "      <td>811.0</td>\n",
       "      <td>5.0</td>\n",
       "      <td>0</td>\n",
       "      <td>0</td>\n",
       "      <td>None</td>\n",
       "      <td>NaN</td>\n",
       "      <td>NaN</td>\n",
       "      <td>NaN</td>\n",
       "      <td>NaN</td>\n",
       "      <td>NaN</td>\n",
       "    </tr>\n",
       "    <tr>\n",
       "      <th>3</th>\n",
       "      <td>2015</td>\n",
       "      <td>1</td>\n",
       "      <td>1</td>\n",
       "      <td>4</td>\n",
       "      <td>AA</td>\n",
       "      <td>258</td>\n",
       "      <td>N3HYAA</td>\n",
       "      <td>LAX</td>\n",
       "      <td>MIA</td>\n",
       "      <td>20</td>\n",
       "      <td>...</td>\n",
       "      <td>756.0</td>\n",
       "      <td>-9.0</td>\n",
       "      <td>0</td>\n",
       "      <td>0</td>\n",
       "      <td>None</td>\n",
       "      <td>NaN</td>\n",
       "      <td>NaN</td>\n",
       "      <td>NaN</td>\n",
       "      <td>NaN</td>\n",
       "      <td>NaN</td>\n",
       "    </tr>\n",
       "    <tr>\n",
       "      <th>4</th>\n",
       "      <td>2015</td>\n",
       "      <td>1</td>\n",
       "      <td>1</td>\n",
       "      <td>4</td>\n",
       "      <td>AS</td>\n",
       "      <td>135</td>\n",
       "      <td>N527AS</td>\n",
       "      <td>SEA</td>\n",
       "      <td>ANC</td>\n",
       "      <td>25</td>\n",
       "      <td>...</td>\n",
       "      <td>259.0</td>\n",
       "      <td>-21.0</td>\n",
       "      <td>0</td>\n",
       "      <td>0</td>\n",
       "      <td>None</td>\n",
       "      <td>NaN</td>\n",
       "      <td>NaN</td>\n",
       "      <td>NaN</td>\n",
       "      <td>NaN</td>\n",
       "      <td>NaN</td>\n",
       "    </tr>\n",
       "    <tr>\n",
       "      <th>...</th>\n",
       "      <td>...</td>\n",
       "      <td>...</td>\n",
       "      <td>...</td>\n",
       "      <td>...</td>\n",
       "      <td>...</td>\n",
       "      <td>...</td>\n",
       "      <td>...</td>\n",
       "      <td>...</td>\n",
       "      <td>...</td>\n",
       "      <td>...</td>\n",
       "      <td>...</td>\n",
       "      <td>...</td>\n",
       "      <td>...</td>\n",
       "      <td>...</td>\n",
       "      <td>...</td>\n",
       "      <td>...</td>\n",
       "      <td>...</td>\n",
       "      <td>...</td>\n",
       "      <td>...</td>\n",
       "      <td>...</td>\n",
       "      <td>...</td>\n",
       "    </tr>\n",
       "    <tr>\n",
       "      <th>5819074</th>\n",
       "      <td>2015</td>\n",
       "      <td>12</td>\n",
       "      <td>31</td>\n",
       "      <td>4</td>\n",
       "      <td>B6</td>\n",
       "      <td>688</td>\n",
       "      <td>N657JB</td>\n",
       "      <td>LAX</td>\n",
       "      <td>BOS</td>\n",
       "      <td>2359</td>\n",
       "      <td>...</td>\n",
       "      <td>753.0</td>\n",
       "      <td>-26.0</td>\n",
       "      <td>0</td>\n",
       "      <td>0</td>\n",
       "      <td>None</td>\n",
       "      <td>NaN</td>\n",
       "      <td>NaN</td>\n",
       "      <td>NaN</td>\n",
       "      <td>NaN</td>\n",
       "      <td>NaN</td>\n",
       "    </tr>\n",
       "    <tr>\n",
       "      <th>5819075</th>\n",
       "      <td>2015</td>\n",
       "      <td>12</td>\n",
       "      <td>31</td>\n",
       "      <td>4</td>\n",
       "      <td>B6</td>\n",
       "      <td>745</td>\n",
       "      <td>N828JB</td>\n",
       "      <td>JFK</td>\n",
       "      <td>PSE</td>\n",
       "      <td>2359</td>\n",
       "      <td>...</td>\n",
       "      <td>430.0</td>\n",
       "      <td>-16.0</td>\n",
       "      <td>0</td>\n",
       "      <td>0</td>\n",
       "      <td>None</td>\n",
       "      <td>NaN</td>\n",
       "      <td>NaN</td>\n",
       "      <td>NaN</td>\n",
       "      <td>NaN</td>\n",
       "      <td>NaN</td>\n",
       "    </tr>\n",
       "    <tr>\n",
       "      <th>5819076</th>\n",
       "      <td>2015</td>\n",
       "      <td>12</td>\n",
       "      <td>31</td>\n",
       "      <td>4</td>\n",
       "      <td>B6</td>\n",
       "      <td>1503</td>\n",
       "      <td>N913JB</td>\n",
       "      <td>JFK</td>\n",
       "      <td>SJU</td>\n",
       "      <td>2359</td>\n",
       "      <td>...</td>\n",
       "      <td>432.0</td>\n",
       "      <td>-8.0</td>\n",
       "      <td>0</td>\n",
       "      <td>0</td>\n",
       "      <td>None</td>\n",
       "      <td>NaN</td>\n",
       "      <td>NaN</td>\n",
       "      <td>NaN</td>\n",
       "      <td>NaN</td>\n",
       "      <td>NaN</td>\n",
       "    </tr>\n",
       "    <tr>\n",
       "      <th>5819077</th>\n",
       "      <td>2015</td>\n",
       "      <td>12</td>\n",
       "      <td>31</td>\n",
       "      <td>4</td>\n",
       "      <td>B6</td>\n",
       "      <td>333</td>\n",
       "      <td>N527JB</td>\n",
       "      <td>MCO</td>\n",
       "      <td>SJU</td>\n",
       "      <td>2359</td>\n",
       "      <td>...</td>\n",
       "      <td>330.0</td>\n",
       "      <td>-10.0</td>\n",
       "      <td>0</td>\n",
       "      <td>0</td>\n",
       "      <td>None</td>\n",
       "      <td>NaN</td>\n",
       "      <td>NaN</td>\n",
       "      <td>NaN</td>\n",
       "      <td>NaN</td>\n",
       "      <td>NaN</td>\n",
       "    </tr>\n",
       "    <tr>\n",
       "      <th>5819078</th>\n",
       "      <td>2015</td>\n",
       "      <td>12</td>\n",
       "      <td>31</td>\n",
       "      <td>4</td>\n",
       "      <td>B6</td>\n",
       "      <td>839</td>\n",
       "      <td>N534JB</td>\n",
       "      <td>JFK</td>\n",
       "      <td>BQN</td>\n",
       "      <td>2359</td>\n",
       "      <td>...</td>\n",
       "      <td>442.0</td>\n",
       "      <td>2.0</td>\n",
       "      <td>0</td>\n",
       "      <td>0</td>\n",
       "      <td>None</td>\n",
       "      <td>NaN</td>\n",
       "      <td>NaN</td>\n",
       "      <td>NaN</td>\n",
       "      <td>NaN</td>\n",
       "      <td>NaN</td>\n",
       "    </tr>\n",
       "  </tbody>\n",
       "</table>\n",
       "<p>5819079 rows × 31 columns</p>\n",
       "</div>"
      ],
      "text/plain": [
       "         YEAR  MONTH  DAY  DAY_OF_WEEK AIRLINE  FLIGHT_NUMBER TAIL_NUMBER  \\\n",
       "0        2015      1    1            4      AS             98      N407AS   \n",
       "1        2015      1    1            4      AA           2336      N3KUAA   \n",
       "2        2015      1    1            4      US            840      N171US   \n",
       "3        2015      1    1            4      AA            258      N3HYAA   \n",
       "4        2015      1    1            4      AS            135      N527AS   \n",
       "...       ...    ...  ...          ...     ...            ...         ...   \n",
       "5819074  2015     12   31            4      B6            688      N657JB   \n",
       "5819075  2015     12   31            4      B6            745      N828JB   \n",
       "5819076  2015     12   31            4      B6           1503      N913JB   \n",
       "5819077  2015     12   31            4      B6            333      N527JB   \n",
       "5819078  2015     12   31            4      B6            839      N534JB   \n",
       "\n",
       "        ORIGIN_AIRPORT DESTINATION_AIRPORT  SCHEDULED_DEPARTURE  ...  \\\n",
       "0                  ANC                 SEA                    5  ...   \n",
       "1                  LAX                 PBI                   10  ...   \n",
       "2                  SFO                 CLT                   20  ...   \n",
       "3                  LAX                 MIA                   20  ...   \n",
       "4                  SEA                 ANC                   25  ...   \n",
       "...                ...                 ...                  ...  ...   \n",
       "5819074            LAX                 BOS                 2359  ...   \n",
       "5819075            JFK                 PSE                 2359  ...   \n",
       "5819076            JFK                 SJU                 2359  ...   \n",
       "5819077            MCO                 SJU                 2359  ...   \n",
       "5819078            JFK                 BQN                 2359  ...   \n",
       "\n",
       "         ARRIVAL_TIME  ARRIVAL_DELAY  DIVERTED  CANCELLED  \\\n",
       "0               408.0          -22.0         0          0   \n",
       "1               741.0           -9.0         0          0   \n",
       "2               811.0            5.0         0          0   \n",
       "3               756.0           -9.0         0          0   \n",
       "4               259.0          -21.0         0          0   \n",
       "...               ...            ...       ...        ...   \n",
       "5819074         753.0          -26.0         0          0   \n",
       "5819075         430.0          -16.0         0          0   \n",
       "5819076         432.0           -8.0         0          0   \n",
       "5819077         330.0          -10.0         0          0   \n",
       "5819078         442.0            2.0         0          0   \n",
       "\n",
       "         CANCELLATION_REASON  AIR_SYSTEM_DELAY  SECURITY_DELAY  AIRLINE_DELAY  \\\n",
       "0                       None               NaN             NaN            NaN   \n",
       "1                       None               NaN             NaN            NaN   \n",
       "2                       None               NaN             NaN            NaN   \n",
       "3                       None               NaN             NaN            NaN   \n",
       "4                       None               NaN             NaN            NaN   \n",
       "...                      ...               ...             ...            ...   \n",
       "5819074                 None               NaN             NaN            NaN   \n",
       "5819075                 None               NaN             NaN            NaN   \n",
       "5819076                 None               NaN             NaN            NaN   \n",
       "5819077                 None               NaN             NaN            NaN   \n",
       "5819078                 None               NaN             NaN            NaN   \n",
       "\n",
       "         LATE_AIRCRAFT_DELAY  WEATHER_DELAY  \n",
       "0                        NaN            NaN  \n",
       "1                        NaN            NaN  \n",
       "2                        NaN            NaN  \n",
       "3                        NaN            NaN  \n",
       "4                        NaN            NaN  \n",
       "...                      ...            ...  \n",
       "5819074                  NaN            NaN  \n",
       "5819075                  NaN            NaN  \n",
       "5819076                  NaN            NaN  \n",
       "5819077                  NaN            NaN  \n",
       "5819078                  NaN            NaN  \n",
       "\n",
       "[5819079 rows x 31 columns]"
      ]
     },
     "execution_count": 3,
     "metadata": {},
     "output_type": "execute_result"
    }
   ],
   "source": [
    "vuelos_pd = tabla_vuelos.to_pandas()\n",
    "\n",
    "vuelos_pd"
   ]
  },
  {
   "cell_type": "code",
   "execution_count": 4,
   "id": "0ed71d58-310c-418d-80e7-b1cb13db54f7",
   "metadata": {
    "tags": []
   },
   "outputs": [
    {
     "name": "stdout",
     "output_type": "stream",
     "text": [
      "shape: (5_819_079, 31)\n",
      "┌──────┬───────┬─────┬─────────────┬───┬──────────────┬──────────────┬──────────────┬──────────────┐\n",
      "│ YEAR ┆ MONTH ┆ DAY ┆ DAY_OF_WEEK ┆ … ┆ SECURITY_DEL ┆ AIRLINE_DELA ┆ LATE_AIRCRAF ┆ WEATHER_DELA │\n",
      "│ ---  ┆ ---   ┆ --- ┆ ---         ┆   ┆ AY           ┆ Y            ┆ T_DELAY      ┆ Y            │\n",
      "│ i32  ┆ i32   ┆ i32 ┆ i32         ┆   ┆ ---          ┆ ---          ┆ ---          ┆ ---          │\n",
      "│      ┆       ┆     ┆             ┆   ┆ f64          ┆ f64          ┆ f64          ┆ f64          │\n",
      "╞══════╪═══════╪═════╪═════════════╪═══╪══════════════╪══════════════╪══════════════╪══════════════╡\n",
      "│ 2015 ┆ 1     ┆ 1   ┆ 4           ┆ … ┆ null         ┆ null         ┆ null         ┆ null         │\n",
      "│ 2015 ┆ 1     ┆ 1   ┆ 4           ┆ … ┆ null         ┆ null         ┆ null         ┆ null         │\n",
      "│ 2015 ┆ 1     ┆ 1   ┆ 4           ┆ … ┆ null         ┆ null         ┆ null         ┆ null         │\n",
      "│ 2015 ┆ 1     ┆ 1   ┆ 4           ┆ … ┆ null         ┆ null         ┆ null         ┆ null         │\n",
      "│ 2015 ┆ 1     ┆ 1   ┆ 4           ┆ … ┆ null         ┆ null         ┆ null         ┆ null         │\n",
      "│ …    ┆ …     ┆ …   ┆ …           ┆ … ┆ …            ┆ …            ┆ …            ┆ …            │\n",
      "│ 2015 ┆ 12    ┆ 31  ┆ 4           ┆ … ┆ null         ┆ null         ┆ null         ┆ null         │\n",
      "│ 2015 ┆ 12    ┆ 31  ┆ 4           ┆ … ┆ null         ┆ null         ┆ null         ┆ null         │\n",
      "│ 2015 ┆ 12    ┆ 31  ┆ 4           ┆ … ┆ null         ┆ null         ┆ null         ┆ null         │\n",
      "│ 2015 ┆ 12    ┆ 31  ┆ 4           ┆ … ┆ null         ┆ null         ┆ null         ┆ null         │\n",
      "│ 2015 ┆ 12    ┆ 31  ┆ 4           ┆ … ┆ null         ┆ null         ┆ null         ┆ null         │\n",
      "└──────┴───────┴─────┴─────────────┴───┴──────────────┴──────────────┴──────────────┴──────────────┘\n"
     ]
    }
   ],
   "source": [
    "vuelos_df = pl.from_pandas(vuelos_pd)\n",
    "\n",
    "print(vuelos_df)"
   ]
  },
  {
   "cell_type": "markdown",
   "id": "75548b24-2fe1-4c72-b0be-dbaee193a755",
   "metadata": {},
   "source": [
    "## Crear un DataFrame de Polars desde un NumPy ndarray\n",
    "\n",
    "La función `from_numpy` permite crear un DataFrame de Polars a partir de un NumPy ndarray. Esta operación clona los datos. Tenga en cuenta que esta operación pude ser un poco lenta en algunos casos."
   ]
  },
  {
   "cell_type": "code",
   "execution_count": 5,
   "id": "ff3b8c27-c7ea-41f7-8b8d-089e0f922235",
   "metadata": {
    "tags": []
   },
   "outputs": [
    {
     "data": {
      "text/plain": [
       "numpy.ndarray"
      ]
     },
     "execution_count": 5,
     "metadata": {},
     "output_type": "execute_result"
    }
   ],
   "source": [
    "vuelos_np = vuelos_pd.to_numpy()\n",
    "\n",
    "type(vuelos_np)"
   ]
  },
  {
   "cell_type": "code",
   "execution_count": 6,
   "id": "a433e157-4128-4786-8470-184eb3b8bc65",
   "metadata": {
    "tags": []
   },
   "outputs": [
    {
     "data": {
      "text/plain": [
       "array([[2015, 1, 1, ..., nan, nan, nan],\n",
       "       [2015, 1, 1, ..., nan, nan, nan],\n",
       "       [2015, 1, 1, ..., nan, nan, nan],\n",
       "       ...,\n",
       "       [2015, 12, 31, ..., nan, nan, nan],\n",
       "       [2015, 12, 31, ..., nan, nan, nan],\n",
       "       [2015, 12, 31, ..., nan, nan, nan]], dtype=object)"
      ]
     },
     "execution_count": 6,
     "metadata": {},
     "output_type": "execute_result"
    }
   ],
   "source": [
    "vuelos_np"
   ]
  },
  {
   "cell_type": "code",
   "execution_count": 7,
   "id": "a4cab9cc-cb6e-43c9-9554-f7404403129d",
   "metadata": {
    "tags": []
   },
   "outputs": [
    {
     "name": "stdout",
     "output_type": "stream",
     "text": [
      "shape: (5_819_079, 31)\n",
      "┌──────────┬──────────┬──────────┬──────────┬───┬───────────┬───────────┬───────────┬───────────┐\n",
      "│ column_0 ┆ column_1 ┆ column_2 ┆ column_3 ┆ … ┆ column_27 ┆ column_28 ┆ column_29 ┆ column_30 │\n",
      "│ ---      ┆ ---      ┆ ---      ┆ ---      ┆   ┆ ---       ┆ ---       ┆ ---       ┆ ---       │\n",
      "│ object   ┆ object   ┆ object   ┆ object   ┆   ┆ object    ┆ object    ┆ object    ┆ object    │\n",
      "╞══════════╪══════════╪══════════╪══════════╪═══╪═══════════╪═══════════╪═══════════╪═══════════╡\n",
      "│ 2015     ┆ 1        ┆ 1        ┆ 4        ┆ … ┆ nan       ┆ nan       ┆ nan       ┆ nan       │\n",
      "│ 2015     ┆ 1        ┆ 1        ┆ 4        ┆ … ┆ nan       ┆ nan       ┆ nan       ┆ nan       │\n",
      "│ 2015     ┆ 1        ┆ 1        ┆ 4        ┆ … ┆ nan       ┆ nan       ┆ nan       ┆ nan       │\n",
      "│ 2015     ┆ 1        ┆ 1        ┆ 4        ┆ … ┆ nan       ┆ nan       ┆ nan       ┆ nan       │\n",
      "│ 2015     ┆ 1        ┆ 1        ┆ 4        ┆ … ┆ nan       ┆ nan       ┆ nan       ┆ nan       │\n",
      "│ …        ┆ …        ┆ …        ┆ …        ┆ … ┆ …         ┆ …         ┆ …         ┆ …         │\n",
      "│ 2015     ┆ 12       ┆ 31       ┆ 4        ┆ … ┆ nan       ┆ nan       ┆ nan       ┆ nan       │\n",
      "│ 2015     ┆ 12       ┆ 31       ┆ 4        ┆ … ┆ nan       ┆ nan       ┆ nan       ┆ nan       │\n",
      "│ 2015     ┆ 12       ┆ 31       ┆ 4        ┆ … ┆ nan       ┆ nan       ┆ nan       ┆ nan       │\n",
      "│ 2015     ┆ 12       ┆ 31       ┆ 4        ┆ … ┆ nan       ┆ nan       ┆ nan       ┆ nan       │\n",
      "│ 2015     ┆ 12       ┆ 31       ┆ 4        ┆ … ┆ nan       ┆ nan       ┆ nan       ┆ nan       │\n",
      "└──────────┴──────────┴──────────┴──────────┴───┴───────────┴───────────┴───────────┴───────────┘\n"
     ]
    }
   ],
   "source": [
    "vuelos_df = pl.from_numpy(vuelos_np)\n",
    "\n",
    "print(vuelos_df)"
   ]
  },
  {
   "cell_type": "markdown",
   "id": "9e75a06d-4c65-4e36-be3a-8d67474fff21",
   "metadata": {},
   "source": [
    "## Crear un DataFrame de Polars desde una lista y un diccionario\n",
    "\n",
    "Las funciones `from_records` y `from_dict` nos permiten crear un DataFrame de Polars desde un lista o un diccionario respectivamente."
   ]
  },
  {
   "cell_type": "code",
   "execution_count": 8,
   "id": "2abfb56a-fe65-4493-a3ed-2ad7672edae0",
   "metadata": {
    "tags": []
   },
   "outputs": [
    {
     "name": "stdout",
     "output_type": "stream",
     "text": [
      "shape: (3, 2)\n",
      "┌───────┬─────┐\n",
      "│ letra ┆ id  │\n",
      "│ ---   ┆ --- │\n",
      "│ str   ┆ i64 │\n",
      "╞═══════╪═════╡\n",
      "│ a     ┆ 1   │\n",
      "│ b     ┆ 2   │\n",
      "│ c     ┆ 3   │\n",
      "└───────┴─────┘\n"
     ]
    }
   ],
   "source": [
    "valores = [['a', 'b', 'c'], [1,2,3]]\n",
    "\n",
    "df_valores = pl.from_records(valores, schema=['letra', 'id'])\n",
    "\n",
    "print(df_valores)"
   ]
  },
  {
   "cell_type": "code",
   "execution_count": 9,
   "id": "b38c2ea7-ba20-453f-9074-f05e53e61515",
   "metadata": {
    "tags": []
   },
   "outputs": [
    {
     "name": "stdout",
     "output_type": "stream",
     "text": [
      "shape: (3, 2)\n",
      "┌─────┬───────┐\n",
      "│ id  ┆ letra │\n",
      "│ --- ┆ ---   │\n",
      "│ i64 ┆ str   │\n",
      "╞═════╪═══════╡\n",
      "│ 1   ┆ x     │\n",
      "│ 2   ┆ y     │\n",
      "│ 3   ┆ z     │\n",
      "└─────┴───────┘\n"
     ]
    }
   ],
   "source": [
    "diccionario = {'id': [1,2,3], 'letra': ['x', 'y', 'z']}\n",
    "\n",
    "df_diccionario = pl.from_dict(diccionario)\n",
    "\n",
    "print(df_diccionario)"
   ]
  },
  {
   "cell_type": "markdown",
   "id": "0c0ec065-c0bd-44a6-99a6-cc89c1ceeeec",
   "metadata": {},
   "source": [
    "## Crear un DataFrame de Polars desde su representación String\n",
    "\n",
    "La función `from_repr` permite crear un DataFrame de Polars a partir de su representación string.\n",
    "\n",
    "Para este ejemplo tomaremos el DataFrame que hemos imprimido en la celda anterior y se lo proporcionaremos como parámetro a la función `from_repr`."
   ]
  },
  {
   "cell_type": "code",
   "execution_count": 10,
   "id": "5beff6ec-ae14-462b-8677-18315be5f2c7",
   "metadata": {
    "tags": []
   },
   "outputs": [],
   "source": [
    "df_str = pl.from_repr(\n",
    "    \"\"\"\n",
    "    shape: (3, 2)\n",
    "┌─────┬───────┐\n",
    "│ id  ┆ letra │\n",
    "│ --- ┆ ---   │\n",
    "│ i64 ┆ str   │\n",
    "╞═════╪═══════╡\n",
    "│ 1   ┆ x     │\n",
    "│ 2   ┆ y     │\n",
    "│ 3   ┆ z     │\n",
    "└─────┴───────┘\n",
    "    \"\"\"\n",
    ")"
   ]
  },
  {
   "cell_type": "code",
   "execution_count": 11,
   "id": "d290aa55-d480-4d9b-906d-3180bb3be070",
   "metadata": {
    "tags": []
   },
   "outputs": [
    {
     "name": "stdout",
     "output_type": "stream",
     "text": [
      "shape: (3, 2)\n",
      "┌─────┬───────┐\n",
      "│ id  ┆ letra │\n",
      "│ --- ┆ ---   │\n",
      "│ i64 ┆ str   │\n",
      "╞═════╪═══════╡\n",
      "│ 1   ┆ x     │\n",
      "│ 2   ┆ y     │\n",
      "│ 3   ┆ z     │\n",
      "└─────┴───────┘\n"
     ]
    }
   ],
   "source": [
    "print(df_str)"
   ]
  }
 ],
 "metadata": {
  "kernelspec": {
   "display_name": "Python 3 (ipykernel)",
   "language": "python",
   "name": "python3"
  },
  "language_info": {
   "codemirror_mode": {
    "name": "ipython",
    "version": 3
   },
   "file_extension": ".py",
   "mimetype": "text/x-python",
   "name": "python",
   "nbconvert_exporter": "python",
   "pygments_lexer": "ipython3",
   "version": "3.9.6"
  }
 },
 "nbformat": 4,
 "nbformat_minor": 5
}
