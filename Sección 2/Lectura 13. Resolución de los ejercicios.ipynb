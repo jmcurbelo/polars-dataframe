{
 "cells": [
  {
   "cell_type": "markdown",
   "id": "b2cb2192-8508-45b5-a986-ce9de536e1c8",
   "metadata": {},
   "source": [
    "# Lectura 13: Resolución de los ejercicios"
   ]
  },
  {
   "cell_type": "markdown",
   "id": "97199778-9ed9-445b-ae20-6f71d5e1085f",
   "metadata": {},
   "source": [
    "## Ejercicio 1\n",
    "\n",
    "Empleando los conocimientos de las series de Polars estudiados responda a las siguientes preguntas."
   ]
  },
  {
   "cell_type": "markdown",
   "id": "aeb24373-1a54-4956-b1ae-007546a3d703",
   "metadata": {},
   "source": [
    "a. Cree una serie de Polars que contenga los siguientes elementos: \" uva\", \"naranjA \", \"FresA \", \"mangO\".\n",
    "\n",
    "b. Obtenga una nueva serie a partir de la serie creada en el inciso a que no tenga espacios en blanco ni al principio ni al final en sus elementos y que todos sus elementos estén en minúsculas. \n",
    "\n",
    "c. Cree una nueva serie a partir de la obtenida en el inciso b que indique verdadero o falso si el elemento de la serie termina en la letra a. \n",
    "\n",
    "d. Cree una nueva serie a partir de la obtenida en el inciso b donde todas las letras a sean sustituidas por el número 4."
   ]
  },
  {
   "cell_type": "code",
   "execution_count": null,
   "id": "5b74742c-73ff-4e42-a255-38671521ece4",
   "metadata": {
    "tags": []
   },
   "outputs": [],
   "source": [
    "import polars as pl"
   ]
  },
  {
   "cell_type": "markdown",
   "id": "fd80f8b4-5df2-4d0b-a5c5-ad650d1f5a49",
   "metadata": {},
   "source": [
    "### Inciso a"
   ]
  },
  {
   "cell_type": "code",
   "execution_count": null,
   "id": "18ce72f5-3080-48a5-9257-f1140a8ee644",
   "metadata": {
    "tags": []
   },
   "outputs": [],
   "source": [
    "s = pl.Series('frutas', [\" uva\", \"naranjA \", \"FresA \", \"mangO\"])\n",
    "\n",
    "s"
   ]
  },
  {
   "cell_type": "markdown",
   "id": "67344c66-6fa4-4972-af1a-d980a3456bd1",
   "metadata": {},
   "source": [
    "### Inciso b"
   ]
  },
  {
   "cell_type": "code",
   "execution_count": null,
   "id": "9db1563e-b0e3-432c-8f35-de078cf28130",
   "metadata": {
    "tags": []
   },
   "outputs": [],
   "source": [
    "s_b = s.str.strip_chars().str.to_lowercase()\n",
    "\n",
    "s_b"
   ]
  },
  {
   "cell_type": "markdown",
   "id": "8129830e-8994-4e80-b180-c60760e74b8e",
   "metadata": {},
   "source": [
    "### Inciso c"
   ]
  },
  {
   "cell_type": "code",
   "execution_count": null,
   "id": "558f19f8-4551-4a17-bc30-cb7b7a4a6e29",
   "metadata": {
    "tags": []
   },
   "outputs": [],
   "source": [
    "s_ter_a = s_b.str.ends_with('a')\n",
    "\n",
    "s_ter_a"
   ]
  },
  {
   "cell_type": "markdown",
   "id": "eef796aa-4163-4269-bb88-01efaed5f664",
   "metadata": {},
   "source": [
    "### Inciso d"
   ]
  },
  {
   "cell_type": "code",
   "execution_count": null,
   "id": "07ec69c6-0207-43b8-9415-141403102a63",
   "metadata": {
    "tags": []
   },
   "outputs": [],
   "source": [
    "s_4 = s_b.str.replace_all('a', 4)\n",
    "\n",
    "s_4"
   ]
  },
  {
   "cell_type": "markdown",
   "id": "e78ffbcc-adbe-428e-834d-9772f53f8017",
   "metadata": {},
   "source": [
    "## Ejercicio 2\n",
    "\n",
    "Empleando los conocimientos de las series de Polars estudiados responda a las siguientes preguntas."
   ]
  },
  {
   "cell_type": "markdown",
   "id": "6d5ea487-7a75-487e-b544-4b239e18575d",
   "metadata": {},
   "source": [
    "a. Cree una serie de Polars con los siguientes elementos: 6, 6, 3, 23, 20, 12, 2, 15.\n",
    "\n",
    "b. Halle el máximo, el mínimo, el promedio y la suma de la serie.\n",
    "\n",
    "c. Cree una función de Python de nombre factorial que reciba como parámetro un entero n mayor o igual a cero y devuelva como resultado el factorial de n. Utilice una serie de Polars para calcular el factorial."
   ]
  },
  {
   "cell_type": "markdown",
   "id": "0ad20f12-e925-48a3-99bd-935092e354d3",
   "metadata": {},
   "source": [
    "### Inciso a"
   ]
  },
  {
   "cell_type": "code",
   "execution_count": null,
   "id": "9d961489-0643-41e4-9ad5-77b24d029ee8",
   "metadata": {
    "tags": []
   },
   "outputs": [],
   "source": [
    "s = pl.Series('num', [6, 6, 3, 23, 20, 12, 2, 15])"
   ]
  },
  {
   "cell_type": "markdown",
   "id": "096c2e5e-316a-490b-816d-8ee1263604d4",
   "metadata": {},
   "source": [
    "### Inciso b"
   ]
  },
  {
   "cell_type": "code",
   "execution_count": null,
   "id": "5c13f3fe-7ce6-4c61-9a69-c0ecec51616c",
   "metadata": {
    "tags": []
   },
   "outputs": [],
   "source": [
    "print('El máximo es {}'.format(s.max()))\n",
    "\n",
    "print('El mínimo es {}'.format(s.min()))\n",
    "\n",
    "print('El promedio es {}'.format(s.mean()))"
   ]
  },
  {
   "cell_type": "markdown",
   "id": "d0c8ebd3-6f7c-4f84-bad4-ef1ca2a33458",
   "metadata": {},
   "source": [
    "### Inciso c"
   ]
  },
  {
   "cell_type": "code",
   "execution_count": null,
   "id": "f6b7e9ae-09c1-4a2e-b890-d049ac23c7e8",
   "metadata": {
    "tags": []
   },
   "outputs": [],
   "source": [
    "def factorial(n: int) -> int:\n",
    "    \n",
    "    if n == 0:\n",
    "        \n",
    "        return 1\n",
    "    \n",
    "    else:\n",
    "        \n",
    "        s = pl.Series('num', list(range(1, n + 1)))\n",
    "        \n",
    "        return s.product()\n",
    "        "
   ]
  },
  {
   "cell_type": "code",
   "execution_count": null,
   "id": "c9b7e10d-e0d6-4aae-9a9d-677b23738c25",
   "metadata": {
    "tags": []
   },
   "outputs": [],
   "source": [
    "factorial(0)"
   ]
  },
  {
   "cell_type": "code",
   "execution_count": null,
   "id": "19fd16fb-3a81-46e2-a2b5-4b18da996bb0",
   "metadata": {
    "tags": []
   },
   "outputs": [],
   "source": [
    "factorial(1)"
   ]
  },
  {
   "cell_type": "code",
   "execution_count": null,
   "id": "e1f2ea1a-50e3-49f8-b8d3-dd1ae30c0038",
   "metadata": {
    "tags": []
   },
   "outputs": [],
   "source": [
    "factorial(3)"
   ]
  },
  {
   "cell_type": "code",
   "execution_count": null,
   "id": "5083f965-67d0-4d55-be61-139a4f6d79d9",
   "metadata": {
    "tags": []
   },
   "outputs": [],
   "source": [
    "factorial(5)"
   ]
  },
  {
   "cell_type": "code",
   "execution_count": null,
   "id": "17c36e31-2dfe-4558-a4c8-1712f4cf2847",
   "metadata": {
    "tags": []
   },
   "outputs": [],
   "source": [
    "1*2*3*4*5"
   ]
  }
 ],
 "metadata": {
  "kernelspec": {
   "display_name": "Python 3 (ipykernel)",
   "language": "python",
   "name": "python3"
  },
  "language_info": {
   "codemirror_mode": {
    "name": "ipython",
    "version": 3
   },
   "file_extension": ".py",
   "mimetype": "text/x-python",
   "name": "python",
   "nbconvert_exporter": "python",
   "pygments_lexer": "ipython3",
   "version": "3.9.6"
  }
 },
 "nbformat": 4,
 "nbformat_minor": 5
}
