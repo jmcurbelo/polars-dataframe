{
 "cells": [
  {
   "cell_type": "markdown",
   "id": "89f62ddd-3e5f-41f0-9018-14cc0a4ab43f",
   "metadata": {},
   "source": [
    "# Lectura 11: Series - Conversiones"
   ]
  },
  {
   "cell_type": "markdown",
   "id": "38cfd00a-da02-4378-b692-b2b2cb4174c0",
   "metadata": {},
   "source": [
    "### Convertir una serie a un arreglo de tipo Arrow"
   ]
  },
  {
   "cell_type": "code",
   "execution_count": 1,
   "id": "6344fc5a-8090-45ff-9bf0-722db004bf5d",
   "metadata": {
    "tags": []
   },
   "outputs": [],
   "source": [
    "import polars as pl\n",
    "\n",
    "s1 = pl.Series('num', [1,2,3])"
   ]
  },
  {
   "cell_type": "code",
   "execution_count": 2,
   "id": "8d8951c9-6354-4eb0-a3cc-87c83543b815",
   "metadata": {
    "tags": []
   },
   "outputs": [
    {
     "data": {
      "text/plain": [
       "<pyarrow.lib.Int64Array object at 0x1098d8e20>\n",
       "[\n",
       "  1,\n",
       "  2,\n",
       "  3\n",
       "]"
      ]
     },
     "execution_count": 2,
     "metadata": {},
     "output_type": "execute_result"
    }
   ],
   "source": [
    "s_arrow = s1.to_arrow()\n",
    "\n",
    "s_arrow"
   ]
  },
  {
   "cell_type": "code",
   "execution_count": 3,
   "id": "1b7479a0-e102-4948-84d8-2d272547bf8b",
   "metadata": {
    "tags": []
   },
   "outputs": [
    {
     "data": {
      "text/plain": [
       "<pyarrow.lib.LargeStringArray object at 0x109944040>\n",
       "[\n",
       "  \"verde\",\n",
       "  \"negro\"\n",
       "]"
      ]
     },
     "execution_count": 3,
     "metadata": {},
     "output_type": "execute_result"
    }
   ],
   "source": [
    "s2 = pl.Series('texto', ['verde', 'negro'])\n",
    "\n",
    "s2_arrow = s2.to_arrow()\n",
    "\n",
    "s2_arrow"
   ]
  },
  {
   "cell_type": "markdown",
   "id": "1c66b59a-1d02-40bc-b741-0b67431907ed",
   "metadata": {},
   "source": [
    "### Convertir una serie a una lista de Python"
   ]
  },
  {
   "cell_type": "code",
   "execution_count": 4,
   "id": "5e3f7354-6b0f-4d1c-ae31-173c567e10c6",
   "metadata": {
    "tags": []
   },
   "outputs": [
    {
     "name": "stdout",
     "output_type": "stream",
     "text": [
      "<class 'list'>\n"
     ]
    },
    {
     "data": {
      "text/plain": [
       "[1, 2, 3]"
      ]
     },
     "execution_count": 4,
     "metadata": {},
     "output_type": "execute_result"
    }
   ],
   "source": [
    "s1_list = s1.to_list()\n",
    "\n",
    "print(type(s1_list))\n",
    "\n",
    "s1_list"
   ]
  },
  {
   "cell_type": "markdown",
   "id": "9e9a2446-abc3-46f2-a794-9a8002926bef",
   "metadata": {},
   "source": [
    "### Convertir una serie a Numpy"
   ]
  },
  {
   "cell_type": "code",
   "execution_count": 5,
   "id": "1c72d4f9-21e9-4650-a0bd-4d9492efb0e2",
   "metadata": {
    "tags": []
   },
   "outputs": [
    {
     "name": "stdout",
     "output_type": "stream",
     "text": [
      "int64\n"
     ]
    },
    {
     "data": {
      "text/plain": [
       "array([1, 2, 3])"
      ]
     },
     "execution_count": 5,
     "metadata": {},
     "output_type": "execute_result"
    }
   ],
   "source": [
    "s1_numpy = s1.to_numpy()\n",
    "\n",
    "print(s1_numpy.dtype)\n",
    "\n",
    "s1_numpy"
   ]
  },
  {
   "cell_type": "markdown",
   "id": "af2f751a-4393-4945-952a-08ad66408c7c",
   "metadata": {},
   "source": [
    "### Convertir una serie de Polars a una serie de Pandas"
   ]
  },
  {
   "cell_type": "markdown",
   "id": "25ed0694-ea72-4b01-839e-78d792de50bc",
   "metadata": {},
   "source": [
    "Esta operación requiere que `panda` y `pyarrow` estén instalados."
   ]
  },
  {
   "cell_type": "code",
   "execution_count": 6,
   "id": "90ab13e7-4f9c-43d6-99cc-62b1857b159c",
   "metadata": {
    "tags": []
   },
   "outputs": [
    {
     "name": "stdout",
     "output_type": "stream",
     "text": [
      "int64\n"
     ]
    },
    {
     "data": {
      "text/plain": [
       "0    1\n",
       "1    2\n",
       "2    3\n",
       "Name: num, dtype: int64"
      ]
     },
     "execution_count": 6,
     "metadata": {},
     "output_type": "execute_result"
    }
   ],
   "source": [
    "s1_pandas = s1.to_pandas()\n",
    "\n",
    "print(s1_pandas.dtype)\n",
    "\n",
    "s1_pandas"
   ]
  },
  {
   "cell_type": "markdown",
   "id": "046f1f20-10b0-49bf-b1e8-4bfeefceff54",
   "metadata": {},
   "source": [
    "### Castear una serie de Polars a una DataFrame de Polars"
   ]
  },
  {
   "cell_type": "code",
   "execution_count": 7,
   "id": "35c3ebd6-6838-4583-adeb-2fbfe1733368",
   "metadata": {
    "tags": []
   },
   "outputs": [
    {
     "data": {
      "text/html": [
       "<div><style>\n",
       ".dataframe > thead > tr,\n",
       ".dataframe > tbody > tr {\n",
       "  text-align: right;\n",
       "  white-space: pre-wrap;\n",
       "}\n",
       "</style>\n",
       "<small>shape: (3, 1)</small><table border=\"1\" class=\"dataframe\"><thead><tr><th>num</th></tr><tr><td>i64</td></tr></thead><tbody><tr><td>1</td></tr><tr><td>2</td></tr><tr><td>3</td></tr></tbody></table></div>"
      ],
      "text/plain": [
       "shape: (3, 1)\n",
       "┌─────┐\n",
       "│ num │\n",
       "│ --- │\n",
       "│ i64 │\n",
       "╞═════╡\n",
       "│ 1   │\n",
       "│ 2   │\n",
       "│ 3   │\n",
       "└─────┘"
      ]
     },
     "execution_count": 7,
     "metadata": {},
     "output_type": "execute_result"
    }
   ],
   "source": [
    "s1_df = s1.to_frame()\n",
    "\n",
    "s1_df"
   ]
  }
 ],
 "metadata": {
  "kernelspec": {
   "display_name": "Python 3 (ipykernel)",
   "language": "python",
   "name": "python3"
  },
  "language_info": {
   "codemirror_mode": {
    "name": "ipython",
    "version": 3
   },
   "file_extension": ".py",
   "mimetype": "text/x-python",
   "name": "python",
   "nbconvert_exporter": "python",
   "pygments_lexer": "ipython3",
   "version": "3.9.6"
  }
 },
 "nbformat": 4,
 "nbformat_minor": 5
}
