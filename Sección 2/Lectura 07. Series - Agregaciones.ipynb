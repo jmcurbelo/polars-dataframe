{
 "cells": [
  {
   "cell_type": "markdown",
   "id": "f747f7d3-875f-4b1b-9afe-49fc92859fdc",
   "metadata": {},
   "source": [
    "# Lectura 07: Series - Agregaciones"
   ]
  },
  {
   "cell_type": "markdown",
   "id": "5d7ece3f-cdb8-421e-9dbf-f6ae14e94ea3",
   "metadata": {},
   "source": [
    "### Agregaciones"
   ]
  },
  {
   "cell_type": "markdown",
   "id": "07531b41-747d-4140-ac73-dc3eb47b853d",
   "metadata": {},
   "source": [
    "A continuación veremos algunos de los métodos que podemos aplicar sobre una serie de Polars y que están dentro de la categoría de Agregaciones."
   ]
  },
  {
   "cell_type": "code",
   "execution_count": null,
   "id": "0db787e3-2c2d-4819-938f-86b71fd6589d",
   "metadata": {
    "tags": []
   },
   "outputs": [],
   "source": [
    "import polars as pl"
   ]
  },
  {
   "cell_type": "code",
   "execution_count": null,
   "id": "666549bf-24a7-4bff-aab4-91b281880ea5",
   "metadata": {
    "tags": []
   },
   "outputs": [],
   "source": [
    "s1 = pl.Series('num', [1,2,3,4,5,6,7])"
   ]
  },
  {
   "cell_type": "markdown",
   "id": "19785086-81a5-49cf-ada5-5d0012257b41",
   "metadata": {},
   "source": [
    "### Mínimo y máximo"
   ]
  },
  {
   "cell_type": "code",
   "execution_count": null,
   "id": "faac1188-5b09-40be-aa15-5eb3b28f697f",
   "metadata": {
    "tags": []
   },
   "outputs": [],
   "source": [
    "s1.min()"
   ]
  },
  {
   "cell_type": "code",
   "execution_count": null,
   "id": "c28dbadd-6fe5-43a9-bf3e-0ae6049b315f",
   "metadata": {
    "tags": []
   },
   "outputs": [],
   "source": [
    "s1.max()"
   ]
  },
  {
   "cell_type": "markdown",
   "id": "c7d00c54-0a34-42f3-a0f1-b4bd4176a1fb",
   "metadata": {},
   "source": [
    "### Media, mediana y moda"
   ]
  },
  {
   "cell_type": "code",
   "execution_count": null,
   "id": "5ab17732-0c93-4953-bcd4-a71cffbd9520",
   "metadata": {
    "tags": []
   },
   "outputs": [],
   "source": [
    "s1.mean()"
   ]
  },
  {
   "cell_type": "code",
   "execution_count": null,
   "id": "795b294e-f0e0-4e45-ba0c-6d669c22b3dc",
   "metadata": {
    "tags": []
   },
   "outputs": [],
   "source": [
    "s1.median()"
   ]
  },
  {
   "cell_type": "code",
   "execution_count": null,
   "id": "65e0c852-d740-40c7-a99e-6868c4339f23",
   "metadata": {
    "tags": []
   },
   "outputs": [],
   "source": [
    "s2 = pl.Series(\"num\", [2,2,1,4,4,4,5])\n",
    "\n",
    "s2.mode()"
   ]
  },
  {
   "cell_type": "markdown",
   "id": "1868fd35-cf58-4025-af30-8334412d565d",
   "metadata": {},
   "source": [
    "### Suma y Producto"
   ]
  },
  {
   "cell_type": "code",
   "execution_count": null,
   "id": "6d2f977a-add7-4d2f-98b0-78494ffd5574",
   "metadata": {
    "tags": []
   },
   "outputs": [],
   "source": [
    "s1.sum()"
   ]
  },
  {
   "cell_type": "code",
   "execution_count": null,
   "id": "787f880c-053b-405f-9c2a-e582cddd5b1b",
   "metadata": {
    "tags": []
   },
   "outputs": [],
   "source": [
    "s1.product()"
   ]
  },
  {
   "cell_type": "markdown",
   "id": "9a8d1ad6-da13-4a10-8622-7c7186ef9f44",
   "metadata": {},
   "source": [
    "### Varianza y desviación estándar"
   ]
  },
  {
   "cell_type": "code",
   "execution_count": null,
   "id": "edb8f119-c4d5-4abf-8e12-f58fba2e6cae",
   "metadata": {
    "tags": []
   },
   "outputs": [],
   "source": [
    "s1.var()"
   ]
  },
  {
   "cell_type": "code",
   "execution_count": null,
   "id": "426688c3-f2eb-4868-9af2-1a62365e12f3",
   "metadata": {
    "tags": []
   },
   "outputs": [],
   "source": [
    "s1.std()"
   ]
  },
  {
   "cell_type": "markdown",
   "id": "c3c11b27-295b-4206-a7d9-0b1b74961ed0",
   "metadata": {},
   "source": [
    "### Obtener el índice del mayor y el menor valor"
   ]
  },
  {
   "cell_type": "code",
   "execution_count": null,
   "id": "c5f4c088-ef80-4b33-9437-06c387379c20",
   "metadata": {
    "tags": []
   },
   "outputs": [],
   "source": [
    "print(s1.arg_max())\n",
    "print(s1.arg_min())"
   ]
  },
  {
   "cell_type": "markdown",
   "id": "10814b25-75a9-49e3-953d-851a197af448",
   "metadata": {},
   "source": [
    "### Agregar los valores de una serie a una lista"
   ]
  },
  {
   "cell_type": "code",
   "execution_count": null,
   "id": "8697b8ff-88ad-4b3b-b986-e57987d8bfce",
   "metadata": {
    "tags": []
   },
   "outputs": [],
   "source": [
    "s1.implode()"
   ]
  }
 ],
 "metadata": {
  "kernelspec": {
   "display_name": "Python 3 (ipykernel)",
   "language": "python",
   "name": "python3"
  },
  "language_info": {
   "codemirror_mode": {
    "name": "ipython",
    "version": 3
   },
   "file_extension": ".py",
   "mimetype": "text/x-python",
   "name": "python",
   "nbconvert_exporter": "python",
   "pygments_lexer": "ipython3",
   "version": "3.9.6"
  }
 },
 "nbformat": 4,
 "nbformat_minor": 5
}
