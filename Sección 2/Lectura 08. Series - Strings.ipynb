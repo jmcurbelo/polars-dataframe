{
 "cells": [
  {
   "cell_type": "markdown",
   "id": "b1b9987e-6905-4664-8068-ef98c6be2e8b",
   "metadata": {},
   "source": [
    "# Lectura 08: Series - Strings"
   ]
  },
  {
   "cell_type": "markdown",
   "id": "0a32058d-4764-4a8d-bf1d-fdf135b0912a",
   "metadata": {},
   "source": [
    "Los siguientes métodos están disponibles bajo el atributo `Series.str`"
   ]
  },
  {
   "cell_type": "markdown",
   "id": "e901873f-c70f-4200-bcde-8ec0f2c07073",
   "metadata": {},
   "source": [
    "### Concatenar"
   ]
  },
  {
   "cell_type": "code",
   "execution_count": null,
   "id": "744e6d9f-dfd1-4633-b6a3-66961111d2cf",
   "metadata": {
    "tags": []
   },
   "outputs": [],
   "source": [
    "import polars as pl"
   ]
  },
  {
   "cell_type": "code",
   "execution_count": null,
   "id": "2a78df8e-850a-4d8f-b76c-7c7aad0e12ac",
   "metadata": {
    "tags": []
   },
   "outputs": [],
   "source": [
    "s1 = pl.Series('texto', ['Polars', 'es', 'rápidooo'])"
   ]
  },
  {
   "cell_type": "code",
   "execution_count": null,
   "id": "7f96520d-5abc-4660-b5db-92f89561643e",
   "metadata": {
    "tags": []
   },
   "outputs": [],
   "source": [
    "s1.str.concat()"
   ]
  },
  {
   "cell_type": "markdown",
   "id": "d9f63a9c-ffa9-470f-9613-d7aabc05c8cb",
   "metadata": {},
   "source": [
    "Concatenar con un delimitador personalizado"
   ]
  },
  {
   "cell_type": "code",
   "execution_count": null,
   "id": "7f685cc6-abe8-4ee9-9dea-542822c93b78",
   "metadata": {
    "tags": []
   },
   "outputs": [],
   "source": [
    "s1.str.concat(' ')"
   ]
  },
  {
   "cell_type": "markdown",
   "id": "78e0426d-b82a-4d76-8c20-51331dd2c059",
   "metadata": {},
   "source": [
    "### Reemplazo\n",
    "\n",
    "`replace` reemplaza la primera coincidencia de la serie"
   ]
  },
  {
   "cell_type": "code",
   "execution_count": null,
   "id": "4404160e-bb6b-4897-8e35-51162bc3db84",
   "metadata": {
    "tags": []
   },
   "outputs": [],
   "source": [
    "s1.str.replace('es', 'es muy')"
   ]
  },
  {
   "cell_type": "code",
   "execution_count": null,
   "id": "aa186cdc-a119-44f6-bcdf-3c0a21903612",
   "metadata": {
    "tags": []
   },
   "outputs": [],
   "source": [
    "s1.str.replace('^P', 'Y')"
   ]
  },
  {
   "cell_type": "markdown",
   "id": "cb644e31-cd9b-492c-8704-b656069b241a",
   "metadata": {},
   "source": [
    "`replace_all` reeplaza todas las coincidencias que encuentre en la serie"
   ]
  },
  {
   "cell_type": "code",
   "execution_count": null,
   "id": "e18d28b3-521b-4dea-977b-d4af2371d00b",
   "metadata": {
    "tags": []
   },
   "outputs": [],
   "source": [
    "s1.str.replace('o', '=')"
   ]
  },
  {
   "cell_type": "code",
   "execution_count": null,
   "id": "642ff686-4451-4ff2-88a1-e3524ce8a5ba",
   "metadata": {
    "tags": []
   },
   "outputs": [],
   "source": [
    "s1.str.replace_all('o', '=')"
   ]
  },
  {
   "cell_type": "markdown",
   "id": "d2387784-ec08-4621-831e-25c6d62f5caa",
   "metadata": {},
   "source": [
    "### Remover espacios a la izquierza y a la derecha"
   ]
  },
  {
   "cell_type": "code",
   "execution_count": null,
   "id": "776ed8a9-8f29-46eb-b2d5-de6fa7a0eec9",
   "metadata": {
    "tags": []
   },
   "outputs": [],
   "source": [
    "s2 = pl.Series('texto', ['   jose', 'julia '])"
   ]
  },
  {
   "cell_type": "code",
   "execution_count": null,
   "id": "a1601e09-0030-414c-bceb-43bfbe76a6da",
   "metadata": {
    "tags": []
   },
   "outputs": [],
   "source": [
    "s2.str.strip_chars_start()"
   ]
  },
  {
   "cell_type": "code",
   "execution_count": null,
   "id": "68f27187-232f-48b3-a96d-12efa4fe8ff3",
   "metadata": {
    "tags": []
   },
   "outputs": [],
   "source": [
    "s2.str.strip_chars_end()"
   ]
  },
  {
   "cell_type": "code",
   "execution_count": null,
   "id": "a52ab2d2-246e-4f61-adca-785a83afde44",
   "metadata": {
    "tags": []
   },
   "outputs": [],
   "source": [
    "s2.str.strip_chars()"
   ]
  },
  {
   "cell_type": "markdown",
   "id": "7e8304a5-f306-4cbb-ba13-5812fb209cbd",
   "metadata": {},
   "source": [
    "### Verificar si un string comienza o termina con un valor"
   ]
  },
  {
   "cell_type": "code",
   "execution_count": null,
   "id": "2c2f5162-b712-435d-b8be-99f0d949a0df",
   "metadata": {
    "tags": []
   },
   "outputs": [],
   "source": [
    "s3 = pl.Series('color', ['verde', 'azul', 'rojo'])\n",
    "\n",
    "s3.str.starts_with('r')"
   ]
  },
  {
   "cell_type": "code",
   "execution_count": null,
   "id": "ffeb2279-aaa2-4a66-a649-8a2b437a7e18",
   "metadata": {
    "tags": []
   },
   "outputs": [],
   "source": [
    "s3.str.ends_with('l')"
   ]
  },
  {
   "cell_type": "markdown",
   "id": "086f3663-cd90-44d1-8976-c937c3880d88",
   "metadata": {},
   "source": [
    "### Longitud de un string"
   ]
  },
  {
   "cell_type": "code",
   "execution_count": null,
   "id": "4642ce75-aa74-443d-84a0-5271c9cdaa77",
   "metadata": {
    "tags": []
   },
   "outputs": [],
   "source": [
    "s3.str.len_bytes()"
   ]
  },
  {
   "cell_type": "markdown",
   "id": "80ba0aa5-644e-4424-9276-3acfc0f73235",
   "metadata": {},
   "source": [
    "### Convertie a mayúsculas y minúsculas"
   ]
  },
  {
   "cell_type": "code",
   "execution_count": null,
   "id": "9d2471e0-0be9-4dec-8e01-ffa577a9d6c2",
   "metadata": {
    "tags": []
   },
   "outputs": [],
   "source": [
    "s4 = pl.Series('texto', ['JOSE', 'Jose', 'jose'])"
   ]
  },
  {
   "cell_type": "code",
   "execution_count": null,
   "id": "1cde4df0-7ed7-436c-91ac-721112e4cf56",
   "metadata": {
    "tags": []
   },
   "outputs": [],
   "source": [
    "s4.str.to_uppercase()"
   ]
  },
  {
   "cell_type": "code",
   "execution_count": null,
   "id": "bf97c71d-1d56-4fdc-8e0d-649580075d2b",
   "metadata": {
    "tags": []
   },
   "outputs": [],
   "source": [
    "s4.str.to_lowercase()"
   ]
  }
 ],
 "metadata": {
  "kernelspec": {
   "display_name": "Python 3 (ipykernel)",
   "language": "python",
   "name": "python3"
  },
  "language_info": {
   "codemirror_mode": {
    "name": "ipython",
    "version": 3
   },
   "file_extension": ".py",
   "mimetype": "text/x-python",
   "name": "python",
   "nbconvert_exporter": "python",
   "pygments_lexer": "ipython3",
   "version": "3.9.6"
  }
 },
 "nbformat": 4,
 "nbformat_minor": 5
}
