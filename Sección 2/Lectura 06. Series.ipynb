{
 "cells": [
  {
   "cell_type": "markdown",
   "id": "bfcbe019-cdb6-4ccd-8dc7-b98e3d520c9e",
   "metadata": {},
   "source": [
    "# Lectura 05: Presentación del repositorio GitHub del curso"
   ]
  },
  {
   "cell_type": "markdown",
   "id": "9f15f125-327e-416b-beba-3ce12fae4567",
   "metadata": {},
   "source": [
    "## ¿Qué es una serie en Polars?\n",
    "\n",
    "Las series son una estructura de datos unidimensional. Dentro de una serie, todos los elementos tienen el mismo tipo de datos (por ejemplo, int, string). "
   ]
  },
  {
   "cell_type": "markdown",
   "id": "7a50e5fb-c0f2-42bd-b462-bea6fa592a98",
   "metadata": {},
   "source": [
    "## ¿Cómo crear una Serie?"
   ]
  },
  {
   "cell_type": "code",
   "execution_count": null,
   "id": "774988a3-14f0-43ed-a8b9-75120062eec2",
   "metadata": {
    "tags": []
   },
   "outputs": [],
   "source": [
    "import polars as pl\n",
    "\n",
    "s1 = pl.Series('num', [1,2,3,4,5,6,7])\n",
    "\n",
    "print(s1)"
   ]
  },
  {
   "cell_type": "markdown",
   "id": "c7feaee4-7d40-442f-b732-f5eaebae481a",
   "metadata": {},
   "source": [
    "Note como el tipo de datos de la serie es inferido por polars como `i64`"
   ]
  },
  {
   "cell_type": "markdown",
   "id": "9bafbab6-e442-4839-8ca8-212f7adbb85d",
   "metadata": {},
   "source": [
    "## Crear una Serie indicando el tipo de datos"
   ]
  },
  {
   "cell_type": "code",
   "execution_count": null,
   "id": "428857c1-7b5c-4dd6-8897-4b2cb4b178ab",
   "metadata": {
    "tags": []
   },
   "outputs": [],
   "source": [
    "s2 = pl.Series('nombres', ['Jose', 'Laura', 'Rosa'], str)"
   ]
  },
  {
   "cell_type": "code",
   "execution_count": null,
   "id": "4aba66fd-e408-42c8-bfe8-bbfd1b7a120d",
   "metadata": {
    "tags": []
   },
   "outputs": [],
   "source": [
    "print(s2)"
   ]
  },
  {
   "cell_type": "code",
   "execution_count": null,
   "id": "155a66ad-f022-4f33-84ed-fe439b1b35a7",
   "metadata": {
    "tags": []
   },
   "outputs": [],
   "source": [
    "s3 = pl.Series(\"decimales\", [1, 2, 3], dtype=pl.Float32)\n",
    "\n",
    "print(s3)"
   ]
  }
 ],
 "metadata": {
  "kernelspec": {
   "display_name": "Python 3 (ipykernel)",
   "language": "python",
   "name": "python3"
  },
  "language_info": {
   "codemirror_mode": {
    "name": "ipython",
    "version": 3
   },
   "file_extension": ".py",
   "mimetype": "text/x-python",
   "name": "python",
   "nbconvert_exporter": "python",
   "pygments_lexer": "ipython3",
   "version": "3.9.6"
  }
 },
 "nbformat": 4,
 "nbformat_minor": 5
}
