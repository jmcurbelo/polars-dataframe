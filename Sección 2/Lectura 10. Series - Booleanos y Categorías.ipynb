{
 "cells": [
  {
   "cell_type": "markdown",
   "id": "376fcc06-a316-47ee-9037-d619d967b72c",
   "metadata": {},
   "source": [
    "# Lectura 10: Series - Booleanos y Categorías"
   ]
  },
  {
   "cell_type": "code",
   "execution_count": 1,
   "id": "f9b30752-ab26-4c76-993f-8922a7e4b778",
   "metadata": {
    "tags": []
   },
   "outputs": [],
   "source": [
    "import polars as pl\n",
    "\n",
    "s1 = pl.Series('bool', [True, True, True])\n",
    "\n",
    "s2 = pl.Series('bool', [False, True, True])\n",
    "\n",
    "s3 = pl.Series([False, False])"
   ]
  },
  {
   "cell_type": "markdown",
   "id": "8ea1bd4e-c4d6-46e4-83fd-8515be593175",
   "metadata": {},
   "source": [
    "### Verificar si todos los valores de la serie son `True`"
   ]
  },
  {
   "cell_type": "code",
   "execution_count": 2,
   "id": "85ab5a5a-1b7c-4595-a047-e88b63c2464c",
   "metadata": {
    "tags": []
   },
   "outputs": [
    {
     "data": {
      "text/plain": [
       "True"
      ]
     },
     "execution_count": 2,
     "metadata": {},
     "output_type": "execute_result"
    }
   ],
   "source": [
    "s1.all()"
   ]
  },
  {
   "cell_type": "code",
   "execution_count": 3,
   "id": "59c0f9e1-fed6-4b69-845a-d79327aa2aaa",
   "metadata": {
    "tags": []
   },
   "outputs": [
    {
     "data": {
      "text/plain": [
       "False"
      ]
     },
     "execution_count": 3,
     "metadata": {},
     "output_type": "execute_result"
    }
   ],
   "source": [
    "s2.all()"
   ]
  },
  {
   "cell_type": "markdown",
   "id": "681266cf-8336-43bd-b285-361da9c14b49",
   "metadata": {},
   "source": [
    "### Verificar si alguno de los valores de la serie es `True`"
   ]
  },
  {
   "cell_type": "code",
   "execution_count": 4,
   "id": "3d54b494-8097-43f7-bb02-a2d28ac97971",
   "metadata": {
    "tags": []
   },
   "outputs": [
    {
     "data": {
      "text/plain": [
       "True"
      ]
     },
     "execution_count": 4,
     "metadata": {},
     "output_type": "execute_result"
    }
   ],
   "source": [
    "s1.any()"
   ]
  },
  {
   "cell_type": "code",
   "execution_count": 5,
   "id": "e3ca577f-800c-424f-9e6b-f115152a0df5",
   "metadata": {
    "tags": []
   },
   "outputs": [
    {
     "data": {
      "text/plain": [
       "False"
      ]
     },
     "execution_count": 5,
     "metadata": {},
     "output_type": "execute_result"
    }
   ],
   "source": [
    "s3.any()"
   ]
  },
  {
   "cell_type": "markdown",
   "id": "0abca9c0-0373-4b66-a8b0-69a6224b3564",
   "metadata": {},
   "source": [
    "### Negar una serie booleana"
   ]
  },
  {
   "cell_type": "code",
   "execution_count": 6,
   "id": "36c99505-ed93-4e7e-bdbf-f46a00ce0e4f",
   "metadata": {
    "tags": []
   },
   "outputs": [
    {
     "data": {
      "text/html": [
       "<div><style>\n",
       ".dataframe > thead > tr,\n",
       ".dataframe > tbody > tr {\n",
       "  text-align: right;\n",
       "  white-space: pre-wrap;\n",
       "}\n",
       "</style>\n",
       "<small>shape: (2,)</small><table border=\"1\" class=\"dataframe\"><thead><tr><th></th></tr><tr><td>bool</td></tr></thead><tbody><tr><td>true</td></tr><tr><td>true</td></tr></tbody></table></div>"
      ],
      "text/plain": [
       "shape: (2,)\n",
       "Series: '' [bool]\n",
       "[\n",
       "\ttrue\n",
       "\ttrue\n",
       "]"
      ]
     },
     "execution_count": 6,
     "metadata": {},
     "output_type": "execute_result"
    }
   ],
   "source": [
    "s3.not_()"
   ]
  },
  {
   "cell_type": "markdown",
   "id": "476397ff-9112-4a1b-b0c4-aca90e6a0786",
   "metadata": {},
   "source": [
    "# Categorías"
   ]
  },
  {
   "cell_type": "code",
   "execution_count": 16,
   "id": "0f00e028-5c88-4b17-b07e-eaa83c56f7a2",
   "metadata": {
    "tags": []
   },
   "outputs": [],
   "source": [
    "s_cat = pl.Series(\n",
    "    'clientes', ['oro', 'plata', 'oro', 'bronce', 'bronce'],\n",
    "    dtype=pl.Categorical\n",
    ")"
   ]
  },
  {
   "cell_type": "markdown",
   "id": "1337c5d5-5a0f-47b1-aff3-73b7884531fb",
   "metadata": {},
   "source": [
    "### Obtener las categorías de la serie"
   ]
  },
  {
   "cell_type": "code",
   "execution_count": 17,
   "id": "e18b616e-8730-48ca-ab1b-2809afe5c5c8",
   "metadata": {
    "tags": []
   },
   "outputs": [
    {
     "data": {
      "text/html": [
       "<div><style>\n",
       ".dataframe > thead > tr,\n",
       ".dataframe > tbody > tr {\n",
       "  text-align: right;\n",
       "  white-space: pre-wrap;\n",
       "}\n",
       "</style>\n",
       "<small>shape: (3,)</small><table border=\"1\" class=\"dataframe\"><thead><tr><th>clientes</th></tr><tr><td>str</td></tr></thead><tbody><tr><td>&quot;oro&quot;</td></tr><tr><td>&quot;plata&quot;</td></tr><tr><td>&quot;bronce&quot;</td></tr></tbody></table></div>"
      ],
      "text/plain": [
       "shape: (3,)\n",
       "Series: 'clientes' [str]\n",
       "[\n",
       "\t\"oro\"\n",
       "\t\"plata\"\n",
       "\t\"bronce\"\n",
       "]"
      ]
     },
     "execution_count": 17,
     "metadata": {},
     "output_type": "execute_result"
    }
   ],
   "source": [
    "s_cat.cat.get_categories()"
   ]
  },
  {
   "cell_type": "markdown",
   "id": "f57f3802-3cf0-4b6e-8e22-741e001e0e54",
   "metadata": {},
   "source": [
    "### Determinar como una serie categórica debe ser ordenada"
   ]
  },
  {
   "cell_type": "markdown",
   "id": "7ac64d2b-3c6d-44f1-9d7e-59f817f166d2",
   "metadata": {},
   "source": [
    "Si tratamos de ordenar la serie directamente obtenemos el siguiente resultado"
   ]
  },
  {
   "cell_type": "code",
   "execution_count": 18,
   "id": "18023203-954c-42b9-9539-bc997ff12a99",
   "metadata": {
    "tags": []
   },
   "outputs": [
    {
     "data": {
      "text/html": [
       "<div><style>\n",
       ".dataframe > thead > tr,\n",
       ".dataframe > tbody > tr {\n",
       "  text-align: right;\n",
       "  white-space: pre-wrap;\n",
       "}\n",
       "</style>\n",
       "<small>shape: (5,)</small><table border=\"1\" class=\"dataframe\"><thead><tr><th>clientes</th></tr><tr><td>cat</td></tr></thead><tbody><tr><td>&quot;oro&quot;</td></tr><tr><td>&quot;oro&quot;</td></tr><tr><td>&quot;plata&quot;</td></tr><tr><td>&quot;bronce&quot;</td></tr><tr><td>&quot;bronce&quot;</td></tr></tbody></table></div>"
      ],
      "text/plain": [
       "shape: (5,)\n",
       "Series: 'clientes' [cat]\n",
       "[\n",
       "\t\"oro\"\n",
       "\t\"oro\"\n",
       "\t\"plata\"\n",
       "\t\"bronce\"\n",
       "\t\"bronce\"\n",
       "]"
      ]
     },
     "execution_count": 18,
     "metadata": {},
     "output_type": "execute_result"
    }
   ],
   "source": [
    "s_cat.sort()"
   ]
  },
  {
   "cell_type": "markdown",
   "id": "c9f0aecd-7bf9-4762-be67-90d088c5d437",
   "metadata": {},
   "source": [
    "El orden predeterminado se basa en la representación física de las categorías para determinar el orden y es la opción por defecto. Si queremos obtener un orden alfabético deberíamos cambiar esto"
   ]
  },
  {
   "cell_type": "code",
   "execution_count": 19,
   "id": "8286cb94-81b9-435c-a94f-e94655e0b3f4",
   "metadata": {
    "tags": []
   },
   "outputs": [
    {
     "name": "stderr",
     "output_type": "stream",
     "text": [
      "/var/folders/44/cd4ysnrs1zvgk8nff92w71lw0000gn/T/ipykernel_4303/629675302.py:1: DeprecationWarning: `set_ordering` is deprecated. Set the ordering directly on the datatype `pl.Categorical('lexical')` or `pl.Categorical('physical')` or `cast()` to the intended data type. This method will be removed in the next breaking change\n",
      "  s_cat_lexical = s_cat.cat.set_ordering('lexical')\n"
     ]
    },
    {
     "data": {
      "text/html": [
       "<div><style>\n",
       ".dataframe > thead > tr,\n",
       ".dataframe > tbody > tr {\n",
       "  text-align: right;\n",
       "  white-space: pre-wrap;\n",
       "}\n",
       "</style>\n",
       "<small>shape: (5,)</small><table border=\"1\" class=\"dataframe\"><thead><tr><th>clientes</th></tr><tr><td>cat</td></tr></thead><tbody><tr><td>&quot;bronce&quot;</td></tr><tr><td>&quot;bronce&quot;</td></tr><tr><td>&quot;oro&quot;</td></tr><tr><td>&quot;oro&quot;</td></tr><tr><td>&quot;plata&quot;</td></tr></tbody></table></div>"
      ],
      "text/plain": [
       "shape: (5,)\n",
       "Series: 'clientes' [cat]\n",
       "[\n",
       "\t\"bronce\"\n",
       "\t\"bronce\"\n",
       "\t\"oro\"\n",
       "\t\"oro\"\n",
       "\t\"plata\"\n",
       "]"
      ]
     },
     "execution_count": 19,
     "metadata": {},
     "output_type": "execute_result"
    }
   ],
   "source": [
    "s_cat_lexical = s_cat.cat.set_ordering('lexical')\n",
    "\n",
    "s_cat_lexical\n",
    "\n",
    "s_cat_lexical.sort()"
   ]
  },
  {
   "cell_type": "markdown",
   "id": "4a6f3c99-c0e4-43e5-a894-3c80ffdbcbc8",
   "metadata": {},
   "source": [
    "Si deseamos saber cual es el orden que se está empleando para ordenar la serie de tipo categórica podemos utilizar el siguiente método"
   ]
  },
  {
   "cell_type": "code",
   "execution_count": 20,
   "id": "e0bd3b34-8ebc-4eac-830b-d82009b4dfe6",
   "metadata": {
    "tags": []
   },
   "outputs": [
    {
     "data": {
      "text/plain": [
       "True"
      ]
     },
     "execution_count": 20,
     "metadata": {},
     "output_type": "execute_result"
    }
   ],
   "source": [
    "s_cat.cat.uses_lexical_ordering()\n",
    "\n",
    "s_cat_lexical.cat.uses_lexical_ordering()"
   ]
  }
 ],
 "metadata": {
  "kernelspec": {
   "display_name": "Python 3 (ipykernel)",
   "language": "python",
   "name": "python3"
  },
  "language_info": {
   "codemirror_mode": {
    "name": "ipython",
    "version": 3
   },
   "file_extension": ".py",
   "mimetype": "text/x-python",
   "name": "python",
   "nbconvert_exporter": "python",
   "pygments_lexer": "ipython3",
   "version": "3.9.6"
  }
 },
 "nbformat": 4,
 "nbformat_minor": 5
}
